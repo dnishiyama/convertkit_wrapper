{
 "cells": [
  {
   "cell_type": "code",
   "execution_count": 1,
   "metadata": {
    "ExecuteTime": {
     "end_time": "2019-07-26T14:41:56.334545Z",
     "start_time": "2019-07-26T14:41:54.890471Z"
    }
   },
   "outputs": [],
   "source": [
    "import sys\n",
    "sys.path.append('/Users/nish/Local/Programming/convertkit_wrapper')\n",
    "from modules.ck_utils import *"
   ]
  },
  {
   "cell_type": "code",
   "execution_count": 2,
   "metadata": {
    "ExecuteTime": {
     "end_time": "2019-07-26T14:41:57.278338Z",
     "start_time": "2019-07-26T14:41:57.150376Z"
    }
   },
   "outputs": [],
   "source": [
    "conn,cursor = connect(db='ck_info')"
   ]
  },
  {
   "cell_type": "code",
   "execution_count": 5,
   "metadata": {
    "ExecuteTime": {
     "end_time": "2019-07-26T14:49:48.345417Z",
     "start_time": "2019-07-26T14:49:48.316053Z"
    }
   },
   "outputs": [
    {
     "data": {
      "text/plain": [
       "[{'evidence': '1bossybunny@gmail.com',\n",
       "  'use_time': datetime.datetime(2019, 7, 19, 14, 43)},\n",
       " {'evidence': 'bethspencerforever@gmail.com',\n",
       "  'use_time': datetime.datetime(2019, 7, 21, 12, 56)},\n",
       " {'evidence': 'declan 2@mightcouldstudios.com',\n",
       "  'use_time': datetime.datetime(2019, 7, 24, 14, 30, 55)},\n",
       " {'evidence': 'declan@mightcouldstudios.com',\n",
       "  'use_time': datetime.datetime(2019, 7, 22, 16, 23, 11)},\n",
       " {'evidence': 'dnishiyama test2@gmail.com',\n",
       "  'use_time': datetime.datetime(2019, 7, 22, 18, 3, 49)},\n",
       " {'evidence': 'howellburnell@gmail.com',\n",
       "  'use_time': datetime.datetime(2019, 7, 17, 13, 27)},\n",
       " {'evidence': 'kingjulie65@icloud.com',\n",
       "  'use_time': datetime.datetime(2019, 7, 22, 11, 5)},\n",
       " {'evidence': 'rotxro@gmail.com',\n",
       "  'use_time': datetime.datetime(2019, 7, 20, 13, 58)},\n",
       " {'evidence': 'sarahjoydrake@gmail.com',\n",
       "  'use_time': datetime.datetime(2019, 7, 17, 12, 11)}]"
      ]
     },
     "execution_count": 5,
     "metadata": {},
     "output_type": "execute_result"
    }
   ],
   "source": [
    "cursor.execute('SELECT * FROM stsbc_link_users'); cursor.fetchall()"
   ]
  },
  {
   "cell_type": "code",
   "execution_count": null,
   "metadata": {
    "ExecuteTime": {
     "end_time": "2019-07-22T16:20:11.261446Z",
     "start_time": "2019-07-22T16:20:11.163506Z"
    }
   },
   "outputs": [],
   "source": [
    "# cursor.execute('SHOW TABLES;'); cursor.fetchall()\n",
    "cursor.execute('DROP TABLE IF EXISTS stsbc_link_users')\n",
    "cursor.execute(\"\"\"\n",
    "    CREATE TABLE `stsbc_link_users` (\n",
    "      `evidence` VARCHAR(100) NOT NULL,\n",
    "      `use_time` DATETIME,\n",
    "      PRIMARY KEY (`evidence`));\"\"\"\n",
    "    )"
   ]
  },
  {
   "cell_type": "code",
   "execution_count": null,
   "metadata": {
    "ExecuteTime": {
     "end_time": "2019-07-22T16:25:02.194591Z",
     "start_time": "2019-07-22T16:25:02.166069Z"
    }
   },
   "outputs": [],
   "source": [
    "values = [\n",
    "    ['test', datetime.now()],\n",
    "    ['kingjulie65@icloud.com', '2019-07-22 11:05:00'],\n",
    "    ['bethspencerforever@gmail.com', '2019-07-21 12:56:00'],\n",
    "    ['rotxro@gmail.com', '2019-07-20 13:58:00'], \n",
    "    ['1bossybunny@gmail.com', '2019-07-19 14:43:00'],\n",
    "    ['howellburnell@gmail.com', '2019-07-17 13:27:00'],\n",
    "    ['sarahjoydrake@gmail.com', '2019-07-17 12:11:00'],\n",
    "]; values\n",
    "cursor.executemany('INSERT INTO stsbc_link_users (`evidence`, `use_time`) VALUES (%s, %s)', values)"
   ]
  },
  {
   "cell_type": "code",
   "execution_count": null,
   "metadata": {
    "ExecuteTime": {
     "end_time": "2019-07-22T15:58:44.210130Z",
     "start_time": "2019-07-22T15:58:44.204054Z"
    }
   },
   "outputs": [],
   "source": [
    "test = {'a':2, 'b':'c'}\n",
    "test.get('c', 'b')"
   ]
  },
  {
   "cell_type": "code",
   "execution_count": 6,
   "metadata": {
    "ExecuteTime": {
     "end_time": "2019-07-22T18:05:02.622372Z",
     "start_time": "2019-07-22T18:05:02.598133Z"
    }
   },
   "outputs": [
    {
     "data": {
      "text/plain": [
       "[{'evidence': '1bossybunny@gmail.com',\n",
       "  'use_time': datetime.datetime(2019, 7, 19, 14, 43)},\n",
       " {'evidence': 'bethspencerforever@gmail.com',\n",
       "  'use_time': datetime.datetime(2019, 7, 21, 12, 56)},\n",
       " {'evidence': 'declan@mightcouldstudios.com',\n",
       "  'use_time': datetime.datetime(2019, 7, 22, 16, 23, 11)},\n",
       " {'evidence': 'dnishiyama test2@gmail.com',\n",
       "  'use_time': datetime.datetime(2019, 7, 22, 18, 3, 49)},\n",
       " {'evidence': 'howellburnell@gmail.com',\n",
       "  'use_time': datetime.datetime(2019, 7, 17, 13, 27)},\n",
       " {'evidence': 'kingjulie65@icloud.com',\n",
       "  'use_time': datetime.datetime(2019, 7, 22, 11, 5)},\n",
       " {'evidence': 'rotxro@gmail.com',\n",
       "  'use_time': datetime.datetime(2019, 7, 20, 13, 58)},\n",
       " {'evidence': 'sarahjoydrake@gmail.com',\n",
       "  'use_time': datetime.datetime(2019, 7, 17, 12, 11)}]"
      ]
     },
     "execution_count": 6,
     "metadata": {},
     "output_type": "execute_result"
    }
   ],
   "source": [
    "# cursor.execute('SELECT * FROM stsbc_link_users'); cursor.fetchall()\n",
    "# cursor.execute('DELETE FROM stsbc_link_users WHERE evidence LIKE \"test%\"')"
   ]
  },
  {
   "cell_type": "code",
   "execution_count": 8,
   "metadata": {
    "ExecuteTime": {
     "end_time": "2019-07-22T17:42:33.517228Z",
     "start_time": "2019-07-22T17:42:33.511759Z"
    }
   },
   "outputs": [
    {
     "data": {
      "text/plain": [
       "True"
      ]
     },
     "execution_count": 8,
     "metadata": {},
     "output_type": "execute_result"
    }
   ],
   "source": [
    "Out[4][-1]['use_time'] > datetime.now() - timedelta(minutes=5)"
   ]
  },
  {
   "cell_type": "code",
   "execution_count": 7,
   "metadata": {
    "ExecuteTime": {
     "end_time": "2019-07-22T18:05:12.309678Z",
     "start_time": "2019-07-22T18:05:12.279376Z"
    }
   },
   "outputs": [],
   "source": [
    "conn.commit()"
   ]
  }
 ],
 "metadata": {
  "kernelspec": {
   "display_name": "Python 3.7",
   "language": "python",
   "name": "py37"
  },
  "language_info": {
   "codemirror_mode": {
    "name": "ipython",
    "version": 3
   },
   "file_extension": ".py",
   "mimetype": "text/x-python",
   "name": "python",
   "nbconvert_exporter": "python",
   "pygments_lexer": "ipython3",
   "version": "3.7.3"
  }
 },
 "nbformat": 4,
 "nbformat_minor": 2
}
