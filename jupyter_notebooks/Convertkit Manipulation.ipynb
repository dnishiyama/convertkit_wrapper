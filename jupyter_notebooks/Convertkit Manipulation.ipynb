{
 "cells": [
  {
   "cell_type": "code",
   "execution_count": 1,
   "metadata": {
    "ExecuteTime": {
     "end_time": "2019-09-20T21:05:24.032940Z",
     "start_time": "2019-09-20T21:05:22.518072Z"
    }
   },
   "outputs": [
    {
     "name": "stdout",
     "output_type": "stream",
     "text": [
      "8/21/19 dgnutils update loaded!\n"
     ]
    }
   ],
   "source": [
    "%reload_ext autoreload\n",
    "%autoreload 2\n",
    "%matplotlib inline\n",
    "\n",
    "import sys\n",
    "from dgnutils import *\n",
    "\n",
    "sys.path.append('/Users/nish/Local/Programming/convertkit_wrapper')\n",
    "from modules.ck_utils import *\n",
    "\n",
    "session = requests.session()\n",
    "\n",
    "import matplotlib.pyplot as plt\n",
    "import reverse_geocoder as rg\n",
    "import iso3166"
   ]
  },
  {
   "cell_type": "code",
   "execution_count": 2,
   "metadata": {
    "ExecuteTime": {
     "end_time": "2019-09-20T21:05:24.199792Z",
     "start_time": "2019-09-20T21:05:24.034599Z"
    }
   },
   "outputs": [],
   "source": [
    "try: conn.close()\n",
    "except: pass\n",
    "conn, cursor = connect()"
   ]
  },
  {
   "cell_type": "code",
   "execution_count": null,
   "metadata": {
    "ExecuteTime": {
     "end_time": "2019-09-20T19:32:28.450780Z",
     "start_time": "2019-09-20T19:32:27.409137Z"
    }
   },
   "outputs": [],
   "source": [
    "# Refresher for \"Could not confirm type of CK_Api.ALL_SUBS, CK_Api.SEQ_SUBS, False\"\n",
    "from modules.ck_utils import *"
   ]
  },
  {
   "cell_type": "markdown",
   "metadata": {
    "heading_collapsed": true
   },
   "source": [
    "#### Quick tests"
   ]
  },
  {
   "cell_type": "code",
   "execution_count": null,
   "metadata": {
    "ExecuteTime": {
     "end_time": "2019-08-05T17:50:32.480569Z",
     "start_time": "2019-08-05T17:50:32.291377Z"
    },
    "hidden": true
   },
   "outputs": [],
   "source": [
    "cursor.execute('SELECT * FROM subscriber_data WHERE id = %s', 137633175); cursor.fetchall()"
   ]
  },
  {
   "cell_type": "code",
   "execution_count": null,
   "metadata": {
    "ExecuteTime": {
     "end_time": "2019-08-05T18:26:25.353952Z",
     "start_time": "2019-08-05T18:26:25.198880Z"
    },
    "hidden": true
   },
   "outputs": [],
   "source": [
    "# Update purchases where the purchase_id = the given id from the webhook\n",
    "cursor.e('SELECT * FROM purchase_data WHERE purchaser_email_address LIKE \"%wend%\"')"
   ]
  },
  {
   "cell_type": "code",
   "execution_count": null,
   "metadata": {
    "hidden": true
   },
   "outputs": [],
   "source": []
  },
  {
   "cell_type": "markdown",
   "metadata": {
    "heading_collapsed": true
   },
   "source": [
    "## Get Unsubscribers"
   ]
  },
  {
   "cell_type": "markdown",
   "metadata": {
    "heading_collapsed": true,
    "hidden": true
   },
   "source": [
    "### Loop"
   ]
  },
  {
   "cell_type": "code",
   "execution_count": null,
   "metadata": {
    "ExecuteTime": {
     "end_time": "2019-05-08T20:07:26.924424Z",
     "start_time": "2019-05-08T20:06:21.346619Z"
    },
    "hidden": true
   },
   "outputs": [],
   "source": [
    "updated_unsubs = []\n",
    "day_date = date(2019,4,20) # Start Date\n",
    "\n",
    "while day_date <= date.today():\n",
    "    \n",
    "    day = day_date.strftime(\"%Y-%m-%d\")\n",
    "    unsubs = get_new_unsub_for_day(day, exclude_updates=True)\n",
    "    \n",
    "    if unsubs:\n",
    "        time.sleep(1) # Slow down API calls\n",
    "        print(f'updating {len(unsubs)} unsubscribers for {day}')\n",
    "    \n",
    "        for unsub in unsubs:\n",
    "            updated_unsubs.append(unsub['id']) #Record updates\n",
    "            update_unsub_with_day(unsub['id'], day) #Make update\n",
    "        \n",
    "    day_date += timedelta(days=1) # Increment day"
   ]
  },
  {
   "cell_type": "code",
   "execution_count": 7,
   "metadata": {
    "ExecuteTime": {
     "end_time": "2019-09-20T19:26:45.772044Z",
     "start_time": "2019-09-20T19:26:45.715547Z"
    },
    "hidden": true
   },
   "outputs": [],
   "source": [
    "def get_ck_session():\n",
    "        \"\"\"Handle the initial page load and session creation\n",
    "        Returns an authenticated session\"\"\"\n",
    "\n",
    "        session_requests = requests.session()\n",
    "        login_url = \"https://app.convertkit.com/users/login\"\n",
    "\n",
    "        result = session_requests.get(login_url)\n",
    "        login_tree = bs4.BeautifulSoup(result.text, 'html.parser'); login_tree\n",
    "        if not result.ok: raise ConnectionError(result.status_code)\n",
    "\n",
    "        payload = {\n",
    "                \"user[email]\": os.environ['CK_USER'],\n",
    "                \"user[password]\": os.environ['CK_PASSWORD'],\n",
    "                \"authenticity_token\": login_tree.find(\"input\", {\"name\":\"authenticity_token\"})['value']\n",
    "        };\n",
    "\n",
    "        login_result = session_requests.post(login_url, data = payload, headers = dict(referer=login_url));\n",
    "        if not login_result.ok: raise ConnectionError(login_result.status_code)\n",
    "        return session_requests"
   ]
  },
  {
   "cell_type": "code",
   "execution_count": null,
   "metadata": {
    "hidden": true
   },
   "outputs": [],
   "source": [
    "updated_unsubs[-3:]"
   ]
  },
  {
   "cell_type": "code",
   "execution_count": 4,
   "metadata": {
    "ExecuteTime": {
     "end_time": "2019-09-20T19:24:31.565218Z",
     "start_time": "2019-09-20T19:24:31.537154Z"
    },
    "hidden": true
   },
   "outputs": [],
   "source": [
    "s = Session('app.convertkit.com/subscribers/137633017', persist_cookies=True, connections=20)"
   ]
  },
  {
   "cell_type": "code",
   "execution_count": 52,
   "metadata": {
    "ExecuteTime": {
     "end_time": "2019-09-20T19:51:38.345771Z",
     "start_time": "2019-09-20T19:51:38.317746Z"
    },
    "hidden": true
   },
   "outputs": [
    {
     "data": {
      "text/plain": [
       "200"
      ]
     },
     "execution_count": 52,
     "metadata": {},
     "output_type": "execute_result"
    }
   ],
   "source": [
    "Out[42].status_code"
   ]
  },
  {
   "cell_type": "markdown",
   "metadata": {
    "hidden": true
   },
   "source": [
    "### Fix unsubscribe differences"
   ]
  },
  {
   "cell_type": "code",
   "execution_count": 38,
   "metadata": {
    "ExecuteTime": {
     "end_time": "2019-09-20T19:46:32.738638Z",
     "start_time": "2019-09-20T19:46:32.704188Z"
    },
    "hidden": true
   },
   "outputs": [
    {
     "ename": "NameError",
     "evalue": "name 'login_tree' is not defined",
     "output_type": "error",
     "traceback": [
      "\u001b[0;31m---------------------------------------------------------------------------\u001b[0m",
      "\u001b[0;31mNameError\u001b[0m                                 Traceback (most recent call last)",
      "\u001b[0;32m<ipython-input-38-37ecd71ba711>\u001b[0m in \u001b[0;36m<module>\u001b[0;34m\u001b[0m\n\u001b[1;32m      2\u001b[0m                 \u001b[0;34m\"user[email]\"\u001b[0m\u001b[0;34m:\u001b[0m \u001b[0mos\u001b[0m\u001b[0;34m.\u001b[0m\u001b[0menviron\u001b[0m\u001b[0;34m[\u001b[0m\u001b[0;34m'CK_USER'\u001b[0m\u001b[0;34m]\u001b[0m\u001b[0;34m,\u001b[0m\u001b[0;34m\u001b[0m\u001b[0;34m\u001b[0m\u001b[0m\n\u001b[1;32m      3\u001b[0m                 \u001b[0;34m\"user[password]\"\u001b[0m\u001b[0;34m:\u001b[0m \u001b[0mos\u001b[0m\u001b[0;34m.\u001b[0m\u001b[0menviron\u001b[0m\u001b[0;34m[\u001b[0m\u001b[0;34m'CK_PASSWORD'\u001b[0m\u001b[0;34m]\u001b[0m\u001b[0;34m,\u001b[0m\u001b[0;34m\u001b[0m\u001b[0;34m\u001b[0m\u001b[0m\n\u001b[0;32m----> 4\u001b[0;31m                 \u001b[0;34m\"authenticity_token\"\u001b[0m\u001b[0;34m:\u001b[0m \u001b[0mlogin_tree\u001b[0m\u001b[0;34m.\u001b[0m\u001b[0mfind\u001b[0m\u001b[0;34m(\u001b[0m\u001b[0;34m\"input\"\u001b[0m\u001b[0;34m,\u001b[0m \u001b[0;34m{\u001b[0m\u001b[0;34m\"name\"\u001b[0m\u001b[0;34m:\u001b[0m\u001b[0;34m\"authenticity_token\"\u001b[0m\u001b[0;34m}\u001b[0m\u001b[0;34m)\u001b[0m\u001b[0;34m[\u001b[0m\u001b[0;34m'value'\u001b[0m\u001b[0;34m]\u001b[0m\u001b[0;34m\u001b[0m\u001b[0;34m\u001b[0m\u001b[0m\n\u001b[0m\u001b[1;32m      5\u001b[0m         };\n",
      "\u001b[0;31mNameError\u001b[0m: name 'login_tree' is not defined"
     ]
    }
   ],
   "source": [
    "payload = {\n",
    "                \"user[email]\": os.environ['CK_USER'],\n",
    "                \"user[password]\": os.environ['CK_PASSWORD'],\n",
    "                \"authenticity_token\": login_tree.find(\"input\", {\"name\":\"authenticity_token\"})['value']\n",
    "        };"
   ]
  },
  {
   "cell_type": "code",
   "execution_count": null,
   "metadata": {
    "ExecuteTime": {
     "end_time": "2019-06-03T18:15:17.645670Z",
     "start_time": "2019-06-03T18:15:17.584710Z"
    },
    "hidden": true
   },
   "outputs": [],
   "source": [
    "# Shouldn't have any of these after the 6/3/19 update to the unsubscribe lambda"
   ]
  },
  {
   "cell_type": "code",
   "execution_count": null,
   "metadata": {
    "ExecuteTime": {
     "end_time": "2019-06-03T18:28:59.712039Z",
     "start_time": "2019-06-03T18:28:57.409502Z"
    },
    "hidden": true
   },
   "outputs": [],
   "source": [
    "subscribers_unsub = get_all_sub_data(columns=[], sort_field='cancelled_at')\n",
    "len(subscribers_unsub), subscribers_unsub[0]"
   ]
  },
  {
   "cell_type": "code",
   "execution_count": null,
   "metadata": {
    "hidden": true
   },
   "outputs": [],
   "source": [
    "%"
   ]
  },
  {
   "cell_type": "code",
   "execution_count": 70,
   "metadata": {
    "ExecuteTime": {
     "end_time": "2019-09-20T20:01:13.701418Z",
     "start_time": "2019-09-20T20:01:13.668480Z"
    },
    "hidden": true
   },
   "outputs": [
    {
     "ename": "TypeError",
     "evalue": "object int can't be used in 'await' expression",
     "output_type": "error",
     "traceback": [
      "\u001b[0;31m---------------------------------------------------------------------------\u001b[0m",
      "\u001b[0;31mTypeError\u001b[0m                                 Traceback (most recent call last)",
      "\u001b[0;32m<ipython-input-70-7af81e303ee7>\u001b[0m in \u001b[0;36masync-def-wrapper\u001b[0;34m()\u001b[0m\n",
      "\u001b[0;31mTypeError\u001b[0m: object int can't be used in 'await' expression"
     ]
    }
   ],
   "source": [
    "def test():\n",
    "    return 2+2\n",
    "await test()"
   ]
  },
  {
   "cell_type": "code",
   "execution_count": null,
   "metadata": {
    "ExecuteTime": {
     "end_time": "2019-06-03T18:29:01.796136Z",
     "start_time": "2019-06-03T18:29:01.768651Z"
    },
    "hidden": true
   },
   "outputs": [],
   "source": [
    "# go through each unsub and see if rds does not match\n",
    "unsub_updates = []\n",
    "for unsub in subscribers_unsub:\n",
    "    if unsub[0] in sub_dict and sub_dict[unsub[0]]['state']!='cancelled':\n",
    "        unsub_updates.append([unsub[13], unsub[0]])\n",
    "len(unsub_updates), unsub_updates[:3]"
   ]
  },
  {
   "cell_type": "code",
   "execution_count": 73,
   "metadata": {
    "ExecuteTime": {
     "end_time": "2019-09-20T20:09:33.623231Z",
     "start_time": "2019-09-20T20:09:31.571348Z"
    },
    "hidden": true
   },
   "outputs": [
    {
     "data": {
      "text/plain": [
       "[{'delivered': True,\n",
       "  'opened': False,\n",
       "  'clicked': False,\n",
       "  'bounced': False,\n",
       "  'failed': False,\n",
       "  'deliver_date': datetime.datetime(2019, 9, 17, 10, 51, tzinfo=<DstTzInfo 'US/Eastern' EDT-1 day, 20:00:00 DST>),\n",
       "  'open_date': None,\n",
       "  'click_date': None,\n",
       "  'email_id': '2863522',\n",
       "  'email_name': '[Might Could Essay] When Trying Too Hard Backfires'},\n",
       " {'delivered': True,\n",
       "  'opened': False,\n",
       "  'clicked': False,\n",
       "  'bounced': False,\n",
       "  'failed': False,\n",
       "  'deliver_date': datetime.datetime(2019, 9, 10, 13, 48, tzinfo=<DstTzInfo 'US/Eastern' EDT-1 day, 20:00:00 DST>),\n",
       "  'open_date': None,\n",
       "  'click_date': None,\n",
       "  'email_id': '2838431',\n",
       "  'email_name': '[Might Could Essay] Inspiration vs. Imitation: How to Copy as an Artist'},\n",
       " {'delivered': True,\n",
       "  'opened': True,\n",
       "  'clicked': False,\n",
       "  'bounced': False,\n",
       "  'failed': False,\n",
       "  'deliver_date': datetime.datetime(2019, 9, 3, 12, 49, tzinfo=<DstTzInfo 'US/Eastern' EDT-1 day, 20:00:00 DST>),\n",
       "  'open_date': datetime.datetime(2019, 9, 3, 12, 58, tzinfo=<DstTzInfo 'US/Eastern' EDT-1 day, 20:00:00 DST>),\n",
       "  'click_date': None,\n",
       "  'email_id': '2812333',\n",
       "  'email_name': '[Might Could Essay] On Keeping a Sketchbook'},\n",
       " {'delivered': True,\n",
       "  'opened': True,\n",
       "  'clicked': False,\n",
       "  'bounced': False,\n",
       "  'failed': False,\n",
       "  'deliver_date': datetime.datetime(2019, 8, 27, 13, 43, tzinfo=<DstTzInfo 'US/Eastern' EDT-1 day, 20:00:00 DST>),\n",
       "  'open_date': datetime.datetime(2019, 8, 27, 17, 18, tzinfo=<DstTzInfo 'US/Eastern' EDT-1 day, 20:00:00 DST>),\n",
       "  'click_date': None,\n",
       "  'email_id': '2787306',\n",
       "  'email_name': '[Might Could Essay] 8 Lessons on Creative Block from Miyazaki'},\n",
       " {'delivered': True,\n",
       "  'opened': True,\n",
       "  'clicked': False,\n",
       "  'bounced': False,\n",
       "  'failed': False,\n",
       "  'deliver_date': datetime.datetime(2019, 8, 20, 10, 31, tzinfo=<DstTzInfo 'US/Eastern' EDT-1 day, 20:00:00 DST>),\n",
       "  'open_date': datetime.datetime(2019, 8, 20, 10, 47, tzinfo=<DstTzInfo 'US/Eastern' EDT-1 day, 20:00:00 DST>),\n",
       "  'click_date': None,\n",
       "  'email_id': '2762451',\n",
       "  'email_name': '[Might Could Essay] The Hidden Reason You Don’t Have Time to Draw'},\n",
       " {'delivered': True,\n",
       "  'opened': False,\n",
       "  'clicked': False,\n",
       "  'bounced': False,\n",
       "  'failed': False,\n",
       "  'deliver_date': datetime.datetime(2019, 8, 13, 13, 17, tzinfo=<DstTzInfo 'US/Eastern' EDT-1 day, 20:00:00 DST>),\n",
       "  'open_date': None,\n",
       "  'click_date': None,\n",
       "  'email_id': '2739033',\n",
       "  'email_name': \"[Might Could Essay] 6 Busy Artist Issues (and How to Bust 'Em)\"},\n",
       " {'delivered': True,\n",
       "  'opened': False,\n",
       "  'clicked': False,\n",
       "  'bounced': False,\n",
       "  'failed': False,\n",
       "  'deliver_date': datetime.datetime(2019, 8, 6, 15, 30, tzinfo=<DstTzInfo 'US/Eastern' EDT-1 day, 20:00:00 DST>),\n",
       "  'open_date': None,\n",
       "  'click_date': None,\n",
       "  'email_id': '2716445',\n",
       "  'email_name': \"[Might Could Essay] I Don't Have Time to Make Art!\"},\n",
       " {'delivered': True,\n",
       "  'opened': False,\n",
       "  'clicked': False,\n",
       "  'bounced': False,\n",
       "  'failed': False,\n",
       "  'deliver_date': datetime.datetime(2019, 7, 30, 14, 1, tzinfo=<DstTzInfo 'US/Eastern' EDT-1 day, 20:00:00 DST>),\n",
       "  'open_date': None,\n",
       "  'click_date': None,\n",
       "  'email_id': '2692242',\n",
       "  'email_name': '[Might Could Essay] One Drawing at a Time'},\n",
       " {'delivered': True,\n",
       "  'opened': True,\n",
       "  'clicked': False,\n",
       "  'bounced': False,\n",
       "  'failed': False,\n",
       "  'deliver_date': datetime.datetime(2019, 7, 16, 10, 3, tzinfo=<DstTzInfo 'US/Eastern' EDT-1 day, 20:00:00 DST>),\n",
       "  'open_date': datetime.datetime(2019, 7, 16, 10, 20, tzinfo=<DstTzInfo 'US/Eastern' EDT-1 day, 20:00:00 DST>),\n",
       "  'click_date': None,\n",
       "  'email_id': '2645223',\n",
       "  'email_name': '[Might Could Essay] Draw Yourself, Discover Yourself'},\n",
       " {'delivered': True,\n",
       "  'opened': False,\n",
       "  'clicked': False,\n",
       "  'bounced': False,\n",
       "  'failed': False,\n",
       "  'deliver_date': datetime.datetime(2019, 7, 2, 13, 39, tzinfo=<DstTzInfo 'US/Eastern' EDT-1 day, 20:00:00 DST>),\n",
       "  'open_date': None,\n",
       "  'click_date': None,\n",
       "  'email_id': '2599957',\n",
       "  'email_name': '[Might Could Essay] Playing and Working'},\n",
       " {'delivered': True,\n",
       "  'opened': True,\n",
       "  'clicked': False,\n",
       "  'bounced': False,\n",
       "  'failed': False,\n",
       "  'deliver_date': datetime.datetime(2019, 6, 25, 12, 11, tzinfo=<DstTzInfo 'US/Eastern' EDT-1 day, 20:00:00 DST>),\n",
       "  'open_date': datetime.datetime(2019, 6, 25, 12, 16, tzinfo=<DstTzInfo 'US/Eastern' EDT-1 day, 20:00:00 DST>),\n",
       "  'click_date': None,\n",
       "  'email_id': '2575108',\n",
       "  'email_name': '[Might Could Essay] Developing the Creative Voice'},\n",
       " {'delivered': True,\n",
       "  'opened': True,\n",
       "  'clicked': False,\n",
       "  'bounced': False,\n",
       "  'failed': False,\n",
       "  'deliver_date': datetime.datetime(2019, 6, 4, 12, 28, tzinfo=<DstTzInfo 'US/Eastern' EDT-1 day, 20:00:00 DST>),\n",
       "  'open_date': datetime.datetime(2019, 6, 4, 17, 49, tzinfo=<DstTzInfo 'US/Eastern' EDT-1 day, 20:00:00 DST>),\n",
       "  'click_date': None,\n",
       "  'email_id': '2507894',\n",
       "  'email_name': \"[Might Could Essay] A Creative's Working Day\"},\n",
       " {'delivered': True,\n",
       "  'opened': True,\n",
       "  'clicked': False,\n",
       "  'bounced': False,\n",
       "  'failed': False,\n",
       "  'deliver_date': datetime.datetime(2019, 5, 29, 11, 30, tzinfo=<DstTzInfo 'US/Eastern' EDT-1 day, 20:00:00 DST>),\n",
       "  'open_date': datetime.datetime(2019, 5, 29, 12, 59, tzinfo=<DstTzInfo 'US/Eastern' EDT-1 day, 20:00:00 DST>),\n",
       "  'click_date': None,\n",
       "  'email_id': '2488315',\n",
       "  'email_name': '3 Exciting Announcements!'},\n",
       " {'delivered': True,\n",
       "  'opened': False,\n",
       "  'clicked': False,\n",
       "  'bounced': False,\n",
       "  'failed': False,\n",
       "  'deliver_date': datetime.datetime(2019, 5, 22, 13, 20, tzinfo=<DstTzInfo 'US/Eastern' EDT-1 day, 20:00:00 DST>),\n",
       "  'open_date': None,\n",
       "  'click_date': None,\n",
       "  'email_id': '2466855',\n",
       "  'email_name': '[Might Could Essay] On Drawing Hands'},\n",
       " {'delivered': True,\n",
       "  'opened': False,\n",
       "  'clicked': False,\n",
       "  'bounced': False,\n",
       "  'failed': False,\n",
       "  'deliver_date': datetime.datetime(2019, 5, 14, 14, 3, tzinfo=<DstTzInfo 'US/Eastern' EDT-1 day, 20:00:00 DST>),\n",
       "  'open_date': None,\n",
       "  'click_date': None,\n",
       "  'email_id': '2440501',\n",
       "  'email_name': '[Might Could Essay] Turning Thoughts and Feelings into Art'},\n",
       " {'delivered': True,\n",
       "  'opened': True,\n",
       "  'clicked': False,\n",
       "  'bounced': False,\n",
       "  'failed': False,\n",
       "  'deliver_date': datetime.datetime(2019, 5, 7, 15, 58, tzinfo=<DstTzInfo 'US/Eastern' EDT-1 day, 20:00:00 DST>),\n",
       "  'open_date': datetime.datetime(2019, 5, 7, 17, 4, tzinfo=<DstTzInfo 'US/Eastern' EDT-1 day, 20:00:00 DST>),\n",
       "  'click_date': None,\n",
       "  'email_id': '2417618',\n",
       "  'email_name': \"[Might Could Essay] It's Never Too Late\"},\n",
       " {'delivered': True,\n",
       "  'opened': False,\n",
       "  'clicked': False,\n",
       "  'bounced': False,\n",
       "  'failed': False,\n",
       "  'deliver_date': datetime.datetime(2019, 4, 30, 12, 48, tzinfo=<DstTzInfo 'US/Eastern' EDT-1 day, 20:00:00 DST>),\n",
       "  'open_date': None,\n",
       "  'click_date': None,\n",
       "  'email_id': '2392243',\n",
       "  'email_name': '[Might Could Essay] Why I Draw'},\n",
       " {'delivered': True,\n",
       "  'opened': True,\n",
       "  'clicked': False,\n",
       "  'bounced': False,\n",
       "  'failed': False,\n",
       "  'deliver_date': datetime.datetime(2019, 4, 23, 12, 59, tzinfo=<DstTzInfo 'US/Eastern' EDT-1 day, 20:00:00 DST>),\n",
       "  'open_date': datetime.datetime(2019, 4, 23, 17, 51, tzinfo=<DstTzInfo 'US/Eastern' EDT-1 day, 20:00:00 DST>),\n",
       "  'click_date': None,\n",
       "  'email_id': '2369283',\n",
       "  'email_name': '[Might Could Essay] How to Develop an Artistic Growth Mindset'},\n",
       " {'delivered': True,\n",
       "  'opened': True,\n",
       "  'clicked': False,\n",
       "  'bounced': False,\n",
       "  'failed': False,\n",
       "  'deliver_date': datetime.datetime(2019, 4, 9, 14, 48, tzinfo=<DstTzInfo 'US/Eastern' EDT-1 day, 20:00:00 DST>),\n",
       "  'open_date': datetime.datetime(2019, 4, 9, 15, 4, tzinfo=<DstTzInfo 'US/Eastern' EDT-1 day, 20:00:00 DST>),\n",
       "  'click_date': None,\n",
       "  'email_id': '2325227',\n",
       "  'email_name': '[Might Could Essay] Compassionate Goals for Artists'},\n",
       " {'delivered': True,\n",
       "  'opened': True,\n",
       "  'clicked': True,\n",
       "  'bounced': False,\n",
       "  'failed': False,\n",
       "  'deliver_date': datetime.datetime(2019, 4, 8, 10, 44, tzinfo=<DstTzInfo 'US/Eastern' EDT-1 day, 20:00:00 DST>),\n",
       "  'open_date': None,\n",
       "  'click_date': datetime.datetime(2019, 4, 26, 6, 52, tzinfo=<DstTzInfo 'US/Eastern' EDT-1 day, 20:00:00 DST>),\n",
       "  'email_id': '2320321',\n",
       "  'email_name': '[#MightCouldDrawToday] BIG CHANGES + Week 59 Winner!'},\n",
       " {'delivered': True,\n",
       "  'opened': True,\n",
       "  'clicked': False,\n",
       "  'bounced': False,\n",
       "  'failed': False,\n",
       "  'deliver_date': datetime.datetime(2019, 4, 2, 11, 57, tzinfo=<DstTzInfo 'US/Eastern' EDT-1 day, 20:00:00 DST>),\n",
       "  'open_date': datetime.datetime(2019, 4, 2, 12, 36, tzinfo=<DstTzInfo 'US/Eastern' EDT-1 day, 20:00:00 DST>),\n",
       "  'click_date': None,\n",
       "  'email_id': '2302079',\n",
       "  'email_name': '[Might Could Essay] Art, Worth, and Living'},\n",
       " {'delivered': True,\n",
       "  'opened': True,\n",
       "  'clicked': True,\n",
       "  'bounced': False,\n",
       "  'failed': False,\n",
       "  'deliver_date': datetime.datetime(2019, 4, 1, 11, 28, tzinfo=<DstTzInfo 'US/Eastern' EDT-1 day, 20:00:00 DST>),\n",
       "  'open_date': None,\n",
       "  'click_date': datetime.datetime(2019, 4, 1, 13, 8, tzinfo=<DstTzInfo 'US/Eastern' EDT-1 day, 20:00:00 DST>),\n",
       "  'email_id': '2298063',\n",
       "  'email_name': '[#MightCouldDrawToday] Week 59 Drawing Prompt + Week 58 Winner!'},\n",
       " {'delivered': True,\n",
       "  'opened': True,\n",
       "  'clicked': False,\n",
       "  'bounced': False,\n",
       "  'failed': False,\n",
       "  'deliver_date': datetime.datetime(2019, 3, 26, 16, 25, tzinfo=<DstTzInfo 'US/Eastern' EDT-1 day, 20:00:00 DST>),\n",
       "  'open_date': datetime.datetime(2019, 3, 26, 16, 46, tzinfo=<DstTzInfo 'US/Eastern' EDT-1 day, 20:00:00 DST>),\n",
       "  'click_date': None,\n",
       "  'email_id': '2279352',\n",
       "  'email_name': '[Might Could Essay] 4 Ways to Cultivate a Better Artistic Mindset'},\n",
       " {'delivered': True,\n",
       "  'opened': True,\n",
       "  'clicked': False,\n",
       "  'bounced': False,\n",
       "  'failed': False,\n",
       "  'deliver_date': datetime.datetime(2019, 3, 25, 13, 16, tzinfo=<DstTzInfo 'US/Eastern' EDT-1 day, 20:00:00 DST>),\n",
       "  'open_date': datetime.datetime(2019, 3, 26, 9, 38, tzinfo=<DstTzInfo 'US/Eastern' EDT-1 day, 20:00:00 DST>),\n",
       "  'click_date': None,\n",
       "  'email_id': '2275016',\n",
       "  'email_name': '[#MightCouldDrawToday] Week 58 Drawing Prompt + Week 57 Winner!'},\n",
       " {'delivered': True,\n",
       "  'opened': True,\n",
       "  'clicked': False,\n",
       "  'bounced': False,\n",
       "  'failed': False,\n",
       "  'deliver_date': datetime.datetime(2019, 3, 18, 12, 7, tzinfo=<DstTzInfo 'US/Eastern' EDT-1 day, 20:00:00 DST>),\n",
       "  'open_date': datetime.datetime(2019, 3, 18, 14, 20, tzinfo=<DstTzInfo 'US/Eastern' EDT-1 day, 20:00:00 DST>),\n",
       "  'click_date': None,\n",
       "  'email_id': '2251055',\n",
       "  'email_name': '[#MightCouldDrawToday] Week 57 Drawing Prompt + Week 56 Winner!'},\n",
       " {'delivered': True,\n",
       "  'opened': True,\n",
       "  'clicked': False,\n",
       "  'bounced': False,\n",
       "  'failed': False,\n",
       "  'deliver_date': datetime.datetime(2019, 3, 13, 14, 42, tzinfo=<DstTzInfo 'US/Eastern' EDT-1 day, 20:00:00 DST>),\n",
       "  'open_date': datetime.datetime(2019, 3, 13, 19, 59, tzinfo=<DstTzInfo 'US/Eastern' EDT-1 day, 20:00:00 DST>),\n",
       "  'click_date': None,\n",
       "  'email_id': '2234690',\n",
       "  'email_name': '[Might Could Essay] Why Art is Taught Wrong'},\n",
       " {'delivered': True,\n",
       "  'opened': True,\n",
       "  'clicked': False,\n",
       "  'bounced': False,\n",
       "  'failed': False,\n",
       "  'deliver_date': datetime.datetime(2019, 3, 11, 13, 23, tzinfo=<DstTzInfo 'US/Eastern' EDT-1 day, 20:00:00 DST>),\n",
       "  'open_date': datetime.datetime(2019, 3, 11, 17, 50, tzinfo=<DstTzInfo 'US/Eastern' EDT-1 day, 20:00:00 DST>),\n",
       "  'click_date': None,\n",
       "  'email_id': '2226676',\n",
       "  'email_name': '[#MightCouldDrawToday] Week 56 Drawing Prompt + Week 55 Winner!'},\n",
       " {'delivered': True,\n",
       "  'opened': True,\n",
       "  'clicked': False,\n",
       "  'bounced': False,\n",
       "  'failed': False,\n",
       "  'deliver_date': datetime.datetime(2019, 3, 5, 18, 15, tzinfo=<DstTzInfo 'US/Eastern' EST-1 day, 19:00:00 STD>),\n",
       "  'open_date': datetime.datetime(2019, 3, 5, 21, 37, tzinfo=<DstTzInfo 'US/Eastern' EST-1 day, 19:00:00 STD>),\n",
       "  'click_date': None,\n",
       "  'email_id': '2207379',\n",
       "  'email_name': '[Might Could Essay] Being a Slow Burn Tortoise in a World of Self-Improvement Hares'},\n",
       " {'delivered': True,\n",
       "  'opened': True,\n",
       "  'clicked': False,\n",
       "  'bounced': False,\n",
       "  'failed': False,\n",
       "  'deliver_date': datetime.datetime(2019, 3, 4, 13, 17, tzinfo=<DstTzInfo 'US/Eastern' EST-1 day, 19:00:00 STD>),\n",
       "  'open_date': datetime.datetime(2019, 3, 4, 17, 10, tzinfo=<DstTzInfo 'US/Eastern' EST-1 day, 19:00:00 STD>),\n",
       "  'click_date': None,\n",
       "  'email_id': '2202460',\n",
       "  'email_name': '[#MightCouldDrawToday] Week 55 Drawing Prompt + Week 54 Winner!'},\n",
       " {'delivered': True,\n",
       "  'opened': True,\n",
       "  'clicked': False,\n",
       "  'bounced': False,\n",
       "  'failed': False,\n",
       "  'deliver_date': datetime.datetime(2019, 2, 25, 13, 45, tzinfo=<DstTzInfo 'US/Eastern' EST-1 day, 19:00:00 STD>),\n",
       "  'open_date': datetime.datetime(2019, 2, 25, 21, 56, tzinfo=<DstTzInfo 'US/Eastern' EST-1 day, 19:00:00 STD>),\n",
       "  'click_date': None,\n",
       "  'email_id': '2176765',\n",
       "  'email_name': '[#MightCouldDrawToday] Week 54 Drawing Prompt + Week 53 Winner!'},\n",
       " {'delivered': True,\n",
       "  'opened': True,\n",
       "  'clicked': True,\n",
       "  'bounced': False,\n",
       "  'failed': False,\n",
       "  'deliver_date': datetime.datetime(2019, 2, 18, 14, 0, tzinfo=<DstTzInfo 'US/Eastern' EST-1 day, 19:00:00 STD>),\n",
       "  'open_date': None,\n",
       "  'click_date': datetime.datetime(2019, 2, 18, 14, 50, tzinfo=<DstTzInfo 'US/Eastern' EST-1 day, 19:00:00 STD>),\n",
       "  'email_id': '2151872',\n",
       "  'email_name': '[#MightCouldDrawToday] Week 53 Drawing Prompt + Week 52 Winner!'},\n",
       " {'delivered': True,\n",
       "  'opened': True,\n",
       "  'clicked': False,\n",
       "  'bounced': False,\n",
       "  'failed': False,\n",
       "  'deliver_date': datetime.datetime(2019, 2, 11, 11, 58, tzinfo=<DstTzInfo 'US/Eastern' EST-1 day, 19:00:00 STD>),\n",
       "  'open_date': datetime.datetime(2019, 2, 12, 23, 50, tzinfo=<DstTzInfo 'US/Eastern' EST-1 day, 19:00:00 STD>),\n",
       "  'click_date': None,\n",
       "  'email_id': '2126807',\n",
       "  'email_name': '[#MightCouldDrawToday] WEEK 52! ONE YEAR ANNIVERSARY SURPRISE! ?'},\n",
       " {'delivered': True,\n",
       "  'opened': True,\n",
       "  'clicked': True,\n",
       "  'bounced': False,\n",
       "  'failed': False,\n",
       "  'deliver_date': datetime.datetime(2019, 2, 10, 17, 27, tzinfo=<DstTzInfo 'US/Eastern' EST-1 day, 19:00:00 STD>),\n",
       "  'open_date': None,\n",
       "  'click_date': datetime.datetime(2019, 2, 10, 18, 49, tzinfo=<DstTzInfo 'US/Eastern' EST-1 day, 19:00:00 STD>),\n",
       "  'email_id': '2124023',\n",
       "  'email_name': '[Sketchbook Students Only] Action Required: StSBC Curriculum is now inside Studiomates!'},\n",
       " {'delivered': True,\n",
       "  'opened': True,\n",
       "  'clicked': False,\n",
       "  'bounced': False,\n",
       "  'failed': False,\n",
       "  'deliver_date': datetime.datetime(2019, 2, 5, 15, 32, tzinfo=<DstTzInfo 'US/Eastern' EST-1 day, 19:00:00 STD>),\n",
       "  'open_date': datetime.datetime(2019, 2, 5, 23, 34, tzinfo=<DstTzInfo 'US/Eastern' EST-1 day, 19:00:00 STD>),\n",
       "  'click_date': None,\n",
       "  'email_id': '2107301',\n",
       "  'email_name': '[Might Could Essay] How to Overcome Imposter Syndrome'},\n",
       " {'delivered': True,\n",
       "  'opened': True,\n",
       "  'clicked': True,\n",
       "  'bounced': False,\n",
       "  'failed': False,\n",
       "  'deliver_date': datetime.datetime(2019, 2, 4, 13, 31, tzinfo=<DstTzInfo 'US/Eastern' EST-1 day, 19:00:00 STD>),\n",
       "  'open_date': None,\n",
       "  'click_date': datetime.datetime(2019, 2, 4, 13, 50, tzinfo=<DstTzInfo 'US/Eastern' EST-1 day, 19:00:00 STD>),\n",
       "  'email_id': '2102917',\n",
       "  'email_name': '[#MightCouldDrawToday] Week 51 Drawing Prompt + Week 50 Winner!'},\n",
       " {'delivered': True,\n",
       "  'opened': False,\n",
       "  'clicked': False,\n",
       "  'bounced': False,\n",
       "  'failed': False,\n",
       "  'deliver_date': datetime.datetime(2019, 1, 29, 16, 37, tzinfo=<DstTzInfo 'US/Eastern' EST-1 day, 19:00:00 STD>),\n",
       "  'open_date': None,\n",
       "  'click_date': None,\n",
       "  'email_id': '2083025',\n",
       "  'email_name': '[Might Could Essay] Never Good Enough'},\n",
       " {'delivered': True,\n",
       "  'opened': True,\n",
       "  'clicked': True,\n",
       "  'bounced': False,\n",
       "  'failed': False,\n",
       "  'deliver_date': datetime.datetime(2019, 1, 28, 13, 2, tzinfo=<DstTzInfo 'US/Eastern' EST-1 day, 19:00:00 STD>),\n",
       "  'open_date': None,\n",
       "  'click_date': datetime.datetime(2019, 1, 28, 13, 58, tzinfo=<DstTzInfo 'US/Eastern' EST-1 day, 19:00:00 STD>),\n",
       "  'email_id': '2078577',\n",
       "  'email_name': '[#MightCouldDrawToday] Week 50 Drawing Prompt + Week 49 Winner!'},\n",
       " {'delivered': True,\n",
       "  'opened': True,\n",
       "  'clicked': True,\n",
       "  'bounced': False,\n",
       "  'failed': False,\n",
       "  'deliver_date': datetime.datetime(2019, 1, 21, 13, 16, tzinfo=<DstTzInfo 'US/Eastern' EST-1 day, 19:00:00 STD>),\n",
       "  'open_date': None,\n",
       "  'click_date': datetime.datetime(2019, 1, 21, 13, 54, tzinfo=<DstTzInfo 'US/Eastern' EST-1 day, 19:00:00 STD>),\n",
       "  'email_id': '2055687',\n",
       "  'email_name': '[#MightCouldDrawToday] Week 49 Drawing Prompt + Week 48 Winner!'},\n",
       " {'delivered': True,\n",
       "  'opened': True,\n",
       "  'clicked': False,\n",
       "  'bounced': False,\n",
       "  'failed': False,\n",
       "  'deliver_date': datetime.datetime(2019, 1, 14, 13, 15, tzinfo=<DstTzInfo 'US/Eastern' EST-1 day, 19:00:00 STD>),\n",
       "  'open_date': datetime.datetime(2019, 1, 21, 8, 59, tzinfo=<DstTzInfo 'US/Eastern' EST-1 day, 19:00:00 STD>),\n",
       "  'click_date': None,\n",
       "  'email_id': '2033017',\n",
       "  'email_name': '[#MightCouldDrawToday] Week 48 Drawing Prompt + Week 47 Winner!'},\n",
       " {'delivered': True,\n",
       "  'opened': True,\n",
       "  'clicked': False,\n",
       "  'bounced': False,\n",
       "  'failed': False,\n",
       "  'deliver_date': datetime.datetime(2019, 1, 7, 10, 15, tzinfo=<DstTzInfo 'US/Eastern' EST-1 day, 19:00:00 STD>),\n",
       "  'open_date': datetime.datetime(2019, 1, 7, 20, 43, tzinfo=<DstTzInfo 'US/Eastern' EST-1 day, 19:00:00 STD>),\n",
       "  'click_date': None,\n",
       "  'email_id': '2009647',\n",
       "  'email_name': '[#MightCouldDrawToday] Week 47 Drawing Prompt + Week 46 Winner!'},\n",
       " {'delivered': True,\n",
       "  'opened': True,\n",
       "  'clicked': False,\n",
       "  'bounced': False,\n",
       "  'failed': False,\n",
       "  'deliver_date': datetime.datetime(2018, 12, 31, 10, 5, tzinfo=<DstTzInfo 'US/Eastern' EST-1 day, 19:00:00 STD>),\n",
       "  'open_date': datetime.datetime(2018, 12, 31, 14, 50, tzinfo=<DstTzInfo 'US/Eastern' EST-1 day, 19:00:00 STD>),\n",
       "  'click_date': None,\n",
       "  'email_id': '1988576',\n",
       "  'email_name': '[#MightCouldDrawToday] Week 46 Drawing Prompt + Week 45 Winner!'},\n",
       " {'delivered': True,\n",
       "  'opened': True,\n",
       "  'clicked': False,\n",
       "  'bounced': False,\n",
       "  'failed': False,\n",
       "  'deliver_date': datetime.datetime(2018, 12, 24, 9, 1, tzinfo=<DstTzInfo 'US/Eastern' EST-1 day, 19:00:00 STD>),\n",
       "  'open_date': datetime.datetime(2018, 12, 24, 10, 54, tzinfo=<DstTzInfo 'US/Eastern' EST-1 day, 19:00:00 STD>),\n",
       "  'click_date': None,\n",
       "  'email_id': '1972406',\n",
       "  'email_name': '[#MightCouldDrawToday] Week 45 Drawing Prompt + Week 44 Winner!'},\n",
       " {'delivered': True,\n",
       "  'opened': True,\n",
       "  'clicked': False,\n",
       "  'bounced': False,\n",
       "  'failed': False,\n",
       "  'deliver_date': datetime.datetime(2018, 12, 17, 10, 13, tzinfo=<DstTzInfo 'US/Eastern' EST-1 day, 19:00:00 STD>),\n",
       "  'open_date': datetime.datetime(2018, 12, 17, 20, 47, tzinfo=<DstTzInfo 'US/Eastern' EST-1 day, 19:00:00 STD>),\n",
       "  'click_date': None,\n",
       "  'email_id': '1952618',\n",
       "  'email_name': '[#MightCouldDrawToday] Week 44 Drawing Prompt + Week 43 Winner!'},\n",
       " {'delivered': True,\n",
       "  'opened': True,\n",
       "  'clicked': True,\n",
       "  'bounced': False,\n",
       "  'failed': False,\n",
       "  'deliver_date': datetime.datetime(2018, 12, 10, 9, 50, tzinfo=<DstTzInfo 'US/Eastern' EST-1 day, 19:00:00 STD>),\n",
       "  'open_date': None,\n",
       "  'click_date': datetime.datetime(2018, 12, 10, 12, 38, tzinfo=<DstTzInfo 'US/Eastern' EST-1 day, 19:00:00 STD>),\n",
       "  'email_id': '1930547',\n",
       "  'email_name': '[#MightCouldDrawToday] Week 43 Drawing Prompt + Week 42 Winner!'},\n",
       " {'delivered': True,\n",
       "  'opened': True,\n",
       "  'clicked': True,\n",
       "  'bounced': False,\n",
       "  'failed': False,\n",
       "  'deliver_date': datetime.datetime(2018, 12, 3, 10, 21, tzinfo=<DstTzInfo 'US/Eastern' EST-1 day, 19:00:00 STD>),\n",
       "  'open_date': None,\n",
       "  'click_date': datetime.datetime(2018, 12, 3, 21, 33, tzinfo=<DstTzInfo 'US/Eastern' EST-1 day, 19:00:00 STD>),\n",
       "  'email_id': '1909148',\n",
       "  'email_name': '[#MightCouldDrawToday] Week 42 Drawing Prompt + Week 41 Winner!'},\n",
       " {'delivered': True,\n",
       "  'opened': True,\n",
       "  'clicked': True,\n",
       "  'bounced': False,\n",
       "  'failed': False,\n",
       "  'deliver_date': datetime.datetime(2018, 11, 26, 13, 59, tzinfo=<DstTzInfo 'US/Eastern' EST-1 day, 19:00:00 STD>),\n",
       "  'open_date': None,\n",
       "  'click_date': datetime.datetime(2018, 11, 26, 14, 56, tzinfo=<DstTzInfo 'US/Eastern' EST-1 day, 19:00:00 STD>),\n",
       "  'email_id': '1887221',\n",
       "  'email_name': '[#MightCouldDrawToday] Week 41 Drawing Prompt + Week 40 Winner!'},\n",
       " {'delivered': True,\n",
       "  'opened': True,\n",
       "  'clicked': False,\n",
       "  'bounced': False,\n",
       "  'failed': False,\n",
       "  'deliver_date': datetime.datetime(2018, 11, 19, 10, 11, tzinfo=<DstTzInfo 'US/Eastern' EST-1 day, 19:00:00 STD>),\n",
       "  'open_date': datetime.datetime(2018, 11, 19, 10, 34, tzinfo=<DstTzInfo 'US/Eastern' EST-1 day, 19:00:00 STD>),\n",
       "  'click_date': None,\n",
       "  'email_id': '1859328',\n",
       "  'email_name': '[#MightCouldDrawToday] Week 40 Drawing Prompt + Week 39 Winner!'},\n",
       " {'delivered': True,\n",
       "  'opened': True,\n",
       "  'clicked': False,\n",
       "  'bounced': False,\n",
       "  'failed': False,\n",
       "  'deliver_date': datetime.datetime(2018, 11, 18, 19, 34, tzinfo=<DstTzInfo 'US/Eastern' EST-1 day, 19:00:00 STD>),\n",
       "  'open_date': datetime.datetime(2018, 11, 18, 19, 42, tzinfo=<DstTzInfo 'US/Eastern' EST-1 day, 19:00:00 STD>),\n",
       "  'click_date': None,\n",
       "  'email_id': '1857310',\n",
       "  'email_name': '[#MightCouldDrawToday] Inktober Winners UPDATE!'},\n",
       " {'delivered': True,\n",
       "  'opened': False,\n",
       "  'clicked': False,\n",
       "  'bounced': False,\n",
       "  'failed': False,\n",
       "  'deliver_date': datetime.datetime(2018, 11, 12, 10, 55, tzinfo=<DstTzInfo 'US/Eastern' EST-1 day, 19:00:00 STD>),\n",
       "  'open_date': None,\n",
       "  'click_date': None,\n",
       "  'email_id': '1837504',\n",
       "  'email_name': '[#MightCouldDrawToday] Week 39 Drawing Prompt + Week 38 Winner!'},\n",
       " {'delivered': True,\n",
       "  'opened': False,\n",
       "  'clicked': False,\n",
       "  'bounced': False,\n",
       "  'failed': False,\n",
       "  'deliver_date': datetime.datetime(2018, 11, 6, 10, 17, tzinfo=<DstTzInfo 'US/Eastern' EST-1 day, 19:00:00 STD>),\n",
       "  'open_date': None,\n",
       "  'click_date': None,\n",
       "  'email_id': '1819691',\n",
       "  'email_name': '[Might Could Essay] Controlling the Creative Process'},\n",
       " {'delivered': True,\n",
       "  'opened': True,\n",
       "  'clicked': True,\n",
       "  'bounced': False,\n",
       "  'failed': False,\n",
       "  'deliver_date': datetime.datetime(2018, 11, 5, 10, 18, tzinfo=<DstTzInfo 'US/Eastern' EST-1 day, 19:00:00 STD>),\n",
       "  'open_date': None,\n",
       "  'click_date': datetime.datetime(2018, 11, 5, 11, 23, tzinfo=<DstTzInfo 'US/Eastern' EST-1 day, 19:00:00 STD>),\n",
       "  'email_id': '1816112',\n",
       "  'email_name': '[#MightCouldDrawToday] Week 38 Drawing Prompt + Week 37 Winner!'},\n",
       " {'delivered': True,\n",
       "  'opened': True,\n",
       "  'clicked': True,\n",
       "  'bounced': False,\n",
       "  'failed': False,\n",
       "  'deliver_date': datetime.datetime(2018, 11, 2, 1, 32, tzinfo=<DstTzInfo 'US/Eastern' EDT-1 day, 20:00:00 DST>),\n",
       "  'open_date': None,\n",
       "  'click_date': datetime.datetime(2018, 11, 2, 7, 10, tzinfo=<DstTzInfo 'US/Eastern' EDT-1 day, 20:00:00 DST>),\n",
       "  'email_id': '1807637',\n",
       "  'email_name': '[#MightCouldDrawToday] Inktober WINNERS!'},\n",
       " {'delivered': True,\n",
       "  'opened': True,\n",
       "  'clicked': False,\n",
       "  'bounced': False,\n",
       "  'failed': False,\n",
       "  'deliver_date': datetime.datetime(2018, 10, 31, 1, 35, tzinfo=<DstTzInfo 'US/Eastern' EDT-1 day, 20:00:00 DST>),\n",
       "  'open_date': datetime.datetime(2018, 10, 31, 7, 58, tzinfo=<DstTzInfo 'US/Eastern' EDT-1 day, 20:00:00 DST>),\n",
       "  'click_date': None,\n",
       "  'email_id': '1800533',\n",
       "  'email_name': '[Might Could Essay] Focus on Today'},\n",
       " {'delivered': True,\n",
       "  'opened': True,\n",
       "  'clicked': True,\n",
       "  'bounced': False,\n",
       "  'failed': False,\n",
       "  'deliver_date': datetime.datetime(2018, 10, 29, 22, 53, tzinfo=<DstTzInfo 'US/Eastern' EDT-1 day, 20:00:00 DST>),\n",
       "  'open_date': None,\n",
       "  'click_date': datetime.datetime(2018, 10, 30, 5, 11, tzinfo=<DstTzInfo 'US/Eastern' EDT-1 day, 20:00:00 DST>),\n",
       "  'email_id': '1796768',\n",
       "  'email_name': '[#MightCouldDrawToday] Week 36 Winner + Last 3 Days of Inktober!'},\n",
       " {'delivered': True,\n",
       "  'opened': False,\n",
       "  'clicked': False,\n",
       "  'bounced': False,\n",
       "  'failed': False,\n",
       "  'deliver_date': datetime.datetime(2018, 10, 28, 23, 30, tzinfo=<DstTzInfo 'US/Eastern' EDT-1 day, 20:00:00 DST>),\n",
       "  'open_date': None,\n",
       "  'click_date': None,\n",
       "  'email_id': '1793318',\n",
       "  'email_name': '[#MightCouldDrawToday] Inktober! Week 37 Drawing Prompt'},\n",
       " {'delivered': True,\n",
       "  'opened': True,\n",
       "  'clicked': False,\n",
       "  'bounced': False,\n",
       "  'failed': False,\n",
       "  'deliver_date': datetime.datetime(2018, 10, 23, 10, 16, tzinfo=<DstTzInfo 'US/Eastern' EDT-1 day, 20:00:00 DST>),\n",
       "  'open_date': datetime.datetime(2018, 10, 23, 10, 30, tzinfo=<DstTzInfo 'US/Eastern' EDT-1 day, 20:00:00 DST>),\n",
       "  'click_date': None,\n",
       "  'email_id': '1777783',\n",
       "  'email_name': '[Might Could Essay] There Is No Perfect'},\n",
       " {'delivered': True,\n",
       "  'opened': True,\n",
       "  'clicked': True,\n",
       "  'bounced': False,\n",
       "  'failed': False,\n",
       "  'deliver_date': datetime.datetime(2018, 10, 22, 19, 1, tzinfo=<DstTzInfo 'US/Eastern' EDT-1 day, 20:00:00 DST>),\n",
       "  'open_date': None,\n",
       "  'click_date': datetime.datetime(2018, 10, 22, 19, 28, tzinfo=<DstTzInfo 'US/Eastern' EDT-1 day, 20:00:00 DST>),\n",
       "  'email_id': '1775984',\n",
       "  'email_name': '[#MightCouldDrawToday] Week 35 Winner!'},\n",
       " {'delivered': True,\n",
       "  'opened': True,\n",
       "  'clicked': False,\n",
       "  'bounced': False,\n",
       "  'failed': False,\n",
       "  'deliver_date': datetime.datetime(2018, 10, 22, 1, 29, tzinfo=<DstTzInfo 'US/Eastern' EDT-1 day, 20:00:00 DST>),\n",
       "  'open_date': datetime.datetime(2018, 10, 22, 5, 53, tzinfo=<DstTzInfo 'US/Eastern' EDT-1 day, 20:00:00 DST>),\n",
       "  'click_date': None,\n",
       "  'email_id': '1773116',\n",
       "  'email_name': '[#MightCouldDrawToday] Inktober! Week 36 Drawing Prompt'},\n",
       " {'delivered': True,\n",
       "  'opened': True,\n",
       "  'clicked': False,\n",
       "  'bounced': False,\n",
       "  'failed': False,\n",
       "  'deliver_date': datetime.datetime(2018, 10, 16, 10, 2, tzinfo=<DstTzInfo 'US/Eastern' EDT-1 day, 20:00:00 DST>),\n",
       "  'open_date': datetime.datetime(2018, 12, 16, 17, 20, tzinfo=<DstTzInfo 'US/Eastern' EST-1 day, 19:00:00 STD>),\n",
       "  'click_date': None,\n",
       "  'email_id': '1757708',\n",
       "  'email_name': '[Might Could Essay] When Art Falls Apart'},\n",
       " {'delivered': True,\n",
       "  'opened': True,\n",
       "  'clicked': True,\n",
       "  'bounced': False,\n",
       "  'failed': False,\n",
       "  'deliver_date': datetime.datetime(2018, 10, 15, 12, 25, tzinfo=<DstTzInfo 'US/Eastern' EDT-1 day, 20:00:00 DST>),\n",
       "  'open_date': None,\n",
       "  'click_date': datetime.datetime(2018, 10, 15, 13, 1, tzinfo=<DstTzInfo 'US/Eastern' EDT-1 day, 20:00:00 DST>),\n",
       "  'email_id': '1754811',\n",
       "  'email_name': '[#MightCouldDrawToday] Week 34 Winner!'},\n",
       " {'delivered': True,\n",
       "  'opened': True,\n",
       "  'clicked': False,\n",
       "  'bounced': False,\n",
       "  'failed': False,\n",
       "  'deliver_date': datetime.datetime(2018, 10, 14, 19, 0, tzinfo=<DstTzInfo 'US/Eastern' EDT-1 day, 20:00:00 DST>),\n",
       "  'open_date': datetime.datetime(2018, 10, 15, 6, 9, tzinfo=<DstTzInfo 'US/Eastern' EDT-1 day, 20:00:00 DST>),\n",
       "  'click_date': None,\n",
       "  'email_id': '1752373',\n",
       "  'email_name': '[#MightCouldDrawToday] Inktober! Week 35 Drawing Prompt'},\n",
       " {'delivered': True,\n",
       "  'opened': True,\n",
       "  'clicked': False,\n",
       "  'bounced': False,\n",
       "  'failed': False,\n",
       "  'deliver_date': datetime.datetime(2018, 10, 9, 20, 19, tzinfo=<DstTzInfo 'US/Eastern' EDT-1 day, 20:00:00 DST>),\n",
       "  'open_date': datetime.datetime(2018, 10, 9, 20, 44, tzinfo=<DstTzInfo 'US/Eastern' EDT-1 day, 20:00:00 DST>),\n",
       "  'click_date': None,\n",
       "  'email_id': '1739254',\n",
       "  'email_name': '[Might Could Essay] Mindfulness Through Creativity'},\n",
       " {'delivered': True,\n",
       "  'opened': True,\n",
       "  'clicked': True,\n",
       "  'bounced': False,\n",
       "  'failed': False,\n",
       "  'deliver_date': datetime.datetime(2018, 10, 8, 14, 14, tzinfo=<DstTzInfo 'US/Eastern' EDT-1 day, 20:00:00 DST>),\n",
       "  'open_date': None,\n",
       "  'click_date': datetime.datetime(2018, 10, 8, 14, 57, tzinfo=<DstTzInfo 'US/Eastern' EDT-1 day, 20:00:00 DST>),\n",
       "  'email_id': '1735046',\n",
       "  'email_name': '[#MightCouldDrawToday] Week 33 Winner!'},\n",
       " {'delivered': True,\n",
       "  'opened': True,\n",
       "  'clicked': False,\n",
       "  'bounced': False,\n",
       "  'failed': False,\n",
       "  'deliver_date': datetime.datetime(2018, 10, 7, 19, 25, tzinfo=<DstTzInfo 'US/Eastern' EDT-1 day, 20:00:00 DST>),\n",
       "  'open_date': datetime.datetime(2018, 10, 7, 20, 10, tzinfo=<DstTzInfo 'US/Eastern' EDT-1 day, 20:00:00 DST>),\n",
       "  'click_date': None,\n",
       "  'email_id': '1732473',\n",
       "  'email_name': '[#MightCouldDrawToday] Inktober! Week 34 Drawing Prompt'},\n",
       " {'delivered': True,\n",
       "  'opened': True,\n",
       "  'clicked': False,\n",
       "  'bounced': False,\n",
       "  'failed': False,\n",
       "  'deliver_date': datetime.datetime(2018, 10, 2, 19, 43, tzinfo=<DstTzInfo 'US/Eastern' EDT-1 day, 20:00:00 DST>),\n",
       "  'open_date': datetime.datetime(2018, 10, 11, 22, 20, tzinfo=<DstTzInfo 'US/Eastern' EDT-1 day, 20:00:00 DST>),\n",
       "  'click_date': None,\n",
       "  'email_id': '1719445',\n",
       "  'email_name': '[Might Could Essay] Comic Edition: When Inspiration Has Become Hidden'},\n",
       " {'delivered': True,\n",
       "  'opened': True,\n",
       "  'clicked': False,\n",
       "  'bounced': False,\n",
       "  'failed': False,\n",
       "  'deliver_date': datetime.datetime(2018, 10, 1, 9, 40, tzinfo=<DstTzInfo 'US/Eastern' EDT-1 day, 20:00:00 DST>),\n",
       "  'open_date': datetime.datetime(2018, 10, 1, 14, 31, tzinfo=<DstTzInfo 'US/Eastern' EDT-1 day, 20:00:00 DST>),\n",
       "  'click_date': None,\n",
       "  'email_id': '1714348',\n",
       "  'email_name': '[#MightCouldDrawToday] Inktober! Week 33 Drawing Prompt + Week 32 Winner!'},\n",
       " {'delivered': True,\n",
       "  'opened': True,\n",
       "  'clicked': False,\n",
       "  'bounced': False,\n",
       "  'failed': False,\n",
       "  'deliver_date': datetime.datetime(2018, 9, 25, 14, 35, tzinfo=<DstTzInfo 'US/Eastern' EDT-1 day, 20:00:00 DST>),\n",
       "  'open_date': datetime.datetime(2018, 9, 25, 14, 43, tzinfo=<DstTzInfo 'US/Eastern' EDT-1 day, 20:00:00 DST>),\n",
       "  'click_date': None,\n",
       "  'email_id': '1698568',\n",
       "  'email_name': '[Might Could Essay] Why I Write These Essays'},\n",
       " {'delivered': True,\n",
       "  'opened': True,\n",
       "  'clicked': False,\n",
       "  'bounced': False,\n",
       "  'failed': False,\n",
       "  'deliver_date': datetime.datetime(2018, 9, 24, 13, 8, tzinfo=<DstTzInfo 'US/Eastern' EDT-1 day, 20:00:00 DST>),\n",
       "  'open_date': datetime.datetime(2018, 10, 2, 0, 3, tzinfo=<DstTzInfo 'US/Eastern' EDT-1 day, 20:00:00 DST>),\n",
       "  'click_date': None,\n",
       "  'email_id': '1694926',\n",
       "  'email_name': '[#MightCouldDrawToday] Week 32 Drawing Prompt + Week 31 Winner!'},\n",
       " {'delivered': True,\n",
       "  'opened': True,\n",
       "  'clicked': True,\n",
       "  'bounced': False,\n",
       "  'failed': False,\n",
       "  'deliver_date': datetime.datetime(2018, 9, 17, 12, 16, tzinfo=<DstTzInfo 'US/Eastern' EDT-1 day, 20:00:00 DST>),\n",
       "  'open_date': None,\n",
       "  'click_date': datetime.datetime(2018, 9, 17, 13, 14, tzinfo=<DstTzInfo 'US/Eastern' EDT-1 day, 20:00:00 DST>),\n",
       "  'email_id': '1675321',\n",
       "  'email_name': '[#MightCouldDrawToday] Week 31 Drawing Prompt + Week 30 Winner!'},\n",
       " {'delivered': True,\n",
       "  'opened': True,\n",
       "  'clicked': False,\n",
       "  'bounced': False,\n",
       "  'failed': False,\n",
       "  'deliver_date': datetime.datetime(2018, 9, 11, 20, 24, tzinfo=<DstTzInfo 'US/Eastern' EDT-1 day, 20:00:00 DST>),\n",
       "  'open_date': datetime.datetime(2018, 9, 11, 22, 41, tzinfo=<DstTzInfo 'US/Eastern' EDT-1 day, 20:00:00 DST>),\n",
       "  'click_date': None,\n",
       "  'email_id': '1660160',\n",
       "  'email_name': '[Might Could Resource] 6 Rules for Making Art'},\n",
       " {'delivered': True,\n",
       "  'opened': True,\n",
       "  'clicked': True,\n",
       "  'bounced': False,\n",
       "  'failed': False,\n",
       "  'deliver_date': datetime.datetime(2018, 9, 10, 12, 22, tzinfo=<DstTzInfo 'US/Eastern' EDT-1 day, 20:00:00 DST>),\n",
       "  'open_date': None,\n",
       "  'click_date': datetime.datetime(2018, 9, 10, 13, 40, tzinfo=<DstTzInfo 'US/Eastern' EDT-1 day, 20:00:00 DST>),\n",
       "  'email_id': '1655677',\n",
       "  'email_name': '[#MightCouldDrawToday] Week 30 Drawing Prompt + Week 29 Winner!'},\n",
       " {'delivered': True,\n",
       "  'opened': True,\n",
       "  'clicked': True,\n",
       "  'bounced': False,\n",
       "  'failed': False,\n",
       "  'deliver_date': datetime.datetime(2018, 9, 5, 20, 56, tzinfo=<DstTzInfo 'US/Eastern' EDT-1 day, 20:00:00 DST>),\n",
       "  'open_date': None,\n",
       "  'click_date': datetime.datetime(2018, 9, 6, 7, 47, tzinfo=<DstTzInfo 'US/Eastern' EDT-1 day, 20:00:00 DST>),\n",
       "  'email_id': '1643829',\n",
       "  'email_name': '[Sketchbook Students Only] HUGE UPDATE and New Classes for You!'},\n",
       " {'delivered': True,\n",
       "  'opened': True,\n",
       "  'clicked': True,\n",
       "  'bounced': False,\n",
       "  'failed': False,\n",
       "  'deliver_date': datetime.datetime(2018, 9, 4, 17, 43, tzinfo=<DstTzInfo 'US/Eastern' EDT-1 day, 20:00:00 DST>),\n",
       "  'open_date': None,\n",
       "  'click_date': datetime.datetime(2018, 9, 4, 18, 8, tzinfo=<DstTzInfo 'US/Eastern' EDT-1 day, 20:00:00 DST>),\n",
       "  'email_id': '1640107',\n",
       "  'email_name': '[Might Could Resource] Comic Edition: We All Have Blobbies'},\n",
       " {'delivered': True,\n",
       "  'opened': True,\n",
       "  'clicked': True,\n",
       "  'bounced': False,\n",
       "  'failed': False,\n",
       "  'deliver_date': datetime.datetime(2018, 9, 3, 16, 24, tzinfo=<DstTzInfo 'US/Eastern' EDT-1 day, 20:00:00 DST>),\n",
       "  'open_date': None,\n",
       "  'click_date': datetime.datetime(2018, 9, 3, 16, 34, tzinfo=<DstTzInfo 'US/Eastern' EDT-1 day, 20:00:00 DST>),\n",
       "  'email_id': '1636793',\n",
       "  'email_name': '[#MightCouldDrawToday] Week 29 Drawing Prompt + Week 28 Winner!'},\n",
       " {'delivered': True,\n",
       "  'opened': True,\n",
       "  'clicked': False,\n",
       "  'bounced': False,\n",
       "  'failed': False,\n",
       "  'deliver_date': datetime.datetime(2018, 8, 28, 19, 59, tzinfo=<DstTzInfo 'US/Eastern' EDT-1 day, 20:00:00 DST>),\n",
       "  'open_date': datetime.datetime(2018, 8, 30, 6, 49, tzinfo=<DstTzInfo 'US/Eastern' EDT-1 day, 20:00:00 DST>),\n",
       "  'click_date': None,\n",
       "  'email_id': '1621799',\n",
       "  'email_name': '[Might Could Resource] Lessons from Kiki: Finding Your Own Inspiration'},\n",
       " {'delivered': True,\n",
       "  'opened': True,\n",
       "  'clicked': True,\n",
       "  'bounced': False,\n",
       "  'failed': False,\n",
       "  'deliver_date': datetime.datetime(2018, 8, 27, 11, 25, tzinfo=<DstTzInfo 'US/Eastern' EDT-1 day, 20:00:00 DST>),\n",
       "  'open_date': None,\n",
       "  'click_date': datetime.datetime(2018, 8, 27, 12, 39, tzinfo=<DstTzInfo 'US/Eastern' EDT-1 day, 20:00:00 DST>),\n",
       "  'email_id': '1617454',\n",
       "  'email_name': '[#MightCouldDrawToday] Week 28 Drawing Prompt + Week 27 Winner!'},\n",
       " {'delivered': True,\n",
       "  'opened': True,\n",
       "  'clicked': False,\n",
       "  'bounced': False,\n",
       "  'failed': False,\n",
       "  'deliver_date': datetime.datetime(2018, 8, 21, 12, 46, tzinfo=<DstTzInfo 'US/Eastern' EDT-1 day, 20:00:00 DST>),\n",
       "  'open_date': datetime.datetime(2018, 8, 21, 13, 8, tzinfo=<DstTzInfo 'US/Eastern' EDT-1 day, 20:00:00 DST>),\n",
       "  'click_date': None,\n",
       "  'email_id': '1603546',\n",
       "  'email_name': '[Might Could Resource] A Might Could Manifesto '},\n",
       " {'delivered': True,\n",
       "  'opened': True,\n",
       "  'clicked': True,\n",
       "  'bounced': False,\n",
       "  'failed': False,\n",
       "  'deliver_date': datetime.datetime(2018, 8, 20, 12, 40, tzinfo=<DstTzInfo 'US/Eastern' EDT-1 day, 20:00:00 DST>),\n",
       "  'open_date': None,\n",
       "  'click_date': datetime.datetime(2018, 8, 20, 12, 55, tzinfo=<DstTzInfo 'US/Eastern' EDT-1 day, 20:00:00 DST>),\n",
       "  'email_id': '1600537',\n",
       "  'email_name': '[#MightCouldDrawToday] Week 27 Drawing Prompt + Week 26 Winner!'},\n",
       " {'delivered': True,\n",
       "  'opened': True,\n",
       "  'clicked': False,\n",
       "  'bounced': False,\n",
       "  'failed': False,\n",
       "  'deliver_date': datetime.datetime(2018, 8, 14, 19, 33, tzinfo=<DstTzInfo 'US/Eastern' EDT-1 day, 20:00:00 DST>),\n",
       "  'open_date': datetime.datetime(2018, 8, 14, 19, 44, tzinfo=<DstTzInfo 'US/Eastern' EDT-1 day, 20:00:00 DST>),\n",
       "  'click_date': None,\n",
       "  'email_id': '1587149',\n",
       "  'email_name': '[Might Could Resource] Social Media for Artists: Make Art for You, Not Likes'},\n",
       " {'delivered': True,\n",
       "  'opened': True,\n",
       "  'clicked': True,\n",
       "  'bounced': False,\n",
       "  'failed': False,\n",
       "  'deliver_date': datetime.datetime(2018, 8, 13, 11, 41, tzinfo=<DstTzInfo 'US/Eastern' EDT-1 day, 20:00:00 DST>),\n",
       "  'open_date': None,\n",
       "  'click_date': datetime.datetime(2018, 8, 13, 13, 19, tzinfo=<DstTzInfo 'US/Eastern' EDT-1 day, 20:00:00 DST>),\n",
       "  'email_id': '1582982',\n",
       "  'email_name': '[#MightCouldDrawToday] Week 26 Drawing Prompt + Week 25 Winner!'},\n",
       " {'delivered': True,\n",
       "  'opened': True,\n",
       "  'clicked': False,\n",
       "  'bounced': False,\n",
       "  'failed': False,\n",
       "  'deliver_date': datetime.datetime(2018, 8, 7, 17, 12, tzinfo=<DstTzInfo 'US/Eastern' EDT-1 day, 20:00:00 DST>),\n",
       "  'open_date': datetime.datetime(2018, 8, 7, 19, 26, tzinfo=<DstTzInfo 'US/Eastern' EDT-1 day, 20:00:00 DST>),\n",
       "  'click_date': None,\n",
       "  'email_id': '1569483',\n",
       "  'email_name': '[Might Could Resource] Finding Ideas + Doing the Work'},\n",
       " {'delivered': True,\n",
       "  'opened': True,\n",
       "  'clicked': True,\n",
       "  'bounced': False,\n",
       "  'failed': False,\n",
       "  'deliver_date': datetime.datetime(2018, 8, 6, 12, 45, tzinfo=<DstTzInfo 'US/Eastern' EDT-1 day, 20:00:00 DST>),\n",
       "  'open_date': None,\n",
       "  'click_date': datetime.datetime(2018, 8, 6, 13, 46, tzinfo=<DstTzInfo 'US/Eastern' EDT-1 day, 20:00:00 DST>),\n",
       "  'email_id': '1566141',\n",
       "  'email_name': '[#MightCouldDrawToday] Week 25 Drawing Prompt + Week 24 Winner!'},\n",
       " {'delivered': True,\n",
       "  'opened': True,\n",
       "  'clicked': False,\n",
       "  'bounced': False,\n",
       "  'failed': False,\n",
       "  'deliver_date': datetime.datetime(2018, 7, 31, 15, 39, tzinfo=<DstTzInfo 'US/Eastern' EDT-1 day, 20:00:00 DST>),\n",
       "  'open_date': datetime.datetime(2018, 7, 31, 19, 13, tzinfo=<DstTzInfo 'US/Eastern' EDT-1 day, 20:00:00 DST>),\n",
       "  'click_date': None,\n",
       "  'email_id': '1552091',\n",
       "  'email_name': '[Might Could Resource] Sprezzatura in Food + Art: Part 2'},\n",
       " {'delivered': True,\n",
       "  'opened': True,\n",
       "  'clicked': True,\n",
       "  'bounced': False,\n",
       "  'failed': False,\n",
       "  'deliver_date': datetime.datetime(2018, 7, 30, 12, 19, tzinfo=<DstTzInfo 'US/Eastern' EDT-1 day, 20:00:00 DST>),\n",
       "  'open_date': None,\n",
       "  'click_date': datetime.datetime(2018, 7, 30, 12, 49, tzinfo=<DstTzInfo 'US/Eastern' EDT-1 day, 20:00:00 DST>),\n",
       "  'email_id': '1548574',\n",
       "  'email_name': '[#MightCouldDrawToday] Week 24 Drawing Prompt + Week 23 Winner!'},\n",
       " {'delivered': True,\n",
       "  'opened': True,\n",
       "  'clicked': False,\n",
       "  'bounced': False,\n",
       "  'failed': False,\n",
       "  'deliver_date': datetime.datetime(2018, 7, 24, 13, 36, tzinfo=<DstTzInfo 'US/Eastern' EDT-1 day, 20:00:00 DST>),\n",
       "  'open_date': datetime.datetime(2018, 7, 24, 14, 26, tzinfo=<DstTzInfo 'US/Eastern' EDT-1 day, 20:00:00 DST>),\n",
       "  'click_date': None,\n",
       "  'email_id': '1534489',\n",
       "  'email_name': '[Might Could Resource] Sprezzatura in Food and Art: Part 1'},\n",
       " {'delivered': True,\n",
       "  'opened': True,\n",
       "  'clicked': True,\n",
       "  'bounced': False,\n",
       "  'failed': False,\n",
       "  'deliver_date': datetime.datetime(2018, 7, 23, 12, 28, tzinfo=<DstTzInfo 'US/Eastern' EDT-1 day, 20:00:00 DST>),\n",
       "  'open_date': None,\n",
       "  'click_date': datetime.datetime(2018, 7, 23, 12, 36, tzinfo=<DstTzInfo 'US/Eastern' EDT-1 day, 20:00:00 DST>),\n",
       "  'email_id': '1531532',\n",
       "  'email_name': '[#MightCouldDrawToday] Week 23 Drawing Prompt + Week 22 Winner!'},\n",
       " {'delivered': True,\n",
       "  'opened': True,\n",
       "  'clicked': False,\n",
       "  'bounced': False,\n",
       "  'failed': False,\n",
       "  'deliver_date': datetime.datetime(2018, 7, 17, 15, 12, tzinfo=<DstTzInfo 'US/Eastern' EDT-1 day, 20:00:00 DST>),\n",
       "  'open_date': datetime.datetime(2018, 7, 17, 17, 43, tzinfo=<DstTzInfo 'US/Eastern' EDT-1 day, 20:00:00 DST>),\n",
       "  'click_date': None,\n",
       "  'email_id': '1517807',\n",
       "  'email_name': \"[Might Could Resource] I'm Back, BABY!\"},\n",
       " {'delivered': True,\n",
       "  'opened': True,\n",
       "  'clicked': False,\n",
       "  'bounced': False,\n",
       "  'failed': False,\n",
       "  'deliver_date': datetime.datetime(2018, 7, 16, 12, 52, tzinfo=<DstTzInfo 'US/Eastern' EDT-1 day, 20:00:00 DST>),\n",
       "  'open_date': datetime.datetime(2018, 7, 16, 13, 17, tzinfo=<DstTzInfo 'US/Eastern' EDT-1 day, 20:00:00 DST>),\n",
       "  'click_date': None,\n",
       "  'email_id': '1514283',\n",
       "  'email_name': '[#MightCouldDrawToday] Week 22 Drawing Prompt + Week 21 Winner!'},\n",
       " {'delivered': True,\n",
       "  'opened': True,\n",
       "  'clicked': True,\n",
       "  'bounced': False,\n",
       "  'failed': False,\n",
       "  'deliver_date': datetime.datetime(2018, 7, 9, 13, 16, tzinfo=<DstTzInfo 'US/Eastern' EDT-1 day, 20:00:00 DST>),\n",
       "  'open_date': None,\n",
       "  'click_date': datetime.datetime(2018, 7, 9, 18, 45, tzinfo=<DstTzInfo 'US/Eastern' EDT-1 day, 20:00:00 DST>),\n",
       "  'email_id': '1497340',\n",
       "  'email_name': '[#MightCouldDrawToday] Week 21 Drawing Prompt + Week 20 Winner!'},\n",
       " {'delivered': True,\n",
       "  'opened': True,\n",
       "  'clicked': True,\n",
       "  'bounced': False,\n",
       "  'failed': False,\n",
       "  'deliver_date': datetime.datetime(2018, 7, 2, 13, 40, tzinfo=<DstTzInfo 'US/Eastern' EDT-1 day, 20:00:00 DST>),\n",
       "  'open_date': None,\n",
       "  'click_date': datetime.datetime(2018, 7, 2, 14, 10, tzinfo=<DstTzInfo 'US/Eastern' EDT-1 day, 20:00:00 DST>),\n",
       "  'email_id': '1481558',\n",
       "  'email_name': '[#MightCouldDrawToday] Week 20 Drawing Prompt + Week 19 Winner!'},\n",
       " {'delivered': True,\n",
       "  'opened': True,\n",
       "  'clicked': False,\n",
       "  'bounced': False,\n",
       "  'failed': False,\n",
       "  'deliver_date': datetime.datetime(2018, 6, 25, 10, 2, tzinfo=<DstTzInfo 'US/Eastern' EDT-1 day, 20:00:00 DST>),\n",
       "  'open_date': datetime.datetime(2018, 6, 25, 10, 29, tzinfo=<DstTzInfo 'US/Eastern' EDT-1 day, 20:00:00 DST>),\n",
       "  'click_date': None,\n",
       "  'email_id': '1463399',\n",
       "  'email_name': '[#MightCouldDrawToday] Week 19 Drawing Prompt + Week 18 Winner!'},\n",
       " {'delivered': True,\n",
       "  'opened': True,\n",
       "  'clicked': True,\n",
       "  'bounced': False,\n",
       "  'failed': False,\n",
       "  'deliver_date': datetime.datetime(2018, 6, 18, 9, 35, tzinfo=<DstTzInfo 'US/Eastern' EDT-1 day, 20:00:00 DST>),\n",
       "  'open_date': None,\n",
       "  'click_date': datetime.datetime(2018, 6, 19, 6, 27, tzinfo=<DstTzInfo 'US/Eastern' EDT-1 day, 20:00:00 DST>),\n",
       "  'email_id': '1446188',\n",
       "  'email_name': '[#MightCouldDrawToday] Week 18 Drawing Prompt + Week 17 Winner!'},\n",
       " {'delivered': True,\n",
       "  'opened': True,\n",
       "  'clicked': True,\n",
       "  'bounced': False,\n",
       "  'failed': False,\n",
       "  'deliver_date': datetime.datetime(2018, 6, 11, 9, 41, tzinfo=<DstTzInfo 'US/Eastern' EDT-1 day, 20:00:00 DST>),\n",
       "  'open_date': None,\n",
       "  'click_date': datetime.datetime(2018, 6, 11, 10, 7, tzinfo=<DstTzInfo 'US/Eastern' EDT-1 day, 20:00:00 DST>),\n",
       "  'email_id': '1429221',\n",
       "  'email_name': '[#MightCouldDrawToday] Week 17 Drawing Prompt + Week 16 Winner!'},\n",
       " {'delivered': True,\n",
       "  'opened': True,\n",
       "  'clicked': True,\n",
       "  'bounced': False,\n",
       "  'failed': False,\n",
       "  'deliver_date': datetime.datetime(2018, 6, 4, 11, 14, tzinfo=<DstTzInfo 'US/Eastern' EDT-1 day, 20:00:00 DST>),\n",
       "  'open_date': None,\n",
       "  'click_date': datetime.datetime(2018, 6, 4, 11, 27, tzinfo=<DstTzInfo 'US/Eastern' EDT-1 day, 20:00:00 DST>),\n",
       "  'email_id': '1412610',\n",
       "  'email_name': '[#MightCouldDrawToday] Week 16 Drawing Prompt + Week 15 Winner!'},\n",
       " {'delivered': True,\n",
       "  'opened': True,\n",
       "  'clicked': False,\n",
       "  'bounced': False,\n",
       "  'failed': False,\n",
       "  'deliver_date': datetime.datetime(2018, 5, 28, 9, 11, tzinfo=<DstTzInfo 'US/Eastern' EDT-1 day, 20:00:00 DST>),\n",
       "  'open_date': datetime.datetime(2018, 5, 28, 9, 42, tzinfo=<DstTzInfo 'US/Eastern' EDT-1 day, 20:00:00 DST>),\n",
       "  'click_date': None,\n",
       "  'email_id': '1394340',\n",
       "  'email_name': '[#MightCouldDrawToday] Week 15 Drawing Prompt + Week 14 Winner!'},\n",
       " {'delivered': True,\n",
       "  'opened': True,\n",
       "  'clicked': True,\n",
       "  'bounced': False,\n",
       "  'failed': False,\n",
       "  'deliver_date': datetime.datetime(2018, 5, 22, 10, 1, tzinfo=<DstTzInfo 'US/Eastern' EDT-1 day, 20:00:00 DST>),\n",
       "  'open_date': None,\n",
       "  'click_date': datetime.datetime(2018, 5, 22, 10, 30, tzinfo=<DstTzInfo 'US/Eastern' EDT-1 day, 20:00:00 DST>),\n",
       "  'email_id': '1377210',\n",
       "  'email_name': '[Might Could Resource] Relax, Recharge, and Recalibrate'},\n",
       " {'delivered': True,\n",
       "  'opened': True,\n",
       "  'clicked': False,\n",
       "  'bounced': False,\n",
       "  'failed': False,\n",
       "  'deliver_date': datetime.datetime(2018, 5, 21, 11, 0, tzinfo=<DstTzInfo 'US/Eastern' EDT-1 day, 20:00:00 DST>),\n",
       "  'open_date': datetime.datetime(2018, 5, 21, 11, 35, tzinfo=<DstTzInfo 'US/Eastern' EDT-1 day, 20:00:00 DST>),\n",
       "  'click_date': None,\n",
       "  'email_id': '1374092',\n",
       "  'email_name': '[#MightCouldDrawToday] Week 14 Drawing Prompt + Week 13 Winner!'},\n",
       " {'delivered': True,\n",
       "  'opened': True,\n",
       "  'clicked': True,\n",
       "  'bounced': False,\n",
       "  'failed': False,\n",
       "  'deliver_date': datetime.datetime(2018, 5, 14, 8, 53, tzinfo=<DstTzInfo 'US/Eastern' EDT-1 day, 20:00:00 DST>),\n",
       "  'open_date': None,\n",
       "  'click_date': datetime.datetime(2018, 5, 14, 9, 22, tzinfo=<DstTzInfo 'US/Eastern' EDT-1 day, 20:00:00 DST>),\n",
       "  'email_id': '1354640',\n",
       "  'email_name': '[#MightCouldDrawToday] Week 13 Drawing Prompt + Week 12 Winner!'},\n",
       " {'delivered': True,\n",
       "  'opened': True,\n",
       "  'clicked': False,\n",
       "  'bounced': False,\n",
       "  'failed': False,\n",
       "  'deliver_date': datetime.datetime(2018, 5, 8, 11, 16, tzinfo=<DstTzInfo 'US/Eastern' EDT-1 day, 20:00:00 DST>),\n",
       "  'open_date': datetime.datetime(2018, 5, 8, 11, 37, tzinfo=<DstTzInfo 'US/Eastern' EDT-1 day, 20:00:00 DST>),\n",
       "  'click_date': None,\n",
       "  'email_id': '1339728',\n",
       "  'email_name': \"[Might Could Resource] Online Art Classes Don't Work\"},\n",
       " {'delivered': True,\n",
       "  'opened': True,\n",
       "  'clicked': True,\n",
       "  'bounced': False,\n",
       "  'failed': False,\n",
       "  'deliver_date': datetime.datetime(2018, 5, 7, 7, 53, tzinfo=<DstTzInfo 'US/Eastern' EDT-1 day, 20:00:00 DST>),\n",
       "  'open_date': None,\n",
       "  'click_date': datetime.datetime(2018, 5, 7, 8, 7, tzinfo=<DstTzInfo 'US/Eastern' EDT-1 day, 20:00:00 DST>),\n",
       "  'email_id': '1335788',\n",
       "  'email_name': '[#MightCouldDrawToday] Week 12 Drawing Prompt + Week 11 Winner!'},\n",
       " {'delivered': True,\n",
       "  'opened': True,\n",
       "  'clicked': True,\n",
       "  'bounced': False,\n",
       "  'failed': False,\n",
       "  'deliver_date': datetime.datetime(2018, 5, 3, 15, 5, tzinfo=<DstTzInfo 'US/Eastern' EDT-1 day, 20:00:00 DST>),\n",
       "  'open_date': None,\n",
       "  'click_date': datetime.datetime(2018, 5, 3, 23, 36, tzinfo=<DstTzInfo 'US/Eastern' EDT-1 day, 20:00:00 DST>),\n",
       "  'email_id': '1328082',\n",
       "  'email_name': \"[Sketchbook Students Only] BIG NEWS! Upgrade 2.0 + WE'RE MOVING!\"},\n",
       " {'delivered': True,\n",
       "  'opened': True,\n",
       "  'clicked': False,\n",
       "  'bounced': False,\n",
       "  'failed': False,\n",
       "  'deliver_date': datetime.datetime(2018, 5, 1, 10, 55, tzinfo=<DstTzInfo 'US/Eastern' EDT-1 day, 20:00:00 DST>),\n",
       "  'open_date': datetime.datetime(2018, 5, 2, 8, 46, tzinfo=<DstTzInfo 'US/Eastern' EDT-1 day, 20:00:00 DST>),\n",
       "  'click_date': None,\n",
       "  'email_id': '1321112',\n",
       "  'email_name': '[Might Could Resource] I’m Not a Teacher'},\n",
       " {'delivered': True,\n",
       "  'opened': True,\n",
       "  'clicked': True,\n",
       "  'bounced': False,\n",
       "  'failed': False,\n",
       "  'deliver_date': datetime.datetime(2018, 4, 30, 9, 54, tzinfo=<DstTzInfo 'US/Eastern' EDT-1 day, 20:00:00 DST>),\n",
       "  'open_date': None,\n",
       "  'click_date': datetime.datetime(2018, 4, 30, 10, 22, tzinfo=<DstTzInfo 'US/Eastern' EDT-1 day, 20:00:00 DST>),\n",
       "  'email_id': '1317665',\n",
       "  'email_name': '[#MightCouldDrawToday] Week 11 Drawing Prompt + Week 10 Winner!'},\n",
       " {'delivered': True,\n",
       "  'opened': True,\n",
       "  'clicked': False,\n",
       "  'bounced': False,\n",
       "  'failed': False,\n",
       "  'deliver_date': datetime.datetime(2018, 4, 24, 14, 41, tzinfo=<DstTzInfo 'US/Eastern' EDT-1 day, 20:00:00 DST>),\n",
       "  'open_date': datetime.datetime(2018, 4, 24, 15, 45, tzinfo=<DstTzInfo 'US/Eastern' EDT-1 day, 20:00:00 DST>),\n",
       "  'click_date': None,\n",
       "  'email_id': '1303419',\n",
       "  'email_name': '[Might Could Resource] How to Learn to Be an Artist'},\n",
       " {'delivered': True,\n",
       "  'opened': True,\n",
       "  'clicked': True,\n",
       "  'bounced': False,\n",
       "  'failed': False,\n",
       "  'deliver_date': datetime.datetime(2018, 4, 23, 9, 45, tzinfo=<DstTzInfo 'US/Eastern' EDT-1 day, 20:00:00 DST>),\n",
       "  'open_date': None,\n",
       "  'click_date': datetime.datetime(2018, 4, 23, 11, 40, tzinfo=<DstTzInfo 'US/Eastern' EDT-1 day, 20:00:00 DST>),\n",
       "  'email_id': '1299366',\n",
       "  'email_name': '[#MightCouldDrawToday] Week 10 Drawing Prompt + Week 9 Winner!'},\n",
       " {'delivered': True,\n",
       "  'opened': True,\n",
       "  'clicked': False,\n",
       "  'bounced': False,\n",
       "  'failed': False,\n",
       "  'deliver_date': datetime.datetime(2018, 4, 17, 12, 29, tzinfo=<DstTzInfo 'US/Eastern' EDT-1 day, 20:00:00 DST>),\n",
       "  'open_date': datetime.datetime(2018, 4, 19, 10, 31, tzinfo=<DstTzInfo 'US/Eastern' EDT-1 day, 20:00:00 DST>),\n",
       "  'click_date': None,\n",
       "  'email_id': '1285082',\n",
       "  'email_name': '[Might Could Resource] 45,000 Students + 1,000,000 Minutes of Art Courses'},\n",
       " {'delivered': True,\n",
       "  'opened': True,\n",
       "  'clicked': True,\n",
       "  'bounced': False,\n",
       "  'failed': False,\n",
       "  'deliver_date': datetime.datetime(2018, 4, 16, 9, 13, tzinfo=<DstTzInfo 'US/Eastern' EDT-1 day, 20:00:00 DST>),\n",
       "  'open_date': None,\n",
       "  'click_date': datetime.datetime(2018, 4, 16, 9, 39, tzinfo=<DstTzInfo 'US/Eastern' EDT-1 day, 20:00:00 DST>),\n",
       "  'email_id': '1281283',\n",
       "  'email_name': '[#MightCouldDrawToday] Week 9 Drawing Prompt + Week 8 Winner!'},\n",
       " {'delivered': True,\n",
       "  'opened': True,\n",
       "  'clicked': False,\n",
       "  'bounced': False,\n",
       "  'failed': False,\n",
       "  'deliver_date': datetime.datetime(2018, 4, 10, 14, 26, tzinfo=<DstTzInfo 'US/Eastern' EDT-1 day, 20:00:00 DST>),\n",
       "  'open_date': datetime.datetime(2018, 4, 10, 14, 34, tzinfo=<DstTzInfo 'US/Eastern' EDT-1 day, 20:00:00 DST>),\n",
       "  'click_date': None,\n",
       "  'email_id': '1266363',\n",
       "  'email_name': '[Might Could Resource] The Secret to Building Artistic Confidence'},\n",
       " {'delivered': True,\n",
       "  'opened': True,\n",
       "  'clicked': True,\n",
       "  'bounced': False,\n",
       "  'failed': False,\n",
       "  'deliver_date': datetime.datetime(2018, 4, 9, 10, 16, tzinfo=<DstTzInfo 'US/Eastern' EDT-1 day, 20:00:00 DST>),\n",
       "  'open_date': None,\n",
       "  'click_date': datetime.datetime(2018, 4, 9, 10, 56, tzinfo=<DstTzInfo 'US/Eastern' EDT-1 day, 20:00:00 DST>),\n",
       "  'email_id': '1262496',\n",
       "  'email_name': '[#MightCouldDrawToday] Week 8 Drawing Prompt + Week 7 Winner!'},\n",
       " {'delivered': True,\n",
       "  'opened': True,\n",
       "  'clicked': False,\n",
       "  'bounced': False,\n",
       "  'failed': False,\n",
       "  'deliver_date': datetime.datetime(2018, 4, 4, 11, 24, tzinfo=<DstTzInfo 'US/Eastern' EDT-1 day, 20:00:00 DST>),\n",
       "  'open_date': datetime.datetime(2018, 4, 4, 12, 14, tzinfo=<DstTzInfo 'US/Eastern' EDT-1 day, 20:00:00 DST>),\n",
       "  'click_date': None,\n",
       "  'email_id': '1266823',\n",
       "  'email_name': \"[Sketchbook Students Only] You're doing AMAZING!\"},\n",
       " {'delivered': True,\n",
       "  'opened': True,\n",
       "  'clicked': False,\n",
       "  'bounced': False,\n",
       "  'failed': False,\n",
       "  'deliver_date': datetime.datetime(2018, 4, 3, 13, 15, tzinfo=<DstTzInfo 'US/Eastern' EDT-1 day, 20:00:00 DST>),\n",
       "  'open_date': datetime.datetime(2018, 4, 3, 16, 31, tzinfo=<DstTzInfo 'US/Eastern' EDT-1 day, 20:00:00 DST>),\n",
       "  'click_date': None,\n",
       "  'email_id': '1247955',\n",
       "  'email_name': '4 Steps to Get Out of a Creative Funk'},\n",
       " {'delivered': True,\n",
       "  'opened': True,\n",
       "  'clicked': True,\n",
       "  'bounced': False,\n",
       "  'failed': False,\n",
       "  'deliver_date': datetime.datetime(2018, 4, 2, 18, 11, tzinfo=<DstTzInfo 'US/Eastern' EDT-1 day, 20:00:00 DST>),\n",
       "  'open_date': None,\n",
       "  'click_date': datetime.datetime(2018, 4, 2, 18, 25, tzinfo=<DstTzInfo 'US/Eastern' EDT-1 day, 20:00:00 DST>),\n",
       "  'email_id': '1245615',\n",
       "  'email_name': \"[#MightCouldDrawToday] I'M LATE, I'M LATE! // Week 7 Drawing Prompt + Week 6 Winner!\"},\n",
       " {'delivered': True,\n",
       "  'opened': True,\n",
       "  'clicked': False,\n",
       "  'bounced': False,\n",
       "  'failed': False,\n",
       "  'deliver_date': datetime.datetime(2018, 3, 27, 15, 10, tzinfo=<DstTzInfo 'US/Eastern' EDT-1 day, 20:00:00 DST>),\n",
       "  'open_date': datetime.datetime(2018, 3, 27, 19, 48, tzinfo=<DstTzInfo 'US/Eastern' EDT-1 day, 20:00:00 DST>),\n",
       "  'click_date': None,\n",
       "  'email_id': '1230796',\n",
       "  'email_name': 'Don’t Wait for Inspiration—Make It.'},\n",
       " {'delivered': True,\n",
       "  'opened': True,\n",
       "  'clicked': True,\n",
       "  'bounced': False,\n",
       "  'failed': False,\n",
       "  'deliver_date': datetime.datetime(2018, 3, 26, 8, 37, tzinfo=<DstTzInfo 'US/Eastern' EDT-1 day, 20:00:00 DST>),\n",
       "  'open_date': None,\n",
       "  'click_date': datetime.datetime(2018, 3, 26, 8, 59, tzinfo=<DstTzInfo 'US/Eastern' EDT-1 day, 20:00:00 DST>),\n",
       "  'email_id': '1226499',\n",
       "  'email_name': '[#MightCouldDrawToday] Week 6 Drawing Prompt + Week 5 Winner!'},\n",
       " {'delivered': True,\n",
       "  'opened': True,\n",
       "  'clicked': False,\n",
       "  'bounced': False,\n",
       "  'failed': False,\n",
       "  'deliver_date': datetime.datetime(2018, 3, 20, 11, 32, tzinfo=<DstTzInfo 'US/Eastern' EDT-1 day, 20:00:00 DST>),\n",
       "  'open_date': datetime.datetime(2018, 3, 21, 9, 48, tzinfo=<DstTzInfo 'US/Eastern' EDT-1 day, 20:00:00 DST>),\n",
       "  'click_date': None,\n",
       "  'email_id': '1212390',\n",
       "  'email_name': \"'Tain't What You Do (It's the Way That You Do It)\"},\n",
       " {'delivered': True,\n",
       "  'opened': True,\n",
       "  'clicked': True,\n",
       "  'bounced': False,\n",
       "  'failed': False,\n",
       "  'deliver_date': datetime.datetime(2018, 3, 19, 9, 16, tzinfo=<DstTzInfo 'US/Eastern' EDT-1 day, 20:00:00 DST>),\n",
       "  'open_date': None,\n",
       "  'click_date': datetime.datetime(2018, 3, 19, 9, 27, tzinfo=<DstTzInfo 'US/Eastern' EDT-1 day, 20:00:00 DST>),\n",
       "  'email_id': '1208966',\n",
       "  'email_name': '[#MightCouldDrawToday] Week 5 Drawing Prompt + TWO Week 4 Winners!'},\n",
       " {'delivered': True,\n",
       "  'opened': True,\n",
       "  'clicked': False,\n",
       "  'bounced': False,\n",
       "  'failed': False,\n",
       "  'deliver_date': datetime.datetime(2018, 3, 13, 11, 32, tzinfo=<DstTzInfo 'US/Eastern' EDT-1 day, 20:00:00 DST>),\n",
       "  'open_date': datetime.datetime(2018, 3, 13, 12, 33, tzinfo=<DstTzInfo 'US/Eastern' EDT-1 day, 20:00:00 DST>),\n",
       "  'click_date': None,\n",
       "  'email_id': '1194777',\n",
       "  'email_name': \"Artistic Style Isn't Static—It's Evolving\"},\n",
       " {'delivered': True,\n",
       "  'opened': True,\n",
       "  'clicked': True,\n",
       "  'bounced': False,\n",
       "  'failed': False,\n",
       "  'deliver_date': datetime.datetime(2018, 3, 12, 11, 0, tzinfo=<DstTzInfo 'US/Eastern' EDT-1 day, 20:00:00 DST>),\n",
       "  'open_date': None,\n",
       "  'click_date': datetime.datetime(2018, 3, 12, 11, 32, tzinfo=<DstTzInfo 'US/Eastern' EDT-1 day, 20:00:00 DST>),\n",
       "  'email_id': '1191646',\n",
       "  'email_name': '[#MightCouldDrawToday] Week 4 Drawing Prompt + Week 3 Winner!'},\n",
       " {'delivered': True,\n",
       "  'opened': True,\n",
       "  'clicked': False,\n",
       "  'bounced': False,\n",
       "  'failed': False,\n",
       "  'deliver_date': datetime.datetime(2018, 3, 7, 9, 12, tzinfo=<DstTzInfo 'US/Eastern' EST-1 day, 19:00:00 STD>),\n",
       "  'open_date': datetime.datetime(2018, 3, 7, 9, 23, tzinfo=<DstTzInfo 'US/Eastern' EST-1 day, 19:00:00 STD>),\n",
       "  'click_date': None,\n",
       "  'email_id': '1179487',\n",
       "  'email_name': '[Sketchbook Students Only] ❤️THANK YOU! ❤️'},\n",
       " {'delivered': True,\n",
       "  'opened': True,\n",
       "  'clicked': False,\n",
       "  'bounced': False,\n",
       "  'failed': False,\n",
       "  'deliver_date': datetime.datetime(2018, 3, 6, 14, 17, tzinfo=<DstTzInfo 'US/Eastern' EST-1 day, 19:00:00 STD>),\n",
       "  'open_date': datetime.datetime(2018, 3, 6, 15, 6, tzinfo=<DstTzInfo 'US/Eastern' EST-1 day, 19:00:00 STD>),\n",
       "  'click_date': None,\n",
       "  'email_id': '1177540',\n",
       "  'email_name': 'The 5 Types of Creative\\xa0Block (and How to Break Through)'},\n",
       " {'delivered': True,\n",
       "  'opened': True,\n",
       "  'clicked': True,\n",
       "  'bounced': False,\n",
       "  'failed': False,\n",
       "  'deliver_date': datetime.datetime(2018, 3, 5, 8, 38, tzinfo=<DstTzInfo 'US/Eastern' EST-1 day, 19:00:00 STD>),\n",
       "  'open_date': None,\n",
       "  'click_date': datetime.datetime(2018, 3, 5, 8, 57, tzinfo=<DstTzInfo 'US/Eastern' EST-1 day, 19:00:00 STD>),\n",
       "  'email_id': '1173463',\n",
       "  'email_name': '[#MightCouldDrawToday] Week 3 Drawing Prompt + Week 2 Winner!'},\n",
       " {'delivered': True,\n",
       "  'opened': True,\n",
       "  'clicked': True,\n",
       "  'bounced': False,\n",
       "  'failed': False,\n",
       "  'deliver_date': datetime.datetime(2018, 3, 1, 15, 36, tzinfo=<DstTzInfo 'US/Eastern' EST-1 day, 19:00:00 STD>),\n",
       "  'open_date': None,\n",
       "  'click_date': datetime.datetime(2018, 3, 1, 16, 41, tzinfo=<DstTzInfo 'US/Eastern' EST-1 day, 19:00:00 STD>),\n",
       "  'email_id': '1165833',\n",
       "  'email_name': \"[Sketchbook Students Only] I don't always send surveys, but when I do...\"},\n",
       " {'delivered': True,\n",
       "  'opened': True,\n",
       "  'clicked': False,\n",
       "  'bounced': False,\n",
       "  'failed': False,\n",
       "  'deliver_date': datetime.datetime(2018, 2, 27, 14, 18, tzinfo=<DstTzInfo 'US/Eastern' EST-1 day, 19:00:00 STD>),\n",
       "  'open_date': datetime.datetime(2018, 2, 27, 16, 49, tzinfo=<DstTzInfo 'US/Eastern' EST-1 day, 19:00:00 STD>),\n",
       "  'click_date': None,\n",
       "  'email_id': '1159636',\n",
       "  'email_name': 'This is What Failure Looks Like'},\n",
       " {'delivered': True,\n",
       "  'opened': True,\n",
       "  'clicked': True,\n",
       "  'bounced': False,\n",
       "  'failed': False,\n",
       "  'deliver_date': datetime.datetime(2018, 2, 26, 10, 47, tzinfo=<DstTzInfo 'US/Eastern' EST-1 day, 19:00:00 STD>),\n",
       "  'open_date': None,\n",
       "  'click_date': datetime.datetime(2018, 2, 26, 10, 55, tzinfo=<DstTzInfo 'US/Eastern' EST-1 day, 19:00:00 STD>),\n",
       "  'email_id': '272098',\n",
       "  'email_name': \"Here's your Influence Map Making Guide!\"},\n",
       " {'delivered': True,\n",
       "  'opened': True,\n",
       "  'clicked': True,\n",
       "  'bounced': False,\n",
       "  'failed': False,\n",
       "  'deliver_date': datetime.datetime(2018, 2, 26, 10, 26, tzinfo=<DstTzInfo 'US/Eastern' EST-1 day, 19:00:00 STD>),\n",
       "  'open_date': None,\n",
       "  'click_date': datetime.datetime(2018, 2, 26, 10, 55, tzinfo=<DstTzInfo 'US/Eastern' EST-1 day, 19:00:00 STD>),\n",
       "  'email_id': '1155954',\n",
       "  'email_name': '[#MightCouldDrawToday] Week 2 Drawing Prompt + Week 1 Winner!'},\n",
       " {'delivered': True,\n",
       "  'opened': True,\n",
       "  'clicked': False,\n",
       "  'bounced': False,\n",
       "  'failed': False,\n",
       "  'deliver_date': datetime.datetime(2018, 2, 23, 10, 16, tzinfo=<DstTzInfo 'US/Eastern' EST-1 day, 19:00:00 STD>),\n",
       "  'open_date': datetime.datetime(2018, 2, 23, 10, 42, tzinfo=<DstTzInfo 'US/Eastern' EST-1 day, 19:00:00 STD>),\n",
       "  'click_date': None,\n",
       "  'email_id': '1052966',\n",
       "  'email_name': '[Sketchbook Students Only] WRAPPING UP!'},\n",
       " {'delivered': True,\n",
       "  'opened': True,\n",
       "  'clicked': False,\n",
       "  'bounced': False,\n",
       "  'failed': False,\n",
       "  'deliver_date': datetime.datetime(2018, 2, 20, 12, 13, tzinfo=<DstTzInfo 'US/Eastern' EST-1 day, 19:00:00 STD>),\n",
       "  'open_date': datetime.datetime(2018, 2, 20, 12, 25, tzinfo=<DstTzInfo 'US/Eastern' EST-1 day, 19:00:00 STD>),\n",
       "  'click_date': None,\n",
       "  'email_id': '1142336',\n",
       "  'email_name': 'Everybody Bombs'},\n",
       " {'delivered': True,\n",
       "  'opened': True,\n",
       "  'clicked': False,\n",
       "  'bounced': False,\n",
       "  'failed': False,\n",
       "  'deliver_date': datetime.datetime(2018, 2, 19, 10, 20, tzinfo=<DstTzInfo 'US/Eastern' EST-1 day, 19:00:00 STD>),\n",
       "  'open_date': datetime.datetime(2018, 2, 19, 10, 29, tzinfo=<DstTzInfo 'US/Eastern' EST-1 day, 19:00:00 STD>),\n",
       "  'click_date': None,\n",
       "  'email_id': '1139190',\n",
       "  'email_name': '[#MightCouldDrawToday] Week 1 Drawing Prompt!'},\n",
       " {'delivered': True,\n",
       "  'opened': True,\n",
       "  'clicked': False,\n",
       "  'bounced': False,\n",
       "  'failed': False,\n",
       "  'deliver_date': datetime.datetime(2018, 2, 16, 10, 19, tzinfo=<DstTzInfo 'US/Eastern' EST-1 day, 19:00:00 STD>),\n",
       "  'open_date': datetime.datetime(2018, 2, 16, 16, 12, tzinfo=<DstTzInfo 'US/Eastern' EST-1 day, 19:00:00 STD>),\n",
       "  'click_date': None,\n",
       "  'email_id': '1052965',\n",
       "  'email_name': '[Sketchbook Students Only] Drawing in Plein Air'},\n",
       " {'delivered': True,\n",
       "  'opened': True,\n",
       "  'clicked': True,\n",
       "  'bounced': False,\n",
       "  'failed': False,\n",
       "  'deliver_date': datetime.datetime(2018, 2, 13, 13, 8, tzinfo=<DstTzInfo 'US/Eastern' EST-1 day, 19:00:00 STD>),\n",
       "  'open_date': None,\n",
       "  'click_date': datetime.datetime(2018, 2, 13, 13, 36, tzinfo=<DstTzInfo 'US/Eastern' EST-1 day, 19:00:00 STD>),\n",
       "  'email_id': '1125842',\n",
       "  'email_name': 'New Drawing Challenge: Might Could Draw Today!'},\n",
       " {'delivered': True,\n",
       "  'opened': True,\n",
       "  'clicked': False,\n",
       "  'bounced': False,\n",
       "  'failed': False,\n",
       "  'deliver_date': datetime.datetime(2018, 2, 9, 10, 34, tzinfo=<DstTzInfo 'US/Eastern' EST-1 day, 19:00:00 STD>),\n",
       "  'open_date': datetime.datetime(2018, 2, 9, 10, 54, tzinfo=<DstTzInfo 'US/Eastern' EST-1 day, 19:00:00 STD>),\n",
       "  'click_date': None,\n",
       "  'email_id': '1052964',\n",
       "  'email_name': '[Sketchbook Students Only] Drawing Daily Life'},\n",
       " {'delivered': True,\n",
       "  'opened': True,\n",
       "  'clicked': False,\n",
       "  'bounced': False,\n",
       "  'failed': False,\n",
       "  'deliver_date': datetime.datetime(2018, 2, 6, 11, 46, tzinfo=<DstTzInfo 'US/Eastern' EST-1 day, 19:00:00 STD>),\n",
       "  'open_date': datetime.datetime(2018, 2, 6, 16, 54, tzinfo=<DstTzInfo 'US/Eastern' EST-1 day, 19:00:00 STD>),\n",
       "  'click_date': None,\n",
       "  'email_id': '1109060',\n",
       "  'email_name': 'So Be It! See to It!'},\n",
       " {'delivered': True,\n",
       "  'opened': True,\n",
       "  'clicked': False,\n",
       "  'bounced': False,\n",
       "  'failed': False,\n",
       "  'deliver_date': datetime.datetime(2018, 2, 2, 10, 32, tzinfo=<DstTzInfo 'US/Eastern' EST-1 day, 19:00:00 STD>),\n",
       "  'open_date': datetime.datetime(2018, 2, 2, 10, 54, tzinfo=<DstTzInfo 'US/Eastern' EST-1 day, 19:00:00 STD>),\n",
       "  'click_date': None,\n",
       "  'email_id': '1052963',\n",
       "  'email_name': '[Sketchbook Students Only] Drawing to See and Seeing to Draw'},\n",
       " {'delivered': True,\n",
       "  'opened': False,\n",
       "  'clicked': False,\n",
       "  'bounced': False,\n",
       "  'failed': False,\n",
       "  'deliver_date': datetime.datetime(2018, 1, 30, 16, 44, tzinfo=<DstTzInfo 'US/Eastern' EST-1 day, 19:00:00 STD>),\n",
       "  'open_date': None,\n",
       "  'click_date': None,\n",
       "  'email_id': '1092978',\n",
       "  'email_name': 'How to Learn Imagination, Style, and Voice'},\n",
       " {'delivered': True,\n",
       "  'opened': True,\n",
       "  'clicked': False,\n",
       "  'bounced': False,\n",
       "  'failed': False,\n",
       "  'deliver_date': datetime.datetime(2018, 1, 26, 10, 34, tzinfo=<DstTzInfo 'US/Eastern' EST-1 day, 19:00:00 STD>),\n",
       "  'open_date': datetime.datetime(2018, 1, 26, 10, 51, tzinfo=<DstTzInfo 'US/Eastern' EST-1 day, 19:00:00 STD>),\n",
       "  'click_date': None,\n",
       "  'email_id': '1052962',\n",
       "  'email_name': '[Sketchbook Students Only] Doing the Work'},\n",
       " {'delivered': False,\n",
       "  'opened': True,\n",
       "  'clicked': False,\n",
       "  'bounced': False,\n",
       "  'failed': False,\n",
       "  'deliver_date': datetime.datetime(2018, 1, 23, 11, 54, tzinfo=<DstTzInfo 'US/Eastern' EST-1 day, 19:00:00 STD>),\n",
       "  'open_date': datetime.datetime(2018, 1, 23, 12, 36, tzinfo=<DstTzInfo 'US/Eastern' EST-1 day, 19:00:00 STD>),\n",
       "  'click_date': None,\n",
       "  'email_id': '1075961',\n",
       "  'email_name': \"10 Things I Learned from an Artist's Heart to Heart\"},\n",
       " {'delivered': True,\n",
       "  'opened': True,\n",
       "  'clicked': False,\n",
       "  'bounced': False,\n",
       "  'failed': False,\n",
       "  'deliver_date': datetime.datetime(2018, 1, 19, 10, 18, tzinfo=<DstTzInfo 'US/Eastern' EST-1 day, 19:00:00 STD>),\n",
       "  'open_date': datetime.datetime(2018, 1, 19, 13, 33, tzinfo=<DstTzInfo 'US/Eastern' EST-1 day, 19:00:00 STD>),\n",
       "  'click_date': None,\n",
       "  'email_id': '1052961',\n",
       "  'email_name': '[Sketchbook Students Only] Playing with Words and Lettering'},\n",
       " {'delivered': True,\n",
       "  'opened': True,\n",
       "  'clicked': False,\n",
       "  'bounced': False,\n",
       "  'failed': False,\n",
       "  'deliver_date': datetime.datetime(2018, 1, 16, 20, 2, tzinfo=<DstTzInfo 'US/Eastern' EST-1 day, 19:00:00 STD>),\n",
       "  'open_date': datetime.datetime(2018, 1, 16, 21, 25, tzinfo=<DstTzInfo 'US/Eastern' EST-1 day, 19:00:00 STD>),\n",
       "  'click_date': None,\n",
       "  'email_id': '1060917',\n",
       "  'email_name': 'Making Art the Wabi-Sabi Way'},\n",
       " {'delivered': False,\n",
       "  'opened': True,\n",
       "  'clicked': False,\n",
       "  'bounced': False,\n",
       "  'failed': False,\n",
       "  'deliver_date': datetime.datetime(2018, 1, 12, 10, 27, tzinfo=<DstTzInfo 'US/Eastern' EST-1 day, 19:00:00 STD>),\n",
       "  'open_date': datetime.datetime(2018, 1, 12, 10, 46, tzinfo=<DstTzInfo 'US/Eastern' EST-1 day, 19:00:00 STD>),\n",
       "  'click_date': None,\n",
       "  'email_id': '1052960',\n",
       "  'email_name': '[Sketchbook Students Only] Uncovering Our Ideas'},\n",
       " {'delivered': True,\n",
       "  'opened': True,\n",
       "  'clicked': True,\n",
       "  'bounced': False,\n",
       "  'failed': False,\n",
       "  'deliver_date': datetime.datetime(2018, 1, 9, 10, 54, tzinfo=<DstTzInfo 'US/Eastern' EST-1 day, 19:00:00 STD>),\n",
       "  'open_date': None,\n",
       "  'click_date': datetime.datetime(2018, 1, 9, 11, 9, tzinfo=<DstTzInfo 'US/Eastern' EST-1 day, 19:00:00 STD>),\n",
       "  'email_id': '1043722',\n",
       "  'email_name': 'This ONE THING Helped Me Draw *Almost* Every Day in 2017'},\n",
       " {'delivered': True,\n",
       "  'opened': True,\n",
       "  'clicked': False,\n",
       "  'bounced': False,\n",
       "  'failed': False,\n",
       "  'deliver_date': datetime.datetime(2018, 1, 5, 10, 24, tzinfo=<DstTzInfo 'US/Eastern' EST-1 day, 19:00:00 STD>),\n",
       "  'open_date': datetime.datetime(2018, 1, 5, 11, 4, tzinfo=<DstTzInfo 'US/Eastern' EST-1 day, 19:00:00 STD>),\n",
       "  'click_date': None,\n",
       "  'email_id': '1052959',\n",
       "  'email_name': '[Sketchbook Students Only] Developing a Creative Habit'},\n",
       " {'delivered': True,\n",
       "  'opened': True,\n",
       "  'clicked': False,\n",
       "  'bounced': False,\n",
       "  'failed': False,\n",
       "  'deliver_date': datetime.datetime(2017, 12, 27, 10, 18, tzinfo=<DstTzInfo 'US/Eastern' EST-1 day, 19:00:00 STD>),\n",
       "  'open_date': datetime.datetime(2017, 12, 27, 11, 14, tzinfo=<DstTzInfo 'US/Eastern' EST-1 day, 19:00:00 STD>),\n",
       "  'click_date': None,\n",
       "  'email_id': '1052225',\n",
       "  'email_name': '[Sketchbook Students Only] Exploring Our Voice'},\n",
       " {'delivered': True,\n",
       "  'opened': True,\n",
       "  'clicked': False,\n",
       "  'bounced': False,\n",
       "  'failed': False,\n",
       "  'deliver_date': datetime.datetime(2017, 12, 15, 12, 1, tzinfo=<DstTzInfo 'US/Eastern' EST-1 day, 19:00:00 STD>),\n",
       "  'open_date': datetime.datetime(2017, 12, 15, 12, 37, tzinfo=<DstTzInfo 'US/Eastern' EST-1 day, 19:00:00 STD>),\n",
       "  'click_date': None,\n",
       "  'email_id': '1024900',\n",
       "  'email_name': \"[Sketchbook Students Only] You're doing AMAZING!\"},\n",
       " {'delivered': True,\n",
       "  'opened': True,\n",
       "  'clicked': False,\n",
       "  'bounced': False,\n",
       "  'failed': False,\n",
       "  'deliver_date': datetime.datetime(2017, 12, 14, 11, 52, tzinfo=<DstTzInfo 'US/Eastern' EST-1 day, 19:00:00 STD>),\n",
       "  'open_date': datetime.datetime(2017, 12, 14, 12, 4, tzinfo=<DstTzInfo 'US/Eastern' EST-1 day, 19:00:00 STD>),\n",
       "  'click_date': None,\n",
       "  'email_id': '1052220',\n",
       "  'email_name': '[Sketchbook Students Only] Discovering Our Self'},\n",
       " {'delivered': True,\n",
       "  'opened': True,\n",
       "  'clicked': False,\n",
       "  'bounced': False,\n",
       "  'failed': False,\n",
       "  'deliver_date': datetime.datetime(2017, 12, 7, 11, 38, tzinfo=<DstTzInfo 'US/Eastern' EST-1 day, 19:00:00 STD>),\n",
       "  'open_date': datetime.datetime(2017, 12, 7, 11, 48, tzinfo=<DstTzInfo 'US/Eastern' EST-1 day, 19:00:00 STD>),\n",
       "  'click_date': None,\n",
       "  'email_id': '1052211',\n",
       "  'email_name': '[Sketchbook Students Only] Letting Go to Play'},\n",
       " {'delivered': True,\n",
       "  'opened': True,\n",
       "  'clicked': True,\n",
       "  'bounced': False,\n",
       "  'failed': False,\n",
       "  'deliver_date': datetime.datetime(2017, 12, 5, 13, 50, tzinfo=<DstTzInfo 'US/Eastern' EST-1 day, 19:00:00 STD>),\n",
       "  'open_date': None,\n",
       "  'click_date': datetime.datetime(2017, 12, 5, 14, 6, tzinfo=<DstTzInfo 'US/Eastern' EST-1 day, 19:00:00 STD>),\n",
       "  'email_id': '975316',\n",
       "  'email_name': 'How Changing Your Mindset Will Make You More Creative'},\n",
       " {'delivered': True,\n",
       "  'opened': True,\n",
       "  'clicked': False,\n",
       "  'bounced': False,\n",
       "  'failed': False,\n",
       "  'deliver_date': datetime.datetime(2017, 11, 30, 11, 23, tzinfo=<DstTzInfo 'US/Eastern' EST-1 day, 19:00:00 STD>),\n",
       "  'open_date': datetime.datetime(2017, 11, 30, 12, 9, tzinfo=<DstTzInfo 'US/Eastern' EST-1 day, 19:00:00 STD>),\n",
       "  'click_date': None,\n",
       "  'email_id': '1052210',\n",
       "  'email_name': '[Sketchbook Students Only] Becoming Present'},\n",
       " {'delivered': True,\n",
       "  'opened': True,\n",
       "  'clicked': False,\n",
       "  'bounced': False,\n",
       "  'failed': False,\n",
       "  'deliver_date': datetime.datetime(2017, 11, 23, 11, 50, tzinfo=<DstTzInfo 'US/Eastern' EST-1 day, 19:00:00 STD>),\n",
       "  'open_date': datetime.datetime(2017, 11, 23, 13, 11, tzinfo=<DstTzInfo 'US/Eastern' EST-1 day, 19:00:00 STD>),\n",
       "  'click_date': None,\n",
       "  'email_id': '1052209',\n",
       "  'email_name': '[Sketchbook Students Only] Making Marks Without Fear'},\n",
       " {'delivered': True,\n",
       "  'opened': True,\n",
       "  'clicked': False,\n",
       "  'bounced': False,\n",
       "  'failed': False,\n",
       "  'deliver_date': datetime.datetime(2017, 11, 16, 11, 37, tzinfo=<DstTzInfo 'US/Eastern' EST-1 day, 19:00:00 STD>),\n",
       "  'open_date': datetime.datetime(2017, 11, 16, 12, 31, tzinfo=<DstTzInfo 'US/Eastern' EST-1 day, 19:00:00 STD>),\n",
       "  'click_date': None,\n",
       "  'email_id': '1052200',\n",
       "  'email_name': '[Sketchbook Students Only] Freeing Your Hand'},\n",
       " {'delivered': True,\n",
       "  'opened': True,\n",
       "  'clicked': False,\n",
       "  'bounced': False,\n",
       "  'failed': False,\n",
       "  'deliver_date': datetime.datetime(2017, 11, 14, 13, 55, tzinfo=<DstTzInfo 'US/Eastern' EST-1 day, 19:00:00 STD>),\n",
       "  'open_date': datetime.datetime(2017, 11, 14, 15, 25, tzinfo=<DstTzInfo 'US/Eastern' EST-1 day, 19:00:00 STD>),\n",
       "  'click_date': None,\n",
       "  'email_id': '925728',\n",
       "  'email_name': \"Art vs art: And Why You Shouldn't Care\"},\n",
       " {'delivered': True,\n",
       "  'opened': True,\n",
       "  'clicked': False,\n",
       "  'bounced': False,\n",
       "  'failed': False,\n",
       "  'deliver_date': datetime.datetime(2017, 11, 9, 11, 39, tzinfo=<DstTzInfo 'US/Eastern' EST-1 day, 19:00:00 STD>),\n",
       "  'open_date': datetime.datetime(2019, 2, 6, 14, 40, tzinfo=<DstTzInfo 'US/Eastern' EST-1 day, 19:00:00 STD>),\n",
       "  'click_date': None,\n",
       "  'email_id': '1033116',\n",
       "  'email_name': '[Sketchbook Students Only] Getting Started with Sketchbooking'},\n",
       " {'delivered': False,\n",
       "  'opened': True,\n",
       "  'clicked': False,\n",
       "  'bounced': False,\n",
       "  'failed': False,\n",
       "  'deliver_date': datetime.datetime(2017, 11, 7, 13, 37, tzinfo=<DstTzInfo 'US/Eastern' EST-1 day, 19:00:00 STD>),\n",
       "  'open_date': datetime.datetime(2017, 11, 7, 13, 59, tzinfo=<DstTzInfo 'US/Eastern' EST-1 day, 19:00:00 STD>),\n",
       "  'click_date': None,\n",
       "  'email_id': '1024896',\n",
       "  'email_name': '[Sketchbook Students Only] Welcome to Sketchbook to Style Boot Camp!'},\n",
       " {'delivered': True,\n",
       "  'opened': True,\n",
       "  'clicked': True,\n",
       "  'bounced': False,\n",
       "  'failed': False,\n",
       "  'deliver_date': datetime.datetime(2017, 11, 7, 10, 18, tzinfo=<DstTzInfo 'US/Eastern' EST-1 day, 19:00:00 STD>),\n",
       "  'open_date': None,\n",
       "  'click_date': datetime.datetime(2017, 11, 7, 11, 36, tzinfo=<DstTzInfo 'US/Eastern' EST-1 day, 19:00:00 STD>),\n",
       "  'email_id': '1033254',\n",
       "  'email_name': 'What Do the Students Have to Say?'},\n",
       " {'delivered': True,\n",
       "  'opened': True,\n",
       "  'clicked': True,\n",
       "  'bounced': False,\n",
       "  'failed': False,\n",
       "  'deliver_date': datetime.datetime(2017, 11, 5, 10, 17, tzinfo=<DstTzInfo 'US/Eastern' EST-1 day, 19:00:00 STD>),\n",
       "  'open_date': None,\n",
       "  'click_date': datetime.datetime(2017, 11, 5, 12, 28, tzinfo=<DstTzInfo 'US/Eastern' EST-1 day, 19:00:00 STD>),\n",
       "  'email_id': '1024762',\n",
       "  'email_name': \"You're Invited: Sketchbook to Style Boot Camp Enrollment!\"},\n",
       " {'delivered': True,\n",
       "  'opened': False,\n",
       "  'clicked': False,\n",
       "  'bounced': False,\n",
       "  'failed': False,\n",
       "  'deliver_date': datetime.datetime(2017, 11, 4, 10, 26, tzinfo=<DstTzInfo 'US/Eastern' EDT-1 day, 20:00:00 DST>),\n",
       "  'open_date': None,\n",
       "  'click_date': None,\n",
       "  'email_id': '1030843',\n",
       "  'email_name': '[Video #3] 5 Steps to Set Up Your Sketchbook Practice + a spoiler alert :O'},\n",
       " {'delivered': True,\n",
       "  'opened': True,\n",
       "  'clicked': False,\n",
       "  'bounced': False,\n",
       "  'failed': False,\n",
       "  'deliver_date': datetime.datetime(2017, 11, 3, 10, 14, tzinfo=<DstTzInfo 'US/Eastern' EDT-1 day, 20:00:00 DST>),\n",
       "  'open_date': datetime.datetime(2017, 11, 3, 13, 51, tzinfo=<DstTzInfo 'US/Eastern' EDT-1 day, 20:00:00 DST>),\n",
       "  'click_date': None,\n",
       "  'email_id': '1030842',\n",
       "  'email_name': '[Video #2] 5 Sketchbook Rookie Mistakes to Avoid'},\n",
       " {'delivered': True,\n",
       "  'opened': True,\n",
       "  'clicked': False,\n",
       "  'bounced': False,\n",
       "  'failed': False,\n",
       "  'deliver_date': datetime.datetime(2017, 11, 2, 10, 25, tzinfo=<DstTzInfo 'US/Eastern' EDT-1 day, 20:00:00 DST>),\n",
       "  'open_date': datetime.datetime(2017, 11, 2, 10, 51, tzinfo=<DstTzInfo 'US/Eastern' EDT-1 day, 20:00:00 DST>),\n",
       "  'click_date': None,\n",
       "  'email_id': '1024735',\n",
       "  'email_name': '[Mini Course Video #1] 2 Ways a Sketchbook Helps You Find Your Style + Voice'},\n",
       " {'delivered': True,\n",
       "  'opened': True,\n",
       "  'clicked': False,\n",
       "  'bounced': False,\n",
       "  'failed': False,\n",
       "  'deliver_date': datetime.datetime(2017, 11, 1, 11, 37, tzinfo=<DstTzInfo 'US/Eastern' EDT-1 day, 20:00:00 DST>),\n",
       "  'open_date': datetime.datetime(2017, 11, 1, 11, 59, tzinfo=<DstTzInfo 'US/Eastern' EDT-1 day, 20:00:00 DST>),\n",
       "  'click_date': None,\n",
       "  'email_id': '1030777',\n",
       "  'email_name': 'Free Mini-Course starts tomorrow!'},\n",
       " {'delivered': True,\n",
       "  'opened': True,\n",
       "  'clicked': False,\n",
       "  'bounced': False,\n",
       "  'failed': False,\n",
       "  'deliver_date': datetime.datetime(2017, 10, 30, 11, 36, tzinfo=<DstTzInfo 'US/Eastern' EDT-1 day, 20:00:00 DST>),\n",
       "  'open_date': datetime.datetime(2017, 10, 30, 12, 13, tzinfo=<DstTzInfo 'US/Eastern' EDT-1 day, 20:00:00 DST>),\n",
       "  'click_date': None,\n",
       "  'email_id': '1030800',\n",
       "  'email_name': 'The 5 Elements to Becoming an Artist'},\n",
       " {'delivered': True,\n",
       "  'opened': True,\n",
       "  'clicked': False,\n",
       "  'bounced': False,\n",
       "  'failed': False,\n",
       "  'deliver_date': datetime.datetime(2017, 10, 27, 11, 33, tzinfo=<DstTzInfo 'US/Eastern' EDT-1 day, 20:00:00 DST>),\n",
       "  'open_date': datetime.datetime(2017, 10, 27, 12, 53, tzinfo=<DstTzInfo 'US/Eastern' EDT-1 day, 20:00:00 DST>),\n",
       "  'click_date': None,\n",
       "  'email_id': '1030776',\n",
       "  'email_name': 'You Should Approach Drawing in a Totally Different Way'},\n",
       " {'delivered': True,\n",
       "  'opened': True,\n",
       "  'clicked': False,\n",
       "  'bounced': False,\n",
       "  'failed': False,\n",
       "  'deliver_date': datetime.datetime(2017, 10, 24, 11, 23, tzinfo=<DstTzInfo 'US/Eastern' EDT-1 day, 20:00:00 DST>),\n",
       "  'open_date': datetime.datetime(2017, 10, 24, 11, 55, tzinfo=<DstTzInfo 'US/Eastern' EDT-1 day, 20:00:00 DST>),\n",
       "  'click_date': None,\n",
       "  'email_id': '1030774',\n",
       "  'email_name': 'Why I Draw'},\n",
       " {'delivered': True,\n",
       "  'opened': True,\n",
       "  'clicked': False,\n",
       "  'bounced': False,\n",
       "  'failed': False,\n",
       "  'deliver_date': datetime.datetime(2017, 10, 21, 11, 25, tzinfo=<DstTzInfo 'US/Eastern' EDT-1 day, 20:00:00 DST>),\n",
       "  'open_date': datetime.datetime(2017, 10, 21, 11, 55, tzinfo=<DstTzInfo 'US/Eastern' EDT-1 day, 20:00:00 DST>),\n",
       "  'click_date': None,\n",
       "  'email_id': '1030749',\n",
       "  'email_name': \"3 Reasons People Don't Like Your Art  (and How to Deal)\"},\n",
       " {'delivered': True,\n",
       "  'opened': True,\n",
       "  'clicked': False,\n",
       "  'bounced': False,\n",
       "  'failed': False,\n",
       "  'deliver_date': datetime.datetime(2017, 10, 18, 11, 23, tzinfo=<DstTzInfo 'US/Eastern' EDT-1 day, 20:00:00 DST>),\n",
       "  'open_date': datetime.datetime(2017, 10, 18, 11, 36, tzinfo=<DstTzInfo 'US/Eastern' EDT-1 day, 20:00:00 DST>),\n",
       "  'click_date': None,\n",
       "  'email_id': '1030727',\n",
       "  'email_name': 'You CAN Draw'},\n",
       " {'delivered': True,\n",
       "  'opened': True,\n",
       "  'clicked': False,\n",
       "  'bounced': False,\n",
       "  'failed': False,\n",
       "  'deliver_date': datetime.datetime(2017, 10, 15, 11, 27, tzinfo=<DstTzInfo 'US/Eastern' EDT-1 day, 20:00:00 DST>),\n",
       "  'open_date': datetime.datetime(2017, 10, 15, 12, 22, tzinfo=<DstTzInfo 'US/Eastern' EDT-1 day, 20:00:00 DST>),\n",
       "  'click_date': None,\n",
       "  'email_id': '1023737',\n",
       "  'email_name': '3 Simple Changes to Make More Art'},\n",
       " {'delivered': True,\n",
       "  'opened': True,\n",
       "  'clicked': False,\n",
       "  'bounced': False,\n",
       "  'failed': False,\n",
       "  'deliver_date': datetime.datetime(2017, 10, 12, 11, 55, tzinfo=<DstTzInfo 'US/Eastern' EDT-1 day, 20:00:00 DST>),\n",
       "  'open_date': datetime.datetime(2017, 10, 12, 12, 20, tzinfo=<DstTzInfo 'US/Eastern' EDT-1 day, 20:00:00 DST>),\n",
       "  'click_date': None,\n",
       "  'email_id': '1023735',\n",
       "  'email_name': 'How to Develop Your Unique Artistic Style'},\n",
       " {'delivered': True,\n",
       "  'opened': True,\n",
       "  'clicked': True,\n",
       "  'bounced': False,\n",
       "  'failed': False,\n",
       "  'deliver_date': datetime.datetime(2017, 10, 9, 10, 14, tzinfo=<DstTzInfo 'US/Eastern' EDT-1 day, 20:00:00 DST>),\n",
       "  'open_date': None,\n",
       "  'click_date': datetime.datetime(2017, 10, 9, 10, 36, tzinfo=<DstTzInfo 'US/Eastern' EDT-1 day, 20:00:00 DST>),\n",
       "  'email_id': '1023663',\n",
       "  'email_name': 'Could you answer this one question for me?'},\n",
       " {'delivered': True,\n",
       "  'opened': True,\n",
       "  'clicked': False,\n",
       "  'bounced': False,\n",
       "  'failed': False,\n",
       "  'deliver_date': datetime.datetime(2017, 10, 6, 10, 22, tzinfo=<DstTzInfo 'US/Eastern' EDT-1 day, 20:00:00 DST>),\n",
       "  'open_date': datetime.datetime(2017, 10, 6, 12, 41, tzinfo=<DstTzInfo 'US/Eastern' EDT-1 day, 20:00:00 DST>),\n",
       "  'click_date': None,\n",
       "  'email_id': '1029677',\n",
       "  'email_name': 'Sharing My Artistic Process'},\n",
       " {'delivered': True,\n",
       "  'opened': True,\n",
       "  'clicked': True,\n",
       "  'bounced': False,\n",
       "  'failed': False,\n",
       "  'deliver_date': datetime.datetime(2017, 10, 3, 16, 32, tzinfo=<DstTzInfo 'US/Eastern' EDT-1 day, 20:00:00 DST>),\n",
       "  'open_date': None,\n",
       "  'click_date': datetime.datetime(2017, 10, 3, 16, 44, tzinfo=<DstTzInfo 'US/Eastern' EDT-1 day, 20:00:00 DST>),\n",
       "  'email_id': '272065',\n",
       "  'email_name': \"Here's the list of Tools I Use and Love!\"},\n",
       " {'delivered': True,\n",
       "  'opened': True,\n",
       "  'clicked': True,\n",
       "  'bounced': False,\n",
       "  'failed': False,\n",
       "  'deliver_date': datetime.datetime(2017, 10, 3, 11, 37, tzinfo=<DstTzInfo 'US/Eastern' EDT-1 day, 20:00:00 DST>),\n",
       "  'open_date': None,\n",
       "  'click_date': datetime.datetime(2017, 10, 3, 16, 38, tzinfo=<DstTzInfo 'US/Eastern' EDT-1 day, 20:00:00 DST>),\n",
       "  'email_id': '837579',\n",
       "  'email_name': '\\u200bYou Need to Be Drawing Consistently'}]"
      ]
     },
     "execution_count": 73,
     "metadata": {},
     "output_type": "execute_result"
    }
   ],
   "source": [
    "scrape_email_list(137633017)"
   ]
  },
  {
   "cell_type": "code",
   "execution_count": null,
   "metadata": {
    "ExecuteTime": {
     "end_time": "2019-06-03T18:29:06.221889Z",
     "start_time": "2019-06-03T18:29:06.199915Z"
    },
    "hidden": true
   },
   "outputs": [],
   "source": [
    "# Update RDS\n",
    "# cursor.executemany('UPDATE subscriber_data SET unsubscribe_date=%s,state=\"cancelled\" WHERE id=%s', unsub_updates)"
   ]
  },
  {
   "cell_type": "code",
   "execution_count": null,
   "metadata": {
    "ExecuteTime": {
     "end_time": "2019-06-03T18:28:13.390800Z",
     "start_time": "2019-06-03T18:28:13.339672Z"
    },
    "hidden": true
   },
   "outputs": [],
   "source": [
    "conn.commit()"
   ]
  },
  {
   "cell_type": "markdown",
   "metadata": {
    "heading_collapsed": true,
    "hidden": true
   },
   "source": [
    "### All CK unsubscribers"
   ]
  },
  {
   "cell_type": "code",
   "execution_count": null,
   "metadata": {
    "hidden": true
   },
   "outputs": [],
   "source": [
    "from modules.ck_utils import *\n",
    "cancellers = get_api_data(CK_Api.ALL_SUBS, None, include_unsubscribers=True)\n",
    "\n",
    "all_rds_list = cursor.e('SELECT * FROM subscriber_data')\n",
    "all_rds_dict = {a['id']: a for a in all_rds_list}\n",
    "\n",
    "missing_cancellers = [c for c in cancellers if c['id'] not in all_rds_dict]\n",
    "\n",
    "fixed_cancellers = [{k:v for k,v in c.items() if k not in ['last_name']} for c in missing_cancellers]\n",
    "\n",
    "cursor.dict_insert(fixed_cancellers, 'subscriber_data')\n",
    "\n",
    "# conn.commit()"
   ]
  },
  {
   "cell_type": "markdown",
   "metadata": {
    "heading_collapsed": true
   },
   "source": [
    "## Webhook Work"
   ]
  },
  {
   "cell_type": "code",
   "execution_count": null,
   "metadata": {
    "hidden": true
   },
   "outputs": [],
   "source": [
    "# Subscriber id\n",
    "url = f'https://api.convertkit.com/v3/subscribers'\n",
    "data = json.dumps({'api_secret': API_SECRET, 'email_address': 'dnishiyama+test@gmail.com'}); data #parse.quote_plus(\n",
    "resp = requests.get(url=url, data=data, headers={'content-type': 'application/json'})\n",
    "if resp.status_code != 200: \n",
    "    print(r.status_code) \n",
    "    print(r.text)\n",
    "json_resp = json.loads(resp.text); json_resp\n",
    "sub_item = [sub['id'] for sub in json_resp['subscribers']]\n",
    "sub_id = sub_item[0] if sub_item else None\n",
    "sub_id"
   ]
  },
  {
   "cell_type": "code",
   "execution_count": null,
   "metadata": {
    "ExecuteTime": {
     "end_time": "2019-06-05T18:33:16.618962Z",
     "start_time": "2019-06-05T18:33:16.413634Z"
    },
    "hidden": true
   },
   "outputs": [],
   "source": [
    "# Tag id\n",
    "# Purchased: Sketchbook to Style --- 291275\n",
    "# StSBC Launch - EVG --- 899142\n",
    "url = f'https://api.convertkit.com/v3/tags?api_key={API_KEY}'\n",
    "data = json.dumps({'api_key': API_KEY}); data\n",
    "resp = requests.get(url=url, data=data, headers={'content-type': 'application/json'}); resp\n",
    "if resp.status_code != 200: \n",
    "    print(r.status_code) \n",
    "    print(r.text)\n",
    "json_resp = json.loads(resp.text); json_resp\n",
    "tag_item = [tag['id'] for tag in json_resp['tags'] if tag['name'] == 'StSBC Launch - EVG']; tag_item\n",
    "tag_id = tag_item[0] if tag_item else None; tag_id"
   ]
  },
  {
   "cell_type": "code",
   "execution_count": null,
   "metadata": {
    "hidden": true
   },
   "outputs": [],
   "source": [
    "# Add tag to user\n",
    "\n",
    "url = f'https://api.convertkit.com/v3/tags/{tag_id}/subscribe'; url\n",
    "data = json.dumps({'api_key': API_KEY, 'email': 'dnishiyama+test@gmail.com'}); data #parse.quote_plus(\n",
    "resp = requests.post(url=url, data=data, headers={'content-type': 'application/json'})\n",
    "if resp.status_code != 200: \n",
    "    print(r.status_code) \n",
    "    print(r.text)"
   ]
  },
  {
   "cell_type": "code",
   "execution_count": null,
   "metadata": {
    "ExecuteTime": {
     "end_time": "2019-08-05T18:20:26.406515Z",
     "start_time": "2019-08-05T18:20:22.390934Z"
    },
    "hidden": true
   },
   "outputs": [],
   "source": [
    "# Create Subscription Webhook\n",
    "# May have 2 and need to delete 997875 (created second)\n",
    "\n",
    "url = f'https://api.convertkit.com/v3/automations/hooks'; url\n",
    "target_url = 'https://td9rz0ja7b.execute-api.us-east-1.amazonaws.com/prod/tag_add?tag_id=1028633&tag_name=StSBC+Refunded'; target_url\n",
    "event = { \"name\": \"subscriber.tag_add\", \"tag_id\": 1028633 }; event\n",
    "data = json.dumps({'api_secret': CK_API_SECRET, 'target_url': target_url, 'event': event}); data \n",
    "resp = requests.post(url=url, data=data, headers={'content-type': 'application/json'})\n",
    "print(resp.status_code) \n",
    "print(resp.text)"
   ]
  },
  {
   "cell_type": "code",
   "execution_count": null,
   "metadata": {
    "ExecuteTime": {
     "end_time": "2019-06-05T23:21:10.705530Z",
     "start_time": "2019-06-05T23:21:10.255094Z"
    },
    "hidden": true
   },
   "outputs": [],
   "source": [
    "# Create tag-add Webhook\n",
    "url = f'https://api.convertkit.com/v3/automations/hooks'; url\n",
    "target_url = 'https://td9rz0ja7b.execute-api.us-east-1.amazonaws.com/prod/tag_add?tag_id=291275&tag_name=Purchased:+Sketchbook+to+Style'; target_url\n",
    "event = {'name' : 'subscriber.tag_add', 'tag_id': 291275}\n",
    "data = json.dumps({'api_secret': CK_API_SECRET, 'target_url': target_url, 'event': event}); data \n",
    "resp = requests.post(url=url, data=data, headers={'content-type': 'application/json'})\n",
    "print(resp.status_code) \n",
    "print(resp.text)"
   ]
  },
  {
   "cell_type": "code",
   "execution_count": 12,
   "metadata": {
    "ExecuteTime": {
     "end_time": "2019-09-19T20:47:07.560775Z",
     "start_time": "2019-09-19T20:47:07.530593Z"
    },
    "hidden": true
   },
   "outputs": [],
   "source": [
    "# Refresher for \"Could not confirm type of CK_Api.ALL_SUBS, CK_Api.SEQ_SUBS, False\"\n",
    "from modules.ck_utils import *"
   ]
  },
  {
   "cell_type": "code",
   "execution_count": null,
   "metadata": {
    "hidden": true
   },
   "outputs": [],
   "source": [
    "# Some testing\n",
    "# cursor.execute('SELECT * FROM launch_data WHERE id = 435385229'); cursor.fetchall()\n",
    "# cursor.quick_info('launch_data')"
   ]
  },
  {
   "cell_type": "code",
   "execution_count": null,
   "metadata": {
    "ExecuteTime": {
     "end_time": "2019-06-05T21:53:39.526253Z",
     "start_time": "2019-06-05T21:53:39.069101Z"
    },
    "hidden": true
   },
   "outputs": [],
   "source": [
    "# Create unsubscription Webhook (id: 997911)\n",
    "\n",
    "url = f'https://api.convertkit.com/v3/automations/hooks'; url\n",
    "target_url = 'https://td9rz0ja7b.execute-api.us-east-1.amazonaws.com/prod/unsubscription'; target_url\n",
    "event = {'name' : 'subscriber.subscriber_unsubscribe'}\n",
    "data = json.dumps({'api_secret': CK_API_SECRET, 'target_url': target_url, 'event': event}); data \n",
    "resp = requests.post(url=url, data=data, headers={'content-type': 'application/json'})\n",
    "print(resp.status_code) \n",
    "print(resp.text)"
   ]
  },
  {
   "cell_type": "code",
   "execution_count": null,
   "metadata": {
    "ExecuteTime": {
     "end_time": "2019-06-05T20:26:47.133415Z",
     "start_time": "2019-06-05T20:26:47.108146Z"
    },
    "hidden": true
   },
   "outputs": [],
   "source": [
    "aws_sub_data = {'subscriber': {'id': '435385229_2', 'first_name': 'Declan', 'email_address': 'dnishiyama+test@gmail.com', 'state': 'active', 'created_at': '2019-04-08T19:12:24.000Z', 'fields': {'fb_audience_source': 'Lookalike (WW, 2%) - MC List 4-18-19', 'last_name': '', 'lead_opt-in': 'Influence Map', 'lead_source': 'FB Ad', 'loc_city': 'West Jefferson', 'loc_lat': '36.404', 'loc_lng': '-81.493', 'loc_state': 'North Carolina', 'mailchimp_sub_date': '', 'stsbc_evg_launch_deadline': '11:59pm EDT on Friday, May 31, 2019', 'subscribe_date': '2019-06-04', 'unsubscribe_date': ''}}}"
   ]
  },
  {
   "cell_type": "markdown",
   "metadata": {},
   "source": [
    "## Location"
   ]
  },
  {
   "cell_type": "markdown",
   "metadata": {
    "heading_collapsed": true
   },
   "source": [
    "### Update CK subscriber fields with locations via scraping"
   ]
  },
  {
   "cell_type": "code",
   "execution_count": null,
   "metadata": {
    "ExecuteTime": {
     "end_time": "2019-05-15T22:07:41.031867Z",
     "start_time": "2019-05-15T21:46:06.002711Z"
    },
    "hidden": true
   },
   "outputs": [],
   "source": [
    "# High-level function\n",
    "update_subs_with_scraped_locations(smart_stop=True) #smart_stop=False to get ALL locations"
   ]
  },
  {
   "cell_type": "markdown",
   "metadata": {
    "heading_collapsed": true
   },
   "source": [
    "### Update lat & lng fields in df"
   ]
  },
  {
   "cell_type": "code",
   "execution_count": null,
   "metadata": {
    "ExecuteTime": {
     "end_time": "2019-05-16T14:57:10.358853Z",
     "start_time": "2019-05-16T14:57:10.345181Z"
    },
    "hidden": true
   },
   "outputs": [],
   "source": [
    "# Loading Existing data\n",
    "file_name = 'ck_data'\n",
    "df = pd.read_pickle(file_name)\n",
    "print('Length of the indices', len(list(set(df.index.tolist())))) # 50 during error"
   ]
  },
  {
   "cell_type": "code",
   "execution_count": null,
   "metadata": {
    "ExecuteTime": {
     "end_time": "2019-05-08T03:04:46.495791Z",
     "start_time": "2019-05-08T03:04:46.487290Z"
    },
    "hidden": true
   },
   "outputs": [],
   "source": [
    "# Get the last updated subscriber in the old Dataframe\n",
    "last_updated_sub = df[df['city'].notnull() | df['state'].notnull()].iloc[::-1].iloc[0]['index']; last_updated_sub"
   ]
  },
  {
   "cell_type": "code",
   "execution_count": null,
   "metadata": {
    "ExecuteTime": {
     "end_time": "2019-05-08T03:05:30.309581Z",
     "start_time": "2019-05-08T03:05:27.781163Z"
    },
    "hidden": true
   },
   "outputs": [],
   "source": [
    "# Get the new subscriber data from CK API\n",
    "subs = get_sub_data_for_locless(last_sub=last_updated_sub)"
   ]
  },
  {
   "cell_type": "code",
   "execution_count": null,
   "metadata": {
    "ExecuteTime": {
     "end_time": "2019-05-08T03:09:23.093291Z",
     "start_time": "2019-05-08T03:09:23.079782Z"
    },
    "hidden": true
   },
   "outputs": [],
   "source": [
    "# Make a Dataframe of that information\n",
    "append_df = pd.DataFrame([[d[1],d[2]] for d in subs], columns=['city','state'], index=[d[0] for d in subs]); append_df\n",
    "append_df['lat'] = None; append_df['lng'] = None\n",
    "append_df.loc[append_df['city'] == 'null', 'city'] = None\n",
    "append_df.loc[append_df['state'] == 'null', 'state'] = None\n",
    "append_df = append_df.reset_index()"
   ]
  },
  {
   "cell_type": "code",
   "execution_count": null,
   "metadata": {
    "ExecuteTime": {
     "end_time": "2019-05-08T03:11:18.597604Z",
     "start_time": "2019-05-08T03:11:18.587903Z"
    },
    "hidden": true
   },
   "outputs": [],
   "source": [
    "# Combine the dfs, make new index, drop duplicated\n",
    "print(len(df), '+', len(append_df), '=')\n",
    "df = pd.concat([df, append_df]).drop_duplicates(subset=['index'], keep='first').reset_index(drop=True)\n",
    "print(len(df))"
   ]
  },
  {
   "cell_type": "code",
   "execution_count": null,
   "metadata": {
    "ExecuteTime": {
     "end_time": "2019-05-08T03:18:59.885592Z",
     "start_time": "2019-05-08T03:18:39.721951Z"
    },
    "hidden": true
   },
   "outputs": [],
   "source": [
    "# Set the longitude and latitude\n",
    "geolocator = Nominatim(user_agent=\"my_app\")\n",
    "for i, row in enumerate(df.iterrows()):\n",
    "    if row[1].lat or row[1].lng: continue\n",
    "    print (i, end='\\r')\n",
    "    \n",
    "    if row[1].city or row[1].state: # Only look it up if they are both not blank\n",
    "        try:\n",
    "            coord = get_lat_and_lng(loc_city=row[1].city, loc_state=row[1].state, geolocator=geolocator)\n",
    "            df.loc[row[0],'lat'] = coord['lat']; df.loc[row[0],'lng'] = coord['lng']\n",
    "        except LookupError as l:\n",
    "            print(l)"
   ]
  },
  {
   "cell_type": "code",
   "execution_count": null,
   "metadata": {
    "ExecuteTime": {
     "end_time": "2019-05-08T03:19:13.518664Z",
     "start_time": "2019-05-08T03:19:13.507870Z"
    },
    "hidden": true
   },
   "outputs": [],
   "source": [
    "# Save the file\n",
    "file_name = 'ck_data'\n",
    "df.to_pickle(file_name)"
   ]
  },
  {
   "cell_type": "code",
   "execution_count": null,
   "metadata": {
    "ExecuteTime": {
     "end_time": "2019-05-08T03:26:47.449184Z",
     "start_time": "2019-05-08T03:26:46.938587Z"
    },
    "hidden": true
   },
   "outputs": [],
   "source": [
    "test = geolocator.reverse(\"52.509669, 13.376294\"); test"
   ]
  },
  {
   "cell_type": "code",
   "execution_count": null,
   "metadata": {
    "ExecuteTime": {
     "end_time": "2019-05-08T03:27:26.606447Z",
     "start_time": "2019-05-08T03:27:26.602606Z"
    },
    "hidden": true
   },
   "outputs": [],
   "source": [
    "test.raw['address']['country_code']"
   ]
  },
  {
   "cell_type": "markdown",
   "metadata": {
    "heading_collapsed": true
   },
   "source": [
    "### Misc Location Updates"
   ]
  },
  {
   "cell_type": "code",
   "execution_count": null,
   "metadata": {
    "ExecuteTime": {
     "end_time": "2019-05-24T14:37:04.896580Z",
     "start_time": "2019-05-24T14:37:04.840889Z"
    },
    "hidden": true
   },
   "outputs": [],
   "source": [
    "iso3166.countries.get('uk')\n",
    "# end = re.compile(r'.*?\\.([^\\.]+$)')\n",
    "# end.match('@go.cambridgecollege.edu').group(1)"
   ]
  },
  {
   "cell_type": "code",
   "execution_count": null,
   "metadata": {
    "ExecuteTime": {
     "end_time": "2019-05-24T15:41:25.519166Z",
     "start_time": "2019-05-24T15:41:25.389516Z"
    },
    "hidden": true
   },
   "outputs": [],
   "source": [
    "cursor.execute('SELECT * FROM subscriber_data WHERE id > 20000 AND loc_state=\"null\" and loc_city=\"null\"'); len(cursor.fetchall())"
   ]
  },
  {
   "cell_type": "code",
   "execution_count": null,
   "metadata": {
    "ExecuteTime": {
     "end_time": "2019-05-24T14:50:04.078729Z",
     "start_time": "2019-05-24T14:50:03.942079Z"
    },
    "hidden": true
   },
   "outputs": [],
   "source": [
    "loc_updates = {}\n",
    "# See if email addresses of people with no location can help us determine their location\n",
    "ea = re.compile(r'[^\\@]+(\\@.+)')\n",
    "end = re.compile(r'.*?\\.([^\\.]+$)')\n",
    "cursor.execute('SELECT * FROM subscriber_data WHERE id > 20000 AND (loc_state IS NULL OR loc_state=\"null\") and (loc_city IS NULL OR loc_city=\"null\")')\n",
    "for subscriber in cursor.fetchall():\n",
    "    if not subscriber['email_address']: continue\n",
    "        \n",
    "    country_code = end.match(subscriber['email_address']).group(1)\n",
    "    if len(country_code) != 2: \n",
    "        continue\n",
    "    elif country_code == 'uk': \n",
    "        country_name = 'United Kingdom'\n",
    "    elif country_code == 'pu': \n",
    "        country_name = 'India'\n",
    "    elif country_code in ['eu', 'xo']: \n",
    "        continue\n",
    "    else:\n",
    "        country_name = iso3166.countries.get(country_code).name\n",
    "    \n",
    "    loc_updates[subscriber['id']] = country_name    "
   ]
  },
  {
   "cell_type": "code",
   "execution_count": null,
   "metadata": {
    "hidden": true
   },
   "outputs": [],
   "source": [
    "cursor.executemany('UPDATE subscriber_data SET loc_state=%s WHERE id=%s', [[v,k] for k,v in loc_updates.items()])"
   ]
  },
  {
   "cell_type": "code",
   "execution_count": null,
   "metadata": {
    "ExecuteTime": {
     "end_time": "2019-05-24T14:58:18.489839Z",
     "start_time": "2019-05-24T14:58:12.369679Z"
    },
    "hidden": true
   },
   "outputs": [],
   "source": [
    "# Store new RDS locations in convertkit\n",
    "session = requests.session()\n",
    "for k,v in loc_updates.items():\n",
    "    update_sub_with_misc(k, session=session, loc_state=v)\n",
    "    "
   ]
  },
  {
   "cell_type": "markdown",
   "metadata": {
    "hidden": true
   },
   "source": [
    "Now check on the lat and lng"
   ]
  },
  {
   "cell_type": "code",
   "execution_count": null,
   "metadata": {
    "ExecuteTime": {
     "end_time": "2019-05-24T15:41:12.573147Z",
     "start_time": "2019-05-24T15:41:12.474825Z"
    },
    "hidden": true
   },
   "outputs": [],
   "source": [
    "sql_stmt = \"\"\"\n",
    "SELECT * FROM subscriber_data \n",
    "WHERE (loc_lat IS NULL OR loc_lng IS NULL)\n",
    "AND ((loc_city IS NOT NULL AND loc_city != 'null') OR (loc_state IS NOT NULL AND loc_state != 'null'))\n",
    "\"\"\"\n",
    "cursor.execute(sql_stmt); data = cursor.fetchall(); len(data)"
   ]
  },
  {
   "cell_type": "code",
   "execution_count": null,
   "metadata": {
    "ExecuteTime": {
     "end_time": "2019-05-24T15:29:02.628300Z",
     "start_time": "2019-05-24T15:25:12.393597Z"
    },
    "hidden": true
   },
   "outputs": [],
   "source": [
    "geolocator = Nominatim(user_agent=\"ck_dgn_locator\")\n",
    "for i, sub in enumerate(data[380:]):\n",
    "    print(i, end='\\r')\n",
    "    latlng = None\n",
    "    while not latlng:\n",
    "        try:\n",
    "            latlng = get_lat_and_lng(loc_city=sub['loc_city'], loc_state=sub['loc_state'], geolocator=geolocator)\n",
    "        except Exception as e:\n",
    "            print(e, \"sleeping on #\", i)\n",
    "            time.sleep(10)\n",
    "    sub['loc_lat'] = latlng['lat']\n",
    "    sub['loc_lng'] = latlng['lng']"
   ]
  },
  {
   "cell_type": "code",
   "execution_count": null,
   "metadata": {
    "ExecuteTime": {
     "end_time": "2019-05-24T15:29:14.844381Z",
     "start_time": "2019-05-24T15:29:14.742801Z"
    },
    "hidden": true
   },
   "outputs": [],
   "source": [
    "def test(**kwargs):\n",
    "    print(kwargs)\n",
    "sub_temp = {'loc_lat': 'a', 'loc_lng': 'a'}\n",
    "test(**sub_temp)"
   ]
  },
  {
   "cell_type": "code",
   "execution_count": null,
   "metadata": {
    "ExecuteTime": {
     "end_time": "2019-05-24T15:34:45.531260Z",
     "start_time": "2019-05-24T15:34:45.480651Z"
    },
    "hidden": true
   },
   "outputs": [],
   "source": [
    "sub_temp"
   ]
  },
  {
   "cell_type": "code",
   "execution_count": null,
   "metadata": {
    "ExecuteTime": {
     "end_time": "2019-05-24T15:37:55.427102Z",
     "start_time": "2019-05-24T15:37:43.886270Z"
    },
    "hidden": true
   },
   "outputs": [],
   "source": [
    "session = requests.session()\n",
    "for sub in data:\n",
    "    if sub['id'] < 20000: continue\n",
    "    sub_temp = {'loc_lat': str(sub['loc_lat']), 'loc_lng': str(sub['loc_lng'])}\n",
    "    print(update_sub_with_misc(sub['id'], session=session, **sub_temp))"
   ]
  },
  {
   "cell_type": "code",
   "execution_count": null,
   "metadata": {
    "ExecuteTime": {
     "end_time": "2019-05-24T15:39:43.935020Z",
     "start_time": "2019-05-24T15:39:43.882928Z"
    },
    "hidden": true
   },
   "outputs": [],
   "source": []
  },
  {
   "cell_type": "code",
   "execution_count": null,
   "metadata": {
    "ExecuteTime": {
     "end_time": "2019-05-24T15:40:52.016260Z",
     "start_time": "2019-05-24T15:40:36.626199Z"
    },
    "hidden": true
   },
   "outputs": [],
   "source": [
    "sql_stmt = \"\"\"\n",
    "UPDATE subscriber_data \n",
    "SET loc_lat=%s, loc_lng=%s\n",
    "WHERE id=%s\n",
    "\"\"\"\n",
    "cursor.executemany(sql_stmt, [[d['loc_lat'], d['loc_lng'], d['id']] for d in data])"
   ]
  },
  {
   "cell_type": "markdown",
   "metadata": {
    "heading_collapsed": true
   },
   "source": [
    "### Add country to MYSQL"
   ]
  },
  {
   "cell_type": "code",
   "execution_count": null,
   "metadata": {
    "ExecuteTime": {
     "end_time": "2019-09-09T21:44:05.168707Z",
     "start_time": "2019-09-09T21:44:03.287551Z"
    },
    "hidden": true
   },
   "outputs": [],
   "source": [
    "d = lambda pur: datetime.strptime(pur, '%Y-%m-%d') # Date conversion\n",
    "\n",
    "subs = cursor.e(\"SELECT * FROM subscriber_data\") # Get all subscribers\n",
    "purchases = cursor.e(\"SELECT * FROM purchase_data\") # Get all purchases\n",
    "purchases = [{'purchase_date': d(p['purchase_date']) if p['purchase_date'] else None, **p} for p in purchases]\n",
    "launches = cursor.e(\"SELECT * FROM launch_data\")\n",
    "locs = [[s['id'], (float(s['loc_lat']), float(s['loc_lng']))] for s in subs if s['loc_lat'] and s['loc_lng']]\n",
    "ids, coords = zip(*locs)\n",
    "countries = [iso3166.countries_by_alpha2.get(r['cc'], None).name for r in rg.search(coords, mode=1)]; len(countries)\n",
    "country_dict = {a[0]:a[1] for a in zip(ids,countries)} #dictionary of countries for subscriber id\n",
    "# subs = [{**s, 'country': country_dict.get(s['id'], None)} for s in subs]\n",
    "# sub_dict = {s['id']:s for s in subs}; len(countries) # Dictionary by id"
   ]
  },
  {
   "cell_type": "code",
   "execution_count": null,
   "metadata": {
    "ExecuteTime": {
     "end_time": "2019-09-09T21:44:05.766263Z",
     "start_time": "2019-09-09T21:44:05.737849Z"
    },
    "hidden": true
   },
   "outputs": [],
   "source": [
    "country_dict.get(list(country_dict)[-1], None)"
   ]
  },
  {
   "cell_type": "code",
   "execution_count": null,
   "metadata": {
    "ExecuteTime": {
     "end_time": "2019-09-09T21:44:11.238939Z",
     "start_time": "2019-09-09T21:44:11.125373Z"
    },
    "hidden": true
   },
   "outputs": [],
   "source": [
    "[[v,k] for k,v in country_dict.items()][:3]"
   ]
  },
  {
   "cell_type": "code",
   "execution_count": null,
   "metadata": {
    "ExecuteTime": {
     "end_time": "2019-08-07T00:47:44.445743Z",
     "start_time": "2019-08-07T00:43:09.359892Z"
    },
    "hidden": true
   },
   "outputs": [],
   "source": [
    "values = [[v,k] for k,v in country_dict.items()]\n",
    "step = 100\n",
    "start = 0\n",
    "for i in range(start, len(values)-1, step):\n",
    "    updated = cursor.e('UPDATE subscriber_data SET loc_country=%s WHERE id=%s', values=values[i:i+step], many=True)\n",
    "    print(f'Start:{i}, end:{i+step}; updated {updated} rows', end='\\r')\n",
    "    "
   ]
  },
  {
   "cell_type": "markdown",
   "metadata": {},
   "source": [
    "### Update Countries in Mysql and CK"
   ]
  },
  {
   "cell_type": "markdown",
   "metadata": {
    "heading_collapsed": true
   },
   "source": [
    "#### Mysql"
   ]
  },
  {
   "cell_type": "code",
   "execution_count": null,
   "metadata": {
    "ExecuteTime": {
     "end_time": "2019-09-09T21:49:24.749688Z",
     "start_time": "2019-09-09T21:49:24.612427Z"
    },
    "hidden": true
   },
   "outputs": [],
   "source": [
    "subs = cursor.e('SELECT * FROM subscriber_data WHERE loc_country IS NULL AND ((loc_city IS NOT NULL AND loc_city != \"null\") OR (loc_state != \"null\" AND loc_state IS NOT NULL))')\n",
    "len(subs)\n",
    "locs = [[s['id'], (float(s['loc_lat']), float(s['loc_lng']))] for s in subs if s['loc_lat'] and s['loc_lng']]\n",
    "ids, coords = zip(*locs)\n",
    "countries = [iso3166.countries_by_alpha2.get(r['cc'], None).name for r in rg.search(coords, mode=1)]; len(countries)\n",
    "country_dict = {a[0]:a[1] for a in zip(ids,countries)} #dictionary of countries for subscriber id\n",
    "values = [[v,k] for k,v in country_dict.items()]; len(values), values[0]"
   ]
  },
  {
   "cell_type": "code",
   "execution_count": null,
   "metadata": {
    "ExecuteTime": {
     "end_time": "2019-09-09T21:50:03.720355Z",
     "start_time": "2019-09-09T21:49:50.902963Z"
    },
    "hidden": true
   },
   "outputs": [],
   "source": [
    "step = 100; start = 0\n",
    "for i in range(start, len(values)-1, step):\n",
    "    updated = cursor.e('UPDATE subscriber_data SET loc_country=%s WHERE id=%s', values=values[i:i+step], many=True)\n",
    "    print(f'Start:{i}, end:{i+step}; updated {updated} rows', end='\\r')"
   ]
  },
  {
   "cell_type": "code",
   "execution_count": null,
   "metadata": {
    "ExecuteTime": {
     "end_time": "2019-09-09T21:50:04.567991Z",
     "start_time": "2019-09-09T21:50:04.517500Z"
    },
    "hidden": true
   },
   "outputs": [],
   "source": [
    "conn.commit()"
   ]
  },
  {
   "cell_type": "markdown",
   "metadata": {
    "heading_collapsed": true
   },
   "source": [
    "#### CK"
   ]
  },
  {
   "cell_type": "code",
   "execution_count": null,
   "metadata": {
    "hidden": true
   },
   "outputs": [],
   "source": [
    "# RDS Data\n",
    "# conn.commit()\n",
    "cursor.execute('SELECT * FROM subscriber_data'); \n",
    "all_rds_list = cursor.fetchall()\n",
    "all_rds_dict = {a['id']: a for a in all_rds_list}\n",
    "\n",
    "log_level('w')\n",
    "\n",
    "# Takes about 2 minutes\n",
    "all_ck_list = get_api_data(CK_Api.ALL_SUBS, None, session=session)\n",
    "all_ck_dict = {a['id']: a for a in all_ck_list}\n",
    "\n",
    "print(all_rds_list[0]); print(); print(all_ck_list[0])"
   ]
  },
  {
   "cell_type": "code",
   "execution_count": null,
   "metadata": {
    "ExecuteTime": {
     "end_time": "2019-09-16T15:00:24.983944Z",
     "start_time": "2019-09-16T15:00:24.952800Z"
    },
    "hidden": true
   },
   "outputs": [],
   "source": [
    "all(key=='loc_country' for key in array_mismatch(all_rds_dict[137632787], all_ck_dict[137632787]).keys())"
   ]
  },
  {
   "cell_type": "code",
   "execution_count": null,
   "metadata": {
    "ExecuteTime": {
     "end_time": "2019-09-16T15:03:23.051472Z",
     "start_time": "2019-09-16T15:03:23.021517Z"
    },
    "hidden": true
   },
   "outputs": [],
   "source": [
    "# Diagnose\n",
    "a = country_mismatches[0]\n",
    "array_mismatch(all_rds_dict[a], all_ck_dict[a])\n",
    "# all(key=='loc_country' for key in array_mismatch(all_rds_dict[a], all_ck_dict[a]).keys())"
   ]
  },
  {
   "cell_type": "code",
   "execution_count": null,
   "metadata": {
    "ExecuteTime": {
     "end_time": "2019-09-16T15:06:19.544280Z",
     "start_time": "2019-09-16T15:06:19.215392Z"
    },
    "hidden": true
   },
   "outputs": [],
   "source": [
    "country_mismatches = [a for a in all_rds_dict if a in all_ck_dict and all_rds_dict[a]['loc_country'] and 'loc_country' in array_mismatch(all_rds_dict[a], all_ck_dict[a])]\n",
    "len(country_mismatches)"
   ]
  },
  {
   "cell_type": "code",
   "execution_count": null,
   "metadata": {
    "ExecuteTime": {
     "end_time": "2019-09-16T15:08:59.191574Z",
     "start_time": "2019-09-16T15:08:03.217032Z"
    },
    "hidden": true
   },
   "outputs": [],
   "source": [
    "try:\n",
    "    for i, a in enumerate(country_mismatches):\n",
    "        \n",
    "        rds_country = all_rds_dict[a]['loc_country']\n",
    "        ck_country = all_ck_dict[a]['loc_country']\n",
    "        print(f'#{i}, updating {a}\\n{ck_country} to {rds_country}', end='\\t\\t\\t\\r')\n",
    "        \n",
    "        fields = {'loc_country': rds_country}\n",
    "        update_ck_sub_with_misc(a, session=session, **fields)\n",
    "except KeyboardInterrupt as k:\n",
    "    pass # Allow keyboard break"
   ]
  },
  {
   "cell_type": "markdown",
   "metadata": {
    "heading_collapsed": true
   },
   "source": [
    "## Load data into AWS Database"
   ]
  },
  {
   "cell_type": "markdown",
   "metadata": {
    "heading_collapsed": true,
    "hidden": true
   },
   "source": [
    "### Create table"
   ]
  },
  {
   "cell_type": "code",
   "execution_count": null,
   "metadata": {
    "hidden": true
   },
   "outputs": [],
   "source": [
    "cursor.execute(\"\"\"\n",
    "    CREATE TABLE `TEST_subscriber_data` (\n",
    "      `id` int UNSIGNED NOT NULL,\n",
    "      `state` varchar(11) NOT NULL,\n",
    "      `first_name` text,\n",
    "      `created_at` text,\n",
    "      `fb_audience_source` text,\n",
    "      `loc_city` text,\n",
    "      `loc_state` text,\n",
    "      `loc_lat` decimal(6,3),\n",
    "      `loc_lng` decimal(6,3),\n",
    "      `lead_opt-in` text,\n",
    "      `lead_source` text,\n",
    "      `mailchimp_sub_date` text,\n",
    "      `stsbc_evg_launch_deadline` text,\n",
    "      `unsubscribe_date` text,\n",
    "      PRIMARY KEY (`id`));\"\"\"\n",
    "    )"
   ]
  },
  {
   "cell_type": "markdown",
   "metadata": {
    "heading_collapsed": true,
    "hidden": true
   },
   "source": [
    "### Dataframe creation and manipulation"
   ]
  },
  {
   "cell_type": "code",
   "execution_count": null,
   "metadata": {
    "ExecuteTime": {
     "end_time": "2019-05-20T18:58:58.972462Z",
     "start_time": "2019-05-20T18:58:45.239056Z"
    },
    "hidden": true
   },
   "outputs": [],
   "source": [
    "customer_data = get_all_sub_data(columns=[CK_Column.ID, CK_Column.EMAIL_ADDRESS]); customer_data"
   ]
  },
  {
   "cell_type": "code",
   "execution_count": null,
   "metadata": {
    "ExecuteTime": {
     "end_time": "2019-05-16T15:27:48.848553Z",
     "start_time": "2019-05-16T15:27:48.768374Z"
    },
    "hidden": true
   },
   "outputs": [],
   "source": [
    "new_df = pd.DataFrame([[*d[1:]] for d in customer_data], columns=[c.value for c in columns[1:]], index=[d[0] for d in customer_data]);\n",
    "new_df['lat'] = None; new_df['lng'] = None; new_df"
   ]
  },
  {
   "cell_type": "code",
   "execution_count": null,
   "metadata": {
    "ExecuteTime": {
     "end_time": "2019-05-16T15:32:03.970305Z",
     "start_time": "2019-05-16T15:32:03.950286Z"
    },
    "hidden": true
   },
   "outputs": [],
   "source": [
    "new_df.update(df.drop(columns=['loc_city', 'loc_state']))"
   ]
  },
  {
   "cell_type": "code",
   "execution_count": null,
   "metadata": {
    "ExecuteTime": {
     "end_time": "2019-05-16T15:32:06.166459Z",
     "start_time": "2019-05-16T15:32:06.134160Z"
    },
    "hidden": true
   },
   "outputs": [],
   "source": [
    "new_df.to_pickle('temp')"
   ]
  },
  {
   "cell_type": "code",
   "execution_count": null,
   "metadata": {
    "ExecuteTime": {
     "end_time": "2019-05-16T15:35:50.995674Z",
     "start_time": "2019-05-16T15:35:50.746170Z"
    },
    "hidden": true
   },
   "outputs": [],
   "source": [
    "get_single_subscriber(137632665)"
   ]
  },
  {
   "cell_type": "markdown",
   "metadata": {
    "hidden": true
   },
   "source": [
    "MYSQL Commands"
   ]
  },
  {
   "cell_type": "code",
   "execution_count": null,
   "metadata": {
    "ExecuteTime": {
     "end_time": "2019-05-18T02:59:41.839903Z",
     "start_time": "2019-05-18T02:59:41.816839Z"
    },
    "hidden": true
   },
   "outputs": [],
   "source": [
    "# TEST MYSQL COMMANDS\n",
    "# cursor.execute('SELECT * FROM subscriber_data WHERE loc_state LIKE \"%?%\"'); cursor.fetchall() \n",
    "cursor.execute('SELECT * FROM subscriber_data WHERE id=471301153'); cursor.fetchall()\n",
    "# cursor.execute('SELECT * FROM subscriber_data WHERE loc_city=\"null\"'); cursor.fetchall()\n",
    "# cursor.execute('DELETE FROM subscriber_data WHERE id=137632665')\n",
    "# cursor.execute('SELECT COUNT(*) as count FROM subscriber_data'); cursor.fetchall()\n",
    "# cursor.execute('SELECT default_character_set_name FROM information_schema.SCHEMATA S WHERE schema_name = \"ck_info\";'); cursor.fetchall()\n",
    "# cursor.execute('SELECT CCSA.character_set_name FROM information_schema.`TABLES` T,information_schema.`COLLATION_CHARACTER_SET_APPLICABILITY` CCSA WHERE CCSA.collation_name = T.table_collation AND T.table_schema = \"ck_info\" AND T.table_name = \"TEST_subscriber_data\";'); cursor.fetchall()\n",
    "# cursor.execute('ALTER TABLE subscriber_data CONVERT TO CHARACTER SET utf8;')\n",
    "# cursor.execute('ALTER DATABASE ck_info CHARACTER SET utf8 COLLATE utf8_general_ci;')\n",
    "# conn.commit()"
   ]
  },
  {
   "cell_type": "code",
   "execution_count": null,
   "metadata": {
    "hidden": true
   },
   "outputs": [],
   "source": [
    "# Problem with \"?\" instead of utf-8, # Example 467114222"
   ]
  },
  {
   "cell_type": "code",
   "execution_count": null,
   "metadata": {
    "ExecuteTime": {
     "end_time": "2019-05-17T21:20:46.084911Z",
     "start_time": "2019-05-17T21:20:46.018099Z"
    },
    "hidden": true
   },
   "outputs": [],
   "source": [
    "# INSERT ON DUPLICATE KEY UPDATE testing\n",
    "values = [137632665,None,'active','2017-10-01T08:08:17.000Z',None,'ספר','ספר','Kuala Lumpur','Kuala Lumpur',\n",
    " '2017-10-01 04:08:51',None, None]; values\n",
    "cursor.execute(\"\"\"\n",
    "INSERT into TEST_subscriber_data \n",
    "(`id`, `first_name`, `state`, `created_at`, `fb_audience_source`, `lead_opt-in`, `lead_source`, `loc_city`, `loc_state`, `mailchimp_sub_date`, `stsbc_evg_launch_deadline`, `unsubscribe_date`)\n",
    "values \n",
    "(%s, %s, %s, %s, %s, %s, %s, %s, %s, %s, %s, %s)\n",
    "ON DUPLICATE KEY UPDATE \n",
    "id  = VALUES(id), \n",
    "fb_audience_source  = VALUES(fb_audience_source), \n",
    "`lead_opt-in`  = VALUES(`lead_opt-in`), \n",
    "lead_source  = VALUES(lead_source), \n",
    "stsbc_evg_launch_deadline = VALUES(stsbc_evg_launch_deadline),\n",
    "loc_city  = VALUES(loc_city), \n",
    "loc_state   = VALUES(loc_state),\n",
    "unsubscribe_date = VALUES(unsubscribe_date);\n",
    "\"\"\", values);"
   ]
  },
  {
   "cell_type": "code",
   "execution_count": null,
   "metadata": {
    "ExecuteTime": {
     "end_time": "2019-05-17T21:18:59.180668Z",
     "start_time": "2019-05-17T21:17:15.960145Z"
    },
    "hidden": true
   },
   "outputs": [],
   "source": [
    "# Update RDS with most recent subscriber information\n",
    "non_mysql = [\"email_address\", \"last_name\"]\n",
    "\n",
    "    # Get all subscribers from the CK API \n",
    "subs = get_all_sub_data(columns=[], dictionary=True, test=False); subs\n",
    "\n",
    "    # Prep columns and values\n",
    "columns, values = zip(*list(subs[0].items())); columns\n",
    "column_string = \", \".join([\"`\"+col+\"`\" for col in columns if col not in non_mysql]); column_string\n",
    "variable_string = \", \".join([\"%s\"]*12); variable_string\n",
    "duplicate_string = \"ON DUPLICATE KEY UPDATE \"+\", \".join([\"`\"+col+\"`=VALUES(`\"+col+\"`)\" for col in columns if col not in non_mysql]); duplicate_string\n",
    "\n",
    "    # Prep statement\n",
    "sql_string = f'insert ignore into subscriber_data ({column_string}) values ({variable_string}) {duplicate_string};'; sql_string\n",
    "values = [[v for k,v in sub.items() if k not in non_mysql] for sub in subs]; values\n",
    "\n",
    "    # Add those subscribers to the database\n",
    "cursor.executemany(sql_string, values)\n",
    "    "
   ]
  },
  {
   "cell_type": "code",
   "execution_count": null,
   "metadata": {
    "ExecuteTime": {
     "end_time": "2019-05-20T16:05:08.331009Z",
     "start_time": "2019-05-20T16:05:08.237667Z"
    },
    "hidden": true
   },
   "outputs": [],
   "source": [
    "conn.commit()"
   ]
  },
  {
   "cell_type": "code",
   "execution_count": null,
   "metadata": {
    "ExecuteTime": {
     "end_time": "2019-05-20T16:05:00.992210Z",
     "start_time": "2019-05-20T16:05:00.892151Z"
    },
    "hidden": true
   },
   "outputs": [],
   "source": [
    "cursor.execute('UPDATE subscriber_data SET loc_lat=1, loc_lng=1, loc_state=\"Ashland\", loc_city=\"Kentucky\" WHERE id=467247086');\n"
   ]
  },
  {
   "cell_type": "code",
   "execution_count": null,
   "metadata": {
    "ExecuteTime": {
     "end_time": "2019-05-19T23:50:33.768037Z",
     "start_time": "2019-05-19T23:50:33.603180Z"
    },
    "hidden": true
   },
   "outputs": [],
   "source": [
    "[d for d in data if not d['loc_city'] and not d['loc_state']][0]"
   ]
  },
  {
   "cell_type": "code",
   "execution_count": null,
   "metadata": {
    "ExecuteTime": {
     "end_time": "2019-05-20T14:40:00.934040Z",
     "start_time": "2019-05-20T14:40:00.284182Z"
    },
    "hidden": true
   },
   "outputs": [],
   "source": [
    "get_lat_and_lng(loc_city='Ashland', loc_state='kentucky', geolocator = Nominatim(user_agent=\"dgn_ck_geolocator\"))"
   ]
  },
  {
   "cell_type": "code",
   "execution_count": null,
   "metadata": {
    "ExecuteTime": {
     "end_time": "2019-05-20T17:18:16.652035Z",
     "start_time": "2019-05-20T17:18:16.578403Z"
    },
    "hidden": true
   },
   "outputs": [],
   "source": [
    "str_but_no_latlng[35:37]"
   ]
  },
  {
   "cell_type": "code",
   "execution_count": null,
   "metadata": {
    "ExecuteTime": {
     "end_time": "2019-05-21T21:14:05.930409Z",
     "start_time": "2019-05-21T21:14:05.762027Z"
    },
    "hidden": true
   },
   "outputs": [],
   "source": [
    "ac_conn = pymysql.connect(\n",
    "    user=os.environ['RDS_CK_USER'], \n",
    "    password=os.environ['RDS_CK_PASSWORD'], \n",
    "    host=os.environ['RDS_CK_HOST'],\n",
    "    database='ck_info',\n",
    "#     charset='utf8',\n",
    "    cursorclass=pymysql.cursors.DictCursor,\n",
    "    autocommit=True\n",
    ")\n",
    "ac_cursor = ac_conn.cursor()"
   ]
  },
  {
   "cell_type": "code",
   "execution_count": null,
   "metadata": {
    "ExecuteTime": {
     "end_time": "2019-05-20T18:56:50.575544Z",
     "start_time": "2019-05-20T18:56:50.169723Z"
    },
    "hidden": true
   },
   "outputs": [],
   "source": [
    "ac_cursor.execute('SELECT * FROM subscriber_data WHERE loc_state!=\"null\"'); data = ac_cursor.fetchall()\n",
    "str_but_no_latlng = [d for d in data if ((d['loc_city'] and d['loc_city']!='null') or (d['loc_state'] and d['loc_state']!='null')) and not d['loc_lat']]\n",
    "print(len(data), len(str_but_no_latlng))\n"
   ]
  },
  {
   "cell_type": "code",
   "execution_count": null,
   "metadata": {
    "ExecuteTime": {
     "end_time": "2019-05-20T18:53:32.374365Z",
     "start_time": "2019-05-20T18:53:24.866469Z"
    },
    "hidden": true
   },
   "outputs": [],
   "source": [
    "geolocator = Nominatim(user_agent=\"dgn_ck_geolocator\")\n",
    "skip_to=0\n",
    "for i, sub in enumerate(str_but_no_latlng[skip_to:]):\n",
    "    lc = sub['loc_city']; ls = sub['loc_state']; lid = sub['id']\n",
    "    time.sleep(1)\n",
    "    try:\n",
    "        latlng = get_lat_and_lng(loc_city=lc, loc_state=ls, geolocator=geolocator)\n",
    "    except LookupError as e:\n",
    "        print(f'LookupError for {lid} - {sub[\"loc_city\"]}, {sub[\"loc_state\"]}')\n",
    "        continue\n",
    "    except Exception as e:\n",
    "        print(i+skip_to, 'TIMEOUT')\n",
    "        time.sleep(20)\n",
    "        latlng = get_lat_and_lng(loc_city=lc, loc_state=ls, geolocator=geolocator)\n",
    "    lat = latlng['lat']; lng = latlng['lng']\n",
    "    ac_cursor.execute(f'UPDATE subscriber_data SET loc_lat={lat}, loc_lng={lng} WHERE id={lid}')\n",
    "    print('-'*100, end='\\r')\n",
    "    print(i+skip_to, lid, lc, ls, latlng, end='\\r')"
   ]
  },
  {
   "cell_type": "code",
   "execution_count": null,
   "metadata": {
    "ExecuteTime": {
     "end_time": "2019-05-20T17:30:42.874746Z",
     "start_time": "2019-05-20T17:30:42.807994Z"
    },
    "hidden": true
   },
   "outputs": [],
   "source": [
    "ac_cursor.execute('SELECT * FROM subscriber_data WHERE id=463137395'); ac_cursor.fetchall()"
   ]
  },
  {
   "cell_type": "code",
   "execution_count": null,
   "metadata": {
    "ExecuteTime": {
     "end_time": "2019-05-21T21:14:01.844057Z",
     "start_time": "2019-05-21T21:13:47.584Z"
    },
    "hidden": true
   },
   "outputs": [],
   "source": [
    "ac_cursor.execute('SELECT * FROM subscriber_data'); subscribers = ac_cursor.fetchall()"
   ]
  },
  {
   "cell_type": "code",
   "execution_count": null,
   "metadata": {
    "ExecuteTime": {
     "end_time": "2019-05-20T19:49:25.936859Z",
     "start_time": "2019-05-20T19:49:25.904243Z"
    },
    "hidden": true
   },
   "outputs": [],
   "source": [
    "[[i,s] for i, s in enumerate(subscribers) if s['id']==137632833]"
   ]
  },
  {
   "cell_type": "code",
   "execution_count": null,
   "metadata": {
    "ExecuteTime": {
     "end_time": "2019-05-20T19:49:53.442909Z",
     "start_time": "2019-05-20T19:49:53.416144Z"
    },
    "hidden": true
   },
   "outputs": [],
   "source": [
    "subscribers[100]['loc_lat']"
   ]
  },
  {
   "cell_type": "code",
   "execution_count": null,
   "metadata": {
    "ExecuteTime": {
     "end_time": "2019-05-20T23:39:39.565718Z",
     "start_time": "2019-05-20T19:51:15.733808Z"
    },
    "hidden": true
   },
   "outputs": [],
   "source": [
    "# Load RDS subscriber lat and lng back \n",
    "for i, sub in enumerate(subscribers):\n",
    "    sub_id = sub['id']\n",
    "    lat = str(sub['loc_lat']) if sub['loc_lat'] else 'null'\n",
    "    lng = str(sub['loc_lng']) if sub['loc_lng'] else 'null'\n",
    "    print(f'{i}/{len(subscribers)}', end='\\r')\n",
    "    \n",
    "    \n",
    "#     if r.status_code "
   ]
  },
  {
   "cell_type": "markdown",
   "metadata": {
    "hidden": true
   },
   "source": [
    "Load RDS subscriber lat and lng back async"
   ]
  },
  {
   "cell_type": "code",
   "execution_count": null,
   "metadata": {
    "ExecuteTime": {
     "end_time": "2019-05-22T02:22:41.990866Z",
     "start_time": "2019-05-22T02:22:41.582556Z"
    },
    "hidden": true
   },
   "outputs": [],
   "source": [
    "session = requests.session() # Create session\n",
    "cursor.execute('SELECT id, loc_lat, loc_lng, subscribe_date FROM subscriber_data'); subscribers = cursor.fetchall()\n",
    "sub_ids = [sub['id'] for sub in subscribers]\n",
    "lats = [str(sub['loc_lat']) if sub['loc_lat'] else 'null' for sub in subscribers]\n",
    "lngs = [str(sub['loc_lng']) if sub['loc_lng'] else 'null' for sub in subscribers]\n",
    "sub_date = [sub['subscribe_date'] for sub in subscribers]\n",
    "subscribers = [s for s in list(zip(sub_ids, lats, lngs, sub_date)) if s[0] > 20000]; len(subscribers), subscribers[:3]"
   ]
  },
  {
   "cell_type": "code",
   "execution_count": null,
   "metadata": {
    "ExecuteTime": {
     "end_time": "2019-05-22T02:43:42.652846Z",
     "start_time": "2019-05-22T02:23:40.705833Z"
    },
    "hidden": true
   },
   "outputs": [],
   "source": [
    "async def work(data_array):\n",
    "    sub_id, lat, lng, sub_date = data_array\n",
    "    url = f'https://api.convertkit.com/v3/subscribers/{sub_id}'\n",
    "    data = json.dumps({'api_secret': CK_API_SECRET,'fields':{'loc_lat': lat, 'loc_lng': lng, 'subscribe_date': sub_date}})\n",
    "    headers = {'content-type': 'application/json'}\n",
    "    r = session.put(url=url, data=data, headers=headers)\n",
    "    if r.status_code != 200: \n",
    "        print('ERROR!', sub)\n",
    "        \n",
    "await asyncio.gather(*[work(sub) for sub in subscribers[40:]]);"
   ]
  },
  {
   "cell_type": "code",
   "execution_count": null,
   "metadata": {
    "ExecuteTime": {
     "end_time": "2019-05-20T19:45:55.122969Z",
     "start_time": "2019-05-20T19:45:55.093915Z"
    },
    "hidden": true
   },
   "outputs": [],
   "source": [
    "subscribers.index(sub)"
   ]
  },
  {
   "cell_type": "code",
   "execution_count": null,
   "metadata": {
    "ExecuteTime": {
     "end_time": "2019-05-22T02:43:42.998360Z",
     "start_time": "2019-05-22T02:43:42.657599Z"
    },
    "hidden": true
   },
   "outputs": [],
   "source": [
    "notify('done!')"
   ]
  },
  {
   "cell_type": "markdown",
   "metadata": {
    "heading_collapsed": true,
    "hidden": true
   },
   "source": [
    "### Inserting ck export into RDS"
   ]
  },
  {
   "cell_type": "code",
   "execution_count": null,
   "metadata": {
    "ExecuteTime": {
     "end_time": "2019-05-22T00:29:06.800014Z",
     "start_time": "2019-05-22T00:29:06.673153Z"
    },
    "hidden": true
   },
   "outputs": [],
   "source": [
    "# Get the csv and use it\n",
    "ck_customer_data = prep_ck_csv(\"/Users/nish/Downloads/2019-05-21-9752.csv\"); ck_customer_data.loc[0];"
   ]
  },
  {
   "cell_type": "code",
   "execution_count": null,
   "metadata": {
    "ExecuteTime": {
     "end_time": "2019-05-22T00:51:05.555119Z",
     "start_time": "2019-05-22T00:51:05.344061Z"
    },
    "hidden": true
   },
   "outputs": [],
   "source": [
    "# ck_customer_data.to_csv(\"/Users/nish/Downloads/all_convertkit_subscriber_data.csv\")"
   ]
  },
  {
   "cell_type": "code",
   "execution_count": null,
   "metadata": {
    "hidden": true
   },
   "outputs": [],
   "source": [
    "# Add \"id\" column and remove \"nan\" processing\n",
    "ck_customer_data['id'] = ck_customer_data['email'].map(subscribers)\n",
    "ck_customer_data = ck_customer_data.where((pd.notnull(ck_customer_data)), None)"
   ]
  },
  {
   "cell_type": "code",
   "execution_count": null,
   "metadata": {
    "ExecuteTime": {
     "end_time": "2019-05-22T00:42:10.329830Z",
     "start_time": "2019-05-22T00:41:51.429153Z"
    },
    "hidden": true
   },
   "outputs": [],
   "source": [
    "# Set empty ids to an int\n",
    "i = 0\n",
    "for row in ck_customer_data.iterrows():\n",
    "#     print(row[1])\n",
    "#     ck_customer_data[]\n",
    "    if not ck_customer_data.loc[row[0], 'id']: \n",
    "        ck_customer_data.loc[row[0], 'id'] = i\n",
    "        i += 1"
   ]
  },
  {
   "cell_type": "code",
   "execution_count": null,
   "metadata": {
    "ExecuteTime": {
     "end_time": "2019-05-22T00:45:53.490485Z",
     "start_time": "2019-05-22T00:45:49.187188Z"
    },
    "hidden": true
   },
   "outputs": [],
   "source": [
    "    # Prep columns and values\n",
    "columns = ck_customer_data.columns\n",
    "values = ck_customer_data.values.tolist(); columns, values\n",
    "column_string = \", \".join([\"`\"+col+\"`\" for col in columns]); column_string\n",
    "variable_string = \", \".join([\"%s\"]*len(columns)); variable_string\n",
    "duplicate_string = \"ON DUPLICATE KEY UPDATE `email`=VALUES(`email`)\"; duplicate_string #update for existing\n",
    "\n",
    "    # Prep statement\n",
    "sql_string = f'insert into subscriber_data ({column_string}) values ({variable_string}) {duplicate_string};'; sql_string\n",
    "\n",
    "    # Add those subscribers to the database\n",
    "cursor.executemany(sql_string, values)\n",
    "    "
   ]
  },
  {
   "cell_type": "code",
   "execution_count": null,
   "metadata": {
    "ExecuteTime": {
     "end_time": "2019-05-21T23:21:51.627020Z",
     "start_time": "2019-05-21T23:21:51.562503Z"
    },
    "hidden": true
   },
   "outputs": [],
   "source": [
    "cursor.execute('INSERT IGNORE INTO TEST_subscriber_data (first_name, id) VALUES (%s, %s)', [float('nan'), 2])\n",
    "cursor.execute('SELECT * FROM TEST_subscriber_data'); cursor.fetchall()"
   ]
  },
  {
   "cell_type": "code",
   "execution_count": null,
   "metadata": {
    "ExecuteTime": {
     "end_time": "2019-05-21T21:46:37.555729Z",
     "start_time": "2019-05-21T21:46:37.318663Z"
    },
    "hidden": true
   },
   "outputs": [],
   "source": [
    "get_single_subscriber(email_address = 'dnishiyama@gmail.com')"
   ]
  },
  {
   "cell_type": "code",
   "execution_count": null,
   "metadata": {
    "ExecuteTime": {
     "end_time": "2019-05-21T21:26:13.270749Z",
     "start_time": "2019-05-21T21:26:13.240011Z"
    },
    "hidden": true
   },
   "outputs": [],
   "source": [
    "[[v[0], ] for v in ck_customer_data.loc[:3].values]"
   ]
  },
  {
   "cell_type": "code",
   "execution_count": null,
   "metadata": {
    "ExecuteTime": {
     "end_time": "2019-05-22T00:48:17.241954Z",
     "start_time": "2019-05-22T00:48:16.652829Z"
    },
    "hidden": true
   },
   "outputs": [],
   "source": [
    "cursor.execute('Select * FROM subscriber_data WHERE email LIKE \"%@%\"'); len(cursor.fetchall())"
   ]
  },
  {
   "cell_type": "code",
   "execution_count": null,
   "metadata": {
    "ExecuteTime": {
     "end_time": "2019-05-21T23:13:00.040962Z",
     "start_time": "2019-05-21T23:12:59.988512Z"
    },
    "hidden": true
   },
   "outputs": [],
   "source": [
    "# Get the different types of states\n",
    "# {'active', 'bounced', 'cancelled', 'complained', 'inactive'}\n",
    "actives = ck_customer_data['status']=='active'\n",
    "bounceds = ck_customer_data['status']=='bounced'\n",
    "cancelleds = ck_customer_data['status']=='cancelled'\n",
    "complaineds = ck_customer_data['status']=='complained'\n",
    "inactive = ck_customer_data['status']=='inactive'\n",
    "subs_to_fetch = ck_customer_data[actives | bounceds | cancelleds]['email'].tolist()"
   ]
  },
  {
   "cell_type": "code",
   "execution_count": null,
   "metadata": {
    "ExecuteTime": {
     "end_time": "2019-05-22T00:48:50.438378Z",
     "start_time": "2019-05-22T00:48:50.408161Z"
    },
    "hidden": true
   },
   "outputs": [],
   "source": [
    "subs_to_fetch = ck_customer_data['email'].tolist(); len(subs_to_fetch)"
   ]
  },
  {
   "cell_type": "code",
   "execution_count": null,
   "metadata": {
    "ExecuteTime": {
     "end_time": "2019-05-22T00:21:23.640808Z",
     "start_time": "2019-05-22T00:07:45.436443Z"
    },
    "hidden": true
   },
   "outputs": [],
   "source": [
    "# Get all ids from Convertkit sequentially\n",
    "session=requests.session()\n",
    "start = 0\n",
    "for i,email in enumerate(ck_customer_data['email'].tolist()[start:]):\n",
    "    if not email: continue\n",
    "    sub_id=None\n",
    "    subs = get_single_subscriber(session=session, email_address=email).get('subscribers', [])\n",
    "    if subs and 'id' in subs[0]: sub_id = subs[0]['id']\n",
    "    subscribers.update({email: sub_id})\n",
    "    print(i+start, end='\\r')"
   ]
  },
  {
   "cell_type": "code",
   "execution_count": null,
   "metadata": {
    "ExecuteTime": {
     "end_time": "2019-05-22T00:21:27.449919Z",
     "start_time": "2019-05-22T00:21:27.345949Z"
    },
    "hidden": true
   },
   "outputs": [],
   "source": [
    "# Missing emails\n",
    "[c for c in ck_customer_data['email'].tolist() if c not in subscribers]"
   ]
  },
  {
   "cell_type": "code",
   "execution_count": null,
   "metadata": {
    "ExecuteTime": {
     "end_time": "2019-05-22T00:21:49.334003Z",
     "start_time": "2019-05-22T00:21:49.302075Z"
    },
    "hidden": true
   },
   "outputs": [],
   "source": [
    "# Number of missing ids (inactives etc.)\n",
    "len([c for c in ck_customer_data['email'].tolist() if c and not subscribers[c]])"
   ]
  },
  {
   "cell_type": "code",
   "execution_count": null,
   "metadata": {
    "ExecuteTime": {
     "end_time": "2019-05-22T00:00:53.149232Z",
     "start_time": "2019-05-21T23:46:20.553643Z"
    },
    "hidden": true
   },
   "outputs": [],
   "source": [
    "# Get data from convertkit API asynchronously\n",
    "session = requests.session()\n",
    "\n",
    "async def work(email_address):\n",
    "    sub_id = None\n",
    "    subs = get_single_subscriber(session=session, email_address=email_address).get('subscribers', [])\n",
    "    if subs and 'id' in subs[0]: sub_id = subs[0]['id']\n",
    "    return {email_address: sub_id}\n",
    "\n",
    "data = await asyncio.gather(*[work(sub) for sub in subs_to_fetch])\n",
    "\n",
    "subscribers.update({k:v for dicts in data for k,v in dicts.items()})"
   ]
  },
  {
   "cell_type": "markdown",
   "metadata": {
    "heading_collapsed": true,
    "hidden": true
   },
   "source": [
    "### Add MailChimp subscribe dates"
   ]
  },
  {
   "cell_type": "code",
   "execution_count": null,
   "metadata": {
    "ExecuteTime": {
     "end_time": "2019-05-22T01:40:04.598915Z",
     "start_time": "2019-05-22T01:40:04.168738Z"
    },
    "hidden": true
   },
   "outputs": [],
   "source": [
    "# Alter table\n",
    "# cursor.execute('ALTER TABLE subscriber_data ADD COLUMN subscribe_date text AFTER stsbc_evg_launch_deadline')\n",
    "# cursor.execute('UPDATE subscriber_data SET `subscribe_date`=`created_at`')"
   ]
  },
  {
   "cell_type": "code",
   "execution_count": null,
   "metadata": {
    "ExecuteTime": {
     "end_time": "2019-05-22T02:13:44.039012Z",
     "start_time": "2019-05-22T02:13:43.992267Z"
    },
    "hidden": true
   },
   "outputs": [],
   "source": [
    "# See the existing data type\n",
    "# cursor.execute('SELECT created_at FROM subscriber_data LIMIT 1'); cursor.fetchall()\n",
    "# cursor.execute('INSERT INTO TEST_subscriber_data (`id`, `email`, `state`) VALUES (3, \"sguinnie@hotmail.com\", \"active\")'); cursor.fetchall()\n",
    "# cursor.execute('SELECT * FROM subscriber_data WHERE id = 474237317'); cursor.fetchall()\n",
    "# cursor.execute('SELECT * FROM subscriber_data WHERE mailchimp_sub_date IS NOT NULL LIMIT 1'); cursor.fetchall()\n"
   ]
  },
  {
   "cell_type": "code",
   "execution_count": null,
   "metadata": {
    "ExecuteTime": {
     "end_time": "2019-05-22T02:00:43.682194Z",
     "start_time": "2019-05-22T02:00:43.451485Z"
    },
    "hidden": true
   },
   "outputs": [],
   "source": [
    "# Get the csv and make a 2 column dataframe from it\n",
    "ck_customer_data = prep_ck_csv(\"/Users/nish/Downloads/sheets_ck_data.csv\"); ck_customer_data\n",
    "ck_customer_data = ck_customer_data[['email', 'mailchimp_sub_date']]; ck_customer_data\n",
    "ck_customer_data = ck_customer_data[ck_customer_data['mailchimp_sub_date'].notnull()]; ck_customer_data\n",
    "ck_customer_data['mailchimp_sub_date'] = ck_customer_data['mailchimp_sub_date'].apply(convert_time)"
   ]
  },
  {
   "cell_type": "code",
   "execution_count": null,
   "metadata": {
    "ExecuteTime": {
     "end_time": "2019-05-22T01:49:46.150602Z",
     "start_time": "2019-05-22T01:49:45.425007Z"
    },
    "hidden": true
   },
   "outputs": [],
   "source": [
    "# Make a new column based on the data in the table with reformatting\n",
    "cursor.execute('SELECT created_at, id FROM subscriber_data')\n",
    "created_at_dates = cursor.fetchall(); created_at_dates\n",
    "conv = lambda x: datetime.strptime(x, '%Y-%m-%dT%H:%M:%S.000Z').strftime('%Y-%m-%d')\n",
    "created_at_dates = [[conv(c['created_at']), c['id']] for c in created_at_dates]; created_at_dates[:3]"
   ]
  },
  {
   "cell_type": "code",
   "execution_count": null,
   "metadata": {
    "ExecuteTime": {
     "end_time": "2019-05-22T02:13:34.865822Z",
     "start_time": "2019-05-22T02:13:04.857024Z"
    },
    "hidden": true
   },
   "outputs": [],
   "source": [
    "# cursor.executemany('UPDATE subscriber_data SET subscribe_date=%s WHERE id=%s', created_at_dates[18000:])"
   ]
  },
  {
   "cell_type": "code",
   "execution_count": null,
   "metadata": {
    "ExecuteTime": {
     "end_time": "2019-05-22T02:13:56.447403Z",
     "start_time": "2019-05-22T02:13:56.377611Z"
    },
    "hidden": true
   },
   "outputs": [],
   "source": [
    "conn.commit()"
   ]
  },
  {
   "cell_type": "markdown",
   "metadata": {
    "heading_collapsed": true,
    "hidden": true
   },
   "source": [
    "### Add MailChimp subscribers"
   ]
  },
  {
   "cell_type": "code",
   "execution_count": null,
   "metadata": {
    "ExecuteTime": {
     "end_time": "2019-06-04T20:02:17.189338Z",
     "start_time": "2019-06-04T20:02:16.581387Z"
    },
    "hidden": true
   },
   "outputs": [],
   "source": [
    "# Get the data from RDS\n",
    "cursor.execute('SELECT * FROM subscriber_data'); rds_subscribers = cursor.fetchall()\n",
    "print([c[0] for c in cursor.description])\n",
    "cursor.execute('SELECT * FROM purchase_data'); rds_purchasers = cursor.fetchall()\n",
    "rds_sub_emails = [r['email_address'] for r in rds_subscribers]; print(len(rds_sub_emails))\n",
    "rds_pur_emails = [r['email_address'] for r in rds_purchasers]; print(len(rds_pur_emails))"
   ]
  },
  {
   "cell_type": "code",
   "execution_count": null,
   "metadata": {
    "ExecuteTime": {
     "end_time": "2019-06-04T20:02:18.531901Z",
     "start_time": "2019-06-04T20:02:18.414261Z"
    },
    "hidden": true
   },
   "outputs": [],
   "source": [
    "pd.options.mode.chained_assignment = None\n",
    "\n",
    "# Get and prep the csv from MailChimp (sub and unsub combined)\n",
    "mc_df = pd.read_csv('/Users/nish/Downloads/mailchimp_subscribers.csv'); mc_df\n",
    "mc_df = mc_df[['Email Address', 'First Name', 'LATITUDE', 'LONGITUDE', 'OPTIN_TIME', 'UNSUB_TIME']] # reduce cols\n",
    "mc_df.columns = ['email_address', 'first_name', 'loc_lat', 'loc_lng', 'subscribe_date', 'unsubscribe_date']\n",
    "mc_df = mc_df.where((pd.notnull(mc_df)), None); mc_df # change nan to Nones\n",
    "mc_df['email_address'] = [e.lower() for e in mc_df['email_address'].tolist()]; mc_df.head(3) # make emails lowercase\n",
    "datetime_conv = lambda x: datetime.strptime(x, '%m/%d/%y %H:%M').strftime('%Y-%m-%d')\n",
    "mc_df['subscribe_date'] = [datetime_conv(e) if e else None for e in mc_df['subscribe_date'].tolist()]\n",
    "mc_df['unsubscribe_date'] = [datetime_conv(e) if e else '2019-04-08' for e in mc_df['unsubscribe_date'].tolist()]\n",
    "mc_df['loc_lat'] = [round(e, 3) if e else None for e in mc_df['loc_lat'].tolist()]\n",
    "mc_df['loc_lng'] = [round(e, 3) if e else None for e in mc_df['loc_lng'].tolist()]\n",
    "mc_df['state'] = 'cancelled'; mc_df.head(2)\n",
    "mc_df = mc_df.where((pd.notnull(mc_df)), None); mc_df.head(2) # change nan to Nones\n",
    "mc_df_2 = mc_df[~mc_df['email_address'].isin(rds_sub_emails)]; print(len(mc_df_2)); mc_df_2.head(2)"
   ]
  },
  {
   "cell_type": "code",
   "execution_count": null,
   "metadata": {
    "ExecuteTime": {
     "end_time": "2019-06-04T20:01:54.705937Z",
     "start_time": "2019-06-04T20:01:53.718844Z"
    },
    "hidden": true
   },
   "outputs": [],
   "source": [
    "# Convert the lng and lat to places\n",
    "def get_place(coord):\n",
    "    if not coord[0] or not coord[1]: return coord\n",
    "    place = rg.search(coord, mode=1)\n",
    "    city = place[0]['admin1']\n",
    "    country = iso3166.countries_by_alpha2.get(place[0]['cc']).name\n",
    "    return city, country\n",
    "    \n",
    "coords = list(zip(mc_df_2['loc_lat'], mc_df_2['loc_lng'])); coords\n",
    "places = [get_place(c) if c else None for c in coords]; places\n",
    "city_col, state_col = list(zip(*[p for p in places])); city_col[:3], state_col[:3]"
   ]
  },
  {
   "cell_type": "code",
   "execution_count": null,
   "metadata": {
    "ExecuteTime": {
     "end_time": "2019-06-04T20:01:56.609708Z",
     "start_time": "2019-06-04T20:01:56.575991Z"
    },
    "hidden": true
   },
   "outputs": [],
   "source": [
    "# Add the city and state back to the table\n",
    "\n",
    "mc_df_2['loc_city']=pd.Series(city_col).values\n",
    "mc_df_2['loc_state']=pd.Series(state_col).values\n",
    "mc_df_2.head(2)"
   ]
  },
  {
   "cell_type": "code",
   "execution_count": null,
   "metadata": {
    "ExecuteTime": {
     "end_time": "2019-06-04T20:02:01.762727Z",
     "start_time": "2019-06-04T20:02:01.715140Z"
    },
    "hidden": true
   },
   "outputs": [],
   "source": [
    "cursor.execute('SELECT max(id) as m FROM subscriber_data WHERE id < 20000')\n",
    "max_id = cursor.fetchall()[0]['m']; max_id"
   ]
  },
  {
   "cell_type": "code",
   "execution_count": null,
   "metadata": {
    "ExecuteTime": {
     "end_time": "2019-06-04T20:02:03.911732Z",
     "start_time": "2019-06-04T20:02:03.747100Z"
    },
    "hidden": true
   },
   "outputs": [],
   "source": [
    "cols = ['id'] + mc_df_2.columns.tolist()\n",
    "values = [[max_id+1+i, *list(v)] for i, v in enumerate(mc_df_2.to_numpy())]; values\n",
    "sql_stmt = f\"\"\"\\\n",
    "INSERT INTO subscriber_data\n",
    "({\", \".join(cols)})\n",
    "VALUES\n",
    "({\", \".join([\"%s\"]*len(cols))})\n",
    "\"\"\"; sql_stmt\n",
    "cursor.executemany(sql_stmt, values)"
   ]
  },
  {
   "cell_type": "code",
   "execution_count": null,
   "metadata": {
    "ExecuteTime": {
     "end_time": "2019-06-04T20:02:05.268402Z",
     "start_time": "2019-06-04T20:02:05.212649Z"
    },
    "hidden": true
   },
   "outputs": [],
   "source": [
    "conn.commit()"
   ]
  },
  {
   "cell_type": "code",
   "execution_count": null,
   "metadata": {
    "hidden": true
   },
   "outputs": [],
   "source": [
    "### Add the new mc emails to the subscribers table\n",
    "# Get the emails, and other data for people that don't exist in subscribers\n",
    "# Add them to subscribers\n",
    "# Check to see if the purchases need to be updated"
   ]
  },
  {
   "cell_type": "code",
   "execution_count": null,
   "metadata": {
    "ExecuteTime": {
     "end_time": "2019-06-04T20:02:09.720428Z",
     "start_time": "2019-06-04T20:02:09.694162Z"
    },
    "hidden": true
   },
   "outputs": [],
   "source": [
    "[r for r in rds_purchasers if r['subscriber_id'] < 20000 and r['email_address'] in mc_df_2['email_address'].tolist()]"
   ]
  },
  {
   "cell_type": "markdown",
   "metadata": {
    "heading_collapsed": true,
    "hidden": true
   },
   "source": [
    "### Check CK vs RDS"
   ]
  },
  {
   "cell_type": "markdown",
   "metadata": {
    "hidden": true
   },
   "source": [
    "Missing items from RDS"
   ]
  },
  {
   "cell_type": "code",
   "execution_count": null,
   "metadata": {
    "ExecuteTime": {
     "end_time": "2019-05-22T13:13:20.007949Z",
     "start_time": "2019-05-22T13:11:11.545501Z"
    },
    "hidden": true
   },
   "outputs": [],
   "source": [
    "ck_sub_data = get_all_sub_data(columns=[]); ck_sub_data[-1]"
   ]
  },
  {
   "cell_type": "code",
   "execution_count": null,
   "metadata": {
    "ExecuteTime": {
     "end_time": "2019-05-22T13:25:03.429100Z",
     "start_time": "2019-05-22T13:25:02.764393Z"
    },
    "hidden": true
   },
   "outputs": [],
   "source": [
    "column_string = ', '.join(['`'+c.value+'`' for c in CK_Column]); column_string\n",
    "cursor.execute(f'SELECT {column_string} FROM subscriber_data'); \n",
    "rds_sub_data = cursor.fetchall(); len(rds_sub_data)"
   ]
  },
  {
   "cell_type": "code",
   "execution_count": null,
   "metadata": {
    "ExecuteTime": {
     "end_time": "2019-05-22T13:26:37.731926Z",
     "start_time": "2019-05-22T13:26:37.696982Z"
    },
    "hidden": true
   },
   "outputs": [],
   "source": [
    "rds_ids = [c['id'] for c in rds_sub_data]; len(rds_ids), rds_ids[-3:]\n",
    "ck_ids = [c[0] for c in ck_sub_data]; len(ck_ids), ck_ids[-3:]"
   ]
  },
  {
   "cell_type": "code",
   "execution_count": null,
   "metadata": {
    "ExecuteTime": {
     "end_time": "2019-05-22T14:42:22.381650Z",
     "start_time": "2019-05-22T14:42:22.306763Z"
    },
    "hidden": true
   },
   "outputs": [],
   "source": [
    "result = list(set(ck_ids) - set(rds_ids)); result"
   ]
  },
  {
   "cell_type": "code",
   "execution_count": null,
   "metadata": {
    "ExecuteTime": {
     "end_time": "2019-05-22T14:40:31.574897Z",
     "start_time": "2019-05-22T14:40:29.312661Z"
    },
    "hidden": true
   },
   "outputs": [],
   "source": [
    "update_single_subscriber(sub_id=474316521, conn=conn)"
   ]
  },
  {
   "cell_type": "markdown",
   "metadata": {
    "hidden": true
   },
   "source": [
    "Missing data"
   ]
  },
  {
   "cell_type": "code",
   "execution_count": null,
   "metadata": {
    "ExecuteTime": {
     "end_time": "2019-05-22T15:06:06.407219Z",
     "start_time": "2019-05-22T15:06:06.374504Z"
    },
    "hidden": true
   },
   "outputs": [],
   "source": [
    "rds_sub_data[0]"
   ]
  },
  {
   "cell_type": "code",
   "execution_count": null,
   "metadata": {
    "ExecuteTime": {
     "end_time": "2019-05-22T15:05:13.644612Z",
     "start_time": "2019-05-22T15:05:13.518737Z"
    },
    "hidden": true
   },
   "outputs": [],
   "source": [
    "cursor.execute('SELECT * FROM subscriber_data WHERE mailchimp_sub_date IS NOT NULL AND unsubscribe_date IS NULL')\n",
    "data = cursor.fetchall(); len(data)#, data[0]"
   ]
  },
  {
   "cell_type": "code",
   "execution_count": null,
   "metadata": {
    "ExecuteTime": {
     "end_time": "2019-05-22T15:02:29.699265Z",
     "start_time": "2019-05-22T15:02:29.670287Z"
    },
    "hidden": true
   },
   "outputs": [],
   "source": [
    "conv_created_at_to_subscribe_date(data[-1]['created_at'])"
   ]
  },
  {
   "cell_type": "code",
   "execution_count": null,
   "metadata": {
    "ExecuteTime": {
     "end_time": "2019-05-22T15:01:18.999310Z",
     "start_time": "2019-05-22T15:01:18.966653Z"
    },
    "hidden": true
   },
   "outputs": [],
   "source": [
    "values = [[conv_created_at_to_subscribe_date(d['created_at']), d['id']] for d in data]; values"
   ]
  },
  {
   "cell_type": "code",
   "execution_count": null,
   "metadata": {
    "ExecuteTime": {
     "end_time": "2019-05-22T15:03:36.353272Z",
     "start_time": "2019-05-22T15:03:34.572058Z"
    },
    "hidden": true
   },
   "outputs": [],
   "source": [
    "cursor.executemany('UPDATE subscriber_data SET subscribe_date=%s WHERE id=%s', values)"
   ]
  },
  {
   "cell_type": "code",
   "execution_count": null,
   "metadata": {
    "ExecuteTime": {
     "end_time": "2019-05-22T15:03:54.324368Z",
     "start_time": "2019-05-22T15:03:54.264719Z"
    },
    "hidden": true
   },
   "outputs": [],
   "source": [
    "conn.commit()"
   ]
  },
  {
   "cell_type": "markdown",
   "metadata": {
    "heading_collapsed": true,
    "hidden": true
   },
   "source": [
    "### Purchases Database\n"
   ]
  },
  {
   "cell_type": "code",
   "execution_count": null,
   "metadata": {
    "ExecuteTime": {
     "end_time": "2019-05-22T15:08:03.357966Z",
     "start_time": "2019-05-22T15:08:03.178366Z"
    },
    "hidden": true
   },
   "outputs": [],
   "source": [
    "cursor.execute('SHOW TABLES;'); cursor.fetchall()"
   ]
  },
  {
   "cell_type": "markdown",
   "metadata": {
    "heading_collapsed": true,
    "hidden": true
   },
   "source": [
    "### Fix lack of emails "
   ]
  },
  {
   "cell_type": "code",
   "execution_count": null,
   "metadata": {
    "ExecuteTime": {
     "end_time": "2019-05-22T21:39:36.729878Z",
     "start_time": "2019-05-22T21:39:36.674074Z"
    },
    "hidden": true
   },
   "outputs": [],
   "source": [
    "# sql = 'SELECT id, email_address, loc_lat, loc_lng, STR_TO_DATE(created_at, \"%Y-%m-%dT%H:%i:%s\") as d FROM subscriber_data HAVING d >= NOW() - INTERVAL 1 DAY'\n",
    "sql = 'SELECT * FROM subscriber_data WHERE email_address IS NULL AND id > 20000'\n",
    "cursor.execute(sql); data = cursor.fetchall(); len(data)"
   ]
  },
  {
   "cell_type": "code",
   "execution_count": null,
   "metadata": {
    "ExecuteTime": {
     "end_time": "2019-05-22T21:39:53.100515Z",
     "start_time": "2019-05-22T21:39:52.914569Z"
    },
    "hidden": true
   },
   "outputs": [],
   "source": [
    "session = requests.session()\n",
    "fixes = {}\n",
    "for i, d in enumerate(data):\n",
    "    print(i, end='\\r')\n",
    "    sub_data = get_single_subscriber(session, subscriber_id=d['id'])\n",
    "    fixes[d['id']] = sub_data['email_address']"
   ]
  },
  {
   "cell_type": "code",
   "execution_count": null,
   "metadata": {
    "ExecuteTime": {
     "end_time": "2019-05-22T21:40:03.972280Z",
     "start_time": "2019-05-22T21:40:03.896061Z"
    },
    "hidden": true
   },
   "outputs": [],
   "source": [
    "values = [[v,k] for k,v in fixes.items()]; values[:3]\n",
    "cursor.executemany('UPDATE subscriber_data SET email_address=%s WHERE id=%s', values)\n",
    "conn.commit()"
   ]
  },
  {
   "cell_type": "markdown",
   "metadata": {
    "heading_collapsed": true,
    "hidden": true
   },
   "source": [
    "### Create Link Shortener"
   ]
  },
  {
   "cell_type": "markdown",
   "metadata": {
    "heading_collapsed": true,
    "hidden": true
   },
   "source": [
    "#### Mysql"
   ]
  },
  {
   "cell_type": "code",
   "execution_count": null,
   "metadata": {
    "ExecuteTime": {
     "end_time": "2019-06-24T17:27:34.588872Z",
     "start_time": "2019-06-24T17:27:34.468463Z"
    },
    "hidden": true
   },
   "outputs": [],
   "source": [
    "cursor.execute(\"\"\"\n",
    "    CREATE TABLE `links` (\n",
    "      `id` MEDIUMINT NOT NULL AUTO_INCREMENT,\n",
    "      `char_value` CHAR(1) NOT NULL,\n",
    "      `char_num` SMALLINT UNSIGNED NOT NULL,\n",
    "      `link_value_position` SMALLINT UNSIGNED NOT NULL,\n",
    "      `link_value` text,\n",
    "      `description` text,\n",
    "      PRIMARY KEY (`id`));\"\"\"\n",
    "    )"
   ]
  },
  {
   "cell_type": "code",
   "execution_count": null,
   "metadata": {
    "ExecuteTime": {
     "end_time": "2019-06-21T12:57:22.564122Z",
     "start_time": "2019-06-21T12:57:22.455820Z"
    },
    "hidden": true
   },
   "outputs": [],
   "source": [
    "cursor.execute(\"\"\"\n",
    "    CREATE TABLE `link_shortener` (\n",
    "      `id` CHAR(1) NOT NULL,\n",
    "      `char_num` INT UNSIGNED NOT NULL,\n",
    "      `value_position` INT UNSIGNED NOT NULL,\n",
    "      `value` text,\n",
    "      `description` text,\n",
    "      PRIMARY KEY (`id`, `char_num`, `value_position`));\"\"\"\n",
    "    )"
   ]
  },
  {
   "cell_type": "code",
   "execution_count": null,
   "metadata": {
    "ExecuteTime": {
     "end_time": "2019-06-21T12:57:20.497338Z",
     "start_time": "2019-06-21T12:57:20.393281Z"
    },
    "hidden": true
   },
   "outputs": [],
   "source": [
    "cursor.execute('drop table link_shortener')"
   ]
  },
  {
   "cell_type": "code",
   "execution_count": null,
   "metadata": {
    "ExecuteTime": {
     "end_time": "2019-06-21T12:56:06.904574Z",
     "start_time": "2019-06-21T12:56:06.805907Z"
    },
    "hidden": true
   },
   "outputs": [],
   "source": [
    "cursor.execute('show tables;'); cursor.fetchall()"
   ]
  },
  {
   "cell_type": "code",
   "execution_count": null,
   "metadata": {
    "ExecuteTime": {
     "end_time": "2019-06-21T12:49:21.149049Z",
     "start_time": "2019-06-21T12:49:21.026378Z"
    },
    "hidden": true
   },
   "outputs": [],
   "source": [
    "a = \"\"\"\n",
    "            case 'a', 0, 0: longUrl += 'mightcouldstudios.lpages.co'; break; // WAF Activity Guide\n",
    "            case 'b', 0, 0: longUrl += 'mightcouldstudios.lpages.co'; break; // Book Making Guide\n",
    "            case 'e', 0, 0: longUrl += 'might-could.com'; break; // Emails (NO LANDING PAGE EXISTS)\n",
    "            case 'f', 0, 0: longUrl += 'mightcouldstudios.lpages.co'; break; //WAF ebook\n",
    "            case 'i', 0, 0: longUrl += 'lp.mightcouldstudios.com'; break; // Influence Map\n",
    "            case 'k', 0, 0: longUrl += 'mightcouldstudios.lpages.co'; break // Influence Map Sketchbook\n",
    "            case 'm', 0, 0: longUrl += 'lp.mightcouldstudios.com'; break; // MCDT\n",
    "            case 's', 0, 0: longUrl += 'mightcouldstudios.lpages.co'; break; // StSBC WL\n",
    "            case 't', 0, 0: longUrl += 'mightcouldstudios.lpages.co'; break; // Tools\n",
    "            case 'u', 0, 0: longUrl += 'might-could.com'; break; // Studiomates WL (NO LANDING PAGE EXISTS)\n",
    "            case 'y', 0, 0: longUrl += 'lp.mightcouldstudios.com'; break; // Style Mini-course\n",
    "            case 'a', 0, 1: longUrl += 'we-are-fungi-ebook-activity-guide/'; break; // WAF Activity Guide\n",
    "            case 'b', 0, 1: longUrl += 'storyboarding-your-book-guide/'; break; // Book Making Guide\n",
    "            case 'e', 0, 1: longUrl += 'emails/'; break; // Emails (NO LANDING PAGE EXISTS)\n",
    "            case 'f', 0, 1: longUrl += 'we-are-fungi-ebook/'; break; //WAF ebook\n",
    "            case 'i', 0, 1: longUrl += 'influence-map/'; break; // Influence Map\n",
    "            case 'k', 0, 1: longUrl += 'how-to-draw-more-than-ever-before-2/'; break // Influence Map Sketchbook\n",
    "            case 'm', 0, 1: longUrl += 'mightcoulddrawtoday/'; break; // MCDT\n",
    "            case 's', 0, 1: longUrl += 'sketchbook-to-style-boot-camp-waitlist/'; break; // StSBC WL\n",
    "            case 't', 0, 1: longUrl += 'tools-i-use-and-love/'; break; // Tools\n",
    "            case 'u', 0, 1: longUrl += 'studiomates-wl/'; break; // Studiomates WL (NO LANDING PAGE EXISTS)\n",
    "            case 'y', 0, 1: longUrl += 'style-mini-course/'; break; // Style Mini-course\n",
    "            case 'a', 1, 2: longUrl += 'FB%20Ad'; break; // FB Ad\n",
    "            case 'f', 1, 2: longUrl += 'Facebook'; break; // Facebook\n",
    "            case 'i', 1, 2: longUrl += 'Instgram'; break; // Instagram\n",
    "            case 'm', 1, 2: longUrl += 'Medium'; break; // Medium\n",
    "            case 'n', 1, 2: longUrl += 'Manual'; break; // Manual\n",
    "            case 'p', 1, 2: longUrl += 'MCS%20Page'; break; // MCS Page\n",
    "            case 'r', 1, 2: longUrl += 'WAF%20Book%20Reading'; break; //WAF Book Reading\n",
    "            case 's', 1, 2: longUrl += 'Skillshare'; break; // Skillshare\n",
    "            case 't', 1, 2: longUrl += 'Twitter'; break; // Twitter\n",
    "\"\"\""
   ]
  },
  {
   "cell_type": "code",
   "execution_count": null,
   "metadata": {
    "ExecuteTime": {
     "end_time": "2019-06-21T12:53:02.745960Z",
     "start_time": "2019-06-21T12:53:02.674708Z"
    },
    "hidden": true
   },
   "outputs": [],
   "source": [
    "print(a.replace('case ', '').replace(' ', '').replace(':longUrl+=',',').replace(';break;//',',\\'').replace('\\n','\\'],\\n ['))"
   ]
  },
  {
   "cell_type": "code",
   "execution_count": null,
   "metadata": {
    "ExecuteTime": {
     "end_time": "2019-06-24T17:32:36.311660Z",
     "start_time": "2019-06-24T17:32:36.252246Z"
    },
    "hidden": true
   },
   "outputs": [],
   "source": [
    "b = [\n",
    " ['a',0,0,'mightcouldstudios.lpages.co','WAF Activity Guide'],\n",
    " ['b',0,0,'mightcouldstudios.lpages.co','Book Making Guide'],\n",
    " ['e',0,0,'might-could.com','Emails'],\n",
    " ['f',0,0,'mightcouldstudios.lpages.co','WAF ebook'],\n",
    " ['i',0,0,'lp.mightcouldstudios.com','Influence Map'],\n",
    " ['k',0,0,'mightcouldstudios.lpages.co', 'Influence Map Sketchbook'],\n",
    " ['m',0,0,'lp.mightcouldstudios.com','MCDT'],\n",
    " ['s',0,0,'mightcouldstudios.lpages.co','StSBC WL'],\n",
    " ['t',0,0,'mightcouldstudios.lpages.co','Tools'],\n",
    " ['u',0,0,'might-could.com','Studiomates WL '],\n",
    " ['y',0,0,'lp.mightcouldstudios.com','Style Mini-course'],\n",
    " ['a',0,1,'we-are-fungi-ebook-activity-guide','WAF Activity Guide'],\n",
    " ['b',0,1,'storyboarding-your-book-guide','Book Making Guide'],\n",
    " ['e',0,1,'emails','Emails'],\n",
    " ['f',0,1,'we-are-fungi-ebook','WAF ebook'],\n",
    " ['i',0,1,'influence-map','Influence Map'],\n",
    " ['k',0,1,'how-to-draw-more-than-ever-before-2', 'Influence Map Sketchbook'],\n",
    " ['m',0,1,'mightcoulddrawtoday','MCDT'],\n",
    " ['s',0,1,'sketchbook-to-style-boot-camp-waitlist','StSBC WL'],\n",
    " ['t',0,1,'tools-i-use-and-love','Tools'],\n",
    " ['u',0,1,'studiomates-wl','Studiomates WL'],\n",
    " ['y',0,1,'style-mini-course','Style Mini-course'],\n",
    " ['a',1,2,'FB%20Ad','FB Ad'],\n",
    " ['f',1,2,'Facebook','Facebook'],\n",
    " ['i',1,2,'Instgram','Instagram'],\n",
    " ['m',1,2,'Medium','Medium'],\n",
    " ['n',1,2,'Manual','Manual'],\n",
    " ['p',1,2,'MCS%20Page','MCS Page'],\n",
    " ['r',1,2,'WAF%20Book%20Reading','WAF Book Reading'],\n",
    " ['s',1,2,'Skillshare','Skillshare'],\n",
    " ['t',1,2,'Twitter','Twitter']]"
   ]
  },
  {
   "cell_type": "code",
   "execution_count": null,
   "metadata": {
    "hidden": true
   },
   "outputs": [],
   "source": [
    "      `char_value` CHAR(1) NOT NULL,\n",
    "      `char_num` SMALLINT UNSIGNED NOT NULL,\n",
    "      `link_value_position` SMALLINT UNSIGNED NOT NULL,\n",
    "      `link_value` text,\n",
    "      `description` text,\n",
    "      PRIMARY KEY (`id`));\"\"\""
   ]
  },
  {
   "cell_type": "code",
   "execution_count": null,
   "metadata": {
    "ExecuteTime": {
     "end_time": "2019-06-24T17:32:37.994489Z",
     "start_time": "2019-06-24T17:32:37.930980Z"
    },
    "hidden": true
   },
   "outputs": [],
   "source": [
    "cursor.executemany('INSERT INTO links (`char_value`, `char_num`, `link_value_position`, `link_value`, `description`) VALUES (%s, %s, %s, %s, %s)', b)"
   ]
  },
  {
   "cell_type": "code",
   "execution_count": null,
   "metadata": {
    "ExecuteTime": {
     "end_time": "2019-06-24T17:33:22.716586Z",
     "start_time": "2019-06-24T17:33:22.663962Z"
    },
    "hidden": true
   },
   "outputs": [],
   "source": [
    "conn.commit()"
   ]
  },
  {
   "cell_type": "code",
   "execution_count": null,
   "metadata": {
    "ExecuteTime": {
     "end_time": "2019-06-24T18:26:19.610275Z",
     "start_time": "2019-06-24T18:26:19.552924Z"
    },
    "hidden": true
   },
   "outputs": [],
   "source": [
    "cursor.execute('SELECT * FROM links'); cursor.fetchall()"
   ]
  },
  {
   "cell_type": "code",
   "execution_count": null,
   "metadata": {
    "ExecuteTime": {
     "end_time": "2019-06-24T17:32:51.365578Z",
     "start_time": "2019-06-24T17:32:51.298741Z"
    },
    "hidden": true
   },
   "outputs": [],
   "source": [
    "# cursor.quick_info('link_shortener')\n",
    "cursor.quick_info('links')"
   ]
  },
  {
   "cell_type": "code",
   "execution_count": null,
   "metadata": {
    "ExecuteTime": {
     "end_time": "2019-06-24T17:22:03.686301Z",
     "start_time": "2019-06-24T17:22:03.264963Z"
    },
    "hidden": true
   },
   "outputs": [],
   "source": [
    "cursor.execute('SELECT * FROM link_shortener')"
   ]
  },
  {
   "cell_type": "markdown",
   "metadata": {
    "heading_collapsed": true,
    "hidden": true
   },
   "source": [
    "#### DynamoDB"
   ]
  },
  {
   "cell_type": "code",
   "execution_count": null,
   "metadata": {
    "ExecuteTime": {
     "end_time": "2019-06-23T13:14:00.444558Z",
     "start_time": "2019-06-23T13:14:00.129756Z"
    },
    "hidden": true
   },
   "outputs": [],
   "source": [
    "import boto3 \n",
    "from boto3 import dynamodb \n",
    "from boto3.session import Session\n",
    "from boto3.dynamodb.conditions import Key, Attr\n",
    "dynamodb_session = Session(aws_access_key_id='',\n",
    "          aws_secret_access_key='',\n",
    "          region_name='us-east-1')\n",
    "dynamodb = dynamodb_session.resource('dynamodb')\n",
    "table=dynamodb.Table('link_extender')\n"
   ]
  },
  {
   "cell_type": "code",
   "execution_count": null,
   "metadata": {
    "ExecuteTime": {
     "end_time": "2019-06-23T13:14:00.880455Z",
     "start_time": "2019-06-23T13:14:00.750992Z"
    },
    "hidden": true
   },
   "outputs": [],
   "source": [
    "table.get_item(TableName='link_extender', Key={'id':'0'})"
   ]
  },
  {
   "cell_type": "code",
   "execution_count": null,
   "metadata": {
    "ExecuteTime": {
     "end_time": "2019-06-23T02:34:20.027805Z",
     "start_time": "2019-06-23T02:34:19.958371Z"
    },
    "hidden": true
   },
   "outputs": [],
   "source": [
    "cursor.execute('SELECT * FROM link_shortener'); mysql_data = cursor.fetchall(); mysql_data\n",
    "del mysql_data[3]\n",
    "del mysql_data[0]\n",
    "mysql_data[0]"
   ]
  },
  {
   "cell_type": "code",
   "execution_count": null,
   "metadata": {
    "ExecuteTime": {
     "end_time": "2019-06-23T02:34:24.017321Z",
     "start_time": "2019-06-23T02:34:23.035119Z"
    },
    "hidden": true
   },
   "outputs": [],
   "source": [
    "for i, datum in enumerate(mysql_data):\n",
    "    datum['char_value'] = datum['id']\n",
    "    datum['link_value'] = datum['value']\n",
    "    datum['link_value_position'] = int(datum['value_position'])\n",
    "    datum['id'] = str(i+2)\n",
    "    del datum['value']; del datum['value_position']\n",
    "    table.put_item(TableName='link_extender', Item=datum)"
   ]
  },
  {
   "cell_type": "code",
   "execution_count": null,
   "metadata": {
    "ExecuteTime": {
     "end_time": "2019-06-23T02:27:31.623378Z",
     "start_time": "2019-06-23T02:27:31.560183Z"
    },
    "hidden": true
   },
   "outputs": [],
   "source": [
    "#  ['b',0,0,'mightcouldstudios.lpages.co','Book Making Guide'],\n",
    "table.put_item(TableName='link_extender', \n",
    "               Item={'id': '1', \n",
    "                     'char_value':'b',\n",
    "                     'char_num': 0,\n",
    "                     'link_value_position': 0,\n",
    "                     'link_value': 'mightcouldstudios.lpages.co',\n",
    "                     'description': 'Book Making Guide'\n",
    "                    }\n",
    "                    \n",
    "              )"
   ]
  },
  {
   "cell_type": "code",
   "execution_count": null,
   "metadata": {
    "ExecuteTime": {
     "end_time": "2019-06-23T02:34:57.064974Z",
     "start_time": "2019-06-23T02:34:57.007906Z"
    },
    "hidden": true
   },
   "outputs": [],
   "source": [
    "table.scan()['Items']"
   ]
  },
  {
   "cell_type": "markdown",
   "metadata": {
    "heading_collapsed": true
   },
   "source": [
    "## Create Map"
   ]
  },
  {
   "cell_type": "markdown",
   "metadata": {
    "hidden": true
   },
   "source": [
    "Get the 10k existing subscribers"
   ]
  },
  {
   "cell_type": "code",
   "execution_count": null,
   "metadata": {
    "ExecuteTime": {
     "end_time": "2019-05-24T15:44:32.235660Z",
     "start_time": "2019-05-24T15:44:32.014589Z"
    },
    "hidden": true
   },
   "outputs": [],
   "source": [
    "sql_stmt = 'SELECT id,loc_lat,loc_lng FROM subscriber_data WHERE loc_lat IS NOT NULL AND loc_lng IS NOT NULL'\n",
    "cursor.execute(sql_stmt)\n",
    "data = cursor.fetchall(); len(data), data[0]"
   ]
  },
  {
   "cell_type": "code",
   "execution_count": null,
   "metadata": {
    "ExecuteTime": {
     "end_time": "2019-05-24T15:44:33.251531Z",
     "start_time": "2019-05-24T15:44:33.210953Z"
    },
    "hidden": true
   },
   "outputs": [],
   "source": [
    "data_string = ['[' + str(d['loc_lat']) + ', ' + str(d['loc_lng']) + ', ' + str(d['id']) + '],\\n' for d in data]\n",
    "data_string[-1] = data_string[-1].replace(',\\n', '\\n')"
   ]
  },
  {
   "cell_type": "code",
   "execution_count": null,
   "metadata": {
    "ExecuteTime": {
     "end_time": "2019-05-24T15:46:06.052240Z",
     "start_time": "2019-05-24T15:46:06.021568Z"
    },
    "hidden": true
   },
   "outputs": [],
   "source": [
    "with open('subscriber_locations.js', 'w') as f:\n",
    "    f.write('//All subscriber locations gathered before 5/24/19 11:46 ET.\\n')\n",
    "    f.write('//There are 11540 points. Method is in ConvertKit Manipulation jupyter notebook\\n')\n",
    "    f.write('var subscriber_locations = [\\n')\n",
    "    f.writelines(data_string)\n",
    "    f.write('];')"
   ]
  },
  {
   "cell_type": "markdown",
   "metadata": {
    "hidden": true
   },
   "source": [
    "Other"
   ]
  },
  {
   "cell_type": "code",
   "execution_count": null,
   "metadata": {
    "ExecuteTime": {
     "end_time": "2019-05-22T20:40:53.357209Z",
     "start_time": "2019-05-22T20:40:53.274079Z"
    },
    "hidden": true
   },
   "outputs": [],
   "source": [
    "#SELECT CAST(orders.date_purchased AS DATE) AS DATE_PURCHASED\n",
    "try:\n",
    "    cursor.execute('SELECT STR_TO_DATE(created_at, \"%Y-%m-%dT%H:%i:%s\") AS d FROM subscriber_data HAVING d >= NOW() - INTERVAL 2 HOUR ORDER BY d DESC'); \n",
    "    data = cursor.fetchall()\n",
    "except Exception as e:\n",
    "    raise e\n",
    "data"
   ]
  },
  {
   "cell_type": "markdown",
   "metadata": {
    "heading_collapsed": true
   },
   "source": [
    "## Purchases"
   ]
  },
  {
   "cell_type": "code",
   "execution_count": null,
   "metadata": {
    "ExecuteTime": {
     "end_time": "2019-08-01T20:59:53.059478Z",
     "start_time": "2019-08-01T20:59:52.662503Z"
    },
    "hidden": true
   },
   "outputs": [],
   "source": [
    "cursor.quick_info('purchase_data')\n",
    "# cursor.quick_info('purchase_data', subscriber_id=447243341)\n",
    "# cursor.e('DESCRIBE purchase_data')"
   ]
  },
  {
   "cell_type": "markdown",
   "metadata": {
    "heading_collapsed": true,
    "hidden": true
   },
   "source": [
    "#### Modify the table"
   ]
  },
  {
   "cell_type": "code",
   "execution_count": null,
   "metadata": {
    "ExecuteTime": {
     "end_time": "2019-08-01T17:22:42.648242Z",
     "start_time": "2019-08-01T17:22:42.045059Z"
    },
    "hidden": true
   },
   "outputs": [],
   "source": [
    "# cursor.execute('ALTER TABLE purchase_data CHANGE purchase_id purchaser_id text;')\n",
    "# cursor.execute('ALTER TABLE purchase_data CHANGE purchase_email_address purchaser_email_address VARCHAR(100);')\n",
    "# cursor.execute('ALTER TABLE purchase_data ADD COLUMN purchaser_id TEXT AFTER subscriber_email_address;')\n",
    "# cursor.execute('UPDATE purchase_data SET subscriber_email_address = purchaser_email_address')"
   ]
  },
  {
   "cell_type": "markdown",
   "metadata": {
    "heading_collapsed": true,
    "hidden": true
   },
   "source": [
    "### Misc Additions"
   ]
  },
  {
   "cell_type": "code",
   "execution_count": null,
   "metadata": {
    "ExecuteTime": {
     "end_time": "2019-06-03T16:19:27.086384Z",
     "start_time": "2019-06-03T16:19:27.017370Z"
    },
    "hidden": true
   },
   "outputs": [],
   "source": [
    "new_pur = [\n",
    "    [304637290, 'colette.levesque@gmail.com', 'Sketchbook to Style', '2019-05-12', 'Evergreen_2', 297],\n",
    "    [464254353, 'diamond.quartz97@gmail.com', 'Sketchbook to Style', '2019-05-15', 'Evergreen_2', 297],\n",
    "    [461785863, 'lmhkanazawa@gmail.com', 'Sketchbook to Style', '2019-05-16', 'Evergreen_2', 297],\n",
    "    [471651008, 'iris-stam@hotmail.com', 'Sketchbook to Style', '2019-05-22', 'Evergreen_2', 297],\n",
    "    [477841123, 'erika.norris@gmail.com', 'Sketchbook to Style', '2019-05-26', 'Evergreen_2', 297]\n",
    "]; new_pur"
   ]
  },
  {
   "cell_type": "code",
   "execution_count": null,
   "metadata": {
    "ExecuteTime": {
     "end_time": "2019-06-03T16:19:30.740405Z",
     "start_time": "2019-06-03T16:19:30.645640Z"
    },
    "hidden": true
   },
   "outputs": [],
   "source": [
    "# ['subscriber_id', 'email_address', 'item', 'purchase_date', 'launch', 'purchase_value']\n",
    "sql_stmt = \"\"\"INSERT INTO purchase_data\n",
    "(subscriber_id, email_address, item, purchase_date, launch, purchase_value)\n",
    "VALUES (%s, %s, %s, %s, %s, %s)\n",
    "\"\"\"; print(sql_stmt)\n",
    "\n",
    "# sql_stmt = 'SELECT * FROM purchase_data'\n",
    "cursor.executemany(sql_stmt, new_pur); cursor.fetchall()[-10:]"
   ]
  },
  {
   "cell_type": "code",
   "execution_count": null,
   "metadata": {
    "ExecuteTime": {
     "end_time": "2019-06-03T16:19:33.201822Z",
     "start_time": "2019-06-03T16:19:33.103747Z"
    },
    "hidden": true
   },
   "outputs": [],
   "source": [
    "sql_stmt = 'SELECT * FROM purchase_data'\n",
    "cursor.execute(sql_stmt); cursor.fetchall()[-10:]"
   ]
  },
  {
   "cell_type": "code",
   "execution_count": null,
   "metadata": {
    "ExecuteTime": {
     "end_time": "2019-06-03T16:19:42.465032Z",
     "start_time": "2019-06-03T16:19:42.374525Z"
    },
    "hidden": true
   },
   "outputs": [],
   "source": [
    "conn.commit()"
   ]
  },
  {
   "cell_type": "markdown",
   "metadata": {
    "heading_collapsed": true,
    "hidden": true
   },
   "source": [
    "### Fix double entries (in subscriber data)"
   ]
  },
  {
   "cell_type": "code",
   "execution_count": null,
   "metadata": {
    "ExecuteTime": {
     "end_time": "2019-06-03T18:35:29.691520Z",
     "start_time": "2019-06-03T18:35:29.545978Z"
    },
    "hidden": true
   },
   "outputs": [],
   "source": [
    "# Find double entries\n",
    "cursor.execute('SELECT id, state, email_address FROM subscriber_data GROUP BY email_address HAVING COUNT(*) > 1')\n",
    "duplicates = cursor.fetchall(); len(duplicates), duplicates[:3]"
   ]
  },
  {
   "cell_type": "code",
   "execution_count": null,
   "metadata": {
    "ExecuteTime": {
     "end_time": "2019-06-03T18:35:53.565557Z",
     "start_time": "2019-06-03T18:35:53.541198Z"
    },
    "hidden": true
   },
   "outputs": [],
   "source": [
    "# See if any that will be removed have better info than the remaining items\n",
    "    # Get the pairs\n",
    "sub_ids_to_fix=[]\n",
    "for duplicate in duplicates:\n",
    "    dup_subs = [s for s in subscribers if s['email_address'] == duplicate['email_address']]\n",
    "    if dup_subs[0]['loc_lat'] is not None and dup_subs[1]['loc_lat'] is None:\n",
    "        sub_ids_to_fix.append(dup_subs[1]['id'])\n",
    "sub_ids_to_fix"
   ]
  },
  {
   "cell_type": "code",
   "execution_count": null,
   "metadata": {
    "ExecuteTime": {
     "end_time": "2019-06-03T18:31:11.435622Z",
     "start_time": "2019-06-03T18:31:08.789760Z"
    },
    "hidden": true
   },
   "outputs": [],
   "source": [
    "# update_single_subscriber(470921734, conn)"
   ]
  },
  {
   "cell_type": "code",
   "execution_count": null,
   "metadata": {
    "hidden": true
   },
   "outputs": [],
   "source": [
    "# Remove the other duplicates"
   ]
  },
  {
   "cell_type": "code",
   "execution_count": null,
   "metadata": {
    "ExecuteTime": {
     "end_time": "2019-06-03T18:35:59.793065Z",
     "start_time": "2019-06-03T18:35:59.760807Z"
    },
    "hidden": true
   },
   "outputs": [],
   "source": [
    "sub_ids_to_delete = [d['id'] for d in duplicates]; len(sub_ids_to_delete), max(sub_ids_to_delete)"
   ]
  },
  {
   "cell_type": "code",
   "execution_count": null,
   "metadata": {
    "ExecuteTime": {
     "end_time": "2019-06-03T18:36:01.958115Z",
     "start_time": "2019-06-03T18:36:01.932839Z"
    },
    "hidden": true
   },
   "outputs": [],
   "source": [
    "# Check for purchases that need to be updated\n",
    "[p for p in purchases if p['subscriber_id'] in sub_ids_to_delete]"
   ]
  },
  {
   "cell_type": "code",
   "execution_count": null,
   "metadata": {
    "ExecuteTime": {
     "end_time": "2019-06-03T18:36:07.213338Z",
     "start_time": "2019-06-03T18:36:03.867959Z"
    },
    "hidden": true
   },
   "outputs": [],
   "source": [
    "cursor.executemany('DELETE FROM subscriber_data WHERE id = %s', sub_ids_to_delete)"
   ]
  },
  {
   "cell_type": "code",
   "execution_count": null,
   "metadata": {
    "ExecuteTime": {
     "end_time": "2019-06-03T18:36:09.011890Z",
     "start_time": "2019-06-03T18:36:08.962161Z"
    },
    "hidden": true
   },
   "outputs": [],
   "source": [
    "conn.commit()"
   ]
  },
  {
   "cell_type": "markdown",
   "metadata": {
    "heading_collapsed": true,
    "hidden": true
   },
   "source": [
    "### Fixes"
   ]
  },
  {
   "cell_type": "markdown",
   "metadata": {
    "heading_collapsed": true,
    "hidden": true
   },
   "source": [
    "#### Add subscriber_email_where possible"
   ]
  },
  {
   "cell_type": "code",
   "execution_count": null,
   "metadata": {
    "hidden": true
   },
   "outputs": [],
   "source": [
    "# Update other_email_address in CK and then run these commands"
   ]
  },
  {
   "cell_type": "code",
   "execution_count": null,
   "metadata": {
    "ExecuteTime": {
     "end_time": "2019-08-02T00:23:37.375967Z",
     "start_time": "2019-08-02T00:23:36.891788Z"
    },
    "hidden": true
   },
   "outputs": [],
   "source": [
    "cursor.e('UPDATE purchase_data SET subscriber_id=433564154, subscriber_email_address=\"meline.co@gmail.com\" WHERE purchaser_email_address=\"emeline.courcelle@gmail.com\"')\n"
   ]
  },
  {
   "cell_type": "code",
   "execution_count": null,
   "metadata": {
    "ExecuteTime": {
     "end_time": "2019-08-02T00:27:21.739084Z",
     "start_time": "2019-08-02T00:27:21.089551Z"
    },
    "hidden": true
   },
   "outputs": [],
   "source": [
    "update_ck_sub_with_misc(sub_id=536414538, other_email_address=\"meline.co@gmail.com\")"
   ]
  },
  {
   "cell_type": "code",
   "execution_count": null,
   "metadata": {
    "ExecuteTime": {
     "end_time": "2019-08-02T00:20:22.960868Z",
     "start_time": "2019-08-02T00:20:22.498954Z"
    },
    "hidden": true
   },
   "outputs": [],
   "source": [
    "# purchases = cursor.e('SELECT * FROM purchase_data WHERE launch=\"Launch_6\"')\n",
    "sql_stmt = 'SELECT purchaser_id, purchaser_email_address FROM purchase_data WHERE subscriber_email_address IS NULL'\n",
    "purchasers_with_no_sub = [n for n in cursor.e(sql_stmt)]\n",
    "len(purchasers_with_no_sub), purchasers_with_no_sub"
   ]
  },
  {
   "cell_type": "code",
   "execution_count": null,
   "metadata": {
    "ExecuteTime": {
     "end_time": "2019-08-02T00:24:08.249001Z",
     "start_time": "2019-08-02T00:24:07.511458Z"
    },
    "hidden": true
   },
   "outputs": [],
   "source": [
    "# Update the RDS if needed with CK Other email addresses\n",
    "# for n in purchasers_with_no_sub: \n",
    "update_subscriber_in_rds(433564154, conn) "
   ]
  },
  {
   "cell_type": "code",
   "execution_count": null,
   "metadata": {
    "ExecuteTime": {
     "end_time": "2019-08-01T20:48:18.572147Z",
     "start_time": "2019-08-01T20:48:18.123454Z"
    },
    "hidden": true
   },
   "outputs": [],
   "source": [
    "# Gather the data for the update in purchase data (sub_id, sub_email, pur_email)\n",
    "sql_stmt = f\"\"\"\\\n",
    "SELECT id, other_email_address, email_address\n",
    "FROM subscriber_data \n",
    "WHERE id IN {mysql_array(no_subs)} \n",
    "    AND other_email_address IS NOT NULL\n",
    "\"\"\"\n",
    "updateables = cursor.e(sql_stmt)\n",
    "len(updateables), updateables[0]"
   ]
  },
  {
   "cell_type": "code",
   "execution_count": null,
   "metadata": {
    "ExecuteTime": {
     "end_time": "2019-08-01T20:48:24.900062Z",
     "start_time": "2019-08-01T20:48:24.392379Z"
    },
    "hidden": true
   },
   "outputs": [],
   "source": [
    "sql_stmt='UPDATE purchase_data SET subscriber_id=%s, subscriber_email_address=%s WHERE purchaser_email_address=%s'\n",
    "values = [[v for k,v in s.items()] for s in updateables]\n",
    "cursor.e(sql_stmt, values=values, many=True)"
   ]
  },
  {
   "cell_type": "code",
   "execution_count": null,
   "metadata": {
    "ExecuteTime": {
     "end_time": "2019-08-01T20:19:41.181001Z",
     "start_time": "2019-08-01T20:19:40.757940Z"
    },
    "hidden": true
   },
   "outputs": [],
   "source": [
    "# Update RDS with data from CK for \"other_email_address\"\n",
    "# update_subscriber_in_rds(531681162, conn)\n",
    "# get_single_subscriber(email_address=\"dalefarwalker@gmail.com\")"
   ]
  },
  {
   "cell_type": "code",
   "execution_count": null,
   "metadata": {
    "ExecuteTime": {
     "end_time": "2019-08-01T19:28:31.738578Z",
     "start_time": "2019-08-01T19:28:31.683467Z"
    },
    "hidden": true
   },
   "outputs": [],
   "source": [
    "logging.getLogger().setLevel(logging.INFO)"
   ]
  },
  {
   "cell_type": "markdown",
   "metadata": {
    "heading_collapsed": true,
    "hidden": true
   },
   "source": [
    "#### Update purchasers with correct launch"
   ]
  },
  {
   "cell_type": "code",
   "execution_count": null,
   "metadata": {
    "ExecuteTime": {
     "end_time": "2019-08-01T17:24:05.014470Z",
     "start_time": "2019-08-01T17:24:04.778517Z"
    },
    "hidden": true
   },
   "outputs": [],
   "source": [
    "dt = lambda ds: datetime.strptime(ds, '%Y-%m-%d')\n",
    "recent = lambda x: x['purchase_date'] and dt(x['purchase_date']) > datetime.now()-timedelta(days=30)\n",
    "\n",
    "purchases = cursor.e('SELECT * FROM purchase_data')\n",
    "recent_purchases = [p for p in purchases if recent(p)]; len(recent_purchases), recent_purchases[:2]"
   ]
  },
  {
   "cell_type": "code",
   "execution_count": null,
   "metadata": {
    "ExecuteTime": {
     "end_time": "2019-08-01T15:24:28.281365Z",
     "start_time": "2019-08-01T15:24:28.132292Z"
    },
    "hidden": true
   },
   "outputs": [],
   "source": [
    "# Trim purchases\n",
    "recent_purchases = [p for p in recent_purchases if p['purchase_email_address'] not in ['joanne.carlos2@gmail.com', 'a.molihan@comcast.net', 'pbrosebud@ptd.net']]\n",
    "recent_purchases"
   ]
  },
  {
   "cell_type": "code",
   "execution_count": null,
   "metadata": {
    "ExecuteTime": {
     "end_time": "2019-08-01T15:07:46.507055Z",
     "start_time": "2019-08-01T15:07:46.339758Z"
    },
    "hidden": true
   },
   "outputs": [],
   "source": [
    "cursor.e('SELECT DISTINCT launch FROM purchase_data') # See list of launches (to match style)"
   ]
  },
  {
   "cell_type": "code",
   "execution_count": null,
   "metadata": {
    "ExecuteTime": {
     "end_time": "2019-08-01T15:05:50.567863Z",
     "start_time": "2019-08-01T15:05:49.397249Z"
    },
    "hidden": true
   },
   "outputs": [],
   "source": [
    "cursor.executemany('UPDATE purchase_data SET launch=\"Launch_6\" WHERE purchase_email_address=%s', [p['purchase_email_address'] for p in recent_purchases])"
   ]
  },
  {
   "cell_type": "code",
   "execution_count": null,
   "metadata": {
    "ExecuteTime": {
     "end_time": "2019-08-01T15:06:35.137751Z",
     "start_time": "2019-08-01T15:06:34.997195Z"
    },
    "hidden": true
   },
   "outputs": [],
   "source": [
    "conn.commit()"
   ]
  },
  {
   "cell_type": "code",
   "execution_count": null,
   "metadata": {
    "ExecuteTime": {
     "end_time": "2019-08-01T15:08:42.771069Z",
     "start_time": "2019-08-01T15:08:42.631379Z"
    },
    "hidden": true
   },
   "outputs": [],
   "source": [
    "len(cursor.e('SELECT * FROM purchase_data WHERE launch=\"Launch_6\"'))"
   ]
  },
  {
   "cell_type": "markdown",
   "metadata": {
    "heading_collapsed": true,
    "hidden": true
   },
   "source": [
    "#### Refunds"
   ]
  },
  {
   "cell_type": "code",
   "execution_count": null,
   "metadata": {
    "hidden": true
   },
   "outputs": [],
   "source": [
    "# cursor.e('SELECT * FROM purchase_data WHERE refund = 1')"
   ]
  },
  {
   "cell_type": "code",
   "execution_count": null,
   "metadata": {
    "hidden": true
   },
   "outputs": [],
   "source": [
    "# cursor.e('UPDATE purchase_data SET refund=1 WHERE purchaser_email_address=\"rotxro@gmail.com\"')"
   ]
  },
  {
   "cell_type": "markdown",
   "metadata": {
    "heading_collapsed": true,
    "hidden": true
   },
   "source": [
    "#### Other"
   ]
  },
  {
   "cell_type": "code",
   "execution_count": null,
   "metadata": {
    "ExecuteTime": {
     "end_time": "2019-08-01T20:51:18.482651Z",
     "start_time": "2019-08-01T20:51:18.115893Z"
    },
    "hidden": true
   },
   "outputs": [],
   "source": [
    "cursor.e('DELETE FROM purchase_data WHERE purchaser_email_address = \"andreemorgan9@mail.com\"')"
   ]
  },
  {
   "cell_type": "code",
   "execution_count": null,
   "metadata": {
    "ExecuteTime": {
     "end_time": "2019-08-01T20:51:23.800660Z",
     "start_time": "2019-08-01T20:51:23.438707Z"
    },
    "hidden": true
   },
   "outputs": [],
   "source": [
    "conn.commit()"
   ]
  },
  {
   "cell_type": "markdown",
   "metadata": {
    "heading_collapsed": true,
    "hidden": true
   },
   "source": [
    "### Validation"
   ]
  },
  {
   "cell_type": "code",
   "execution_count": null,
   "metadata": {
    "ExecuteTime": {
     "end_time": "2019-08-01T20:59:24.282171Z",
     "start_time": "2019-08-01T20:59:23.931176Z"
    },
    "hidden": true
   },
   "outputs": [],
   "source": [
    "# cursor.e('SELECT * FROM purchase_data WHERE purchaser_email_address LIKE \"dnishiyama%\"')\n",
    "# cursor.e('SELECT * FROM purchase_data WHERE launch = \"Evergreen_2\"')\n",
    "# cursor.e('SELECT * FROM purchase_data WHERE launch = \"Launch_6\"')\n",
    "cursor.e('SELECT * FROM purchase_data WHERE refund = 1')"
   ]
  },
  {
   "cell_type": "code",
   "execution_count": null,
   "metadata": {
    "ExecuteTime": {
     "end_time": "2019-08-01T20:58:54.503583Z",
     "start_time": "2019-08-01T20:58:54.063548Z"
    },
    "hidden": true
   },
   "outputs": [],
   "source": []
  },
  {
   "cell_type": "code",
   "execution_count": null,
   "metadata": {
    "ExecuteTime": {
     "end_time": "2019-08-01T20:58:55.904818Z",
     "start_time": "2019-08-01T20:58:55.457157Z"
    },
    "hidden": true
   },
   "outputs": [],
   "source": [
    "conn.commit()"
   ]
  },
  {
   "cell_type": "markdown",
   "metadata": {
    "heading_collapsed": true
   },
   "source": [
    "## Launches"
   ]
  },
  {
   "cell_type": "code",
   "execution_count": null,
   "metadata": {
    "ExecuteTime": {
     "end_time": "2019-08-01T15:26:29.456078Z",
     "start_time": "2019-08-01T15:26:29.277247Z"
    },
    "hidden": true
   },
   "outputs": [],
   "source": [
    "cursor.e('SELECT * FROM launch_info')"
   ]
  },
  {
   "cell_type": "markdown",
   "metadata": {
    "heading_collapsed": true,
    "hidden": true
   },
   "source": [
    "### Create the tables"
   ]
  },
  {
   "cell_type": "code",
   "execution_count": null,
   "metadata": {
    "ExecuteTime": {
     "end_time": "2019-06-03T19:55:24.787002Z",
     "start_time": "2019-06-03T19:55:24.700673Z"
    },
    "hidden": true
   },
   "outputs": [],
   "source": [
    "# Create the table with info on launches\n",
    "cursor.execute(\"\"\"\n",
    "    CREATE TABLE `launch_info` (\n",
    "      `launch` varchar(20) NOT NULL,\n",
    "      `start` text NOT NULL,\n",
    "      `duration` int,\n",
    "      PRIMARY KEY (`launch`));\"\"\"\n",
    "    )"
   ]
  },
  {
   "cell_type": "code",
   "execution_count": null,
   "metadata": {
    "ExecuteTime": {
     "end_time": "2019-06-03T19:47:31.744454Z",
     "start_time": "2019-06-03T19:47:31.670051Z"
    },
    "hidden": true
   },
   "outputs": [],
   "source": [
    "# Create the table with the data on launches (subscribers)\n",
    "cursor.execute(\"\"\"\n",
    "    CREATE TABLE `launch_data` (\n",
    "      `id` int UNSIGNED NOT NULL,\n",
    "      `launch` varchar(20) NOT NULL,\n",
    "      PRIMARY KEY (`id`, `launch`));\"\"\"\n",
    "    )"
   ]
  },
  {
   "cell_type": "code",
   "execution_count": null,
   "metadata": {
    "ExecuteTime": {
     "end_time": "2019-06-03T20:07:18.662690Z",
     "start_time": "2019-06-03T20:07:18.614196Z"
    },
    "hidden": true
   },
   "outputs": [],
   "source": [
    "cursor.execute('SELECT * FROM launch_info'); cursor.fetchall()#; cursor.description"
   ]
  },
  {
   "cell_type": "code",
   "execution_count": null,
   "metadata": {
    "ExecuteTime": {
     "end_time": "2019-06-03T19:55:31.078568Z",
     "start_time": "2019-06-03T19:55:31.024387Z"
    },
    "hidden": true
   },
   "outputs": [],
   "source": [
    "cursor.execute('SHOW TABLES;'); cursor.fetchall()"
   ]
  },
  {
   "cell_type": "markdown",
   "metadata": {
    "heading_collapsed": true,
    "hidden": true
   },
   "source": [
    "### Add info table data"
   ]
  },
  {
   "cell_type": "code",
   "execution_count": null,
   "metadata": {
    "ExecuteTime": {
     "end_time": "2019-06-03T20:07:08.381969Z",
     "start_time": "2019-06-03T20:07:08.333194Z"
    },
    "hidden": true
   },
   "outputs": [],
   "source": [
    "launch_data = [['Launch_1', '2017-04-18', 8],\n",
    "              ['Launch_2', '2017-07-08', 11],\n",
    "              ['Launch_3', '2017-11-07', 20],\n",
    "              ['Launch_4', '2018-05-06', 9],\n",
    "              ['Launch_5', '2019-02-11', 8],\n",
    "              ['Evergreen_1', '2018-02-13', 82],\n",
    "              ['Evergreen_2', '2019-05-03', None]]\n",
    "sql_stmt = 'INSERT INTO launch_info (launch, start, duration) VALUES (%s, %s, %s)'\n",
    "cursor.executemany(sql_stmt, launch_data)"
   ]
  },
  {
   "cell_type": "code",
   "execution_count": null,
   "metadata": {
    "ExecuteTime": {
     "end_time": "2019-08-01T15:27:15.329460Z",
     "start_time": "2019-08-01T15:27:15.108621Z"
    },
    "hidden": true
   },
   "outputs": [],
   "source": [
    "# Launch 6\n",
    "cursor.e('INSERT INTO launch_info (launch, start, duration) VALUES (%s, %s, %s)', values=['Launch_6', '2019-07-17', 12])"
   ]
  },
  {
   "cell_type": "code",
   "execution_count": null,
   "metadata": {
    "ExecuteTime": {
     "end_time": "2019-08-01T15:26:35.606162Z",
     "start_time": "2019-08-01T15:26:35.433589Z"
    },
    "hidden": true
   },
   "outputs": [],
   "source": [
    "conn.commit()"
   ]
  },
  {
   "cell_type": "markdown",
   "metadata": {
    "heading_collapsed": true,
    "hidden": true
   },
   "source": [
    "### Add launch subscriber data"
   ]
  },
  {
   "cell_type": "code",
   "execution_count": null,
   "metadata": {
    "ExecuteTime": {
     "end_time": "2019-08-01T17:18:14.428099Z",
     "start_time": "2019-08-01T17:18:13.976195Z"
    },
    "hidden": true
   },
   "outputs": [],
   "source": [
    "cursor.quick_info('launch_data')"
   ]
  },
  {
   "cell_type": "markdown",
   "metadata": {
    "heading_collapsed": true,
    "hidden": true
   },
   "source": [
    "#### Launch 6"
   ]
  },
  {
   "cell_type": "code",
   "execution_count": null,
   "metadata": {
    "ExecuteTime": {
     "end_time": "2019-08-01T17:10:12.773114Z",
     "start_time": "2019-08-01T17:08:56.480130Z"
    },
    "hidden": true
   },
   "outputs": [],
   "source": [
    "### Logic for if someone witnessed a launch (Use the tag)\n",
    "launch_6_subs = get_api_data(CK_Api.TAGS, 1002191)"
   ]
  },
  {
   "cell_type": "code",
   "execution_count": null,
   "metadata": {
    "ExecuteTime": {
     "end_time": "2019-08-01T17:12:25.925068Z",
     "start_time": "2019-08-01T17:12:25.710770Z"
    },
    "hidden": true
   },
   "outputs": [],
   "source": [
    "len(launch_6_subs), launch_6_subs[0]['subscriber']"
   ]
  },
  {
   "cell_type": "code",
   "execution_count": null,
   "metadata": {
    "ExecuteTime": {
     "end_time": "2019-08-01T17:17:39.642240Z",
     "start_time": "2019-08-01T17:17:39.469729Z"
    },
    "hidden": true
   },
   "outputs": [],
   "source": [
    "values = [[l['subscriber']['id'], \"Launch_6\"] for l in launch_6_subs]; len(values), values[:3]"
   ]
  },
  {
   "cell_type": "code",
   "execution_count": null,
   "metadata": {
    "ExecuteTime": {
     "end_time": "2019-08-01T17:18:08.567911Z",
     "start_time": "2019-08-01T17:18:08.261294Z"
    },
    "hidden": true
   },
   "outputs": [],
   "source": [
    "cursor.e('INSERT INTO launch_data (subscriber_id, launch) VALUES (%s, %s)', values=values, many=True)"
   ]
  },
  {
   "cell_type": "code",
   "execution_count": null,
   "metadata": {
    "ExecuteTime": {
     "end_time": "2019-08-01T17:18:10.362252Z",
     "start_time": "2019-08-01T17:18:10.170759Z"
    },
    "hidden": true
   },
   "outputs": [],
   "source": [
    "conn.commit()"
   ]
  },
  {
   "cell_type": "markdown",
   "metadata": {
    "heading_collapsed": true,
    "hidden": true
   },
   "source": [
    "#### Evergreen 2"
   ]
  },
  {
   "cell_type": "code",
   "execution_count": null,
   "metadata": {
    "ExecuteTime": {
     "end_time": "2019-08-01T17:15:37.588339Z",
     "start_time": "2019-08-01T17:15:37.188794Z"
    },
    "hidden": true
   },
   "outputs": [],
   "source": [
    "# Check EVG 2 (4148 subs in CK)\n",
    "len(cursor.e('SELECT * FROM launch_data l INNER JOIN subscriber_data s ON s.id=l.subscriber_id WHERE l.launch=\"Evergreen_2\" AND s.state=\"active\"'))"
   ]
  },
  {
   "cell_type": "code",
   "execution_count": null,
   "metadata": {
    "ExecuteTime": {
     "end_time": "2019-06-05T22:55:40.739646Z",
     "start_time": "2019-06-05T22:55:40.172260Z"
    },
    "hidden": true
   },
   "outputs": [],
   "source": [
    "# Get all Evergreen_2\n",
    "cursor.execute('SELECT * FROM subscriber_data'); ck_data = {c['email_address']:c['id'] for c in cursor.fetchall()}\n",
    "df = pd.read_csv(\"/Users/nish/Downloads/2019-06-05-32281.csv\"); df.head(2)\n",
    "tag_emails = df['email'].tolist()\n",
    "# ck_inactive = [c.lower() for c in df[df['status']=='inactive']['email'].tolist()]; len(ck_inactive), ck_inactive[:3]"
   ]
  },
  {
   "cell_type": "code",
   "execution_count": null,
   "metadata": {
    "ExecuteTime": {
     "end_time": "2019-06-05T22:56:30.529949Z",
     "start_time": "2019-06-05T22:56:30.470671Z"
    },
    "hidden": true
   },
   "outputs": [],
   "source": [
    "values = [[ck_data[d], 'Evergreen_2'] for d in tag_emails]; values"
   ]
  },
  {
   "cell_type": "code",
   "execution_count": null,
   "metadata": {
    "ExecuteTime": {
     "end_time": "2019-06-05T22:56:33.368778Z",
     "start_time": "2019-06-05T22:56:33.186086Z"
    },
    "hidden": true
   },
   "outputs": [],
   "source": [
    "cursor.executemany('INSERT INTO launch_data (id, launch) VALUES (%s, %s)', values)"
   ]
  },
  {
   "cell_type": "code",
   "execution_count": null,
   "metadata": {
    "ExecuteTime": {
     "end_time": "2019-06-05T22:56:38.269082Z",
     "start_time": "2019-06-05T22:56:38.217899Z"
    },
    "hidden": true
   },
   "outputs": [],
   "source": [
    "conn.commit()"
   ]
  },
  {
   "cell_type": "markdown",
   "metadata": {
    "heading_collapsed": true,
    "hidden": true
   },
   "source": [
    "#### Other"
   ]
  },
  {
   "cell_type": "code",
   "execution_count": null,
   "metadata": {
    "ExecuteTime": {
     "end_time": "2019-06-05T14:03:50.344499Z",
     "start_time": "2019-06-05T14:01:34.720278Z"
    },
    "hidden": true
   },
   "outputs": [],
   "source": [
    "# Get the API dict too\n",
    "ck_api_data = get_all_sub_data(columns=[])\n",
    "ck_api_dict = {r[2]:r[3] for r in ck_api_data}"
   ]
  },
  {
   "cell_type": "code",
   "execution_count": null,
   "metadata": {
    "ExecuteTime": {
     "end_time": "2019-06-05T14:11:58.801695Z",
     "start_time": "2019-06-05T14:11:58.074719Z"
    },
    "hidden": true
   },
   "outputs": [],
   "source": [
    "# Get the email address from rds if their state doesn't match the csv's state\n",
    "df = pd.read_csv(\"/Users/nish/Downloads/2019-06-04-30452.csv\")\n",
    "ck_dict = {e[0]:e[1] for e in df[['email', 'status']].to_numpy()}; len(ck_dict)\n",
    "\n",
    "# Get RDS info\n",
    "sql_stmt = \"SELECT * FROM subscriber_data\"\n",
    "cursor.execute(sql_stmt); subscribers = cursor.fetchall(); len(subscribers)\n",
    "rds_subscribers = [[s['id'], s['email_address'], s['state']] for s in subscribers]; rds_subscribers[:3]\n",
    "\n",
    "# Find issues\n",
    "diff = [[*r, ck_dict[r[1]]] for r in rds_subscribers if r[1] in ck_dict and ck_dict[r[1]]!=r[2]]; diff\n",
    "# id, email, rds status, csv status"
   ]
  },
  {
   "cell_type": "code",
   "execution_count": null,
   "metadata": {
    "hidden": true
   },
   "outputs": [],
   "source": []
  },
  {
   "cell_type": "code",
   "execution_count": null,
   "metadata": {
    "ExecuteTime": {
     "end_time": "2019-06-04T22:14:27.235752Z",
     "start_time": "2019-06-04T22:14:26.948750Z"
    },
    "hidden": true
   },
   "outputs": [],
   "source": [
    "cursor.execute('SELECT * FROM subscriber_data WHERE state=\"inactive\"');\n",
    "rds_inactive = [c['email_address'].lower() for c in cursor.fetchall()]; len(rds_inactive), rds_inactive[:3]"
   ]
  },
  {
   "cell_type": "code",
   "execution_count": null,
   "metadata": {
    "ExecuteTime": {
     "end_time": "2019-06-04T22:21:34.480050Z",
     "start_time": "2019-06-04T22:21:34.407714Z"
    },
    "hidden": true
   },
   "outputs": [],
   "source": [
    "# cursor.quick_info(email_address=\"mitsukai424@yahoo.com\")\n",
    "# cursor.quick_info(id=460778252)\n",
    "# cursor.quick_info(state=\"inactive\")\n",
    "cursor.quick_info('purchase_data', subscriber_id=5197)\n",
    "# cursor.quick_info('launch_data')\n",
    "# cursor.quick_info('launch_data', launch=\"Launch_1\")"
   ]
  },
  {
   "cell_type": "code",
   "execution_count": null,
   "metadata": {
    "hidden": true
   },
   "outputs": [],
   "source": [
    "# See if any of the people labeled as \"inactive\" should actually be active\n",
    "# and then remove all their subscribe dates otherwise"
   ]
  },
  {
   "cell_type": "code",
   "execution_count": null,
   "metadata": {
    "ExecuteTime": {
     "end_time": "2019-06-04T20:03:11.971357Z",
     "start_time": "2019-06-04T20:03:11.921050Z"
    },
    "hidden": true
   },
   "outputs": [],
   "source": [
    "conn.commit()"
   ]
  },
  {
   "cell_type": "code",
   "execution_count": null,
   "metadata": {
    "ExecuteTime": {
     "end_time": "2019-06-04T20:19:47.918992Z",
     "start_time": "2019-06-04T20:19:47.795089Z"
    },
    "hidden": true
   },
   "outputs": [],
   "source": [
    "# cursor.execute('UPDATE subscriber_data SET subscribe_date=NULL WHERE state=\"inactive\"')"
   ]
  },
  {
   "cell_type": "markdown",
   "metadata": {
    "heading_collapsed": true,
    "hidden": true
   },
   "source": [
    "#### Misc issues"
   ]
  },
  {
   "cell_type": "code",
   "execution_count": null,
   "metadata": {
    "ExecuteTime": {
     "end_time": "2019-06-05T15:30:25.156381Z",
     "start_time": "2019-06-05T15:30:25.010223Z"
    },
    "hidden": true
   },
   "outputs": [],
   "source": [
    "# cursor.quick_info('purchase_data')\n",
    "# cursor.quick_info('launch_data') #, id='8103'\n",
    "# cursor.quick_info(email_address='@gmail.com')\n",
    "# cursor.quick_info('purchase_data', purchase_email_address='jenslutsky@comcast.net')\n",
    "# cursor.quick_info(id=7985)\n",
    "# cursor.execute(\"SELECT max(id) FROM subscriber_data WHERE id < 20000\"); cursor.fetchall()\n",
    "# cursor.execute('SELECT * FROM purchase_data WHERE purchase_date=\"2017-11-25\"'); cursor.fetchall()\n",
    "# cursor.execute('SELECT * FROM purchase_data p INNER JOIN subscriber_data s ON p.subscriber_email_address=s.email_address')\n",
    "# data = cursor.fetchall(); data\n",
    "# [d for d in data if d['subscriber_id']!=d['id']]"
   ]
  },
  {
   "cell_type": "code",
   "execution_count": null,
   "metadata": {
    "ExecuteTime": {
     "end_time": "2019-06-05T15:12:52.912555Z",
     "start_time": "2019-06-05T15:12:52.848752Z"
    },
    "hidden": true
   },
   "outputs": [],
   "source": [
    "# Commands to update the databases\n",
    "# cursor.execute('UPDATE subscriber_data SET subscribe_date=\"2019-05-10\" WHERE email_address=\"cjgrrl@gmail.com\"')\n",
    "# cursor.execute('UPDATE subscriber_data SET id=7985 WHERE id=8103')\n",
    "# cursor.execute('UPDATE purchase_data SET subscriber_email_address=\"jen@byjen.com\", purchaser_id=NULL WHERE subscriber_id=137632941')"
   ]
  },
  {
   "cell_type": "markdown",
   "metadata": {
    "heading_collapsed": true
   },
   "source": [
    "## Emails"
   ]
  },
  {
   "cell_type": "markdown",
   "metadata": {
    "heading_collapsed": true,
    "hidden": true
   },
   "source": [
    "#### Create and fill Database"
   ]
  },
  {
   "cell_type": "code",
   "execution_count": null,
   "metadata": {
    "ExecuteTime": {
     "end_time": "2019-06-19T01:32:13.984739Z",
     "start_time": "2019-06-19T01:32:13.914284Z"
    },
    "hidden": true
   },
   "outputs": [],
   "source": [
    "# Create a table for the emails\n",
    "cursor.execute(\"\"\"\n",
    "    CREATE TABLE `email_data` (\n",
    "      `subscriber_id` INT UNSIGNED NOT NULL,\n",
    "      `email_id` INT UNSIGNED NOT NULL,\n",
    "      `email_name` TEXT,\n",
    "      `delivered` BOOLEAN,\n",
    "      `opened` BOOLEAN,\n",
    "      `clicked` BOOLEAN,\n",
    "      `deliver_date` DATETIME,\n",
    "      `open_date` DATETIME,\n",
    "      `click_date` DATETIME,\n",
    "      PRIMARY KEY (`subscriber_id`, `email_id`));\"\"\"\n",
    "    )"
   ]
  },
  {
   "cell_type": "code",
   "execution_count": null,
   "metadata": {
    "ExecuteTime": {
     "end_time": "2019-06-19T13:27:18.086016Z",
     "start_time": "2019-06-19T13:27:18.005527Z"
    },
    "hidden": true
   },
   "outputs": [],
   "source": [
    "cursor.execute('ALTER TABLE `email_data` ADD COLUMN failed BOOLEAN AFTER bounced;')"
   ]
  },
  {
   "cell_type": "code",
   "execution_count": null,
   "metadata": {
    "ExecuteTime": {
     "end_time": "2019-07-03T10:15:14.343989Z",
     "start_time": "2019-07-03T10:15:14.239665Z"
    },
    "hidden": true
   },
   "outputs": [],
   "source": [
    "# Create a table for the emails\n",
    "cursor.execute(\"\"\"\n",
    "    CREATE TABLE `email_data_freshness` (\n",
    "      `subscriber_id` INT UNSIGNED NOT NULL,\n",
    "      `last_checked` DATETIME,\n",
    "      PRIMARY KEY (`subscriber_id`));\"\"\"\n",
    "    )"
   ]
  },
  {
   "cell_type": "code",
   "execution_count": null,
   "metadata": {
    "ExecuteTime": {
     "end_time": "2019-07-03T10:15:26.831422Z",
     "start_time": "2019-07-03T10:15:26.782317Z"
    },
    "hidden": true
   },
   "outputs": [],
   "source": [
    "# cursor.execute('SHOW TABLES;'); cursor.fetchall()\n",
    "# cursor.quick_info('email_data')"
   ]
  },
  {
   "cell_type": "code",
   "execution_count": null,
   "metadata": {
    "hidden": true
   },
   "outputs": [],
   "source": [
    "cursor.execute"
   ]
  },
  {
   "cell_type": "code",
   "execution_count": null,
   "metadata": {
    "ExecuteTime": {
     "end_time": "2019-06-19T13:33:47.378945Z",
     "start_time": "2019-06-19T13:33:46.931314Z"
    },
    "hidden": true
   },
   "outputs": [],
   "source": [
    "# Get the emails for each subscriber\n",
    "cursor.execute('SELECT * FROM subscriber_data WHERE id > 20000')\n",
    "subscribers = cursor.fetchall()\n",
    "\n",
    "# load the table with the email info"
   ]
  },
  {
   "cell_type": "code",
   "execution_count": null,
   "metadata": {
    "ExecuteTime": {
     "end_time": "2019-06-19T15:02:11.978671Z",
     "start_time": "2019-06-19T14:47:00.064057Z"
    },
    "hidden": true
   },
   "outputs": [],
   "source": [
    "session = get_ck_session()\n",
    "for i, subscriber in enumerate(subscribers):\n",
    "    if i < 10101: continue\n",
    "    print(f'loading subscriber {i} / {len(subscribers)}', end='\\r')\n",
    "    try:\n",
    "        subscriber['email_data'] = scrape_email_list(subscriber['id'], ck_app_session=session)\n",
    "    except KeyboardInterrupt as k:\n",
    "        break\n",
    "    except ConnectionError as c:\n",
    "        print(f'Possible subscriber deletion on {i}, {subscriber[\"id\"]}') \n",
    "    except:\n",
    "        print(f'Failed on subscriber {i}, {subscriber[\"id\"]}')"
   ]
  },
  {
   "cell_type": "code",
   "execution_count": null,
   "metadata": {
    "ExecuteTime": {
     "end_time": "2019-06-19T16:37:16.834769Z",
     "start_time": "2019-06-19T16:37:12.523809Z"
    },
    "hidden": true
   },
   "outputs": [],
   "source": [
    "columns = [\n",
    "    'subscriber_id', \n",
    "    'email_id', \n",
    "    'email_name', \n",
    "    'delivered', \n",
    "    'opened', \n",
    "    'clicked', \n",
    "    'bounced',\n",
    "    'failed',\n",
    "    'deliver_date', \n",
    "    'open_date', \n",
    "    'click_date'\n",
    "]\n",
    "values = []\n",
    "values = [[s['id'], *[e[c] for c in columns[1:]]] for s in subscribers[10100:] if 'email_data' in s for e in s['email_data'] ]\n",
    "\n",
    "column_string = \", \".join([\"`\"+col+\"`\" for col in columns]); column_string\n",
    "variable_string = \", \".join([\"%s\"]*len(columns)); variable_string\n",
    "duplicate_string = \"ON DUPLICATE KEY UPDATE \"+\", \".join([\"`\"+col+\"`=VALUES(`\"+col+\"`)\" for col in columns]); duplicate_string\n",
    "\n",
    "# # Prep statement\n",
    "sql_string = f'insert into email_data ({column_string}) values ({variable_string}) {duplicate_string};'; sql_string\n",
    "\n",
    "# # Add those subscribers to the database\n",
    "cursor.executemany(sql_string, values)"
   ]
  },
  {
   "cell_type": "code",
   "execution_count": null,
   "metadata": {
    "ExecuteTime": {
     "end_time": "2019-06-19T16:37:18.559181Z",
     "start_time": "2019-06-19T16:37:18.488555Z"
    },
    "hidden": true
   },
   "outputs": [],
   "source": [
    "conn.commit()"
   ]
  },
  {
   "cell_type": "code",
   "execution_count": null,
   "metadata": {
    "ExecuteTime": {
     "end_time": "2019-06-19T16:38:05.825085Z",
     "start_time": "2019-06-19T16:38:05.331826Z"
    },
    "hidden": true
   },
   "outputs": [],
   "source": [
    "cursor.quick_info('email_data', email_id=272065)\n",
    "# cursor.execute('SELECT * FROM email_data WHERE deliver_date > \"2018-09-21\" AND deliver_date <= \"2018-09-30\"')"
   ]
  },
  {
   "cell_type": "code",
   "execution_count": null,
   "metadata": {
    "ExecuteTime": {
     "end_time": "2019-06-19T01:46:15.755571Z",
     "start_time": "2019-06-19T01:46:15.696002Z"
    },
    "hidden": true
   },
   "outputs": [],
   "source": [
    "cursor.execute('DELETE FROM email_data')"
   ]
  },
  {
   "cell_type": "markdown",
   "metadata": {
    "heading_collapsed": true,
    "hidden": true
   },
   "source": [
    "#### Update freshness table"
   ]
  },
  {
   "cell_type": "code",
   "execution_count": null,
   "metadata": {
    "ExecuteTime": {
     "end_time": "2019-07-03T10:17:52.872566Z",
     "start_time": "2019-07-03T10:17:52.577511Z"
    },
    "hidden": true
   },
   "outputs": [],
   "source": [
    "sql_stmt = \"\"\"\\\n",
    "SELECT e.* FROM email_data e\n",
    "INNER JOIN subscriber_data s\n",
    "    ON e.subscriber_id = s.id\n",
    "WHERE s.state != \"active\"\n",
    "LIMIT 100\n",
    "\"\"\"\n",
    "cursor.execute(sql_stmt)"
   ]
  },
  {
   "cell_type": "code",
   "execution_count": null,
   "metadata": {
    "ExecuteTime": {
     "end_time": "2019-07-03T10:17:59.313776Z",
     "start_time": "2019-07-03T10:17:59.177643Z"
    },
    "hidden": true
   },
   "outputs": [],
   "source": [
    "cursor.fetchall()"
   ]
  },
  {
   "cell_type": "markdown",
   "metadata": {
    "hidden": true
   },
   "source": [
    "#### Run refill "
   ]
  },
  {
   "cell_type": "code",
   "execution_count": null,
   "metadata": {
    "ExecuteTime": {
     "end_time": "2019-09-02T20:23:00.631982Z",
     "start_time": "2019-09-02T20:23:00.226266Z"
    },
    "hidden": true
   },
   "outputs": [],
   "source": [
    "cursor.quick_info('email_data_freshness')#, subscriber_id=3)"
   ]
  },
  {
   "cell_type": "code",
   "execution_count": null,
   "metadata": {
    "ExecuteTime": {
     "end_time": "2019-09-03T19:55:02.928021Z",
     "start_time": "2019-09-03T19:55:02.308960Z"
    },
    "hidden": true
   },
   "outputs": [],
   "source": [
    "# cursor.quick_info('email_data_freshness')#, subscriber_id=3)\n",
    "sql_stmt = \"\"\"\\\n",
    "SELECT s.id, e.last_checked \n",
    "FROM email_data_freshness e \n",
    "LEFT JOIN subscriber_data s\n",
    "    ON s.id = e.subscriber_id\n",
    "WHERE \n",
    "    last_checked > NOW() - INTERVAL 4 HOUR - INTERVAL 2 HOUR\n",
    "    AND s.state = \"active\"\n",
    "\"\"\"\n",
    "cursor.execute(sql_stmt)\n",
    "a = cursor.fetchall(); len(a)"
   ]
  },
  {
   "cell_type": "code",
   "execution_count": null,
   "metadata": {
    "ExecuteTime": {
     "end_time": "2019-09-03T20:43:53.340043Z",
     "start_time": "2019-09-03T19:55:10.093591Z"
    },
    "hidden": true
   },
   "outputs": [],
   "source": [
    "logging.getLogger().setLevel(logging.INFO)\n",
    "scrape_all_email_data(conn, exclude_freshness=2)"
   ]
  },
  {
   "cell_type": "code",
   "execution_count": null,
   "metadata": {
    "ExecuteTime": {
     "end_time": "2019-09-03T02:29:54.668534Z",
     "start_time": "2019-09-02T20:49:04.560Z"
    },
    "hidden": true
   },
   "outputs": [],
   "source": [
    "notify('success')"
   ]
  },
  {
   "cell_type": "markdown",
   "metadata": {
    "heading_collapsed": true
   },
   "source": [
    "## Inactives"
   ]
  },
  {
   "cell_type": "code",
   "execution_count": null,
   "metadata": {
    "ExecuteTime": {
     "end_time": "2019-09-02T20:41:22.689880Z",
     "start_time": "2019-09-02T20:41:04.299216Z"
    },
    "hidden": true
   },
   "outputs": [],
   "source": [
    "update_rds_with_inactives(conn, only_new=True)#limit_to_past_days=30)"
   ]
  },
  {
   "cell_type": "code",
   "execution_count": null,
   "metadata": {
    "ExecuteTime": {
     "end_time": "2019-09-02T20:42:19.432007Z",
     "start_time": "2019-09-02T20:42:19.128254Z"
    },
    "hidden": true
   },
   "outputs": [],
   "source": [
    "cursor.execute('SELECT * FROM subscriber_data WHERE state=\"inactive\"')\n",
    "# Should match to count from https://app.convertkit.com/?status=inactive"
   ]
  },
  {
   "cell_type": "code",
   "execution_count": null,
   "metadata": {
    "ExecuteTime": {
     "end_time": "2019-09-02T20:44:14.852866Z",
     "start_time": "2019-09-02T20:44:14.784317Z"
    },
    "hidden": true
   },
   "outputs": [],
   "source": [
    "conn.commit()"
   ]
  },
  {
   "cell_type": "markdown",
   "metadata": {},
   "source": [
    "## Error Checks"
   ]
  },
  {
   "cell_type": "markdown",
   "metadata": {},
   "source": [
    "#### RDS subscriber data versus the Web"
   ]
  },
  {
   "cell_type": "markdown",
   "metadata": {
    "heading_collapsed": true
   },
   "source": [
    "##### Get data"
   ]
  },
  {
   "cell_type": "code",
   "execution_count": null,
   "metadata": {
    "ExecuteTime": {
     "end_time": "2019-09-19T19:37:47.555239Z",
     "start_time": "2019-09-19T19:37:46.414749Z"
    },
    "hidden": true
   },
   "outputs": [],
   "source": [
    "# RDS Data\n",
    "# conn.commit()\n",
    "cursor.execute('SELECT * FROM subscriber_data'); \n",
    "all_rds_list = cursor.fetchall()\n",
    "all_rds_dict = {a['id']: a for a in all_rds_list}"
   ]
  },
  {
   "cell_type": "code",
   "execution_count": null,
   "metadata": {
    "ExecuteTime": {
     "end_time": "2019-09-16T16:22:10.295576Z",
     "start_time": "2019-09-16T16:22:10.268236Z"
    },
    "hidden": true
   },
   "outputs": [],
   "source": [
    "log_level('w')"
   ]
  },
  {
   "cell_type": "code",
   "execution_count": null,
   "metadata": {
    "ExecuteTime": {
     "end_time": "2019-09-19T19:38:28.647676Z",
     "start_time": "2019-09-19T19:38:18.190457Z"
    },
    "hidden": true
   },
   "outputs": [],
   "source": [
    "# Takes about 10 seconds\n",
    "all_ck_list = get_api_data(CK_Api.ALL_SUBS, None, session=session)\n",
    "all_ck_dict = {a['id']: a for a in all_ck_list}\n",
    "\n",
    "print(all_rds_list[0]); print(); print(all_ck_list[0])"
   ]
  },
  {
   "cell_type": "markdown",
   "metadata": {
    "heading_collapsed": true
   },
   "source": [
    "##### Summarize Issues"
   ]
  },
  {
   "cell_type": "code",
   "execution_count": null,
   "metadata": {
    "ExecuteTime": {
     "end_time": "2019-09-19T19:38:38.109298Z",
     "start_time": "2019-09-19T19:38:36.632832Z"
    },
    "hidden": true
   },
   "outputs": [],
   "source": [
    "# Duplicate emails in RDS\n",
    "duplicate_rds_emails = [c for c in Counter([a['email_address'] for a in all_rds_list]).items() if c[1]>1]\n",
    "print(f'Duplicate emails in RDS: {len(duplicate_rds_emails)}')\n",
    "\n",
    "# Total Mismatches\n",
    "mismatches = [a for a in all_rds_dict if a in all_ck_dict and array_mismatch(all_rds_dict[a], all_ck_dict[a])]\n",
    "print(f'Total mismatches: {len(mismatches)}')\n",
    "\n",
    "print(f'There are {len(set([a[\"lead_source\"] for a in all_rds_list]))} / 10 lead_sources')\n",
    "print(f'There are {len(set([a[\"lead_opt-in\"] for a in all_rds_list]))} / 14 lead_opt-ins')\n",
    "\n",
    "# See if any subscribers are missing from RDS\n",
    "## Get step function data first\n",
    "get_id = lambda x: int(re.match(r'.*?_(\\d+)', x).group(1))\n",
    "recent_execution = lambda x: x['stopDate'] > datetime.now().astimezone(pytz.timezone('US/Eastern')) - timedelta(hours=1)\n",
    "client = boto3.client('stepfunctions')\n",
    "sub_arn = 'arn:aws:states:us-east-1:787744691769:stateMachine:CK_Subscription'\n",
    "running_executions = client.list_executions(stateMachineArn=sub_arn, statusFilter='RUNNING')['executions']\n",
    "success_executions = client.list_executions(stateMachineArn=sub_arn, statusFilter='SUCCEEDED')['executions']\n",
    "executions = running_executions + [e for e in success_executions if recent_execution(e)]\n",
    "processing_subs = [get_id(e['name']) for e in executions]; len(processing_subs), processing_subs\n",
    "\n",
    "rds_missing_subs = [a for a in all_ck_dict if a not in all_rds_dict and a not in processing_subs]\n",
    "print(f'CK subs missing from RDS: {len(rds_missing_subs)}')\n",
    "\n",
    "# These are probably ok, but are delayed due to delay of gathering ck data\n",
    "today = datetime.strftime(datetime.now(), '%Y-%m-%d')\n",
    "rds_not_in_ck_subs = [a for a in all_rds_dict if all_rds_dict[a]['state'] == 'active' and a not in all_ck_dict and all_rds_dict[a]['subscribe_date'] != today]\n",
    "print(f'RDS subs missing from CK: {len(rds_not_in_ck_subs)}')\n",
    "\n",
    "# Mismatch between email_data and email_data_freshness (active subscribers with email_data but no email_data_freshness)\n",
    "sql_stmt = \"\"\"\\\n",
    "SELECT s.id FROM email_data e\n",
    "LEFT JOIN subscriber_data s\n",
    "    ON s.id = e.subscriber_id\n",
    "LEFT JOIN email_data_freshness f\n",
    "    ON f.subscriber_id = e.subscriber_id\n",
    "WHERE f.subscriber_id IS NULL\n",
    "    AND s.state = \"active\"\n",
    "\"\"\"\n",
    "cursor.execute(sql_stmt)\n",
    "missing_freshness_ids = [c['id'] for c in cursor.fetchall()]; len(missing_freshness_ids), missing_freshness_ids[:3]\n",
    "print(f'Missing freshness data: {len(missing_freshness_ids)}')\n",
    "\n",
    "# Subscribers with no email data\n",
    "sql_stmt = \"\"\"\\\n",
    "SELECT s.id FROM subscriber_data s\n",
    "LEFT JOIN email_data e\n",
    "    ON e.subscriber_id = s.id\n",
    "WHERE e.subscriber_id IS NULL\n",
    "    AND s.state = \"active\"\n",
    "\"\"\"\n",
    "cursor.execute(sql_stmt)\n",
    "no_email_subscribers = [c['id'] for c in cursor.fetchall()]; len(no_email_subscribers), no_email_subscribers[-3:]\n",
    "print(f'Subscribers with no email data: {len(no_email_subscribers)}')\n",
    "\n",
    "# Subscriber with no subscribe date\n",
    "no_subscribe_date_rds = [a['id'] for a in all_rds_list if a['state'] == 'active' and not a['subscribe_date']]\n",
    "print(f'RDS Subscribers with no subscribe_date: {len(no_subscribe_date_rds)}')\n",
    "\n",
    "no_subscribe_date_ck = [a['id'] for a in all_ck_list if a['state'] == 'active' and not a['subscribe_date']]\n",
    "print(f'CK Subscribers with no subscribe_date: {len(no_subscribe_date_ck)}')\n",
    "\n",
    "# active subscriber with an unsubscribe_date (resubscriber)\n",
    "err_unsub_date = [a['id'] for a in all_rds_list if a['state'] == 'active' and a['unsubscribe_date']]\n",
    "print(f'Unnecessary unsub dates: {len(err_unsub_date)}')\n"
   ]
  },
  {
   "cell_type": "code",
   "execution_count": null,
   "metadata": {
    "ExecuteTime": {
     "end_time": "2019-09-16T16:53:22.524461Z",
     "start_time": "2019-09-16T16:53:22.385679Z"
    },
    "hidden": true
   },
   "outputs": [],
   "source": [
    "conn.commit()"
   ]
  },
  {
   "cell_type": "code",
   "execution_count": null,
   "metadata": {
    "ExecuteTime": {
     "end_time": "2019-09-16T16:54:15.868525Z",
     "start_time": "2019-09-16T16:54:15.227914Z"
    },
    "hidden": true
   },
   "outputs": [],
   "source": [
    "# REFRESH CK_SUB DATA \n",
    "# Update the changed ck_subs\n",
    "new_items = []\n",
    "changed_ck_subs = err_unsub_date #Out[57]# mismatches#err_unsub_date #rds_not_in_ck_subs + no_subscribe_date_rds\n",
    "# Remove the items from the list\n",
    "# type(a) == dict to avoid string issues\n",
    "all_ck_list = [a for a in all_ck_list if type(a)==dict and a['id'] not in changed_ck_subs]\n",
    "# Get the new items\n",
    "for i, updated_id in enumerate(changed_ck_subs):\n",
    "    try:\n",
    "        new_items.append(get_api_data(CK_Api.SUB, updated_id, session=session))\n",
    "    except SubscriberDNE as s: pass\n",
    "    print(f'Updating {i}/{len(changed_ck_subs)} ', end='\\r')\n",
    "# Add those to the list\n",
    "all_ck_list += new_items\n",
    "# Update the dictionary\n",
    "for item in new_items:\n",
    "    all_ck_dict[item['id']] = item"
   ]
  },
  {
   "cell_type": "markdown",
   "metadata": {
    "heading_collapsed": true
   },
   "source": [
    "##### Temp analysis"
   ]
  },
  {
   "cell_type": "code",
   "execution_count": null,
   "metadata": {
    "ExecuteTime": {
     "end_time": "2019-08-03T18:02:58.688808Z",
     "start_time": "2019-08-03T18:02:58.608073Z"
    },
    "hidden": true
   },
   "outputs": [],
   "source": [
    "no_subscribe_date_ck"
   ]
  },
  {
   "cell_type": "code",
   "execution_count": null,
   "metadata": {
    "ExecuteTime": {
     "end_time": "2019-08-03T02:31:29.501478Z",
     "start_time": "2019-08-03T02:31:29.377656Z"
    },
    "hidden": true
   },
   "outputs": [],
   "source": [
    "rds_not_in_ck_subs"
   ]
  },
  {
   "cell_type": "code",
   "execution_count": null,
   "metadata": {
    "ExecuteTime": {
     "end_time": "2019-08-03T02:24:06.011613Z",
     "start_time": "2019-08-03T02:24:00.308203Z"
    },
    "hidden": true
   },
   "outputs": [],
   "source": [
    "for s in no_subscribe_date_ck:\n",
    "    if s not in no_subscribe_date_rds:\n",
    "        update_single_subscriber(s, cursor, geolocator = Nominatim(user_agent='dgn_app'))"
   ]
  },
  {
   "cell_type": "code",
   "execution_count": null,
   "metadata": {
    "ExecuteTime": {
     "end_time": "2019-08-03T02:30:32.539415Z",
     "start_time": "2019-08-03T02:30:32.326676Z"
    },
    "hidden": true
   },
   "outputs": [],
   "source": [
    "temp_id = mismatches[0]\n",
    "temp = array_mismatch(all_rds_dict[temp_id], all_ck_dict[temp_id]); temp"
   ]
  },
  {
   "cell_type": "code",
   "execution_count": null,
   "metadata": {
    "ExecuteTime": {
     "end_time": "2019-08-03T02:27:02.497751Z",
     "start_time": "2019-08-03T02:27:02.359265Z"
    },
    "hidden": true
   },
   "outputs": [],
   "source": [
    "str(temp['loc_lat'][0]) == temp['loc_lat'][1]"
   ]
  },
  {
   "cell_type": "code",
   "execution_count": null,
   "metadata": {
    "ExecuteTime": {
     "end_time": "2019-08-03T02:24:10.519025Z",
     "start_time": "2019-08-03T02:24:10.373637Z"
    },
    "hidden": true
   },
   "outputs": [],
   "source": [
    "conn.commit()"
   ]
  },
  {
   "cell_type": "markdown",
   "metadata": {
    "heading_collapsed": true
   },
   "source": [
    "##### Fix duplicate email addresses in RDS"
   ]
  },
  {
   "cell_type": "code",
   "execution_count": null,
   "metadata": {
    "ExecuteTime": {
     "end_time": "2019-08-13T20:02:01.327807Z",
     "start_time": "2019-08-13T20:02:00.501557Z"
    },
    "hidden": true
   },
   "outputs": [],
   "source": [
    "# Delete duplicates from RDS\n",
    "for duplicate_email, count in duplicate_rds_emails:\n",
    "    print(duplicate_email)\n",
    "    duplicate_ids = [a['id'] for a in cursor.e(f'SELECT id FROM subscriber_data WHERE email_address=%s', values=[duplicate_email])]\n",
    "    print(duplicate_ids)\n",
    "    for duplicate_id in duplicate_ids:\n",
    "        try:\n",
    "            get_single_subscriber(subscriber_id=duplicate_id)\n",
    "        except SubscriberDNE as s:\n",
    "            cursor.e(f'DELETE FROM subscriber_data WHERE id={duplicate_id}')\n",
    "            print(f'deleted subscriber {duplicate_id} from RDS')"
   ]
  },
  {
   "cell_type": "code",
   "execution_count": null,
   "metadata": {
    "hidden": true
   },
   "outputs": [],
   "source": [
    "# Update launch data!\n",
    "# cursor.quick_info('launch_data', subscriber_id=7561)\n",
    "cursor.e('UPDATE launch_data SET subscriber_id=314547030 WHERE subscriber_id=7561')"
   ]
  },
  {
   "cell_type": "code",
   "execution_count": null,
   "metadata": {
    "ExecuteTime": {
     "end_time": "2019-07-30T18:33:52.309255Z",
     "start_time": "2019-07-30T18:33:52.273493Z"
    },
    "hidden": true
   },
   "outputs": [],
   "source": [
    "# Duplicate emails in RDS\n",
    "duplicate_rds_emails = [c for c in Counter([a['email_address'] for a in all_rds_list]).items() if c[1]>1]\n",
    "print(f'Duplicate emails in RDS: {len(duplicate_rds_emails)}')\n",
    "duplicate_rds_emails[:3]"
   ]
  },
  {
   "cell_type": "code",
   "execution_count": null,
   "metadata": {
    "ExecuteTime": {
     "end_time": "2019-07-30T19:55:27.666711Z",
     "start_time": "2019-07-30T19:55:27.479822Z"
    },
    "hidden": true
   },
   "outputs": [],
   "source": [
    "cursor.e('SELECT * FROM subscriber_data WHERE email_address=\"dnishiyama+test2@gmail.com\"')\n",
    "# cursor.e('DELETE FROM subscriber_data WHERE id=8468')"
   ]
  },
  {
   "cell_type": "code",
   "execution_count": null,
   "metadata": {
    "ExecuteTime": {
     "end_time": "2019-07-10T23:35:49.986526Z",
     "start_time": "2019-07-10T23:35:49.645349Z"
    },
    "hidden": true
   },
   "outputs": [],
   "source": [
    "delete_ids = []\n",
    "for duplicate_email, count in duplicate_rds_emails:\n",
    "    cursor.execute(f'SELECT id, state FROM subscriber_data WHERE email_address = \"{duplicate_email}\"')\n",
    "    sub_data = cursor.fetchall()\n",
    "    if len(sub_data) != 2: raise Exception() # Otherwise this isn't a duplicate!\n",
    "    id_0 = sub_data[0]['id']; id_1 = sub_data[1]['id']\n",
    "    \n",
    "    if id_0 > 20000: # deletion is no problem if not real subscriber (id < 20000)\n",
    "        # If it is a real subscriber (id > 20000), then deletion is a problem only if the state isn't deleted \n",
    "        if sub_data[0]['state'] != 'deleted': # deletion is no problem if it is deleted\n",
    "            if sub_data[1]['state'] == 'deleted':  # or switch ids if this one is deleted\n",
    "                id_0 = id_1\n",
    "                id_1 = sub_data[0]['id']\n",
    "                print(f'switched ids on {duplicate_email} due to one being deleted and not the other')\n",
    "            else:\n",
    "                print(f'continuing on {duplicate_email} due to high id_0 and not a deletion')\n",
    "                continue\n",
    "        else: pass\n",
    "    else: pass\n",
    "        \n",
    "    if sub_data[0]['state'] == 'active': raise Exception()\n",
    "    if id_1 < 20000: continue\n",
    "    if cursor.execute(f'SELECT * FROM launch_data WHERE subscriber_id = {id_0}') > 0:\n",
    "        print(f'updating launch_data for {id_0} to {id_1}')\n",
    "        cursor.execute(f'UPDATE launch_data SET subscriber_id={id_1} WHERE subscriber_id={id_0}')\n",
    "\n",
    "    if cursor.execute(f'SELECT * FROM purchase_data WHERE subscriber_id = {id_0}') > 0:\n",
    "        print(f'updating purchase_data, subscriber_id for {id_0} to {id_1}')\n",
    "        cursor.execute(f'UPDATE purchase_data SET subscriber_id={id_1} WHERE subscriber_id={id_0}')\n",
    "\n",
    "    if cursor.execute(f'SELECT * FROM purchase_data WHERE purchase_id = {id_0}') > 0:\n",
    "        print(f'updating purchase_data, purchase_id for {id_0} to {id_1}')\n",
    "        cursor.execute(f'UPDATE purchase_data SET purchase_id={id_1} WHERE purchase_id={id_0}')\n",
    "    print(f'ready to delete {id_0}', 'for', duplicate_email )\n",
    "    delete_ids.append(id_0)\n"
   ]
  },
  {
   "cell_type": "code",
   "execution_count": null,
   "metadata": {
    "ExecuteTime": {
     "end_time": "2019-07-10T23:35:53.287255Z",
     "start_time": "2019-07-10T23:35:53.155688Z"
    },
    "hidden": true
   },
   "outputs": [],
   "source": [
    "cursor.execute(f'DELETE FROM subscriber_data WHERE id in {mysql_array(delete_ids)}')"
   ]
  },
  {
   "cell_type": "code",
   "execution_count": null,
   "metadata": {
    "ExecuteTime": {
     "end_time": "2019-07-10T23:35:56.276622Z",
     "start_time": "2019-07-10T23:35:54.475929Z"
    },
    "hidden": true
   },
   "outputs": [],
   "source": [
    "# Refresh RDS and CK data\n",
    "cursor.execute('SELECT * FROM subscriber_data'); \n",
    "all_rds_list = cursor.fetchall()\n",
    "all_rds_dict = {a['id']: a for a in all_rds_list}"
   ]
  },
  {
   "cell_type": "markdown",
   "metadata": {
    "heading_collapsed": true
   },
   "source": [
    "##### Bad Sources and Optins"
   ]
  },
  {
   "cell_type": "code",
   "execution_count": null,
   "metadata": {
    "ExecuteTime": {
     "end_time": "2019-09-16T16:24:11.872837Z",
     "start_time": "2019-09-16T16:24:11.838457Z"
    },
    "hidden": true
   },
   "outputs": [],
   "source": [
    "[a['id'] for a in all_ck_list if a['lead_opt-in'] == None]"
   ]
  },
  {
   "cell_type": "code",
   "execution_count": null,
   "metadata": {
    "ExecuteTime": {
     "end_time": "2019-09-16T16:24:15.311984Z",
     "start_time": "2019-09-16T16:24:15.278401Z"
    },
    "hidden": true
   },
   "outputs": [],
   "source": [
    "set([a['lead_opt-in'] for a in all_ck_list])"
   ]
  },
  {
   "cell_type": "code",
   "execution_count": null,
   "metadata": {
    "ExecuteTime": {
     "end_time": "2019-09-16T16:24:20.309767Z",
     "start_time": "2019-09-16T16:24:20.274210Z"
    },
    "hidden": true
   },
   "outputs": [],
   "source": [
    "set([a['lead_source'] for a in all_ck_list])"
   ]
  },
  {
   "cell_type": "code",
   "execution_count": null,
   "metadata": {
    "ExecuteTime": {
     "end_time": "2019-08-13T20:16:11.696717Z",
     "start_time": "2019-08-13T20:16:02.864357Z"
    },
    "hidden": true
   },
   "outputs": [],
   "source": [
    "# Fix lead source by going to each with that CK data and updating, then updating the rds data\n",
    "try:\n",
    "    bad_subs = [a for a in all_ck_list if a['lead_source'] in ['', 'FB Ad?fbclid', 'FB+Ad', 'Medium?source',None,'None']]; \n",
    "#     print(len(bad_subs), bad_subs[:1])\n",
    "    bad_subs += [a for a in all_ck_list if a['lead_opt-in'] in ['', 'None', 'style mini-course', None]]; \n",
    "#     len(bad_subs), bad_subs[:3]\n",
    "    for i, a in enumerate(bad_subs):\n",
    "        new_source = {}; new_optin = {};\n",
    "        if a['lead_source'] in ['',None,'None']: new_source = {'lead_source': 'Unknown'}\n",
    "        if a['lead_source'] in ['FB Ad?fbclid', 'FB+Ad']: new_source = {'lead_source': 'FB Ad'}\n",
    "        if a['lead_source'] in ['Medium?source']: new_source = {'lead_source': 'Medium'}\n",
    "        if new_source: print(f'Updating {a[\"id\"]} with source {new_source} instead of {a[\"lead_source\"]}')\n",
    "\n",
    "        if a['lead_opt-in'] in ['', None]: new_optin = {'lead_opt-in': 'Unknown'}\n",
    "        if a['lead_opt-in'] in ['style mini-course']: new_optin = {'lead_opt-in': 'Style Mini-course'}\n",
    "        if new_optin: print(f'Updating {a[\"id\"]} with optin {new_optin} instead of {a[\"lead_opt-in\"]}')\n",
    "\n",
    "        update_ck_sub_with_misc(a[\"id\"], session=session, **{**new_source, **new_optin})\n",
    "        input('continue?'); clear_output()\n",
    "except KeyboardInterrupt as k:\n",
    "    pass\n"
   ]
  },
  {
   "cell_type": "code",
   "execution_count": null,
   "metadata": {
    "ExecuteTime": {
     "end_time": "2019-08-13T20:16:35.959186Z",
     "start_time": "2019-08-13T20:16:35.827376Z"
    },
    "hidden": true
   },
   "outputs": [],
   "source": [
    "cursor.e('UPDATE subscriber_data SET `lead_opt-in` = \"Unknown\" WHERE `lead_opt-in`=\"\" OR `lead_opt-in` IS NULL')"
   ]
  },
  {
   "cell_type": "code",
   "execution_count": null,
   "metadata": {
    "ExecuteTime": {
     "end_time": "2019-07-11T20:53:16.257214Z",
     "start_time": "2019-07-11T20:53:15.967262Z"
    },
    "hidden": true
   },
   "outputs": [],
   "source": [
    "bad_optin = [[\"Style Mini-course\", a['id']] for a in all_rds_list if a['lead_opt-in'] in ['style mini-course']]; len(bad_optin), bad_optin[:3]\n",
    "cursor.executemany('UPDATE subscriber_data SET `lead_opt-in`=%s WHERE id=%s', bad_optin)"
   ]
  },
  {
   "cell_type": "code",
   "execution_count": null,
   "metadata": {
    "hidden": true
   },
   "outputs": [],
   "source": [
    "# Fix Unknown Opt-ins\n",
    "bad_optin = [[\"Unknown\", a['id']] for a in all_rds_list if a['lead_opt-in'] in ['', None, 'None']]; len(bad_optin), bad_optin[:3]\n",
    "# cursor.executemany('UPDATE subscriber_data SET `lead_opt-in`=%s WHERE id=%s', bad_optin)"
   ]
  },
  {
   "cell_type": "code",
   "execution_count": null,
   "metadata": {
    "ExecuteTime": {
     "end_time": "2019-07-30T20:26:54.160772Z",
     "start_time": "2019-07-30T20:26:53.974527Z"
    },
    "hidden": true
   },
   "outputs": [],
   "source": [
    "# Fix FB Ads\n",
    "bad_source = [['FB Ad', a['id']] for a in all_rds_list if a['lead_source'] in ['FB Ad?fbclid', 'FB+Ad']]; len(bad_source), bad_source[:3]\n",
    "cursor.executemany('UPDATE subscriber_data SET lead_source=%s WHERE id=%s', bad_source)\n",
    "# for _, bad_id in bad_source:\n",
    "#     update_ck_sub_with_misc(sub_id=bad_id, session=session, lead_source=\"FB Ad\")"
   ]
  },
  {
   "cell_type": "code",
   "execution_count": null,
   "metadata": {
    "ExecuteTime": {
     "end_time": "2019-07-30T20:17:01.963895Z",
     "start_time": "2019-07-30T20:17:01.885089Z"
    },
    "hidden": true
   },
   "outputs": [],
   "source": [
    "list(range(1820,len(bad_source),500))"
   ]
  },
  {
   "cell_type": "code",
   "execution_count": null,
   "metadata": {
    "ExecuteTime": {
     "end_time": "2019-07-30T20:26:49.271927Z",
     "start_time": "2019-07-30T20:23:34.624087Z"
    },
    "hidden": true
   },
   "outputs": [],
   "source": [
    "# Fix Unknowns\n",
    "steps=250; start = 0; # normally 0\n",
    "bad_source = [['Unknown', a['id']] for a in all_rds_list if a['lead_opt-in'] in ['None', None, '']]; len(bad_source), bad_source[:3]\n",
    "for i in range(start, len(bad_source), steps):\n",
    "    print(f\"Updating data from {i} to {i+steps} out of {len(bad_source)}\", end='\\r')\n",
    "    cursor.executemany('UPDATE subscriber_data SET lead_source=%s WHERE id=%s', bad_source[i:i+steps])"
   ]
  },
  {
   "cell_type": "code",
   "execution_count": null,
   "metadata": {
    "ExecuteTime": {
     "end_time": "2019-07-30T20:28:59.525883Z",
     "start_time": "2019-07-30T20:28:59.416039Z"
    },
    "hidden": true
   },
   "outputs": [],
   "source": [
    "conn.commit()"
   ]
  },
  {
   "cell_type": "code",
   "execution_count": null,
   "metadata": {
    "ExecuteTime": {
     "end_time": "2019-07-11T20:49:18.275065Z",
     "start_time": "2019-07-11T20:48:50.696134Z"
    },
    "hidden": true
   },
   "outputs": [],
   "source": [
    "for i, a in enumerate(mismatches):\n",
    "    if 'lead_source' in array_mismatch(all_rds_dict[a], all_ck_dict[a]):\n",
    "        print(f'Updating {a} with {all_rds_dict[a][\"lead_source\"]} instead of {all_ck_dict[a][\"lead_source\"]}')\n",
    "        update_ck_sub_with_misc(a, session=session, **{\"lead_source\": all_rds_dict[a][\"lead_source\"]})\n",
    "        "
   ]
  },
  {
   "cell_type": "markdown",
   "metadata": {
    "heading_collapsed": true
   },
   "source": [
    "##### Fix misc mismatches"
   ]
  },
  {
   "cell_type": "code",
   "execution_count": null,
   "metadata": {
    "ExecuteTime": {
     "end_time": "2019-09-16T16:24:57.752970Z",
     "start_time": "2019-09-16T16:24:57.723025Z"
    },
    "hidden": true
   },
   "outputs": [],
   "source": [
    "len(mismatches), mismatches[:3]"
   ]
  },
  {
   "cell_type": "code",
   "execution_count": null,
   "metadata": {
    "ExecuteTime": {
     "end_time": "2019-09-19T20:47:43.677876Z",
     "start_time": "2019-09-19T20:47:41.444156Z"
    },
    "hidden": true
   },
   "outputs": [],
   "source": [
    "cancellers = get_api_data(CK_Api.ALL_SUBS, None, include_unsubscribers=True)"
   ]
  },
  {
   "cell_type": "code",
   "execution_count": null,
   "metadata": {
    "ExecuteTime": {
     "end_time": "2019-09-19T20:47:48.308612Z",
     "start_time": "2019-09-19T20:47:48.280454Z"
    },
    "hidden": true
   },
   "outputs": [],
   "source": [
    "[c for c in cancellers if "
   ]
  },
  {
   "cell_type": "code",
   "execution_count": null,
   "metadata": {
    "hidden": true
   },
   "outputs": [],
   "source": [
    "# Fix mismatches of loc_lat and loc_lng of None (rds) vs 'null' (ck)"
   ]
  },
  {
   "cell_type": "code",
   "execution_count": null,
   "metadata": {
    "ExecuteTime": {
     "end_time": "2019-09-16T16:25:14.545786Z",
     "start_time": "2019-09-16T16:25:00.117703Z"
    },
    "hidden": true
   },
   "outputs": [],
   "source": [
    "ok_columns = [\n",
    "    'stsbc_evg_launch_deadline',\n",
    "    'other_email_address',\n",
    "    'lead_source',\n",
    "    'lead_opt-in',\n",
    "    'lead_source',\n",
    "    'state',\n",
    "    'subscribe_date',\n",
    "    'unsubscribe_date',\n",
    "    'loc_lat',\n",
    "    'loc_lng',\n",
    "    'loc_city',\n",
    "    'loc_state',\n",
    "]\n",
    "for mismatch in mismatches:\n",
    "    data = array_mismatch(all_rds_dict[mismatch], all_ck_dict[mismatch])\n",
    "    if all(d in ok_columns for d in data.keys()): continue\n",
    "    print(mismatch, data)\n",
    "    input()\n",
    "#     clear_output()"
   ]
  },
  {
   "cell_type": "code",
   "execution_count": null,
   "metadata": {
    "ExecuteTime": {
     "end_time": "2019-09-16T15:17:27.126142Z",
     "start_time": "2019-09-16T15:17:25.929684Z"
    },
    "hidden": true
   },
   "outputs": [],
   "source": [
    "# Fix some issues \n",
    "temp_ids = [a['id'] for a in all_ck_list if a['lead_opt-in'] and a['lead_opt-in'].lower()==a['lead_opt-in']]\n",
    "[all_ck_dict[t]['lead_opt-in'] for t in temp_ids]\n",
    "fields = {'lead_opt-in': 'Emails'}\n",
    "for temp_id in temp_ids:\n",
    "    update_ck_sub_with_misc(temp_id, session=session, **fields)"
   ]
  },
  {
   "cell_type": "code",
   "execution_count": null,
   "metadata": {
    "ExecuteTime": {
     "end_time": "2019-09-16T16:27:22.432504Z",
     "start_time": "2019-09-16T16:26:50.840890Z"
    },
    "hidden": true
   },
   "outputs": [],
   "source": [
    "# Manual choice for each item\n",
    "try:\n",
    "    for i, a in enumerate(mismatches):\n",
    "#         if i < 567: continue\n",
    "        print(f'Updating {i} / {len(mismatches)}', end='\\r')\n",
    "        print('RDS:', all_rds_dict[a])\n",
    "        print('CK:', all_ck_dict[a])\n",
    "        print('\\n', i, a,  array_mismatch(all_rds_dict[a], all_ck_dict[a]) )\n",
    "        cont = input('KEEP the RDS or CK values? RDS/(CK)')\n",
    "        if cont == 'CK' or cont == '':\n",
    "            update_subscriber_in_rds(a, cursor, session=session)\n",
    "        elif cont == 'RDS':\n",
    "            fields = {k:all_rds_dict[a][k] for k in array_mismatch(all_rds_dict[a], all_ck_dict[a]).keys()}\n",
    "            update_ck_sub_with_misc(a, session=session, **fields)\n",
    "        clear_output()\n",
    "except KeyboardInterrupt as k:\n",
    "    pass # Allow keyboard break"
   ]
  },
  {
   "cell_type": "code",
   "execution_count": null,
   "metadata": {
    "ExecuteTime": {
     "end_time": "2019-09-16T16:21:24.311805Z",
     "start_time": "2019-09-16T16:21:04.870209Z"
    },
    "hidden": true
   },
   "outputs": [],
   "source": [
    "# Load all the CK data into RDS\n",
    "for i, a in enumerate(mismatches):\n",
    "    print(f'Updating {i} / {len(mismatches)}', end='\\r')\n",
    "    update_subscriber_in_rds(a, cursor, sub_data=all_ck_dict[a])\n",
    "#     elif cont == 'RDS':\n",
    "#         fields = {k:all_rds_dict[a][k] for k in array_mismatch(all_rds_dict[a], all_ck_dict[a]).keys()}\n",
    "#         update_ck_sub_with_misc(a, session=session, **fields)"
   ]
  },
  {
   "cell_type": "code",
   "execution_count": null,
   "metadata": {
    "ExecuteTime": {
     "end_time": "2019-09-16T16:28:07.009579Z",
     "start_time": "2019-09-16T16:28:06.960583Z"
    },
    "hidden": true
   },
   "outputs": [],
   "source": [
    "conn.commit()"
   ]
  },
  {
   "cell_type": "markdown",
   "metadata": {
    "heading_collapsed": true
   },
   "source": [
    "##### Fix RDS subs that are missing from the active CK list"
   ]
  },
  {
   "cell_type": "code",
   "execution_count": null,
   "metadata": {
    "ExecuteTime": {
     "end_time": "2019-09-16T16:29:30.992449Z",
     "start_time": "2019-09-16T16:29:30.955857Z"
    },
    "hidden": true
   },
   "outputs": [],
   "source": [
    "a = rds_not_in_ck_subs[0]\n",
    "array_mismatch(all_rds_dict[a], all_ck_dict[a])"
   ]
  },
  {
   "cell_type": "code",
   "execution_count": null,
   "metadata": {
    "ExecuteTime": {
     "end_time": "2019-09-16T16:29:40.215850Z",
     "start_time": "2019-09-16T16:29:39.970838Z"
    },
    "hidden": true
   },
   "outputs": [],
   "source": [
    "get_api_data(CK_Api.SUB, 137389801, session=session)"
   ]
  },
  {
   "cell_type": "code",
   "execution_count": null,
   "metadata": {
    "ExecuteTime": {
     "end_time": "2019-08-03T18:02:17.376594Z",
     "start_time": "2019-08-03T18:02:16.510646Z"
    },
    "hidden": true
   },
   "outputs": [],
   "source": [
    "log_level('i')\n",
    "# log_level('d')\n",
    "ck_app_session = get_ck_session()"
   ]
  },
  {
   "cell_type": "code",
   "execution_count": null,
   "metadata": {
    "ExecuteTime": {
     "end_time": "2019-09-16T16:31:24.663541Z",
     "start_time": "2019-09-16T16:31:24.592811Z"
    },
    "hidden": true
   },
   "outputs": [],
   "source": [
    "cursor.e('SELECT DISTINCT state FROM subscriber_data')"
   ]
  },
  {
   "cell_type": "code",
   "execution_count": null,
   "metadata": {
    "ExecuteTime": {
     "end_time": "2019-09-16T16:36:04.906723Z",
     "start_time": "2019-09-16T16:36:04.876532Z"
    },
    "hidden": true
   },
   "outputs": [],
   "source": [
    "rds_not_in_ck_subs[104:] #.index(469283448)"
   ]
  },
  {
   "cell_type": "code",
   "execution_count": null,
   "metadata": {
    "ExecuteTime": {
     "end_time": "2019-09-16T16:36:29.366023Z",
     "start_time": "2019-09-16T16:36:24.401165Z"
    },
    "hidden": true
   },
   "outputs": [],
   "source": [
    "# Diagnose why it is in RDS, but not CK\n",
    "# sub_id = 496615911\n",
    "ck_app_session=get_ck_session()\n",
    "for sub_id in rds_not_in_ck_subs[104:]:\n",
    "    try:\n",
    "        sub_data = get_api_data(CK_Api.SUB, sub_id, session=session)\n",
    "#         if sub_data['state'] != 'active':\n",
    "        print(f'Subscriber {sub_id}, {sub_data}', end='\\r')\n",
    "        if sub_data['state'] == 'cancelled':\n",
    "            manual_ck_unsub_update(sub_id, cursor, ck_app_session=ck_app_session, session=session)\n",
    "        elif sub_data['state'] in ['bounced', 'complained']:\n",
    "            state = sub_data['state']\n",
    "            cursor.e(f'UPDATE subscriber_data SET state=%s WHERE id={sub_id}', state)\n",
    "        else:\n",
    "            input()\n",
    "    except SubscriberDNE as s:\n",
    "#         print(f'Subscriber {sub_id} deleted')\n",
    "        cursor.e(f'UPDATE subscriber_data SET state=\"deleted\" WHERE id={sub_id}')\n",
    "    "
   ]
  },
  {
   "cell_type": "code",
   "execution_count": null,
   "metadata": {
    "ExecuteTime": {
     "end_time": "2019-08-03T18:02:29.444639Z",
     "start_time": "2019-08-03T18:02:29.336096Z"
    },
    "hidden": true
   },
   "outputs": [],
   "source": [
    "conn.commit()"
   ]
  },
  {
   "cell_type": "code",
   "execution_count": null,
   "metadata": {
    "ExecuteTime": {
     "end_time": "2019-08-03T15:09:56.325649Z",
     "start_time": "2019-08-03T15:09:56.146530Z"
    },
    "hidden": true
   },
   "outputs": [],
   "source": [
    "# All active RDS should be in CK list, if not they need to be updated\n",
    "ck_missing_subs = [a for a in all_rds_list if a['state']==\"active\" and a['id'] not in all_ck_dict]; len(ck_missing_subs), ck_missing_subs[:3]"
   ]
  },
  {
   "cell_type": "code",
   "execution_count": null,
   "metadata": {
    "ExecuteTime": {
     "end_time": "2019-07-30T20:48:20.766694Z",
     "start_time": "2019-07-30T20:48:19.713667Z"
    },
    "hidden": true
   },
   "outputs": [],
   "source": [
    "for i, ck_missing_sub in enumerate(ck_missing_subs):\n",
    "    print(f'{len(ck_missing_subs) - i} remaining')\n",
    "    ck_missing_id = ck_missing_sub[\"id\"] # Get the id\n",
    "    print(f'working on {ck_missing_id}')\n",
    "    print(get_json_columns(ck_missing_sub, [\"id\",\"state\", \"subscribe_date\", \"unsubscribe_date\"]))\n",
    "    try:\n",
    "        scraped_ck_data = get_single_subscriber(subscriber_id=ck_missing_id)\n",
    "        print(get_json_columns(scraped_ck_data, [\"id\",\"state\", \"subscribe_date\", \"unsubscribe_date\"]))\n",
    "        new_state = scraped_ck_data[\"state\"]\n",
    "    except SubscriberDNE as s:\n",
    "        print('subscriber_DNE')\n",
    "        new_state = \"deleted\"\n",
    "        \n",
    "    sql_stmt = f'UPDATE subscriber_data SET state=\"{new_state}\" WHERE id = {ck_missing_id}'\n",
    "    print(sql_stmt)\n",
    "    updated_rows = cursor.execute(sql_stmt)\n",
    "    ck_missing_subs[i]['state'] = new_state"
   ]
  },
  {
   "cell_type": "code",
   "execution_count": null,
   "metadata": {
    "ExecuteTime": {
     "end_time": "2019-08-03T15:49:25.215770Z",
     "start_time": "2019-08-03T15:49:23.630269Z"
    },
    "hidden": true
   },
   "outputs": [],
   "source": [
    "# Refresh RDS data\n",
    "cursor.execute('SELECT * FROM subscriber_data'); \n",
    "all_rds_list = cursor.fetchall()\n",
    "all_rds_dict = {a['id']: a for a in all_rds_list}"
   ]
  },
  {
   "cell_type": "markdown",
   "metadata": {
    "heading_collapsed": true
   },
   "source": [
    "##### Fix RDS subs that are unsubscribed with no unsubscribe date"
   ]
  },
  {
   "cell_type": "code",
   "execution_count": null,
   "metadata": {
    "ExecuteTime": {
     "end_time": "2019-07-10T21:08:17.810731Z",
     "start_time": "2019-07-10T21:08:17.721724Z"
    },
    "hidden": true
   },
   "outputs": [],
   "source": [
    "# Get unsubscribers with no unsubscribe_date\n",
    "no_unsub_dates = [r for r in all_rds_list if r['state'] == 'cancelled' and not r['unsubscribe_date']]; \n",
    "len(no_unsub_dates), [get_json_columns(n, ['id', 'state', 'unsubscribe_date']) for n in no_unsub_dates[:3]]"
   ]
  },
  {
   "cell_type": "code",
   "execution_count": null,
   "metadata": {
    "ExecuteTime": {
     "end_time": "2019-07-10T21:08:05.729420Z",
     "start_time": "2019-07-10T21:08:04.783145Z"
    },
    "hidden": true
   },
   "outputs": [],
   "source": [
    "# Get the actual unsubscribe dates \n",
    "ck_app_session = get_ck_session()\n",
    "new_unsub_data = []\n",
    "for i, no_unsub_date in enumerate(no_unsub_dates):\n",
    "    print(i, no_unsub_date['id'], end='\\r')\n",
    "    unsub_datetime = scrape_unsub_datetime(no_unsub_date['id'], ck_app_session=ck_app_session)\n",
    "    unsub_date = datetime.strftime(unsub_datetime, '%Y-%m-%d')\n",
    "    new_unsub_data.append([unsub_date, no_unsub_date['id']])"
   ]
  },
  {
   "cell_type": "code",
   "execution_count": null,
   "metadata": {
    "ExecuteTime": {
     "end_time": "2019-07-10T21:00:49.088779Z",
     "start_time": "2019-07-10T21:00:47.359403Z"
    },
    "hidden": true
   },
   "outputs": [],
   "source": [
    "# update RDS\n",
    "cursor.executemany('UPDATE subscriber_data SET unsubscribe_date=%s WHERE id=%s', new_unsub_data)"
   ]
  },
  {
   "cell_type": "code",
   "execution_count": null,
   "metadata": {
    "ExecuteTime": {
     "end_time": "2019-07-10T21:05:59.320030Z",
     "start_time": "2019-07-10T21:05:43.044169Z"
    },
    "hidden": true
   },
   "outputs": [],
   "source": [
    "# update CK\n",
    "for i, (unsub_date, unsub_id) in enumerate(new_unsub_data):\n",
    "    print(f'Updating # {i} for {unsub_id}', end='\\r')\n",
    "    update_unsub_with_day(unsub_id, unsub_date)"
   ]
  },
  {
   "cell_type": "code",
   "execution_count": null,
   "metadata": {
    "hidden": true
   },
   "outputs": [],
   "source": [
    "# Refresh RDS and CK data\n",
    "cursor.execute('SELECT * FROM subscriber_data'); \n",
    "all_rds_list = cursor.fetchall()\n",
    "all_rds_dict = {a['id']: a for a in all_rds_list}"
   ]
  },
  {
   "cell_type": "markdown",
   "metadata": {
    "heading_collapsed": true
   },
   "source": [
    "##### Fix missing subs from RDS (that are in CK)"
   ]
  },
  {
   "cell_type": "code",
   "execution_count": null,
   "metadata": {
    "ExecuteTime": {
     "end_time": "2019-09-16T16:37:55.995626Z",
     "start_time": "2019-09-16T16:37:55.964430Z"
    },
    "hidden": true
   },
   "outputs": [],
   "source": [
    "rds_missing_subs = [a for a in all_ck_dict if a not in all_rds_dict]\n",
    "print(f'Missing subs from RDS: {len(rds_missing_subs)}, {\" \".join([str(r) for r in rds_missing_subs[:3]])}...')"
   ]
  },
  {
   "cell_type": "code",
   "execution_count": null,
   "metadata": {
    "ExecuteTime": {
     "end_time": "2019-09-16T16:39:14.272944Z",
     "start_time": "2019-09-16T16:39:14.005419Z"
    },
    "hidden": true
   },
   "outputs": [],
   "source": [
    "for rds_missing_sub_id in rds_missing_subs:\n",
    "    update_subscriber_in_rds(\n",
    "        rds_missing_sub_id, \n",
    "        conn.cursor(), \n",
    "        sub_data=all_ck_dict[rds_missing_sub_id], \n",
    "        session=session\n",
    "    )"
   ]
  },
  {
   "cell_type": "code",
   "execution_count": null,
   "metadata": {
    "ExecuteTime": {
     "end_time": "2019-07-10T23:35:05.843957Z",
     "start_time": "2019-07-10T23:35:04.435118Z"
    },
    "hidden": true
   },
   "outputs": [],
   "source": [
    "# Refresh RDS and CK data\n",
    "cursor.execute('SELECT * FROM subscriber_data'); \n",
    "all_rds_list = cursor.fetchall()\n",
    "all_rds_dict = {a['id']: a for a in all_rds_list}"
   ]
  },
  {
   "cell_type": "code",
   "execution_count": null,
   "metadata": {
    "ExecuteTime": {
     "end_time": "2019-07-10T23:14:27.822532Z",
     "start_time": "2019-07-10T23:14:25.682672Z"
    },
    "hidden": true
   },
   "outputs": [],
   "source": [
    "logging.getLogger().setLevel(logging.INFO)\n",
    "scrape_all_email_data(conn, exclude_freshness=1)"
   ]
  },
  {
   "cell_type": "markdown",
   "metadata": {
    "heading_collapsed": true
   },
   "source": [
    "##### Fix incorrect States"
   ]
  },
  {
   "cell_type": "code",
   "execution_count": null,
   "metadata": {
    "ExecuteTime": {
     "end_time": "2019-07-30T18:34:14.946728Z",
     "start_time": "2019-07-30T18:34:14.873526Z"
    },
    "hidden": true
   },
   "outputs": [],
   "source": [
    "# subs in RDS that don't match the CK state (active)\n",
    "incorrect_states_1 = [a for a in all_rds_dict if a in all_ck_dict and all_ck_dict[a]['state'] != all_rds_dict[a]['state']]\n",
    "\n",
    "# subs that are active in RDS but not in CK\n",
    "incorrect_states_2 = [a for a in all_rds_dict if all_rds_dict[a]['state'] == 'active' and a not in all_ck_dict]"
   ]
  },
  {
   "cell_type": "code",
   "execution_count": null,
   "metadata": {
    "ExecuteTime": {
     "end_time": "2019-07-30T18:34:17.576298Z",
     "start_time": "2019-07-30T18:34:17.523389Z"
    },
    "hidden": true
   },
   "outputs": [],
   "source": [
    "for i in incorrect_states_1:\n",
    "    print(all_rds_dict[i])\n",
    "    print()\n",
    "    print(all_ck_dict[i])\n",
    "    print()\n",
    "    print()\n",
    "    print()\n"
   ]
  },
  {
   "cell_type": "code",
   "execution_count": null,
   "metadata": {
    "ExecuteTime": {
     "end_time": "2019-07-30T18:33:30.507644Z",
     "start_time": "2019-07-30T18:33:30.323239Z"
    },
    "hidden": true
   },
   "outputs": [],
   "source": [
    "values = [[all_ck_dict[i]['state'], i] for i in incorrect_states_1]\n",
    "cursor.executemany('UPDATE subscriber_data SET state = %s WHERE id = %s', values)"
   ]
  },
  {
   "cell_type": "code",
   "execution_count": null,
   "metadata": {
    "ExecuteTime": {
     "end_time": "2019-07-30T18:33:32.013984Z",
     "start_time": "2019-07-30T18:33:31.961985Z"
    },
    "hidden": true
   },
   "outputs": [],
   "source": [
    "conn.commit()"
   ]
  },
  {
   "cell_type": "code",
   "execution_count": null,
   "metadata": {
    "ExecuteTime": {
     "end_time": "2019-07-10T23:51:11.292501Z",
     "start_time": "2019-07-10T23:51:07.031618Z"
    },
    "hidden": true
   },
   "outputs": [],
   "source": [
    "cursor.execute('SELECT * FROM subscriber_data'); \n",
    "all_rds_list = cursor.fetchall()\n",
    "all_rds_dict = {a['id']: a for a in all_rds_list}"
   ]
  },
  {
   "cell_type": "markdown",
   "metadata": {
    "heading_collapsed": true
   },
   "source": [
    "##### unnecessary unsub date"
   ]
  },
  {
   "cell_type": "code",
   "execution_count": null,
   "metadata": {
    "ExecuteTime": {
     "end_time": "2019-09-16T16:53:49.923973Z",
     "start_time": "2019-09-16T16:53:49.870091Z"
    },
    "hidden": true
   },
   "outputs": [],
   "source": [
    "len(err_unsub_date), err_unsub_date[:3]"
   ]
  },
  {
   "cell_type": "code",
   "execution_count": null,
   "metadata": {
    "ExecuteTime": {
     "end_time": "2019-09-16T16:54:07.919456Z",
     "start_time": "2019-09-16T16:54:06.824338Z"
    },
    "hidden": true
   },
   "outputs": [],
   "source": [
    "for sub_id in err_unsub_date:\n",
    "    update_ck_sub_with_misc(sub_id, session=session, unsubscribe_date=None)\n",
    "    cursor.execute(f'UPDATE subscriber_data SET unsubscribe_date=NULL WHERE id={sub_id}')\n",
    "conn.commit()"
   ]
  },
  {
   "cell_type": "code",
   "execution_count": null,
   "metadata": {
    "ExecuteTime": {
     "end_time": "2019-08-03T18:10:16.028228Z",
     "start_time": "2019-08-03T18:10:15.952812Z"
    },
    "hidden": true
   },
   "outputs": [],
   "source": [
    "# Legacy"
   ]
  },
  {
   "cell_type": "code",
   "execution_count": null,
   "metadata": {
    "ExecuteTime": {
     "end_time": "2019-07-11T00:00:08.556242Z",
     "start_time": "2019-07-11T00:00:02.590396Z"
    },
    "hidden": true
   },
   "outputs": [],
   "source": [
    "for i, sub_id in enumerate(err_unsub_date):\n",
    "    print(f'Updating {i}, {sub_id}', end='\\r')\n",
    "    update_unsub_with_day(sub_id, day=None)\n",
    "    cursor.execute(f'UPDATE subscriber_data SET unsubscribe_date=NULL WHERE id={sub_id}')"
   ]
  },
  {
   "cell_type": "code",
   "execution_count": null,
   "metadata": {
    "ExecuteTime": {
     "end_time": "2019-07-11T00:01:01.985920Z",
     "start_time": "2019-07-11T00:00:57.082311Z"
    },
    "hidden": true
   },
   "outputs": [],
   "source": [
    "cursor.execute('SELECT * FROM subscriber_data'); \n",
    "all_rds_list = cursor.fetchall()\n",
    "all_rds_dict = {a['id']: a for a in all_rds_list}\n"
   ]
  },
  {
   "cell_type": "markdown",
   "metadata": {
    "heading_collapsed": true
   },
   "source": [
    "##### Missing Freshness Data"
   ]
  },
  {
   "cell_type": "code",
   "execution_count": null,
   "metadata": {
    "ExecuteTime": {
     "end_time": "2019-07-11T00:06:43.270467Z",
     "start_time": "2019-07-11T00:06:19.464933Z"
    },
    "hidden": true
   },
   "outputs": [],
   "source": [
    "for sub_id in missing_freshness_ids + no_email_subscribers:\n",
    "    email_data = scrape_email_list(sub_id, ck_app_session)\n",
    "    print(f'Got {len(email_data)} emails for {sub_id}. ', end=' ')\n",
    "    rows = save_email_data(sub_id, email_data, conn)\n",
    "    print(f'Wrote {rows} emails ')"
   ]
  },
  {
   "cell_type": "markdown",
   "metadata": {
    "heading_collapsed": true
   },
   "source": [
    "##### Correct no subscribe_date"
   ]
  },
  {
   "cell_type": "code",
   "execution_count": null,
   "metadata": {
    "ExecuteTime": {
     "end_time": "2019-09-16T16:42:39.679989Z",
     "start_time": "2019-09-16T16:42:39.621484Z"
    },
    "hidden": true
   },
   "outputs": [],
   "source": [
    "no_subscribe_date_rds[0]\n",
    "# update_single_subscriber??"
   ]
  },
  {
   "cell_type": "code",
   "execution_count": null,
   "metadata": {
    "ExecuteTime": {
     "end_time": "2019-09-16T16:44:36.731969Z",
     "start_time": "2019-09-16T16:44:36.625422Z"
    },
    "hidden": true
   },
   "outputs": [],
   "source": [
    "# Method as of 9/16/19\n",
    "# nones = [None, 'null', ''];\n",
    "# for sub_id in no_subscribe_date_rds:\n",
    "#     sub_data = all_ck_dict[sub_id]\n",
    "#     if sub_data['subscribe_date'] in nones:\n",
    "#         if sub_data['state'] in ['active', 'cancelled']:\n",
    "#             if 'mailchimp_sub_date' in sub_data and sub_data['mailchimp_sub_date']:\n",
    "#                 subscribe_date = mailchimp_conv(sub_data['mailchimp_sub_date'])\n",
    "#             else:\n",
    "#                 subscribe_date = created_at_conv(sub_data['created_at'])\n",
    "#         else: \n",
    "#             raise Exception('non-active and non-cancelled states not designed for yet')\n",
    "#         break\n",
    "#         sub_data['subscribe_date'] = subscribe_date"
   ]
  },
  {
   "cell_type": "code",
   "execution_count": null,
   "metadata": {
    "ExecuteTime": {
     "end_time": "2019-09-16T16:51:53.931521Z",
     "start_time": "2019-09-16T16:51:36.915257Z"
    },
    "hidden": true
   },
   "outputs": [],
   "source": [
    "# Method as of 8/3/19\n",
    "for i, sub_id in enumerate(no_subscribe_date_rds):\n",
    "    print(f'getting {i}/{len(no_subscribe_date_rds)}', end='\\r')\n",
    "    update_single_subscriber(\n",
    "        sub_id, \n",
    "        cursor, \n",
    "        ck_app_session=ck_app_session, \n",
    "        do_location=False\n",
    "    )"
   ]
  },
  {
   "cell_type": "code",
   "execution_count": null,
   "metadata": {
    "ExecuteTime": {
     "end_time": "2019-08-03T18:05:31.395825Z",
     "start_time": "2019-08-03T18:05:31.303410Z"
    },
    "hidden": true
   },
   "outputs": [],
   "source": [
    "# Legacy Method"
   ]
  },
  {
   "cell_type": "code",
   "execution_count": null,
   "metadata": {
    "ExecuteTime": {
     "end_time": "2019-07-11T19:54:20.666302Z",
     "start_time": "2019-07-11T19:54:19.780286Z"
    },
    "hidden": true
   },
   "outputs": [],
   "source": [
    "new_sub_data = []\n",
    "for no_sub_date_id in no_subscribe_date_rds:\n",
    "    new_sub_data.append([get_subscribe_date_from_email_click(no_sub_date_id, conn, force_date=True), no_sub_date_id])\n",
    "new_sub_data"
   ]
  },
  {
   "cell_type": "code",
   "execution_count": null,
   "metadata": {
    "hidden": true
   },
   "outputs": [],
   "source": [
    "cursor.executemany('UPDATE subscriber_data SET subscribe_date=%s WHERE id=%s', new_sub_data)"
   ]
  },
  {
   "cell_type": "code",
   "execution_count": null,
   "metadata": {
    "hidden": true
   },
   "outputs": [],
   "source": [
    "# refresh RDS Data\n",
    "cursor.execute('SELECT * FROM subscriber_data'); \n",
    "all_rds_list = cursor.fetchall()\n",
    "all_rds_dict = {a['id']: a for a in all_rds_list}"
   ]
  },
  {
   "cell_type": "code",
   "execution_count": null,
   "metadata": {
    "ExecuteTime": {
     "end_time": "2019-07-11T20:04:34.222107Z",
     "start_time": "2019-07-11T20:04:32.399817Z"
    },
    "hidden": true
   },
   "outputs": [],
   "source": [
    "for i, no_sub_date_id in enumerate(no_subscribe_date_ck):\n",
    "    if no_sub_date_id not in all_rds_dict:\n",
    "        print(f'Still waiting on data for {no_sub_date_id}')\n",
    "        continue\n",
    "    update_ck_sub_with_misc(no_sub_date_id, session=session, **{'subscribe_date':all_rds_dict[no_sub_date_id]['subscribe_date']})\n",
    "    print(f'updated #{i}, {no_sub_date_id}', end='\\r')"
   ]
  },
  {
   "cell_type": "markdown",
   "metadata": {
    "ExecuteTime": {
     "end_time": "2019-07-10T23:33:38.926521Z",
     "start_time": "2019-07-10T23:33:34.825464Z"
    },
    "heading_collapsed": true
   },
   "source": [
    "##### Other"
   ]
  },
  {
   "cell_type": "code",
   "execution_count": null,
   "metadata": {
    "ExecuteTime": {
     "end_time": "2019-07-11T18:33:10.945232Z",
     "start_time": "2019-07-11T18:33:10.258940Z"
    },
    "hidden": true
   },
   "outputs": [],
   "source": [
    "# Get step function execution subscribers to ignore\n",
    "get_id = lambda x: int(re.match(r'.*?_(\\d+)', x).group(1))\n",
    "recent_execution = lambda x: x['stopDate'] > datetime.now().astimezone(pytz.timezone('US/Eastern')) - timedelta(hours=1)\n",
    "client = boto3.client('stepfunctions')\n",
    "sub_arn = 'arn:aws:states:us-east-1:787744691769:stateMachine:CK_Subscription'\n",
    "running_executions = client.list_executions(stateMachineArn=sub_arn, statusFilter='RUNNING')['executions']\n",
    "success_executions = client.list_executions(stateMachineArn=sub_arn, statusFilter='SUCCEEDED')['executions']\n",
    "executions = running_executions + [e for e in success_executions if recent_execution(e)]\n",
    "processing_subs = [get_id(e['name']) for e in executions]; len(processing_subs), processing_subs"
   ]
  },
  {
   "cell_type": "code",
   "execution_count": null,
   "metadata": {
    "ExecuteTime": {
     "end_time": "2019-07-11T18:26:26.290661Z",
     "start_time": "2019-07-11T18:26:26.259285Z"
    },
    "hidden": true
   },
   "outputs": [],
   "source": [
    "sub_id = re.match(r'.*?_(\\d+)(_.*?)?', 'a_517497884').group(1)"
   ]
  },
  {
   "cell_type": "code",
   "execution_count": null,
   "metadata": {
    "ExecuteTime": {
     "end_time": "2019-07-11T18:30:22.589239Z",
     "start_time": "2019-07-11T18:30:22.543724Z"
    },
    "hidden": true
   },
   "outputs": [],
   "source": [
    "[e['name'] for e in executions['executions'] if e['stopDate'] > datetime.now().astimezone(pytz.timezone('US/Eastern')) - timedelta(hours=1)]"
   ]
  },
  {
   "cell_type": "code",
   "execution_count": null,
   "metadata": {
    "ExecuteTime": {
     "end_time": "2019-07-11T18:17:09.030881Z",
     "start_time": "2019-07-11T18:17:09.002648Z"
    },
    "hidden": true
   },
   "outputs": [],
   "source": [
    "processing_subs"
   ]
  },
  {
   "cell_type": "code",
   "execution_count": null,
   "metadata": {
    "ExecuteTime": {
     "end_time": "2019-07-11T18:16:34.548199Z",
     "start_time": "2019-07-11T18:16:34.519087Z"
    },
    "hidden": true
   },
   "outputs": [],
   "source": [
    "rds_missing_subs"
   ]
  },
  {
   "cell_type": "code",
   "execution_count": null,
   "metadata": {
    "hidden": true
   },
   "outputs": [],
   "source": []
  },
  {
   "cell_type": "code",
   "execution_count": null,
   "metadata": {
    "ExecuteTime": {
     "end_time": "2019-07-10T23:34:11.027760Z",
     "start_time": "2019-07-10T23:34:10.892988Z"
    },
    "hidden": true
   },
   "outputs": [],
   "source": [
    "conn.commit()"
   ]
  },
  {
   "cell_type": "code",
   "execution_count": null,
   "metadata": {
    "ExecuteTime": {
     "end_time": "2019-06-27T16:58:21.837106Z",
     "start_time": "2019-06-27T16:57:55.917033Z"
    },
    "hidden": true
   },
   "outputs": [],
   "source": [
    "# Add subscriber data to RDS\n",
    "for sub_id in missing_subs:\n",
    "    if email in processing_subs: continue\n",
    "\n",
    "    sub_id = get_single_subscriber(email_address=email, session=session)['id']\n",
    "    print(sub_id)\n",
    "    print(update_single_subscriber(sub_id, conn))\n",
    "    input(\"continue?\")"
   ]
  },
  {
   "cell_type": "code",
   "execution_count": null,
   "metadata": {
    "ExecuteTime": {
     "end_time": "2019-06-27T16:21:48.182920Z",
     "start_time": "2019-06-27T16:21:48.031712Z"
    },
    "hidden": true
   },
   "outputs": [],
   "source": [
    "conn.commit()"
   ]
  },
  {
   "cell_type": "code",
   "execution_count": null,
   "metadata": {
    "ExecuteTime": {
     "end_time": "2019-06-05T23:02:47.590374Z",
     "start_time": "2019-06-05T23:02:47.395586Z"
    },
    "hidden": true
   },
   "outputs": [],
   "source": [
    "cursor.quick_info(email_address='eurilaann.gonzales@yahoo.com')"
   ]
  },
  {
   "cell_type": "markdown",
   "metadata": {
    "heading_collapsed": true
   },
   "source": [
    "#### Correct Launch Data for no-subscriber Purchases"
   ]
  },
  {
   "cell_type": "code",
   "execution_count": null,
   "metadata": {
    "hidden": true
   },
   "outputs": [],
   "source": [
    "# Evaluate and correct launch names\n",
    "# cursor.e('SELECT * FROM purchase_data WHERE launch=\"Giveaway\"')\n",
    "# cursor.e('UPDATE purchase_data SET purchase_value=0 WHERE launch=\"Giveaway\"')\n",
    "# cursor.e('UPDATE IGNORE launch_data SET launch=\"Giveaway\" WHERE launch=\"Unknown\"')"
   ]
  },
  {
   "cell_type": "code",
   "execution_count": null,
   "metadata": {
    "hidden": true
   },
   "outputs": [],
   "source": [
    "# When people purchase from a new email address, they don't have any information."
   ]
  },
  {
   "cell_type": "code",
   "execution_count": null,
   "metadata": {
    "ExecuteTime": {
     "end_time": "2019-08-13T19:56:53.163331Z",
     "start_time": "2019-08-13T19:56:53.107130Z"
    },
    "hidden": true
   },
   "outputs": [],
   "source": [
    "purchasers = set([a for b in cursor.e('SELECT subscriber_id, purchaser_id, launch FROM purchase_data') for a in ((b['launch'] if b['launch'] else 'Unknown', b['subscriber_id']), (b['launch'] if b['launch'] else 'Unknown',b['purchaser_id']))])\n",
    "values = [p for p in purchasers if p[1]]; len(values), values[:2]"
   ]
  },
  {
   "cell_type": "code",
   "execution_count": null,
   "metadata": {
    "ExecuteTime": {
     "end_time": "2019-08-07T15:13:25.926330Z",
     "start_time": "2019-08-07T15:13:25.810361Z"
    },
    "hidden": true
   },
   "outputs": [],
   "source": [
    "sql_stmt = \"\"\"INSERT IGNORE INTO launch_data (`launch`, `subscriber_id`) VALUES (%s, %s)\"\"\"\n",
    "updated_rows = cursor.e(sql_stmt, values=values, many=True)"
   ]
  },
  {
   "cell_type": "code",
   "execution_count": null,
   "metadata": {
    "ExecuteTime": {
     "end_time": "2019-08-07T15:13:30.581232Z",
     "start_time": "2019-08-07T15:13:30.522926Z"
    },
    "hidden": true
   },
   "outputs": [],
   "source": [
    "updated_rows"
   ]
  },
  {
   "cell_type": "markdown",
   "metadata": {
    "heading_collapsed": true
   },
   "source": [
    "#### Incorrect optins (based on email and forms)"
   ]
  },
  {
   "cell_type": "markdown",
   "metadata": {
    "heading_collapsed": true,
    "hidden": true
   },
   "source": [
    "##### Get all the data needed"
   ]
  },
  {
   "cell_type": "code",
   "execution_count": null,
   "metadata": {
    "ExecuteTime": {
     "end_time": "2019-08-03T23:19:15.888481Z",
     "start_time": "2019-08-03T23:19:14.303345Z"
    },
    "hidden": true
   },
   "outputs": [],
   "source": [
    "# RDS Data\n",
    "cursor.execute('SELECT * FROM subscriber_data'); \n",
    "all_rds_list = cursor.fetchall()\n",
    "all_rds_dict = {a['id']: a for a in all_rds_list}"
   ]
  },
  {
   "cell_type": "code",
   "execution_count": null,
   "metadata": {
    "ExecuteTime": {
     "end_time": "2019-08-03T23:19:28.408134Z",
     "start_time": "2019-08-03T23:19:16.733815Z"
    },
    "hidden": true
   },
   "outputs": [],
   "source": [
    "sql_stmt = \"\"\"\\\n",
    "SELECT e.subscriber_id, e.email_id, e.email_name, e.deliver_date, e.open_date, e.click_date\n",
    "FROM email_data e \n",
    "\"\"\"\n",
    "mysql_email_data = cursor.e(sql_stmt); len(mysql_email_data)"
   ]
  },
  {
   "cell_type": "code",
   "execution_count": null,
   "metadata": {
    "ExecuteTime": {
     "end_time": "2019-08-03T21:46:25.749791Z",
     "start_time": "2019-08-03T21:46:23.579465Z"
    },
    "hidden": true
   },
   "outputs": [],
   "source": [
    "# Go through all emails. If it is the first or min, update that item in subscriber dict, otherwise move on\n",
    "email_data = {}\n",
    "def min_date(x):\n",
    "    dates=['deliver_date', 'click_date', 'open_date']\n",
    "    for date in dates:\n",
    "        x[date] = x[date] if x[date] else datetime.now()\n",
    "    return min(x[date] for date in dates)\n",
    "    \n",
    "for i, m in enumerate(mysql_email_data):\n",
    "    if m['subscriber_id'] not in email_data or min_date(m) < min_date(email_data[m['subscriber_id']]):\n",
    "        email_data[m['subscriber_id']] = m"
   ]
  },
  {
   "cell_type": "code",
   "execution_count": null,
   "metadata": {
    "ExecuteTime": {
     "end_time": "2019-08-03T21:46:26.482112Z",
     "start_time": "2019-08-03T21:46:26.188079Z"
    },
    "hidden": true
   },
   "outputs": [],
   "source": [
    "# Add the optins\n",
    "for k in email_data:\n",
    "    if k not in all_rds_dict: \n",
    "        print(f'issue with {k}')\n",
    "        continue\n",
    "    email_data[k]['lead_opt-in'] = all_rds_dict[k]['lead_opt-in']"
   ]
  },
  {
   "cell_type": "code",
   "execution_count": null,
   "metadata": {
    "ExecuteTime": {
     "end_time": "2019-08-03T21:46:28.182718Z",
     "start_time": "2019-08-03T21:46:27.886531Z"
    },
    "hidden": true
   },
   "outputs": [],
   "source": [
    "email_data[180021887]"
   ]
  },
  {
   "cell_type": "markdown",
   "metadata": {
    "heading_collapsed": true,
    "hidden": true
   },
   "source": [
    "##### Make updates"
   ]
  },
  {
   "cell_type": "code",
   "execution_count": null,
   "metadata": {
    "ExecuteTime": {
     "end_time": "2019-08-03T21:46:30.588195Z",
     "start_time": "2019-08-03T21:46:30.295254Z"
    },
    "hidden": true
   },
   "outputs": [],
   "source": [
    "set([a[\"lead_opt-in\"] for a in all_rds_list])"
   ]
  },
  {
   "cell_type": "code",
   "execution_count": null,
   "metadata": {
    "ExecuteTime": {
     "end_time": "2019-08-03T22:12:48.361690Z",
     "start_time": "2019-08-03T22:10:44.016203Z"
    },
    "hidden": true
   },
   "outputs": [],
   "source": [
    "# Make a list of acceptable pairings; if not in, confirm, then add to or mark as not ok\n",
    "# ok_pairings = []\n",
    "# fixed = []\n",
    "# ignore = []\n",
    "\n",
    "comp = lambda x: set((o['email_id'], o['lead_opt-in']) for o in x)\n",
    "comp_only_email_id = lambda x: set(o['email_id'] for o in x)\n",
    "\n",
    "for i, email_datum in enumerate(email_data.values()): # We have it saved and it is right already\n",
    "    if i < 19744: continue #shortcut\n",
    "    if 'lead_opt-in' not in email_datum: continue\n",
    "    print(f'Processing {i} / {len(email_data.values())}, fixed {len(fixed)}', end='\\r')\n",
    "    if (email_datum['email_id'], email_datum['lead_opt-in']) in comp(ok_pairings):\n",
    "        # No fix\n",
    "        if email_datum in ok_pairings: continue\n",
    "        ok_pairings.append(email_datum)\n",
    "    elif (email_datum['email_id'] in comp_only_email_id(ok_pairings)): #we have it saved, automatic fix\n",
    "        # automatic fix\n",
    "        correct_opt_in = [e for e in ok_pairings if e['email_id'] == email_datum['email_id']][0]['lead_opt-in']\n",
    "        email_datum['lead_opt-in'] = correct_opt_in\n",
    "        cursor.e('UPDATE subscriber_data SET `lead_opt-in`=%s WHERE id=%s', values=[correct_opt_in, email_datum['subscriber_id']])\n",
    "        fixed.append(email_datum)\n",
    "    else:\n",
    "        # Manual fix\n",
    "        print(f'Processing {i} / {len(email_data.values())}')\n",
    "        print(f'ok_pairings: {len(ok_pairings)}, fixed: {len(fixed)}')\n",
    "        print(email_datum)\n",
    "        correct_opt_in = input('What is the corrent pairing? Blank if it is correct: ')\n",
    "        if correct_opt_in == 'ignore':\n",
    "            clear_output()\n",
    "            continue\n",
    "        elif correct_opt_in: \n",
    "            email_datum['lead_opt-in'] = correct_opt_in\n",
    "            cursor.e('UPDATE subscriber_data SET `lead_opt-in`=%s WHERE id=%s', values=[correct_opt_in, email_datum['subscriber_id']])\n",
    "        ok_pairings.append(email_datum)\n",
    "        clear_output()\n",
    "        "
   ]
  },
  {
   "cell_type": "code",
   "execution_count": null,
   "metadata": {
    "ExecuteTime": {
     "end_time": "2019-08-03T22:09:54.753163Z",
     "start_time": "2019-08-03T22:09:54.478696Z"
    },
    "hidden": true
   },
   "outputs": [],
   "source": [
    "list(enumerate(email_data.values()))[19744]"
   ]
  },
  {
   "cell_type": "code",
   "execution_count": null,
   "metadata": {
    "hidden": true
   },
   "outputs": [],
   "source": [
    "ok_pairings: 9496, fixed: 6555"
   ]
  },
  {
   "cell_type": "code",
   "execution_count": null,
   "metadata": {
    "hidden": true
   },
   "outputs": [],
   "source": [
    "# Next go through unknown and see if they signed up for a form"
   ]
  },
  {
   "cell_type": "code",
   "execution_count": null,
   "metadata": {
    "ExecuteTime": {
     "end_time": "2019-08-03T20:16:41.632419Z",
     "start_time": "2019-08-03T20:16:35.788954Z"
    },
    "hidden": true
   },
   "outputs": [],
   "source": [
    "d = get_api_data(CK_Api.FORM_SUBS, 341476, session=session)\n",
    "len(d)"
   ]
  },
  {
   "cell_type": "code",
   "execution_count": null,
   "metadata": {
    "hidden": true
   },
   "outputs": [],
   "source": [
    "295490: sketchbook mini-course\n",
    "975316: special case for ebook (155418278)\n",
    "1024896: Sketchbook to Style Boot Camp\n",
    "750878: MCDT\n",
    "341476: MCDT\n",
    "1139190: MCDT\n",
    "sub: 180021887 Something is up with early incentive emails\n",
    "387829: studiomates waitlist"
   ]
  },
  {
   "cell_type": "code",
   "execution_count": null,
   "metadata": {
    "ExecuteTime": {
     "end_time": "2019-08-03T19:02:16.203745Z",
     "start_time": "2019-08-03T19:02:16.059258Z"
    },
    "hidden": true
   },
   "outputs": [],
   "source": [
    "email_data_temp = cursor.e('SELECT * FROM email_data e WHERE subscriber_id=137632701');email_data_temp[0]\n"
   ]
  },
  {
   "cell_type": "code",
   "execution_count": null,
   "metadata": {
    "ExecuteTime": {
     "end_time": "2019-08-03T19:00:51.814811Z",
     "start_time": "2019-08-03T19:00:51.737499Z"
    },
    "hidden": true
   },
   "outputs": [],
   "source": [
    "min(a['deliver_date'] for a in email_data_temp)"
   ]
  },
  {
   "cell_type": "code",
   "execution_count": null,
   "metadata": {
    "hidden": true
   },
   "outputs": [],
   "source": [
    "# Assume that sequences continue and that tuesday broadcasts go out"
   ]
  },
  {
   "cell_type": "markdown",
   "metadata": {
    "heading_collapsed": true,
    "hidden": true
   },
   "source": [
    "##### Update CK"
   ]
  },
  {
   "cell_type": "code",
   "execution_count": null,
   "metadata": {
    "ExecuteTime": {
     "end_time": "2019-08-03T23:27:10.966730Z",
     "start_time": "2019-08-03T23:27:10.617645Z"
    },
    "hidden": true
   },
   "outputs": [],
   "source": [
    "# Get mismatches (only for lead_opt-in)\n",
    "# Only get the lead opt-in. If you get everything, you might make unnecessary update\n",
    "mismatches = [a for a in all_rds_dict if a in all_ck_dict and array_mismatch(all_rds_dict[a], all_ck_dict[a]) and 'lead_opt-in' in array_mismatch(all_rds_dict[a], all_ck_dict[a])]\n",
    "len(mismatches)"
   ]
  },
  {
   "cell_type": "code",
   "execution_count": null,
   "metadata": {
    "ExecuteTime": {
     "end_time": "2019-08-03T23:28:53.589663Z",
     "start_time": "2019-08-03T23:27:35.213317Z"
    },
    "hidden": true
   },
   "outputs": [],
   "source": [
    "try:\n",
    "    for i, a in enumerate(mismatches):\n",
    "#         if i < 567: continue\n",
    "        print(f'Updating {i} / {len(mismatches)}', end='\\r')\n",
    "        fields = {k:all_rds_dict[a][k] for k in array_mismatch(all_rds_dict[a], all_ck_dict[a]).keys()}\n",
    "        update_ck_sub_with_misc(a, session=session, **fields)\n",
    "#         clear_output()\n",
    "except KeyboardInterrupt as k:\n",
    "    pass # Allow keyboard break"
   ]
  },
  {
   "cell_type": "markdown",
   "metadata": {
    "heading_collapsed": true,
    "hidden": true
   },
   "source": [
    "##### Check results"
   ]
  },
  {
   "cell_type": "code",
   "execution_count": null,
   "metadata": {
    "ExecuteTime": {
     "end_time": "2019-08-03T22:13:35.907445Z",
     "start_time": "2019-08-03T22:13:35.134001Z"
    },
    "hidden": true
   },
   "outputs": [],
   "source": [
    "mismatches = [a for a in all_rds_dict if a in all_ck_dict and array_mismatch(all_rds_dict[a], all_ck_dict[a])]\n",
    "print(f'Total mismatches: {len(mismatches)}')"
   ]
  },
  {
   "cell_type": "code",
   "execution_count": null,
   "metadata": {
    "ExecuteTime": {
     "end_time": "2019-08-03T22:14:11.287391Z",
     "start_time": "2019-08-03T22:14:10.984327Z"
    },
    "hidden": true
   },
   "outputs": [],
   "source": [
    "mismatches[800]"
   ]
  },
  {
   "cell_type": "markdown",
   "metadata": {
    "heading_collapsed": true
   },
   "source": [
    "#### Unknown Optins (MailChimp also)"
   ]
  },
  {
   "cell_type": "markdown",
   "metadata": {
    "heading_collapsed": true,
    "hidden": true
   },
   "source": [
    "##### Using Forms"
   ]
  },
  {
   "cell_type": "code",
   "execution_count": null,
   "metadata": {
    "ExecuteTime": {
     "end_time": "2019-08-03T22:27:40.452752Z",
     "start_time": "2019-08-03T22:27:40.022974Z"
    },
    "hidden": true
   },
   "outputs": [],
   "source": [
    "unknowns = cursor.e('SELECT * FROM subscriber_data WHERE `lead_opt-in`=\"Unknown\"'); len(unknowns)"
   ]
  },
  {
   "cell_type": "code",
   "execution_count": null,
   "metadata": {
    "ExecuteTime": {
     "end_time": "2019-08-03T22:34:53.119085Z",
     "start_time": "2019-08-03T22:34:52.777526Z"
    },
    "hidden": true
   },
   "outputs": [],
   "source": [
    "list(email_data.keys())[:3]"
   ]
  },
  {
   "cell_type": "code",
   "execution_count": null,
   "metadata": {
    "ExecuteTime": {
     "end_time": "2019-08-03T23:08:13.814684Z",
     "start_time": "2019-08-03T23:08:13.418605Z"
    },
    "hidden": true
   },
   "outputs": [],
   "source": [
    "# Get all the form data, see if they signed up for a form at similar time to first email\n",
    "forms = {g['id']: g['name'] for g in get_api_data(CK_Api.FORM_LIST, None, session=session)}; forms"
   ]
  },
  {
   "cell_type": "code",
   "execution_count": null,
   "metadata": {
    "ExecuteTime": {
     "end_time": "2019-08-03T22:33:26.886219Z",
     "start_time": "2019-08-03T22:32:31.692725Z"
    },
    "hidden": true
   },
   "outputs": [],
   "source": [
    "form_subs = {}\n",
    "for form in forms.items():\n",
    "    form_subs[form[0]] = get_api_data(CK_Api.FORM_SUBS, form[0], session=session)"
   ]
  },
  {
   "cell_type": "code",
   "execution_count": null,
   "metadata": {
    "hidden": true
   },
   "outputs": [],
   "source": [
    "# Need to know, for each unknown, if there was a form that they joined near when they got their first email"
   ]
  },
  {
   "cell_type": "code",
   "execution_count": null,
   "metadata": {
    "ExecuteTime": {
     "end_time": "2019-08-03T22:58:59.194420Z",
     "start_time": "2019-08-03T22:58:58.491076Z"
    },
    "hidden": true
   },
   "outputs": [],
   "source": [
    "# Get the earliest form for each subscriber\n",
    "sub_forms = {}\n",
    "for i, (form_id, form_subscriptions) in enumerate(form_subs.items()):\n",
    "    print(f'Processing {i} / {len(form_subs)}', end='\\r')\n",
    "    for form_subscription in form_subscriptions:\n",
    "        sub_id = form_subscription['subscriber']['id']\n",
    "        if sub_id not in [u['id'] for u in unknowns]: continue\n",
    "        created_at = created_to_dt(form_subscription['created_at'])\n",
    "        if created_at < sub_forms.get(sub_id, {}).get('dt', datetime.now()):\n",
    "            sub_data = {\n",
    "                'form': form_id, \n",
    "                'dt': created_to_dt(form_subscription['created_at']),\n",
    "                'sub_create': created_to_dt(form_subscription['subscriber']['created_at'])\n",
    "            }\n",
    "            sub_forms[sub_id] = sub_data"
   ]
  },
  {
   "cell_type": "code",
   "execution_count": null,
   "metadata": {
    "ExecuteTime": {
     "end_time": "2019-08-03T23:04:29.990114Z",
     "start_time": "2019-08-03T23:04:29.544992Z"
    },
    "hidden": true
   },
   "outputs": [],
   "source": [
    "deltas = []\n",
    "for k,v in sub_forms.items():\n",
    "    deltas.append(v['dt']- v['sub_create'])\n",
    "deltas = [d.total_seconds()/60/60/24 for d in deltas if d.total_seconds()/60/60/24<100]\n",
    "plt.plot(deltas)"
   ]
  },
  {
   "cell_type": "code",
   "execution_count": null,
   "metadata": {
    "ExecuteTime": {
     "end_time": "2019-08-03T23:09:13.871540Z",
     "start_time": "2019-08-03T23:09:13.566965Z"
    },
    "hidden": true
   },
   "outputs": [],
   "source": [
    "set((v['form'], forms[v['form']]) for v in sub_forms.values())"
   ]
  },
  {
   "cell_type": "code",
   "execution_count": null,
   "metadata": {
    "hidden": true
   },
   "outputs": [],
   "source": [
    "{'Book Making',\n",
    " 'Emails',\n",
    " 'Influence Map',\n",
    " 'MCDT',\n",
    " 'Mailchimp',\n",
    " 'Mini-course',\n",
    " None,\n",
    " 'Sketchbook Mini-course',\n",
    " 'StSBC WL',\n",
    " 'Studiomates WL',\n",
    " 'Style Mini-course',\n",
    " 'Tools',\n",
    " 'Unknown',\n",
    " 'WAF Activity Guide',\n",
    " 'WAF ebook'}"
   ]
  },
  {
   "cell_type": "code",
   "execution_count": null,
   "metadata": {
    "ExecuteTime": {
     "end_time": "2019-08-03T23:11:51.422964Z",
     "start_time": "2019-08-03T23:11:51.094037Z"
    },
    "hidden": true
   },
   "outputs": [],
   "source": [
    "forms_key = {\n",
    "    272065: 'Tools',\n",
    "    272096: 'WAF ebook',\n",
    "    272097: 'Book Making',\n",
    "    295490: 'Sketchbook Mini-course',\n",
    "    330122: 'StSBC WL',\n",
    "    341476: 'MCDT',\n",
    "    456516: 'Influence Map',\n",
    "    458062: 'Influence Map',\n",
    "    459136: 'Style Mini-course',\n",
    "    849443: 'Sketchbook to Style Boot Camp',\n",
    "    849450: 'Sketchbook to Style Boot Camp',\n",
    "    926369: 'Sketchbook to Style Boot Camp',\n",
    "    949995: 'Emails'}"
   ]
  },
  {
   "cell_type": "code",
   "execution_count": null,
   "metadata": {
    "ExecuteTime": {
     "end_time": "2019-08-03T23:14:12.959219Z",
     "start_time": "2019-08-03T23:14:11.454775Z"
    },
    "hidden": true
   },
   "outputs": [],
   "source": [
    "# if the delta is less than 10 days, then update the unknown with the form\n",
    "for k,v in sub_forms.items():\n",
    "    if (v['dt']- v['sub_create']).total_seconds()/60/60/24 < 10:\n",
    "        values = [forms_key[v['form']], k]\n",
    "        cursor.e('UPDATE subscriber_data SET `lead_opt-in`=%s WHERE id=%s', values=values)\n",
    "        print(values, v['form'])"
   ]
  },
  {
   "cell_type": "code",
   "execution_count": null,
   "metadata": {
    "ExecuteTime": {
     "end_time": "2019-08-03T23:14:20.180162Z",
     "start_time": "2019-08-03T23:14:19.805291Z"
    },
    "hidden": true
   },
   "outputs": [],
   "source": [
    "conn.commit()"
   ]
  },
  {
   "cell_type": "markdown",
   "metadata": {
    "hidden": true
   },
   "source": [
    "##### Using MailChimp"
   ]
  },
  {
   "cell_type": "code",
   "execution_count": null,
   "metadata": {
    "hidden": true
   },
   "outputs": [],
   "source": [
    "mailchimp_subs = [a for a in all_rds_list if a['mailchimp_sub_date'] and ((not a['lead_source'] or a['lead_source']=='Unknown') or (not a['lead_opt-in'] or a['lead_opt-in']=='Unknown'))]\n",
    "len(mailchimp_subs), next(iter(mailchimp_subs), None)\n",
    "nones = ['None', None, 'null', 'Unknown']\n",
    "for i, sub in enumerate(mailchimp_subs):\n",
    "    print(f'Updating # {i}/{len(mailchimp_subs)}', end='\\t\\r')\n",
    "    mc_data = {}\n",
    "    if sub['id'] < 1000000: continue\n",
    "    if sub['lead_source'] in nones: mc_data['lead_source'] = 'MailChimp'\n",
    "    if sub['lead_opt-in'] in nones: mc_data['lead_opt-in'] = 'MailChimp'\n",
    "    try:\n",
    "        clear_output()\n",
    "        print(mc_data)\n",
    "        print(sub)\n",
    "        input('continue?')\n",
    "        update_sub_everywhere_with_misc(sub['id'], cursor, session=session, **mc_data)\n",
    "\n",
    "    except KeyboardInterrupt as k:\n",
    "        break\n",
    "    except Exception as e:\n",
    "        pass"
   ]
  },
  {
   "cell_type": "code",
   "execution_count": null,
   "metadata": {
    "ExecuteTime": {
     "end_time": "2019-08-03T23:15:41.353345Z",
     "start_time": "2019-08-03T23:15:40.777325Z"
    },
    "hidden": true
   },
   "outputs": [],
   "source": [
    "cursor.e('UPDATE subscriber_data SET `lead_opt-in`=\"MailChimp\" WHERE `lead_opt-in`=\"Unknown\" and `lead_source`=\"MailChimp\"')"
   ]
  },
  {
   "cell_type": "code",
   "execution_count": null,
   "metadata": {
    "ExecuteTime": {
     "end_time": "2019-08-03T23:15:57.435334Z",
     "start_time": "2019-08-03T23:15:57.058419Z"
    },
    "hidden": true
   },
   "outputs": [],
   "source": [
    "conn.commit()"
   ]
  },
  {
   "cell_type": "markdown",
   "metadata": {
    "hidden": true
   },
   "source": [
    "##### Other"
   ]
  },
  {
   "cell_type": "code",
   "execution_count": null,
   "metadata": {
    "ExecuteTime": {
     "end_time": "2019-08-03T23:17:50.640366Z",
     "start_time": "2019-08-03T23:17:50.268132Z"
    },
    "hidden": true
   },
   "outputs": [],
   "source": [
    "test = [c['created_at'] for c in cursor.e('SELECT created_at FROM subscriber_data WHERE `lead_opt-in`=\"Unknown\" AND state=\"active\"')]"
   ]
  },
  {
   "cell_type": "code",
   "execution_count": null,
   "metadata": {
    "hidden": true
   },
   "outputs": [],
   "source": []
  },
  {
   "cell_type": "markdown",
   "metadata": {
    "heading_collapsed": true
   },
   "source": [
    "## Analysis"
   ]
  },
  {
   "cell_type": "markdown",
   "metadata": {
    "heading_collapsed": true,
    "hidden": true
   },
   "source": [
    "### Gather data from databases"
   ]
  },
  {
   "cell_type": "code",
   "execution_count": null,
   "metadata": {
    "ExecuteTime": {
     "end_time": "2019-08-06T21:22:36.945122Z",
     "start_time": "2019-08-06T21:22:36.904268Z"
    },
    "hidden": true
   },
   "outputs": [],
   "source": [
    "cursor.e('SELECT * FROM subscriber_data LIMIT 1')"
   ]
  },
  {
   "cell_type": "code",
   "execution_count": null,
   "metadata": {
    "ExecuteTime": {
     "end_time": "2019-08-05T19:44:05.266905Z",
     "start_time": "2019-08-05T19:44:02.971080Z"
    },
    "hidden": true
   },
   "outputs": [],
   "source": [
    "d = lambda pur: datetime.strptime(pur, '%Y-%m-%d') # Date conversion\n",
    "\n",
    "subs = cursor.e(\"SELECT * FROM subscriber_data\") # Get all subscribers\n",
    "purchases = cursor.e(\"SELECT * FROM purchase_data\") # Get all purchases\n",
    "purchases = [{'purchase_date': d(p['purchase_date']) if p['purchase_date'] else None, **p} for p in purchases]\n",
    "launches = cursor.e(\"SELECT * FROM launch_data\")\n",
    "locs = [[s['id'], (float(s['loc_lat']), float(s['loc_lng']))] for s in subs if s['loc_lat'] and s['loc_lng']]\n",
    "ids, coords = zip(*locs)\n",
    "countries = [iso3166.countries_by_alpha2.get(r['cc'], None).name for r in rg.search(coords, mode=1)]; len(countries)\n",
    "country_dict = {a[0]:a[1] for a in zip(ids,countries)} #dictionary of countries for subscriber id\n",
    "subs = [{**s, 'country': country_dict.get(s['id'], None)} for s in subs]\n",
    "sub_dict = {s['id']:s for s in subs}; len(countries) # Dictionary by id"
   ]
  },
  {
   "cell_type": "markdown",
   "metadata": {
    "heading_collapsed": true,
    "hidden": true
   },
   "source": [
    "### One-time Data clean up"
   ]
  },
  {
   "cell_type": "markdown",
   "metadata": {
    "hidden": true
   },
   "source": [
    "Replace low subscriber_id entries (make sure purchases are loaded)"
   ]
  },
  {
   "cell_type": "code",
   "execution_count": null,
   "metadata": {
    "ExecuteTime": {
     "end_time": "2019-06-03T19:28:09.867919Z",
     "start_time": "2019-06-03T19:28:09.842556Z"
    },
    "hidden": true
   },
   "outputs": [],
   "source": [
    "old_sub_ids = [p['subscriber_id'] for p in purchases if not sub_dict[p['subscriber_id']]['country']]; old_sub_ids"
   ]
  },
  {
   "cell_type": "code",
   "execution_count": null,
   "metadata": {
    "ExecuteTime": {
     "end_time": "2019-06-03T19:30:32.500351Z",
     "start_time": "2019-06-03T19:30:30.716754Z"
    },
    "hidden": true
   },
   "outputs": [],
   "source": [
    "for old_sub_id in old_sub_ids:\n",
    "    email_address = [p for p in purchases if p['subscriber_id']==old_sub_id][0]['email_address']; email_address\n",
    "        # Find the real id\n",
    "    try:\n",
    "        sub_data = get_single_subscriber(email_address=email_address, cancelled=True); sub_data\n",
    "        if sub_data['id'] == old_sub_id: continue # This one doesn't need an update\n",
    "\n",
    "        #     Create the real subscriber_data entry    \n",
    "        update_single_subscriber(sub_data['id'], conn)\n",
    "            # Update the purchase_data table with the new reference\n",
    "        sub_transition = [sub_data['id'], old_sub_id]; sub_transition\n",
    "        sql_stmt = 'UPDATE purchase_data SET subscriber_id=%s WHERE subscriber_id=%s'\n",
    "        updated_rows = cursor.execute(sql_stmt, sub_transition); updated_rows\n",
    "        if updated_rows == 0: raise Exception('no update')\n",
    "            # Delete the old subscriber_data entry\n",
    "        updated_rows = cursor.execute(f'DELETE from subscriber_data WHERE id={old_sub_id}'); updated_rows\n",
    "        if updated_rows == 0: raise Exception('no delete')\n",
    "            # verify no purchase data issues\n",
    "    except Exception as e:\n",
    "        print(old_sub_id, e)\n",
    "        continue"
   ]
  },
  {
   "cell_type": "code",
   "execution_count": null,
   "metadata": {
    "ExecuteTime": {
     "end_time": "2019-06-03T19:26:56.867694Z",
     "start_time": "2019-06-03T19:26:56.818847Z"
    },
    "hidden": true
   },
   "outputs": [],
   "source": [
    "cursor.execute('SELECT * FROM subscriber_data WHERE id=4603')"
   ]
  },
  {
   "cell_type": "code",
   "execution_count": null,
   "metadata": {
    "ExecuteTime": {
     "end_time": "2019-06-03T19:24:47.152009Z",
     "start_time": "2019-06-03T19:24:47.101565Z"
    },
    "hidden": true
   },
   "outputs": [],
   "source": [
    "conn.commit()"
   ]
  },
  {
   "cell_type": "code",
   "execution_count": null,
   "metadata": {
    "ExecuteTime": {
     "end_time": "2019-06-03T19:36:28.890034Z",
     "start_time": "2019-06-03T19:36:28.764615Z"
    },
    "hidden": true
   },
   "outputs": [],
   "source": []
  },
  {
   "cell_type": "code",
   "execution_count": null,
   "metadata": {
    "ExecuteTime": {
     "end_time": "2019-06-03T18:40:01.167427Z",
     "start_time": "2019-06-03T18:39:48.915419Z"
    },
    "hidden": true
   },
   "outputs": [],
   "source": [
    "# Try to do the update via the page\n",
    "for t in temp:\n",
    "    if t['subscriber_id']>20000:\n",
    "        print(update_single_subscriber(t['subscriber_id'], conn))"
   ]
  },
  {
   "cell_type": "code",
   "execution_count": null,
   "metadata": {
    "ExecuteTime": {
     "end_time": "2019-06-03T18:53:30.510311Z",
     "start_time": "2019-06-03T18:53:29.650238Z"
    },
    "hidden": true
   },
   "outputs": [],
   "source": [
    "manually_add_location(814, 'San Francisco', 'California', conn=conn)"
   ]
  },
  {
   "cell_type": "markdown",
   "metadata": {
    "hidden": true
   },
   "source": [
    "Fix subscribers with no subscription dates"
   ]
  },
  {
   "cell_type": "code",
   "execution_count": null,
   "metadata": {
    "ExecuteTime": {
     "end_time": "2019-06-03T20:32:20.022551Z",
     "start_time": "2019-06-03T20:32:19.908144Z"
    },
    "hidden": true
   },
   "outputs": [],
   "source": [
    "cursor.execute('SELECT * FROM subscriber_data WHERE subscribe_date IS NULL AND state != \"unknown\"'); data=cursor.fetchall()\n",
    "len(data)"
   ]
  },
  {
   "cell_type": "code",
   "execution_count": null,
   "metadata": {
    "ExecuteTime": {
     "end_time": "2019-06-03T20:33:58.360139Z",
     "start_time": "2019-06-03T20:33:58.296867Z"
    },
    "hidden": true
   },
   "outputs": [],
   "source": [
    "conv = lambda x: datetime.strptime(x, '%Y-%m-%dT%H:%M:%S.000Z').strftime('%Y-%m-%d')\n",
    "values = [[conv(d['created_at']), d['id']] for d in data]; values"
   ]
  },
  {
   "cell_type": "code",
   "execution_count": null,
   "metadata": {
    "ExecuteTime": {
     "end_time": "2019-06-03T20:34:33.854150Z",
     "start_time": "2019-06-03T20:34:19.995475Z"
    },
    "hidden": true
   },
   "outputs": [],
   "source": [
    "cursor.executemany('UPDATE subscriber_data SET subscribe_date=%s WHERE id=%s', values)"
   ]
  },
  {
   "cell_type": "code",
   "execution_count": null,
   "metadata": {
    "ExecuteTime": {
     "end_time": "2019-06-03T20:34:35.124065Z",
     "start_time": "2019-06-03T20:34:35.074160Z"
    },
    "hidden": true
   },
   "outputs": [],
   "source": [
    "conn.commit()"
   ]
  },
  {
   "cell_type": "markdown",
   "metadata": {
    "heading_collapsed": true,
    "hidden": true
   },
   "source": [
    "### Audience"
   ]
  },
  {
   "cell_type": "markdown",
   "metadata": {
    "hidden": true
   },
   "source": [
    "Create FB audience from subscriber file"
   ]
  },
  {
   "cell_type": "code",
   "execution_count": null,
   "metadata": {
    "ExecuteTime": {
     "end_time": "2019-06-20T20:25:50.196378Z",
     "start_time": "2019-06-20T20:25:50.147845Z"
    },
    "hidden": true
   },
   "outputs": [],
   "source": [
    "subscribers[0]"
   ]
  },
  {
   "cell_type": "code",
   "execution_count": null,
   "metadata": {
    "ExecuteTime": {
     "end_time": "2019-06-20T20:27:29.701536Z",
     "start_time": "2019-06-20T20:27:29.655323Z"
    },
    "hidden": true
   },
   "outputs": [],
   "source": [
    "header = ['email', 'fn', 'country', 'value']"
   ]
  },
  {
   "cell_type": "code",
   "execution_count": null,
   "metadata": {
    "ExecuteTime": {
     "end_time": "2019-06-20T20:26:02.453414Z",
     "start_time": "2019-06-20T20:26:02.377702Z"
    },
    "hidden": true
   },
   "outputs": [],
   "source": [
    "data= [[s['email_address'], s['first_name'], s['country'], s['purchase']] for s in subscribers]"
   ]
  },
  {
   "cell_type": "code",
   "execution_count": null,
   "metadata": {
    "ExecuteTime": {
     "end_time": "2019-06-20T20:29:00.291771Z",
     "start_time": "2019-06-20T20:29:00.169691Z"
    },
    "hidden": true
   },
   "outputs": [],
   "source": [
    "df = pd.DataFrame(data, columns=header)\n",
    "df.to_csv('/Users/nish/Downloads/subscribers.csv', index=False)"
   ]
  },
  {
   "cell_type": "markdown",
   "metadata": {
    "heading_collapsed": true,
    "hidden": true
   },
   "source": [
    "### Purchase / Launch Analysis"
   ]
  },
  {
   "cell_type": "code",
   "execution_count": null,
   "metadata": {
    "ExecuteTime": {
     "end_time": "2019-08-05T19:44:09.114332Z",
     "start_time": "2019-08-05T19:44:08.966006Z"
    },
    "hidden": true
   },
   "outputs": [],
   "source": [
    "def include(item, _all=True, **attrs):\n",
    "    \"\"\" \n",
    "    Parameters\n",
    "    ==========\n",
    "    item (dict): is purchase or launch, must have the \"subscriber_id\"\n",
    "    attr (kwarg): the aspect to evaluate\n",
    "    _all (bool): If true, use \"all\", otherwise use \"any\"\n",
    "    \"\"\"\n",
    "    bool_fn = all if _all else any\n",
    "        \n",
    "    attrs = {k:v if type(v) in [list, tuple] else [v] for k,v in attrs.items()}; # ensure they are all lists\n",
    "    \n",
    "    subscriber = subscriber_dict.get(item.get('subscriber_id', {}), {}) # Get the subscriber info\n",
    "    \n",
    "    return bool_fn(subscriber.get(k, object) in v for k,v in attrs.items())"
   ]
  },
  {
   "cell_type": "code",
   "execution_count": null,
   "metadata": {
    "ExecuteTime": {
     "end_time": "2019-08-05T19:44:10.572540Z",
     "start_time": "2019-08-05T19:44:10.424137Z"
    },
    "hidden": true
   },
   "outputs": [],
   "source": [
    "log_level('i')"
   ]
  },
  {
   "cell_type": "code",
   "execution_count": null,
   "metadata": {
    "ExecuteTime": {
     "end_time": "2019-08-05T19:45:29.209118Z",
     "start_time": "2019-08-05T19:45:28.981627Z"
    },
    "hidden": true
   },
   "outputs": [],
   "source": [
    "a = cursor.e('SELECT * FROM subscriber_data WHERE `lead_opt-in`=\"Style Mini-course\"'); a\n",
    "len(a)"
   ]
  },
  {
   "cell_type": "code",
   "execution_count": null,
   "metadata": {
    "ExecuteTime": {
     "end_time": "2019-08-05T19:46:01.938642Z",
     "start_time": "2019-08-05T19:46:01.802973Z"
    },
    "hidden": true
   },
   "outputs": [],
   "source": [
    "len([b for b in a if b['state']==\"cancelled\"])"
   ]
  },
  {
   "cell_type": "code",
   "execution_count": null,
   "metadata": {
    "ExecuteTime": {
     "end_time": "2019-08-06T19:33:22.076217Z",
     "start_time": "2019-08-06T19:33:21.965594Z"
    },
    "hidden": true
   },
   "outputs": [],
   "source": [
    "attrs = {}\n",
    "# attrs['country'] = ['United States of America', 'Canada']\n",
    "# attrs['lead_opt-in'] = ['Influence Map', 'Style Mini-course']\n",
    "# attrs['lead_opt-in'] = 'Influence Map'\n",
    "attrs['lead_opt-in'] = 'Style Mini-course'\n",
    "_all = True; join_str = \" AND \" if _all else \" OR \"\n",
    "\n",
    "\n",
    "logging.info(f'Evaluating: {join_str.join([f\"({k} IN {v})\" for k,v in attrs.items()])}')\n",
    "temp_purchases = [p for p in purchases if include(p, _all=_all, **attrs)]\n",
    "temp_launches = [l for l in launches if include(l, _all=_all, **attrs)]\n",
    "f'purchase rate is {len(temp_purchases)}/{len(temp_launches)} {round(len(temp_purchases)/len(temp_launches)*100,2)}%'"
   ]
  },
  {
   "cell_type": "markdown",
   "metadata": {
    "heading_collapsed": true,
    "hidden": true
   },
   "source": [
    "#### % buy by audience type"
   ]
  },
  {
   "cell_type": "code",
   "execution_count": null,
   "metadata": {
    "ExecuteTime": {
     "end_time": "2019-08-03T23:39:37.911151Z",
     "start_time": "2019-08-03T23:39:37.188424Z"
    },
    "hidden": true
   },
   "outputs": [],
   "source": [
    "# Number of launches to americans/canadians\n",
    "sql_stmt = f\"\"\"\\\n",
    "SELECT * FROM launch_data \n",
    "WHERE launch=\"Launch_6\"\n",
    "\"\"\"\n",
    "cursor.execute(sql_stmt); temp = cursor.fetchall(); len(temp), temp[:2]\n",
    "countries = ['United States of America', 'Canada']\n",
    "\n",
    "loc_launches = [t for t in temp if subscriber_dict[t['subscriber_id']]['country'] in countries]; len(loc_launches)\n",
    "# other_countries = [subscriber_dict[t['id']]['country'] for t in temp if subscriber_dict[t['id']]['country'] not in countries]; other_countries\n",
    "# Counter(other_countries)\n",
    "# purchases = len(temp)"
   ]
  },
  {
   "cell_type": "code",
   "execution_count": null,
   "metadata": {
    "ExecuteTime": {
     "end_time": "2019-06-27T19:33:04.013953Z",
     "start_time": "2019-06-27T19:33:03.934993Z"
    },
    "hidden": true
   },
   "outputs": [],
   "source": [
    "# People who went through the launch\n",
    "# [[l['id'], subscriber_dict[l['id']]['email_address']] for l in loc_launches]"
   ]
  },
  {
   "cell_type": "code",
   "execution_count": null,
   "metadata": {
    "ExecuteTime": {
     "end_time": "2019-08-03T23:39:38.812627Z",
     "start_time": "2019-08-03T23:39:38.604996Z"
    },
    "hidden": true
   },
   "outputs": [],
   "source": [
    "# Number of purchases by americans/canadians\n",
    "sql_stmt = f\"\"\"\\\n",
    "SELECT * FROM purchase_data \n",
    "WHERE launch=\"Launch_6\"\n",
    "\"\"\"\n",
    "cursor.execute(sql_stmt); temp = cursor.fetchall()\n",
    "countries = ['United States of America', 'Canada']\n",
    "\n",
    "loc_purchases = [t for t in temp if subscriber_dict.get(t.get('subscriber_id', None), {}).get('country', None) in countries]; len(loc_purchases)\n",
    "# purchases = len(temp)"
   ]
  },
  {
   "cell_type": "code",
   "execution_count": null,
   "metadata": {
    "ExecuteTime": {
     "end_time": "2019-08-03T23:39:27.982076Z",
     "start_time": "2019-08-03T23:39:27.866925Z"
    },
    "hidden": true
   },
   "outputs": [],
   "source": [
    "f'US & CA purchase rate is {round(len(loc_purchases)/len(loc_launches)*100,2)}%'"
   ]
  },
  {
   "cell_type": "code",
   "execution_count": null,
   "metadata": {
    "ExecuteTime": {
     "end_time": "2019-08-03T23:38:06.817515Z",
     "start_time": "2019-08-03T23:38:06.695057Z"
    },
    "hidden": true
   },
   "outputs": [],
   "source": [
    "# purchase countries\n",
    "Counter([subscriber_dict.get(t.get('subscriber_id', None), {}).get('country', None) for t in temp])"
   ]
  },
  {
   "cell_type": "markdown",
   "metadata": {
    "heading_collapsed": true,
    "hidden": true
   },
   "source": [
    "#### %buy by misc"
   ]
  },
  {
   "cell_type": "markdown",
   "metadata": {
    "heading_collapsed": true,
    "hidden": true
   },
   "source": [
    "#### % buy by length subscribed"
   ]
  },
  {
   "cell_type": "code",
   "execution_count": null,
   "metadata": {
    "hidden": true
   },
   "outputs": [],
   "source": [
    "# % buy by # of emails received"
   ]
  },
  {
   "cell_type": "code",
   "execution_count": null,
   "metadata": {
    "hidden": true
   },
   "outputs": [],
   "source": [
    "# % buy of north americans that go through prelaunch nurturing"
   ]
  },
  {
   "cell_type": "code",
   "execution_count": null,
   "metadata": {
    "hidden": true
   },
   "outputs": [],
   "source": [
    "cursor.quick_info('launch_data', launch='Evergreen_2')"
   ]
  },
  {
   "cell_type": "markdown",
   "metadata": {
    "heading_collapsed": true,
    "hidden": true
   },
   "source": [
    "#### Day breakdown of Launches Given"
   ]
  },
  {
   "cell_type": "code",
   "execution_count": null,
   "metadata": {
    "ExecuteTime": {
     "end_time": "2019-07-03T19:26:47.532409Z",
     "start_time": "2019-07-03T19:24:11.643495Z"
    },
    "hidden": true
   },
   "outputs": [],
   "source": [
    "logging.getLogger().setLevel(logging.WARN)\n",
    "sub_end_datetimes = get_past_launch_completions(conn=conn, include_unsubscribers=True) # Get the end dates for launches\n"
   ]
  },
  {
   "cell_type": "code",
   "execution_count": null,
   "metadata": {
    "ExecuteTime": {
     "end_time": "2019-07-03T19:26:53.182317Z",
     "start_time": "2019-07-03T19:26:53.060936Z"
    },
    "hidden": true
   },
   "outputs": [],
   "source": [
    "sub_end_dates = {k:datetime.strftime(v,\"%Y-%m-%d\") for k,v in sub_end_datetimes.items()}\n",
    "list(sub_end_dates.items())[:3]"
   ]
  },
  {
   "cell_type": "code",
   "execution_count": null,
   "metadata": {
    "ExecuteTime": {
     "end_time": "2019-07-03T19:27:13.447020Z",
     "start_time": "2019-07-03T19:27:13.328991Z"
    },
    "hidden": true
   },
   "outputs": [],
   "source": [
    "na_end_dates = {k:v for k,v in sub_end_dates.items() if k in sub_dict and sub_dict[k]['country'] in countries}; \n",
    "Counter(countries).most_common(3), len(na_end_dates), list(na_end_dates.items())[:3]"
   ]
  },
  {
   "cell_type": "code",
   "execution_count": null,
   "metadata": {
    "ExecuteTime": {
     "end_time": "2019-07-03T19:27:35.444277Z",
     "start_time": "2019-07-03T19:27:35.413877Z"
    },
    "hidden": true
   },
   "outputs": [],
   "source": [
    "Counter(na_end_dates.values()).most_common()"
   ]
  },
  {
   "cell_type": "markdown",
   "metadata": {
    "heading_collapsed": true,
    "hidden": true
   },
   "source": [
    "#### Day breakdown of Upcoming Launches"
   ]
  },
  {
   "cell_type": "code",
   "execution_count": null,
   "metadata": {
    "ExecuteTime": {
     "end_time": "2019-07-03T19:29:05.268949Z",
     "start_time": "2019-07-03T19:28:32.427883Z"
    },
    "hidden": true
   },
   "outputs": [],
   "source": [
    "upcoming_launch_completions = get_upcoming_launch_completions(conn=conn)"
   ]
  },
  {
   "cell_type": "code",
   "execution_count": null,
   "metadata": {
    "ExecuteTime": {
     "end_time": "2019-07-03T19:30:07.597171Z",
     "start_time": "2019-07-03T19:30:07.565336Z"
    },
    "hidden": true
   },
   "outputs": [],
   "source": [
    "up_launch_dates = {k:datetime.strftime(v,\"%Y-%m-%d\") for k,v in upcoming_launch_completions.items()}\n",
    "list(up_launch_dates.items())[:3]"
   ]
  },
  {
   "cell_type": "code",
   "execution_count": null,
   "metadata": {
    "ExecuteTime": {
     "end_time": "2019-07-03T19:30:16.876622Z",
     "start_time": "2019-07-03T19:30:16.837039Z"
    },
    "hidden": true
   },
   "outputs": [],
   "source": [
    "na_up_launch_dates = {k:v for k,v in up_launch_dates.items() if k in sub_dict and sub_dict[k]['country'] in countries}; \n",
    "Counter(countries).most_common(3), len(na_up_launch_dates), list(na_up_launch_dates.items())[:3]\n"
   ]
  },
  {
   "cell_type": "code",
   "execution_count": null,
   "metadata": {
    "ExecuteTime": {
     "end_time": "2019-07-03T19:30:19.808791Z",
     "start_time": "2019-07-03T19:30:19.779509Z"
    },
    "hidden": true
   },
   "outputs": [],
   "source": [
    "Counter(na_up_launch_dates.values()).most_common(5)"
   ]
  },
  {
   "cell_type": "markdown",
   "metadata": {
    "heading_collapsed": true,
    "hidden": true
   },
   "source": [
    "### Ad Analysis"
   ]
  },
  {
   "cell_type": "code",
   "execution_count": null,
   "metadata": {
    "ExecuteTime": {
     "end_time": "2019-07-11T20:53:42.777769Z",
     "start_time": "2019-07-11T20:53:42.371641Z"
    },
    "hidden": true
   },
   "outputs": [],
   "source": [
    "# Find out the number of subscribers, inactives per day for all.\n",
    "# Then look at how long it takes inactives to subscribe\n",
    "# Then look at the breakdown by ad type\n",
    "\n",
    "#NOW() - INTERVAL 5 HOUR \n",
    "sql_stmt = \"\"\"\\\n",
    "SELECT *, STR_TO_DATE(created_at, \"%Y-%m-%dT%T.%fZ\") AS d \n",
    "FROM subscriber_data \n",
    "HAVING d > \"2019-06-11\"\n",
    "\"\"\"\n",
    "cursor.execute(sql_stmt)\n",
    "data = cursor.fetchall(); len(data)"
   ]
  },
  {
   "cell_type": "code",
   "execution_count": null,
   "metadata": {
    "ExecuteTime": {
     "end_time": "2019-07-11T20:53:44.605047Z",
     "start_time": "2019-07-11T20:53:44.345612Z"
    },
    "hidden": true
   },
   "outputs": [],
   "source": [
    "preactives = [d for d in data if d['state'] == 'inactive']\n",
    "actives = [d for d in data if d['state'] == 'active']\n",
    "postactives = [d for d in data if not d['state'] in  ['active', 'inactive']]\n",
    "len(preactives), len(actives), len(postactives)"
   ]
  },
  {
   "cell_type": "code",
   "execution_count": null,
   "metadata": {
    "ExecuteTime": {
     "end_time": "2019-07-11T21:23:23.298059Z",
     "start_time": "2019-07-11T21:23:22.314184Z"
    },
    "hidden": true
   },
   "outputs": [],
   "source": [
    "def created_at_date(x): \n",
    "    return datetime.strptime(x, '%Y-%m-%dT%H:%M:%S.000Z').date()\n",
    "\n",
    "def created_at_on_day(created_at, day):\n",
    "    return created_at_date(created_at) >= day and created_at_date(created_at) < day + timedelta(days=1)\n",
    "\n",
    "created_at_list = []\n",
    "date_list = [date.today() - timedelta(days=x) for x in range(0, 31)]; date_list\n",
    "\n",
    "for date_item in date_list[::-1]:\n",
    "    lp_convs = [d for d in data if created_at_on_day(d['created_at'], date_item)]\n",
    "    fb_ad_convs = [l for l in lp_convs if l['lead_source'] == \"FB Ad\"]\n",
    "    fb_ad_spend = 70\n",
    "    infl_convs = [l for l in lp_convs if l['lead_opt-in'] == \"Influence Map\"]\n",
    "    infl_spend = 50\n",
    "    mini_course_spend = 20\n",
    "    mini_course_convs = [l for l in lp_convs if l['lead_opt-in'] == \"Style Mini-course\"]\n",
    "    preactives = [l for l in lp_convs if l['state'] == 'inactive']\n",
    "    actives = [l for l in lp_convs if l['state'] == 'active']\n",
    "    postactives = [l for l in lp_convs if not l['state'] in ['active', 'inactive']]\n",
    "    \n",
    "#     influence_map_conversions = [l for l in lp_convs if l[]]\n",
    "    \n",
    "    created_at_list.append(\n",
    "        {\n",
    "            \"date\": date_item,#datetime.strftime(date_item, '%d'), \n",
    "            'lp_conv': len(lp_convs), \n",
    "            'unconf': len(preactives),\n",
    "            'active': len(actives),\n",
    "            'unsub': len(postactives),\n",
    "            'unconf%': round(len(preactives)/len(lp_convs)*100,0),\n",
    "            'active%': round(len(actives)/len(lp_convs)*100,0),\n",
    "            'unsub%': round(len(postactives)/len(lp_convs)*100,0),\n",
    "            'fb_ad': len(fb_ad_convs),\n",
    "            'infl': len(infl_convs),\n",
    "            'mini': len(mini_course_convs),\n",
    "            'fb_ad_$': fb_ad_spend,\n",
    "            'infl_$': infl_spend,\n",
    "            'mini_$': mini_course_spend,\n",
    "            'fb_ad_$/fb': round(fb_ad_spend/max(1,len(actives)),2),\n",
    "            'infl_$/infl': round(infl_spend/max(1,len(infl_convs)),2),\n",
    "            'mini_$/mini': round(mini_course_spend/max(1,len(mini_course_convs)),2),\n",
    "        }\n",
    "    )"
   ]
  },
  {
   "cell_type": "code",
   "execution_count": null,
   "metadata": {
    "ExecuteTime": {
     "end_time": "2019-07-11T20:53:53.572376Z",
     "start_time": "2019-07-11T20:53:53.309380Z"
    },
    "hidden": true
   },
   "outputs": [],
   "source": [
    "lp_convs[0]"
   ]
  },
  {
   "cell_type": "code",
   "execution_count": null,
   "metadata": {
    "ExecuteTime": {
     "end_time": "2019-07-11T21:23:24.238787Z",
     "start_time": "2019-07-11T21:23:23.961421Z"
    },
    "hidden": true
   },
   "outputs": [],
   "source": [
    "# print(json.dumps(created_at_list, indent=2))\n",
    "pd.DataFrame(created_at_list).set_index('date')"
   ]
  },
  {
   "cell_type": "code",
   "execution_count": null,
   "metadata": {
    "hidden": true
   },
   "outputs": [],
   "source": [
    "# See if the number of actives increases over time"
   ]
  },
  {
   "cell_type": "code",
   "execution_count": null,
   "metadata": {
    "ExecuteTime": {
     "end_time": "2019-07-11T20:27:54.966872Z",
     "start_time": "2019-07-11T20:27:54.749575Z"
    },
    "hidden": true
   },
   "outputs": [],
   "source": [
    "subscribers, date_item"
   ]
  },
  {
   "cell_type": "code",
   "execution_count": null,
   "metadata": {
    "ExecuteTime": {
     "end_time": "2019-07-11T20:19:55.465038Z",
     "start_time": "2019-07-11T20:19:55.250108Z"
    },
    "hidden": true
   },
   "outputs": [],
   "source": [
    "created_at_date(data[0]['created_at']) < date_list[0]"
   ]
  },
  {
   "cell_type": "code",
   "execution_count": null,
   "metadata": {
    "ExecuteTime": {
     "end_time": "2019-07-11T20:18:32.094410Z",
     "start_time": "2019-07-11T20:18:31.172707Z"
    },
    "hidden": true
   },
   "outputs": [],
   "source": [
    "# Rows of days, count of preactives, actives, postactives\n",
    "array = {i: [d for d in data if created_at_date(d['created_at']) > i and ] for i in date_list}\n",
    "array"
   ]
  },
  {
   "cell_type": "markdown",
   "metadata": {
    "heading_collapsed": true
   },
   "source": [
    "## Continuous Updates"
   ]
  },
  {
   "cell_type": "code",
   "execution_count": null,
   "metadata": {
    "hidden": true
   },
   "outputs": [],
   "source": [
    "# Update emails"
   ]
  },
  {
   "cell_type": "code",
   "execution_count": null,
   "metadata": {
    "ExecuteTime": {
     "end_time": "2019-07-02T19:52:47.441282Z",
     "start_time": "2019-07-02T19:51:02.845926Z"
    },
    "hidden": true
   },
   "outputs": [],
   "source": [
    "# All users without some custom field\n",
    "ck_sub_data = get_all_sub_data(columns=None)"
   ]
  },
  {
   "cell_type": "code",
   "execution_count": null,
   "metadata": {
    "ExecuteTime": {
     "end_time": "2019-07-02T19:53:30.331733Z",
     "start_time": "2019-07-02T19:53:30.302965Z"
    },
    "hidden": true
   },
   "outputs": [],
   "source": [
    "# People that don't have \n",
    "ck_sub_data[1]"
   ]
  },
  {
   "cell_type": "markdown",
   "metadata": {
    "heading_collapsed": true
   },
   "source": [
    "## Other"
   ]
  },
  {
   "cell_type": "code",
   "execution_count": null,
   "metadata": {
    "ExecuteTime": {
     "end_time": "2019-07-17T19:07:15.298385Z",
     "start_time": "2019-07-17T19:05:46.250484Z"
    },
    "hidden": true
   },
   "outputs": [],
   "source": [
    "# Style Tag issues\n",
    "# People that have style original and style evg\n",
    "# People with style completed, but no style emails\n",
    "style_comp = get_api_data('https://api.convertkit.com/v3/tags/451997/subscriptions', test=False, session=session)\n",
    "style_comp_ids = [a['subscriber']['id'] for a in style_comp]; len(style_comp_ids), style_comp_ids[:3]\n",
    "len(style_comp)"
   ]
  },
  {
   "cell_type": "code",
   "execution_count": null,
   "metadata": {
    "ExecuteTime": {
     "end_time": "2019-07-17T19:09:00.268034Z",
     "start_time": "2019-07-17T19:08:59.761886Z"
    },
    "hidden": true
   },
   "outputs": [],
   "source": [
    "# Get the people with no style emails\n",
    "email_ids = []\n",
    "email_ids += [a['id'] for a in get_seq_dict(383238)['course']['email_templates']]\n",
    "email_ids += [a['id'] for a in get_seq_dict(371104)['course']['email_templates']]\n",
    "email_ids\n",
    "# cursor.execute()"
   ]
  },
  {
   "cell_type": "code",
   "execution_count": null,
   "metadata": {
    "ExecuteTime": {
     "end_time": "2019-07-17T19:10:06.134605Z",
     "start_time": "2019-07-17T19:09:56.090876Z"
    },
    "hidden": true
   },
   "outputs": [],
   "source": [
    "cursor.quick_info('email_data')"
   ]
  },
  {
   "cell_type": "code",
   "execution_count": null,
   "metadata": {
    "hidden": true
   },
   "outputs": [],
   "source": [
    "cursor.execute('SELECT DISTINCT subscriber_id FROM email_data GROUP BY subscriber_id WHERE subscriber_id')"
   ]
  },
  {
   "cell_type": "code",
   "execution_count": null,
   "metadata": {
    "hidden": true
   },
   "outputs": [],
   "source": [
    "# Troubleshooting\n",
    "get_sequence_end_date(a)"
   ]
  },
  {
   "cell_type": "code",
   "execution_count": null,
   "metadata": {
    "ExecuteTime": {
     "end_time": "2019-07-03T11:29:40.954721Z",
     "start_time": "2019-07-03T11:29:40.883686Z"
    },
    "hidden": true
   },
   "outputs": [],
   "source": [
    "json.loads(result.text)['message'][:24]"
   ]
  },
  {
   "cell_type": "code",
   "execution_count": null,
   "metadata": {
    "ExecuteTime": {
     "end_time": "2019-07-03T11:41:55.126747Z",
     "start_time": "2019-07-03T11:30:14.983511Z"
    },
    "hidden": true
   },
   "outputs": [],
   "source": [
    "# Create API Call for subscriptions that were missed\n",
    "for missing_id in rds_missing_subs[4:]:\n",
    "    url = 'https://td9rz0ja7b.execute-api.us-east-1.amazonaws.com/prod/subscription'\n",
    "    data = json.dumps({\"subscriber\": { \"id\": missing_id } })\n",
    "    headers = {'content-type': 'application/json'}\n",
    "    result = session.post(url, data=data, headers=headers)\n",
    "    if result.status_code==200:\n",
    "        result_json = json.loads(result.text)\n",
    "        if 'executionArn' in result_json:\n",
    "            print(result.status_code, result_json.get('executionArn')[-19:])\n",
    "        else:\n",
    "            print(result.status_code, missing_id, result_json['message'][:24])\n",
    "    else:\n",
    "        print(result.status_code, missing_id)\n",
    "    time.sleep(5)"
   ]
  },
  {
   "cell_type": "code",
   "execution_count": null,
   "metadata": {
    "ExecuteTime": {
     "end_time": "2019-07-01T21:01:17.100828Z",
     "start_time": "2019-07-01T21:01:17.036448Z"
    },
    "hidden": true
   },
   "outputs": [],
   "source": [
    "# cursor.quick_info('email_data')\n",
    "# cursor.execute('SHOW KEYS FROM email_data;'); \n",
    "cursor.execute('SHOW INDEX FROM email_data;'); \n",
    "cursor.fetchall()"
   ]
  },
  {
   "cell_type": "code",
   "execution_count": null,
   "metadata": {
    "ExecuteTime": {
     "end_time": "2019-06-27T21:46:21.472301Z",
     "start_time": "2019-06-27T21:46:21.293901Z"
    },
    "hidden": true
   },
   "outputs": [],
   "source": [
    "from urllib.parse import urlencode\n",
    "urlencode({'a':'a a a a', 'b':'Bacon!.'})\n",
    "urlencode({})"
   ]
  },
  {
   "cell_type": "markdown",
   "metadata": {
    "heading_collapsed": true,
    "hidden": true
   },
   "source": [
    "#### No emails?"
   ]
  },
  {
   "cell_type": "code",
   "execution_count": null,
   "metadata": {
    "ExecuteTime": {
     "end_time": "2019-07-10T17:16:20.282460Z",
     "start_time": "2019-07-10T17:16:20.179945Z"
    },
    "hidden": true
   },
   "outputs": [],
   "source": [
    "# 'SELECT STR_TO_DATE(created_at, \"%Y-%m-%dT%H:%i:%s\") AS d FROM subscriber_data HAVING d >= NOW() - INTERVAL 2 HOUR ORDER BY d DESC\n",
    "\n",
    "sql_stmt = \"\"\"\\\n",
    "SELECT e.subscriber_id, s.*, Count(*) as count \n",
    "FROM email_data e\n",
    "LEFT JOIN subscriber_data s\n",
    "    ON e.subscriber_id = s.id\n",
    "GROUP BY subscriber_id \n",
    "HAVING count < 5 \n",
    "LIMIT 1\n",
    "\"\"\"\n",
    "cursor.execute(sql_stmt)\n",
    "# cursor.execute('SELECT * FROM email_data WHERE subscriber_id = 137074446')\n",
    "cursor.fetchall()"
   ]
  },
  {
   "cell_type": "markdown",
   "metadata": {
    "heading_collapsed": true,
    "hidden": true
   },
   "source": [
    "#### Sequence End Date Testing"
   ]
  },
  {
   "cell_type": "markdown",
   "metadata": {
    "hidden": true
   },
   "source": [
    "See that if the create date is None or a long time ago, but no emails exist, that the completion date will assume emails start going today. Maybe it can notify when people aren't getting the emails"
   ]
  },
  {
   "cell_type": "code",
   "execution_count": null,
   "metadata": {
    "ExecuteTime": {
     "end_time": "2019-07-10T17:04:28.278919Z",
     "start_time": "2019-07-10T17:04:27.886388Z"
    },
    "hidden": true
   },
   "outputs": [],
   "source": [
    "nurturing_seq_dict = get_seq_dict(383238, session=session); nurturing_seq_dict['course']['name'] # 375580"
   ]
  },
  {
   "cell_type": "code",
   "execution_count": null,
   "metadata": {
    "ExecuteTime": {
     "end_time": "2019-07-10T17:05:51.403899Z",
     "start_time": "2019-07-10T17:05:32.129959Z"
    },
    "hidden": true
   },
   "outputs": [],
   "source": [
    "nurturing_subs = get_all_seq_sub_data(383238, session=session) "
   ]
  },
  {
   "cell_type": "code",
   "execution_count": null,
   "metadata": {
    "ExecuteTime": {
     "end_time": "2019-07-10T17:06:23.819199Z",
     "start_time": "2019-07-10T17:06:23.618865Z"
    },
    "hidden": true
   },
   "outputs": [],
   "source": [
    "# sub_id, create_date = nurturing_subs[0]; \n",
    "sub_id = 492139769 #498092029\n",
    "create_date = '2019-06-11T22:02:51.000Z' # '2019-05-30T23:02:51.000Z'\n",
    "email_dict = {}\n",
    "email_dict[sub_id] = scrape_email_list(sub_id, ck_app_session=None); email_dict"
   ]
  },
  {
   "cell_type": "code",
   "execution_count": null,
   "metadata": {
    "ExecuteTime": {
     "end_time": "2019-07-10T17:10:46.398050Z",
     "start_time": "2019-07-10T17:10:46.284587Z"
    },
    "hidden": true
   },
   "outputs": [],
   "source": [
    "logging.getLogger().setLevel(logging.DEBUG)\n",
    "end_date = get_sequence_end_date(nurturing_seq_dict, email_dict[sub_id], create_date=create_date, sub_id=sub_id); end_date\n"
   ]
  },
  {
   "cell_type": "code",
   "execution_count": null,
   "metadata": {
    "ExecuteTime": {
     "end_time": "2019-06-25T16:03:29.810163Z",
     "start_time": "2019-06-25T16:03:29.684901Z"
    },
    "hidden": true
   },
   "outputs": [],
   "source": [
    "get_sequence_end_date(nurturing_seq_dict, a)"
   ]
  },
  {
   "cell_type": "code",
   "execution_count": null,
   "metadata": {
    "ExecuteTime": {
     "end_time": "2019-06-25T16:47:10.492393Z",
     "start_time": "2019-06-25T16:47:10.466103Z"
    },
    "hidden": true
   },
   "outputs": [],
   "source": [
    "nurturing_seq_dict#; email_dict[sub_id]"
   ]
  },
  {
   "cell_type": "markdown",
   "metadata": {
    "heading_collapsed": true,
    "hidden": true
   },
   "source": [
    "#### Other"
   ]
  },
  {
   "cell_type": "code",
   "execution_count": null,
   "metadata": {
    "ExecuteTime": {
     "end_time": "2019-06-25T01:35:53.508500Z",
     "start_time": "2019-06-25T01:35:52.877410Z"
    },
    "hidden": true
   },
   "outputs": [],
   "source": [
    "cursor.quick_info()"
   ]
  },
  {
   "cell_type": "code",
   "execution_count": null,
   "metadata": {
    "ExecuteTime": {
     "end_time": "2019-06-25T01:37:39.014637Z",
     "start_time": "2019-06-25T01:37:38.952136Z"
    },
    "hidden": true
   },
   "outputs": [],
   "source": [
    "# cursor.execute('SELECT DISTINCT state FROM subscriber_data')\n",
    "cursor.execute('SELECT * FROM subscriber_data WHERE lead_source = \"None\"')\n",
    "cursor.fetchall()\n",
    "# ids = [i['id'] for i in cursor.fetchall()]"
   ]
  },
  {
   "cell_type": "code",
   "execution_count": null,
   "metadata": {
    "ExecuteTime": {
     "end_time": "2019-06-20T14:29:50.542901Z",
     "start_time": "2019-06-20T14:29:50.334052Z"
    },
    "hidden": true
   },
   "outputs": [],
   "source": [
    "url = f'https://api.convertkit.com/v3/custom_fields'\n",
    "data = json.dumps({'api_key': os.environ['CK_API_KEY']})\n",
    "headers = {'content-type': 'application/json'}\n",
    "r = requests.get(url=url, data=data, headers=headers)\n",
    "# if r.status_code != 200: raise Exception\n",
    "print(r.text)"
   ]
  },
  {
   "cell_type": "code",
   "execution_count": null,
   "metadata": {
    "ExecuteTime": {
     "end_time": "2019-06-19T19:01:06.700073Z",
     "start_time": "2019-06-19T19:01:06.672283Z"
    },
    "hidden": true
   },
   "outputs": [],
   "source": [
    "a = {'a': 1}\n",
    "b = {'b': 2}\n",
    "a.update(b); a"
   ]
  },
  {
   "cell_type": "code",
   "execution_count": null,
   "metadata": {
    "ExecuteTime": {
     "end_time": "2019-06-19T18:58:16.888753Z",
     "start_time": "2019-06-19T18:58:16.143428Z"
    },
    "hidden": true
   },
   "outputs": [],
   "source": [
    "try:\n",
    "    try:\n",
    "        sub = get_single_subscriber(email_address=\"dnishiyama+test2@gmail.com\")\n",
    "    except Exception as e:\n",
    "        print('uh oh')\n",
    "except Exception as e:\n",
    "    print('got exception', e)\n",
    "if 'email_address' in sub and sub['email_address']:\n",
    "    print('sub')\n",
    "sub"
   ]
  },
  {
   "cell_type": "code",
   "execution_count": null,
   "metadata": {
    "ExecuteTime": {
     "end_time": "2019-06-06T02:10:56.359741Z",
     "start_time": "2019-06-06T02:10:56.313852Z"
    },
    "hidden": true
   },
   "outputs": [],
   "source": [
    "(datetime.now() - datetime.strptime(\"2019-04-08T19:12:24.000Z\", \"%Y-%m-%dT%H:%M:%S.%fZ\")) < timedelta(days=1)"
   ]
  },
  {
   "cell_type": "code",
   "execution_count": null,
   "metadata": {
    "ExecuteTime": {
     "end_time": "2019-05-24T19:14:57.600378Z",
     "start_time": "2019-05-24T19:14:57.569717Z"
    },
    "hidden": true
   },
   "outputs": [],
   "source": [
    "d = datetime.strptime('2018-02-21', '%Y-%m-%d') - datetime.strptime('2018-02-20', '%Y-%m-%d'); d\n",
    "timedelta(days=1).total_seconds()/60/60/24"
   ]
  },
  {
   "cell_type": "code",
   "execution_count": null,
   "metadata": {
    "ExecuteTime": {
     "end_time": "2019-05-24T19:15:09.355660Z",
     "start_time": "2019-05-24T19:15:09.281865Z"
    },
    "hidden": true
   },
   "outputs": [],
   "source": [
    "# Average email subscription duration before purchase\n",
    "# Get the list of purchasers\n",
    "sql_stmt = \"\"\"\n",
    "SELECT s.id, p.email_address, p.purchase_date, s.subscribe_date\n",
    "FROM purchase_data p\n",
    "INNER JOIN subscriber_data s ON p.subscriber_id = s.id\"\"\"\n",
    "cursor.execute(sql_stmt); purchasers = cursor.fetchall(); purchasers\n",
    "# Subtract their subscription date\n",
    "delay_days = lambda pur, sub: (datetime.strptime(pur, '%Y-%m-%d') - datetime.strptime(sub, '%Y-%m-%d')).total_seconds()/60/60/24\n",
    "purchasers = [[*e.values()] for e in purchasers if e['purchase_date'] and e['subscribe_date']] #remove nones\n",
    "purchase_delay = [[*e, delay_days(e[2], e[3])] for e in purchasers if delay_days(e[2], e[3]) > 0]; purchase_delay[0]"
   ]
  },
  {
   "cell_type": "code",
   "execution_count": null,
   "metadata": {
    "ExecuteTime": {
     "end_time": "2019-05-24T19:18:18.394486Z",
     "start_time": "2019-05-24T19:18:18.162058Z"
    },
    "hidden": true
   },
   "outputs": [],
   "source": [
    "# Graph that\n",
    "plt.hist([e[4] for e in purchase_delay], bins=50)"
   ]
  }
 ],
 "metadata": {
  "kernelspec": {
   "display_name": "Python 3.7",
   "language": "python",
   "name": "py37"
  },
  "language_info": {
   "codemirror_mode": {
    "name": "ipython",
    "version": 3
   },
   "file_extension": ".py",
   "mimetype": "text/x-python",
   "name": "python",
   "nbconvert_exporter": "python",
   "pygments_lexer": "ipython3",
   "version": "3.7.3"
  }
 },
 "nbformat": 4,
 "nbformat_minor": 2
}
