{
 "cells": [
  {
   "cell_type": "code",
   "execution_count": 1,
   "metadata": {
    "ExecuteTime": {
     "end_time": "2019-09-28T17:09:12.660814Z",
     "start_time": "2019-09-28T17:09:10.853084Z"
    },
    "scrolled": true
   },
   "outputs": [
    {
     "name": "stdout",
     "output_type": "stream",
     "text": [
      "9/27/19 dgnutils update loaded!\n"
     ]
    }
   ],
   "source": [
    "%reload_ext autoreload\n",
    "%autoreload 2\n",
    "%matplotlib inline\n",
    "\n",
    "import sys\n",
    "sys.path.append('/Users/nish/Local/Programming/convertkit_wrapper')\n",
    "from modules.ck_utils import *\n",
    "\n",
    "session = requests.session()"
   ]
  },
  {
   "cell_type": "code",
   "execution_count": 2,
   "metadata": {
    "ExecuteTime": {
     "end_time": "2019-09-28T17:09:12.825463Z",
     "start_time": "2019-09-28T17:09:12.662590Z"
    }
   },
   "outputs": [],
   "source": [
    "conn, cursor = connect()"
   ]
  },
  {
   "cell_type": "markdown",
   "metadata": {},
   "source": [
    "### Data Validation and Corrections"
   ]
  },
  {
   "cell_type": "markdown",
   "metadata": {
    "heading_collapsed": true
   },
   "source": [
    "#### Get Data"
   ]
  },
  {
   "cell_type": "code",
   "execution_count": 5,
   "metadata": {
    "ExecuteTime": {
     "end_time": "2019-09-28T02:20:23.585878Z",
     "start_time": "2019-09-28T02:20:22.704793Z"
    },
    "hidden": true
   },
   "outputs": [],
   "source": [
    "#### THIS WILL COMMIT ####\n",
    "conn.commit() \n",
    "\n",
    "all_rds_list = cursor.e('SELECT * FROM subscriber_data')\n",
    "all_rds_dict = {a['id']: a for a in all_rds_list}"
   ]
  },
  {
   "cell_type": "code",
   "execution_count": 6,
   "metadata": {
    "ExecuteTime": {
     "end_time": "2019-09-28T02:20:34.257198Z",
     "start_time": "2019-09-28T02:20:23.587198Z"
    },
    "hidden": true
   },
   "outputs": [
    {
     "name": "stdout",
     "output_type": "stream",
     "text": [
      "dict_values([221, 'cancelled', None, 'dnishiyama+test5@gmail.com', '2019-05-08T18:21:55.000Z', None, None, None, None, None, None, 'Influence Map', 'MCS Page', None, '11:59pm EDT on Wednesday, May 15, 2019', '2019-05-08', '2019-05-08', None, None, None, None])\n",
      "\n",
      "dict_values([137634069, 'Jessica', 'jgschloss@gmail.com', 'active', '2017-10-03T13:16:28.000Z', None, None, None, None, None, 'MailChimp', 'MailChimp', 'Mountain View', 'United States of America', '37.386', '-122.084', 'California', '2017-05-16 11:43:05', None, None, '2017-05-16', None])\n"
     ]
    }
   ],
   "source": [
    "# ~6 seconds to ~15 seconds\n",
    "all_ck_list = get_api_data(CK_Api.ALL_SUBS, None, session=session)\n",
    "all_ck_dict = {a['id']: a for a in all_ck_list}\n",
    "\n",
    "print(all_rds_list[0].values()); print(); print(all_ck_list[0].values())"
   ]
  },
  {
   "cell_type": "markdown",
   "metadata": {
    "heading_collapsed": true
   },
   "source": [
    "#### Summarize issues"
   ]
  },
  {
   "cell_type": "code",
   "execution_count": 7,
   "metadata": {
    "ExecuteTime": {
     "end_time": "2019-09-28T02:20:51.289241Z",
     "start_time": "2019-09-28T02:20:49.663514Z"
    },
    "hidden": true
   },
   "outputs": [
    {
     "name": "stdout",
     "output_type": "stream",
     "text": [
      "CK subs missing from RDS: 0\n",
      "RDS subs missing from CK: 0\n",
      "\n",
      "Duplicate emails in RDS: 0\n",
      "Total mismatches: 17\n",
      "There are 12 / 10 lead_sources\n",
      "There are 15 / 14 lead_opt-ins\n",
      "Missing freshness data: 0\n",
      "Subscribers with no email data: 414\n",
      "RDS Subscribers with no subscribe_date: 4\n",
      "CK Subscribers with no subscribe_date: 7\n",
      "Unnecessary unsub dates: 1\n",
      "Missing location data: 20\n",
      "Counter({'complained': 10})\n",
      "Are all the purchase values, purchase refunds accurate?\n",
      "Are all lead opt-ins found based on the first email sent\n",
      "how many opt-ins has a person done?, this could be from the scraping\n"
     ]
    }
   ],
   "source": [
    "# See if any subscribers are missing from RDS\n",
    "## Get step function data first\n",
    "get_id = lambda x: int(re.match(r'.*?_(\\d+)', x).group(1))\n",
    "recent_execution = lambda x: x['stopDate'] > datetime.now().astimezone(pytz.timezone('US/Eastern')) - timedelta(hours=1)\n",
    "client = boto3.client('stepfunctions')\n",
    "sub_arn = 'arn:aws:states:us-east-1:787744691769:stateMachine:CK_Subscription'\n",
    "running_executions = client.list_executions(stateMachineArn=sub_arn, statusFilter='RUNNING')['executions']\n",
    "success_executions = client.list_executions(stateMachineArn=sub_arn, statusFilter='SUCCEEDED')['executions']\n",
    "executions = running_executions + [e for e in success_executions if recent_execution(e)]\n",
    "processing_subs = [get_id(e['name']) for e in executions]; len(processing_subs), processing_subs\n",
    "\n",
    "ck_subs_not_in_rds = [a for a in all_ck_dict if a not in all_rds_dict and a not in processing_subs]\n",
    "print(f'CK subs missing from RDS: {len(ck_subs_not_in_rds)}')\n",
    "\n",
    "# These are probably ok, but are delayed due to delay of gathering ck data\n",
    "today = datetime.strftime(datetime.now(), '%Y-%m-%d')\n",
    "rds_subs_not_in_ck = [a for a in all_rds_dict if all_rds_dict[a]['state'] == 'active' and a not in all_ck_dict and all_rds_dict[a]['subscribe_date'] != today]\n",
    "print(f'RDS subs missing from CK: {len(rds_subs_not_in_ck)}')\n",
    "\n",
    "print()\n",
    "\n",
    "# Duplicate emails in RDS\n",
    "duplicate_rds_emails = [c for c in Counter([a['email_address'] for a in all_rds_list]).items() if c[1]>1]\n",
    "print(f'Duplicate emails in RDS: {len(duplicate_rds_emails)}')\n",
    "\n",
    "# Total Mismatches\n",
    "mismatches = [a for a in all_rds_dict if a in all_ck_dict and array_mismatch(all_rds_dict[a], all_ck_dict[a])]\n",
    "print(f'Total mismatches: {len(mismatches)}')\n",
    "\n",
    "print(f'There are {len(set([a[\"lead_source\"] for a in all_rds_list]))} / 10 lead_sources')\n",
    "print(f'There are {len(set([a[\"lead_opt-in\"] for a in all_rds_list]))} / 14 lead_opt-ins')\n",
    "# set(a['lead_opt-in'] for a in all_rds_list + all_ck_list)\n",
    "# set(a['lead_source'] for a in all_rds_list + all_ck_list)\n",
    "\n",
    "# Mismatch between email_data and email_data_freshness (active subscribers with email_data but no email_data_freshness)\n",
    "sql_stmt = \"\"\"\\\n",
    "SELECT s.id FROM email_data e\n",
    "LEFT JOIN subscriber_data s\n",
    "    ON s.id = e.subscriber_id\n",
    "LEFT JOIN email_data_freshness f\n",
    "    ON f.subscriber_id = e.subscriber_id\n",
    "WHERE f.subscriber_id IS NULL\n",
    "    AND s.state = \"active\"\n",
    "\"\"\"\n",
    "cursor.execute(sql_stmt)\n",
    "missing_freshness_ids = [c['id'] for c in cursor.fetchall()]; len(missing_freshness_ids), missing_freshness_ids[:3]\n",
    "print(f'Missing freshness data: {len(missing_freshness_ids)}')\n",
    "\n",
    "# Subscribers with no email data\n",
    "sql_stmt = \"\"\"\\\n",
    "SELECT s.id FROM subscriber_data s\n",
    "LEFT JOIN email_data e\n",
    "    ON e.subscriber_id = s.id\n",
    "WHERE e.subscriber_id IS NULL\n",
    "    AND s.state = \"active\"\n",
    "\"\"\"\n",
    "cursor.execute(sql_stmt)\n",
    "no_email_subscribers = [c['id'] for c in cursor.fetchall()]; len(no_email_subscribers), no_email_subscribers[-3:]\n",
    "print(f'Subscribers with no email data: {len(no_email_subscribers)}')\n",
    "\n",
    "# Subscriber with no subscribe date\n",
    "no_subscribe_date_rds = [a['id'] for a in all_rds_list if a['state'] == 'active' and not a['subscribe_date']]\n",
    "print(f'RDS Subscribers with no subscribe_date: {len(no_subscribe_date_rds)}')\n",
    "\n",
    "no_subscribe_date_ck = [a['id'] for a in all_ck_list if a['state'] == 'active' and not a['subscribe_date'] and a['id'] not in processing_subs]\n",
    "print(f'CK Subscribers with no subscribe_date: {len(no_subscribe_date_ck)}')\n",
    "\n",
    "# active subscriber with an unsubscribe_date (resubscriber)\n",
    "err_unsub_date = [a['id'] for a in all_rds_list if a['state'] == 'active' and a['unsubscribe_date']]\n",
    "print(f'Unnecessary unsub dates: {len(err_unsub_date)}')\n",
    "      \n",
    "# Missing Location\n",
    "nones = ['null', None, 0]\n",
    "missing_loc = [a for a in all_rds_list \n",
    "                if (a['loc_country'] in nones or a['loc_lat'] in nones or a['loc_lng'] in nones) \n",
    "                and (a['loc_city'] not in nones or a['loc_state'] not in nones)]\n",
    "print(f'Missing location data: {len(missing_loc)}')\n",
    "      \n",
    "# Add things to fix in the future here\n",
    "print(Counter([a['state'] for a in all_rds_list if not a['subscribe_date'] and a['state']=='complained']))\n",
    "      #subscribe date needs to be calculated based on mailchimp, or the first email clicked, or the first email sent\n",
    "print(\"Are all the purchase values, purchase refunds accurate?\")\n",
    "print(\"Are all lead opt-ins found based on the first email sent\")\n",
    "print(\"how many opt-ins has a person done?, this could be from the scraping\")\n"
   ]
  },
  {
   "cell_type": "markdown",
   "metadata": {},
   "source": [
    "#### Fix Issues"
   ]
  },
  {
   "cell_type": "code",
   "execution_count": null,
   "metadata": {},
   "outputs": [],
   "source": [
    "# TODO: Make this into separate functions that give a summary of the data to be updated \n",
    "# they then ask for confirmation depending on if that is sent in as a parameter"
   ]
  },
  {
   "cell_type": "code",
   "execution_count": null,
   "metadata": {
    "ExecuteTime": {
     "end_time": "2019-09-20T23:52:55.167294Z",
     "start_time": "2019-09-20T23:52:51.350388Z"
    }
   },
   "outputs": [],
   "source": [
    "# For doing the basic updates\n",
    "for sub_id in [501116407, 137664062]:#no_subscribe_date_rds:\n",
    "    print(update_single_subscriber(\n",
    "        sub_id, \n",
    "        cursor, \n",
    "        ck_app_session=get_ck_session(), \n",
    "        do_location=True, \n",
    "        geolocator=Nominatim(user_agent=\"dgn\")\n",
    "    ))"
   ]
  },
  {
   "cell_type": "code",
   "execution_count": null,
   "metadata": {},
   "outputs": [],
   "source": [
    "# Continuous updates\n",
    "# 1st Priority, the updates in one system are made in AWS\n",
    "# 2nd Priority, I can run one cell which will make the entire system up-to-date"
   ]
  },
  {
   "cell_type": "code",
   "execution_count": null,
   "metadata": {
    "ExecuteTime": {
     "end_time": "2019-09-25T17:01:06.194921Z",
     "start_time": "2019-09-25T17:00:31.389111Z"
    }
   },
   "outputs": [],
   "source": [
    "#### Function to keep entire system up-to-date\n",
    "\n",
    "### All these can be fixed by bringing the mismatch data from CK to RDS\n",
    "############ Get the non-actives updated first process ############\n",
    "\n",
    "try:\n",
    "    # TODO: Make this async\n",
    "    update_rds_with_non_actives(cursor, only_new=True)#limit_to_past_days=30)\n",
    "except:\n",
    "    print('Error with update_rds_with_non_actives')\n",
    "\n",
    "############ Get the step_function in process ############\n",
    "get_id = lambda x: int(re.match(r'.*?_(\\d+)', x).group(1))\n",
    "recent_execution = lambda x: x['stopDate'] > datetime.now().astimezone(pytz.timezone('US/Eastern')) - timedelta(hours=1)\n",
    "client = boto3.client('stepfunctions')\n",
    "sub_arn = 'arn:aws:states:us-east-1:787744691769:stateMachine:CK_Subscription'\n",
    "running_executions = client.list_executions(stateMachineArn=sub_arn, statusFilter='RUNNING')['executions']\n",
    "success_executions = client.list_executions(stateMachineArn=sub_arn, statusFilter='SUCCEEDED')['executions']\n",
    "executions = running_executions + [e for e in success_executions if recent_execution(e)]\n",
    "processing_subs = [get_id(e['name']) for e in executions]; len(processing_subs), processing_subs\n",
    "\n",
    "############ Get the mismatches ############\n",
    "mismatches = [a for a in all_rds_dict if a in all_ck_dict and array_mismatch(all_rds_dict[a], all_ck_dict[a])]\n",
    "print(f'Updating {len(mismatches)} subs with mismatches in RDS...')\n",
    "for mismatch in mismatches:\n",
    "    transfer_good_mismatches_to_rds(cursor, session, all_rds_dict[mismatch], all_ck_dict[mismatch])\n",
    "\n",
    "############ Complained and deleted subscribers show up as \"RDS subs missing from CK\" ############\n",
    "today = datetime.strftime(datetime.now(), '%Y-%m-%d')\n",
    "rds_subs_not_in_ck = [a for a in all_rds_dict if all_rds_dict[a]['state'] == 'active' and a not in all_ck_dict and all_rds_dict[a]['subscribe_date'] != today]\n",
    "print(f'Updating {len(rds_subs_not_in_ck)} subs in rds_subs_not_in_ck with mismatches in RDS...')\n",
    "for sub_id in rds_subs_not_in_ck:\n",
    "    try:\n",
    "        ck_data = get_single_subscriber(session=session, subscriber_id=sub_id)\n",
    "        transfer_good_mismatches_to_rds(cursor, session, all_rds_dict[sub_id], ck_data)\n",
    "    except:\n",
    "        print(f'Setting state to deleted for sub_id {sub_id}')\n",
    "        cursor.e(f'UPDATE subscriber_data SET state=\"deleted\" WHERE id={sub_id}')\n",
    "\n",
    "############ Resubscribers show up as \"ck_subs_not_in_rds\" ############\n",
    "## Missed subscribers (maybe an overwrite on the db?) show up as \"ck_subs_not_in_rds\"\n",
    "ck_subs_not_in_rds = [a for a in all_ck_dict if a not in all_rds_dict and a not in processing_subs]\n",
    "print(f'Updating {len(ck_subs_not_in_rds)} subs in ck_subs_not_in_rds into RDS...')\n",
    "for sub_id in ck_subs_not_in_rds:\n",
    "    rds_sub = cursor.e(f'SELECT * FROM subscriber_data WHERE id={sub_id}')\n",
    "    if not rds_sub:\n",
    "        update_subscriber_in_rds(sub_id, cursor, sub_data=all_ck_dict[sub_id])\n",
    "\n",
    "############ resubscribers keep their unsub date ############\n",
    "err_unsub_date = [a['id'] for a in all_rds_list if a['state'] == 'active' and a['unsubscribe_date']]\n",
    "print(f'Updating {len(err_unsub_date)} subs from err_unsub_date in CK and RDS...')\n",
    "for sub_id in err_unsub_date:\n",
    "    update_sub_everywhere_with_misc(sub_id, cursor, session=session, **{'unsubscribe_date': None})\n",
    "\n",
    "############ Missing rds subscribe_date ############\n",
    "no_subscribe_date_rds = [a['id'] for a in all_rds_list if a['state'] == 'active' and not a['subscribe_date']]\n",
    "no_subscribe_date_ck = [a['id'] for a in all_ck_list if a['state'] == 'active' and not a['subscribe_date'] and a['id'] not in processing_subs]\n",
    "print(f'Updating {len(no_subscribe_date_rds + no_subscribe_date_ck)} subs with no subscribe_date in CK and RDS...')\n",
    "for sub_id in no_subscribe_date_rds + no_subscribe_date_ck:\n",
    "    update_single_subscriber(sub_id, cursor, ck_app_session=get_ck_session(), geolocator=Nominatim(user_agent='dgn_app'))\n",
    "    \n",
    "############ Manage the duplicate emails in the right way ############\n",
    "# Get all the duplicated emails\n",
    "duplicate_rds_emails = [c[0] for c in Counter([a['email_address'] for a in all_rds_list]).items() if c[1]>1]\n",
    "\n",
    "# Get the data for those emails\n",
    "duplicate_rds_subs = {} \n",
    "for a in all_rds_list:\n",
    "    if a['email_address'] not in duplicate_rds_emails: continue\n",
    "    duplicate_rds_subs.setdefault(a['email_address'], []).append({b:a[b] for b in ['id', 'state']}) \n",
    "\n",
    "remove_ids = [] # Add the lists of [[id_to_use1, id_to_remove1], [id_to_use2, id_to_remove2], ...]\n",
    "\n",
    "for (email, subs) in duplicate_rds_subs.items():\n",
    "    if len(subs) != 2: raise Exception(f'There were {len(subs)} subs for this duplicate. Need to handle this')\n",
    "        \n",
    "    # If either is deleted, then remove the lowered number deleted item \n",
    "    # could be 0,1, or 2 ids; reversed to organize with largest first\n",
    "    deleted_subs = sorted([s['id'] for s in subs if s['state'] == 'deleted'], reverse=True) \n",
    "    if deleted_subs: \n",
    "        # Now add the non deleted ones to the front (since they won't be removed)\n",
    "        remove_ids.append([s['id'] for s in subs if s['state'] != 'deleted'] + deleted_subs)\n",
    "        continue\n",
    "    \n",
    "    # If either is a low sub_id (<1,000,000) then remove the lowered numbered one\n",
    "    low_id_subs = sorted([s['id'] for s in subs if s['id'] < 1000000], reverse=True) \n",
    "    if low_id_subs: \n",
    "        # Now add the high id ones to the front (since they won't be removed)\n",
    "        remove_ids.append([s['id'] for s in subs if s['id'] >= 1000000] + low_id_subs)\n",
    "        continue\n",
    "        \n",
    "    # If either is deleted but state is wrong\n",
    "    # This will find the id if it exists, if not then both are deleted, only keep the \n",
    "    temp_id = get_single_subscriber(session=session, email_address=email, cancelled=True).get('id', None)\n",
    "    if temp_id:\n",
    "        remove_ids.append([temp_id]+[s['id'] for s in subs if s['id'] != temp_id])\n",
    "        continue\n",
    "\n",
    "    print(f'Found no error for {email}, {subs}')\n",
    "    \n",
    "# When removing, make sure all the other databases are updated\n",
    "print(f'Updating RDS for {len(remove_ids)} removal of duplicates...')\n",
    "temp = cursor.executemany(f'UPDATE launch_data SET subscriber_id=%s WHERE subscriber_id=%s', remove_ids)\n",
    "print(f'Changed {temp} items in launch_data...')\n",
    "temp = cursor.executemany(f'UPDATE purchase_data SET subscriber_id=%s WHERE subscriber_id=%s', remove_ids)\n",
    "print(f'Changed {temp} items in purchase_data...')\n",
    "temp = cursor.executemany(f'UPDATE purchase_data SET purchaser_id=%s WHERE purchaser_id=%s', remove_ids)\n",
    "print(f'Changed {temp} items in purchase_data...')\n",
    "temp = cursor.e(f'DELETE FROM subscriber_data WHERE id IN {mysql_array([r[1] for r in remove_ids])}')\n",
    "print(f'Deleted {temp} items in subscriber_data...')\n",
    "\n",
    "############ Fix bad lead sources and lead opt-ins ############\n",
    "\n",
    "# Fix lead source by going to each with that CK data and updating, then updating the rds data\n",
    "conversions = [\n",
    "    ['', 'Unknown'],\n",
    "    [None, 'Unknown'],\n",
    "    ['None', 'Unknown'],\n",
    "    ['FB Ad?fbclid', 'FB Ad'], \n",
    "    ['FB+Ad', 'FB Ad'],\n",
    "    ['Medium?source', 'Medium'],\n",
    "    ['style mini-course', 'Style Mini-course'],\n",
    "    ['emails', 'Emails'],\n",
    "    ['Mailchimp', 'MailChimp'],\n",
    "]\n",
    "err_leads = [c[0] for c in conversions]\n",
    "\n",
    "bad_subs = set()\n",
    "bad_subs |= set(a['id'] for a in all_rds_list if a['lead_source'] in err_leads or a['lead_opt-in'] in err_leads)\n",
    "bad_subs |= set(a['id'] for a in all_ck_list if a['lead_source'] in err_leads or a['lead_opt-in'] in err_leads)\n",
    "\n",
    "print(f'{len(bad_subs)} to update')\n",
    "\n",
    "for i, a in enumerate([all_ck_dict.get(b, all_rds_dict.get(b, {})) for b in bad_subs]):\n",
    "    new_data = {}\n",
    "    for lead in ['lead_source', 'lead_opt-in']:\n",
    "        if a[lead] in [c[0] for c in conversions]: \n",
    "            new_data[lead] = [c[1] for c in conversions if c[0] == a[lead]][0]\n",
    "\n",
    "    if not new_data: raise Exception()\n",
    "    print(f'Updating {a[\"id\"]} with {new_data} vs src:{a[\"lead_source\"]}, opt:{a[\"lead_opt-in\"]}', end='\\r')\n",
    "\n",
    "    update_sub_everywhere_with_misc(a['id'], cursor, session=session, **new_data)\n",
    "          \n",
    "############ Fix bad locations (lat, lng, country) ############\n",
    "print(f'Updating CK & RDS for {len(missing_loc)} missing locations...')\n",
    "          \n",
    "nones = ['null', None, 0]\n",
    "missing_loc = [a for a in all_rds_list \n",
    "                if (a['loc_country'] in nones or a['loc_lat'] in nones or a['loc_lng'] in nones) \n",
    "                and (a['loc_city'] not in nones or a['loc_state'] not in nones)]\n",
    "\n",
    "          \n",
    "for sub_data in missing_loc:\n",
    "    updates = {}\n",
    "    # Missing lat, lng\n",
    "    if sub_data['loc_lat'] in nones or sub_data['loc_lng'] in nones:\n",
    "        latlng = get_lat_and_lng(sub_data['loc_city'], sub_data['loc_state'], Nominatim(user_agent='dgn'))\n",
    "        sub_data['loc_lat'] = latlng['lat']; updates['loc_lat'] = latlng['lat']\n",
    "        sub_data['loc_lng'] = latlng['lng']; updates['loc_lng'] = latlng['lng']\n",
    "        \n",
    "    if sub_data['loc_country'] in nones:\n",
    "        coord = ( float(sub_data['loc_lat']), float(sub_data['loc_lng']) )\n",
    "        sub_data['loc_country'] = iso3166.countries_by_alpha2.get(rg.search(coord, mode=1)[0]['cc'], None).name\n",
    "        updates['loc_country'] = sub_data['loc_country']\n",
    "    \n",
    "    update_sub_everywhere_with_misc(sub_data['id'], cursor, session, **updates)\n",
    "\n",
    "############ Scrape all the email data ############\n",
    "scrape_all_email_data(conn, exclude_freshness=2, connections=20)\n",
    "          \n",
    "#update_subscriber_in_rds(a['id'], cursor, sub_data={**a, **new_data}) # If item is deleted then only update rds"
   ]
  },
  {
   "cell_type": "code",
   "execution_count": null,
   "metadata": {
    "ExecuteTime": {
     "end_time": "2019-09-25T18:41:06.814233Z",
     "start_time": "2019-09-25T18:35:25.957741Z"
    }
   },
   "outputs": [],
   "source": [
    "scrape_all_email_data(conn, exclude_freshness=2, connections=20)"
   ]
  },
  {
   "cell_type": "code",
   "execution_count": null,
   "metadata": {
    "ExecuteTime": {
     "end_time": "2019-09-25T18:34:08.985527Z",
     "start_time": "2019-09-25T18:34:08.774992Z"
    }
   },
   "outputs": [],
   "source": [
    "conn.commit()"
   ]
  },
  {
   "cell_type": "markdown",
   "metadata": {},
   "source": [
    "#### Get inactive data"
   ]
  },
  {
   "cell_type": "code",
   "execution_count": null,
   "metadata": {},
   "outputs": [],
   "source": [
    "results = trio.run(get_api_data_async())"
   ]
  },
  {
   "cell_type": "code",
   "execution_count": 51,
   "metadata": {
    "ExecuteTime": {
     "end_time": "2019-09-28T17:49:17.089001Z",
     "start_time": "2019-09-28T17:49:16.885086Z"
    }
   },
   "outputs": [
    {
     "data": {
      "text/plain": [
       "{'id': 597074949,\n",
       " 'first_name': None,\n",
       " 'email_address': 'llambert953@gmail.com',\n",
       " 'state': 'inactive',\n",
       " 'created_at': '2019-09-28T01:59:06.000Z',\n",
       " 'fb_ad': None,\n",
       " 'fb_ad_set': None,\n",
       " 'fb_audience_source': None,\n",
       " 'fb_campaign': None,\n",
       " 'last_name': None,\n",
       " 'lead_opt-in': 'MCDT',\n",
       " 'lead_source': 'FB Ad',\n",
       " 'loc_city': None,\n",
       " 'loc_country': None,\n",
       " 'loc_lat': None,\n",
       " 'loc_lng': None,\n",
       " 'loc_state': None,\n",
       " 'mailchimp_sub_date': None,\n",
       " 'other_email_address': None,\n",
       " 'stsbc_evg_launch_deadline': None,\n",
       " 'subscribe_date': None,\n",
       " 'unsubscribe_date': None}"
      ]
     },
     "execution_count": 51,
     "metadata": {},
     "output_type": "execute_result"
    }
   ],
   "source": [
    "get_single_subscriber(session=session, subscriber_id=597074949)"
   ]
  },
  {
   "cell_type": "code",
   "execution_count": 50,
   "metadata": {
    "ExecuteTime": {
     "end_time": "2019-09-28T17:49:12.059433Z",
     "start_time": "2019-09-28T17:49:12.020195Z"
    }
   },
   "outputs": [
    {
     "data": {
      "text/plain": [
       "(597074949,\n",
       " {'id': 597074949,\n",
       "  'state': 'inactive',\n",
       "  'first_name': '',\n",
       "  'email_address': 'llambert953@gmail.com',\n",
       "  'created_at': '2019-09-27T21:59:00.000Z',\n",
       "  'fb_audience_source': None,\n",
       "  'loc_city': None,\n",
       "  'loc_state': None,\n",
       "  'loc_country': None,\n",
       "  'loc_lat': None,\n",
       "  'loc_lng': None,\n",
       "  'lead_opt-in': None,\n",
       "  'lead_source': None,\n",
       "  'mailchimp_sub_date': None,\n",
       "  'stsbc_evg_launch_deadline': None,\n",
       "  'subscribe_date': None,\n",
       "  'unsubscribe_date': None,\n",
       "  'other_email_address': None,\n",
       "  'fb_ad': None,\n",
       "  'fb_ad_set': None,\n",
       "  'fb_campaign': None})"
      ]
     },
     "execution_count": 50,
     "metadata": {},
     "output_type": "execute_result"
    }
   ],
   "source": [
    "list({k:v for k,v in all_rds_dict.items() if v['state']=='inactive'}.items())[-1]"
   ]
  },
  {
   "cell_type": "markdown",
   "metadata": {},
   "source": [
    "#### Adding "
   ]
  },
  {
   "cell_type": "markdown",
   "metadata": {},
   "source": [
    "### Analysis"
   ]
  },
  {
   "cell_type": "markdown",
   "metadata": {
    "heading_collapsed": true
   },
   "source": [
    "#### Launch information"
   ]
  },
  {
   "cell_type": "code",
   "execution_count": null,
   "metadata": {
    "ExecuteTime": {
     "end_time": "2019-09-09T21:39:44.957227Z",
     "start_time": "2019-09-09T21:39:42.676053Z"
    },
    "hidden": true
   },
   "outputs": [],
   "source": [
    "purchases, launches = get_detailed_purchase_and_launch_data(cursor)"
   ]
  },
  {
   "cell_type": "code",
   "execution_count": null,
   "metadata": {
    "ExecuteTime": {
     "end_time": "2019-09-19T20:11:44.561894Z",
     "start_time": "2019-09-19T20:11:44.527029Z"
    },
    "hidden": true
   },
   "outputs": [],
   "source": [
    "print(ck_sub_data)"
   ]
  },
  {
   "cell_type": "code",
   "execution_count": null,
   "metadata": {
    "ExecuteTime": {
     "end_time": "2019-08-07T21:40:55.174505Z",
     "start_time": "2019-08-07T21:40:55.088356Z"
    },
    "hidden": true
   },
   "outputs": [],
   "source": [
    "attrs = {}\n",
    "# attrs['country'] = ['United States of America', 'Canada']\n",
    "# attrs['lead_opt-in'] = ['Influence Map', 'Style Mini-course']\n",
    "# attrs['lead_opt-in'] = 'Influence Map'\n",
    "# attrs['lead_source'] = 'FB Ad'\n",
    "# attrs['lead_opt-in'] = 'Style Mini-course'\n",
    "attrs['lead_opt-in'] = 'Emails'\n",
    "attrs['launch'] = 'Launch_6'\n",
    "# attrs['launch'] = 'Evergreen_2'\n",
    "_all = True\n",
    "\n",
    "p, l = specific_purchase_rate(purchases, launches, **attrs)\n",
    "try:\n",
    "    print(f'purchase rate is {len(p)}/{len(l)} {round(len(p)/len(l)*100,2)}%')\n",
    "except ZeroDivisionError as z:\n",
    "    print(f'There were no launches that fit this criteria {attrs}')\n"
   ]
  },
  {
   "cell_type": "code",
   "execution_count": null,
   "metadata": {
    "hidden": true
   },
   "outputs": [],
   "source": [
    "# Other to evaluate\n",
    "# What is the likelihood that they will buy based on the number of emails they have received? That they have opened?\n",
    "# % based on duration on the list?"
   ]
  },
  {
   "cell_type": "code",
   "execution_count": null,
   "metadata": {
    "hidden": true
   },
   "outputs": [],
   "source": [
    "conn"
   ]
  },
  {
   "cell_type": "code",
   "execution_count": null,
   "metadata": {
    "ExecuteTime": {
     "end_time": "2019-09-19T20:14:09.686302Z",
     "start_time": "2019-09-19T20:14:09.630245Z"
    },
    "hidden": true
   },
   "outputs": [],
   "source": [
    "import dgnutils\n",
    "dgnutils.__file__"
   ]
  },
  {
   "cell_type": "markdown",
   "metadata": {},
   "source": [
    "#### Subscriber Quality"
   ]
  },
  {
   "cell_type": "markdown",
   "metadata": {},
   "source": [
    "##### Using it"
   ]
  },
  {
   "cell_type": "code",
   "execution_count": null,
   "metadata": {},
   "outputs": [],
   "source": [
    "# i want to look at a cohort of people, and see how their average metric (open rate, etc) changed over time"
   ]
  },
  {
   "cell_type": "code",
   "execution_count": 3,
   "metadata": {
    "ExecuteTime": {
     "end_time": "2019-09-28T17:09:40.334610Z",
     "start_time": "2019-09-28T17:09:22.821606Z"
    }
   },
   "outputs": [
    {
     "name": "stdout",
     "output_type": "stream",
     "text": [
      "Loading (5/5), emails_dictctict\r"
     ]
    }
   ],
   "source": [
    "all_rds_dict, launch_info_dict, launch_dict, purchase_dict, emails_dict = get_mysql_dicts(cursor)"
   ]
  },
  {
   "cell_type": "code",
   "execution_count": 44,
   "metadata": {
    "ExecuteTime": {
     "end_time": "2019-09-28T17:46:21.288024Z",
     "start_time": "2019-09-28T17:46:06.180018Z"
    }
   },
   "outputs": [
    {
     "name": "stdout",
     "output_type": "stream",
     "text": [
      "Progress 1520/1520\r"
     ]
    }
   ],
   "source": [
    "# 10s for 1000 people; 70s for 10k\n",
    "cohort = {\n",
    "    k:v \n",
    "    for k,v in all_rds_dict.items() \n",
    "        if v['lead_opt-in']==\"MCDT\" \n",
    "#         and v['lead_source']==\"FB Ad\"\n",
    "}; len(cohort)\n",
    "# cohort = {k:v for k,v in all_rds_dict.items() if k%1000==0}; len(cohort)\n",
    "# cohort = {564316817: all_rds_dict[564316817]}; len(cohort)\n",
    "    \n",
    "day_metrics = {}\n",
    "min_group = 5 # Minimum number to do an analysis for\n",
    "sorted_unsubs_desc = sorted([time_ck_to_dt(c['subscribe_date']) for c in cohort.values() if c['subscribe_date']], reverse=True)\n",
    "longest_subscription = (datetime.today() - sorted_unsubs_desc[-min_group]).days #~5th last unsub date\n",
    "\n",
    "for i, (sub_id, sub_data) in enumerate(cohort.items()):\n",
    "    if i % 50 == 0 or i == len(cohort) - 1: print(f'Progress {i+1}/{len(cohort)}', end='\\r')\n",
    "    \n",
    "    if not sub_data['subscribe_date']: continue\n",
    "        \n",
    "    sub_emails = emails_dict.get(sub_id, [])\n",
    "    if not sub_emails: continue\n",
    "        \n",
    "    start_date = time_ck_to_dt(sub_data['subscribe_date']) if sub_data['subscribe_date'] else time_created_to_dt(sub_data['created_at'])\n",
    "    end_date = time_ck_to_dt(sub_data['unsubscribe_date']) if sub_data['unsubscribe_date'] else datetime.today()\n",
    "    days = (end_date - start_date).days\n",
    "    subscribe_dt = time_ck_to_dt(sub_data['subscribe_date']) if sub_data['subscribe_date'] else None\n",
    "    unsubscribe_dt = time_ck_to_dt(sub_data['unsubscribe_date'] or '9999-12-31')\n",
    "    created_dt = time_created_to_dt(sub_data['created_at'])\n",
    "    \n",
    "    metrics = {}\n",
    "    for d in range(longest_subscription): # 0 to ~1100 \n",
    "        metrics = {'sub_id': sub_id}\n",
    "        metrics['subscribed'] = unsubscribe_dt > subscribe_dt + timedelta(days = d)\n",
    "        metrics['activated'] = subscribe_dt < created_dt + timedelta(days = d)\n",
    "        \n",
    "        if d < days: # If the day is after this sub's tenure        \n",
    "            metrics['open'] = get_rate(\n",
    "                sub_emails, \n",
    "                act_before = subscribe_dt + timedelta(days = d),\n",
    "                del_before = subscribe_dt + timedelta(days = d-1),\n",
    "                _open=True,\n",
    "            )\n",
    "            metrics['click'] = get_rate(\n",
    "                sub_emails, \n",
    "                act_before = subscribe_dt + timedelta(days = d),\n",
    "                del_before = subscribe_dt + timedelta(days = d-1),\n",
    "                _open=False,\n",
    "            )\n",
    "\n",
    "            if 'open' in metrics and not metrics['open']: del metrics['open']\n",
    "            if 'click' in metrics and not metrics['click']: del metrics['click']\n",
    "                \n",
    "        # Do this regardless of the day situation\n",
    "        if len(metrics) > 1: day_metrics.setdefault(d, []).append(metrics)\n",
    "\n",
    "metric_cols = ['open', 'click', 'activated', 'subscribed']\n",
    "# { 356: [{'open': 0.06, 'click': 0.06, 'sub_id': 137633000}, {'open': 0.05, 'click': 0.01, 'sub_id': 179295000}] }\n",
    "x,*y = zip( \n",
    "    *sorted( \n",
    "        [\n",
    "            [\n",
    "                day, \n",
    "                *[\n",
    "                    sum([vi[m] for vi in v if m in vi]) / \\\n",
    "                    len([vi[m] for vi in v if m in vi]) \n",
    "                        if len([vi[m] for vi in v if m in vi]) > min_group else None\n",
    "                    for m in metric_cols \n",
    "                ]\n",
    "            ] \n",
    "            for day, v in day_metrics.items() \n",
    "        ]\n",
    "    )\n",
    ")\n",
    "\n",
    "# Troubleshooting\n",
    "# for day, v in day_metrics.items():\n",
    "#     for m in metric_cols:\n",
    "#         sum([vi[m] for vi in v if m in vi])/len([vi[m] for vi in v if m in vi])"
   ]
  },
  {
   "cell_type": "code",
   "execution_count": 45,
   "metadata": {
    "ExecuteTime": {
     "end_time": "2019-09-28T17:46:21.584199Z",
     "start_time": "2019-09-28T17:46:21.397474Z"
    }
   },
   "outputs": [
    {
     "data": {
      "text/plain": [
       "(0, 50)"
      ]
     },
     "execution_count": 45,
     "metadata": {},
     "output_type": "execute_result"
    },
    {
     "data": {
      "image/png": "[encoded data removed]",
      "text/plain": [
       "<Figure size 432x288 with 1 Axes>"
      ]
     },
     "metadata": {
      "needs_background": "light"
     },
     "output_type": "display_data"
    }
   ],
   "source": [
    "plt.plot(x,y[0],'b', x,y[1],'r', x,y[2],'g', x,y[3],'y')\n",
    "axes = plt.gca()\n",
    "# axes.set_ylim([0,1])\n",
    "axes.set_xlim([0,50])"
   ]
  },
  {
   "cell_type": "code",
   "execution_count": 36,
   "metadata": {
    "ExecuteTime": {
     "end_time": "2019-09-28T17:44:51.424169Z",
     "start_time": "2019-09-28T17:44:51.236225Z"
    }
   },
   "outputs": [
    {
     "data": {
      "text/plain": [
       "(0, 750)"
      ]
     },
     "execution_count": 36,
     "metadata": {},
     "output_type": "execute_result"
    },
    {
     "data": {
      "image/png": "[encoded data removed]",
      "text/plain": [
       "<Figure size 432x288 with 1 Axes>"
      ]
     },
     "metadata": {
      "needs_background": "light"
     },
     "output_type": "display_data"
    }
   ],
   "source": [
    "plt.plot(x,y[0],'b', x,y[1],'r', x,y[2],'g', x,y[3],'y')\n",
    "axes = plt.gca()\n",
    "# axes.set_ylim([0,1])\n",
    "axes.set_xlim([0,750])"
   ]
  },
  {
   "cell_type": "code",
   "execution_count": null,
   "metadata": {
    "ExecuteTime": {
     "end_time": "2019-09-28T01:57:37.168720Z",
     "start_time": "2019-09-28T01:57:36.974709Z"
    }
   },
   "outputs": [],
   "source": [
    "# Influence Map FB Ad\n",
    "plt.plot(x,y[0], 'b', x, y[1], 'b')\n",
    "axes = plt.gca()\n",
    "axes.set_ylim([0,1])\n",
    "axes.set_xlim([0,750])"
   ]
  },
  {
   "cell_type": "code",
   "execution_count": null,
   "metadata": {
    "ExecuteTime": {
     "end_time": "2019-09-28T01:55:24.636825Z",
     "start_time": "2019-09-28T01:55:24.435311Z"
    }
   },
   "outputs": [],
   "source": [
    "# MCDT FB Ad\n",
    "plt.plot(x,y[0], x, y[1])\n",
    "axes = plt.gca()\n",
    "axes.set_ylim([0,1])\n",
    "axes.set_xlim([0,750])"
   ]
  },
  {
   "cell_type": "code",
   "execution_count": null,
   "metadata": {
    "ExecuteTime": {
     "end_time": "2019-09-28T01:54:40.727197Z",
     "start_time": "2019-09-28T01:54:40.518287Z"
    }
   },
   "outputs": [],
   "source": [
    "# MCDT\n",
    "plt.plot(x,y[0], x, y[1])\n",
    "axes = plt.gca()\n",
    "axes.set_ylim([0,1])\n",
    "axes.set_xlim([0,750])"
   ]
  },
  {
   "cell_type": "code",
   "execution_count": null,
   "metadata": {
    "ExecuteTime": {
     "end_time": "2019-09-27T23:31:37.189554Z",
     "start_time": "2019-09-27T23:31:37.012497Z"
    }
   },
   "outputs": [],
   "source": [
    "# MCDT\n",
    "x,y = zip(*sorted([[k, sum(v)/len(v)] for k,v in day_metrics.items() if len(v) > 5]))\n",
    "plt.plot(x,y)\n",
    "# axes = plt.gca()\n",
    "# axes.set_ylim([0,1])\n",
    "# axes.set_xlim([0,100])"
   ]
  },
  {
   "cell_type": "code",
   "execution_count": null,
   "metadata": {
    "ExecuteTime": {
     "end_time": "2019-09-27T23:17:28.824682Z",
     "start_time": "2019-09-27T23:17:28.617785Z"
    }
   },
   "outputs": [],
   "source": [
    "# MCDT\n",
    "plt.plot(*list(zip(*day_metrics.items())))\n",
    "axes = plt.gca()\n",
    "axes.set_ylim([0,1])\n",
    "# axes.set_xlim([0,100])"
   ]
  },
  {
   "cell_type": "code",
   "execution_count": null,
   "metadata": {
    "ExecuteTime": {
     "end_time": "2019-09-27T23:02:27.036006Z",
     "start_time": "2019-09-27T23:02:26.843229Z"
    }
   },
   "outputs": [],
   "source": [
    "plt.plot(*list(zip(*day_metrics.items())))"
   ]
  },
  {
   "cell_type": "code",
   "execution_count": null,
   "metadata": {
    "ExecuteTime": {
     "end_time": "2019-09-27T21:35:22.995227Z",
     "start_time": "2019-09-27T21:35:22.961003Z"
    }
   },
   "outputs": [],
   "source": []
  },
  {
   "cell_type": "code",
   "execution_count": null,
   "metadata": {
    "ExecuteTime": {
     "end_time": "2019-09-27T16:21:46.844785Z",
     "start_time": "2019-09-27T16:21:46.371199Z"
    }
   },
   "outputs": [],
   "source": [
    "step = 10\n",
    "# optin= \"Style Mini-course\"\n",
    "# optin= \"Influence Map\"\n",
    "sort_key = lambda x:(datetime.today() - conv_time_1(x['subscribe_date'])).days\n",
    "subs = sorted([a for a in all_rds_list if a['lead_opt-in']==optin and a['subscribe_date'] and a['state']=='active'], key=sort_key)\n",
    "\n",
    "averaged_metric=[]\n",
    "for i in range(len(subs)//step):\n",
    "#     metric_fn = lambda x: sub_quality_from_emails(emails_dict.get(x['id'],[]), x['subscribe_date'])\n",
    "    metric_fn = lambda x: get_rate(emails_dict.get(x['id'],[]))\n",
    "    metric = [metric_fn(s) or 0 for s in subs[i*step:(i+1)*step]]\n",
    "    averaged_metric.append((sort_key(subs[i*step]), sum(metric)/len(metric)))\n",
    "x, *y = zip(*averaged_metric)\n",
    "# plt.plot(x, y[0],'b',x, y[1],'r')\n",
    "plt.plot(x, y[0],'b')\n",
    "axes = plt.gca()\n",
    "axes.set_ylim([0,1])\n",
    "axes.set_xlim([0,100])"
   ]
  },
  {
   "cell_type": "code",
   "execution_count": null,
   "metadata": {},
   "outputs": [],
   "source": []
  },
  {
   "cell_type": "markdown",
   "metadata": {
    "heading_collapsed": true
   },
   "source": [
    "##### Data Gathering"
   ]
  },
  {
   "cell_type": "code",
   "execution_count": null,
   "metadata": {
    "ExecuteTime": {
     "end_time": "2019-09-27T15:48:35.395760Z",
     "start_time": "2019-09-27T15:48:35.318599Z"
    },
    "hidden": true
   },
   "outputs": [],
   "source": [
    "len([a for a in all_rds_list if a['lead_opt-in'] and \"MCDT\" in a['lead_opt-in']])"
   ]
  },
  {
   "cell_type": "code",
   "execution_count": null,
   "metadata": {
    "ExecuteTime": {
     "end_time": "2019-09-27T07:09:03.484428Z",
     "start_time": "2019-09-27T07:09:03.450963Z"
    },
    "hidden": true
   },
   "outputs": [],
   "source": [
    "(datetime.today() - conv_time_1('2019-09-01')).days"
   ]
  },
  {
   "cell_type": "code",
   "execution_count": null,
   "metadata": {
    "ExecuteTime": {
     "end_time": "2019-09-27T07:30:23.693264Z",
     "start_time": "2019-09-27T07:30:23.140976Z"
    },
    "hidden": true
   },
   "outputs": [],
   "source": [
    "sub_quality(cursor, 137632665)"
   ]
  },
  {
   "cell_type": "code",
   "execution_count": null,
   "metadata": {
    "ExecuteTime": {
     "end_time": "2019-09-27T07:34:42.647357Z",
     "start_time": "2019-09-27T07:34:39.888785Z"
    },
    "hidden": true
   },
   "outputs": [],
   "source": [
    "all_qualities = {}\n",
    "for r in all_rds_list:\n",
    "    if r['state'] == 'active': \n",
    "        sub_id = r['id']\n",
    "        quality = sub_quality_from_emails(emails_dict.get(sub_id,[]), all_rds_dict[sub_id]['subscribe_date'])\n",
    "        all_qualities[r['id']] = quality"
   ]
  },
  {
   "cell_type": "code",
   "execution_count": null,
   "metadata": {
    "ExecuteTime": {
     "end_time": "2019-09-27T07:41:24.207651Z",
     "start_time": "2019-09-27T07:41:23.987764Z"
    },
    "hidden": true
   },
   "outputs": [],
   "source": [
    "sub_qualities = {k:v for k,v in all_qualities.items() if all_rds_dict[k]['lead_opt-in']==\"MCDT\"}\n",
    "plt.plot(sorted(list(sub_qualities.values())))\n",
    "axes = plt.gca()\n",
    "axes.set_ylim([0,0.15])\n",
    "axes.set_xlim([0,14000])"
   ]
  },
  {
   "cell_type": "code",
   "execution_count": null,
   "metadata": {
    "ExecuteTime": {
     "end_time": "2019-09-27T07:41:13.716863Z",
     "start_time": "2019-09-27T07:41:13.496890Z"
    },
    "hidden": true
   },
   "outputs": [],
   "source": [
    "plt.plot(sorted(list(all_qualities.values())))\n",
    "axes = plt.gca()\n",
    "axes.set_ylim([0,0.15])\n",
    "axes.set_xlim([0,14000])"
   ]
  },
  {
   "cell_type": "markdown",
   "metadata": {
    "hidden": true
   },
   "source": [
    "###### Setup"
   ]
  },
  {
   "cell_type": "code",
   "execution_count": null,
   "metadata": {
    "ExecuteTime": {
     "end_time": "2019-09-26T14:55:48.529697Z",
     "start_time": "2019-09-26T14:55:48.502567Z"
    },
    "hidden": true
   },
   "outputs": [],
   "source": [
    "# I want a metric that summarizes how \"good\" a subscriber is\n",
    "# Meaning how likely they are to open emails and to buy the course\n",
    "\n",
    "# First let me list out the important metrics\n",
    "# 1. How long they have been subscribed\n",
    "# 2. How they subscribed\n",
    "# 3. If they've purchased the course\n",
    "# 4. What % of emails they've opened\n",
    "# 5. What % of emails they've clicked on\n",
    "# 6. If they've clicked on emails for the course\n",
    "\n",
    "# Second let me get those metrics for subscribers and compare them to see how they are distributed\n"
   ]
  },
  {
   "cell_type": "code",
   "execution_count": null,
   "metadata": {
    "ExecuteTime": {
     "end_time": "2019-09-27T07:25:10.466210Z",
     "start_time": "2019-09-27T07:24:48.753192Z"
    },
    "hidden": true
   },
   "outputs": [],
   "source": [
    "# 14.2 Seconds (25.4s)\n",
    "all_rds_list = cursor.e('SELECT * FROM subscriber_data')\n",
    "all_rds_dict = {a['id']: a for a in all_rds_list}\n",
    "\n",
    "launch_info_dict = {l['launch']: l for l in cursor.e('SELECT * FROM launch_info')}; launch_info_dict\n",
    "\n",
    "launch_dict = {}\n",
    "for l in cursor.e(f'SELECT * FROM launch_data'):\n",
    "    launch_dict.setdefault(l['subscriber_id'], []).append(l['launch'])\n",
    "    \n",
    "purchases = cursor.e(f'SELECT * FROM purchase_data'); \n",
    "\n",
    "emails_dict = {}\n",
    "emails = cursor.e(f'SELECT * FROM email_data'); \n",
    "for e in emails:\n",
    "    emails_dict.setdefault(e['subscriber_id'], []).append(e)\n",
    "# emails_dict[137632787]\n",
    "\n",
    "# course_email_ids last updated 9/25/19\n",
    "course_email_ids = [1024762, 1033254, 1024765, 1024766, 1024767, 1024768, 1024769, 1088185, 1088196, 1088197, 1088198, 1088199, 1088200, 1191656, 1191657, 1191658, 1191659, 1191660, 1191661, 1191662, 1313872, 1314658, 1313641, 1313860, 1313861, 1313863, 1866878, 1866873, 1866874, 1866875, 1866876, 1866877, 1866879, 2014727, 2014728, 2014729, 2014730, 2016262, 2014731, 2014732, 2014743, 2014744, 2014745, 2014746, 2177600, 2177601, 2177602, 2177603, 2177604, 2177605, 2177606, 2208048, 2208049, 2208050, 2208051, 2208052, 2208053, 2208054]\n",
    "course_email_dict = {'Launch_3': [1088185, 1088196, 1088197, 1088200, 1024762, 1033254, 1024765, 1024766, 1024767, 1024768, 1024769, 1088198, 1088199], 'Evergreen_1': [1191656, 1191657, 1191658, 1191659, 1191660, 1191661, 1191662], 'Launch_4': [1313872, 1314658, 1313641, 1313860, 1313861, 1313863], 'Launch_5': [1866878, 1866873, 1866874, 1866875, 1866877, 1866879, 1866876], 'Evergreen_2': [2014727, 2014728, 2014729, 2014730, 2016262, 2014731, 2014732, 2014743, 2014744, 2014745, 2014746], 'Launch_6': [2177600, 2177601, 2177602, 2177603, 2177604, 2177605, 2177606, 2208048, 2208049, 2208050, 2208051, 2208053, 2208054, 2208052]}\n",
    "\n",
    "# Functions\n",
    "time_conv_1 = lambda x: datetime.strptime(x, '%Y-%m-%d')\n",
    "delivered_before = lambda x, ref_date: (x['deliver_date'] < ref_date)\n",
    "delivered_after = lambda x, ref_date: (x['deliver_date'] > ref_date)\n",
    "opened_before = lambda x, ref_date: bool((x['open_date'] and x['open_date'] < ref_date) or (x['click_date'] and x['click_date'] < ref_date))\n",
    "clicked_before = lambda x, ref_date: bool(x['click_date'] and x['click_date'] < ref_date)\n",
    "\n",
    "# This should be in CK\n",
    "def get_rate(email_list, before=None, _open=True):\n",
    "    fn = opened_before if _open else clicked_before\n",
    "    if not before: before = datetime.today()\n",
    "    actions = [fn(e, before) for e in email_list] # opens or clicks\n",
    "    return round(sum(actions)/len(actions), 2) if actions else None"
   ]
  },
  {
   "cell_type": "markdown",
   "metadata": {
    "heading_collapsed": true,
    "hidden": true
   },
   "source": [
    "###### Attempt 1 (use 2)"
   ]
  },
  {
   "cell_type": "code",
   "execution_count": null,
   "metadata": {
    "ExecuteTime": {
     "end_time": "2019-09-27T05:50:53.305870Z",
     "start_time": "2019-09-27T05:50:53.163912Z"
    },
    "hidden": true
   },
   "outputs": [],
   "source": [
    "raise Exception('Use attempt 2')\n",
    "launch_sub_quality_dict = {}\n",
    "\n",
    "# course_email_ids last updated 9/25/19\n",
    "for i, launch in enumerate(launch_info_dict.keys()):\n",
    "    print(f'progress {i+1}/{len(launch_info_dict)}', end='\\r')\n",
    "    ref_date = time_conv_1(launch_info_dict[launch]['start']); ref_date\n",
    "    launch_duration = launch_info_dict[launch]['duration'] or sys.maxsize\n",
    "\n",
    "    sub_qualities = {}\n",
    "    for sub_data in all_rds_list:\n",
    "        \n",
    "        sub_id = sub_data[\"id\"]\n",
    "        \n",
    "        if not sub_id in launch_dict or not launch in launch_dict[sub_id]: continue\n",
    "\n",
    "        subscription_length = (ref_date - datetime.strptime(sub_data['subscribe_date'], '%Y-%m-%d')).days if sub_data['subscribe_date'] else 0\n",
    "        if subscription_length <= -1 * launch_duration - 1: #-1 to help with close calls\n",
    "            continue # means they weren't subscribed; skip this subscriber\n",
    "\n",
    "        state = sub_data['state']; state\n",
    "        optin = sub_data['lead_opt-in']; optin\n",
    "        source = sub_data['lead_source']; source\n",
    "\n",
    "        # purchase is \"Launch_1\" etc\n",
    "        purchase = next(iter([ p['launch'] for p in purchases if sub_id == p['subscriber_id'] and p['launch']==launch]), None)\n",
    "                          \n",
    "        # If there is a purchase and the date of it is before this launch, then continue\n",
    "        if purchase and time_conv_1(launch_info_dict.get(purchase, {}).get('start', '9999-12-31')) < ref_date: continue\n",
    "\n",
    "        launches = len([launch_info_dict.get(l,[]) for l in launch_dict.get(sub_id, []) if time_conv_1(launch_info_dict.get(l, {}).get('start', '9999-12-31')) < ref_date])\n",
    "\n",
    "        email_data = emails_dict.get(sub_id, [])\n",
    "        \n",
    "        # Skip subscribers with no emails before the launch\n",
    "        # TODO: Change this to be more like the course thing. If course email\n",
    "        if len([e for e in email_data if delivered_before(e, ref_date)]) == 0: continue\n",
    "\n",
    "        # location\n",
    "\n",
    "        total_emails = len([e for e in email_data if delivered_before(e, ref_date)]); total_emails\n",
    "\n",
    "        opens = [opened_before(e, ref_date) for e in email_data if delivered_before(e, ref_date)]; opens\n",
    "        open_rate = round(sum(opens)/len(opens),2) if opens else 0; open_rate\n",
    "\n",
    "        clicks = [clicked_before(e, ref_date) for e in email_data if delivered_before(e, ref_date)]; clicks\n",
    "        click_rate = round(sum(clicks)/len(clicks),2) if clicks else 0; click_rate\n",
    "\n",
    "        rec_opens = [opened_before(e, ref_date) for e in email_data if delivered_before(e, ref_date-timedelta(days=60))]; rec_opens\n",
    "        rec_open_rate = round(sum(rec_opens)/len(rec_opens),2) if rec_opens else 0; rec_open_rate\n",
    "\n",
    "        rec_clicks = [clicked_before(e, ref_date) for e in email_data if delivered_before(e, ref_date-timedelta(days=60))]; rec_clicks\n",
    "        rec_click_rate = round(sum(rec_clicks)/len(rec_clicks),2) if rec_clicks else 0; rec_click_rate\n",
    "\n",
    "        course_opens = [opened_before(e, ref_date) for e in email_data if delivered_before(e, ref_date) and e['email_id'] in course_email_ids]; course_opens\n",
    "        course_open_rate = round(sum(course_opens)/len(course_opens),2) if course_opens else 0; course_open_rate\n",
    "\n",
    "        course_clicks = [clicked_before(e, ref_date) for e in email_data if delivered_before(e, ref_date) and e['email_id'] in course_email_ids]; course_clicks\n",
    "        course_click_rate = round(sum(course_clicks)/len(course_clicks),2) if course_clicks else 0; course_click_rate\n",
    "\n",
    "        sub_quality_data = {\n",
    "            \"subscription_length\":subscription_length,\n",
    "            \"optin\":optin,\n",
    "            \"source\":source,\n",
    "            \"state\":state,\n",
    "            \"purchase\": bool(purchase),\n",
    "            \"launches\": launches,\n",
    "            \"emails\":total_emails,\n",
    "            \"open_rate\":open_rate,\n",
    "            \"click_rate\":click_rate,\n",
    "            \"rec_open_rate\":rec_open_rate,\n",
    "            \"rec_click_rate\":rec_click_rate,\n",
    "            \"course_open_rate\":course_open_rate,\n",
    "            \"course_click_rate\":course_click_rate,\n",
    "#             \"purchase_probability\": get_purchase_probability(open_rate, click_rate) if not purchase else 1,\n",
    "        }\n",
    "\n",
    "        launch_sub_quality_dict.setdefault(launch, {})[sub_id] = copy.deepcopy(sub_quality_data); #sub_qualities[sub_id]\n",
    "#         if sub_id == 137632855: pdb.set_trace()"
   ]
  },
  {
   "cell_type": "markdown",
   "metadata": {
    "hidden": true
   },
   "source": [
    "###### Attempt 2"
   ]
  },
  {
   "cell_type": "code",
   "execution_count": null,
   "metadata": {
    "ExecuteTime": {
     "end_time": "2019-09-27T07:25:28.727613Z",
     "start_time": "2019-09-27T07:25:28.139489Z"
    },
    "hidden": true
   },
   "outputs": [],
   "source": [
    "# Go through each launch for each subscriber (launch_data)\n",
    "# Make datapoints: course_emails_opened, course_emails_clicked, purchase (all before the end of the launch)\n",
    "# Get the launch instances\n",
    "pl_launch_data = cursor.e('SELECT * FROM launch_data'); pl_launch_data[:3] # All the launches given to subs\n",
    "pl_all_data = []\n",
    "\n",
    "# for each one, get the emails that were for the launch\n",
    "# for pl_launch_datum in pl_launch_data:\n",
    "\n",
    "# # Testing Code\n",
    "for i in [1]:\n",
    "    pl_launch_datum = {'subscriber_id': 137632665, \"launch\": 'Launch_3'}\n",
    "\n",
    "    pl_sub_id = pl_launch_datum['subscriber_id']\n",
    "    pl_sub_data = all_rds_dict[pl_sub_id]\n",
    "    \n",
    "    pl_launch = pl_launch_datum['launch']\n",
    "    if pl_launch in [\"Giveaway\", \"Unknown\"]: continue # These don't have good data\n",
    "        \n",
    "    launches = len([True for l in launch_dict[pl_sub_id] if time_conv_1(launch_info_dict.get(l, {}).get('start', '9999-12-31')) < pl_course_start_date])\n",
    "#     launches = len([launch_info_dict.get(l,[]) for l in launch_dict.get(sub_id, []) if time_conv_1(launch_info_dict.get(l, {}).get('start', '9999-12-31')) < ref_date])\n",
    "    \n",
    "     # date of the start of the launch\n",
    "    pl_course_start_date = time_conv_1(launch_info_dict[pl_launch]['start'])\n",
    "\n",
    "    # date of the end of the launch (+3 days)\n",
    "    pl_course_end_date = time_conv_1(launch_info_dict[pl_launch]['start']) +\\\n",
    "        timedelta(days=launch_info_dict[pl_launch]['duration'] + 3)\n",
    "    \n",
    "    subscription_length = (pl_course_start_date - datetime.strptime(pl_sub_data['subscribe_date'], '%Y-%m-%d')).days if pl_sub_data['subscribe_date'] else 0\n",
    "    \n",
    "    state = pl_sub_data['state']; state\n",
    "    optin = pl_sub_data['lead_opt-in']; optin\n",
    "    source = pl_sub_data['lead_source']; source\n",
    "            \n",
    "    # this subscriber's emails \n",
    "    pl_emails = emails_dict.get(pl_sub_id, []) # all emails for this subscriber\n",
    "    pl_rel_emails = [e for e in pl_emails if delivered_before(e, pl_course_start_date)] # emails before the course are relevant\n",
    "    if len(pl_rel_emails) == 0: continue # Skip subscribers with no emails before the launch\n",
    "    pl_recent_emails = [e for e in pl_rel_emails if delivered_after(e, pl_course_start_date-timedelta(days=30))] # emails from the 30 days before the course\n",
    "    # subscriber's email that are course launch emails for this launch\n",
    "    pl_course_emails = [e for e in pl_emails if e['email_id'] in course_email_dict.get(pl_launch, [])]\n",
    "    pl_rel_course_emails = [e for e in pl_rel_emails if e['email_id'] in course_email_ids and e['email_id'] not in course_email_dict[pl_launch]] # past course emails\n",
    "    \n",
    "    # Was there a purchase during this launch?\n",
    "    pl_purchase = next(iter([ True for p in purchases if pl_sub_id == p['subscriber_id'] and p['launch']==pl_launch]), False)\n",
    "    \n",
    "    # if subscriber didn't receive any course emails then handle special\n",
    "    if len([e for e in pl_course_emails if delivered_before(e, pl_course_end_date)]) == 0: \n",
    "        # if purchase, then add as a 1:1\n",
    "        if pl_purchase: \n",
    "            pl_data.append({\"subscriber\": pl_sub_id, \"launch\": pl_launch, \"open_rate\": 1, \"click_rate\": 1, \"purchase\": pl_purchase})\n",
    "        continue #regardless, continue\n",
    "\n",
    "    # These ones are used multiple times    \n",
    "    pl_course_open_rate = get_rate(pl_course_emails, pl_course_end_date)\n",
    "    pl_course_click_rate = get_rate(pl_course_emails, pl_course_end_date, False)\n",
    "    \n",
    "    pl_all_data.append({\n",
    "        \"subscriber\": pl_sub_id, \n",
    "        \"subscription_length\":subscription_length,\n",
    "        \"launch\": pl_launch, \n",
    "        \"optin\":optin,\n",
    "        \"source\":source,\n",
    "        \"state\":state,\n",
    "        \"emails\":len(pl_rel_emails),\n",
    "        # TODO: Number of optins\n",
    "        \"open_rate\": get_rate(pl_rel_emails, pl_course_start_date),\n",
    "        \"click_rate\": get_rate(pl_rel_emails, pl_course_start_date, False),\n",
    "        \"rec_open_rate\": get_rate(pl_recent_emails, pl_course_start_date),\n",
    "        \"rec_click_rate\": get_rate(pl_recent_emails, pl_course_start_date, False),\n",
    "        \"course_open_rate\": pl_course_open_rate, # course launch open_rate\n",
    "        \"course_click_rate\": pl_course_click_rate, # course launch click_rate\n",
    "        \"past_course_open_rate\": get_rate(pl_rel_course_emails, pl_course_start_date), # course launch open_rate\n",
    "        \"past_course_click_rate\": get_rate(pl_rel_course_emails, pl_course_start_date, False), # course launch click_rate\n",
    "        \"purchase_probability\": get_purchase_probability(pl_course_open_rate, pl_course_click_rate) if not pl_purchase else 1,\n",
    "        \"purchase\": pl_purchase, # bool for purchase\n",
    "    })\n",
    "    \n",
    "    #Troubleshooting\n",
    "#     if pl_sub_id==137632869 and pl_launch=='Launch_5': pdb.set_trace()"
   ]
  },
  {
   "cell_type": "code",
   "execution_count": null,
   "metadata": {
    "ExecuteTime": {
     "end_time": "2019-09-27T07:24:36.064427Z",
     "start_time": "2019-09-27T07:24:35.985914Z"
    },
    "hidden": true
   },
   "outputs": [],
   "source": [
    "# cursor.quick_info('launch_info', launch=\"Launch_3\")\n",
    "# cursor.e('UPDATE launch_info SET start=\"2017-11-21\", duration=7 WHERE launch=\"Launch_3\"')"
   ]
  },
  {
   "cell_type": "code",
   "execution_count": null,
   "metadata": {
    "ExecuteTime": {
     "end_time": "2019-09-27T07:25:46.626958Z",
     "start_time": "2019-09-27T07:25:46.588780Z"
    },
    "hidden": true
   },
   "outputs": [],
   "source": [
    "pl_course_start_date, pl_rel_emails"
   ]
  },
  {
   "cell_type": "code",
   "execution_count": null,
   "metadata": {
    "ExecuteTime": {
     "end_time": "2019-09-27T06:50:20.300088Z",
     "start_time": "2019-09-27T06:50:20.207624Z"
    },
    "hidden": true
   },
   "outputs": [],
   "source": [
    "# Replace None with average (For Radiant)\n",
    "averages = {}\n",
    "for val in pl_all_data[0].keys():\n",
    "    if 'rate' not in val: continue\n",
    "    all_vals = [p[val] for p in pl_all_data if p[val]]\n",
    "    averages[val] = sum(all_vals)/len(all_vals)\n",
    "\n",
    "for i,p in enumerate(pl_all_data):\n",
    "    for k,v in p.items():\n",
    "        if v == None: pl_all_data[i][k] = averages[k]"
   ]
  },
  {
   "cell_type": "code",
   "execution_count": null,
   "metadata": {
    "ExecuteTime": {
     "end_time": "2019-09-27T07:26:01.412582Z",
     "start_time": "2019-09-27T07:26:01.376573Z"
    },
    "hidden": true
   },
   "outputs": [],
   "source": [
    "len(pl_all_data)\n",
    "len([p for p in pl_all_data if None in p.values()])\n",
    "# pl_rel_course_emails;\n",
    "# [[k,v] for k,v in course_email_dict.items() if 1024762 in v]\n",
    "# [p for p in pl_all_data if p['launch']=='Launch_6'][0]\n",
    "[p for p in pl_all_data if p['subscriber']==137632665]\n",
    "# pl_all_data[1]\n",
    "# get_purchase_probability(0.14,0.14)"
   ]
  },
  {
   "cell_type": "markdown",
   "metadata": {
    "hidden": true
   },
   "source": [
    "Store data"
   ]
  },
  {
   "cell_type": "code",
   "execution_count": null,
   "metadata": {
    "ExecuteTime": {
     "end_time": "2019-09-27T06:51:02.320645Z",
     "start_time": "2019-09-27T06:51:02.141314Z"
    },
    "hidden": true
   },
   "outputs": [],
   "source": [
    "# Write to csv\n",
    "import csv\n",
    "with open('/Users/nish/Local/Programming/convertkit_wrapper/quality_data.csv', 'w', newline='') as csvfile:\n",
    "    quality_writer = csv.writer(csvfile)\n",
    "    quality_writer.writerow(pl_all_data[0].keys())\n",
    "    for pl_item in pl_all_data:\n",
    "        quality_writer.writerow(pl_item.values())"
   ]
  },
  {
   "cell_type": "markdown",
   "metadata": {
    "hidden": true
   },
   "source": [
    "Troubleshooting"
   ]
  },
  {
   "cell_type": "code",
   "execution_count": null,
   "metadata": {
    "ExecuteTime": {
     "end_time": "2019-09-27T04:54:43.782932Z",
     "start_time": "2019-09-27T04:54:43.745586Z"
    },
    "hidden": true
   },
   "outputs": [],
   "source": [
    "list(launch_sub_quality_dict.values())[0]"
   ]
  },
  {
   "cell_type": "code",
   "execution_count": null,
   "metadata": {
    "ExecuteTime": {
     "end_time": "2019-09-27T04:55:02.105766Z",
     "start_time": "2019-09-27T04:55:02.062884Z"
    },
    "hidden": true
   },
   "outputs": [],
   "source": [
    "len(temp_all_info)"
   ]
  },
  {
   "cell_type": "code",
   "execution_count": null,
   "metadata": {
    "ExecuteTime": {
     "end_time": "2019-09-27T04:54:55.990125Z",
     "start_time": "2019-09-27T04:54:55.952063Z"
    },
    "hidden": true
   },
   "outputs": [],
   "source": [
    "temp_all_info = [a for b in launch_sub_quality_dict.values() for a in b.values()]"
   ]
  },
  {
   "cell_type": "code",
   "execution_count": null,
   "metadata": {
    "ExecuteTime": {
     "end_time": "2019-09-27T04:50:19.836201Z",
     "start_time": "2019-09-27T04:50:19.803005Z"
    },
    "hidden": true
   },
   "outputs": [],
   "source": [
    "launch_sub_quality_dict['Launch_6'][137389801]"
   ]
  },
  {
   "cell_type": "markdown",
   "metadata": {
    "heading_collapsed": true,
    "hidden": true
   },
   "source": [
    "###### Purchase likelihood based on course email actions"
   ]
  },
  {
   "cell_type": "code",
   "execution_count": null,
   "metadata": {
    "ExecuteTime": {
     "end_time": "2019-09-27T05:33:36.974001Z",
     "start_time": "2019-09-27T05:33:34.008198Z"
    },
    "hidden": true
   },
   "outputs": [],
   "source": [
    "# Go through each launch for each subscriber (launch_data)\n",
    "# Make datapoints: course_emails_opened, course_emails_clicked, purchase (all before the end of the launch)\n",
    "# Get the launch instances\n",
    "pl_launch_data = cursor.e('SELECT * FROM launch_data'); pl_launch_data[:3] # All the launches given to subs\n",
    "pl_data = []\n",
    "\n",
    "# for each one, get the emails that were for the launch\n",
    "for pl_launch_datum in pl_launch_data:\n",
    "\n",
    "# # Testing Code\n",
    "# for i in [1]:\n",
    "#     pl_launch_datum = {'subscriber_id': 531282421, \"launch\": 'Launch_5'}\n",
    "    \n",
    "    pl_sub_id = pl_launch_datum['subscriber_id']\n",
    "    pl_launch = pl_launch_datum['launch']\n",
    "    \n",
    "    if pl_launch in [\"Giveaway\", \"Unknown\"]: continue # These don't have good data\n",
    "    \n",
    "    # date of the end of the launch (+3 days)\n",
    "    pl_course_end_date = time_conv_1(launch_info_dict[pl_launch]['start']) +\\\n",
    "        timedelta(days=launch_info_dict[pl_launch]['duration'] + 3)\n",
    "    \n",
    "    # this subscriber's emails \n",
    "    pl_emails = emails_dict.get(pl_sub_id, [])\n",
    "\n",
    "    # Skip subscribers with no emails before the launch\n",
    "    if len([e for e in pl_emails if delivered_before(e, pl_course_end_date)]) == 0: continue\n",
    "\n",
    "    # Was there a purchase during this launch?\n",
    "    pl_purchase = next(iter([ True for p in purchases if pl_sub_id == p['subscriber_id'] and p['launch']==pl_launch]), False)\n",
    "    \n",
    "    # subscriber's email that are course launch emails\n",
    "    pl_course_emails = [e for e in pl_emails if e['email_id'] in course_email_dict[pl_launch]]\n",
    "    \n",
    "    # if subscriber didn't receive any course emails then handle special\n",
    "    if len([e for e in pl_course_emails if delivered_before(e, pl_course_end_date)]) == 0: \n",
    "        # if purchase, then add as a 1:1\n",
    "        if pl_purchase: \n",
    "            pl_data.append({\"subscriber\": pl_sub_id, \"launch\": pl_launch, \"open_rate\": 1, \"click_rate\": 1, \"purchase\": pl_purchase})\n",
    "        continue #regardless, continue\n",
    "    \n",
    "    \n",
    "    pl_course_opens = [opened_before(e, pl_course_end_date) for e in pl_course_emails]; pl_course_opens\n",
    "    pl_course_open_rate = round(sum(pl_course_opens)/len(pl_course_opens),2) if pl_course_opens else 0; pl_course_open_rate\n",
    "\n",
    "    pl_course_clicks = [clicked_before(e, pl_course_end_date) for e in pl_course_emails]; pl_course_clicks\n",
    "    pl_course_click_rate = round(sum(pl_course_clicks)/len(pl_course_clicks),2) if pl_course_clicks else 0; pl_course_click_rate\n",
    "    \n",
    "    pl_data.append({\n",
    "        \"subscriber\": pl_sub_id, \n",
    "        \"launch\": pl_launch, \n",
    "        \"open_rate\": pl_course_open_rate, \n",
    "        \"click_rate\": pl_course_click_rate, \n",
    "        \"purchase\": pl_purchase\n",
    "    })\n",
    "    \n",
    "    #Troubleshooting\n",
    "#     if pl_sub_id==137632869 and pl_launch=='Launch_5': pdb.set_trace()"
   ]
  },
  {
   "cell_type": "code",
   "execution_count": null,
   "metadata": {
    "hidden": true
   },
   "outputs": [],
   "source": [
    "# Remove the Launch 1 and Launch 2 and where we don't have purchase info, until I can get it"
   ]
  },
  {
   "cell_type": "code",
   "execution_count": null,
   "metadata": {
    "ExecuteTime": {
     "end_time": "2019-09-27T02:57:46.749579Z",
     "start_time": "2019-09-27T02:57:46.665340Z"
    },
    "hidden": true
   },
   "outputs": [],
   "source": [
    "# Who are the people that purchases who I don't have data for? This looks good\n",
    "temp = [p['subscriber'] for p in pl_data if p['purchase']==True]; temp\n",
    "[\n",
    "    p \n",
    "    for p in purchases \n",
    "        if p['subscriber_id'] not in temp \n",
    "        and p['subscriber_id'] \n",
    "        and p['launch'] not in ['Launch_1', 'Launch_2', 'Giveaway']\n",
    "        and p['subscriber_id'] > 20000\n",
    "]\n",
    "# [p for p in purchases if not p['subscriber_id']]"
   ]
  },
  {
   "cell_type": "code",
   "execution_count": null,
   "metadata": {
    "ExecuteTime": {
     "end_time": "2019-09-27T03:15:40.404175Z",
     "start_time": "2019-09-27T03:15:40.368791Z"
    },
    "hidden": true
   },
   "outputs": [],
   "source": [
    "sum([p['open_rate'] for p in pl_data])/len(pl_data)\n",
    "sum([p['open_rate'] for p in pl_data if p['purchase']])/len([p for p in pl_data if p['purchase']])\n",
    "[p['open_rate'] for p in pl_data if p['purchase']]"
   ]
  },
  {
   "cell_type": "code",
   "execution_count": null,
   "metadata": {
    "ExecuteTime": {
     "end_time": "2019-09-27T05:34:03.583215Z",
     "start_time": "2019-09-27T05:34:03.498918Z"
    },
    "hidden": true
   },
   "outputs": [],
   "source": [
    "# Write to csv\n",
    "import csv\n",
    "with open('/Users/nish/Local/Programming/convertkit_wrapper/purchase_estimate.csv', 'w', newline='') as csvfile:\n",
    "    quality_writer = csv.writer(csvfile)\n",
    "    quality_writer.writerow(list(pl_data[0].keys()))\n",
    "    for item in pl_data:\n",
    "        quality_writer.writerow(item.values())\n",
    "#     quality_writer.writerow(['Spam', 'Lovely Spam', 'Wonderful Spam'])"
   ]
  },
  {
   "cell_type": "markdown",
   "metadata": {
    "hidden": true
   },
   "source": [
    "RESULTS\n",
    "Based on this data I get the following:\n",
    "\n",
    "* -7.015457724 intercept\n",
    "* 2.199782226 * open_rate\n",
    "* 6.105238943 * click_rate"
   ]
  },
  {
   "cell_type": "code",
   "execution_count": null,
   "metadata": {
    "ExecuteTime": {
     "end_time": "2019-09-27T05:48:43.788409Z",
     "start_time": "2019-09-27T05:48:43.489229Z"
    },
    "hidden": true
   },
   "outputs": [],
   "source": [
    "def get_purchase_probability(open_rate, click_rate):\n",
    "    \"\"\"\n",
    "    Calculate the probability of purchase to help with a score for a subscriber\n",
    "    coefficients come from rstudio radiant and then it is truncated (min5) and normalized (/5)\n",
    "    6203 Class9 - Logistic Regression1\n",
    "    p(x) = \n",
    "    Would love for it to be more of a linear function in the future\n",
    "    \"\"\"\n",
    "    if open_rate>1 or open_rate<0 or click_rate>1 or click_rate<0: raise Exception('Rates must be between 0 and 1')\n",
    "#     return min(round(2.199782226 * open_rate + 6.105238943 * click_rate, 4), 5)/5\n",
    "    exp_thing = math.exp(2.199782226 * open_rate + 6.105238943 * click_rate - 7.015457724)\n",
    "    return exp_thing/(1+exp_thing)\n",
    "get_purchase_probability(1, 0.57)# 0.208\n",
    "pl_pp = [get_purchase_probability(p['open_rate'], p['click_rate']) for p in pl_data]\n",
    "plt.plot(sorted(pl_pp))"
   ]
  },
  {
   "cell_type": "markdown",
   "metadata": {
    "heading_collapsed": true,
    "hidden": true
   },
   "source": [
    "###### Email stuff"
   ]
  },
  {
   "cell_type": "code",
   "execution_count": null,
   "metadata": {
    "ExecuteTime": {
     "end_time": "2019-09-26T21:29:54.264459Z",
     "start_time": "2019-09-26T21:29:49.495499Z"
    },
    "hidden": true
   },
   "outputs": [],
   "source": [
    "# ce = 2208054\n",
    "all_emails = [a for b in emails_dict.values() for a in b]\n",
    "launch_info = cursor.e('SELECT * FROM launch_info ORDER BY launch DESC'); launch_info\n",
    "course_email_dict = {}\n",
    "for ce in course_email_ids:\n",
    "    email_dates = [a['deliver_date'] for a in all_emails if a['email_id']==ce]\n",
    "    email_launch = [l for l in launch_info if l['duration'] and  min(email_dates) > conv_time_1(l['start']) - timedelta(days=7) and max(email_dates) < conv_time_1(l['start']) + timedelta(days=l['duration']+7)]\n",
    "    email_launch_info = next(iter(email_launch), None)\n",
    "#     print(ce, time_dt_to_ck(min(email_dates)),\"to\",time_dt_to_ck(max(email_dates)), email_launch_info)\n",
    "    if email_launch_info: course_email_dict.setdefault(email_launch_info['launch'], []).append(ce)\n",
    "\n",
    "course_email_dict['Launch_3'].append(1024762)\n",
    "course_email_dict['Launch_3'].append(1033254)\n",
    "course_email_dict['Launch_3'].append(1024765)\n",
    "course_email_dict['Launch_3'].append(1024766)\n",
    "course_email_dict['Launch_3'].append(1024767)\n",
    "course_email_dict['Launch_3'].append(1024768)\n",
    "course_email_dict['Launch_3'].append(1024769)\n",
    "course_email_dict['Launch_3'].append(1088198)\n",
    "course_email_dict['Launch_3'].append(1088199)\n",
    "\n",
    "course_email_dict['Launch_5'].append(1866876)\n",
    "\n",
    "course_email_dict['Launch_6'].append(2208052)\n",
    "\n",
    "# Verify\n",
    "len([a for b in course_email_dict.values() for a in b]), len(set([a for b in course_email_dict.values() for a in b]))\n",
    "if len(set([a for b in course_email_dict.values() for a in b]) - set(course_email_ids)) != 0: raise Exception()\n",
    "print(course_email_dict)\n",
    "\n",
    "# min(email_dates)\n",
    "# email_launch = [l for l in launch_info if l['duration'] and  min(email_dates) > conv_time_1(l['start']) - timedelta(days=7) and max(email_dates) < conv_time_1(l['start']) + timedelta(days=l['duration']+7)]\n",
    "# print(time_dt_to_ck(min(email_dates)),\"to\",time_dt_to_ck(max(email_dates)), next(iter(email_launch),None))"
   ]
  },
  {
   "cell_type": "markdown",
   "metadata": {
    "heading_collapsed": true,
    "hidden": true
   },
   "source": [
    "###### Troubleshooting"
   ]
  },
  {
   "cell_type": "code",
   "execution_count": null,
   "metadata": {
    "ExecuteTime": {
     "end_time": "2019-09-26T15:51:13.725162Z",
     "start_time": "2019-09-26T15:51:13.451166Z"
    },
    "hidden": true
   },
   "outputs": [],
   "source": [
    "# Why do I have 5 missing people from purchases for Launch 2\n",
    "# [a for a in all_sub_data if a['id']==7984]\n",
    "\n",
    "# cursor.e('SELECT * FROM launch_data WHERE subscriber_id=137633795')\n",
    "launch= \"Launch_6\"#\"Evergreen_2\"#\"Launch_6\" #### Set the launch\n",
    "\n",
    "ref_date = time_conv_1(launch_info_dict[launch]['start']); print(f'Start of launch: {ref_date}')\n",
    "launch_duration = launch_info_dict[launch]['duration'] or sys.maxsize; print(f'Launch duration: {launch_duration}')\n",
    "\n",
    "purchases = cursor.e(f'SELECT * FROM purchase_data WHERE launch=\"{launch}\"')\n",
    "found_purchases = {k:l for k,l in launch_sub_quality_dict[launch].items() if l['purchase']}\n",
    "print(f'{len(purchases)}/{len(found_purchases)} purchases found mysql/list')\n",
    "\n",
    "mysql_l_d = set(c['subscriber_id'] for c in cursor.e(f'SELECT * FROM launch_data WHERE launch=\"{launch}\"')); mysql_l_d\n",
    "len(mysql_l_d), len(launch_sub_quality_dict[launch]), len(mysql_l_d - set(launch_sub_quality_dict[launch])), len(set(launch_sub_quality_dict[launch]) - mysql_l_d)"
   ]
  },
  {
   "cell_type": "code",
   "execution_count": null,
   "metadata": {
    "ExecuteTime": {
     "end_time": "2019-09-26T15:51:18.990090Z",
     "start_time": "2019-09-26T15:51:18.854671Z"
    },
    "hidden": true
   },
   "outputs": [],
   "source": [
    "mysql_l_d - set(launch_sub_quality_dict[launch]) # Have mysql launch, but didn't make it into "
   ]
  },
  {
   "cell_type": "code",
   "execution_count": null,
   "metadata": {
    "ExecuteTime": {
     "end_time": "2019-09-26T15:53:36.144588Z",
     "start_time": "2019-09-26T15:53:36.059905Z"
    },
    "hidden": true
   },
   "outputs": [],
   "source": [
    "# Missing, excessive purchases\n",
    "for p in purchases:\n",
    "    if p['subscriber_id'] in found_purchases or p['purchaser_id'] in found_purchases: continue\n",
    "    print('Didn\"t find purchase that is in MYSQL:')\n",
    "    print(p)\n",
    "for f in found_purchases:\n",
    "    if f in [p['subscriber_id'] for p in purchases]: continue\n",
    "    print('Found but shouldnt have')\n",
    "    print(f, found_purchases[f])\n",
    "# set([p['subscriber_id'] for p in purchases]) - set([f[0] for f in found_purchases])\n",
    "# set([f[0] for f in found_purchases]) - set([p['subscriber_id'] for p in purchases])"
   ]
  },
  {
   "cell_type": "code",
   "execution_count": null,
   "metadata": {
    "ExecuteTime": {
     "end_time": "2019-09-26T15:50:32.342647Z",
     "start_time": "2019-09-26T15:50:32.255830Z"
    },
    "hidden": true
   },
   "outputs": [],
   "source": [
    "# cursor.e('SELECT * FROM subscriber_data WHERE id=155418278') #sl14calloway@gmail.com\n",
    "# cursor.e('SELECT * FROM subscriber_data WHERE email_address=\"kttazure86@gmail.com\"')\n",
    "cursor.e('SELECT * FROM launch_data WHERE subscriber_id=156454359')\n",
    "# cursor.e('SELECT * FROM purchase_data WHERE purchaser_id=137664060')\n",
    "# cursor.e(f'SELECT * FROM purchase_data WHERE launch=\"Launch_1\"')\n",
    "# cursor.e('SELECT * FROM launch_info')\n",
    "# cursor.e('SELECT * FROM subscriber_data WHERE mailchimp_sub_date!=\"\" LIMIT 1')\n",
    "\n",
    "# cursor.e('DELETE FROM launch_data WHERE subscriber_id=155430525 AND launch=\"Launch_3\"')\n",
    "# cursor.e('UPDATE purchase_data SET launch=\"Launch_1\", purchase_date=\"2017-04-25\" WHERE subscriber_id=137664059')\n",
    "# cursor.e('UPDATE purchase_data SET subscriber_id=137633170, subscriber_email_address=\"kttazure86@gmail.com\" WHERE purchaser_id=155418278')\n",
    "# cursor.e('UPDATE subscriber_data SET mailchimp_sub_date=\"2017-07-19 04:08:51\", subscribe_date=\"2017-07-19\" WHERE id=137664062')\n",
    "# cursor.e('UPDATE subscriber_data SET `lead_opt-in`=\"MailChimp\", `lead_source`=\"MailChimp\" WHERE id=137664061')\n",
    "# cursor.e('INSERT INTO launch_data (subscriber_id, launch) VALUES (137633192, \"Launch_2\")')\n",
    "# conn.commit()"
   ]
  },
  {
   "cell_type": "code",
   "execution_count": null,
   "metadata": {
    "ExecuteTime": {
     "end_time": "2019-09-26T15:27:05.801047Z",
     "start_time": "2019-09-26T15:27:05.766126Z"
    },
    "hidden": true
   },
   "outputs": [],
   "source": [
    "# Why is the purchase not in the list?\n",
    "sub_id = 137632855\n",
    "# sub_data = next(iter([a for a in all_sub_data if a['id']==sub_id]), None)\n",
    "launch_sub_quality_dict[launch][sub_id]"
   ]
  },
  {
   "cell_type": "code",
   "execution_count": null,
   "metadata": {
    "ExecuteTime": {
     "end_time": "2019-09-26T15:52:14.855112Z",
     "start_time": "2019-09-26T15:52:14.749384Z"
    },
    "hidden": true
   },
   "outputs": [],
   "source": [
    "# Why was the subscriber ignored\n",
    "sub_id = 536486016\n",
    "sub_data = next(iter([a for a in all_sub_data if a['id']==sub_id]), None)\n",
    "subscription_length = (ref_date - datetime.strptime(sub_data['subscribe_date'], '%Y-%m-%d')).days if sub_data['subscribe_date'] else 0\n",
    "\n",
    "# possible code\n",
    "if not sub_id in launch_dict or not launch in launch_dict[sub_id]: print('launch_dict is the issue')\n",
    "if subscription_length <= -1 * launch_duration - 1: \n",
    "    print('subscription_length is the issue')\n",
    "    print(subscription_length, launch_duration)"
   ]
  },
  {
   "cell_type": "code",
   "execution_count": null,
   "metadata": {
    "ExecuteTime": {
     "end_time": "2019-09-26T13:31:58.642860Z",
     "start_time": "2019-09-26T13:31:58.607879Z"
    },
    "hidden": true
   },
   "outputs": [],
   "source": [
    "# Sub info?\n",
    "[a for a in all_sub_data if a['id']==sub_id]"
   ]
  },
  {
   "cell_type": "code",
   "execution_count": null,
   "metadata": {
    "ExecuteTime": {
     "end_time": "2019-09-26T14:02:08.594522Z",
     "start_time": "2019-09-26T14:02:08.388954Z"
    },
    "hidden": true
   },
   "outputs": [],
   "source": [
    "# Purchase?\n",
    "[p for p in purchases if p['subscriber_id']==sub_id]"
   ]
  },
  {
   "cell_type": "code",
   "execution_count": null,
   "metadata": {
    "ExecuteTime": {
     "end_time": "2019-09-26T14:06:47.154675Z",
     "start_time": "2019-09-26T14:06:47.033324Z"
    },
    "hidden": true
   },
   "outputs": [],
   "source": [
    "cursor.e('SELECT * FROM subscriber_data WHERE email_address=\"kristinba@gmail.com\n",
    "cursor.e('UPDATE purchase_data SET subscriber_email_address=\"kristinba@gmail.com\", subscriber_id=137633192 WHERE purchaser_id=137663975')\n",
    "cursor.e('SELECT * FROM purchase_data WHERE purchaser_id=137663975')"
   ]
  },
  {
   "cell_type": "markdown",
   "metadata": {
    "hidden": true
   },
   "source": [
    "MailChimp with no mailchimp date"
   ]
  },
  {
   "cell_type": "code",
   "execution_count": null,
   "metadata": {
    "ExecuteTime": {
     "end_time": "2019-09-26T14:13:38.313236Z",
     "start_time": "2019-09-26T14:13:38.118078Z"
    },
    "hidden": true
   },
   "outputs": [],
   "source": [
    "# cursor.e('SELECT * FROM launch_info')\n",
    "# cursor.e('SELECT * FROM subscriber_data WHERE mailchimp_sub_date!=\"\" LIMIT 1')\n",
    "# cursor.e('SELECT * FROM subscriber_data WHERE email_address=\"chad@chadbehnke.com\"')\n",
    "# cursor.e('UPDATE subscriber_data SET mailchimp_sub_date= \"2017-10-28 13:13:51\" WHERE email_address=\"emmaniemans@hotmail.com\"')\n",
    "# cursor.e('SELECT email_address FROM subscriber_data WHERE (`lead_opt-in`=\"MailChimp\" OR `lead_source`=\"MailChimp\") AND mailchimp_sub_date =\"\"')\n",
    "# conn.commit()"
   ]
  },
  {
   "cell_type": "markdown",
   "metadata": {
    "hidden": true
   },
   "source": [
    "Find the real email address for a purchaser"
   ]
  },
  {
   "cell_type": "code",
   "execution_count": null,
   "metadata": {
    "ExecuteTime": {
     "end_time": "2019-09-27T06:15:11.151627Z",
     "start_time": "2019-09-27T06:15:11.008832Z"
    },
    "hidden": true
   },
   "outputs": [],
   "source": [
    "year=2019; month=7; day=28\n",
    "[\n",
    "    [all_rds_dict[a['subscriber_id']]['email_address'], all_rds_dict[a['subscriber_id']]['id']] \n",
    "    for a in all_emails \n",
    "        if ((a['open_date'] and a['open_date'] > datetime(2019, 7, day) and a['open_date'] < datetime(2019, 7, day+1)) \n",
    "             or (a['click_date'] and a['click_date'] > datetime(2019, 7, day) and a['click_date'] < datetime(2019, 7, day+1)))\n",
    "        and all_rds_dict[a['subscriber_id']]['loc_state']=='Oregon'\n",
    "#         and 'damion' in all_rds_dict[a['subscriber_id']]['email_address']\n",
    "]"
   ]
  },
  {
   "cell_type": "markdown",
   "metadata": {
    "heading_collapsed": true
   },
   "source": [
    "##### Analysis"
   ]
  },
  {
   "cell_type": "markdown",
   "metadata": {
    "heading_collapsed": true,
    "hidden": true
   },
   "source": [
    "###### Purchasers vs non-purchasers"
   ]
  },
  {
   "cell_type": "code",
   "execution_count": null,
   "metadata": {
    "hidden": true
   },
   "outputs": [],
   "source": [
    "# Need to compare a purchaser at the moment of purchase, versus non-purchasers at the same moment\n",
    "# For each launch, look at the purchasers and what their stats were like, versus what the non-purchasers were at that point\n",
    "# e.g.\n",
    "# Launch 1, \n",
    "# 40 purchasers, active ppl x% open-click-rec-open-rec-click-#optins-source\n",
    "#1800 non purchasers, active ppl x% open-click-rec-open-rec-click-#optins-source"
   ]
  },
  {
   "cell_type": "code",
   "execution_count": null,
   "metadata": {
    "ExecuteTime": {
     "end_time": "2019-09-27T04:50:53.874102Z",
     "start_time": "2019-09-27T04:50:53.756751Z"
    },
    "hidden": true
   },
   "outputs": [],
   "source": [
    "launch_info = cursor.e('SELECT * FROM launch_info'); launch_info\n",
    "# for launch in launch_info:\n",
    "\n",
    "if True: # Temp\n",
    "    launch = {'launch': 'Launch_6', 'start': '2019-07-17', 'duration': 12}\n",
    "    \n",
    "    launch_receivers = launch_sub_quality_dict[launch['launch']]\n",
    "    launch_purchasers = [{k:v} for k,v in launch_receivers.items() if v['purchase']]\n",
    "    \n",
    "    print(launch['launch'], launch['start'], \":\", len(launch_receivers), \"-\", len(launch_purchasers))\n",
    "    \n",
    "    # get the graphs on each metric for purchasers, launch receivers, and total\n",
    "    \n",
    "    # sorted graph of the metric from 0 to 100%, or histogram of the different optins"
   ]
  },
  {
   "cell_type": "code",
   "execution_count": null,
   "metadata": {
    "ExecuteTime": {
     "end_time": "2019-09-27T04:51:04.828292Z",
     "start_time": "2019-09-27T04:51:04.790459Z"
    },
    "hidden": true
   },
   "outputs": [],
   "source": [
    "sum([l['open_rate'] for l in list(launch_receivers.values())]) # 2815.1, 2753.27"
   ]
  },
  {
   "cell_type": "code",
   "execution_count": null,
   "metadata": {
    "ExecuteTime": {
     "end_time": "2019-09-26T17:29:01.317377Z",
     "start_time": "2019-09-26T17:29:01.126157Z"
    },
    "hidden": true
   },
   "outputs": [],
   "source": [
    "# list(launch_receivers.values())[0]\n",
    "summary = {}\n",
    "p_summary = {}\n",
    "for key in list(launch_receivers.values())[0].keys():\n",
    "#     print(key)\n",
    "    for sub in launch_receivers.values():\n",
    "        if key == 'subscription_length' and sub[key] <= 0: continue\n",
    "        summary.setdefault(key, []).append(sub[key])\n",
    "        \n",
    "    for sub in launch_receivers.values():\n",
    "        if not sub['purchase']: continue\n",
    "        if key == 'subscription_length' and sub[key] <= 0: continue\n",
    "        p_summary.setdefault(key, []).append(sub[key])"
   ]
  },
  {
   "cell_type": "code",
   "execution_count": null,
   "metadata": {
    "ExecuteTime": {
     "end_time": "2019-09-26T20:23:00.369678Z",
     "start_time": "2019-09-26T20:23:00.303282Z"
    },
    "hidden": true
   },
   "outputs": [],
   "source": [
    "# print(list(list(launch_receivers.values())[0].keys()))\n",
    "# launch_receivers[137389801]\n",
    "# email_data = emails_dict.get(137389801, []);email_data\n",
    "# opens = [e['opened'] for e in email_data if opened_before(e, ref_date)]; opens\n",
    "# opens = [opened_before(e, ref_date) for e in email_data if delivered_before(e, ref_date)]; opens\n",
    "# open_rate = round(sum(opens)/len(opens),2) if opens else 0; open_rate\n",
    "# [e for e in email_data if e['subscriber_id']==137389801]\n",
    "# email_data"
   ]
  },
  {
   "cell_type": "code",
   "execution_count": null,
   "metadata": {
    "ExecuteTime": {
     "end_time": "2019-09-27T04:52:18.524859Z",
     "start_time": "2019-09-27T04:52:18.418065Z"
    },
    "hidden": true
   },
   "outputs": [],
   "source": [
    "# Write to csv\n",
    "import csv\n",
    "with open('/Users/nish/Local/Programming/convertkit_wrapper/quality_data.csv', 'w', newline='') as csvfile:\n",
    "    quality_writer = csv.writer(csvfile)\n",
    "    quality_writer.writerow(list(list(launch_sub_quality_dict['Launch_6'].values())[0].keys()))\n",
    "    for launch in launch_info:\n",
    "        if launch['launch'] not in launch_sub_quality_dict: continue\n",
    "        for sub in launch_sub_quality_dict[launch['launch']].values():\n",
    "            quality_writer.writerow(sub.values())\n",
    "#     quality_writer.writerow(['Spam', 'Lovely Spam', 'Wonderful Spam'])"
   ]
  },
  {
   "cell_type": "code",
   "execution_count": null,
   "metadata": {
    "ExecuteTime": {
     "end_time": "2019-09-26T17:30:55.592055Z",
     "start_time": "2019-09-26T17:30:55.519414Z"
    },
    "hidden": true
   },
   "outputs": [],
   "source": [
    "metric = 'rec_click_rate'\n",
    "print(sum(summary[metric])/len(summary[metric]))\n",
    "print(sum(p_summary[metric])/len(p_summary[metric]))"
   ]
  },
  {
   "cell_type": "code",
   "execution_count": null,
   "metadata": {
    "ExecuteTime": {
     "end_time": "2019-09-25T20:23:40.694154Z",
     "start_time": "2019-09-25T20:23:40.597483Z"
    },
    "hidden": true
   },
   "outputs": [],
   "source": [
    "# Counter([s['optin'] for s in sub_qualities.values() if s['purchase']]), Counter([s['optin'] for s in sub_qualities.values() if not s['purchase']])\n",
    "col = 'launches'\n",
    "pd = [s[col] for s in sub_qualities.values() if s['purchase']]\n",
    "npd = [s[col] for s in sub_qualities.values() if not s['purchase']]\n",
    "\n",
    "sum(pd)/len(pd), sum(npd)/len(npd)"
   ]
  },
  {
   "cell_type": "code",
   "execution_count": null,
   "metadata": {
    "hidden": true
   },
   "outputs": [],
   "source": []
  },
  {
   "cell_type": "code",
   "execution_count": null,
   "metadata": {
    "hidden": true
   },
   "outputs": [],
   "source": []
  },
  {
   "cell_type": "markdown",
   "metadata": {
    "heading_collapsed": true,
    "hidden": true
   },
   "source": [
    "###### Visualize"
   ]
  },
  {
   "cell_type": "code",
   "execution_count": null,
   "metadata": {
    "ExecuteTime": {
     "end_time": "2019-09-09T23:26:43.234284Z",
     "start_time": "2019-09-09T23:26:43.165361Z"
    },
    "hidden": true
   },
   "outputs": [],
   "source": [
    "var = [\n",
    "    v['open_rate'] # Data to choose\n",
    "    for v in sub_qualities.values() \n",
    "    if True # If Statement item\n",
    "#        and v['state'] == \"active\" \n",
    "#        and v['optin'] == \"Style Mini-course\" \n",
    "       and v['purchase']\n",
    "       and v['subscription_length'] > 14\n",
    "]; len(var)"
   ]
  },
  {
   "cell_type": "code",
   "execution_count": null,
   "metadata": {
    "hidden": true
   },
   "outputs": [],
   "source": [
    "course_open_rates = sorted([[v['subscription_length'], v['course_open_rate']] for v in sub_qualities.values() if v['state']==\"active\"], reverse=True)"
   ]
  },
  {
   "cell_type": "code",
   "execution_count": null,
   "metadata": {
    "ExecuteTime": {
     "end_time": "2019-09-09T23:19:35.030405Z",
     "start_time": "2019-09-09T23:19:34.959418Z"
    },
    "hidden": true
   },
   "outputs": [],
   "source": [
    "var = [[v['subscription_length'], v['open_rate']] for v in sub_qualities.values() if v['state']==\"active\"]\n",
    "var = [[v['subscription_length'], v['open_rate']] for v in sub_qualities.values() if v['state']==\"active\"]"
   ]
  },
  {
   "cell_type": "code",
   "execution_count": null,
   "metadata": {
    "ExecuteTime": {
     "end_time": "2019-09-09T23:26:28.605980Z",
     "start_time": "2019-09-09T23:26:28.435382Z"
    },
    "hidden": true
   },
   "outputs": [],
   "source": [
    "# Sorted graph for single variables\n",
    "temp = sorted(var, reverse=True)\n",
    "plt.plot(temp)\n",
    "\n",
    "# # x vs y graph \n",
    "# plt.plot([o[0] for o in var], [o[1] for o in var])"
   ]
  },
  {
   "cell_type": "markdown",
   "metadata": {
    "heading_collapsed": true
   },
   "source": [
    "##### Course launch emails info"
   ]
  },
  {
   "cell_type": "code",
   "execution_count": null,
   "metadata": {
    "ExecuteTime": {
     "end_time": "2019-09-09T21:35:08.279819Z",
     "start_time": "2019-09-09T21:35:08.245931Z"
    },
    "hidden": true
   },
   "outputs": [],
   "source": [
    "course_email_ids = [1024762, 1033254, 1024765, 1024766, 1024767, 1024768, 1024769, 1088185, 1088196, 1088197, 1088198, 1088199, 1088200, 1191656, 1191657, 1191658, 1191659, 1191660, 1191661, 1191662, 1313872, 1314658, 1313641, 1313860, 1313861, 1313863, 1866878, 1866873, 1866874, 1866875, 1866876, 1866877, 1866879, 2014727, 2014728, 2014729, 2014730, 2016262, 2014731, 2014732, 2014743, 2014744, 2014745, 2014746, 2177600, 2177601, 2177602, 2177603, 2177604, 2177605, 2177606, 2208048, 2208049, 2208050, 2208051, 2208052, 2208053, 2208054]"
   ]
  },
  {
   "cell_type": "code",
   "execution_count": null,
   "metadata": {
    "hidden": true
   },
   "outputs": [],
   "source": [
    "Course launches\n",
    "136568\n",
    "1024762\n",
    "1033254\n",
    "1024765\n",
    "1024766\n",
    "1024767\n",
    "1024768\n",
    "1024769\n",
    "\n",
    "152853\n",
    "1088185\n",
    "1088196\n",
    "1088197\n",
    "1088198\n",
    "1088199\n",
    "1088200\n",
    "\n",
    "177772\n",
    "1191656\n",
    "1191657\n",
    "1191658\n",
    "1191659\n",
    "1191660\n",
    "1191661\n",
    "1191662\n",
    "\n",
    "206900\n",
    "1313872\n",
    "1314658\n",
    "1313641\n",
    "1313860\n",
    "1313861\n",
    "1313863\n",
    "\n",
    "337851\n",
    "1866878\n",
    "1866873\n",
    "1866874\n",
    "1866875\n",
    "1866876\n",
    "1866877\n",
    "1866879\n",
    "\n",
    "375580\n",
    "2014727\n",
    "2014728\n",
    "2014729\n",
    "2014730\n",
    "2016262\n",
    "2014731\n",
    "2014732\n",
    "2014743\n",
    "2014744\n",
    "2014745\n",
    "2014746\n",
    "\n",
    "415025\n",
    "2177600\n",
    "2177601\n",
    "2177602\n",
    "2177603\n",
    "2177604\n",
    "2177605\n",
    "2177606\n",
    "\n",
    "416959\n",
    "2208048\n",
    "2208049\n",
    "2208050\n",
    "2208051\n",
    "2208052\n",
    "2208053\n",
    "2208054"
   ]
  },
  {
   "cell_type": "markdown",
   "metadata": {
    "heading_collapsed": true
   },
   "source": [
    "#### Lookalike Creation"
   ]
  },
  {
   "cell_type": "code",
   "execution_count": null,
   "metadata": {
    "ExecuteTime": {
     "end_time": "2019-09-18T14:09:18.325082Z",
     "start_time": "2019-09-18T14:09:17.109886Z"
    },
    "hidden": true
   },
   "outputs": [],
   "source": [
    "# All US&CA people who are active\n",
    "# Get the list of subscribers\n",
    "all_rds_list = cursor.e('SELECT * FROM subscriber_data'); \n",
    "all_rds_dict = {a['id']: a for a in all_rds_list}"
   ]
  },
  {
   "cell_type": "code",
   "execution_count": null,
   "metadata": {
    "ExecuteTime": {
     "end_time": "2019-09-18T14:09:44.038127Z",
     "start_time": "2019-09-18T14:09:43.970313Z"
    },
    "hidden": true
   },
   "outputs": [],
   "source": [
    "# narrow down by people who are from US and CA\n",
    "# countries = ['United States of America', 'Canada']; # set([a['loc_country'] for a in all_rds_list])\n",
    "# subscribers = [a for a in all_rds_list if a['loc_country'] in countries and a['state'] == 'inactive']\n",
    "\n",
    "subscribers = [a for a in all_rds_list if a['state'] == 'inactive']; len(subscribers)"
   ]
  },
  {
   "cell_type": "code",
   "execution_count": null,
   "metadata": {
    "ExecuteTime": {
     "end_time": "2019-09-18T14:09:48.793116Z",
     "start_time": "2019-09-18T14:09:48.605500Z"
    },
    "hidden": true
   },
   "outputs": [],
   "source": [
    "# Add purchase data\n",
    "d = lambda pur: datetime.strptime(pur, '%Y-%m-%d') # Date conversion\n",
    "purchases = cursor.e(\"SELECT * FROM purchase_data\") # Get all purchases\n",
    "purchases = [{'purchase_date': d(p['purchase_date']) if p['purchase_date'] else None, **p} for p in purchases]\n",
    "purchasers = [p['subscriber_id'] for p in purchases] + [p['purchaser_id'] for p in purchases]; len(purchasers)\n",
    "\n",
    "# Add to the subscribers_data\n",
    "subscribers = [{**s, 'value': 297 if s['id'] in purchasers else 0} for s in subscribers]; len(subscribers),subscribers[0]\n",
    "\n",
    "# Only get purchasers\n",
    "# subscribers = [s for s in subscribers if s['id'] in purchasers]; len(subscribers), subscribers[0]"
   ]
  },
  {
   "cell_type": "code",
   "execution_count": null,
   "metadata": {
    "ExecuteTime": {
     "end_time": "2019-09-18T14:09:57.221155Z",
     "start_time": "2019-09-18T14:09:57.159162Z"
    },
    "hidden": true
   },
   "outputs": [],
   "source": [
    "# Gut check\n",
    "total_value = sum([s['value'] for s in subscribers]); total_value, len(subscribers)"
   ]
  },
  {
   "cell_type": "code",
   "execution_count": null,
   "metadata": {
    "ExecuteTime": {
     "end_time": "2019-09-18T14:10:09.343832Z",
     "start_time": "2019-09-18T14:10:09.173138Z"
    },
    "hidden": true
   },
   "outputs": [],
   "source": [
    "# Make into a csv with \n",
    "# header = ['email', 'fn', 'city', 'state', 'country', 'value']\n",
    "# data= [[s['email_address'], s['first_name'], s['loc_city'], s['loc_state'], s['loc_country'], s['value']] for s in subscribers]\n",
    "\n",
    "header = ['email', 'fn', 'city', 'state', 'country']\n",
    "data= [[s['email_address'], s['first_name'], s['loc_city'], s['loc_state'], s['loc_country']] for s in subscribers]\n",
    "df = pd.DataFrame(data, columns=header)\n",
    "# df.to_csv('/Users/nish/Local/Documents/FB Ads/lookalikes/us_ca_active_with_ltv.csv', index=False)\n",
    "df.to_csv('/Users/nish/Local/Documents/FB Ads/lookalikes/inactive_subscribers.csv', index=False)"
   ]
  },
  {
   "cell_type": "markdown",
   "metadata": {
    "heading_collapsed": true
   },
   "source": [
    "#### Temp"
   ]
  },
  {
   "cell_type": "code",
   "execution_count": null,
   "metadata": {
    "ExecuteTime": {
     "end_time": "2019-08-07T15:46:55.189956Z",
     "start_time": "2019-08-07T15:46:55.057423Z"
    },
    "hidden": true
   },
   "outputs": [],
   "source": [
    "# cursor.e('SELECT * FROM purchase_data WHERE launch=\"Giveaway\"')\n",
    "# cursor.e('UPDATE purchase_data SET purchase_value=0 WHERE launch=\"Giveaway\"')\n",
    "# cursor.e('UPDATE IGNORE launch_data SET launch=\"Giveaway\" WHERE launch=\"Unknown\"')"
   ]
  },
  {
   "cell_type": "code",
   "execution_count": null,
   "metadata": {
    "ExecuteTime": {
     "end_time": "2019-08-07T15:48:06.069904Z",
     "start_time": "2019-08-07T15:48:04.431964Z"
    },
    "hidden": true
   },
   "outputs": [],
   "source": [
    "sql_stmt = \"\"\"\\\n",
    "SELECT *\n",
    "FROM launch_data l \n",
    "LEFT JOIN subscriber_data s ON l.subscriber_id=s.id\n",
    "LEFT JOIN purchase_data p ON l.subscriber_id=COALESCE(p.subscriber_id, p.purchaser_id) AND l.launch=p.launch\n",
    "\"\"\"\n",
    "launch_results = cursor.e(sql_stmt);"
   ]
  },
  {
   "cell_type": "code",
   "execution_count": null,
   "metadata": {
    "ExecuteTime": {
     "end_time": "2019-08-07T15:48:18.958274Z",
     "start_time": "2019-08-07T15:48:18.915879Z"
    },
    "hidden": true
   },
   "outputs": [],
   "source": [
    "len(launch_results)\n",
    "launch_results[0].keys()\n",
    "launch_purchases = [l for l in launch_results if l['p.launch']]; len(launch_purchases)\n",
    "# launch_purchases"
   ]
  },
  {
   "cell_type": "code",
   "execution_count": null,
   "metadata": {
    "ExecuteTime": {
     "end_time": "2019-08-07T15:48:26.330614Z",
     "start_time": "2019-08-07T15:48:26.242834Z"
    },
    "hidden": true
   },
   "outputs": [],
   "source": [
    "true_purchases = cursor.e('SELECT * FROM purchase_data'); len(true_purchases)"
   ]
  }
 ],
 "metadata": {
  "kernelspec": {
   "display_name": "Python 3.7",
   "language": "python",
   "name": "py37"
  },
  "language_info": {
   "codemirror_mode": {
    "name": "ipython",
    "version": 3
   },
   "file_extension": ".py",
   "mimetype": "text/x-python",
   "name": "python",
   "nbconvert_exporter": "python",
   "pygments_lexer": "ipython3",
   "version": "3.7.3"
  }
 },
 "nbformat": 4,
 "nbformat_minor": 2
}
