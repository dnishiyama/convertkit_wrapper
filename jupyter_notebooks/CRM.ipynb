{
 "cells": [
  {
   "cell_type": "code",
   "execution_count": 2,
   "metadata": {
    "ExecuteTime": {
     "end_time": "2020-06-03T19:44:50.894893Z",
     "start_time": "2020-06-03T19:44:50.823761Z"
    },
    "scrolled": true
   },
   "outputs": [],
   "source": [
    "%reload_ext autoreload\n",
    "%autoreload 2\n",
    "%matplotlib inline\n",
    "\n",
    "import sys, csv\n",
    "sys.path.append('..')\n",
    "from modules.ck_utils import *\n",
    "\n",
    "# session = get_ck_session()# requests.session()\n",
    "# ck_app_session = \n",
    "log_level('i')"
   ]
  },
  {
   "cell_type": "code",
   "execution_count": 3,
   "metadata": {
    "ExecuteTime": {
     "end_time": "2020-06-03T19:44:52.594651Z",
     "start_time": "2020-06-03T19:44:52.258448Z"
    }
   },
   "outputs": [],
   "source": [
    "conn, cursor = connect()"
   ]
  },
  {
   "cell_type": "markdown",
   "metadata": {},
   "source": [
    "### Data Validation and Corrections"
   ]
  },
  {
   "cell_type": "markdown",
   "metadata": {},
   "source": [
    "#### Get Users"
   ]
  },
  {
   "cell_type": "code",
   "execution_count": 4,
   "metadata": {
    "ExecuteTime": {
     "end_time": "2020-06-03T19:44:58.201370Z",
     "start_time": "2020-06-03T19:44:57.058515Z"
    }
   },
   "outputs": [],
   "source": [
    "#### THIS WILL COMMIT ####\n",
    "# conn.commit() \n",
    "# THERE IS NOW A FUNCTION FOR THIS\n",
    "all_rds_list = cursor.e('SELECT * FROM subscriber_data')\n",
    "all_rds_dict = {a['id']: a for a in all_rds_list}"
   ]
  },
  {
   "cell_type": "code",
   "execution_count": 5,
   "metadata": {
    "ExecuteTime": {
     "end_time": "2020-06-03T19:45:04.573388Z",
     "start_time": "2020-06-03T19:45:04.170082Z"
    }
   },
   "outputs": [
    {
     "name": "stdout",
     "output_type": "stream",
     "text": [
      "Gathering all non-active sub ids via scraping\n"
     ]
    },
    {
     "ename": "TypeError",
     "evalue": "'NoneType' object is not subscriptable",
     "output_type": "error",
     "traceback": [
      "\u001b[0;31m---------------------------------------------------------------------------\u001b[0m",
      "\u001b[0;31mTypeError\u001b[0m                                 Traceback (most recent call last)",
      "\u001b[0;32m<ipython-input-5-7d5529e8a3a4>\u001b[0m in \u001b[0;36m<module>\u001b[0;34m\u001b[0m\n\u001b[1;32m      1\u001b[0m \u001b[0;31m# This takes about 4 minutes\u001b[0m\u001b[0;34m\u001b[0m\u001b[0;34m\u001b[0m\u001b[0;34m\u001b[0m\u001b[0m\n\u001b[0;32m----> 2\u001b[0;31m \u001b[0mnon_active_sub_data\u001b[0m \u001b[0;34m=\u001b[0m \u001b[0mget_non_active_sub_data\u001b[0m\u001b[0;34m(\u001b[0m\u001b[0mstep\u001b[0m\u001b[0;34m=\u001b[0m\u001b[0;36m1000\u001b[0m\u001b[0;34m)\u001b[0m\u001b[0;34m\u001b[0m\u001b[0;34m\u001b[0m\u001b[0m\n\u001b[0m\u001b[1;32m      3\u001b[0m \u001b[0mall_non_active_dict\u001b[0m \u001b[0;34m=\u001b[0m \u001b[0;34m{\u001b[0m\u001b[0ma\u001b[0m\u001b[0;34m[\u001b[0m\u001b[0;34m'id'\u001b[0m\u001b[0;34m]\u001b[0m\u001b[0;34m:\u001b[0m \u001b[0ma\u001b[0m \u001b[0;32mfor\u001b[0m \u001b[0ma\u001b[0m \u001b[0;32min\u001b[0m \u001b[0mnon_active_sub_data\u001b[0m\u001b[0;34m}\u001b[0m\u001b[0;34m\u001b[0m\u001b[0;34m\u001b[0m\u001b[0m\n",
      "\u001b[0;32m~/development/git/convertkit_wrapper/modules/ck_utils.py\u001b[0m in \u001b[0;36mget_non_active_sub_data\u001b[0;34m(step)\u001b[0m\n\u001b[1;32m   1497\u001b[0m \u001b[0;34m\u001b[0m\u001b[0m\n\u001b[1;32m   1498\u001b[0m         \u001b[0mprint\u001b[0m\u001b[0;34m(\u001b[0m\u001b[0;34m'Gathering all non-active sub ids via scraping'\u001b[0m\u001b[0;34m)\u001b[0m\u001b[0;34m\u001b[0m\u001b[0;34m\u001b[0m\u001b[0m\n\u001b[0;32m-> 1499\u001b[0;31m         \u001b[0mall_non_active_subs\u001b[0m \u001b[0;34m=\u001b[0m \u001b[0mscrape_all_non_active_subscribers\u001b[0m\u001b[0;34m(\u001b[0m\u001b[0;34m)\u001b[0m\u001b[0;34m\u001b[0m\u001b[0;34m\u001b[0m\u001b[0m\n\u001b[0m\u001b[1;32m   1500\u001b[0m         \u001b[0msummary_info\u001b[0m \u001b[0;34m=\u001b[0m \u001b[0mCounter\u001b[0m\u001b[0;34m(\u001b[0m\u001b[0;34m[\u001b[0m\u001b[0mall_non_active_subs\u001b[0m\u001b[0;34m[\u001b[0m\u001b[0mt\u001b[0m\u001b[0;34m]\u001b[0m\u001b[0;34m[\u001b[0m\u001b[0;34m'state'\u001b[0m\u001b[0;34m]\u001b[0m \u001b[0;32mfor\u001b[0m \u001b[0mt\u001b[0m \u001b[0;32min\u001b[0m \u001b[0mlist\u001b[0m\u001b[0;34m(\u001b[0m\u001b[0mall_non_active_subs\u001b[0m\u001b[0;34m.\u001b[0m\u001b[0mkeys\u001b[0m\u001b[0;34m(\u001b[0m\u001b[0;34m)\u001b[0m\u001b[0;34m)\u001b[0m\u001b[0;34m]\u001b[0m\u001b[0;34m)\u001b[0m\u001b[0;34m\u001b[0m\u001b[0;34m\u001b[0m\u001b[0m\n\u001b[1;32m   1501\u001b[0m         \u001b[0mlogging\u001b[0m\u001b[0;34m.\u001b[0m\u001b[0minfo\u001b[0m\u001b[0;34m(\u001b[0m\u001b[0;34mf'Gathered {summary_info}'\u001b[0m\u001b[0;34m)\u001b[0m\u001b[0;34m\u001b[0m\u001b[0;34m\u001b[0m\u001b[0m\n",
      "\u001b[0;32m~/development/git/convertkit_wrapper/modules/ck_utils.py\u001b[0m in \u001b[0;36mscrape_all_non_active_subscribers\u001b[0;34m()\u001b[0m\n\u001b[1;32m   1479\u001b[0m                 \u001b[0;34m'https://app.convertkit.com/?status=bounced'\u001b[0m\u001b[0;34m,\u001b[0m\u001b[0;34m\u001b[0m\u001b[0;34m\u001b[0m\u001b[0m\n\u001b[1;32m   1480\u001b[0m \t]\n\u001b[0;32m-> 1481\u001b[0;31m         \u001b[0masync_session\u001b[0m \u001b[0;34m=\u001b[0m \u001b[0mtrio\u001b[0m\u001b[0;34m.\u001b[0m\u001b[0mrun\u001b[0m\u001b[0;34m(\u001b[0m\u001b[0mget_async_ck_session\u001b[0m\u001b[0;34m,\u001b[0m \u001b[0;36m20\u001b[0m\u001b[0;34m)\u001b[0m \u001b[0;31m# Make a session with 20 connections\u001b[0m\u001b[0;34m\u001b[0m\u001b[0;34m\u001b[0m\u001b[0m\n\u001b[0m\u001b[1;32m   1482\u001b[0m         \u001b[0msubs\u001b[0m \u001b[0;34m=\u001b[0m \u001b[0mtrio\u001b[0m\u001b[0;34m.\u001b[0m\u001b[0mrun\u001b[0m\u001b[0;34m(\u001b[0m\u001b[0mscrape_subscribers_from_urls_executor_async\u001b[0m\u001b[0;34m,\u001b[0m \u001b[0murls\u001b[0m\u001b[0;34m,\u001b[0m \u001b[0masync_session\u001b[0m\u001b[0;34m)\u001b[0m\u001b[0;34m\u001b[0m\u001b[0;34m\u001b[0m\u001b[0m\n\u001b[1;32m   1483\u001b[0m         \u001b[0;32mreturn\u001b[0m \u001b[0;34m{\u001b[0m\u001b[0ms\u001b[0m\u001b[0;34m[\u001b[0m\u001b[0;34m'id'\u001b[0m\u001b[0;34m]\u001b[0m\u001b[0;34m:\u001b[0m\u001b[0ms\u001b[0m \u001b[0;32mfor\u001b[0m \u001b[0ms\u001b[0m \u001b[0;32min\u001b[0m \u001b[0msubs\u001b[0m\u001b[0;34m}\u001b[0m \u001b[0;31m# To match legacy format\u001b[0m\u001b[0;34m\u001b[0m\u001b[0;34m\u001b[0m\u001b[0m\n",
      "\u001b[0;32m~/opt/anaconda3/envs/py37/lib/python3.7/site-packages/trio/_core/_run.py\u001b[0m in \u001b[0;36mrun\u001b[0;34m(async_fn, clock, instruments, restrict_keyboard_interrupt_to_checkpoints, *args)\u001b[0m\n\u001b[1;32m   1781\u001b[0m                 \u001b[0;32mreturn\u001b[0m \u001b[0mrunner\u001b[0m\u001b[0;34m.\u001b[0m\u001b[0mmain_task_outcome\u001b[0m\u001b[0;34m.\u001b[0m\u001b[0mvalue\u001b[0m\u001b[0;34m\u001b[0m\u001b[0;34m\u001b[0m\u001b[0m\n\u001b[1;32m   1782\u001b[0m             \u001b[0;32melse\u001b[0m\u001b[0;34m:\u001b[0m\u001b[0;34m\u001b[0m\u001b[0;34m\u001b[0m\u001b[0m\n\u001b[0;32m-> 1783\u001b[0;31m                 \u001b[0;32mraise\u001b[0m \u001b[0mrunner\u001b[0m\u001b[0;34m.\u001b[0m\u001b[0mmain_task_outcome\u001b[0m\u001b[0;34m.\u001b[0m\u001b[0merror\u001b[0m\u001b[0;34m\u001b[0m\u001b[0;34m\u001b[0m\u001b[0m\n\u001b[0m\u001b[1;32m   1784\u001b[0m     \u001b[0;32mfinally\u001b[0m\u001b[0;34m:\u001b[0m\u001b[0;34m\u001b[0m\u001b[0;34m\u001b[0m\u001b[0m\n\u001b[1;32m   1785\u001b[0m         \u001b[0;31m# To guarantee that we never swallow a KeyboardInterrupt, we have to\u001b[0m\u001b[0;34m\u001b[0m\u001b[0;34m\u001b[0m\u001b[0;34m\u001b[0m\u001b[0m\n",
      "\u001b[0;32m~/development/git/convertkit_wrapper/modules/ck_utils.py\u001b[0m in \u001b[0;36mget_async_ck_session\u001b[0;34m(connections)\u001b[0m\n\u001b[1;32m    892\u001b[0m                 \u001b[0;34m\"user[email]\"\u001b[0m\u001b[0;34m:\u001b[0m \u001b[0mos\u001b[0m\u001b[0;34m.\u001b[0m\u001b[0menviron\u001b[0m\u001b[0;34m[\u001b[0m\u001b[0;34m'CK_USER'\u001b[0m\u001b[0;34m]\u001b[0m\u001b[0;34m,\u001b[0m\u001b[0;34m\u001b[0m\u001b[0;34m\u001b[0m\u001b[0m\n\u001b[1;32m    893\u001b[0m                 \u001b[0;34m\"user[password]\"\u001b[0m\u001b[0;34m:\u001b[0m \u001b[0mos\u001b[0m\u001b[0;34m.\u001b[0m\u001b[0menviron\u001b[0m\u001b[0;34m[\u001b[0m\u001b[0;34m'CK_PASSWORD'\u001b[0m\u001b[0;34m]\u001b[0m\u001b[0;34m,\u001b[0m\u001b[0;34m\u001b[0m\u001b[0;34m\u001b[0m\u001b[0m\n\u001b[0;32m--> 894\u001b[0;31m                 \u001b[0;34m\"authenticity_token\"\u001b[0m\u001b[0;34m:\u001b[0m \u001b[0mlogin_tree\u001b[0m\u001b[0;34m.\u001b[0m\u001b[0mfind\u001b[0m\u001b[0;34m(\u001b[0m\u001b[0;34m\"input\"\u001b[0m\u001b[0;34m,\u001b[0m \u001b[0;34m{\u001b[0m\u001b[0;34m\"name\"\u001b[0m\u001b[0;34m:\u001b[0m\u001b[0;34m\"authenticity_token\"\u001b[0m\u001b[0;34m}\u001b[0m\u001b[0;34m)\u001b[0m\u001b[0;34m[\u001b[0m\u001b[0;34m'value'\u001b[0m\u001b[0;34m]\u001b[0m\u001b[0;34m\u001b[0m\u001b[0;34m\u001b[0m\u001b[0m\n\u001b[0m\u001b[1;32m    895\u001b[0m \t};\n\u001b[1;32m    896\u001b[0m \u001b[0;34m\u001b[0m\u001b[0m\n",
      "\u001b[0;31mTypeError\u001b[0m: 'NoneType' object is not subscriptable"
     ]
    }
   ],
   "source": [
    "# This takes about 4 minutes\n",
    "non_active_sub_data = get_non_active_sub_data(step=1000)\n",
    "all_non_active_dict = {a['id']: a for a in non_active_sub_data}"
   ]
  },
  {
   "cell_type": "code",
   "execution_count": 5,
   "metadata": {
    "ExecuteTime": {
     "end_time": "2020-04-08T14:36:20.954318Z",
     "start_time": "2020-04-08T14:36:12.083461Z"
    }
   },
   "outputs": [
    {
     "name": "stdout",
     "output_type": "stream",
     "text": [
      "34207 dict_values([221, 'deleted', None, 'dnishiyama+test5@gmail.com', '2019-05-08T18:21:55.000Z', None, None, None, None, None, None, 'Influence Map', 'MCS Page', None, '11:59pm EDT on Wednesday, May 15, 2019', '2019-05-08', '2019-05-08', None, None, None, None, None, None, None])\n",
      "\n",
      "25886 dict_values([242695727, None, 'cfalconer@live.ca', 'active', '2018-08-02T07:05:56.000Z', None, None, None, None, None, None, 'Influence Map', 'MCS Page', 'Victoria', 'Canada', '48.428', '-123.366', 'British Columbia', None, None, None, None, None, '2018-08-02', None])\n"
     ]
    }
   ],
   "source": [
    "# ~6 to 15 seconds (11)\n",
    "all_ck_list = get_api_data(CK_Api.ALL_SUBS, None, session=session)\n",
    "all_ck_list += non_active_sub_data # Should be no overlap\n",
    "all_ck_dict = {a['id']: a for a in all_ck_list}\n",
    "\n",
    "print(len(all_rds_dict), all_rds_list[0].values()); print(); print(len(all_ck_dict), all_ck_list[0].values())"
   ]
  },
  {
   "cell_type": "markdown",
   "metadata": {
    "heading_collapsed": true
   },
   "source": [
    "#### Check/update users"
   ]
  },
  {
   "cell_type": "code",
   "execution_count": 13,
   "metadata": {
    "ExecuteTime": {
     "end_time": "2020-04-08T14:40:43.150313Z",
     "start_time": "2020-04-08T14:40:42.453705Z"
    },
    "hidden": true
   },
   "outputs": [
    {
     "data": {
      "text/plain": [
       "0"
      ]
     },
     "execution_count": 13,
     "metadata": {},
     "output_type": "execute_result"
    }
   ],
   "source": [
    "### Check for general mismatches\n",
    "\n",
    "# Get the mismatches versus RDS data\n",
    "mismatches = [a for a in all_rds_dict if a in all_ck_dict and array_mismatch(all_rds_dict[a], all_ck_dict[a])]; len(mismatches)"
   ]
  },
  {
   "cell_type": "code",
   "execution_count": 14,
   "metadata": {
    "ExecuteTime": {
     "end_time": "2020-04-08T14:40:45.663237Z",
     "start_time": "2020-04-08T14:40:45.630317Z"
    },
    "hidden": true
   },
   "outputs": [],
   "source": [
    "# See mismatch info\n",
    "for i, m in enumerate(mismatches): # Go through each mismatch\n",
    "    am = array_mismatch(all_rds_dict[m], all_ck_dict[m]) # Get the mismatch data\n",
    "    for mm_key, mm_val in am.items(): # Go through the category: and values list\n",
    "        print(i,m,mm_key, mm_val)"
   ]
  },
  {
   "cell_type": "code",
   "execution_count": 8,
   "metadata": {
    "ExecuteTime": {
     "end_time": "2020-04-08T14:38:28.877881Z",
     "start_time": "2020-04-08T14:37:41.095799Z"
    },
    "hidden": true
   },
   "outputs": [],
   "source": [
    "# Update the CK data when RDS obviously has better data\n",
    "from decimal import Decimal\n",
    "session=requests.session()\n",
    "\n",
    "bad_vals = ['Unknown', 'unknown', 'Mailchimp', 'MailChimp', 'FB+Ad', 'FB Ad?fbclid', \"\", None] # Bad CK values\n",
    "\n",
    "for i, m in enumerate(mismatches): # Go through each mismatch\n",
    "    am = array_mismatch(all_rds_dict[m], all_ck_dict[m]) # Get the mismatch data\n",
    "    for mm_key, mm_val in am.items(): # Go through the category: and values list\n",
    "        if mm_val[1] in bad_vals: #If 2nd value (CK) is an issue or lack in CK, then update it\n",
    "            if type(mm_val[0]) == Decimal: continue\n",
    "            print(f'Updating {i}/{len(mismatches)}', end='\\r')\n",
    "            update_ck_sub_with_misc(sub_id=m,session=session, **{mm_key: mm_val[0]}) # update the value in CK\n",
    "            all_ck_dict[m][mm_key]=mm_val[0] # update the stored value\n",
    "            \n",
    "all_ck_list = refresh_sub_list(all_ck_dict)\n"
   ]
  },
  {
   "cell_type": "code",
   "execution_count": null,
   "metadata": {
    "ExecuteTime": {
     "end_time": "2020-02-05T21:08:01.289167Z",
     "start_time": "2020-02-05T21:08:01.065292Z"
    },
    "hidden": true
   },
   "outputs": [],
   "source": [
    "# Remove nulls and empties for Decimals, if the ck_dict.\n",
    "# Takes about 1m\n",
    "updated_ids = []\n",
    "for i, (k,v) in enumerate(all_ck_dict.items()):\n",
    "#     if i<26111:continue\n",
    "    data = {}\n",
    "    for loc in ['loc_lat', 'loc_lng', 'loc_city', 'loc_state', 'loc_country']:\n",
    "        if v[loc] in ['null']: data[loc] = None # If a loc_lat etc is null then update to None\n",
    "    for lead in ['lead_source', 'lead_opt-in']:\n",
    "        if v[lead] in ['FB Ad?fbclid','FB+Ad']: data[lead] = 'FB Ad'\n",
    "        if v[lead] in [None,'None']: data[lead] = 'Unknown'\n",
    "        if v[lead] in ['emails']: data[lead] = 'Emails'\n",
    "        if v[lead] in ['style mini-course']: data[lead] = 'Style Mini-course'\n",
    "        \n",
    "    if data: \n",
    "        updated_ids.append(k)\n",
    "        print(f'Updating {i}/{len(all_ck_dict)}, {len(updated_ids)} updated', end='\\r')\n",
    "        update_ck_sub_with_misc(sub_id=k,session=session, **data) #update\n",
    "        for key, value in data.items():\n",
    "            all_ck_dict[k][key] = value\n",
    "        \n",
    "all_ck_list = refresh_sub_list(all_ck_dict)\n",
    "print('\\nDONE')"
   ]
  },
  {
   "cell_type": "code",
   "execution_count": null,
   "metadata": {
    "ExecuteTime": {
     "end_time": "2020-02-05T20:23:35.006459Z",
     "start_time": "2020-02-05T20:23:34.951856Z"
    },
    "hidden": true
   },
   "outputs": [],
   "source": [
    "# Udpate RDS data\n",
    "# cursor.e(f'UPDATE subscriber_data SET loc_lat=NULL, loc_lng=NULL WHERE id IN {mysql_array(mismatches)}')"
   ]
  },
  {
   "cell_type": "code",
   "execution_count": null,
   "metadata": {
    "ExecuteTime": {
     "end_time": "2020-03-03T21:27:15.912942Z",
     "start_time": "2020-03-03T21:26:52.262759Z"
    },
    "hidden": true
   },
   "outputs": [],
   "source": [
    "# update the subscribe date if it is missing by checking forms\n",
    "\n",
    "no_subscribe_date_ck = [a['id'] for a in all_ck_list if a['state'] == 'active' and not a['subscribe_date']]; len(no_subscribe_date_ck)\n",
    "sub_form_sub_data = get_all_form_subscriptions(requests.session()) # Get the form data\n",
    "first_sub = lambda x: time_dt_to_ck(min([time_ck_to_dt(l) for l in x.values()])) # formula to get first sub\n",
    "\n",
    "for i, no_sub_date_id in enumerate(no_subscribe_date_ck):\n",
    "    print(f'Processing {i}/{len(no_subscribe_date_ck)}', end='\\r')\n",
    "    if no_sub_date_id in sub_form_sub_data: # If there is a form\n",
    "        new_sub_date = first_sub(sub_form_sub_data[no_sub_date_id])\n",
    "    else: # if no form, then use created_at date\n",
    "        new_sub_date = time_created_to_ck(all_ck_dict[no_sub_date_id]['created_at'])\n",
    "\n",
    "    update_ck_sub_with_misc(sub_id=no_sub_date_id,session=session, **{'subscribe_date': new_sub_date}) # update the value in CK\n",
    "    all_ck_dict[no_sub_date_id]['subscribe_date'] = new_sub_date\n",
    "    \n",
    "all_ck_list = refresh_sub_list(all_ck_dict)"
   ]
  },
  {
   "cell_type": "code",
   "execution_count": 11,
   "metadata": {
    "ExecuteTime": {
     "end_time": "2020-04-08T14:40:33.044628Z",
     "start_time": "2020-04-08T14:40:28.113244Z"
    },
    "hidden": true
   },
   "outputs": [
    {
     "name": "stderr",
     "output_type": "stream",
     "text": [
      "/Users/nish/opt/anaconda3/envs/py37/lib/python3.7/site-packages/pymysql/cursors.py:329: Warning: (1366, \"Incorrect string value: '\\\\xF0\\\\x9F\\\\x92\\\\x95' for column 'first_name' at row 3205\")\n",
      "  self._do_get_result()\n",
      "/Users/nish/opt/anaconda3/envs/py37/lib/python3.7/site-packages/pymysql/cursors.py:329: Warning: (1366, \"Incorrect string value: '\\\\xF0\\\\x9F\\\\x98\\\\x83' for column 'first_name' at row 3203\")\n",
      "  self._do_get_result()\n"
     ]
    },
    {
     "data": {
      "text/plain": [
       "851"
      ]
     },
     "execution_count": 11,
     "metadata": {},
     "output_type": "execute_result"
    }
   ],
   "source": [
    "# Load the CK data into RDS\n",
    "def fix(dict_val, remove_keys = ['last_name']):\n",
    "    dict_val = {k:v for k,v in dict_val.items() if k not in remove_keys}\n",
    "    if dict_val['stsbc_subscriber_id'] == 'None': dict_val['stsbc_subscriber_id'] = None \n",
    "    return dict_val\n",
    "\n",
    "# cursor.dict_insert([fix(all_ck_dict[m]) for m in mismatches], 'subscriber_data')\n",
    "cursor.dict_insert([fix(a) for a in all_ck_list], 'subscriber_data')"
   ]
  },
  {
   "cell_type": "code",
   "execution_count": null,
   "metadata": {
    "ExecuteTime": {
     "end_time": "2020-03-01T01:55:09.232046Z",
     "start_time": "2020-03-01T01:55:09.136965Z"
    },
    "hidden": true
   },
   "outputs": [],
   "source": [
    "# Add column if necessary\n",
    "cursor.e('DESCRIBE subscriber_data')\n",
    "# cursor.e('ALTER TABLE subscriber_data ADD COLUMN studiomates_evg_launch_deadline tinytext')"
   ]
  },
  {
   "cell_type": "code",
   "execution_count": null,
   "metadata": {
    "ExecuteTime": {
     "end_time": "2020-03-01T03:00:44.415559Z",
     "start_time": "2020-03-01T02:36:04.908288Z"
    },
    "hidden": true
   },
   "outputs": [],
   "source": [
    "# Pull the email data (takes about 36 minutes) and update RDS\n",
    "scrape_all_email_data(conn, only_active=False, skip_to=8900)"
   ]
  },
  {
   "cell_type": "code",
   "execution_count": null,
   "metadata": {
    "ExecuteTime": {
     "end_time": "2020-02-05T19:50:36.070744Z",
     "start_time": "2020-02-05T19:50:36.040819Z"
    },
    "hidden": true
   },
   "outputs": [],
   "source": [
    "# cursor.e('SELECT * FROM subscriber_data WHERE id=7984')"
   ]
  },
  {
   "cell_type": "code",
   "execution_count": null,
   "metadata": {
    "ExecuteTime": {
     "end_time": "2020-02-05T20:23:50.602062Z",
     "start_time": "2020-02-05T20:23:50.518264Z"
    },
    "hidden": true
   },
   "outputs": [],
   "source": [
    "set([a[\"lead_source\"] for a in all_rds_list]), set([a[\"lead_opt-in\"] for a in all_rds_list])\n",
    "# set([a[\"lead_source\"] for a in all_ck_list]), set([a[\"lead_opt-in\"] for a in all_ck_list])"
   ]
  },
  {
   "cell_type": "code",
   "execution_count": null,
   "metadata": {
    "ExecuteTime": {
     "end_time": "2020-03-03T20:56:42.466444Z",
     "start_time": "2020-03-03T20:56:42.130976Z"
    },
    "hidden": true
   },
   "outputs": [],
   "source": [
    "### Update deleted subs in RDS\n",
    "today = datetime.strftime(datetime.now(), '%Y-%m-%d')\n",
    "rds_subs_not_in_ck = [a for a in all_rds_dict if all_rds_dict[a]['state'] != 'deleted' and a not in all_ck_dict and all_rds_dict[a]['subscribe_date'] != today]\n",
    "len(rds_subs_not_in_ck)\n",
    "\n",
    "cursor.e(f'UPDATE subscriber_data SET state=\"deleted\" WHERE id IN {mysql_array(rds_subs_not_in_ck)}')"
   ]
  },
  {
   "cell_type": "code",
   "execution_count": null,
   "metadata": {
    "ExecuteTime": {
     "end_time": "2020-03-03T20:56:50.946209Z",
     "start_time": "2020-03-03T20:56:50.817030Z"
    },
    "hidden": true
   },
   "outputs": [],
   "source": [
    "# cursor.e('SELECT stsbc_subscriber_id FROM subscriber_data LIMIT 10')\n",
    "conn.commit()"
   ]
  },
  {
   "cell_type": "markdown",
   "metadata": {
    "heading_collapsed": true
   },
   "source": [
    "#### Summarize issues"
   ]
  },
  {
   "cell_type": "code",
   "execution_count": null,
   "metadata": {
    "ExecuteTime": {
     "end_time": "2020-03-03T21:29:31.775186Z",
     "start_time": "2020-03-03T21:29:31.631293Z"
    },
    "hidden": true
   },
   "outputs": [],
   "source": [
    "[a['id'] for a in all_rds_list if a['state'] == 'active' and not a['subscribe_date'] and a['id'] not in processing_subs]"
   ]
  },
  {
   "cell_type": "code",
   "execution_count": null,
   "metadata": {
    "ExecuteTime": {
     "end_time": "2020-03-03T20:57:25.073134Z",
     "start_time": "2020-03-03T20:57:22.446325Z"
    },
    "hidden": true
   },
   "outputs": [],
   "source": [
    "# See if any subscribers are missing from RDS\n",
    "## Get step function data first\n",
    "get_id = lambda x: int(re.match(r'.*?_(\\d+)', x).group(1))\n",
    "recent_execution = lambda x: x['stopDate'] > datetime.now().astimezone(pytz.timezone('US/Eastern')) - timedelta(hours=1)\n",
    "client = boto3.client('stepfunctions')\n",
    "sub_arn = 'arn:aws:states:us-east-1:787744691769:stateMachine:CK_Subscription'\n",
    "running_executions = client.list_executions(stateMachineArn=sub_arn, statusFilter='RUNNING')['executions']\n",
    "success_executions = client.list_executions(stateMachineArn=sub_arn, statusFilter='SUCCEEDED')['executions']\n",
    "executions = running_executions + [e for e in success_executions if recent_execution(e)]\n",
    "processing_subs = [get_id(e['name']) for e in executions]; len(processing_subs), processing_subs\n",
    "\n",
    "ck_subs_not_in_rds = [a for a in all_ck_dict if a not in all_rds_dict and a not in processing_subs]\n",
    "print(f'CK subs missing from RDS: {len(ck_subs_not_in_rds)}')\n",
    "\n",
    "# These are probably ok, but are delayed due to delay of gathering ck data\n",
    "today = datetime.strftime(datetime.now(), '%Y-%m-%d')\n",
    "rds_subs_not_in_ck = [a for a in all_rds_dict if all_rds_dict[a]['state'] == 'active' and a not in all_ck_dict and all_rds_dict[a]['subscribe_date'] != today]\n",
    "print(f'RDS subs missing from CK: {len(rds_subs_not_in_ck)}')\n",
    "\n",
    "print()\n",
    "\n",
    "# Duplicate active emails in RDS\n",
    "duplicate_rds_emails = [c for c in Counter([a['email_address'] for a in all_rds_list if a['state']!='deleted']).items() if c[1]>1]\n",
    "print(f'Duplicate active emails in RDS: {len(duplicate_rds_emails)}')\n",
    "\n",
    "# Total Mismatches\n",
    "mismatches = [a for a in all_rds_dict if a in all_ck_dict and array_mismatch(all_rds_dict[a], all_ck_dict[a])]\n",
    "print(f'Total mismatches: {len(mismatches)}')\n",
    "\n",
    "print(f'There are {len(set([a[\"lead_source\"] for a in all_rds_list]))} / 10 lead_sources')\n",
    "print(f'There are {len(set([a[\"lead_opt-in\"] for a in all_rds_list]))} / 14 lead_opt-ins')\n",
    "# set(a['lead_opt-in'] for a in all_rds_list + all_ck_list)\n",
    "# set(a['lead_source'] for a in all_rds_list + all_ck_list)\n",
    "\n",
    "# Mismatch between email_data and email_data_freshness (active subscribers with email_data but no email_data_freshness)\n",
    "sql_stmt = \"\"\"\\\n",
    "SELECT s.id FROM email_data e\n",
    "LEFT JOIN subscriber_data s\n",
    "    ON s.id = e.subscriber_id\n",
    "LEFT JOIN email_data_freshness f\n",
    "    ON f.subscriber_id = e.subscriber_id\n",
    "WHERE f.subscriber_id IS NULL\n",
    "    AND s.state = \"active\"\n",
    "\"\"\"\n",
    "cursor.execute(sql_stmt)\n",
    "missing_freshness_ids = [c['id'] for c in cursor.fetchall()]; len(missing_freshness_ids), missing_freshness_ids[:3]\n",
    "print(f'Missing freshness data: {len(missing_freshness_ids)}')\n",
    "\n",
    "# Subscribers with no email data\n",
    "sql_stmt = \"\"\"\\\n",
    "SELECT s.id FROM subscriber_data s\n",
    "LEFT JOIN email_data e\n",
    "    ON e.subscriber_id = s.id\n",
    "WHERE e.subscriber_id IS NULL\n",
    "    AND s.state = \"active\"\n",
    "\"\"\"\n",
    "cursor.execute(sql_stmt)\n",
    "no_email_subscribers = [c['id'] for c in cursor.fetchall()]; len(no_email_subscribers), no_email_subscribers[-3:]\n",
    "print(f'Subscribers with no email data: {len(no_email_subscribers)}')\n",
    "\n",
    "# Subscriber with no subscribe date\n",
    "no_subscribe_date_rds = [a['id'] for a in all_rds_list if a['state'] == 'active' and not a['subscribe_date']]\n",
    "print(f'RDS Subscribers with no subscribe_date: {len(no_subscribe_date_rds)}')\n",
    "\n",
    "no_subscribe_date_ck = [a['id'] for a in all_ck_list if a['state'] == 'active' and not a['subscribe_date'] and a['id'] not in processing_subs]\n",
    "print(f'CK Subscribers with no subscribe_date: {len(no_subscribe_date_ck)}')\n",
    "\n",
    "# active subscriber with an unsubscribe_date (resubscriber)\n",
    "err_unsub_date = [a['id'] for a in all_rds_list if a['state'] == 'active' and a['unsubscribe_date']]\n",
    "print(f'Unnecessary unsub dates: {len(err_unsub_date)}')\n",
    "      \n",
    "# Missing Location\n",
    "nones = ['null', None, 0]\n",
    "missing_loc = [a for a in all_rds_list \n",
    "                if (a['loc_country'] in nones or a['loc_lat'] in nones or a['loc_lng'] in nones) \n",
    "                and (a['loc_city'] not in nones or a['loc_state'] not in nones)]\n",
    "print(f'Missing location data: {len(missing_loc)}')\n",
    "      \n",
    "# Add things to fix in the future here\n",
    "print(Counter([a['state'] for a in all_rds_list if not a['subscribe_date'] and a['state']=='complained']))\n",
    "      #subscribe date needs to be calculated based on mailchimp, or the first email clicked, or the first email sent\n",
    "print(\"Are all the purchase values, purchase refunds accurate?\")\n",
    "print(\"Are all lead opt-ins found based on the first email sent\")\n",
    "print(\"how many opt-ins has a person done?, this could be from the scraping\")\n",
    "a = len([a for a in all_rds_dict.values() if a['state']=='inactive' and a['lead_opt-in']=='MailChimp'])\n",
    "print(f'{a} people that say mailchimp but are from 2018 and 2019')\n"
   ]
  },
  {
   "cell_type": "markdown",
   "metadata": {
    "heading_collapsed": true
   },
   "source": [
    "#### Fix Issues"
   ]
  },
  {
   "cell_type": "code",
   "execution_count": null,
   "metadata": {
    "ExecuteTime": {
     "end_time": "2020-01-08T02:41:29.522591Z",
     "start_time": "2020-01-08T02:41:29.315962Z"
    },
    "hidden": true
   },
   "outputs": [],
   "source": [
    "array_mismatch(all_rds_dict[mismatches[0]], all_ck_dict[mismatches[0]])"
   ]
  },
  {
   "cell_type": "code",
   "execution_count": null,
   "metadata": {
    "hidden": true
   },
   "outputs": [],
   "source": [
    "# TODO: Make this into separate functions that give a summary of the data to be updated \n",
    "# they then ask for confirmation depending on if that is sent in as a parameter"
   ]
  },
  {
   "cell_type": "code",
   "execution_count": null,
   "metadata": {
    "ExecuteTime": {
     "end_time": "2019-09-20T23:52:55.167294Z",
     "start_time": "2019-09-20T23:52:51.350388Z"
    },
    "hidden": true
   },
   "outputs": [],
   "source": [
    "# For doing the basic updates\n",
    "for sub_id in [501116407, 137664062]:#no_subscribe_date_rds:\n",
    "    print(update_single_subscriber(\n",
    "        sub_id, \n",
    "        cursor, \n",
    "        ck_app_session=get_ck_session(), \n",
    "        do_location=True, \n",
    "        geolocator=Nominatim(user_agent=\"dgn\")\n",
    "    ))"
   ]
  },
  {
   "cell_type": "code",
   "execution_count": null,
   "metadata": {
    "hidden": true
   },
   "outputs": [],
   "source": [
    "# Continuous updates\n",
    "# 1st Priority, the updates in one system are made in AWS\n",
    "# 2nd Priority, I can run one cell which will make the entire system up-to-date"
   ]
  },
  {
   "cell_type": "code",
   "execution_count": null,
   "metadata": {
    "ExecuteTime": {
     "end_time": "2019-09-25T17:01:06.194921Z",
     "start_time": "2019-09-25T17:00:31.389111Z"
    },
    "hidden": true
   },
   "outputs": [],
   "source": [
    "#### Function to keep entire system up-to-date\n",
    "\n",
    "### All these can be fixed by bringing the mismatch data from CK to RDS\n",
    "############ Get the non-actives updated first process ############\n",
    "\n",
    "try:\n",
    "    # TODO: Make this async\n",
    "    update_rds_with_non_actives(cursor)\n",
    "except:\n",
    "    print('Error with update_rds_with_non_actives')\n",
    "\n",
    "############ Get the step_function in process ############\n",
    "get_id = lambda x: int(re.match(r'.*?_(\\d+)', x).group(1))\n",
    "recent_execution = lambda x: x['stopDate'] > datetime.now().astimezone(pytz.timezone('US/Eastern')) - timedelta(hours=1)\n",
    "client = boto3.client('stepfunctions')\n",
    "sub_arn = 'arn:aws:states:us-east-1:787744691769:stateMachine:CK_Subscription'\n",
    "running_executions = client.list_executions(stateMachineArn=sub_arn, statusFilter='RUNNING')['executions']\n",
    "success_executions = client.list_executions(stateMachineArn=sub_arn, statusFilter='SUCCEEDED')['executions']\n",
    "executions = running_executions + [e for e in success_executions if recent_execution(e)]\n",
    "processing_subs = [get_id(e['name']) for e in executions]; len(processing_subs), processing_subs\n",
    "\n",
    "############ Get the mismatches ############\n",
    "mismatches = [a for a in all_rds_dict if a in all_ck_dict and array_mismatch(all_rds_dict[a], all_ck_dict[a])]\n",
    "print(f'Updating {len(mismatches)} subs with mismatches in RDS...')\n",
    "for i, mismatch in enumerate(mismatches):\n",
    "    if i % 100 == 0: print(f'Updating mismatch {i}/{len(mismatches)}', end='\\r')\n",
    "    transfer_good_mismatches_to_rds(cursor, session, all_rds_dict[mismatch], all_ck_dict[mismatch])\n",
    "\n",
    "############ Complained and deleted subscribers show up as \"RDS subs missing from CK\" ############\n",
    "today = datetime.strftime(datetime.now(), '%Y-%m-%d')\n",
    "rds_subs_not_in_ck = [a for a in all_rds_dict if all_rds_dict[a]['state'] == 'active' and a not in all_ck_dict and all_rds_dict[a]['subscribe_date'] != today]\n",
    "print(f'Updating {len(rds_subs_not_in_ck)} subs in rds_subs_not_in_ck with mismatches in RDS...')\n",
    "for sub_id in rds_subs_not_in_ck:\n",
    "    try:\n",
    "        ck_data = get_single_subscriber(session=session, subscriber_id=sub_id)\n",
    "        transfer_good_mismatches_to_rds(cursor, session, all_rds_dict[sub_id], ck_data)\n",
    "    except:\n",
    "        print(f'Setting state to deleted for sub_id {sub_id}')\n",
    "        cursor.e(f'UPDATE subscriber_data SET state=\"deleted\" WHERE id={sub_id}')\n",
    "\n",
    "############ Resubscribers show up as \"ck_subs_not_in_rds\" ############\n",
    "## Missed subscribers (maybe an overwrite on the db?) show up as \"ck_subs_not_in_rds\"\n",
    "ck_subs_not_in_rds = [a for a in all_ck_dict if a not in all_rds_dict and a not in processing_subs]\n",
    "print(f'Updating {len(ck_subs_not_in_rds)} subs in ck_subs_not_in_rds into RDS...')\n",
    "for sub_id in ck_subs_not_in_rds:\n",
    "    rds_sub = cursor.e(f'SELECT * FROM subscriber_data WHERE id={sub_id}')\n",
    "    if not rds_sub:\n",
    "        update_subscriber_in_rds(sub_id, cursor, sub_data=all_ck_dict[sub_id])\n",
    "\n",
    "############ resubscribers keep their unsub date ############\n",
    "err_unsub_date = [a['id'] for a in all_rds_list if a['state'] == 'active' and a['unsubscribe_date']]\n",
    "print(f'Updating {len(err_unsub_date)} subs from err_unsub_date in CK and RDS...')\n",
    "for sub_id in err_unsub_date:\n",
    "    update_sub_everywhere_with_misc(sub_id, cursor, session=session, **{'unsubscribe_date': None})\n",
    "\n",
    "############ Missing rds subscribe_date ############\n",
    "no_subscribe_date_rds = [a['id'] for a in all_rds_list if a['state'] == 'active' and not a['subscribe_date']]\n",
    "no_subscribe_date_ck = [a['id'] for a in all_ck_list if a['state'] == 'active' and not a['subscribe_date'] and a['id'] not in processing_subs]\n",
    "print(f'Updating {len(no_subscribe_date_rds + no_subscribe_date_ck)} subs with no subscribe_date in CK and RDS...')\n",
    "for sub_id in no_subscribe_date_rds + no_subscribe_date_ck:\n",
    "    update_single_subscriber(sub_id, cursor, ck_app_session=get_ck_session(), geolocator=Nominatim(user_agent='dgn_app'))\n",
    "    \n",
    "############ Manage the duplicate emails in the right way ############\n",
    "# Get all the duplicated emails\n",
    "duplicate_rds_emails = [c[0] for c in Counter([a['email_address'] for a in all_rds_list]).items() if c[1]>1]\n",
    "\n",
    "# Get the data for those emails\n",
    "duplicate_rds_subs = {} \n",
    "for a in all_rds_list:\n",
    "    if a['email_address'] not in duplicate_rds_emails: continue\n",
    "    duplicate_rds_subs.setdefault(a['email_address'], []).append({b:a[b] for b in ['id', 'state']}) \n",
    "\n",
    "remove_ids = [] # Add the lists of [[id_to_use1, id_to_remove1], [id_to_use2, id_to_remove2], ...]\n",
    "\n",
    "for (email, subs) in duplicate_rds_subs.items():\n",
    "    if len(subs) != 2: raise Exception(f'There were {len(subs)} subs for this duplicate. Need to handle this')\n",
    "        \n",
    "    # If either is deleted, then remove the lowered number deleted item \n",
    "    # could be 0,1, or 2 ids; reversed to organize with largest first\n",
    "    deleted_subs = sorted([s['id'] for s in subs if s['state'] == 'deleted'], reverse=True) \n",
    "    if deleted_subs: \n",
    "        # Now add the non deleted ones to the front (since they won't be removed)\n",
    "        remove_ids.append([s['id'] for s in subs if s['state'] != 'deleted'] + deleted_subs)\n",
    "        continue\n",
    "    \n",
    "    # If either is a low sub_id (<1,000,000) then remove the lowered numbered one\n",
    "    low_id_subs = sorted([s['id'] for s in subs if s['id'] < 1000000], reverse=True) \n",
    "    if low_id_subs: \n",
    "        # Now add the high id ones to the front (since they won't be removed)\n",
    "        remove_ids.append([s['id'] for s in subs if s['id'] >= 1000000] + low_id_subs)\n",
    "        continue\n",
    "        \n",
    "    # If either is deleted but state is wrong\n",
    "    # This will find the id if it exists, if not then both are deleted, only keep the \n",
    "    temp_id = get_single_subscriber(session=session, email_address=email, cancelled=True).get('id', None)\n",
    "    if temp_id:\n",
    "        remove_ids.append([temp_id]+[s['id'] for s in subs if s['id'] != temp_id])\n",
    "        continue\n",
    "\n",
    "    print(f'Found no error for {email}, {subs}')\n",
    "    \n",
    "# When removing, make sure all the other databases are updated\n",
    "print(f'Updating RDS for {len(remove_ids)} removal of duplicates...')\n",
    "temp = cursor.executemany(f'UPDATE launch_data SET subscriber_id=%s WHERE subscriber_id=%s', remove_ids)\n",
    "print(f'Changed {temp} items in launch_data...')\n",
    "temp = cursor.executemany(f'UPDATE purchase_data SET subscriber_id=%s WHERE subscriber_id=%s', remove_ids)\n",
    "print(f'Changed {temp} items in purchase_data...')\n",
    "temp = cursor.executemany(f'UPDATE purchase_data SET purchaser_id=%s WHERE purchaser_id=%s', remove_ids)\n",
    "print(f'Changed {temp} items in purchase_data...')\n",
    "temp = cursor.e(f'DELETE FROM subscriber_data WHERE id IN {mysql_array([r[1] for r in remove_ids])}')\n",
    "print(f'Deleted {temp} items in subscriber_data...')\n",
    "\n",
    "############ Fix bad lead sources and lead opt-ins ############\n",
    "\n",
    "# Fix lead source by going to each with that CK data and updating, then updating the rds data\n",
    "conversions = [\n",
    "    ['', 'Unknown'],\n",
    "    [None, 'Unknown'],\n",
    "    ['None', 'Unknown'],\n",
    "    ['FB Ad?fbclid', 'FB Ad'], \n",
    "    ['FB+Ad', 'FB Ad'],\n",
    "    ['Medium?source', 'Medium'],\n",
    "    ['style mini-course', 'Style Mini-course'],\n",
    "    ['emails', 'Emails'],\n",
    "    ['Mailchimp', 'MailChimp'],\n",
    "]\n",
    "err_leads = [c[0] for c in conversions]\n",
    "\n",
    "bad_subs = set()\n",
    "bad_subs |= set(a['id'] for a in all_rds_list if a['lead_source'] in err_leads or a['lead_opt-in'] in err_leads)\n",
    "bad_subs |= set(a['id'] for a in all_ck_list if a['lead_source'] in err_leads or a['lead_opt-in'] in err_leads)\n",
    "\n",
    "print(f'{len(bad_subs)} to update')\n",
    "\n",
    "for i, a in enumerate([all_ck_dict.get(b, all_rds_dict.get(b, {})) for b in bad_subs]):\n",
    "    new_data = {}\n",
    "    for lead in ['lead_source', 'lead_opt-in']:\n",
    "        if a[lead] in [c[0] for c in conversions]: \n",
    "            new_data[lead] = [c[1] for c in conversions if c[0] == a[lead]][0]\n",
    "\n",
    "    if not new_data: raise Exception()\n",
    "    print(f'Updating {a[\"id\"]} with {new_data} vs src:{a[\"lead_source\"]}, opt:{a[\"lead_opt-in\"]}', end='\\r')\n",
    "\n",
    "    update_sub_everywhere_with_misc(a['id'], cursor, session=session, **new_data)\n",
    "          \n",
    "############ Fix bad locations (lat, lng, country) ############\n",
    "print(f'Updating CK & RDS for {len(missing_loc)} missing locations...')\n",
    "          \n",
    "nones = ['null', None, 0]\n",
    "missing_loc = [a for a in all_rds_list \n",
    "                if (a['loc_country'] in nones or a['loc_lat'] in nones or a['loc_lng'] in nones) \n",
    "                and (a['loc_city'] not in nones or a['loc_state'] not in nones)]\n",
    "\n",
    "          \n",
    "for sub_data in missing_loc:\n",
    "    updates = {}\n",
    "    # Missing lat, lng\n",
    "    if sub_data['loc_lat'] in nones or sub_data['loc_lng'] in nones:\n",
    "        latlng = get_lat_and_lng(sub_data['loc_city'], sub_data['loc_state'], Nominatim(user_agent='dgn'))\n",
    "        sub_data['loc_lat'] = latlng['lat']; updates['loc_lat'] = latlng['lat']\n",
    "        sub_data['loc_lng'] = latlng['lng']; updates['loc_lng'] = latlng['lng']\n",
    "        \n",
    "    if sub_data['loc_country'] in nones:\n",
    "        coord = ( float(sub_data['loc_lat']), float(sub_data['loc_lng']) )\n",
    "        sub_data['loc_country'] = iso3166.countries_by_alpha2.get(rg.search(coord, mode=1)[0]['cc'], None).name\n",
    "        updates['loc_country'] = sub_data['loc_country']\n",
    "    \n",
    "    update_sub_everywhere_with_misc(sub_data['id'], cursor, session, **updates)\n",
    "\n",
    "############ Scrape all the email data ############\n",
    "scrape_all_email_data(conn, exclude_freshness=2, connections=20)\n",
    "          \n",
    "#update_subscriber_in_rds(a['id'], cursor, sub_data={**a, **new_data}) # If item is deleted then only update rds"
   ]
  },
  {
   "cell_type": "code",
   "execution_count": null,
   "metadata": {
    "ExecuteTime": {
     "end_time": "2019-11-21T03:35:47.391205Z",
     "start_time": "2019-11-21T03:35:47.232094Z"
    },
    "hidden": true
   },
   "outputs": [],
   "source": [
    "conn.commit()"
   ]
  },
  {
   "cell_type": "code",
   "execution_count": null,
   "metadata": {
    "ExecuteTime": {
     "end_time": "2019-11-21T04:33:30.114506Z",
     "start_time": "2019-11-21T04:33:30.047659Z"
    },
    "hidden": true
   },
   "outputs": [],
   "source": [
    "no_opens.index(276409033)"
   ]
  },
  {
   "cell_type": "code",
   "execution_count": null,
   "metadata": {
    "ExecuteTime": {
     "end_time": "2019-11-21T05:04:40.086658Z",
     "start_time": "2019-11-21T04:34:13.417298Z"
    },
    "hidden": true
   },
   "outputs": [],
   "source": [
    "session = requests.session()\n",
    "for i, sub_id in enumerate(no_opens[2341:]):\n",
    "    try:\n",
    "        if i%100==0:print(f'{i}/{len(no_opens)}', end='\\r')\n",
    "        update_ck_sub_with_misc(sub_id=sub_id, session=session, **{'temp':'noopen'})\n",
    "    except:\n",
    "        print(f'error on {sub_id}')"
   ]
  },
  {
   "cell_type": "markdown",
   "metadata": {
    "heading_collapsed": true,
    "hidden": true
   },
   "source": [
    "###### Get RDS Subscribers"
   ]
  },
  {
   "cell_type": "code",
   "execution_count": null,
   "metadata": {
    "ExecuteTime": {
     "end_time": "2019-11-21T02:58:43.632722Z",
     "start_time": "2019-11-21T02:58:43.571062Z"
    },
    "hidden": true
   },
   "outputs": [],
   "source": [
    "ck_subs_not_in_rds"
   ]
  },
  {
   "cell_type": "code",
   "execution_count": null,
   "metadata": {
    "ExecuteTime": {
     "end_time": "2019-11-21T02:58:59.475989Z",
     "start_time": "2019-11-21T02:58:57.861976Z"
    },
    "hidden": true
   },
   "outputs": [],
   "source": [
    "ck_app_session = get_ck_session()\n",
    "for i, ck_sub in enumerate(ck_subs_not_in_rds[:1]):\n",
    "    update_single_subscriber(\n",
    "        ck_sub, \n",
    "        cursor,\n",
    "        ck_app_session=ck_app_session,\n",
    "        do_location=True,\n",
    "        geolocator=Nominatim(user_agent=\"dgn_app\"),\n",
    "        overwrite=False,\n",
    "    )\n",
    "    print(f'{i}/{len(ck_subs_not_in_rds)}, {ck_sub}', end='\\r')"
   ]
  },
  {
   "cell_type": "code",
   "execution_count": null,
   "metadata": {
    "ExecuteTime": {
     "end_time": "2019-11-20T23:51:12.111535Z",
     "start_time": "2019-11-20T23:51:11.451308Z"
    },
    "hidden": true
   },
   "outputs": [],
   "source": [
    "cursor.e('ALTER TABLE subscriber_data ADD COLUMN stsbc_subscriber_id int(10);')"
   ]
  },
  {
   "cell_type": "code",
   "execution_count": null,
   "metadata": {
    "ExecuteTime": {
     "end_time": "2019-11-20T23:50:41.488168Z",
     "start_time": "2019-11-20T23:50:41.025527Z"
    },
    "hidden": true
   },
   "outputs": [],
   "source": [
    "cursor.e('ALTER TABLE subscriber_data MODIFY `other_email_address` TINYTEXT;')"
   ]
  },
  {
   "cell_type": "code",
   "execution_count": null,
   "metadata": {
    "ExecuteTime": {
     "end_time": "2019-11-20T23:49:16.055570Z",
     "start_time": "2019-11-20T23:49:15.998259Z"
    },
    "hidden": true
   },
   "outputs": [],
   "source": [
    "[c for c in cursor.e('DESCRIBE subscriber_data')]"
   ]
  },
  {
   "cell_type": "markdown",
   "metadata": {
    "heading_collapsed": true
   },
   "source": [
    "#### Get inactive data"
   ]
  },
  {
   "cell_type": "code",
   "execution_count": null,
   "metadata": {
    "ExecuteTime": {
     "end_time": "2019-09-28T19:17:03.198121Z",
     "start_time": "2019-09-28T19:16:50.601841Z"
    },
    "hidden": true
   },
   "outputs": [],
   "source": [
    "sub_ids = list({k:v for k,v in all_rds_dict.items() if v['state']=='inactive'}.keys())[8000:9000]\n",
    "new_sub_data = trio.run(get_api_single_subscribers_async, sub_ids)\n",
    "new_sub_data = [{k:v for k,v in n.items() if k!='last_name'} for n in new_sub_data if 'id' in n]\n",
    "updates = cursor.dict_insert(new_sub_data, 'subscriber_data')\n",
    "print(updates)\n",
    "conn.commit()"
   ]
  },
  {
   "cell_type": "markdown",
   "metadata": {
    "hidden": true
   },
   "source": [
    "\n",
    "#### Misc "
   ]
  },
  {
   "cell_type": "code",
   "execution_count": null,
   "metadata": {
    "ExecuteTime": {
     "end_time": "2019-11-20T23:24:55.421016Z",
     "start_time": "2019-11-20T23:24:55.376278Z"
    },
    "hidden": true
   },
   "outputs": [],
   "source": [
    "??update_single_subscriber"
   ]
  },
  {
   "cell_type": "code",
   "execution_count": null,
   "metadata": {
    "ExecuteTime": {
     "start_time": "2019-11-20T23:30:27.352Z"
    },
    "hidden": true
   },
   "outputs": [],
   "source": [
    "ck_app_session = get_ck_session()\n",
    "geolocator = Nominatim(user_agent=\"dgn_app\")\n",
    "for ck_sub in ck_subs_not_in_rds[:1]:\n",
    "    a = update_single_subscriber(\n",
    "        ck_sub, \n",
    "        cursor, \n",
    "        ck_app_session=ck_app_session, \n",
    "        do_location=True, \n",
    "        geolocator=geolocator, \n",
    "        overwrite=False)\n",
    "print(a)"
   ]
  },
  {
   "cell_type": "code",
   "execution_count": null,
   "metadata": {
    "ExecuteTime": {
     "end_time": "2019-11-20T23:22:36.152136Z",
     "start_time": "2019-11-20T23:22:36.107252Z"
    },
    "hidden": true
   },
   "outputs": [],
   "source": [
    "ck_subs_not_in_rds"
   ]
  },
  {
   "cell_type": "code",
   "execution_count": null,
   "metadata": {
    "hidden": true
   },
   "outputs": [],
   "source": []
  },
  {
   "cell_type": "markdown",
   "metadata": {},
   "source": [
    "### Analysis"
   ]
  },
  {
   "cell_type": "markdown",
   "metadata": {
    "heading_collapsed": true
   },
   "source": [
    "#### Weekly Metrics\n"
   ]
  },
  {
   "cell_type": "code",
   "execution_count": null,
   "metadata": {
    "ExecuteTime": {
     "end_time": "2020-03-03T21:32:54.537725Z",
     "start_time": "2020-03-03T21:32:54.361953Z"
    },
    "hidden": true
   },
   "outputs": [],
   "source": [
    "# New subscribers (Monday through Sunday)\n",
    "recent_sunday = date(2020, 3, 1)\n",
    "end_date = time_dt_to_ck(recent_sunday)\n",
    "start_date = time_dt_to_ck(recent_sunday - timedelta(days=6))\n",
    "\n",
    "sql_stmt = f\"\"\"\n",
    "SELECT * FROM subscriber_data \n",
    "WHERE STR_TO_DATE(subscribe_date, '%Y-%m-%d') BETWEEN '{start_date}' AND '{end_date}'\n",
    "\"\"\"\n",
    "new_subs = cursor.e(sql_stmt)\n",
    "print(f'{len(new_subs)} new subs between {start_date} ({datetime.strftime(time_ck_to_dt(start_date), \"%A\")}), and {end_date} ({datetime.strftime(time_ck_to_dt(end_date), \"%A\")}) (inclusive)')\n",
    "\n",
    "[[s['email_address'], s['subscribe_date']] for s in new_subs]\n"
   ]
  },
  {
   "cell_type": "code",
   "execution_count": null,
   "metadata": {
    "hidden": true
   },
   "outputs": [],
   "source": []
  },
  {
   "cell_type": "code",
   "execution_count": null,
   "metadata": {
    "ExecuteTime": {
     "end_time": "2020-03-04T20:44:46.572037Z",
     "start_time": "2020-03-04T20:44:46.145881Z"
    },
    "hidden": true
   },
   "outputs": [],
   "source": [
    "# Get subscriber amount by date (This is actually needed for the metric)\n",
    "date = '2020-02-01'\n",
    "date_dt = time_ck_to_dt(date); date_dt\n",
    "sql_stmt = \"\"\"\n",
    "SELECT * \n",
    "FROM subscriber_data \n",
    "WHERE \n",
    "    (subscribe_date < \"2020-03-04\")\n",
    "    AND (unsubscribe_date IS NULL OR unsubscribe_date = \"\" OR unsubscribe_date > \"2020-03-04\")\n",
    "\"\"\"\n",
    "# \n",
    "current_subscribers = cursor.e(sql_stmt); len(current_subscribers)\n",
    "# I want subscribers with subscribe_date after the date in question and unsubscribe_date as NA or after\n",
    "11170 - 10947 = 223"
   ]
  },
  {
   "cell_type": "code",
   "execution_count": null,
   "metadata": {
    "ExecuteTime": {
     "end_time": "2020-03-06T15:09:27.367223Z",
     "start_time": "2020-03-06T15:09:26.956758Z"
    },
    "hidden": true
   },
   "outputs": [],
   "source": [
    "[g['subscriber']['email_address'] for g in get_api_data(CK_Api.TAG_SUBS,1317473)]"
   ]
  },
  {
   "cell_type": "code",
   "execution_count": null,
   "metadata": {
    "ExecuteTime": {
     "end_time": "2020-03-04T21:29:50.426020Z",
     "start_time": "2020-03-04T21:24:39.494235Z"
    },
    "hidden": true
   },
   "outputs": [],
   "source": [
    "email_rates = [get_rate(mysql_email_list(sub_id, conn)) for sub_id in sub_ids]; len(email_rates)\n",
    "plt.hist(email_rates,10)"
   ]
  },
  {
   "cell_type": "code",
   "execution_count": null,
   "metadata": {
    "ExecuteTime": {
     "end_time": "2020-03-04T21:30:55.490522Z",
     "start_time": "2020-03-04T21:30:55.261191Z"
    },
    "hidden": true
   },
   "outputs": [],
   "source": [
    "plt.hist([e for e in email_rates if e],30)"
   ]
  },
  {
   "cell_type": "code",
   "execution_count": null,
   "metadata": {
    "ExecuteTime": {
     "end_time": "2020-03-04T19:23:41.372038Z",
     "start_time": "2020-03-04T19:23:41.218448Z"
    },
    "hidden": true
   },
   "outputs": [],
   "source": [
    "# Find subscribers without subscription date\n",
    "# add that from below\n",
    "sql_stmt = \"\"\"\n",
    "SELECT * FROM subscriber_data\n",
    "WHERE \n",
    "    (subscribe_date IS NULL OR subscribe_date = \"\") \n",
    "    AND state NOT IN ('inactive', 'bounced', 'complained')\n",
    "\"\"\"\n",
    "no_sub_date = cursor.e(sql_stmt)\n",
    "print(f'There are {len(no_sub_date)} subscribers without a subscribe_date')\n",
    "# There are no issues\n",
    "\n",
    "# Find unsubscribers without unsubscription date\n",
    "# Add that based on function?\n",
    "\n",
    "# Find deleted subscribers without unsubscription date\n",
    "# Add it based on last email"
   ]
  },
  {
   "cell_type": "markdown",
   "metadata": {},
   "source": [
    "#### Purchase & Launch information"
   ]
  },
  {
   "cell_type": "code",
   "execution_count": 127,
   "metadata": {
    "ExecuteTime": {
     "end_time": "2020-04-08T16:14:16.558797Z",
     "start_time": "2020-04-08T16:14:13.454045Z"
    }
   },
   "outputs": [],
   "source": [
    "purchases, launches = get_detailed_purchase_and_launch_data(cursor)"
   ]
  },
  {
   "cell_type": "markdown",
   "metadata": {},
   "source": [
    "###### spreadsheets"
   ]
  },
  {
   "cell_type": "code",
   "execution_count": 136,
   "metadata": {
    "ExecuteTime": {
     "end_time": "2020-04-08T16:22:51.769199Z",
     "start_time": "2020-04-08T16:19:34.564384Z"
    }
   },
   "outputs": [
    {
     "name": "stderr",
     "output_type": "stream",
     "text": [
      "INFO:root:Evaluating: \n",
      "INFO:root:Evaluating: (launch IN Launch_6)\n",
      "INFO:root:Evaluating: (launch IN Launch_7)\n"
     ]
    },
    {
     "name": "stdout",
     "output_type": "stream",
     "text": [
      "Progress: 1/1680\r"
     ]
    },
    {
     "name": "stderr",
     "output_type": "stream",
     "text": [
      "INFO:root:Evaluating: (launch IN Launch_8)\n",
      "INFO:root:Evaluating: (country IN ['United States of America', 'Canada'])\n",
      "INFO:root:Evaluating: (country IN ['United States of America', 'Canada']) AND (launch IN Launch_6)\n",
      "INFO:root:Evaluating: (country IN ['United States of America', 'Canada']) AND (launch IN Launch_7)\n",
      "INFO:root:Evaluating: (country IN ['United States of America', 'Canada']) AND (launch IN Launch_8)\n",
      "INFO:root:Evaluating: (lead_source IN Referral - Jake Parker)\n",
      "INFO:root:Evaluating: (lead_source IN Referral - Jake Parker) AND (launch IN Launch_6)\n",
      "INFO:root:Evaluating: (lead_source IN Referral - Jake Parker) AND (launch IN Launch_7)\n",
      "INFO:root:Evaluating: (lead_source IN Referral - Jake Parker) AND (launch IN Launch_8)\n",
      "INFO:root:Evaluating: (lead_source IN Referral - Jake Parker) AND (country IN ['United States of America', 'Canada'])\n",
      "INFO:root:Evaluating: (lead_source IN Referral - Jake Parker) AND (country IN ['United States of America', 'Canada']) AND (launch IN Launch_6)\n",
      "INFO:root:Evaluating: (lead_source IN Referral - Jake Parker) AND (country IN ['United States of America', 'Canada']) AND (launch IN Launch_7)\n",
      "INFO:root:Evaluating: (lead_source IN Referral - Jake Parker) AND (country IN ['United States of America', 'Canada']) AND (launch IN Launch_8)\n",
      "INFO:root:Evaluating: (lead_source IN Manual)\n",
      "INFO:root:Evaluating: (lead_source IN Manual) AND (launch IN Launch_6)\n",
      "INFO:root:Evaluating: (lead_source IN Manual) AND (launch IN Launch_7)\n",
      "INFO:root:Evaluating: (lead_source IN Manual) AND (launch IN Launch_8)\n",
      "INFO:root:Evaluating: (lead_source IN Manual) AND (country IN ['United States of America', 'Canada'])\n",
      "INFO:root:Evaluating: (lead_source IN Manual) AND (country IN ['United States of America', 'Canada']) AND (launch IN Launch_6)\n"
     ]
    },
    {
     "name": "stdout",
     "output_type": "stream",
     "text": [
      "Progress: 21/1680\r"
     ]
    },
    {
     "name": "stderr",
     "output_type": "stream",
     "text": [
      "INFO:root:Evaluating: (lead_source IN Manual) AND (country IN ['United States of America', 'Canada']) AND (launch IN Launch_7)\n",
      "INFO:root:Evaluating: (lead_source IN Manual) AND (country IN ['United States of America', 'Canada']) AND (launch IN Launch_8)\n",
      "INFO:root:Evaluating: (lead_source IN Twitter)\n",
      "INFO:root:Evaluating: (lead_source IN Twitter) AND (launch IN Launch_6)\n",
      "INFO:root:Evaluating: (lead_source IN Twitter) AND (launch IN Launch_7)\n",
      "INFO:root:Evaluating: (lead_source IN Twitter) AND (launch IN Launch_8)\n",
      "INFO:root:Evaluating: (lead_source IN Twitter) AND (country IN ['United States of America', 'Canada'])\n",
      "INFO:root:Evaluating: (lead_source IN Twitter) AND (country IN ['United States of America', 'Canada']) AND (launch IN Launch_6)\n",
      "INFO:root:Evaluating: (lead_source IN Twitter) AND (country IN ['United States of America', 'Canada']) AND (launch IN Launch_7)\n",
      "INFO:root:Evaluating: (lead_source IN Twitter) AND (country IN ['United States of America', 'Canada']) AND (launch IN Launch_8)\n",
      "INFO:root:Evaluating: (lead_source IN FB Ad)\n",
      "INFO:root:Evaluating: (lead_source IN FB Ad) AND (launch IN Launch_6)\n",
      "INFO:root:Evaluating: (lead_source IN FB Ad) AND (launch IN Launch_7)\n",
      "INFO:root:Evaluating: (lead_source IN FB Ad) AND (launch IN Launch_8)\n",
      "INFO:root:Evaluating: (lead_source IN FB Ad) AND (country IN ['United States of America', 'Canada'])\n",
      "INFO:root:Evaluating: (lead_source IN FB Ad) AND (country IN ['United States of America', 'Canada']) AND (launch IN Launch_6)\n",
      "INFO:root:Evaluating: (lead_source IN FB Ad) AND (country IN ['United States of America', 'Canada']) AND (launch IN Launch_7)\n",
      "INFO:root:Evaluating: (lead_source IN FB Ad) AND (country IN ['United States of America', 'Canada']) AND (launch IN Launch_8)\n",
      "INFO:root:Evaluating: (lead_source IN Facebook)\n",
      "INFO:root:Evaluating: (lead_source IN Facebook) AND (launch IN Launch_6)\n",
      "INFO:root:Evaluating: (lead_source IN Facebook) AND (launch IN Launch_7)\n"
     ]
    },
    {
     "name": "stdout",
     "output_type": "stream",
     "text": [
      "Progress: 41/1680\r"
     ]
    },
    {
     "name": "stderr",
     "output_type": "stream",
     "text": [
      "INFO:root:Evaluating: (lead_source IN Facebook) AND (launch IN Launch_8)\n",
      "INFO:root:Evaluating: (lead_source IN Facebook) AND (country IN ['United States of America', 'Canada'])\n",
      "INFO:root:Evaluating: (lead_source IN Facebook) AND (country IN ['United States of America', 'Canada']) AND (launch IN Launch_6)\n",
      "INFO:root:Evaluating: (lead_source IN Facebook) AND (country IN ['United States of America', 'Canada']) AND (launch IN Launch_7)\n",
      "INFO:root:Evaluating: (lead_source IN Facebook) AND (country IN ['United States of America', 'Canada']) AND (launch IN Launch_8)\n",
      "INFO:root:Evaluating: (lead_source IN MailChimp)\n",
      "INFO:root:Evaluating: (lead_source IN MailChimp) AND (launch IN Launch_6)\n",
      "INFO:root:Evaluating: (lead_source IN MailChimp) AND (launch IN Launch_7)\n",
      "INFO:root:Evaluating: (lead_source IN MailChimp) AND (launch IN Launch_8)\n",
      "INFO:root:Evaluating: (lead_source IN MailChimp) AND (country IN ['United States of America', 'Canada'])\n",
      "INFO:root:Evaluating: (lead_source IN MailChimp) AND (country IN ['United States of America', 'Canada']) AND (launch IN Launch_6)\n",
      "INFO:root:Evaluating: (lead_source IN MailChimp) AND (country IN ['United States of America', 'Canada']) AND (launch IN Launch_7)\n",
      "INFO:root:Evaluating: (lead_source IN MailChimp) AND (country IN ['United States of America', 'Canada']) AND (launch IN Launch_8)\n",
      "INFO:root:Evaluating: (lead_source IN Unknown)\n",
      "INFO:root:Evaluating: (lead_source IN Unknown) AND (launch IN Launch_6)\n",
      "INFO:root:Evaluating: (lead_source IN Unknown) AND (launch IN Launch_7)\n",
      "INFO:root:Evaluating: (lead_source IN Unknown) AND (launch IN Launch_8)\n",
      "INFO:root:Evaluating: (lead_source IN Unknown) AND (country IN ['United States of America', 'Canada'])\n",
      "INFO:root:Evaluating: (lead_source IN Unknown) AND (country IN ['United States of America', 'Canada']) AND (launch IN Launch_6)\n"
     ]
    },
    {
     "name": "stdout",
     "output_type": "stream",
     "text": [
      "Progress: 61/1680\r"
     ]
    },
    {
     "name": "stderr",
     "output_type": "stream",
     "text": [
      "INFO:root:Evaluating: (lead_source IN Unknown) AND (country IN ['United States of America', 'Canada']) AND (launch IN Launch_7)\n",
      "INFO:root:Evaluating: (lead_source IN Unknown) AND (country IN ['United States of America', 'Canada']) AND (launch IN Launch_8)\n",
      "INFO:root:Evaluating: (lead_source IN None)\n",
      "INFO:root:Evaluating: (lead_source IN None) AND (launch IN Launch_6)\n",
      "INFO:root:Evaluating: (lead_source IN None) AND (launch IN Launch_7)\n",
      "INFO:root:Evaluating: (lead_source IN None) AND (launch IN Launch_8)\n",
      "INFO:root:Evaluating: (lead_source IN None) AND (country IN ['United States of America', 'Canada'])\n",
      "INFO:root:Evaluating: (lead_source IN None) AND (country IN ['United States of America', 'Canada']) AND (launch IN Launch_6)\n",
      "INFO:root:Evaluating: (lead_source IN None) AND (country IN ['United States of America', 'Canada']) AND (launch IN Launch_7)\n",
      "INFO:root:Evaluating: (lead_source IN None) AND (country IN ['United States of America', 'Canada']) AND (launch IN Launch_8)\n",
      "INFO:root:Evaluating: (lead_source IN Medium)\n",
      "INFO:root:Evaluating: (lead_source IN Medium) AND (launch IN Launch_6)\n",
      "INFO:root:Evaluating: (lead_source IN Medium) AND (launch IN Launch_7)\n",
      "INFO:root:Evaluating: (lead_source IN Medium) AND (launch IN Launch_8)\n",
      "INFO:root:Evaluating: (lead_source IN Medium) AND (country IN ['United States of America', 'Canada'])\n",
      "INFO:root:Evaluating: (lead_source IN Medium) AND (country IN ['United States of America', 'Canada']) AND (launch IN Launch_6)\n",
      "INFO:root:Evaluating: (lead_source IN Medium) AND (country IN ['United States of America', 'Canada']) AND (launch IN Launch_7)\n",
      "INFO:root:Evaluating: (lead_source IN Medium) AND (country IN ['United States of America', 'Canada']) AND (launch IN Launch_8)\n",
      "INFO:root:Evaluating: (lead_source IN MCS Page)\n",
      "INFO:root:Evaluating: (lead_source IN MCS Page) AND (launch IN Launch_6)\n",
      "INFO:root:Evaluating: (lead_source IN MCS Page) AND (launch IN Launch_7)\n"
     ]
    },
    {
     "name": "stdout",
     "output_type": "stream",
     "text": [
      "Progress: 81/1680\r"
     ]
    },
    {
     "name": "stderr",
     "output_type": "stream",
     "text": [
      "INFO:root:Evaluating: (lead_source IN MCS Page) AND (launch IN Launch_8)\n",
      "INFO:root:Evaluating: (lead_source IN MCS Page) AND (country IN ['United States of America', 'Canada'])\n",
      "INFO:root:Evaluating: (lead_source IN MCS Page) AND (country IN ['United States of America', 'Canada']) AND (launch IN Launch_6)\n",
      "INFO:root:Evaluating: (lead_source IN MCS Page) AND (country IN ['United States of America', 'Canada']) AND (launch IN Launch_7)\n",
      "INFO:root:Evaluating: (lead_source IN MCS Page) AND (country IN ['United States of America', 'Canada']) AND (launch IN Launch_8)\n",
      "INFO:root:Evaluating: (lead_source IN Google Ad)\n",
      "INFO:root:Evaluating: (lead_source IN Google Ad) AND (launch IN Launch_6)\n",
      "INFO:root:Evaluating: (lead_source IN Google Ad) AND (launch IN Launch_7)\n",
      "INFO:root:Evaluating: (lead_source IN Google Ad) AND (launch IN Launch_8)\n",
      "INFO:root:Evaluating: (lead_source IN Google Ad) AND (country IN ['United States of America', 'Canada'])\n",
      "INFO:root:Evaluating: (lead_source IN Google Ad) AND (country IN ['United States of America', 'Canada']) AND (launch IN Launch_6)\n",
      "INFO:root:Evaluating: (lead_source IN Google Ad) AND (country IN ['United States of America', 'Canada']) AND (launch IN Launch_7)\n",
      "INFO:root:Evaluating: (lead_source IN Google Ad) AND (country IN ['United States of America', 'Canada']) AND (launch IN Launch_8)\n",
      "INFO:root:Evaluating: (lead_source IN Skillshare)\n",
      "INFO:root:Evaluating: (lead_source IN Skillshare) AND (launch IN Launch_6)\n",
      "INFO:root:Evaluating: (lead_source IN Skillshare) AND (launch IN Launch_7)\n",
      "INFO:root:Evaluating: (lead_source IN Skillshare) AND (launch IN Launch_8)\n",
      "INFO:root:Evaluating: (lead_source IN Skillshare) AND (country IN ['United States of America', 'Canada'])\n",
      "INFO:root:Evaluating: (lead_source IN Skillshare) AND (country IN ['United States of America', 'Canada']) AND (launch IN Launch_6)\n",
      "INFO:root:Evaluating: (lead_source IN Skillshare) AND (country IN ['United States of America', 'Canada']) AND (launch IN Launch_7)\n"
     ]
    },
    {
     "name": "stdout",
     "output_type": "stream",
     "text": [
      "Progress: 101/1680\r"
     ]
    },
    {
     "name": "stderr",
     "output_type": "stream",
     "text": [
      "INFO:root:Evaluating: (lead_source IN Skillshare) AND (country IN ['United States of America', 'Canada']) AND (launch IN Launch_8)\n",
      "INFO:root:Evaluating: (lead_source IN Instagram)\n",
      "INFO:root:Evaluating: (lead_source IN Instagram) AND (launch IN Launch_6)\n",
      "INFO:root:Evaluating: (lead_source IN Instagram) AND (launch IN Launch_7)\n",
      "INFO:root:Evaluating: (lead_source IN Instagram) AND (launch IN Launch_8)\n",
      "INFO:root:Evaluating: (lead_source IN Instagram) AND (country IN ['United States of America', 'Canada'])\n",
      "INFO:root:Evaluating: (lead_source IN Instagram) AND (country IN ['United States of America', 'Canada']) AND (launch IN Launch_6)\n",
      "INFO:root:Evaluating: (lead_source IN Instagram) AND (country IN ['United States of America', 'Canada']) AND (launch IN Launch_7)\n",
      "INFO:root:Evaluating: (lead_source IN Instagram) AND (country IN ['United States of America', 'Canada']) AND (launch IN Launch_8)\n",
      "INFO:root:Evaluating: (lead_opt-in IN Style Mini-course)\n",
      "INFO:root:Evaluating: (lead_opt-in IN Style Mini-course) AND (launch IN Launch_6)\n",
      "INFO:root:Evaluating: (lead_opt-in IN Style Mini-course) AND (launch IN Launch_7)\n",
      "INFO:root:Evaluating: (lead_opt-in IN Style Mini-course) AND (launch IN Launch_8)\n",
      "INFO:root:Evaluating: (lead_opt-in IN Style Mini-course) AND (country IN ['United States of America', 'Canada'])\n",
      "INFO:root:Evaluating: (lead_opt-in IN Style Mini-course) AND (country IN ['United States of America', 'Canada']) AND (launch IN Launch_6)\n",
      "INFO:root:Evaluating: (lead_opt-in IN Style Mini-course) AND (country IN ['United States of America', 'Canada']) AND (launch IN Launch_7)\n",
      "INFO:root:Evaluating: (lead_opt-in IN Style Mini-course) AND (country IN ['United States of America', 'Canada']) AND (launch IN Launch_8)\n",
      "INFO:root:Evaluating: (lead_opt-in IN Style Mini-course) AND (lead_source IN Referral - Jake Parker)\n",
      "INFO:root:Evaluating: (lead_opt-in IN Style Mini-course) AND (lead_source IN Referral - Jake Parker) AND (launch IN Launch_6)\n"
     ]
    },
    {
     "name": "stdout",
     "output_type": "stream",
     "text": [
      "Progress: 121/1680\r"
     ]
    },
    {
     "name": "stderr",
     "output_type": "stream",
     "text": [
      "INFO:root:Evaluating: (lead_opt-in IN Style Mini-course) AND (lead_source IN Referral - Jake Parker) AND (launch IN Launch_7)\n",
      "INFO:root:Evaluating: (lead_opt-in IN Style Mini-course) AND (lead_source IN Referral - Jake Parker) AND (launch IN Launch_8)\n",
      "INFO:root:Evaluating: (lead_opt-in IN Style Mini-course) AND (lead_source IN Referral - Jake Parker) AND (country IN ['United States of America', 'Canada'])\n",
      "INFO:root:Evaluating: (lead_opt-in IN Style Mini-course) AND (lead_source IN Referral - Jake Parker) AND (country IN ['United States of America', 'Canada']) AND (launch IN Launch_6)\n",
      "INFO:root:Evaluating: (lead_opt-in IN Style Mini-course) AND (lead_source IN Referral - Jake Parker) AND (country IN ['United States of America', 'Canada']) AND (launch IN Launch_7)\n",
      "INFO:root:Evaluating: (lead_opt-in IN Style Mini-course) AND (lead_source IN Referral - Jake Parker) AND (country IN ['United States of America', 'Canada']) AND (launch IN Launch_8)\n",
      "INFO:root:Evaluating: (lead_opt-in IN Style Mini-course) AND (lead_source IN Manual)\n",
      "INFO:root:Evaluating: (lead_opt-in IN Style Mini-course) AND (lead_source IN Manual) AND (launch IN Launch_6)\n",
      "INFO:root:Evaluating: (lead_opt-in IN Style Mini-course) AND (lead_source IN Manual) AND (launch IN Launch_7)\n",
      "INFO:root:Evaluating: (lead_opt-in IN Style Mini-course) AND (lead_source IN Manual) AND (launch IN Launch_8)\n",
      "INFO:root:Evaluating: (lead_opt-in IN Style Mini-course) AND (lead_source IN Manual) AND (country IN ['United States of America', 'Canada'])\n",
      "INFO:root:Evaluating: (lead_opt-in IN Style Mini-course) AND (lead_source IN Manual) AND (country IN ['United States of America', 'Canada']) AND (launch IN Launch_6)\n",
      "INFO:root:Evaluating: (lead_opt-in IN Style Mini-course) AND (lead_source IN Manual) AND (country IN ['United States of America', 'Canada']) AND (launch IN Launch_7)\n",
      "INFO:root:Evaluating: (lead_opt-in IN Style Mini-course) AND (lead_source IN Manual) AND (country IN ['United States of America', 'Canada']) AND (launch IN Launch_8)\n",
      "INFO:root:Evaluating: (lead_opt-in IN Style Mini-course) AND (lead_source IN Twitter)\n",
      "INFO:root:Evaluating: (lead_opt-in IN Style Mini-course) AND (lead_source IN Twitter) AND (launch IN Launch_6)\n",
      "INFO:root:Evaluating: (lead_opt-in IN Style Mini-course) AND (lead_source IN Twitter) AND (launch IN Launch_7)\n",
      "INFO:root:Evaluating: (lead_opt-in IN Style Mini-course) AND (lead_source IN Twitter) AND (launch IN Launch_8)\n",
      "INFO:root:Evaluating: (lead_opt-in IN Style Mini-course) AND (lead_source IN Twitter) AND (country IN ['United States of America', 'Canada'])\n",
      "INFO:root:Evaluating: (lead_opt-in IN Style Mini-course) AND (lead_source IN Twitter) AND (country IN ['United States of America', 'Canada']) AND (launch IN Launch_6)\n"
     ]
    },
    {
     "name": "stdout",
     "output_type": "stream",
     "text": [
      "Progress: 141/1680\r"
     ]
    },
    {
     "name": "stderr",
     "output_type": "stream",
     "text": [
      "INFO:root:Evaluating: (lead_opt-in IN Style Mini-course) AND (lead_source IN Twitter) AND (country IN ['United States of America', 'Canada']) AND (launch IN Launch_7)\n",
      "INFO:root:Evaluating: (lead_opt-in IN Style Mini-course) AND (lead_source IN Twitter) AND (country IN ['United States of America', 'Canada']) AND (launch IN Launch_8)\n",
      "INFO:root:Evaluating: (lead_opt-in IN Style Mini-course) AND (lead_source IN FB Ad)\n",
      "INFO:root:Evaluating: (lead_opt-in IN Style Mini-course) AND (lead_source IN FB Ad) AND (launch IN Launch_6)\n",
      "INFO:root:Evaluating: (lead_opt-in IN Style Mini-course) AND (lead_source IN FB Ad) AND (launch IN Launch_7)\n",
      "INFO:root:Evaluating: (lead_opt-in IN Style Mini-course) AND (lead_source IN FB Ad) AND (launch IN Launch_8)\n",
      "INFO:root:Evaluating: (lead_opt-in IN Style Mini-course) AND (lead_source IN FB Ad) AND (country IN ['United States of America', 'Canada'])\n",
      "INFO:root:Evaluating: (lead_opt-in IN Style Mini-course) AND (lead_source IN FB Ad) AND (country IN ['United States of America', 'Canada']) AND (launch IN Launch_6)\n",
      "INFO:root:Evaluating: (lead_opt-in IN Style Mini-course) AND (lead_source IN FB Ad) AND (country IN ['United States of America', 'Canada']) AND (launch IN Launch_7)\n",
      "INFO:root:Evaluating: (lead_opt-in IN Style Mini-course) AND (lead_source IN FB Ad) AND (country IN ['United States of America', 'Canada']) AND (launch IN Launch_8)\n",
      "INFO:root:Evaluating: (lead_opt-in IN Style Mini-course) AND (lead_source IN Facebook)\n",
      "INFO:root:Evaluating: (lead_opt-in IN Style Mini-course) AND (lead_source IN Facebook) AND (launch IN Launch_6)\n",
      "INFO:root:Evaluating: (lead_opt-in IN Style Mini-course) AND (lead_source IN Facebook) AND (launch IN Launch_7)\n",
      "INFO:root:Evaluating: (lead_opt-in IN Style Mini-course) AND (lead_source IN Facebook) AND (launch IN Launch_8)\n",
      "INFO:root:Evaluating: (lead_opt-in IN Style Mini-course) AND (lead_source IN Facebook) AND (country IN ['United States of America', 'Canada'])\n",
      "INFO:root:Evaluating: (lead_opt-in IN Style Mini-course) AND (lead_source IN Facebook) AND (country IN ['United States of America', 'Canada']) AND (launch IN Launch_6)\n",
      "INFO:root:Evaluating: (lead_opt-in IN Style Mini-course) AND (lead_source IN Facebook) AND (country IN ['United States of America', 'Canada']) AND (launch IN Launch_7)\n",
      "INFO:root:Evaluating: (lead_opt-in IN Style Mini-course) AND (lead_source IN Facebook) AND (country IN ['United States of America', 'Canada']) AND (launch IN Launch_8)\n",
      "INFO:root:Evaluating: (lead_opt-in IN Style Mini-course) AND (lead_source IN MailChimp)\n",
      "INFO:root:Evaluating: (lead_opt-in IN Style Mini-course) AND (lead_source IN MailChimp) AND (launch IN Launch_6)\n"
     ]
    },
    {
     "name": "stdout",
     "output_type": "stream",
     "text": [
      "Progress: 161/1680\r"
     ]
    },
    {
     "name": "stderr",
     "output_type": "stream",
     "text": [
      "INFO:root:Evaluating: (lead_opt-in IN Style Mini-course) AND (lead_source IN MailChimp) AND (launch IN Launch_7)\n",
      "INFO:root:Evaluating: (lead_opt-in IN Style Mini-course) AND (lead_source IN MailChimp) AND (launch IN Launch_8)\n",
      "INFO:root:Evaluating: (lead_opt-in IN Style Mini-course) AND (lead_source IN MailChimp) AND (country IN ['United States of America', 'Canada'])\n",
      "INFO:root:Evaluating: (lead_opt-in IN Style Mini-course) AND (lead_source IN MailChimp) AND (country IN ['United States of America', 'Canada']) AND (launch IN Launch_6)\n",
      "INFO:root:Evaluating: (lead_opt-in IN Style Mini-course) AND (lead_source IN MailChimp) AND (country IN ['United States of America', 'Canada']) AND (launch IN Launch_7)\n",
      "INFO:root:Evaluating: (lead_opt-in IN Style Mini-course) AND (lead_source IN MailChimp) AND (country IN ['United States of America', 'Canada']) AND (launch IN Launch_8)\n",
      "INFO:root:Evaluating: (lead_opt-in IN Style Mini-course) AND (lead_source IN Unknown)\n",
      "INFO:root:Evaluating: (lead_opt-in IN Style Mini-course) AND (lead_source IN Unknown) AND (launch IN Launch_6)\n",
      "INFO:root:Evaluating: (lead_opt-in IN Style Mini-course) AND (lead_source IN Unknown) AND (launch IN Launch_7)\n",
      "INFO:root:Evaluating: (lead_opt-in IN Style Mini-course) AND (lead_source IN Unknown) AND (launch IN Launch_8)\n",
      "INFO:root:Evaluating: (lead_opt-in IN Style Mini-course) AND (lead_source IN Unknown) AND (country IN ['United States of America', 'Canada'])\n",
      "INFO:root:Evaluating: (lead_opt-in IN Style Mini-course) AND (lead_source IN Unknown) AND (country IN ['United States of America', 'Canada']) AND (launch IN Launch_6)\n",
      "INFO:root:Evaluating: (lead_opt-in IN Style Mini-course) AND (lead_source IN Unknown) AND (country IN ['United States of America', 'Canada']) AND (launch IN Launch_7)\n",
      "INFO:root:Evaluating: (lead_opt-in IN Style Mini-course) AND (lead_source IN Unknown) AND (country IN ['United States of America', 'Canada']) AND (launch IN Launch_8)\n",
      "INFO:root:Evaluating: (lead_opt-in IN Style Mini-course) AND (lead_source IN None)\n",
      "INFO:root:Evaluating: (lead_opt-in IN Style Mini-course) AND (lead_source IN None) AND (launch IN Launch_6)\n",
      "INFO:root:Evaluating: (lead_opt-in IN Style Mini-course) AND (lead_source IN None) AND (launch IN Launch_7)\n",
      "INFO:root:Evaluating: (lead_opt-in IN Style Mini-course) AND (lead_source IN None) AND (launch IN Launch_8)\n",
      "INFO:root:Evaluating: (lead_opt-in IN Style Mini-course) AND (lead_source IN None) AND (country IN ['United States of America', 'Canada'])\n",
      "INFO:root:Evaluating: (lead_opt-in IN Style Mini-course) AND (lead_source IN None) AND (country IN ['United States of America', 'Canada']) AND (launch IN Launch_6)\n"
     ]
    },
    {
     "name": "stdout",
     "output_type": "stream",
     "text": [
      "Progress: 181/1680\r"
     ]
    },
    {
     "name": "stderr",
     "output_type": "stream",
     "text": [
      "INFO:root:Evaluating: (lead_opt-in IN Style Mini-course) AND (lead_source IN None) AND (country IN ['United States of America', 'Canada']) AND (launch IN Launch_7)\n",
      "INFO:root:Evaluating: (lead_opt-in IN Style Mini-course) AND (lead_source IN None) AND (country IN ['United States of America', 'Canada']) AND (launch IN Launch_8)\n",
      "INFO:root:Evaluating: (lead_opt-in IN Style Mini-course) AND (lead_source IN Medium)\n",
      "INFO:root:Evaluating: (lead_opt-in IN Style Mini-course) AND (lead_source IN Medium) AND (launch IN Launch_6)\n",
      "INFO:root:Evaluating: (lead_opt-in IN Style Mini-course) AND (lead_source IN Medium) AND (launch IN Launch_7)\n",
      "INFO:root:Evaluating: (lead_opt-in IN Style Mini-course) AND (lead_source IN Medium) AND (launch IN Launch_8)\n",
      "INFO:root:Evaluating: (lead_opt-in IN Style Mini-course) AND (lead_source IN Medium) AND (country IN ['United States of America', 'Canada'])\n",
      "INFO:root:Evaluating: (lead_opt-in IN Style Mini-course) AND (lead_source IN Medium) AND (country IN ['United States of America', 'Canada']) AND (launch IN Launch_6)\n",
      "INFO:root:Evaluating: (lead_opt-in IN Style Mini-course) AND (lead_source IN Medium) AND (country IN ['United States of America', 'Canada']) AND (launch IN Launch_7)\n",
      "INFO:root:Evaluating: (lead_opt-in IN Style Mini-course) AND (lead_source IN Medium) AND (country IN ['United States of America', 'Canada']) AND (launch IN Launch_8)\n",
      "INFO:root:Evaluating: (lead_opt-in IN Style Mini-course) AND (lead_source IN MCS Page)\n",
      "INFO:root:Evaluating: (lead_opt-in IN Style Mini-course) AND (lead_source IN MCS Page) AND (launch IN Launch_6)\n",
      "INFO:root:Evaluating: (lead_opt-in IN Style Mini-course) AND (lead_source IN MCS Page) AND (launch IN Launch_7)\n",
      "INFO:root:Evaluating: (lead_opt-in IN Style Mini-course) AND (lead_source IN MCS Page) AND (launch IN Launch_8)\n",
      "INFO:root:Evaluating: (lead_opt-in IN Style Mini-course) AND (lead_source IN MCS Page) AND (country IN ['United States of America', 'Canada'])\n",
      "INFO:root:Evaluating: (lead_opt-in IN Style Mini-course) AND (lead_source IN MCS Page) AND (country IN ['United States of America', 'Canada']) AND (launch IN Launch_6)\n",
      "INFO:root:Evaluating: (lead_opt-in IN Style Mini-course) AND (lead_source IN MCS Page) AND (country IN ['United States of America', 'Canada']) AND (launch IN Launch_7)\n",
      "INFO:root:Evaluating: (lead_opt-in IN Style Mini-course) AND (lead_source IN MCS Page) AND (country IN ['United States of America', 'Canada']) AND (launch IN Launch_8)\n",
      "INFO:root:Evaluating: (lead_opt-in IN Style Mini-course) AND (lead_source IN Google Ad)\n",
      "INFO:root:Evaluating: (lead_opt-in IN Style Mini-course) AND (lead_source IN Google Ad) AND (launch IN Launch_6)\n"
     ]
    },
    {
     "name": "stdout",
     "output_type": "stream",
     "text": [
      "Progress: 201/1680\r"
     ]
    },
    {
     "name": "stderr",
     "output_type": "stream",
     "text": [
      "INFO:root:Evaluating: (lead_opt-in IN Style Mini-course) AND (lead_source IN Google Ad) AND (launch IN Launch_7)\n",
      "INFO:root:Evaluating: (lead_opt-in IN Style Mini-course) AND (lead_source IN Google Ad) AND (launch IN Launch_8)\n",
      "INFO:root:Evaluating: (lead_opt-in IN Style Mini-course) AND (lead_source IN Google Ad) AND (country IN ['United States of America', 'Canada'])\n",
      "INFO:root:Evaluating: (lead_opt-in IN Style Mini-course) AND (lead_source IN Google Ad) AND (country IN ['United States of America', 'Canada']) AND (launch IN Launch_6)\n",
      "INFO:root:Evaluating: (lead_opt-in IN Style Mini-course) AND (lead_source IN Google Ad) AND (country IN ['United States of America', 'Canada']) AND (launch IN Launch_7)\n",
      "INFO:root:Evaluating: (lead_opt-in IN Style Mini-course) AND (lead_source IN Google Ad) AND (country IN ['United States of America', 'Canada']) AND (launch IN Launch_8)\n",
      "INFO:root:Evaluating: (lead_opt-in IN Style Mini-course) AND (lead_source IN Skillshare)\n",
      "INFO:root:Evaluating: (lead_opt-in IN Style Mini-course) AND (lead_source IN Skillshare) AND (launch IN Launch_6)\n",
      "INFO:root:Evaluating: (lead_opt-in IN Style Mini-course) AND (lead_source IN Skillshare) AND (launch IN Launch_7)\n",
      "INFO:root:Evaluating: (lead_opt-in IN Style Mini-course) AND (lead_source IN Skillshare) AND (launch IN Launch_8)\n",
      "INFO:root:Evaluating: (lead_opt-in IN Style Mini-course) AND (lead_source IN Skillshare) AND (country IN ['United States of America', 'Canada'])\n",
      "INFO:root:Evaluating: (lead_opt-in IN Style Mini-course) AND (lead_source IN Skillshare) AND (country IN ['United States of America', 'Canada']) AND (launch IN Launch_6)\n",
      "INFO:root:Evaluating: (lead_opt-in IN Style Mini-course) AND (lead_source IN Skillshare) AND (country IN ['United States of America', 'Canada']) AND (launch IN Launch_7)\n",
      "INFO:root:Evaluating: (lead_opt-in IN Style Mini-course) AND (lead_source IN Skillshare) AND (country IN ['United States of America', 'Canada']) AND (launch IN Launch_8)\n",
      "INFO:root:Evaluating: (lead_opt-in IN Style Mini-course) AND (lead_source IN Instagram)\n",
      "INFO:root:Evaluating: (lead_opt-in IN Style Mini-course) AND (lead_source IN Instagram) AND (launch IN Launch_6)\n",
      "INFO:root:Evaluating: (lead_opt-in IN Style Mini-course) AND (lead_source IN Instagram) AND (launch IN Launch_7)\n",
      "INFO:root:Evaluating: (lead_opt-in IN Style Mini-course) AND (lead_source IN Instagram) AND (launch IN Launch_8)\n",
      "INFO:root:Evaluating: (lead_opt-in IN Style Mini-course) AND (lead_source IN Instagram) AND (country IN ['United States of America', 'Canada'])\n",
      "INFO:root:Evaluating: (lead_opt-in IN Style Mini-course) AND (lead_source IN Instagram) AND (country IN ['United States of America', 'Canada']) AND (launch IN Launch_6)\n"
     ]
    },
    {
     "name": "stdout",
     "output_type": "stream",
     "text": [
      "Progress: 221/1680\r"
     ]
    },
    {
     "name": "stderr",
     "output_type": "stream",
     "text": [
      "INFO:root:Evaluating: (lead_opt-in IN Style Mini-course) AND (lead_source IN Instagram) AND (country IN ['United States of America', 'Canada']) AND (launch IN Launch_7)\n",
      "INFO:root:Evaluating: (lead_opt-in IN Style Mini-course) AND (lead_source IN Instagram) AND (country IN ['United States of America', 'Canada']) AND (launch IN Launch_8)\n",
      "INFO:root:Evaluating: (lead_opt-in IN MCDT)\n",
      "INFO:root:Evaluating: (lead_opt-in IN MCDT) AND (launch IN Launch_6)\n",
      "INFO:root:Evaluating: (lead_opt-in IN MCDT) AND (launch IN Launch_7)\n",
      "INFO:root:Evaluating: (lead_opt-in IN MCDT) AND (launch IN Launch_8)\n",
      "INFO:root:Evaluating: (lead_opt-in IN MCDT) AND (country IN ['United States of America', 'Canada'])\n",
      "INFO:root:Evaluating: (lead_opt-in IN MCDT) AND (country IN ['United States of America', 'Canada']) AND (launch IN Launch_6)\n",
      "INFO:root:Evaluating: (lead_opt-in IN MCDT) AND (country IN ['United States of America', 'Canada']) AND (launch IN Launch_7)\n",
      "INFO:root:Evaluating: (lead_opt-in IN MCDT) AND (country IN ['United States of America', 'Canada']) AND (launch IN Launch_8)\n",
      "INFO:root:Evaluating: (lead_opt-in IN MCDT) AND (lead_source IN Referral - Jake Parker)\n",
      "INFO:root:Evaluating: (lead_opt-in IN MCDT) AND (lead_source IN Referral - Jake Parker) AND (launch IN Launch_6)\n",
      "INFO:root:Evaluating: (lead_opt-in IN MCDT) AND (lead_source IN Referral - Jake Parker) AND (launch IN Launch_7)\n",
      "INFO:root:Evaluating: (lead_opt-in IN MCDT) AND (lead_source IN Referral - Jake Parker) AND (launch IN Launch_8)\n",
      "INFO:root:Evaluating: (lead_opt-in IN MCDT) AND (lead_source IN Referral - Jake Parker) AND (country IN ['United States of America', 'Canada'])\n",
      "INFO:root:Evaluating: (lead_opt-in IN MCDT) AND (lead_source IN Referral - Jake Parker) AND (country IN ['United States of America', 'Canada']) AND (launch IN Launch_6)\n",
      "INFO:root:Evaluating: (lead_opt-in IN MCDT) AND (lead_source IN Referral - Jake Parker) AND (country IN ['United States of America', 'Canada']) AND (launch IN Launch_7)\n",
      "INFO:root:Evaluating: (lead_opt-in IN MCDT) AND (lead_source IN Referral - Jake Parker) AND (country IN ['United States of America', 'Canada']) AND (launch IN Launch_8)\n",
      "INFO:root:Evaluating: (lead_opt-in IN MCDT) AND (lead_source IN Manual)\n",
      "INFO:root:Evaluating: (lead_opt-in IN MCDT) AND (lead_source IN Manual) AND (launch IN Launch_6)\n"
     ]
    },
    {
     "name": "stdout",
     "output_type": "stream",
     "text": [
      "Progress: 241/1680\r"
     ]
    },
    {
     "name": "stderr",
     "output_type": "stream",
     "text": [
      "INFO:root:Evaluating: (lead_opt-in IN MCDT) AND (lead_source IN Manual) AND (launch IN Launch_7)\n",
      "INFO:root:Evaluating: (lead_opt-in IN MCDT) AND (lead_source IN Manual) AND (launch IN Launch_8)\n",
      "INFO:root:Evaluating: (lead_opt-in IN MCDT) AND (lead_source IN Manual) AND (country IN ['United States of America', 'Canada'])\n",
      "INFO:root:Evaluating: (lead_opt-in IN MCDT) AND (lead_source IN Manual) AND (country IN ['United States of America', 'Canada']) AND (launch IN Launch_6)\n",
      "INFO:root:Evaluating: (lead_opt-in IN MCDT) AND (lead_source IN Manual) AND (country IN ['United States of America', 'Canada']) AND (launch IN Launch_7)\n",
      "INFO:root:Evaluating: (lead_opt-in IN MCDT) AND (lead_source IN Manual) AND (country IN ['United States of America', 'Canada']) AND (launch IN Launch_8)\n",
      "INFO:root:Evaluating: (lead_opt-in IN MCDT) AND (lead_source IN Twitter)\n",
      "INFO:root:Evaluating: (lead_opt-in IN MCDT) AND (lead_source IN Twitter) AND (launch IN Launch_6)\n",
      "INFO:root:Evaluating: (lead_opt-in IN MCDT) AND (lead_source IN Twitter) AND (launch IN Launch_7)\n",
      "INFO:root:Evaluating: (lead_opt-in IN MCDT) AND (lead_source IN Twitter) AND (launch IN Launch_8)\n",
      "INFO:root:Evaluating: (lead_opt-in IN MCDT) AND (lead_source IN Twitter) AND (country IN ['United States of America', 'Canada'])\n",
      "INFO:root:Evaluating: (lead_opt-in IN MCDT) AND (lead_source IN Twitter) AND (country IN ['United States of America', 'Canada']) AND (launch IN Launch_6)\n",
      "INFO:root:Evaluating: (lead_opt-in IN MCDT) AND (lead_source IN Twitter) AND (country IN ['United States of America', 'Canada']) AND (launch IN Launch_7)\n",
      "INFO:root:Evaluating: (lead_opt-in IN MCDT) AND (lead_source IN Twitter) AND (country IN ['United States of America', 'Canada']) AND (launch IN Launch_8)\n",
      "INFO:root:Evaluating: (lead_opt-in IN MCDT) AND (lead_source IN FB Ad)\n",
      "INFO:root:Evaluating: (lead_opt-in IN MCDT) AND (lead_source IN FB Ad) AND (launch IN Launch_6)\n",
      "INFO:root:Evaluating: (lead_opt-in IN MCDT) AND (lead_source IN FB Ad) AND (launch IN Launch_7)\n",
      "INFO:root:Evaluating: (lead_opt-in IN MCDT) AND (lead_source IN FB Ad) AND (launch IN Launch_8)\n",
      "INFO:root:Evaluating: (lead_opt-in IN MCDT) AND (lead_source IN FB Ad) AND (country IN ['United States of America', 'Canada'])\n",
      "INFO:root:Evaluating: (lead_opt-in IN MCDT) AND (lead_source IN FB Ad) AND (country IN ['United States of America', 'Canada']) AND (launch IN Launch_6)\n"
     ]
    },
    {
     "name": "stdout",
     "output_type": "stream",
     "text": [
      "Progress: 261/1680\r"
     ]
    },
    {
     "name": "stderr",
     "output_type": "stream",
     "text": [
      "INFO:root:Evaluating: (lead_opt-in IN MCDT) AND (lead_source IN FB Ad) AND (country IN ['United States of America', 'Canada']) AND (launch IN Launch_7)\n",
      "INFO:root:Evaluating: (lead_opt-in IN MCDT) AND (lead_source IN FB Ad) AND (country IN ['United States of America', 'Canada']) AND (launch IN Launch_8)\n",
      "INFO:root:Evaluating: (lead_opt-in IN MCDT) AND (lead_source IN Facebook)\n",
      "INFO:root:Evaluating: (lead_opt-in IN MCDT) AND (lead_source IN Facebook) AND (launch IN Launch_6)\n",
      "INFO:root:Evaluating: (lead_opt-in IN MCDT) AND (lead_source IN Facebook) AND (launch IN Launch_7)\n",
      "INFO:root:Evaluating: (lead_opt-in IN MCDT) AND (lead_source IN Facebook) AND (launch IN Launch_8)\n",
      "INFO:root:Evaluating: (lead_opt-in IN MCDT) AND (lead_source IN Facebook) AND (country IN ['United States of America', 'Canada'])\n",
      "INFO:root:Evaluating: (lead_opt-in IN MCDT) AND (lead_source IN Facebook) AND (country IN ['United States of America', 'Canada']) AND (launch IN Launch_6)\n",
      "INFO:root:Evaluating: (lead_opt-in IN MCDT) AND (lead_source IN Facebook) AND (country IN ['United States of America', 'Canada']) AND (launch IN Launch_7)\n",
      "INFO:root:Evaluating: (lead_opt-in IN MCDT) AND (lead_source IN Facebook) AND (country IN ['United States of America', 'Canada']) AND (launch IN Launch_8)\n",
      "INFO:root:Evaluating: (lead_opt-in IN MCDT) AND (lead_source IN MailChimp)\n",
      "INFO:root:Evaluating: (lead_opt-in IN MCDT) AND (lead_source IN MailChimp) AND (launch IN Launch_6)\n",
      "INFO:root:Evaluating: (lead_opt-in IN MCDT) AND (lead_source IN MailChimp) AND (launch IN Launch_7)\n",
      "INFO:root:Evaluating: (lead_opt-in IN MCDT) AND (lead_source IN MailChimp) AND (launch IN Launch_8)\n",
      "INFO:root:Evaluating: (lead_opt-in IN MCDT) AND (lead_source IN MailChimp) AND (country IN ['United States of America', 'Canada'])\n",
      "INFO:root:Evaluating: (lead_opt-in IN MCDT) AND (lead_source IN MailChimp) AND (country IN ['United States of America', 'Canada']) AND (launch IN Launch_6)\n",
      "INFO:root:Evaluating: (lead_opt-in IN MCDT) AND (lead_source IN MailChimp) AND (country IN ['United States of America', 'Canada']) AND (launch IN Launch_7)\n",
      "INFO:root:Evaluating: (lead_opt-in IN MCDT) AND (lead_source IN MailChimp) AND (country IN ['United States of America', 'Canada']) AND (launch IN Launch_8)\n",
      "INFO:root:Evaluating: (lead_opt-in IN MCDT) AND (lead_source IN Unknown)\n",
      "INFO:root:Evaluating: (lead_opt-in IN MCDT) AND (lead_source IN Unknown) AND (launch IN Launch_6)\n"
     ]
    },
    {
     "name": "stdout",
     "output_type": "stream",
     "text": [
      "Progress: 281/1680\r"
     ]
    },
    {
     "name": "stderr",
     "output_type": "stream",
     "text": [
      "INFO:root:Evaluating: (lead_opt-in IN MCDT) AND (lead_source IN Unknown) AND (launch IN Launch_7)\n",
      "INFO:root:Evaluating: (lead_opt-in IN MCDT) AND (lead_source IN Unknown) AND (launch IN Launch_8)\n",
      "INFO:root:Evaluating: (lead_opt-in IN MCDT) AND (lead_source IN Unknown) AND (country IN ['United States of America', 'Canada'])\n",
      "INFO:root:Evaluating: (lead_opt-in IN MCDT) AND (lead_source IN Unknown) AND (country IN ['United States of America', 'Canada']) AND (launch IN Launch_6)\n",
      "INFO:root:Evaluating: (lead_opt-in IN MCDT) AND (lead_source IN Unknown) AND (country IN ['United States of America', 'Canada']) AND (launch IN Launch_7)\n",
      "INFO:root:Evaluating: (lead_opt-in IN MCDT) AND (lead_source IN Unknown) AND (country IN ['United States of America', 'Canada']) AND (launch IN Launch_8)\n",
      "INFO:root:Evaluating: (lead_opt-in IN MCDT) AND (lead_source IN None)\n",
      "INFO:root:Evaluating: (lead_opt-in IN MCDT) AND (lead_source IN None) AND (launch IN Launch_6)\n",
      "INFO:root:Evaluating: (lead_opt-in IN MCDT) AND (lead_source IN None) AND (launch IN Launch_7)\n",
      "INFO:root:Evaluating: (lead_opt-in IN MCDT) AND (lead_source IN None) AND (launch IN Launch_8)\n",
      "INFO:root:Evaluating: (lead_opt-in IN MCDT) AND (lead_source IN None) AND (country IN ['United States of America', 'Canada'])\n",
      "INFO:root:Evaluating: (lead_opt-in IN MCDT) AND (lead_source IN None) AND (country IN ['United States of America', 'Canada']) AND (launch IN Launch_6)\n",
      "INFO:root:Evaluating: (lead_opt-in IN MCDT) AND (lead_source IN None) AND (country IN ['United States of America', 'Canada']) AND (launch IN Launch_7)\n",
      "INFO:root:Evaluating: (lead_opt-in IN MCDT) AND (lead_source IN None) AND (country IN ['United States of America', 'Canada']) AND (launch IN Launch_8)\n",
      "INFO:root:Evaluating: (lead_opt-in IN MCDT) AND (lead_source IN Medium)\n",
      "INFO:root:Evaluating: (lead_opt-in IN MCDT) AND (lead_source IN Medium) AND (launch IN Launch_6)\n",
      "INFO:root:Evaluating: (lead_opt-in IN MCDT) AND (lead_source IN Medium) AND (launch IN Launch_7)\n",
      "INFO:root:Evaluating: (lead_opt-in IN MCDT) AND (lead_source IN Medium) AND (launch IN Launch_8)\n",
      "INFO:root:Evaluating: (lead_opt-in IN MCDT) AND (lead_source IN Medium) AND (country IN ['United States of America', 'Canada'])\n",
      "INFO:root:Evaluating: (lead_opt-in IN MCDT) AND (lead_source IN Medium) AND (country IN ['United States of America', 'Canada']) AND (launch IN Launch_6)\n"
     ]
    },
    {
     "name": "stdout",
     "output_type": "stream",
     "text": [
      "Progress: 301/1680\r"
     ]
    },
    {
     "name": "stderr",
     "output_type": "stream",
     "text": [
      "INFO:root:Evaluating: (lead_opt-in IN MCDT) AND (lead_source IN Medium) AND (country IN ['United States of America', 'Canada']) AND (launch IN Launch_7)\n",
      "INFO:root:Evaluating: (lead_opt-in IN MCDT) AND (lead_source IN Medium) AND (country IN ['United States of America', 'Canada']) AND (launch IN Launch_8)\n",
      "INFO:root:Evaluating: (lead_opt-in IN MCDT) AND (lead_source IN MCS Page)\n",
      "INFO:root:Evaluating: (lead_opt-in IN MCDT) AND (lead_source IN MCS Page) AND (launch IN Launch_6)\n",
      "INFO:root:Evaluating: (lead_opt-in IN MCDT) AND (lead_source IN MCS Page) AND (launch IN Launch_7)\n",
      "INFO:root:Evaluating: (lead_opt-in IN MCDT) AND (lead_source IN MCS Page) AND (launch IN Launch_8)\n",
      "INFO:root:Evaluating: (lead_opt-in IN MCDT) AND (lead_source IN MCS Page) AND (country IN ['United States of America', 'Canada'])\n",
      "INFO:root:Evaluating: (lead_opt-in IN MCDT) AND (lead_source IN MCS Page) AND (country IN ['United States of America', 'Canada']) AND (launch IN Launch_6)\n",
      "INFO:root:Evaluating: (lead_opt-in IN MCDT) AND (lead_source IN MCS Page) AND (country IN ['United States of America', 'Canada']) AND (launch IN Launch_7)\n",
      "INFO:root:Evaluating: (lead_opt-in IN MCDT) AND (lead_source IN MCS Page) AND (country IN ['United States of America', 'Canada']) AND (launch IN Launch_8)\n",
      "INFO:root:Evaluating: (lead_opt-in IN MCDT) AND (lead_source IN Google Ad)\n",
      "INFO:root:Evaluating: (lead_opt-in IN MCDT) AND (lead_source IN Google Ad) AND (launch IN Launch_6)\n",
      "INFO:root:Evaluating: (lead_opt-in IN MCDT) AND (lead_source IN Google Ad) AND (launch IN Launch_7)\n",
      "INFO:root:Evaluating: (lead_opt-in IN MCDT) AND (lead_source IN Google Ad) AND (launch IN Launch_8)\n",
      "INFO:root:Evaluating: (lead_opt-in IN MCDT) AND (lead_source IN Google Ad) AND (country IN ['United States of America', 'Canada'])\n",
      "INFO:root:Evaluating: (lead_opt-in IN MCDT) AND (lead_source IN Google Ad) AND (country IN ['United States of America', 'Canada']) AND (launch IN Launch_6)\n",
      "INFO:root:Evaluating: (lead_opt-in IN MCDT) AND (lead_source IN Google Ad) AND (country IN ['United States of America', 'Canada']) AND (launch IN Launch_7)\n",
      "INFO:root:Evaluating: (lead_opt-in IN MCDT) AND (lead_source IN Google Ad) AND (country IN ['United States of America', 'Canada']) AND (launch IN Launch_8)\n",
      "INFO:root:Evaluating: (lead_opt-in IN MCDT) AND (lead_source IN Skillshare)\n",
      "INFO:root:Evaluating: (lead_opt-in IN MCDT) AND (lead_source IN Skillshare) AND (launch IN Launch_6)\n"
     ]
    },
    {
     "name": "stdout",
     "output_type": "stream",
     "text": [
      "Progress: 321/1680\r"
     ]
    },
    {
     "name": "stderr",
     "output_type": "stream",
     "text": [
      "INFO:root:Evaluating: (lead_opt-in IN MCDT) AND (lead_source IN Skillshare) AND (launch IN Launch_7)\n",
      "INFO:root:Evaluating: (lead_opt-in IN MCDT) AND (lead_source IN Skillshare) AND (launch IN Launch_8)\n",
      "INFO:root:Evaluating: (lead_opt-in IN MCDT) AND (lead_source IN Skillshare) AND (country IN ['United States of America', 'Canada'])\n",
      "INFO:root:Evaluating: (lead_opt-in IN MCDT) AND (lead_source IN Skillshare) AND (country IN ['United States of America', 'Canada']) AND (launch IN Launch_6)\n",
      "INFO:root:Evaluating: (lead_opt-in IN MCDT) AND (lead_source IN Skillshare) AND (country IN ['United States of America', 'Canada']) AND (launch IN Launch_7)\n",
      "INFO:root:Evaluating: (lead_opt-in IN MCDT) AND (lead_source IN Skillshare) AND (country IN ['United States of America', 'Canada']) AND (launch IN Launch_8)\n",
      "INFO:root:Evaluating: (lead_opt-in IN MCDT) AND (lead_source IN Instagram)\n",
      "INFO:root:Evaluating: (lead_opt-in IN MCDT) AND (lead_source IN Instagram) AND (launch IN Launch_6)\n",
      "INFO:root:Evaluating: (lead_opt-in IN MCDT) AND (lead_source IN Instagram) AND (launch IN Launch_7)\n",
      "INFO:root:Evaluating: (lead_opt-in IN MCDT) AND (lead_source IN Instagram) AND (launch IN Launch_8)\n",
      "INFO:root:Evaluating: (lead_opt-in IN MCDT) AND (lead_source IN Instagram) AND (country IN ['United States of America', 'Canada'])\n",
      "INFO:root:Evaluating: (lead_opt-in IN MCDT) AND (lead_source IN Instagram) AND (country IN ['United States of America', 'Canada']) AND (launch IN Launch_6)\n",
      "INFO:root:Evaluating: (lead_opt-in IN MCDT) AND (lead_source IN Instagram) AND (country IN ['United States of America', 'Canada']) AND (launch IN Launch_7)\n",
      "INFO:root:Evaluating: (lead_opt-in IN MCDT) AND (lead_source IN Instagram) AND (country IN ['United States of America', 'Canada']) AND (launch IN Launch_8)\n",
      "INFO:root:Evaluating: (lead_opt-in IN Emails)\n",
      "INFO:root:Evaluating: (lead_opt-in IN Emails) AND (launch IN Launch_6)\n",
      "INFO:root:Evaluating: (lead_opt-in IN Emails) AND (launch IN Launch_7)\n",
      "INFO:root:Evaluating: (lead_opt-in IN Emails) AND (launch IN Launch_8)\n",
      "INFO:root:Evaluating: (lead_opt-in IN Emails) AND (country IN ['United States of America', 'Canada'])\n",
      "INFO:root:Evaluating: (lead_opt-in IN Emails) AND (country IN ['United States of America', 'Canada']) AND (launch IN Launch_6)\n"
     ]
    },
    {
     "name": "stdout",
     "output_type": "stream",
     "text": [
      "Progress: 341/1680\r"
     ]
    },
    {
     "name": "stderr",
     "output_type": "stream",
     "text": [
      "INFO:root:Evaluating: (lead_opt-in IN Emails) AND (country IN ['United States of America', 'Canada']) AND (launch IN Launch_7)\n",
      "INFO:root:Evaluating: (lead_opt-in IN Emails) AND (country IN ['United States of America', 'Canada']) AND (launch IN Launch_8)\n",
      "INFO:root:Evaluating: (lead_opt-in IN Emails) AND (lead_source IN Referral - Jake Parker)\n",
      "INFO:root:Evaluating: (lead_opt-in IN Emails) AND (lead_source IN Referral - Jake Parker) AND (launch IN Launch_6)\n",
      "INFO:root:Evaluating: (lead_opt-in IN Emails) AND (lead_source IN Referral - Jake Parker) AND (launch IN Launch_7)\n",
      "INFO:root:Evaluating: (lead_opt-in IN Emails) AND (lead_source IN Referral - Jake Parker) AND (launch IN Launch_8)\n",
      "INFO:root:Evaluating: (lead_opt-in IN Emails) AND (lead_source IN Referral - Jake Parker) AND (country IN ['United States of America', 'Canada'])\n",
      "INFO:root:Evaluating: (lead_opt-in IN Emails) AND (lead_source IN Referral - Jake Parker) AND (country IN ['United States of America', 'Canada']) AND (launch IN Launch_6)\n",
      "INFO:root:Evaluating: (lead_opt-in IN Emails) AND (lead_source IN Referral - Jake Parker) AND (country IN ['United States of America', 'Canada']) AND (launch IN Launch_7)\n",
      "INFO:root:Evaluating: (lead_opt-in IN Emails) AND (lead_source IN Referral - Jake Parker) AND (country IN ['United States of America', 'Canada']) AND (launch IN Launch_8)\n",
      "INFO:root:Evaluating: (lead_opt-in IN Emails) AND (lead_source IN Manual)\n",
      "INFO:root:Evaluating: (lead_opt-in IN Emails) AND (lead_source IN Manual) AND (launch IN Launch_6)\n",
      "INFO:root:Evaluating: (lead_opt-in IN Emails) AND (lead_source IN Manual) AND (launch IN Launch_7)\n",
      "INFO:root:Evaluating: (lead_opt-in IN Emails) AND (lead_source IN Manual) AND (launch IN Launch_8)\n",
      "INFO:root:Evaluating: (lead_opt-in IN Emails) AND (lead_source IN Manual) AND (country IN ['United States of America', 'Canada'])\n",
      "INFO:root:Evaluating: (lead_opt-in IN Emails) AND (lead_source IN Manual) AND (country IN ['United States of America', 'Canada']) AND (launch IN Launch_6)\n",
      "INFO:root:Evaluating: (lead_opt-in IN Emails) AND (lead_source IN Manual) AND (country IN ['United States of America', 'Canada']) AND (launch IN Launch_7)\n",
      "INFO:root:Evaluating: (lead_opt-in IN Emails) AND (lead_source IN Manual) AND (country IN ['United States of America', 'Canada']) AND (launch IN Launch_8)\n",
      "INFO:root:Evaluating: (lead_opt-in IN Emails) AND (lead_source IN Twitter)\n",
      "INFO:root:Evaluating: (lead_opt-in IN Emails) AND (lead_source IN Twitter) AND (launch IN Launch_6)\n"
     ]
    },
    {
     "name": "stdout",
     "output_type": "stream",
     "text": [
      "Progress: 361/1680\r"
     ]
    },
    {
     "name": "stderr",
     "output_type": "stream",
     "text": [
      "INFO:root:Evaluating: (lead_opt-in IN Emails) AND (lead_source IN Twitter) AND (launch IN Launch_7)\n",
      "INFO:root:Evaluating: (lead_opt-in IN Emails) AND (lead_source IN Twitter) AND (launch IN Launch_8)\n",
      "INFO:root:Evaluating: (lead_opt-in IN Emails) AND (lead_source IN Twitter) AND (country IN ['United States of America', 'Canada'])\n",
      "INFO:root:Evaluating: (lead_opt-in IN Emails) AND (lead_source IN Twitter) AND (country IN ['United States of America', 'Canada']) AND (launch IN Launch_6)\n",
      "INFO:root:Evaluating: (lead_opt-in IN Emails) AND (lead_source IN Twitter) AND (country IN ['United States of America', 'Canada']) AND (launch IN Launch_7)\n",
      "INFO:root:Evaluating: (lead_opt-in IN Emails) AND (lead_source IN Twitter) AND (country IN ['United States of America', 'Canada']) AND (launch IN Launch_8)\n",
      "INFO:root:Evaluating: (lead_opt-in IN Emails) AND (lead_source IN FB Ad)\n",
      "INFO:root:Evaluating: (lead_opt-in IN Emails) AND (lead_source IN FB Ad) AND (launch IN Launch_6)\n",
      "INFO:root:Evaluating: (lead_opt-in IN Emails) AND (lead_source IN FB Ad) AND (launch IN Launch_7)\n",
      "INFO:root:Evaluating: (lead_opt-in IN Emails) AND (lead_source IN FB Ad) AND (launch IN Launch_8)\n",
      "INFO:root:Evaluating: (lead_opt-in IN Emails) AND (lead_source IN FB Ad) AND (country IN ['United States of America', 'Canada'])\n",
      "INFO:root:Evaluating: (lead_opt-in IN Emails) AND (lead_source IN FB Ad) AND (country IN ['United States of America', 'Canada']) AND (launch IN Launch_6)\n",
      "INFO:root:Evaluating: (lead_opt-in IN Emails) AND (lead_source IN FB Ad) AND (country IN ['United States of America', 'Canada']) AND (launch IN Launch_7)\n",
      "INFO:root:Evaluating: (lead_opt-in IN Emails) AND (lead_source IN FB Ad) AND (country IN ['United States of America', 'Canada']) AND (launch IN Launch_8)\n",
      "INFO:root:Evaluating: (lead_opt-in IN Emails) AND (lead_source IN Facebook)\n",
      "INFO:root:Evaluating: (lead_opt-in IN Emails) AND (lead_source IN Facebook) AND (launch IN Launch_6)\n",
      "INFO:root:Evaluating: (lead_opt-in IN Emails) AND (lead_source IN Facebook) AND (launch IN Launch_7)\n",
      "INFO:root:Evaluating: (lead_opt-in IN Emails) AND (lead_source IN Facebook) AND (launch IN Launch_8)\n",
      "INFO:root:Evaluating: (lead_opt-in IN Emails) AND (lead_source IN Facebook) AND (country IN ['United States of America', 'Canada'])\n",
      "INFO:root:Evaluating: (lead_opt-in IN Emails) AND (lead_source IN Facebook) AND (country IN ['United States of America', 'Canada']) AND (launch IN Launch_6)\n"
     ]
    },
    {
     "name": "stdout",
     "output_type": "stream",
     "text": [
      "Progress: 381/1680\r"
     ]
    },
    {
     "name": "stderr",
     "output_type": "stream",
     "text": [
      "INFO:root:Evaluating: (lead_opt-in IN Emails) AND (lead_source IN Facebook) AND (country IN ['United States of America', 'Canada']) AND (launch IN Launch_7)\n",
      "INFO:root:Evaluating: (lead_opt-in IN Emails) AND (lead_source IN Facebook) AND (country IN ['United States of America', 'Canada']) AND (launch IN Launch_8)\n",
      "INFO:root:Evaluating: (lead_opt-in IN Emails) AND (lead_source IN MailChimp)\n",
      "INFO:root:Evaluating: (lead_opt-in IN Emails) AND (lead_source IN MailChimp) AND (launch IN Launch_6)\n",
      "INFO:root:Evaluating: (lead_opt-in IN Emails) AND (lead_source IN MailChimp) AND (launch IN Launch_7)\n",
      "INFO:root:Evaluating: (lead_opt-in IN Emails) AND (lead_source IN MailChimp) AND (launch IN Launch_8)\n",
      "INFO:root:Evaluating: (lead_opt-in IN Emails) AND (lead_source IN MailChimp) AND (country IN ['United States of America', 'Canada'])\n",
      "INFO:root:Evaluating: (lead_opt-in IN Emails) AND (lead_source IN MailChimp) AND (country IN ['United States of America', 'Canada']) AND (launch IN Launch_6)\n",
      "INFO:root:Evaluating: (lead_opt-in IN Emails) AND (lead_source IN MailChimp) AND (country IN ['United States of America', 'Canada']) AND (launch IN Launch_7)\n",
      "INFO:root:Evaluating: (lead_opt-in IN Emails) AND (lead_source IN MailChimp) AND (country IN ['United States of America', 'Canada']) AND (launch IN Launch_8)\n",
      "INFO:root:Evaluating: (lead_opt-in IN Emails) AND (lead_source IN Unknown)\n",
      "INFO:root:Evaluating: (lead_opt-in IN Emails) AND (lead_source IN Unknown) AND (launch IN Launch_6)\n",
      "INFO:root:Evaluating: (lead_opt-in IN Emails) AND (lead_source IN Unknown) AND (launch IN Launch_7)\n",
      "INFO:root:Evaluating: (lead_opt-in IN Emails) AND (lead_source IN Unknown) AND (launch IN Launch_8)\n",
      "INFO:root:Evaluating: (lead_opt-in IN Emails) AND (lead_source IN Unknown) AND (country IN ['United States of America', 'Canada'])\n",
      "INFO:root:Evaluating: (lead_opt-in IN Emails) AND (lead_source IN Unknown) AND (country IN ['United States of America', 'Canada']) AND (launch IN Launch_6)\n",
      "INFO:root:Evaluating: (lead_opt-in IN Emails) AND (lead_source IN Unknown) AND (country IN ['United States of America', 'Canada']) AND (launch IN Launch_7)\n",
      "INFO:root:Evaluating: (lead_opt-in IN Emails) AND (lead_source IN Unknown) AND (country IN ['United States of America', 'Canada']) AND (launch IN Launch_8)\n",
      "INFO:root:Evaluating: (lead_opt-in IN Emails) AND (lead_source IN None)\n",
      "INFO:root:Evaluating: (lead_opt-in IN Emails) AND (lead_source IN None) AND (launch IN Launch_6)\n"
     ]
    },
    {
     "name": "stdout",
     "output_type": "stream",
     "text": [
      "Progress: 401/1680\r"
     ]
    },
    {
     "name": "stderr",
     "output_type": "stream",
     "text": [
      "INFO:root:Evaluating: (lead_opt-in IN Emails) AND (lead_source IN None) AND (launch IN Launch_7)\n",
      "INFO:root:Evaluating: (lead_opt-in IN Emails) AND (lead_source IN None) AND (launch IN Launch_8)\n",
      "INFO:root:Evaluating: (lead_opt-in IN Emails) AND (lead_source IN None) AND (country IN ['United States of America', 'Canada'])\n",
      "INFO:root:Evaluating: (lead_opt-in IN Emails) AND (lead_source IN None) AND (country IN ['United States of America', 'Canada']) AND (launch IN Launch_6)\n",
      "INFO:root:Evaluating: (lead_opt-in IN Emails) AND (lead_source IN None) AND (country IN ['United States of America', 'Canada']) AND (launch IN Launch_7)\n",
      "INFO:root:Evaluating: (lead_opt-in IN Emails) AND (lead_source IN None) AND (country IN ['United States of America', 'Canada']) AND (launch IN Launch_8)\n",
      "INFO:root:Evaluating: (lead_opt-in IN Emails) AND (lead_source IN Medium)\n",
      "INFO:root:Evaluating: (lead_opt-in IN Emails) AND (lead_source IN Medium) AND (launch IN Launch_6)\n",
      "INFO:root:Evaluating: (lead_opt-in IN Emails) AND (lead_source IN Medium) AND (launch IN Launch_7)\n",
      "INFO:root:Evaluating: (lead_opt-in IN Emails) AND (lead_source IN Medium) AND (launch IN Launch_8)\n",
      "INFO:root:Evaluating: (lead_opt-in IN Emails) AND (lead_source IN Medium) AND (country IN ['United States of America', 'Canada'])\n",
      "INFO:root:Evaluating: (lead_opt-in IN Emails) AND (lead_source IN Medium) AND (country IN ['United States of America', 'Canada']) AND (launch IN Launch_6)\n",
      "INFO:root:Evaluating: (lead_opt-in IN Emails) AND (lead_source IN Medium) AND (country IN ['United States of America', 'Canada']) AND (launch IN Launch_7)\n",
      "INFO:root:Evaluating: (lead_opt-in IN Emails) AND (lead_source IN Medium) AND (country IN ['United States of America', 'Canada']) AND (launch IN Launch_8)\n",
      "INFO:root:Evaluating: (lead_opt-in IN Emails) AND (lead_source IN MCS Page)\n",
      "INFO:root:Evaluating: (lead_opt-in IN Emails) AND (lead_source IN MCS Page) AND (launch IN Launch_6)\n",
      "INFO:root:Evaluating: (lead_opt-in IN Emails) AND (lead_source IN MCS Page) AND (launch IN Launch_7)\n",
      "INFO:root:Evaluating: (lead_opt-in IN Emails) AND (lead_source IN MCS Page) AND (launch IN Launch_8)\n",
      "INFO:root:Evaluating: (lead_opt-in IN Emails) AND (lead_source IN MCS Page) AND (country IN ['United States of America', 'Canada'])\n",
      "INFO:root:Evaluating: (lead_opt-in IN Emails) AND (lead_source IN MCS Page) AND (country IN ['United States of America', 'Canada']) AND (launch IN Launch_6)\n"
     ]
    },
    {
     "name": "stdout",
     "output_type": "stream",
     "text": [
      "Progress: 421/1680\r"
     ]
    },
    {
     "name": "stderr",
     "output_type": "stream",
     "text": [
      "INFO:root:Evaluating: (lead_opt-in IN Emails) AND (lead_source IN MCS Page) AND (country IN ['United States of America', 'Canada']) AND (launch IN Launch_7)\n",
      "INFO:root:Evaluating: (lead_opt-in IN Emails) AND (lead_source IN MCS Page) AND (country IN ['United States of America', 'Canada']) AND (launch IN Launch_8)\n",
      "INFO:root:Evaluating: (lead_opt-in IN Emails) AND (lead_source IN Google Ad)\n",
      "INFO:root:Evaluating: (lead_opt-in IN Emails) AND (lead_source IN Google Ad) AND (launch IN Launch_6)\n",
      "INFO:root:Evaluating: (lead_opt-in IN Emails) AND (lead_source IN Google Ad) AND (launch IN Launch_7)\n",
      "INFO:root:Evaluating: (lead_opt-in IN Emails) AND (lead_source IN Google Ad) AND (launch IN Launch_8)\n",
      "INFO:root:Evaluating: (lead_opt-in IN Emails) AND (lead_source IN Google Ad) AND (country IN ['United States of America', 'Canada'])\n",
      "INFO:root:Evaluating: (lead_opt-in IN Emails) AND (lead_source IN Google Ad) AND (country IN ['United States of America', 'Canada']) AND (launch IN Launch_6)\n",
      "INFO:root:Evaluating: (lead_opt-in IN Emails) AND (lead_source IN Google Ad) AND (country IN ['United States of America', 'Canada']) AND (launch IN Launch_7)\n",
      "INFO:root:Evaluating: (lead_opt-in IN Emails) AND (lead_source IN Google Ad) AND (country IN ['United States of America', 'Canada']) AND (launch IN Launch_8)\n",
      "INFO:root:Evaluating: (lead_opt-in IN Emails) AND (lead_source IN Skillshare)\n",
      "INFO:root:Evaluating: (lead_opt-in IN Emails) AND (lead_source IN Skillshare) AND (launch IN Launch_6)\n",
      "INFO:root:Evaluating: (lead_opt-in IN Emails) AND (lead_source IN Skillshare) AND (launch IN Launch_7)\n",
      "INFO:root:Evaluating: (lead_opt-in IN Emails) AND (lead_source IN Skillshare) AND (launch IN Launch_8)\n",
      "INFO:root:Evaluating: (lead_opt-in IN Emails) AND (lead_source IN Skillshare) AND (country IN ['United States of America', 'Canada'])\n",
      "INFO:root:Evaluating: (lead_opt-in IN Emails) AND (lead_source IN Skillshare) AND (country IN ['United States of America', 'Canada']) AND (launch IN Launch_6)\n",
      "INFO:root:Evaluating: (lead_opt-in IN Emails) AND (lead_source IN Skillshare) AND (country IN ['United States of America', 'Canada']) AND (launch IN Launch_7)\n",
      "INFO:root:Evaluating: (lead_opt-in IN Emails) AND (lead_source IN Skillshare) AND (country IN ['United States of America', 'Canada']) AND (launch IN Launch_8)\n",
      "INFO:root:Evaluating: (lead_opt-in IN Emails) AND (lead_source IN Instagram)\n",
      "INFO:root:Evaluating: (lead_opt-in IN Emails) AND (lead_source IN Instagram) AND (launch IN Launch_6)\n"
     ]
    },
    {
     "name": "stdout",
     "output_type": "stream",
     "text": [
      "Progress: 441/1680\r"
     ]
    },
    {
     "name": "stderr",
     "output_type": "stream",
     "text": [
      "INFO:root:Evaluating: (lead_opt-in IN Emails) AND (lead_source IN Instagram) AND (launch IN Launch_7)\n",
      "INFO:root:Evaluating: (lead_opt-in IN Emails) AND (lead_source IN Instagram) AND (launch IN Launch_8)\n",
      "INFO:root:Evaluating: (lead_opt-in IN Emails) AND (lead_source IN Instagram) AND (country IN ['United States of America', 'Canada'])\n",
      "INFO:root:Evaluating: (lead_opt-in IN Emails) AND (lead_source IN Instagram) AND (country IN ['United States of America', 'Canada']) AND (launch IN Launch_6)\n",
      "INFO:root:Evaluating: (lead_opt-in IN Emails) AND (lead_source IN Instagram) AND (country IN ['United States of America', 'Canada']) AND (launch IN Launch_7)\n",
      "INFO:root:Evaluating: (lead_opt-in IN Emails) AND (lead_source IN Instagram) AND (country IN ['United States of America', 'Canada']) AND (launch IN Launch_8)\n",
      "INFO:root:Evaluating: (lead_opt-in IN Tools)\n",
      "INFO:root:Evaluating: (lead_opt-in IN Tools) AND (launch IN Launch_6)\n",
      "INFO:root:Evaluating: (lead_opt-in IN Tools) AND (launch IN Launch_7)\n",
      "INFO:root:Evaluating: (lead_opt-in IN Tools) AND (launch IN Launch_8)\n",
      "INFO:root:Evaluating: (lead_opt-in IN Tools) AND (country IN ['United States of America', 'Canada'])\n",
      "INFO:root:Evaluating: (lead_opt-in IN Tools) AND (country IN ['United States of America', 'Canada']) AND (launch IN Launch_6)\n",
      "INFO:root:Evaluating: (lead_opt-in IN Tools) AND (country IN ['United States of America', 'Canada']) AND (launch IN Launch_7)\n",
      "INFO:root:Evaluating: (lead_opt-in IN Tools) AND (country IN ['United States of America', 'Canada']) AND (launch IN Launch_8)\n",
      "INFO:root:Evaluating: (lead_opt-in IN Tools) AND (lead_source IN Referral - Jake Parker)\n",
      "INFO:root:Evaluating: (lead_opt-in IN Tools) AND (lead_source IN Referral - Jake Parker) AND (launch IN Launch_6)\n",
      "INFO:root:Evaluating: (lead_opt-in IN Tools) AND (lead_source IN Referral - Jake Parker) AND (launch IN Launch_7)\n",
      "INFO:root:Evaluating: (lead_opt-in IN Tools) AND (lead_source IN Referral - Jake Parker) AND (launch IN Launch_8)\n",
      "INFO:root:Evaluating: (lead_opt-in IN Tools) AND (lead_source IN Referral - Jake Parker) AND (country IN ['United States of America', 'Canada'])\n",
      "INFO:root:Evaluating: (lead_opt-in IN Tools) AND (lead_source IN Referral - Jake Parker) AND (country IN ['United States of America', 'Canada']) AND (launch IN Launch_6)\n"
     ]
    },
    {
     "name": "stdout",
     "output_type": "stream",
     "text": [
      "Progress: 461/1680\r"
     ]
    },
    {
     "name": "stderr",
     "output_type": "stream",
     "text": [
      "INFO:root:Evaluating: (lead_opt-in IN Tools) AND (lead_source IN Referral - Jake Parker) AND (country IN ['United States of America', 'Canada']) AND (launch IN Launch_7)\n",
      "INFO:root:Evaluating: (lead_opt-in IN Tools) AND (lead_source IN Referral - Jake Parker) AND (country IN ['United States of America', 'Canada']) AND (launch IN Launch_8)\n",
      "INFO:root:Evaluating: (lead_opt-in IN Tools) AND (lead_source IN Manual)\n",
      "INFO:root:Evaluating: (lead_opt-in IN Tools) AND (lead_source IN Manual) AND (launch IN Launch_6)\n",
      "INFO:root:Evaluating: (lead_opt-in IN Tools) AND (lead_source IN Manual) AND (launch IN Launch_7)\n",
      "INFO:root:Evaluating: (lead_opt-in IN Tools) AND (lead_source IN Manual) AND (launch IN Launch_8)\n",
      "INFO:root:Evaluating: (lead_opt-in IN Tools) AND (lead_source IN Manual) AND (country IN ['United States of America', 'Canada'])\n",
      "INFO:root:Evaluating: (lead_opt-in IN Tools) AND (lead_source IN Manual) AND (country IN ['United States of America', 'Canada']) AND (launch IN Launch_6)\n",
      "INFO:root:Evaluating: (lead_opt-in IN Tools) AND (lead_source IN Manual) AND (country IN ['United States of America', 'Canada']) AND (launch IN Launch_7)\n",
      "INFO:root:Evaluating: (lead_opt-in IN Tools) AND (lead_source IN Manual) AND (country IN ['United States of America', 'Canada']) AND (launch IN Launch_8)\n",
      "INFO:root:Evaluating: (lead_opt-in IN Tools) AND (lead_source IN Twitter)\n",
      "INFO:root:Evaluating: (lead_opt-in IN Tools) AND (lead_source IN Twitter) AND (launch IN Launch_6)\n",
      "INFO:root:Evaluating: (lead_opt-in IN Tools) AND (lead_source IN Twitter) AND (launch IN Launch_7)\n",
      "INFO:root:Evaluating: (lead_opt-in IN Tools) AND (lead_source IN Twitter) AND (launch IN Launch_8)\n",
      "INFO:root:Evaluating: (lead_opt-in IN Tools) AND (lead_source IN Twitter) AND (country IN ['United States of America', 'Canada'])\n",
      "INFO:root:Evaluating: (lead_opt-in IN Tools) AND (lead_source IN Twitter) AND (country IN ['United States of America', 'Canada']) AND (launch IN Launch_6)\n",
      "INFO:root:Evaluating: (lead_opt-in IN Tools) AND (lead_source IN Twitter) AND (country IN ['United States of America', 'Canada']) AND (launch IN Launch_7)\n",
      "INFO:root:Evaluating: (lead_opt-in IN Tools) AND (lead_source IN Twitter) AND (country IN ['United States of America', 'Canada']) AND (launch IN Launch_8)\n",
      "INFO:root:Evaluating: (lead_opt-in IN Tools) AND (lead_source IN FB Ad)\n",
      "INFO:root:Evaluating: (lead_opt-in IN Tools) AND (lead_source IN FB Ad) AND (launch IN Launch_6)\n"
     ]
    },
    {
     "name": "stdout",
     "output_type": "stream",
     "text": [
      "Progress: 481/1680\r"
     ]
    },
    {
     "name": "stderr",
     "output_type": "stream",
     "text": [
      "INFO:root:Evaluating: (lead_opt-in IN Tools) AND (lead_source IN FB Ad) AND (launch IN Launch_7)\n",
      "INFO:root:Evaluating: (lead_opt-in IN Tools) AND (lead_source IN FB Ad) AND (launch IN Launch_8)\n",
      "INFO:root:Evaluating: (lead_opt-in IN Tools) AND (lead_source IN FB Ad) AND (country IN ['United States of America', 'Canada'])\n",
      "INFO:root:Evaluating: (lead_opt-in IN Tools) AND (lead_source IN FB Ad) AND (country IN ['United States of America', 'Canada']) AND (launch IN Launch_6)\n",
      "INFO:root:Evaluating: (lead_opt-in IN Tools) AND (lead_source IN FB Ad) AND (country IN ['United States of America', 'Canada']) AND (launch IN Launch_7)\n",
      "INFO:root:Evaluating: (lead_opt-in IN Tools) AND (lead_source IN FB Ad) AND (country IN ['United States of America', 'Canada']) AND (launch IN Launch_8)\n",
      "INFO:root:Evaluating: (lead_opt-in IN Tools) AND (lead_source IN Facebook)\n",
      "INFO:root:Evaluating: (lead_opt-in IN Tools) AND (lead_source IN Facebook) AND (launch IN Launch_6)\n",
      "INFO:root:Evaluating: (lead_opt-in IN Tools) AND (lead_source IN Facebook) AND (launch IN Launch_7)\n",
      "INFO:root:Evaluating: (lead_opt-in IN Tools) AND (lead_source IN Facebook) AND (launch IN Launch_8)\n",
      "INFO:root:Evaluating: (lead_opt-in IN Tools) AND (lead_source IN Facebook) AND (country IN ['United States of America', 'Canada'])\n",
      "INFO:root:Evaluating: (lead_opt-in IN Tools) AND (lead_source IN Facebook) AND (country IN ['United States of America', 'Canada']) AND (launch IN Launch_6)\n",
      "INFO:root:Evaluating: (lead_opt-in IN Tools) AND (lead_source IN Facebook) AND (country IN ['United States of America', 'Canada']) AND (launch IN Launch_7)\n",
      "INFO:root:Evaluating: (lead_opt-in IN Tools) AND (lead_source IN Facebook) AND (country IN ['United States of America', 'Canada']) AND (launch IN Launch_8)\n",
      "INFO:root:Evaluating: (lead_opt-in IN Tools) AND (lead_source IN MailChimp)\n",
      "INFO:root:Evaluating: (lead_opt-in IN Tools) AND (lead_source IN MailChimp) AND (launch IN Launch_6)\n",
      "INFO:root:Evaluating: (lead_opt-in IN Tools) AND (lead_source IN MailChimp) AND (launch IN Launch_7)\n",
      "INFO:root:Evaluating: (lead_opt-in IN Tools) AND (lead_source IN MailChimp) AND (launch IN Launch_8)\n",
      "INFO:root:Evaluating: (lead_opt-in IN Tools) AND (lead_source IN MailChimp) AND (country IN ['United States of America', 'Canada'])\n",
      "INFO:root:Evaluating: (lead_opt-in IN Tools) AND (lead_source IN MailChimp) AND (country IN ['United States of America', 'Canada']) AND (launch IN Launch_6)\n"
     ]
    },
    {
     "name": "stdout",
     "output_type": "stream",
     "text": [
      "Progress: 501/1680\r"
     ]
    },
    {
     "name": "stderr",
     "output_type": "stream",
     "text": [
      "INFO:root:Evaluating: (lead_opt-in IN Tools) AND (lead_source IN MailChimp) AND (country IN ['United States of America', 'Canada']) AND (launch IN Launch_7)\n",
      "INFO:root:Evaluating: (lead_opt-in IN Tools) AND (lead_source IN MailChimp) AND (country IN ['United States of America', 'Canada']) AND (launch IN Launch_8)\n",
      "INFO:root:Evaluating: (lead_opt-in IN Tools) AND (lead_source IN Unknown)\n",
      "INFO:root:Evaluating: (lead_opt-in IN Tools) AND (lead_source IN Unknown) AND (launch IN Launch_6)\n",
      "INFO:root:Evaluating: (lead_opt-in IN Tools) AND (lead_source IN Unknown) AND (launch IN Launch_7)\n",
      "INFO:root:Evaluating: (lead_opt-in IN Tools) AND (lead_source IN Unknown) AND (launch IN Launch_8)\n",
      "INFO:root:Evaluating: (lead_opt-in IN Tools) AND (lead_source IN Unknown) AND (country IN ['United States of America', 'Canada'])\n",
      "INFO:root:Evaluating: (lead_opt-in IN Tools) AND (lead_source IN Unknown) AND (country IN ['United States of America', 'Canada']) AND (launch IN Launch_6)\n",
      "INFO:root:Evaluating: (lead_opt-in IN Tools) AND (lead_source IN Unknown) AND (country IN ['United States of America', 'Canada']) AND (launch IN Launch_7)\n",
      "INFO:root:Evaluating: (lead_opt-in IN Tools) AND (lead_source IN Unknown) AND (country IN ['United States of America', 'Canada']) AND (launch IN Launch_8)\n",
      "INFO:root:Evaluating: (lead_opt-in IN Tools) AND (lead_source IN None)\n",
      "INFO:root:Evaluating: (lead_opt-in IN Tools) AND (lead_source IN None) AND (launch IN Launch_6)\n",
      "INFO:root:Evaluating: (lead_opt-in IN Tools) AND (lead_source IN None) AND (launch IN Launch_7)\n",
      "INFO:root:Evaluating: (lead_opt-in IN Tools) AND (lead_source IN None) AND (launch IN Launch_8)\n",
      "INFO:root:Evaluating: (lead_opt-in IN Tools) AND (lead_source IN None) AND (country IN ['United States of America', 'Canada'])\n",
      "INFO:root:Evaluating: (lead_opt-in IN Tools) AND (lead_source IN None) AND (country IN ['United States of America', 'Canada']) AND (launch IN Launch_6)\n",
      "INFO:root:Evaluating: (lead_opt-in IN Tools) AND (lead_source IN None) AND (country IN ['United States of America', 'Canada']) AND (launch IN Launch_7)\n",
      "INFO:root:Evaluating: (lead_opt-in IN Tools) AND (lead_source IN None) AND (country IN ['United States of America', 'Canada']) AND (launch IN Launch_8)\n",
      "INFO:root:Evaluating: (lead_opt-in IN Tools) AND (lead_source IN Medium)\n",
      "INFO:root:Evaluating: (lead_opt-in IN Tools) AND (lead_source IN Medium) AND (launch IN Launch_6)\n"
     ]
    },
    {
     "name": "stdout",
     "output_type": "stream",
     "text": [
      "Progress: 521/1680\r"
     ]
    },
    {
     "name": "stderr",
     "output_type": "stream",
     "text": [
      "INFO:root:Evaluating: (lead_opt-in IN Tools) AND (lead_source IN Medium) AND (launch IN Launch_7)\n",
      "INFO:root:Evaluating: (lead_opt-in IN Tools) AND (lead_source IN Medium) AND (launch IN Launch_8)\n",
      "INFO:root:Evaluating: (lead_opt-in IN Tools) AND (lead_source IN Medium) AND (country IN ['United States of America', 'Canada'])\n",
      "INFO:root:Evaluating: (lead_opt-in IN Tools) AND (lead_source IN Medium) AND (country IN ['United States of America', 'Canada']) AND (launch IN Launch_6)\n",
      "INFO:root:Evaluating: (lead_opt-in IN Tools) AND (lead_source IN Medium) AND (country IN ['United States of America', 'Canada']) AND (launch IN Launch_7)\n",
      "INFO:root:Evaluating: (lead_opt-in IN Tools) AND (lead_source IN Medium) AND (country IN ['United States of America', 'Canada']) AND (launch IN Launch_8)\n",
      "INFO:root:Evaluating: (lead_opt-in IN Tools) AND (lead_source IN MCS Page)\n",
      "INFO:root:Evaluating: (lead_opt-in IN Tools) AND (lead_source IN MCS Page) AND (launch IN Launch_6)\n",
      "INFO:root:Evaluating: (lead_opt-in IN Tools) AND (lead_source IN MCS Page) AND (launch IN Launch_7)\n",
      "INFO:root:Evaluating: (lead_opt-in IN Tools) AND (lead_source IN MCS Page) AND (launch IN Launch_8)\n",
      "INFO:root:Evaluating: (lead_opt-in IN Tools) AND (lead_source IN MCS Page) AND (country IN ['United States of America', 'Canada'])\n",
      "INFO:root:Evaluating: (lead_opt-in IN Tools) AND (lead_source IN MCS Page) AND (country IN ['United States of America', 'Canada']) AND (launch IN Launch_6)\n",
      "INFO:root:Evaluating: (lead_opt-in IN Tools) AND (lead_source IN MCS Page) AND (country IN ['United States of America', 'Canada']) AND (launch IN Launch_7)\n",
      "INFO:root:Evaluating: (lead_opt-in IN Tools) AND (lead_source IN MCS Page) AND (country IN ['United States of America', 'Canada']) AND (launch IN Launch_8)\n",
      "INFO:root:Evaluating: (lead_opt-in IN Tools) AND (lead_source IN Google Ad)\n",
      "INFO:root:Evaluating: (lead_opt-in IN Tools) AND (lead_source IN Google Ad) AND (launch IN Launch_6)\n",
      "INFO:root:Evaluating: (lead_opt-in IN Tools) AND (lead_source IN Google Ad) AND (launch IN Launch_7)\n",
      "INFO:root:Evaluating: (lead_opt-in IN Tools) AND (lead_source IN Google Ad) AND (launch IN Launch_8)\n",
      "INFO:root:Evaluating: (lead_opt-in IN Tools) AND (lead_source IN Google Ad) AND (country IN ['United States of America', 'Canada'])\n",
      "INFO:root:Evaluating: (lead_opt-in IN Tools) AND (lead_source IN Google Ad) AND (country IN ['United States of America', 'Canada']) AND (launch IN Launch_6)\n"
     ]
    },
    {
     "name": "stdout",
     "output_type": "stream",
     "text": [
      "Progress: 541/1680\r"
     ]
    },
    {
     "name": "stderr",
     "output_type": "stream",
     "text": [
      "INFO:root:Evaluating: (lead_opt-in IN Tools) AND (lead_source IN Google Ad) AND (country IN ['United States of America', 'Canada']) AND (launch IN Launch_7)\n",
      "INFO:root:Evaluating: (lead_opt-in IN Tools) AND (lead_source IN Google Ad) AND (country IN ['United States of America', 'Canada']) AND (launch IN Launch_8)\n",
      "INFO:root:Evaluating: (lead_opt-in IN Tools) AND (lead_source IN Skillshare)\n",
      "INFO:root:Evaluating: (lead_opt-in IN Tools) AND (lead_source IN Skillshare) AND (launch IN Launch_6)\n",
      "INFO:root:Evaluating: (lead_opt-in IN Tools) AND (lead_source IN Skillshare) AND (launch IN Launch_7)\n",
      "INFO:root:Evaluating: (lead_opt-in IN Tools) AND (lead_source IN Skillshare) AND (launch IN Launch_8)\n",
      "INFO:root:Evaluating: (lead_opt-in IN Tools) AND (lead_source IN Skillshare) AND (country IN ['United States of America', 'Canada'])\n",
      "INFO:root:Evaluating: (lead_opt-in IN Tools) AND (lead_source IN Skillshare) AND (country IN ['United States of America', 'Canada']) AND (launch IN Launch_6)\n",
      "INFO:root:Evaluating: (lead_opt-in IN Tools) AND (lead_source IN Skillshare) AND (country IN ['United States of America', 'Canada']) AND (launch IN Launch_7)\n",
      "INFO:root:Evaluating: (lead_opt-in IN Tools) AND (lead_source IN Skillshare) AND (country IN ['United States of America', 'Canada']) AND (launch IN Launch_8)\n",
      "INFO:root:Evaluating: (lead_opt-in IN Tools) AND (lead_source IN Instagram)\n",
      "INFO:root:Evaluating: (lead_opt-in IN Tools) AND (lead_source IN Instagram) AND (launch IN Launch_6)\n",
      "INFO:root:Evaluating: (lead_opt-in IN Tools) AND (lead_source IN Instagram) AND (launch IN Launch_7)\n",
      "INFO:root:Evaluating: (lead_opt-in IN Tools) AND (lead_source IN Instagram) AND (launch IN Launch_8)\n",
      "INFO:root:Evaluating: (lead_opt-in IN Tools) AND (lead_source IN Instagram) AND (country IN ['United States of America', 'Canada'])\n",
      "INFO:root:Evaluating: (lead_opt-in IN Tools) AND (lead_source IN Instagram) AND (country IN ['United States of America', 'Canada']) AND (launch IN Launch_6)\n",
      "INFO:root:Evaluating: (lead_opt-in IN Tools) AND (lead_source IN Instagram) AND (country IN ['United States of America', 'Canada']) AND (launch IN Launch_7)\n",
      "INFO:root:Evaluating: (lead_opt-in IN Tools) AND (lead_source IN Instagram) AND (country IN ['United States of America', 'Canada']) AND (launch IN Launch_8)\n",
      "INFO:root:Evaluating: (lead_opt-in IN WAF Activity Guide)\n",
      "INFO:root:Evaluating: (lead_opt-in IN WAF Activity Guide) AND (launch IN Launch_6)\n",
      "INFO:root:Evaluating: (lead_opt-in IN WAF Activity Guide) AND (launch IN Launch_7)\n"
     ]
    },
    {
     "name": "stdout",
     "output_type": "stream",
     "text": [
      "Progress: 561/1680\r"
     ]
    },
    {
     "name": "stderr",
     "output_type": "stream",
     "text": [
      "INFO:root:Evaluating: (lead_opt-in IN WAF Activity Guide) AND (launch IN Launch_8)\n",
      "INFO:root:Evaluating: (lead_opt-in IN WAF Activity Guide) AND (country IN ['United States of America', 'Canada'])\n",
      "INFO:root:Evaluating: (lead_opt-in IN WAF Activity Guide) AND (country IN ['United States of America', 'Canada']) AND (launch IN Launch_6)\n",
      "INFO:root:Evaluating: (lead_opt-in IN WAF Activity Guide) AND (country IN ['United States of America', 'Canada']) AND (launch IN Launch_7)\n",
      "INFO:root:Evaluating: (lead_opt-in IN WAF Activity Guide) AND (country IN ['United States of America', 'Canada']) AND (launch IN Launch_8)\n",
      "INFO:root:Evaluating: (lead_opt-in IN WAF Activity Guide) AND (lead_source IN Referral - Jake Parker)\n",
      "INFO:root:Evaluating: (lead_opt-in IN WAF Activity Guide) AND (lead_source IN Referral - Jake Parker) AND (launch IN Launch_6)\n",
      "INFO:root:Evaluating: (lead_opt-in IN WAF Activity Guide) AND (lead_source IN Referral - Jake Parker) AND (launch IN Launch_7)\n",
      "INFO:root:Evaluating: (lead_opt-in IN WAF Activity Guide) AND (lead_source IN Referral - Jake Parker) AND (launch IN Launch_8)\n",
      "INFO:root:Evaluating: (lead_opt-in IN WAF Activity Guide) AND (lead_source IN Referral - Jake Parker) AND (country IN ['United States of America', 'Canada'])\n",
      "INFO:root:Evaluating: (lead_opt-in IN WAF Activity Guide) AND (lead_source IN Referral - Jake Parker) AND (country IN ['United States of America', 'Canada']) AND (launch IN Launch_6)\n",
      "INFO:root:Evaluating: (lead_opt-in IN WAF Activity Guide) AND (lead_source IN Referral - Jake Parker) AND (country IN ['United States of America', 'Canada']) AND (launch IN Launch_7)\n",
      "INFO:root:Evaluating: (lead_opt-in IN WAF Activity Guide) AND (lead_source IN Referral - Jake Parker) AND (country IN ['United States of America', 'Canada']) AND (launch IN Launch_8)\n",
      "INFO:root:Evaluating: (lead_opt-in IN WAF Activity Guide) AND (lead_source IN Manual)\n",
      "INFO:root:Evaluating: (lead_opt-in IN WAF Activity Guide) AND (lead_source IN Manual) AND (launch IN Launch_6)\n",
      "INFO:root:Evaluating: (lead_opt-in IN WAF Activity Guide) AND (lead_source IN Manual) AND (launch IN Launch_7)\n",
      "INFO:root:Evaluating: (lead_opt-in IN WAF Activity Guide) AND (lead_source IN Manual) AND (launch IN Launch_8)\n",
      "INFO:root:Evaluating: (lead_opt-in IN WAF Activity Guide) AND (lead_source IN Manual) AND (country IN ['United States of America', 'Canada'])\n",
      "INFO:root:Evaluating: (lead_opt-in IN WAF Activity Guide) AND (lead_source IN Manual) AND (country IN ['United States of America', 'Canada']) AND (launch IN Launch_6)\n"
     ]
    },
    {
     "name": "stdout",
     "output_type": "stream",
     "text": [
      "Progress: 581/1680\r"
     ]
    },
    {
     "name": "stderr",
     "output_type": "stream",
     "text": [
      "INFO:root:Evaluating: (lead_opt-in IN WAF Activity Guide) AND (lead_source IN Manual) AND (country IN ['United States of America', 'Canada']) AND (launch IN Launch_7)\n",
      "INFO:root:Evaluating: (lead_opt-in IN WAF Activity Guide) AND (lead_source IN Manual) AND (country IN ['United States of America', 'Canada']) AND (launch IN Launch_8)\n",
      "INFO:root:Evaluating: (lead_opt-in IN WAF Activity Guide) AND (lead_source IN Twitter)\n",
      "INFO:root:Evaluating: (lead_opt-in IN WAF Activity Guide) AND (lead_source IN Twitter) AND (launch IN Launch_6)\n",
      "INFO:root:Evaluating: (lead_opt-in IN WAF Activity Guide) AND (lead_source IN Twitter) AND (launch IN Launch_7)\n",
      "INFO:root:Evaluating: (lead_opt-in IN WAF Activity Guide) AND (lead_source IN Twitter) AND (launch IN Launch_8)\n",
      "INFO:root:Evaluating: (lead_opt-in IN WAF Activity Guide) AND (lead_source IN Twitter) AND (country IN ['United States of America', 'Canada'])\n",
      "INFO:root:Evaluating: (lead_opt-in IN WAF Activity Guide) AND (lead_source IN Twitter) AND (country IN ['United States of America', 'Canada']) AND (launch IN Launch_6)\n",
      "INFO:root:Evaluating: (lead_opt-in IN WAF Activity Guide) AND (lead_source IN Twitter) AND (country IN ['United States of America', 'Canada']) AND (launch IN Launch_7)\n",
      "INFO:root:Evaluating: (lead_opt-in IN WAF Activity Guide) AND (lead_source IN Twitter) AND (country IN ['United States of America', 'Canada']) AND (launch IN Launch_8)\n",
      "INFO:root:Evaluating: (lead_opt-in IN WAF Activity Guide) AND (lead_source IN FB Ad)\n",
      "INFO:root:Evaluating: (lead_opt-in IN WAF Activity Guide) AND (lead_source IN FB Ad) AND (launch IN Launch_6)\n",
      "INFO:root:Evaluating: (lead_opt-in IN WAF Activity Guide) AND (lead_source IN FB Ad) AND (launch IN Launch_7)\n",
      "INFO:root:Evaluating: (lead_opt-in IN WAF Activity Guide) AND (lead_source IN FB Ad) AND (launch IN Launch_8)\n",
      "INFO:root:Evaluating: (lead_opt-in IN WAF Activity Guide) AND (lead_source IN FB Ad) AND (country IN ['United States of America', 'Canada'])\n",
      "INFO:root:Evaluating: (lead_opt-in IN WAF Activity Guide) AND (lead_source IN FB Ad) AND (country IN ['United States of America', 'Canada']) AND (launch IN Launch_6)\n",
      "INFO:root:Evaluating: (lead_opt-in IN WAF Activity Guide) AND (lead_source IN FB Ad) AND (country IN ['United States of America', 'Canada']) AND (launch IN Launch_7)\n",
      "INFO:root:Evaluating: (lead_opt-in IN WAF Activity Guide) AND (lead_source IN FB Ad) AND (country IN ['United States of America', 'Canada']) AND (launch IN Launch_8)\n",
      "INFO:root:Evaluating: (lead_opt-in IN WAF Activity Guide) AND (lead_source IN Facebook)\n",
      "INFO:root:Evaluating: (lead_opt-in IN WAF Activity Guide) AND (lead_source IN Facebook) AND (launch IN Launch_6)\n"
     ]
    },
    {
     "name": "stdout",
     "output_type": "stream",
     "text": [
      "Progress: 601/1680\r"
     ]
    },
    {
     "name": "stderr",
     "output_type": "stream",
     "text": [
      "INFO:root:Evaluating: (lead_opt-in IN WAF Activity Guide) AND (lead_source IN Facebook) AND (launch IN Launch_7)\n",
      "INFO:root:Evaluating: (lead_opt-in IN WAF Activity Guide) AND (lead_source IN Facebook) AND (launch IN Launch_8)\n",
      "INFO:root:Evaluating: (lead_opt-in IN WAF Activity Guide) AND (lead_source IN Facebook) AND (country IN ['United States of America', 'Canada'])\n",
      "INFO:root:Evaluating: (lead_opt-in IN WAF Activity Guide) AND (lead_source IN Facebook) AND (country IN ['United States of America', 'Canada']) AND (launch IN Launch_6)\n",
      "INFO:root:Evaluating: (lead_opt-in IN WAF Activity Guide) AND (lead_source IN Facebook) AND (country IN ['United States of America', 'Canada']) AND (launch IN Launch_7)\n",
      "INFO:root:Evaluating: (lead_opt-in IN WAF Activity Guide) AND (lead_source IN Facebook) AND (country IN ['United States of America', 'Canada']) AND (launch IN Launch_8)\n",
      "INFO:root:Evaluating: (lead_opt-in IN WAF Activity Guide) AND (lead_source IN MailChimp)\n",
      "INFO:root:Evaluating: (lead_opt-in IN WAF Activity Guide) AND (lead_source IN MailChimp) AND (launch IN Launch_6)\n",
      "INFO:root:Evaluating: (lead_opt-in IN WAF Activity Guide) AND (lead_source IN MailChimp) AND (launch IN Launch_7)\n",
      "INFO:root:Evaluating: (lead_opt-in IN WAF Activity Guide) AND (lead_source IN MailChimp) AND (launch IN Launch_8)\n",
      "INFO:root:Evaluating: (lead_opt-in IN WAF Activity Guide) AND (lead_source IN MailChimp) AND (country IN ['United States of America', 'Canada'])\n",
      "INFO:root:Evaluating: (lead_opt-in IN WAF Activity Guide) AND (lead_source IN MailChimp) AND (country IN ['United States of America', 'Canada']) AND (launch IN Launch_6)\n",
      "INFO:root:Evaluating: (lead_opt-in IN WAF Activity Guide) AND (lead_source IN MailChimp) AND (country IN ['United States of America', 'Canada']) AND (launch IN Launch_7)\n",
      "INFO:root:Evaluating: (lead_opt-in IN WAF Activity Guide) AND (lead_source IN MailChimp) AND (country IN ['United States of America', 'Canada']) AND (launch IN Launch_8)\n",
      "INFO:root:Evaluating: (lead_opt-in IN WAF Activity Guide) AND (lead_source IN Unknown)\n",
      "INFO:root:Evaluating: (lead_opt-in IN WAF Activity Guide) AND (lead_source IN Unknown) AND (launch IN Launch_6)\n",
      "INFO:root:Evaluating: (lead_opt-in IN WAF Activity Guide) AND (lead_source IN Unknown) AND (launch IN Launch_7)\n",
      "INFO:root:Evaluating: (lead_opt-in IN WAF Activity Guide) AND (lead_source IN Unknown) AND (launch IN Launch_8)\n",
      "INFO:root:Evaluating: (lead_opt-in IN WAF Activity Guide) AND (lead_source IN Unknown) AND (country IN ['United States of America', 'Canada'])\n",
      "INFO:root:Evaluating: (lead_opt-in IN WAF Activity Guide) AND (lead_source IN Unknown) AND (country IN ['United States of America', 'Canada']) AND (launch IN Launch_6)\n"
     ]
    },
    {
     "name": "stdout",
     "output_type": "stream",
     "text": [
      "Progress: 621/1680\r"
     ]
    },
    {
     "name": "stderr",
     "output_type": "stream",
     "text": [
      "INFO:root:Evaluating: (lead_opt-in IN WAF Activity Guide) AND (lead_source IN Unknown) AND (country IN ['United States of America', 'Canada']) AND (launch IN Launch_7)\n",
      "INFO:root:Evaluating: (lead_opt-in IN WAF Activity Guide) AND (lead_source IN Unknown) AND (country IN ['United States of America', 'Canada']) AND (launch IN Launch_8)\n",
      "INFO:root:Evaluating: (lead_opt-in IN WAF Activity Guide) AND (lead_source IN None)\n",
      "INFO:root:Evaluating: (lead_opt-in IN WAF Activity Guide) AND (lead_source IN None) AND (launch IN Launch_6)\n",
      "INFO:root:Evaluating: (lead_opt-in IN WAF Activity Guide) AND (lead_source IN None) AND (launch IN Launch_7)\n",
      "INFO:root:Evaluating: (lead_opt-in IN WAF Activity Guide) AND (lead_source IN None) AND (launch IN Launch_8)\n",
      "INFO:root:Evaluating: (lead_opt-in IN WAF Activity Guide) AND (lead_source IN None) AND (country IN ['United States of America', 'Canada'])\n",
      "INFO:root:Evaluating: (lead_opt-in IN WAF Activity Guide) AND (lead_source IN None) AND (country IN ['United States of America', 'Canada']) AND (launch IN Launch_6)\n",
      "INFO:root:Evaluating: (lead_opt-in IN WAF Activity Guide) AND (lead_source IN None) AND (country IN ['United States of America', 'Canada']) AND (launch IN Launch_7)\n",
      "INFO:root:Evaluating: (lead_opt-in IN WAF Activity Guide) AND (lead_source IN None) AND (country IN ['United States of America', 'Canada']) AND (launch IN Launch_8)\n",
      "INFO:root:Evaluating: (lead_opt-in IN WAF Activity Guide) AND (lead_source IN Medium)\n",
      "INFO:root:Evaluating: (lead_opt-in IN WAF Activity Guide) AND (lead_source IN Medium) AND (launch IN Launch_6)\n",
      "INFO:root:Evaluating: (lead_opt-in IN WAF Activity Guide) AND (lead_source IN Medium) AND (launch IN Launch_7)\n",
      "INFO:root:Evaluating: (lead_opt-in IN WAF Activity Guide) AND (lead_source IN Medium) AND (launch IN Launch_8)\n",
      "INFO:root:Evaluating: (lead_opt-in IN WAF Activity Guide) AND (lead_source IN Medium) AND (country IN ['United States of America', 'Canada'])\n",
      "INFO:root:Evaluating: (lead_opt-in IN WAF Activity Guide) AND (lead_source IN Medium) AND (country IN ['United States of America', 'Canada']) AND (launch IN Launch_6)\n",
      "INFO:root:Evaluating: (lead_opt-in IN WAF Activity Guide) AND (lead_source IN Medium) AND (country IN ['United States of America', 'Canada']) AND (launch IN Launch_7)\n",
      "INFO:root:Evaluating: (lead_opt-in IN WAF Activity Guide) AND (lead_source IN Medium) AND (country IN ['United States of America', 'Canada']) AND (launch IN Launch_8)\n",
      "INFO:root:Evaluating: (lead_opt-in IN WAF Activity Guide) AND (lead_source IN MCS Page)\n",
      "INFO:root:Evaluating: (lead_opt-in IN WAF Activity Guide) AND (lead_source IN MCS Page) AND (launch IN Launch_6)\n"
     ]
    },
    {
     "name": "stdout",
     "output_type": "stream",
     "text": [
      "Progress: 641/1680\r"
     ]
    },
    {
     "name": "stderr",
     "output_type": "stream",
     "text": [
      "INFO:root:Evaluating: (lead_opt-in IN WAF Activity Guide) AND (lead_source IN MCS Page) AND (launch IN Launch_7)\n",
      "INFO:root:Evaluating: (lead_opt-in IN WAF Activity Guide) AND (lead_source IN MCS Page) AND (launch IN Launch_8)\n",
      "INFO:root:Evaluating: (lead_opt-in IN WAF Activity Guide) AND (lead_source IN MCS Page) AND (country IN ['United States of America', 'Canada'])\n",
      "INFO:root:Evaluating: (lead_opt-in IN WAF Activity Guide) AND (lead_source IN MCS Page) AND (country IN ['United States of America', 'Canada']) AND (launch IN Launch_6)\n",
      "INFO:root:Evaluating: (lead_opt-in IN WAF Activity Guide) AND (lead_source IN MCS Page) AND (country IN ['United States of America', 'Canada']) AND (launch IN Launch_7)\n",
      "INFO:root:Evaluating: (lead_opt-in IN WAF Activity Guide) AND (lead_source IN MCS Page) AND (country IN ['United States of America', 'Canada']) AND (launch IN Launch_8)\n",
      "INFO:root:Evaluating: (lead_opt-in IN WAF Activity Guide) AND (lead_source IN Google Ad)\n",
      "INFO:root:Evaluating: (lead_opt-in IN WAF Activity Guide) AND (lead_source IN Google Ad) AND (launch IN Launch_6)\n",
      "INFO:root:Evaluating: (lead_opt-in IN WAF Activity Guide) AND (lead_source IN Google Ad) AND (launch IN Launch_7)\n",
      "INFO:root:Evaluating: (lead_opt-in IN WAF Activity Guide) AND (lead_source IN Google Ad) AND (launch IN Launch_8)\n",
      "INFO:root:Evaluating: (lead_opt-in IN WAF Activity Guide) AND (lead_source IN Google Ad) AND (country IN ['United States of America', 'Canada'])\n",
      "INFO:root:Evaluating: (lead_opt-in IN WAF Activity Guide) AND (lead_source IN Google Ad) AND (country IN ['United States of America', 'Canada']) AND (launch IN Launch_6)\n",
      "INFO:root:Evaluating: (lead_opt-in IN WAF Activity Guide) AND (lead_source IN Google Ad) AND (country IN ['United States of America', 'Canada']) AND (launch IN Launch_7)\n",
      "INFO:root:Evaluating: (lead_opt-in IN WAF Activity Guide) AND (lead_source IN Google Ad) AND (country IN ['United States of America', 'Canada']) AND (launch IN Launch_8)\n",
      "INFO:root:Evaluating: (lead_opt-in IN WAF Activity Guide) AND (lead_source IN Skillshare)\n",
      "INFO:root:Evaluating: (lead_opt-in IN WAF Activity Guide) AND (lead_source IN Skillshare) AND (launch IN Launch_6)\n",
      "INFO:root:Evaluating: (lead_opt-in IN WAF Activity Guide) AND (lead_source IN Skillshare) AND (launch IN Launch_7)\n",
      "INFO:root:Evaluating: (lead_opt-in IN WAF Activity Guide) AND (lead_source IN Skillshare) AND (launch IN Launch_8)\n",
      "INFO:root:Evaluating: (lead_opt-in IN WAF Activity Guide) AND (lead_source IN Skillshare) AND (country IN ['United States of America', 'Canada'])\n",
      "INFO:root:Evaluating: (lead_opt-in IN WAF Activity Guide) AND (lead_source IN Skillshare) AND (country IN ['United States of America', 'Canada']) AND (launch IN Launch_6)\n"
     ]
    },
    {
     "name": "stdout",
     "output_type": "stream",
     "text": [
      "Progress: 661/1680\r"
     ]
    },
    {
     "name": "stderr",
     "output_type": "stream",
     "text": [
      "INFO:root:Evaluating: (lead_opt-in IN WAF Activity Guide) AND (lead_source IN Skillshare) AND (country IN ['United States of America', 'Canada']) AND (launch IN Launch_7)\n",
      "INFO:root:Evaluating: (lead_opt-in IN WAF Activity Guide) AND (lead_source IN Skillshare) AND (country IN ['United States of America', 'Canada']) AND (launch IN Launch_8)\n",
      "INFO:root:Evaluating: (lead_opt-in IN WAF Activity Guide) AND (lead_source IN Instagram)\n",
      "INFO:root:Evaluating: (lead_opt-in IN WAF Activity Guide) AND (lead_source IN Instagram) AND (launch IN Launch_6)\n",
      "INFO:root:Evaluating: (lead_opt-in IN WAF Activity Guide) AND (lead_source IN Instagram) AND (launch IN Launch_7)\n",
      "INFO:root:Evaluating: (lead_opt-in IN WAF Activity Guide) AND (lead_source IN Instagram) AND (launch IN Launch_8)\n",
      "INFO:root:Evaluating: (lead_opt-in IN WAF Activity Guide) AND (lead_source IN Instagram) AND (country IN ['United States of America', 'Canada'])\n",
      "INFO:root:Evaluating: (lead_opt-in IN WAF Activity Guide) AND (lead_source IN Instagram) AND (country IN ['United States of America', 'Canada']) AND (launch IN Launch_6)\n",
      "INFO:root:Evaluating: (lead_opt-in IN WAF Activity Guide) AND (lead_source IN Instagram) AND (country IN ['United States of America', 'Canada']) AND (launch IN Launch_7)\n",
      "INFO:root:Evaluating: (lead_opt-in IN WAF Activity Guide) AND (lead_source IN Instagram) AND (country IN ['United States of America', 'Canada']) AND (launch IN Launch_8)\n",
      "INFO:root:Evaluating: (lead_opt-in IN MailChimp)\n",
      "INFO:root:Evaluating: (lead_opt-in IN MailChimp) AND (launch IN Launch_6)\n",
      "INFO:root:Evaluating: (lead_opt-in IN MailChimp) AND (launch IN Launch_7)\n",
      "INFO:root:Evaluating: (lead_opt-in IN MailChimp) AND (launch IN Launch_8)\n",
      "INFO:root:Evaluating: (lead_opt-in IN MailChimp) AND (country IN ['United States of America', 'Canada'])\n",
      "INFO:root:Evaluating: (lead_opt-in IN MailChimp) AND (country IN ['United States of America', 'Canada']) AND (launch IN Launch_6)\n",
      "INFO:root:Evaluating: (lead_opt-in IN MailChimp) AND (country IN ['United States of America', 'Canada']) AND (launch IN Launch_7)\n",
      "INFO:root:Evaluating: (lead_opt-in IN MailChimp) AND (country IN ['United States of America', 'Canada']) AND (launch IN Launch_8)\n",
      "INFO:root:Evaluating: (lead_opt-in IN MailChimp) AND (lead_source IN Referral - Jake Parker)\n",
      "INFO:root:Evaluating: (lead_opt-in IN MailChimp) AND (lead_source IN Referral - Jake Parker) AND (launch IN Launch_6)\n"
     ]
    },
    {
     "name": "stdout",
     "output_type": "stream",
     "text": [
      "Progress: 681/1680\r"
     ]
    },
    {
     "name": "stderr",
     "output_type": "stream",
     "text": [
      "INFO:root:Evaluating: (lead_opt-in IN MailChimp) AND (lead_source IN Referral - Jake Parker) AND (launch IN Launch_7)\n",
      "INFO:root:Evaluating: (lead_opt-in IN MailChimp) AND (lead_source IN Referral - Jake Parker) AND (launch IN Launch_8)\n",
      "INFO:root:Evaluating: (lead_opt-in IN MailChimp) AND (lead_source IN Referral - Jake Parker) AND (country IN ['United States of America', 'Canada'])\n",
      "INFO:root:Evaluating: (lead_opt-in IN MailChimp) AND (lead_source IN Referral - Jake Parker) AND (country IN ['United States of America', 'Canada']) AND (launch IN Launch_6)\n",
      "INFO:root:Evaluating: (lead_opt-in IN MailChimp) AND (lead_source IN Referral - Jake Parker) AND (country IN ['United States of America', 'Canada']) AND (launch IN Launch_7)\n",
      "INFO:root:Evaluating: (lead_opt-in IN MailChimp) AND (lead_source IN Referral - Jake Parker) AND (country IN ['United States of America', 'Canada']) AND (launch IN Launch_8)\n",
      "INFO:root:Evaluating: (lead_opt-in IN MailChimp) AND (lead_source IN Manual)\n",
      "INFO:root:Evaluating: (lead_opt-in IN MailChimp) AND (lead_source IN Manual) AND (launch IN Launch_6)\n",
      "INFO:root:Evaluating: (lead_opt-in IN MailChimp) AND (lead_source IN Manual) AND (launch IN Launch_7)\n",
      "INFO:root:Evaluating: (lead_opt-in IN MailChimp) AND (lead_source IN Manual) AND (launch IN Launch_8)\n",
      "INFO:root:Evaluating: (lead_opt-in IN MailChimp) AND (lead_source IN Manual) AND (country IN ['United States of America', 'Canada'])\n",
      "INFO:root:Evaluating: (lead_opt-in IN MailChimp) AND (lead_source IN Manual) AND (country IN ['United States of America', 'Canada']) AND (launch IN Launch_6)\n",
      "INFO:root:Evaluating: (lead_opt-in IN MailChimp) AND (lead_source IN Manual) AND (country IN ['United States of America', 'Canada']) AND (launch IN Launch_7)\n",
      "INFO:root:Evaluating: (lead_opt-in IN MailChimp) AND (lead_source IN Manual) AND (country IN ['United States of America', 'Canada']) AND (launch IN Launch_8)\n",
      "INFO:root:Evaluating: (lead_opt-in IN MailChimp) AND (lead_source IN Twitter)\n",
      "INFO:root:Evaluating: (lead_opt-in IN MailChimp) AND (lead_source IN Twitter) AND (launch IN Launch_6)\n",
      "INFO:root:Evaluating: (lead_opt-in IN MailChimp) AND (lead_source IN Twitter) AND (launch IN Launch_7)\n",
      "INFO:root:Evaluating: (lead_opt-in IN MailChimp) AND (lead_source IN Twitter) AND (launch IN Launch_8)\n",
      "INFO:root:Evaluating: (lead_opt-in IN MailChimp) AND (lead_source IN Twitter) AND (country IN ['United States of America', 'Canada'])\n",
      "INFO:root:Evaluating: (lead_opt-in IN MailChimp) AND (lead_source IN Twitter) AND (country IN ['United States of America', 'Canada']) AND (launch IN Launch_6)\n"
     ]
    },
    {
     "name": "stdout",
     "output_type": "stream",
     "text": [
      "Progress: 701/1680\r"
     ]
    },
    {
     "name": "stderr",
     "output_type": "stream",
     "text": [
      "INFO:root:Evaluating: (lead_opt-in IN MailChimp) AND (lead_source IN Twitter) AND (country IN ['United States of America', 'Canada']) AND (launch IN Launch_7)\n",
      "INFO:root:Evaluating: (lead_opt-in IN MailChimp) AND (lead_source IN Twitter) AND (country IN ['United States of America', 'Canada']) AND (launch IN Launch_8)\n",
      "INFO:root:Evaluating: (lead_opt-in IN MailChimp) AND (lead_source IN FB Ad)\n",
      "INFO:root:Evaluating: (lead_opt-in IN MailChimp) AND (lead_source IN FB Ad) AND (launch IN Launch_6)\n",
      "INFO:root:Evaluating: (lead_opt-in IN MailChimp) AND (lead_source IN FB Ad) AND (launch IN Launch_7)\n",
      "INFO:root:Evaluating: (lead_opt-in IN MailChimp) AND (lead_source IN FB Ad) AND (launch IN Launch_8)\n",
      "INFO:root:Evaluating: (lead_opt-in IN MailChimp) AND (lead_source IN FB Ad) AND (country IN ['United States of America', 'Canada'])\n",
      "INFO:root:Evaluating: (lead_opt-in IN MailChimp) AND (lead_source IN FB Ad) AND (country IN ['United States of America', 'Canada']) AND (launch IN Launch_6)\n",
      "INFO:root:Evaluating: (lead_opt-in IN MailChimp) AND (lead_source IN FB Ad) AND (country IN ['United States of America', 'Canada']) AND (launch IN Launch_7)\n",
      "INFO:root:Evaluating: (lead_opt-in IN MailChimp) AND (lead_source IN FB Ad) AND (country IN ['United States of America', 'Canada']) AND (launch IN Launch_8)\n",
      "INFO:root:Evaluating: (lead_opt-in IN MailChimp) AND (lead_source IN Facebook)\n",
      "INFO:root:Evaluating: (lead_opt-in IN MailChimp) AND (lead_source IN Facebook) AND (launch IN Launch_6)\n",
      "INFO:root:Evaluating: (lead_opt-in IN MailChimp) AND (lead_source IN Facebook) AND (launch IN Launch_7)\n",
      "INFO:root:Evaluating: (lead_opt-in IN MailChimp) AND (lead_source IN Facebook) AND (launch IN Launch_8)\n",
      "INFO:root:Evaluating: (lead_opt-in IN MailChimp) AND (lead_source IN Facebook) AND (country IN ['United States of America', 'Canada'])\n",
      "INFO:root:Evaluating: (lead_opt-in IN MailChimp) AND (lead_source IN Facebook) AND (country IN ['United States of America', 'Canada']) AND (launch IN Launch_6)\n",
      "INFO:root:Evaluating: (lead_opt-in IN MailChimp) AND (lead_source IN Facebook) AND (country IN ['United States of America', 'Canada']) AND (launch IN Launch_7)\n",
      "INFO:root:Evaluating: (lead_opt-in IN MailChimp) AND (lead_source IN Facebook) AND (country IN ['United States of America', 'Canada']) AND (launch IN Launch_8)\n",
      "INFO:root:Evaluating: (lead_opt-in IN MailChimp) AND (lead_source IN MailChimp)\n",
      "INFO:root:Evaluating: (lead_opt-in IN MailChimp) AND (lead_source IN MailChimp) AND (launch IN Launch_6)\n"
     ]
    },
    {
     "name": "stdout",
     "output_type": "stream",
     "text": [
      "Progress: 721/1680\r"
     ]
    },
    {
     "name": "stderr",
     "output_type": "stream",
     "text": [
      "INFO:root:Evaluating: (lead_opt-in IN MailChimp) AND (lead_source IN MailChimp) AND (launch IN Launch_7)\n",
      "INFO:root:Evaluating: (lead_opt-in IN MailChimp) AND (lead_source IN MailChimp) AND (launch IN Launch_8)\n",
      "INFO:root:Evaluating: (lead_opt-in IN MailChimp) AND (lead_source IN MailChimp) AND (country IN ['United States of America', 'Canada'])\n",
      "INFO:root:Evaluating: (lead_opt-in IN MailChimp) AND (lead_source IN MailChimp) AND (country IN ['United States of America', 'Canada']) AND (launch IN Launch_6)\n",
      "INFO:root:Evaluating: (lead_opt-in IN MailChimp) AND (lead_source IN MailChimp) AND (country IN ['United States of America', 'Canada']) AND (launch IN Launch_7)\n",
      "INFO:root:Evaluating: (lead_opt-in IN MailChimp) AND (lead_source IN MailChimp) AND (country IN ['United States of America', 'Canada']) AND (launch IN Launch_8)\n",
      "INFO:root:Evaluating: (lead_opt-in IN MailChimp) AND (lead_source IN Unknown)\n",
      "INFO:root:Evaluating: (lead_opt-in IN MailChimp) AND (lead_source IN Unknown) AND (launch IN Launch_6)\n",
      "INFO:root:Evaluating: (lead_opt-in IN MailChimp) AND (lead_source IN Unknown) AND (launch IN Launch_7)\n",
      "INFO:root:Evaluating: (lead_opt-in IN MailChimp) AND (lead_source IN Unknown) AND (launch IN Launch_8)\n",
      "INFO:root:Evaluating: (lead_opt-in IN MailChimp) AND (lead_source IN Unknown) AND (country IN ['United States of America', 'Canada'])\n",
      "INFO:root:Evaluating: (lead_opt-in IN MailChimp) AND (lead_source IN Unknown) AND (country IN ['United States of America', 'Canada']) AND (launch IN Launch_6)\n",
      "INFO:root:Evaluating: (lead_opt-in IN MailChimp) AND (lead_source IN Unknown) AND (country IN ['United States of America', 'Canada']) AND (launch IN Launch_7)\n",
      "INFO:root:Evaluating: (lead_opt-in IN MailChimp) AND (lead_source IN Unknown) AND (country IN ['United States of America', 'Canada']) AND (launch IN Launch_8)\n",
      "INFO:root:Evaluating: (lead_opt-in IN MailChimp) AND (lead_source IN None)\n",
      "INFO:root:Evaluating: (lead_opt-in IN MailChimp) AND (lead_source IN None) AND (launch IN Launch_6)\n",
      "INFO:root:Evaluating: (lead_opt-in IN MailChimp) AND (lead_source IN None) AND (launch IN Launch_7)\n",
      "INFO:root:Evaluating: (lead_opt-in IN MailChimp) AND (lead_source IN None) AND (launch IN Launch_8)\n",
      "INFO:root:Evaluating: (lead_opt-in IN MailChimp) AND (lead_source IN None) AND (country IN ['United States of America', 'Canada'])\n",
      "INFO:root:Evaluating: (lead_opt-in IN MailChimp) AND (lead_source IN None) AND (country IN ['United States of America', 'Canada']) AND (launch IN Launch_6)\n"
     ]
    },
    {
     "name": "stdout",
     "output_type": "stream",
     "text": [
      "Progress: 741/1680\r"
     ]
    },
    {
     "name": "stderr",
     "output_type": "stream",
     "text": [
      "INFO:root:Evaluating: (lead_opt-in IN MailChimp) AND (lead_source IN None) AND (country IN ['United States of America', 'Canada']) AND (launch IN Launch_7)\n",
      "INFO:root:Evaluating: (lead_opt-in IN MailChimp) AND (lead_source IN None) AND (country IN ['United States of America', 'Canada']) AND (launch IN Launch_8)\n",
      "INFO:root:Evaluating: (lead_opt-in IN MailChimp) AND (lead_source IN Medium)\n",
      "INFO:root:Evaluating: (lead_opt-in IN MailChimp) AND (lead_source IN Medium) AND (launch IN Launch_6)\n",
      "INFO:root:Evaluating: (lead_opt-in IN MailChimp) AND (lead_source IN Medium) AND (launch IN Launch_7)\n",
      "INFO:root:Evaluating: (lead_opt-in IN MailChimp) AND (lead_source IN Medium) AND (launch IN Launch_8)\n",
      "INFO:root:Evaluating: (lead_opt-in IN MailChimp) AND (lead_source IN Medium) AND (country IN ['United States of America', 'Canada'])\n",
      "INFO:root:Evaluating: (lead_opt-in IN MailChimp) AND (lead_source IN Medium) AND (country IN ['United States of America', 'Canada']) AND (launch IN Launch_6)\n",
      "INFO:root:Evaluating: (lead_opt-in IN MailChimp) AND (lead_source IN Medium) AND (country IN ['United States of America', 'Canada']) AND (launch IN Launch_7)\n",
      "INFO:root:Evaluating: (lead_opt-in IN MailChimp) AND (lead_source IN Medium) AND (country IN ['United States of America', 'Canada']) AND (launch IN Launch_8)\n",
      "INFO:root:Evaluating: (lead_opt-in IN MailChimp) AND (lead_source IN MCS Page)\n",
      "INFO:root:Evaluating: (lead_opt-in IN MailChimp) AND (lead_source IN MCS Page) AND (launch IN Launch_6)\n",
      "INFO:root:Evaluating: (lead_opt-in IN MailChimp) AND (lead_source IN MCS Page) AND (launch IN Launch_7)\n",
      "INFO:root:Evaluating: (lead_opt-in IN MailChimp) AND (lead_source IN MCS Page) AND (launch IN Launch_8)\n",
      "INFO:root:Evaluating: (lead_opt-in IN MailChimp) AND (lead_source IN MCS Page) AND (country IN ['United States of America', 'Canada'])\n",
      "INFO:root:Evaluating: (lead_opt-in IN MailChimp) AND (lead_source IN MCS Page) AND (country IN ['United States of America', 'Canada']) AND (launch IN Launch_6)\n",
      "INFO:root:Evaluating: (lead_opt-in IN MailChimp) AND (lead_source IN MCS Page) AND (country IN ['United States of America', 'Canada']) AND (launch IN Launch_7)\n",
      "INFO:root:Evaluating: (lead_opt-in IN MailChimp) AND (lead_source IN MCS Page) AND (country IN ['United States of America', 'Canada']) AND (launch IN Launch_8)\n",
      "INFO:root:Evaluating: (lead_opt-in IN MailChimp) AND (lead_source IN Google Ad)\n",
      "INFO:root:Evaluating: (lead_opt-in IN MailChimp) AND (lead_source IN Google Ad) AND (launch IN Launch_6)\n"
     ]
    },
    {
     "name": "stdout",
     "output_type": "stream",
     "text": [
      "Progress: 761/1680\r"
     ]
    },
    {
     "name": "stderr",
     "output_type": "stream",
     "text": [
      "INFO:root:Evaluating: (lead_opt-in IN MailChimp) AND (lead_source IN Google Ad) AND (launch IN Launch_7)\n",
      "INFO:root:Evaluating: (lead_opt-in IN MailChimp) AND (lead_source IN Google Ad) AND (launch IN Launch_8)\n",
      "INFO:root:Evaluating: (lead_opt-in IN MailChimp) AND (lead_source IN Google Ad) AND (country IN ['United States of America', 'Canada'])\n",
      "INFO:root:Evaluating: (lead_opt-in IN MailChimp) AND (lead_source IN Google Ad) AND (country IN ['United States of America', 'Canada']) AND (launch IN Launch_6)\n",
      "INFO:root:Evaluating: (lead_opt-in IN MailChimp) AND (lead_source IN Google Ad) AND (country IN ['United States of America', 'Canada']) AND (launch IN Launch_7)\n",
      "INFO:root:Evaluating: (lead_opt-in IN MailChimp) AND (lead_source IN Google Ad) AND (country IN ['United States of America', 'Canada']) AND (launch IN Launch_8)\n",
      "INFO:root:Evaluating: (lead_opt-in IN MailChimp) AND (lead_source IN Skillshare)\n",
      "INFO:root:Evaluating: (lead_opt-in IN MailChimp) AND (lead_source IN Skillshare) AND (launch IN Launch_6)\n",
      "INFO:root:Evaluating: (lead_opt-in IN MailChimp) AND (lead_source IN Skillshare) AND (launch IN Launch_7)\n",
      "INFO:root:Evaluating: (lead_opt-in IN MailChimp) AND (lead_source IN Skillshare) AND (launch IN Launch_8)\n",
      "INFO:root:Evaluating: (lead_opt-in IN MailChimp) AND (lead_source IN Skillshare) AND (country IN ['United States of America', 'Canada'])\n",
      "INFO:root:Evaluating: (lead_opt-in IN MailChimp) AND (lead_source IN Skillshare) AND (country IN ['United States of America', 'Canada']) AND (launch IN Launch_6)\n",
      "INFO:root:Evaluating: (lead_opt-in IN MailChimp) AND (lead_source IN Skillshare) AND (country IN ['United States of America', 'Canada']) AND (launch IN Launch_7)\n",
      "INFO:root:Evaluating: (lead_opt-in IN MailChimp) AND (lead_source IN Skillshare) AND (country IN ['United States of America', 'Canada']) AND (launch IN Launch_8)\n",
      "INFO:root:Evaluating: (lead_opt-in IN MailChimp) AND (lead_source IN Instagram)\n",
      "INFO:root:Evaluating: (lead_opt-in IN MailChimp) AND (lead_source IN Instagram) AND (launch IN Launch_6)\n",
      "INFO:root:Evaluating: (lead_opt-in IN MailChimp) AND (lead_source IN Instagram) AND (launch IN Launch_7)\n",
      "INFO:root:Evaluating: (lead_opt-in IN MailChimp) AND (lead_source IN Instagram) AND (launch IN Launch_8)\n",
      "INFO:root:Evaluating: (lead_opt-in IN MailChimp) AND (lead_source IN Instagram) AND (country IN ['United States of America', 'Canada'])\n",
      "INFO:root:Evaluating: (lead_opt-in IN MailChimp) AND (lead_source IN Instagram) AND (country IN ['United States of America', 'Canada']) AND (launch IN Launch_6)\n"
     ]
    },
    {
     "name": "stdout",
     "output_type": "stream",
     "text": [
      "Progress: 781/1680\r"
     ]
    },
    {
     "name": "stderr",
     "output_type": "stream",
     "text": [
      "INFO:root:Evaluating: (lead_opt-in IN MailChimp) AND (lead_source IN Instagram) AND (country IN ['United States of America', 'Canada']) AND (launch IN Launch_7)\n",
      "INFO:root:Evaluating: (lead_opt-in IN MailChimp) AND (lead_source IN Instagram) AND (country IN ['United States of America', 'Canada']) AND (launch IN Launch_8)\n",
      "INFO:root:Evaluating: (lead_opt-in IN Unknown)\n",
      "INFO:root:Evaluating: (lead_opt-in IN Unknown) AND (launch IN Launch_6)\n",
      "INFO:root:Evaluating: (lead_opt-in IN Unknown) AND (launch IN Launch_7)\n",
      "INFO:root:Evaluating: (lead_opt-in IN Unknown) AND (launch IN Launch_8)\n",
      "INFO:root:Evaluating: (lead_opt-in IN Unknown) AND (country IN ['United States of America', 'Canada'])\n",
      "INFO:root:Evaluating: (lead_opt-in IN Unknown) AND (country IN ['United States of America', 'Canada']) AND (launch IN Launch_6)\n",
      "INFO:root:Evaluating: (lead_opt-in IN Unknown) AND (country IN ['United States of America', 'Canada']) AND (launch IN Launch_7)\n",
      "INFO:root:Evaluating: (lead_opt-in IN Unknown) AND (country IN ['United States of America', 'Canada']) AND (launch IN Launch_8)\n",
      "INFO:root:Evaluating: (lead_opt-in IN Unknown) AND (lead_source IN Referral - Jake Parker)\n",
      "INFO:root:Evaluating: (lead_opt-in IN Unknown) AND (lead_source IN Referral - Jake Parker) AND (launch IN Launch_6)\n",
      "INFO:root:Evaluating: (lead_opt-in IN Unknown) AND (lead_source IN Referral - Jake Parker) AND (launch IN Launch_7)\n",
      "INFO:root:Evaluating: (lead_opt-in IN Unknown) AND (lead_source IN Referral - Jake Parker) AND (launch IN Launch_8)\n",
      "INFO:root:Evaluating: (lead_opt-in IN Unknown) AND (lead_source IN Referral - Jake Parker) AND (country IN ['United States of America', 'Canada'])\n",
      "INFO:root:Evaluating: (lead_opt-in IN Unknown) AND (lead_source IN Referral - Jake Parker) AND (country IN ['United States of America', 'Canada']) AND (launch IN Launch_6)\n",
      "INFO:root:Evaluating: (lead_opt-in IN Unknown) AND (lead_source IN Referral - Jake Parker) AND (country IN ['United States of America', 'Canada']) AND (launch IN Launch_7)\n",
      "INFO:root:Evaluating: (lead_opt-in IN Unknown) AND (lead_source IN Referral - Jake Parker) AND (country IN ['United States of America', 'Canada']) AND (launch IN Launch_8)\n",
      "INFO:root:Evaluating: (lead_opt-in IN Unknown) AND (lead_source IN Manual)\n",
      "INFO:root:Evaluating: (lead_opt-in IN Unknown) AND (lead_source IN Manual) AND (launch IN Launch_6)\n"
     ]
    },
    {
     "name": "stdout",
     "output_type": "stream",
     "text": [
      "Progress: 801/1680\r"
     ]
    },
    {
     "name": "stderr",
     "output_type": "stream",
     "text": [
      "INFO:root:Evaluating: (lead_opt-in IN Unknown) AND (lead_source IN Manual) AND (launch IN Launch_7)\n",
      "INFO:root:Evaluating: (lead_opt-in IN Unknown) AND (lead_source IN Manual) AND (launch IN Launch_8)\n",
      "INFO:root:Evaluating: (lead_opt-in IN Unknown) AND (lead_source IN Manual) AND (country IN ['United States of America', 'Canada'])\n",
      "INFO:root:Evaluating: (lead_opt-in IN Unknown) AND (lead_source IN Manual) AND (country IN ['United States of America', 'Canada']) AND (launch IN Launch_6)\n",
      "INFO:root:Evaluating: (lead_opt-in IN Unknown) AND (lead_source IN Manual) AND (country IN ['United States of America', 'Canada']) AND (launch IN Launch_7)\n",
      "INFO:root:Evaluating: (lead_opt-in IN Unknown) AND (lead_source IN Manual) AND (country IN ['United States of America', 'Canada']) AND (launch IN Launch_8)\n",
      "INFO:root:Evaluating: (lead_opt-in IN Unknown) AND (lead_source IN Twitter)\n",
      "INFO:root:Evaluating: (lead_opt-in IN Unknown) AND (lead_source IN Twitter) AND (launch IN Launch_6)\n",
      "INFO:root:Evaluating: (lead_opt-in IN Unknown) AND (lead_source IN Twitter) AND (launch IN Launch_7)\n",
      "INFO:root:Evaluating: (lead_opt-in IN Unknown) AND (lead_source IN Twitter) AND (launch IN Launch_8)\n",
      "INFO:root:Evaluating: (lead_opt-in IN Unknown) AND (lead_source IN Twitter) AND (country IN ['United States of America', 'Canada'])\n",
      "INFO:root:Evaluating: (lead_opt-in IN Unknown) AND (lead_source IN Twitter) AND (country IN ['United States of America', 'Canada']) AND (launch IN Launch_6)\n",
      "INFO:root:Evaluating: (lead_opt-in IN Unknown) AND (lead_source IN Twitter) AND (country IN ['United States of America', 'Canada']) AND (launch IN Launch_7)\n",
      "INFO:root:Evaluating: (lead_opt-in IN Unknown) AND (lead_source IN Twitter) AND (country IN ['United States of America', 'Canada']) AND (launch IN Launch_8)\n",
      "INFO:root:Evaluating: (lead_opt-in IN Unknown) AND (lead_source IN FB Ad)\n",
      "INFO:root:Evaluating: (lead_opt-in IN Unknown) AND (lead_source IN FB Ad) AND (launch IN Launch_6)\n",
      "INFO:root:Evaluating: (lead_opt-in IN Unknown) AND (lead_source IN FB Ad) AND (launch IN Launch_7)\n",
      "INFO:root:Evaluating: (lead_opt-in IN Unknown) AND (lead_source IN FB Ad) AND (launch IN Launch_8)\n",
      "INFO:root:Evaluating: (lead_opt-in IN Unknown) AND (lead_source IN FB Ad) AND (country IN ['United States of America', 'Canada'])\n",
      "INFO:root:Evaluating: (lead_opt-in IN Unknown) AND (lead_source IN FB Ad) AND (country IN ['United States of America', 'Canada']) AND (launch IN Launch_6)\n"
     ]
    },
    {
     "name": "stdout",
     "output_type": "stream",
     "text": [
      "Progress: 821/1680\r"
     ]
    },
    {
     "name": "stderr",
     "output_type": "stream",
     "text": [
      "INFO:root:Evaluating: (lead_opt-in IN Unknown) AND (lead_source IN FB Ad) AND (country IN ['United States of America', 'Canada']) AND (launch IN Launch_7)\n",
      "INFO:root:Evaluating: (lead_opt-in IN Unknown) AND (lead_source IN FB Ad) AND (country IN ['United States of America', 'Canada']) AND (launch IN Launch_8)\n",
      "INFO:root:Evaluating: (lead_opt-in IN Unknown) AND (lead_source IN Facebook)\n",
      "INFO:root:Evaluating: (lead_opt-in IN Unknown) AND (lead_source IN Facebook) AND (launch IN Launch_6)\n",
      "INFO:root:Evaluating: (lead_opt-in IN Unknown) AND (lead_source IN Facebook) AND (launch IN Launch_7)\n",
      "INFO:root:Evaluating: (lead_opt-in IN Unknown) AND (lead_source IN Facebook) AND (launch IN Launch_8)\n",
      "INFO:root:Evaluating: (lead_opt-in IN Unknown) AND (lead_source IN Facebook) AND (country IN ['United States of America', 'Canada'])\n",
      "INFO:root:Evaluating: (lead_opt-in IN Unknown) AND (lead_source IN Facebook) AND (country IN ['United States of America', 'Canada']) AND (launch IN Launch_6)\n",
      "INFO:root:Evaluating: (lead_opt-in IN Unknown) AND (lead_source IN Facebook) AND (country IN ['United States of America', 'Canada']) AND (launch IN Launch_7)\n",
      "INFO:root:Evaluating: (lead_opt-in IN Unknown) AND (lead_source IN Facebook) AND (country IN ['United States of America', 'Canada']) AND (launch IN Launch_8)\n",
      "INFO:root:Evaluating: (lead_opt-in IN Unknown) AND (lead_source IN MailChimp)\n",
      "INFO:root:Evaluating: (lead_opt-in IN Unknown) AND (lead_source IN MailChimp) AND (launch IN Launch_6)\n",
      "INFO:root:Evaluating: (lead_opt-in IN Unknown) AND (lead_source IN MailChimp) AND (launch IN Launch_7)\n",
      "INFO:root:Evaluating: (lead_opt-in IN Unknown) AND (lead_source IN MailChimp) AND (launch IN Launch_8)\n",
      "INFO:root:Evaluating: (lead_opt-in IN Unknown) AND (lead_source IN MailChimp) AND (country IN ['United States of America', 'Canada'])\n",
      "INFO:root:Evaluating: (lead_opt-in IN Unknown) AND (lead_source IN MailChimp) AND (country IN ['United States of America', 'Canada']) AND (launch IN Launch_6)\n",
      "INFO:root:Evaluating: (lead_opt-in IN Unknown) AND (lead_source IN MailChimp) AND (country IN ['United States of America', 'Canada']) AND (launch IN Launch_7)\n",
      "INFO:root:Evaluating: (lead_opt-in IN Unknown) AND (lead_source IN MailChimp) AND (country IN ['United States of America', 'Canada']) AND (launch IN Launch_8)\n",
      "INFO:root:Evaluating: (lead_opt-in IN Unknown) AND (lead_source IN Unknown)\n",
      "INFO:root:Evaluating: (lead_opt-in IN Unknown) AND (lead_source IN Unknown) AND (launch IN Launch_6)\n"
     ]
    },
    {
     "name": "stdout",
     "output_type": "stream",
     "text": [
      "Progress: 841/1680\r"
     ]
    },
    {
     "name": "stderr",
     "output_type": "stream",
     "text": [
      "INFO:root:Evaluating: (lead_opt-in IN Unknown) AND (lead_source IN Unknown) AND (launch IN Launch_7)\n",
      "INFO:root:Evaluating: (lead_opt-in IN Unknown) AND (lead_source IN Unknown) AND (launch IN Launch_8)\n",
      "INFO:root:Evaluating: (lead_opt-in IN Unknown) AND (lead_source IN Unknown) AND (country IN ['United States of America', 'Canada'])\n",
      "INFO:root:Evaluating: (lead_opt-in IN Unknown) AND (lead_source IN Unknown) AND (country IN ['United States of America', 'Canada']) AND (launch IN Launch_6)\n",
      "INFO:root:Evaluating: (lead_opt-in IN Unknown) AND (lead_source IN Unknown) AND (country IN ['United States of America', 'Canada']) AND (launch IN Launch_7)\n",
      "INFO:root:Evaluating: (lead_opt-in IN Unknown) AND (lead_source IN Unknown) AND (country IN ['United States of America', 'Canada']) AND (launch IN Launch_8)\n",
      "INFO:root:Evaluating: (lead_opt-in IN Unknown) AND (lead_source IN None)\n",
      "INFO:root:Evaluating: (lead_opt-in IN Unknown) AND (lead_source IN None) AND (launch IN Launch_6)\n",
      "INFO:root:Evaluating: (lead_opt-in IN Unknown) AND (lead_source IN None) AND (launch IN Launch_7)\n",
      "INFO:root:Evaluating: (lead_opt-in IN Unknown) AND (lead_source IN None) AND (launch IN Launch_8)\n",
      "INFO:root:Evaluating: (lead_opt-in IN Unknown) AND (lead_source IN None) AND (country IN ['United States of America', 'Canada'])\n",
      "INFO:root:Evaluating: (lead_opt-in IN Unknown) AND (lead_source IN None) AND (country IN ['United States of America', 'Canada']) AND (launch IN Launch_6)\n",
      "INFO:root:Evaluating: (lead_opt-in IN Unknown) AND (lead_source IN None) AND (country IN ['United States of America', 'Canada']) AND (launch IN Launch_7)\n",
      "INFO:root:Evaluating: (lead_opt-in IN Unknown) AND (lead_source IN None) AND (country IN ['United States of America', 'Canada']) AND (launch IN Launch_8)\n",
      "INFO:root:Evaluating: (lead_opt-in IN Unknown) AND (lead_source IN Medium)\n",
      "INFO:root:Evaluating: (lead_opt-in IN Unknown) AND (lead_source IN Medium) AND (launch IN Launch_6)\n",
      "INFO:root:Evaluating: (lead_opt-in IN Unknown) AND (lead_source IN Medium) AND (launch IN Launch_7)\n",
      "INFO:root:Evaluating: (lead_opt-in IN Unknown) AND (lead_source IN Medium) AND (launch IN Launch_8)\n",
      "INFO:root:Evaluating: (lead_opt-in IN Unknown) AND (lead_source IN Medium) AND (country IN ['United States of America', 'Canada'])\n",
      "INFO:root:Evaluating: (lead_opt-in IN Unknown) AND (lead_source IN Medium) AND (country IN ['United States of America', 'Canada']) AND (launch IN Launch_6)\n"
     ]
    },
    {
     "name": "stdout",
     "output_type": "stream",
     "text": [
      "Progress: 861/1680\r"
     ]
    },
    {
     "name": "stderr",
     "output_type": "stream",
     "text": [
      "INFO:root:Evaluating: (lead_opt-in IN Unknown) AND (lead_source IN Medium) AND (country IN ['United States of America', 'Canada']) AND (launch IN Launch_7)\n",
      "INFO:root:Evaluating: (lead_opt-in IN Unknown) AND (lead_source IN Medium) AND (country IN ['United States of America', 'Canada']) AND (launch IN Launch_8)\n",
      "INFO:root:Evaluating: (lead_opt-in IN Unknown) AND (lead_source IN MCS Page)\n",
      "INFO:root:Evaluating: (lead_opt-in IN Unknown) AND (lead_source IN MCS Page) AND (launch IN Launch_6)\n",
      "INFO:root:Evaluating: (lead_opt-in IN Unknown) AND (lead_source IN MCS Page) AND (launch IN Launch_7)\n",
      "INFO:root:Evaluating: (lead_opt-in IN Unknown) AND (lead_source IN MCS Page) AND (launch IN Launch_8)\n",
      "INFO:root:Evaluating: (lead_opt-in IN Unknown) AND (lead_source IN MCS Page) AND (country IN ['United States of America', 'Canada'])\n",
      "INFO:root:Evaluating: (lead_opt-in IN Unknown) AND (lead_source IN MCS Page) AND (country IN ['United States of America', 'Canada']) AND (launch IN Launch_6)\n",
      "INFO:root:Evaluating: (lead_opt-in IN Unknown) AND (lead_source IN MCS Page) AND (country IN ['United States of America', 'Canada']) AND (launch IN Launch_7)\n",
      "INFO:root:Evaluating: (lead_opt-in IN Unknown) AND (lead_source IN MCS Page) AND (country IN ['United States of America', 'Canada']) AND (launch IN Launch_8)\n",
      "INFO:root:Evaluating: (lead_opt-in IN Unknown) AND (lead_source IN Google Ad)\n",
      "INFO:root:Evaluating: (lead_opt-in IN Unknown) AND (lead_source IN Google Ad) AND (launch IN Launch_6)\n",
      "INFO:root:Evaluating: (lead_opt-in IN Unknown) AND (lead_source IN Google Ad) AND (launch IN Launch_7)\n",
      "INFO:root:Evaluating: (lead_opt-in IN Unknown) AND (lead_source IN Google Ad) AND (launch IN Launch_8)\n",
      "INFO:root:Evaluating: (lead_opt-in IN Unknown) AND (lead_source IN Google Ad) AND (country IN ['United States of America', 'Canada'])\n",
      "INFO:root:Evaluating: (lead_opt-in IN Unknown) AND (lead_source IN Google Ad) AND (country IN ['United States of America', 'Canada']) AND (launch IN Launch_6)\n",
      "INFO:root:Evaluating: (lead_opt-in IN Unknown) AND (lead_source IN Google Ad) AND (country IN ['United States of America', 'Canada']) AND (launch IN Launch_7)\n",
      "INFO:root:Evaluating: (lead_opt-in IN Unknown) AND (lead_source IN Google Ad) AND (country IN ['United States of America', 'Canada']) AND (launch IN Launch_8)\n",
      "INFO:root:Evaluating: (lead_opt-in IN Unknown) AND (lead_source IN Skillshare)\n",
      "INFO:root:Evaluating: (lead_opt-in IN Unknown) AND (lead_source IN Skillshare) AND (launch IN Launch_6)\n"
     ]
    },
    {
     "name": "stdout",
     "output_type": "stream",
     "text": [
      "Progress: 881/1680\r"
     ]
    },
    {
     "name": "stderr",
     "output_type": "stream",
     "text": [
      "INFO:root:Evaluating: (lead_opt-in IN Unknown) AND (lead_source IN Skillshare) AND (launch IN Launch_7)\n",
      "INFO:root:Evaluating: (lead_opt-in IN Unknown) AND (lead_source IN Skillshare) AND (launch IN Launch_8)\n",
      "INFO:root:Evaluating: (lead_opt-in IN Unknown) AND (lead_source IN Skillshare) AND (country IN ['United States of America', 'Canada'])\n",
      "INFO:root:Evaluating: (lead_opt-in IN Unknown) AND (lead_source IN Skillshare) AND (country IN ['United States of America', 'Canada']) AND (launch IN Launch_6)\n",
      "INFO:root:Evaluating: (lead_opt-in IN Unknown) AND (lead_source IN Skillshare) AND (country IN ['United States of America', 'Canada']) AND (launch IN Launch_7)\n",
      "INFO:root:Evaluating: (lead_opt-in IN Unknown) AND (lead_source IN Skillshare) AND (country IN ['United States of America', 'Canada']) AND (launch IN Launch_8)\n",
      "INFO:root:Evaluating: (lead_opt-in IN Unknown) AND (lead_source IN Instagram)\n",
      "INFO:root:Evaluating: (lead_opt-in IN Unknown) AND (lead_source IN Instagram) AND (launch IN Launch_6)\n",
      "INFO:root:Evaluating: (lead_opt-in IN Unknown) AND (lead_source IN Instagram) AND (launch IN Launch_7)\n",
      "INFO:root:Evaluating: (lead_opt-in IN Unknown) AND (lead_source IN Instagram) AND (launch IN Launch_8)\n",
      "INFO:root:Evaluating: (lead_opt-in IN Unknown) AND (lead_source IN Instagram) AND (country IN ['United States of America', 'Canada'])\n",
      "INFO:root:Evaluating: (lead_opt-in IN Unknown) AND (lead_source IN Instagram) AND (country IN ['United States of America', 'Canada']) AND (launch IN Launch_6)\n",
      "INFO:root:Evaluating: (lead_opt-in IN Unknown) AND (lead_source IN Instagram) AND (country IN ['United States of America', 'Canada']) AND (launch IN Launch_7)\n",
      "INFO:root:Evaluating: (lead_opt-in IN Unknown) AND (lead_source IN Instagram) AND (country IN ['United States of America', 'Canada']) AND (launch IN Launch_8)\n",
      "INFO:root:Evaluating: (lead_opt-in IN Sketchbook Mini-course)\n",
      "INFO:root:Evaluating: (lead_opt-in IN Sketchbook Mini-course) AND (launch IN Launch_6)\n",
      "INFO:root:Evaluating: (lead_opt-in IN Sketchbook Mini-course) AND (launch IN Launch_7)\n",
      "INFO:root:Evaluating: (lead_opt-in IN Sketchbook Mini-course) AND (launch IN Launch_8)\n",
      "INFO:root:Evaluating: (lead_opt-in IN Sketchbook Mini-course) AND (country IN ['United States of America', 'Canada'])\n",
      "INFO:root:Evaluating: (lead_opt-in IN Sketchbook Mini-course) AND (country IN ['United States of America', 'Canada']) AND (launch IN Launch_6)\n"
     ]
    },
    {
     "name": "stdout",
     "output_type": "stream",
     "text": [
      "Progress: 901/1680\r"
     ]
    },
    {
     "name": "stderr",
     "output_type": "stream",
     "text": [
      "INFO:root:Evaluating: (lead_opt-in IN Sketchbook Mini-course) AND (country IN ['United States of America', 'Canada']) AND (launch IN Launch_7)\n",
      "INFO:root:Evaluating: (lead_opt-in IN Sketchbook Mini-course) AND (country IN ['United States of America', 'Canada']) AND (launch IN Launch_8)\n",
      "INFO:root:Evaluating: (lead_opt-in IN Sketchbook Mini-course) AND (lead_source IN Referral - Jake Parker)\n",
      "INFO:root:Evaluating: (lead_opt-in IN Sketchbook Mini-course) AND (lead_source IN Referral - Jake Parker) AND (launch IN Launch_6)\n",
      "INFO:root:Evaluating: (lead_opt-in IN Sketchbook Mini-course) AND (lead_source IN Referral - Jake Parker) AND (launch IN Launch_7)\n",
      "INFO:root:Evaluating: (lead_opt-in IN Sketchbook Mini-course) AND (lead_source IN Referral - Jake Parker) AND (launch IN Launch_8)\n",
      "INFO:root:Evaluating: (lead_opt-in IN Sketchbook Mini-course) AND (lead_source IN Referral - Jake Parker) AND (country IN ['United States of America', 'Canada'])\n",
      "INFO:root:Evaluating: (lead_opt-in IN Sketchbook Mini-course) AND (lead_source IN Referral - Jake Parker) AND (country IN ['United States of America', 'Canada']) AND (launch IN Launch_6)\n",
      "INFO:root:Evaluating: (lead_opt-in IN Sketchbook Mini-course) AND (lead_source IN Referral - Jake Parker) AND (country IN ['United States of America', 'Canada']) AND (launch IN Launch_7)\n",
      "INFO:root:Evaluating: (lead_opt-in IN Sketchbook Mini-course) AND (lead_source IN Referral - Jake Parker) AND (country IN ['United States of America', 'Canada']) AND (launch IN Launch_8)\n",
      "INFO:root:Evaluating: (lead_opt-in IN Sketchbook Mini-course) AND (lead_source IN Manual)\n",
      "INFO:root:Evaluating: (lead_opt-in IN Sketchbook Mini-course) AND (lead_source IN Manual) AND (launch IN Launch_6)\n",
      "INFO:root:Evaluating: (lead_opt-in IN Sketchbook Mini-course) AND (lead_source IN Manual) AND (launch IN Launch_7)\n",
      "INFO:root:Evaluating: (lead_opt-in IN Sketchbook Mini-course) AND (lead_source IN Manual) AND (launch IN Launch_8)\n",
      "INFO:root:Evaluating: (lead_opt-in IN Sketchbook Mini-course) AND (lead_source IN Manual) AND (country IN ['United States of America', 'Canada'])\n",
      "INFO:root:Evaluating: (lead_opt-in IN Sketchbook Mini-course) AND (lead_source IN Manual) AND (country IN ['United States of America', 'Canada']) AND (launch IN Launch_6)\n",
      "INFO:root:Evaluating: (lead_opt-in IN Sketchbook Mini-course) AND (lead_source IN Manual) AND (country IN ['United States of America', 'Canada']) AND (launch IN Launch_7)\n",
      "INFO:root:Evaluating: (lead_opt-in IN Sketchbook Mini-course) AND (lead_source IN Manual) AND (country IN ['United States of America', 'Canada']) AND (launch IN Launch_8)\n",
      "INFO:root:Evaluating: (lead_opt-in IN Sketchbook Mini-course) AND (lead_source IN Twitter)\n",
      "INFO:root:Evaluating: (lead_opt-in IN Sketchbook Mini-course) AND (lead_source IN Twitter) AND (launch IN Launch_6)\n"
     ]
    },
    {
     "name": "stdout",
     "output_type": "stream",
     "text": [
      "Progress: 921/1680\r"
     ]
    },
    {
     "name": "stderr",
     "output_type": "stream",
     "text": [
      "INFO:root:Evaluating: (lead_opt-in IN Sketchbook Mini-course) AND (lead_source IN Twitter) AND (launch IN Launch_7)\n",
      "INFO:root:Evaluating: (lead_opt-in IN Sketchbook Mini-course) AND (lead_source IN Twitter) AND (launch IN Launch_8)\n",
      "INFO:root:Evaluating: (lead_opt-in IN Sketchbook Mini-course) AND (lead_source IN Twitter) AND (country IN ['United States of America', 'Canada'])\n",
      "INFO:root:Evaluating: (lead_opt-in IN Sketchbook Mini-course) AND (lead_source IN Twitter) AND (country IN ['United States of America', 'Canada']) AND (launch IN Launch_6)\n",
      "INFO:root:Evaluating: (lead_opt-in IN Sketchbook Mini-course) AND (lead_source IN Twitter) AND (country IN ['United States of America', 'Canada']) AND (launch IN Launch_7)\n",
      "INFO:root:Evaluating: (lead_opt-in IN Sketchbook Mini-course) AND (lead_source IN Twitter) AND (country IN ['United States of America', 'Canada']) AND (launch IN Launch_8)\n",
      "INFO:root:Evaluating: (lead_opt-in IN Sketchbook Mini-course) AND (lead_source IN FB Ad)\n",
      "INFO:root:Evaluating: (lead_opt-in IN Sketchbook Mini-course) AND (lead_source IN FB Ad) AND (launch IN Launch_6)\n",
      "INFO:root:Evaluating: (lead_opt-in IN Sketchbook Mini-course) AND (lead_source IN FB Ad) AND (launch IN Launch_7)\n",
      "INFO:root:Evaluating: (lead_opt-in IN Sketchbook Mini-course) AND (lead_source IN FB Ad) AND (launch IN Launch_8)\n",
      "INFO:root:Evaluating: (lead_opt-in IN Sketchbook Mini-course) AND (lead_source IN FB Ad) AND (country IN ['United States of America', 'Canada'])\n",
      "INFO:root:Evaluating: (lead_opt-in IN Sketchbook Mini-course) AND (lead_source IN FB Ad) AND (country IN ['United States of America', 'Canada']) AND (launch IN Launch_6)\n",
      "INFO:root:Evaluating: (lead_opt-in IN Sketchbook Mini-course) AND (lead_source IN FB Ad) AND (country IN ['United States of America', 'Canada']) AND (launch IN Launch_7)\n",
      "INFO:root:Evaluating: (lead_opt-in IN Sketchbook Mini-course) AND (lead_source IN FB Ad) AND (country IN ['United States of America', 'Canada']) AND (launch IN Launch_8)\n",
      "INFO:root:Evaluating: (lead_opt-in IN Sketchbook Mini-course) AND (lead_source IN Facebook)\n",
      "INFO:root:Evaluating: (lead_opt-in IN Sketchbook Mini-course) AND (lead_source IN Facebook) AND (launch IN Launch_6)\n",
      "INFO:root:Evaluating: (lead_opt-in IN Sketchbook Mini-course) AND (lead_source IN Facebook) AND (launch IN Launch_7)\n",
      "INFO:root:Evaluating: (lead_opt-in IN Sketchbook Mini-course) AND (lead_source IN Facebook) AND (launch IN Launch_8)\n",
      "INFO:root:Evaluating: (lead_opt-in IN Sketchbook Mini-course) AND (lead_source IN Facebook) AND (country IN ['United States of America', 'Canada'])\n",
      "INFO:root:Evaluating: (lead_opt-in IN Sketchbook Mini-course) AND (lead_source IN Facebook) AND (country IN ['United States of America', 'Canada']) AND (launch IN Launch_6)\n"
     ]
    },
    {
     "name": "stdout",
     "output_type": "stream",
     "text": [
      "Progress: 941/1680\r"
     ]
    },
    {
     "name": "stderr",
     "output_type": "stream",
     "text": [
      "INFO:root:Evaluating: (lead_opt-in IN Sketchbook Mini-course) AND (lead_source IN Facebook) AND (country IN ['United States of America', 'Canada']) AND (launch IN Launch_7)\n",
      "INFO:root:Evaluating: (lead_opt-in IN Sketchbook Mini-course) AND (lead_source IN Facebook) AND (country IN ['United States of America', 'Canada']) AND (launch IN Launch_8)\n",
      "INFO:root:Evaluating: (lead_opt-in IN Sketchbook Mini-course) AND (lead_source IN MailChimp)\n",
      "INFO:root:Evaluating: (lead_opt-in IN Sketchbook Mini-course) AND (lead_source IN MailChimp) AND (launch IN Launch_6)\n",
      "INFO:root:Evaluating: (lead_opt-in IN Sketchbook Mini-course) AND (lead_source IN MailChimp) AND (launch IN Launch_7)\n",
      "INFO:root:Evaluating: (lead_opt-in IN Sketchbook Mini-course) AND (lead_source IN MailChimp) AND (launch IN Launch_8)\n",
      "INFO:root:Evaluating: (lead_opt-in IN Sketchbook Mini-course) AND (lead_source IN MailChimp) AND (country IN ['United States of America', 'Canada'])\n",
      "INFO:root:Evaluating: (lead_opt-in IN Sketchbook Mini-course) AND (lead_source IN MailChimp) AND (country IN ['United States of America', 'Canada']) AND (launch IN Launch_6)\n",
      "INFO:root:Evaluating: (lead_opt-in IN Sketchbook Mini-course) AND (lead_source IN MailChimp) AND (country IN ['United States of America', 'Canada']) AND (launch IN Launch_7)\n",
      "INFO:root:Evaluating: (lead_opt-in IN Sketchbook Mini-course) AND (lead_source IN MailChimp) AND (country IN ['United States of America', 'Canada']) AND (launch IN Launch_8)\n",
      "INFO:root:Evaluating: (lead_opt-in IN Sketchbook Mini-course) AND (lead_source IN Unknown)\n",
      "INFO:root:Evaluating: (lead_opt-in IN Sketchbook Mini-course) AND (lead_source IN Unknown) AND (launch IN Launch_6)\n",
      "INFO:root:Evaluating: (lead_opt-in IN Sketchbook Mini-course) AND (lead_source IN Unknown) AND (launch IN Launch_7)\n",
      "INFO:root:Evaluating: (lead_opt-in IN Sketchbook Mini-course) AND (lead_source IN Unknown) AND (launch IN Launch_8)\n",
      "INFO:root:Evaluating: (lead_opt-in IN Sketchbook Mini-course) AND (lead_source IN Unknown) AND (country IN ['United States of America', 'Canada'])\n",
      "INFO:root:Evaluating: (lead_opt-in IN Sketchbook Mini-course) AND (lead_source IN Unknown) AND (country IN ['United States of America', 'Canada']) AND (launch IN Launch_6)\n",
      "INFO:root:Evaluating: (lead_opt-in IN Sketchbook Mini-course) AND (lead_source IN Unknown) AND (country IN ['United States of America', 'Canada']) AND (launch IN Launch_7)\n",
      "INFO:root:Evaluating: (lead_opt-in IN Sketchbook Mini-course) AND (lead_source IN Unknown) AND (country IN ['United States of America', 'Canada']) AND (launch IN Launch_8)\n",
      "INFO:root:Evaluating: (lead_opt-in IN Sketchbook Mini-course) AND (lead_source IN None)\n",
      "INFO:root:Evaluating: (lead_opt-in IN Sketchbook Mini-course) AND (lead_source IN None) AND (launch IN Launch_6)\n"
     ]
    },
    {
     "name": "stdout",
     "output_type": "stream",
     "text": [
      "Progress: 961/1680\r"
     ]
    },
    {
     "name": "stderr",
     "output_type": "stream",
     "text": [
      "INFO:root:Evaluating: (lead_opt-in IN Sketchbook Mini-course) AND (lead_source IN None) AND (launch IN Launch_7)\n",
      "INFO:root:Evaluating: (lead_opt-in IN Sketchbook Mini-course) AND (lead_source IN None) AND (launch IN Launch_8)\n",
      "INFO:root:Evaluating: (lead_opt-in IN Sketchbook Mini-course) AND (lead_source IN None) AND (country IN ['United States of America', 'Canada'])\n",
      "INFO:root:Evaluating: (lead_opt-in IN Sketchbook Mini-course) AND (lead_source IN None) AND (country IN ['United States of America', 'Canada']) AND (launch IN Launch_6)\n",
      "INFO:root:Evaluating: (lead_opt-in IN Sketchbook Mini-course) AND (lead_source IN None) AND (country IN ['United States of America', 'Canada']) AND (launch IN Launch_7)\n",
      "INFO:root:Evaluating: (lead_opt-in IN Sketchbook Mini-course) AND (lead_source IN None) AND (country IN ['United States of America', 'Canada']) AND (launch IN Launch_8)\n",
      "INFO:root:Evaluating: (lead_opt-in IN Sketchbook Mini-course) AND (lead_source IN Medium)\n",
      "INFO:root:Evaluating: (lead_opt-in IN Sketchbook Mini-course) AND (lead_source IN Medium) AND (launch IN Launch_6)\n",
      "INFO:root:Evaluating: (lead_opt-in IN Sketchbook Mini-course) AND (lead_source IN Medium) AND (launch IN Launch_7)\n",
      "INFO:root:Evaluating: (lead_opt-in IN Sketchbook Mini-course) AND (lead_source IN Medium) AND (launch IN Launch_8)\n",
      "INFO:root:Evaluating: (lead_opt-in IN Sketchbook Mini-course) AND (lead_source IN Medium) AND (country IN ['United States of America', 'Canada'])\n",
      "INFO:root:Evaluating: (lead_opt-in IN Sketchbook Mini-course) AND (lead_source IN Medium) AND (country IN ['United States of America', 'Canada']) AND (launch IN Launch_6)\n",
      "INFO:root:Evaluating: (lead_opt-in IN Sketchbook Mini-course) AND (lead_source IN Medium) AND (country IN ['United States of America', 'Canada']) AND (launch IN Launch_7)\n",
      "INFO:root:Evaluating: (lead_opt-in IN Sketchbook Mini-course) AND (lead_source IN Medium) AND (country IN ['United States of America', 'Canada']) AND (launch IN Launch_8)\n",
      "INFO:root:Evaluating: (lead_opt-in IN Sketchbook Mini-course) AND (lead_source IN MCS Page)\n",
      "INFO:root:Evaluating: (lead_opt-in IN Sketchbook Mini-course) AND (lead_source IN MCS Page) AND (launch IN Launch_6)\n",
      "INFO:root:Evaluating: (lead_opt-in IN Sketchbook Mini-course) AND (lead_source IN MCS Page) AND (launch IN Launch_7)\n",
      "INFO:root:Evaluating: (lead_opt-in IN Sketchbook Mini-course) AND (lead_source IN MCS Page) AND (launch IN Launch_8)\n",
      "INFO:root:Evaluating: (lead_opt-in IN Sketchbook Mini-course) AND (lead_source IN MCS Page) AND (country IN ['United States of America', 'Canada'])\n",
      "INFO:root:Evaluating: (lead_opt-in IN Sketchbook Mini-course) AND (lead_source IN MCS Page) AND (country IN ['United States of America', 'Canada']) AND (launch IN Launch_6)\n"
     ]
    },
    {
     "name": "stdout",
     "output_type": "stream",
     "text": [
      "Progress: 981/1680\r"
     ]
    },
    {
     "name": "stderr",
     "output_type": "stream",
     "text": [
      "INFO:root:Evaluating: (lead_opt-in IN Sketchbook Mini-course) AND (lead_source IN MCS Page) AND (country IN ['United States of America', 'Canada']) AND (launch IN Launch_7)\n",
      "INFO:root:Evaluating: (lead_opt-in IN Sketchbook Mini-course) AND (lead_source IN MCS Page) AND (country IN ['United States of America', 'Canada']) AND (launch IN Launch_8)\n",
      "INFO:root:Evaluating: (lead_opt-in IN Sketchbook Mini-course) AND (lead_source IN Google Ad)\n",
      "INFO:root:Evaluating: (lead_opt-in IN Sketchbook Mini-course) AND (lead_source IN Google Ad) AND (launch IN Launch_6)\n",
      "INFO:root:Evaluating: (lead_opt-in IN Sketchbook Mini-course) AND (lead_source IN Google Ad) AND (launch IN Launch_7)\n",
      "INFO:root:Evaluating: (lead_opt-in IN Sketchbook Mini-course) AND (lead_source IN Google Ad) AND (launch IN Launch_8)\n",
      "INFO:root:Evaluating: (lead_opt-in IN Sketchbook Mini-course) AND (lead_source IN Google Ad) AND (country IN ['United States of America', 'Canada'])\n",
      "INFO:root:Evaluating: (lead_opt-in IN Sketchbook Mini-course) AND (lead_source IN Google Ad) AND (country IN ['United States of America', 'Canada']) AND (launch IN Launch_6)\n",
      "INFO:root:Evaluating: (lead_opt-in IN Sketchbook Mini-course) AND (lead_source IN Google Ad) AND (country IN ['United States of America', 'Canada']) AND (launch IN Launch_7)\n",
      "INFO:root:Evaluating: (lead_opt-in IN Sketchbook Mini-course) AND (lead_source IN Google Ad) AND (country IN ['United States of America', 'Canada']) AND (launch IN Launch_8)\n",
      "INFO:root:Evaluating: (lead_opt-in IN Sketchbook Mini-course) AND (lead_source IN Skillshare)\n",
      "INFO:root:Evaluating: (lead_opt-in IN Sketchbook Mini-course) AND (lead_source IN Skillshare) AND (launch IN Launch_6)\n",
      "INFO:root:Evaluating: (lead_opt-in IN Sketchbook Mini-course) AND (lead_source IN Skillshare) AND (launch IN Launch_7)\n",
      "INFO:root:Evaluating: (lead_opt-in IN Sketchbook Mini-course) AND (lead_source IN Skillshare) AND (launch IN Launch_8)\n",
      "INFO:root:Evaluating: (lead_opt-in IN Sketchbook Mini-course) AND (lead_source IN Skillshare) AND (country IN ['United States of America', 'Canada'])\n",
      "INFO:root:Evaluating: (lead_opt-in IN Sketchbook Mini-course) AND (lead_source IN Skillshare) AND (country IN ['United States of America', 'Canada']) AND (launch IN Launch_6)\n",
      "INFO:root:Evaluating: (lead_opt-in IN Sketchbook Mini-course) AND (lead_source IN Skillshare) AND (country IN ['United States of America', 'Canada']) AND (launch IN Launch_7)\n",
      "INFO:root:Evaluating: (lead_opt-in IN Sketchbook Mini-course) AND (lead_source IN Skillshare) AND (country IN ['United States of America', 'Canada']) AND (launch IN Launch_8)\n",
      "INFO:root:Evaluating: (lead_opt-in IN Sketchbook Mini-course) AND (lead_source IN Instagram)\n",
      "INFO:root:Evaluating: (lead_opt-in IN Sketchbook Mini-course) AND (lead_source IN Instagram) AND (launch IN Launch_6)\n"
     ]
    },
    {
     "name": "stdout",
     "output_type": "stream",
     "text": [
      "Progress: 1001/1680\r"
     ]
    },
    {
     "name": "stderr",
     "output_type": "stream",
     "text": [
      "INFO:root:Evaluating: (lead_opt-in IN Sketchbook Mini-course) AND (lead_source IN Instagram) AND (launch IN Launch_7)\n",
      "INFO:root:Evaluating: (lead_opt-in IN Sketchbook Mini-course) AND (lead_source IN Instagram) AND (launch IN Launch_8)\n",
      "INFO:root:Evaluating: (lead_opt-in IN Sketchbook Mini-course) AND (lead_source IN Instagram) AND (country IN ['United States of America', 'Canada'])\n",
      "INFO:root:Evaluating: (lead_opt-in IN Sketchbook Mini-course) AND (lead_source IN Instagram) AND (country IN ['United States of America', 'Canada']) AND (launch IN Launch_6)\n",
      "INFO:root:Evaluating: (lead_opt-in IN Sketchbook Mini-course) AND (lead_source IN Instagram) AND (country IN ['United States of America', 'Canada']) AND (launch IN Launch_7)\n",
      "INFO:root:Evaluating: (lead_opt-in IN Sketchbook Mini-course) AND (lead_source IN Instagram) AND (country IN ['United States of America', 'Canada']) AND (launch IN Launch_8)\n",
      "INFO:root:Evaluating: (lead_opt-in IN WAF ebook)\n",
      "INFO:root:Evaluating: (lead_opt-in IN WAF ebook) AND (launch IN Launch_6)\n",
      "INFO:root:Evaluating: (lead_opt-in IN WAF ebook) AND (launch IN Launch_7)\n",
      "INFO:root:Evaluating: (lead_opt-in IN WAF ebook) AND (launch IN Launch_8)\n",
      "INFO:root:Evaluating: (lead_opt-in IN WAF ebook) AND (country IN ['United States of America', 'Canada'])\n",
      "INFO:root:Evaluating: (lead_opt-in IN WAF ebook) AND (country IN ['United States of America', 'Canada']) AND (launch IN Launch_6)\n",
      "INFO:root:Evaluating: (lead_opt-in IN WAF ebook) AND (country IN ['United States of America', 'Canada']) AND (launch IN Launch_7)\n",
      "INFO:root:Evaluating: (lead_opt-in IN WAF ebook) AND (country IN ['United States of America', 'Canada']) AND (launch IN Launch_8)\n",
      "INFO:root:Evaluating: (lead_opt-in IN WAF ebook) AND (lead_source IN Referral - Jake Parker)\n",
      "INFO:root:Evaluating: (lead_opt-in IN WAF ebook) AND (lead_source IN Referral - Jake Parker) AND (launch IN Launch_6)\n",
      "INFO:root:Evaluating: (lead_opt-in IN WAF ebook) AND (lead_source IN Referral - Jake Parker) AND (launch IN Launch_7)\n",
      "INFO:root:Evaluating: (lead_opt-in IN WAF ebook) AND (lead_source IN Referral - Jake Parker) AND (launch IN Launch_8)\n",
      "INFO:root:Evaluating: (lead_opt-in IN WAF ebook) AND (lead_source IN Referral - Jake Parker) AND (country IN ['United States of America', 'Canada'])\n",
      "INFO:root:Evaluating: (lead_opt-in IN WAF ebook) AND (lead_source IN Referral - Jake Parker) AND (country IN ['United States of America', 'Canada']) AND (launch IN Launch_6)\n"
     ]
    },
    {
     "name": "stdout",
     "output_type": "stream",
     "text": [
      "Progress: 1021/1680\r"
     ]
    },
    {
     "name": "stderr",
     "output_type": "stream",
     "text": [
      "INFO:root:Evaluating: (lead_opt-in IN WAF ebook) AND (lead_source IN Referral - Jake Parker) AND (country IN ['United States of America', 'Canada']) AND (launch IN Launch_7)\n",
      "INFO:root:Evaluating: (lead_opt-in IN WAF ebook) AND (lead_source IN Referral - Jake Parker) AND (country IN ['United States of America', 'Canada']) AND (launch IN Launch_8)\n",
      "INFO:root:Evaluating: (lead_opt-in IN WAF ebook) AND (lead_source IN Manual)\n",
      "INFO:root:Evaluating: (lead_opt-in IN WAF ebook) AND (lead_source IN Manual) AND (launch IN Launch_6)\n",
      "INFO:root:Evaluating: (lead_opt-in IN WAF ebook) AND (lead_source IN Manual) AND (launch IN Launch_7)\n",
      "INFO:root:Evaluating: (lead_opt-in IN WAF ebook) AND (lead_source IN Manual) AND (launch IN Launch_8)\n",
      "INFO:root:Evaluating: (lead_opt-in IN WAF ebook) AND (lead_source IN Manual) AND (country IN ['United States of America', 'Canada'])\n",
      "INFO:root:Evaluating: (lead_opt-in IN WAF ebook) AND (lead_source IN Manual) AND (country IN ['United States of America', 'Canada']) AND (launch IN Launch_6)\n",
      "INFO:root:Evaluating: (lead_opt-in IN WAF ebook) AND (lead_source IN Manual) AND (country IN ['United States of America', 'Canada']) AND (launch IN Launch_7)\n",
      "INFO:root:Evaluating: (lead_opt-in IN WAF ebook) AND (lead_source IN Manual) AND (country IN ['United States of America', 'Canada']) AND (launch IN Launch_8)\n",
      "INFO:root:Evaluating: (lead_opt-in IN WAF ebook) AND (lead_source IN Twitter)\n",
      "INFO:root:Evaluating: (lead_opt-in IN WAF ebook) AND (lead_source IN Twitter) AND (launch IN Launch_6)\n",
      "INFO:root:Evaluating: (lead_opt-in IN WAF ebook) AND (lead_source IN Twitter) AND (launch IN Launch_7)\n",
      "INFO:root:Evaluating: (lead_opt-in IN WAF ebook) AND (lead_source IN Twitter) AND (launch IN Launch_8)\n",
      "INFO:root:Evaluating: (lead_opt-in IN WAF ebook) AND (lead_source IN Twitter) AND (country IN ['United States of America', 'Canada'])\n",
      "INFO:root:Evaluating: (lead_opt-in IN WAF ebook) AND (lead_source IN Twitter) AND (country IN ['United States of America', 'Canada']) AND (launch IN Launch_6)\n",
      "INFO:root:Evaluating: (lead_opt-in IN WAF ebook) AND (lead_source IN Twitter) AND (country IN ['United States of America', 'Canada']) AND (launch IN Launch_7)\n",
      "INFO:root:Evaluating: (lead_opt-in IN WAF ebook) AND (lead_source IN Twitter) AND (country IN ['United States of America', 'Canada']) AND (launch IN Launch_8)\n",
      "INFO:root:Evaluating: (lead_opt-in IN WAF ebook) AND (lead_source IN FB Ad)\n",
      "INFO:root:Evaluating: (lead_opt-in IN WAF ebook) AND (lead_source IN FB Ad) AND (launch IN Launch_6)\n"
     ]
    },
    {
     "name": "stdout",
     "output_type": "stream",
     "text": [
      "Progress: 1041/1680\r"
     ]
    },
    {
     "name": "stderr",
     "output_type": "stream",
     "text": [
      "INFO:root:Evaluating: (lead_opt-in IN WAF ebook) AND (lead_source IN FB Ad) AND (launch IN Launch_7)\n",
      "INFO:root:Evaluating: (lead_opt-in IN WAF ebook) AND (lead_source IN FB Ad) AND (launch IN Launch_8)\n",
      "INFO:root:Evaluating: (lead_opt-in IN WAF ebook) AND (lead_source IN FB Ad) AND (country IN ['United States of America', 'Canada'])\n",
      "INFO:root:Evaluating: (lead_opt-in IN WAF ebook) AND (lead_source IN FB Ad) AND (country IN ['United States of America', 'Canada']) AND (launch IN Launch_6)\n",
      "INFO:root:Evaluating: (lead_opt-in IN WAF ebook) AND (lead_source IN FB Ad) AND (country IN ['United States of America', 'Canada']) AND (launch IN Launch_7)\n",
      "INFO:root:Evaluating: (lead_opt-in IN WAF ebook) AND (lead_source IN FB Ad) AND (country IN ['United States of America', 'Canada']) AND (launch IN Launch_8)\n",
      "INFO:root:Evaluating: (lead_opt-in IN WAF ebook) AND (lead_source IN Facebook)\n",
      "INFO:root:Evaluating: (lead_opt-in IN WAF ebook) AND (lead_source IN Facebook) AND (launch IN Launch_6)\n",
      "INFO:root:Evaluating: (lead_opt-in IN WAF ebook) AND (lead_source IN Facebook) AND (launch IN Launch_7)\n",
      "INFO:root:Evaluating: (lead_opt-in IN WAF ebook) AND (lead_source IN Facebook) AND (launch IN Launch_8)\n",
      "INFO:root:Evaluating: (lead_opt-in IN WAF ebook) AND (lead_source IN Facebook) AND (country IN ['United States of America', 'Canada'])\n",
      "INFO:root:Evaluating: (lead_opt-in IN WAF ebook) AND (lead_source IN Facebook) AND (country IN ['United States of America', 'Canada']) AND (launch IN Launch_6)\n",
      "INFO:root:Evaluating: (lead_opt-in IN WAF ebook) AND (lead_source IN Facebook) AND (country IN ['United States of America', 'Canada']) AND (launch IN Launch_7)\n",
      "INFO:root:Evaluating: (lead_opt-in IN WAF ebook) AND (lead_source IN Facebook) AND (country IN ['United States of America', 'Canada']) AND (launch IN Launch_8)\n",
      "INFO:root:Evaluating: (lead_opt-in IN WAF ebook) AND (lead_source IN MailChimp)\n",
      "INFO:root:Evaluating: (lead_opt-in IN WAF ebook) AND (lead_source IN MailChimp) AND (launch IN Launch_6)\n",
      "INFO:root:Evaluating: (lead_opt-in IN WAF ebook) AND (lead_source IN MailChimp) AND (launch IN Launch_7)\n",
      "INFO:root:Evaluating: (lead_opt-in IN WAF ebook) AND (lead_source IN MailChimp) AND (launch IN Launch_8)\n",
      "INFO:root:Evaluating: (lead_opt-in IN WAF ebook) AND (lead_source IN MailChimp) AND (country IN ['United States of America', 'Canada'])\n",
      "INFO:root:Evaluating: (lead_opt-in IN WAF ebook) AND (lead_source IN MailChimp) AND (country IN ['United States of America', 'Canada']) AND (launch IN Launch_6)\n"
     ]
    },
    {
     "name": "stdout",
     "output_type": "stream",
     "text": [
      "Progress: 1061/1680\r"
     ]
    },
    {
     "name": "stderr",
     "output_type": "stream",
     "text": [
      "INFO:root:Evaluating: (lead_opt-in IN WAF ebook) AND (lead_source IN MailChimp) AND (country IN ['United States of America', 'Canada']) AND (launch IN Launch_7)\n",
      "INFO:root:Evaluating: (lead_opt-in IN WAF ebook) AND (lead_source IN MailChimp) AND (country IN ['United States of America', 'Canada']) AND (launch IN Launch_8)\n",
      "INFO:root:Evaluating: (lead_opt-in IN WAF ebook) AND (lead_source IN Unknown)\n",
      "INFO:root:Evaluating: (lead_opt-in IN WAF ebook) AND (lead_source IN Unknown) AND (launch IN Launch_6)\n",
      "INFO:root:Evaluating: (lead_opt-in IN WAF ebook) AND (lead_source IN Unknown) AND (launch IN Launch_7)\n",
      "INFO:root:Evaluating: (lead_opt-in IN WAF ebook) AND (lead_source IN Unknown) AND (launch IN Launch_8)\n",
      "INFO:root:Evaluating: (lead_opt-in IN WAF ebook) AND (lead_source IN Unknown) AND (country IN ['United States of America', 'Canada'])\n",
      "INFO:root:Evaluating: (lead_opt-in IN WAF ebook) AND (lead_source IN Unknown) AND (country IN ['United States of America', 'Canada']) AND (launch IN Launch_6)\n",
      "INFO:root:Evaluating: (lead_opt-in IN WAF ebook) AND (lead_source IN Unknown) AND (country IN ['United States of America', 'Canada']) AND (launch IN Launch_7)\n",
      "INFO:root:Evaluating: (lead_opt-in IN WAF ebook) AND (lead_source IN Unknown) AND (country IN ['United States of America', 'Canada']) AND (launch IN Launch_8)\n",
      "INFO:root:Evaluating: (lead_opt-in IN WAF ebook) AND (lead_source IN None)\n",
      "INFO:root:Evaluating: (lead_opt-in IN WAF ebook) AND (lead_source IN None) AND (launch IN Launch_6)\n",
      "INFO:root:Evaluating: (lead_opt-in IN WAF ebook) AND (lead_source IN None) AND (launch IN Launch_7)\n",
      "INFO:root:Evaluating: (lead_opt-in IN WAF ebook) AND (lead_source IN None) AND (launch IN Launch_8)\n",
      "INFO:root:Evaluating: (lead_opt-in IN WAF ebook) AND (lead_source IN None) AND (country IN ['United States of America', 'Canada'])\n",
      "INFO:root:Evaluating: (lead_opt-in IN WAF ebook) AND (lead_source IN None) AND (country IN ['United States of America', 'Canada']) AND (launch IN Launch_6)\n",
      "INFO:root:Evaluating: (lead_opt-in IN WAF ebook) AND (lead_source IN None) AND (country IN ['United States of America', 'Canada']) AND (launch IN Launch_7)\n",
      "INFO:root:Evaluating: (lead_opt-in IN WAF ebook) AND (lead_source IN None) AND (country IN ['United States of America', 'Canada']) AND (launch IN Launch_8)\n",
      "INFO:root:Evaluating: (lead_opt-in IN WAF ebook) AND (lead_source IN Medium)\n",
      "INFO:root:Evaluating: (lead_opt-in IN WAF ebook) AND (lead_source IN Medium) AND (launch IN Launch_6)\n"
     ]
    },
    {
     "name": "stdout",
     "output_type": "stream",
     "text": [
      "Progress: 1081/1680\r"
     ]
    },
    {
     "name": "stderr",
     "output_type": "stream",
     "text": [
      "INFO:root:Evaluating: (lead_opt-in IN WAF ebook) AND (lead_source IN Medium) AND (launch IN Launch_7)\n",
      "INFO:root:Evaluating: (lead_opt-in IN WAF ebook) AND (lead_source IN Medium) AND (launch IN Launch_8)\n",
      "INFO:root:Evaluating: (lead_opt-in IN WAF ebook) AND (lead_source IN Medium) AND (country IN ['United States of America', 'Canada'])\n",
      "INFO:root:Evaluating: (lead_opt-in IN WAF ebook) AND (lead_source IN Medium) AND (country IN ['United States of America', 'Canada']) AND (launch IN Launch_6)\n",
      "INFO:root:Evaluating: (lead_opt-in IN WAF ebook) AND (lead_source IN Medium) AND (country IN ['United States of America', 'Canada']) AND (launch IN Launch_7)\n",
      "INFO:root:Evaluating: (lead_opt-in IN WAF ebook) AND (lead_source IN Medium) AND (country IN ['United States of America', 'Canada']) AND (launch IN Launch_8)\n",
      "INFO:root:Evaluating: (lead_opt-in IN WAF ebook) AND (lead_source IN MCS Page)\n",
      "INFO:root:Evaluating: (lead_opt-in IN WAF ebook) AND (lead_source IN MCS Page) AND (launch IN Launch_6)\n",
      "INFO:root:Evaluating: (lead_opt-in IN WAF ebook) AND (lead_source IN MCS Page) AND (launch IN Launch_7)\n",
      "INFO:root:Evaluating: (lead_opt-in IN WAF ebook) AND (lead_source IN MCS Page) AND (launch IN Launch_8)\n",
      "INFO:root:Evaluating: (lead_opt-in IN WAF ebook) AND (lead_source IN MCS Page) AND (country IN ['United States of America', 'Canada'])\n",
      "INFO:root:Evaluating: (lead_opt-in IN WAF ebook) AND (lead_source IN MCS Page) AND (country IN ['United States of America', 'Canada']) AND (launch IN Launch_6)\n",
      "INFO:root:Evaluating: (lead_opt-in IN WAF ebook) AND (lead_source IN MCS Page) AND (country IN ['United States of America', 'Canada']) AND (launch IN Launch_7)\n",
      "INFO:root:Evaluating: (lead_opt-in IN WAF ebook) AND (lead_source IN MCS Page) AND (country IN ['United States of America', 'Canada']) AND (launch IN Launch_8)\n",
      "INFO:root:Evaluating: (lead_opt-in IN WAF ebook) AND (lead_source IN Google Ad)\n",
      "INFO:root:Evaluating: (lead_opt-in IN WAF ebook) AND (lead_source IN Google Ad) AND (launch IN Launch_6)\n",
      "INFO:root:Evaluating: (lead_opt-in IN WAF ebook) AND (lead_source IN Google Ad) AND (launch IN Launch_7)\n",
      "INFO:root:Evaluating: (lead_opt-in IN WAF ebook) AND (lead_source IN Google Ad) AND (launch IN Launch_8)\n",
      "INFO:root:Evaluating: (lead_opt-in IN WAF ebook) AND (lead_source IN Google Ad) AND (country IN ['United States of America', 'Canada'])\n",
      "INFO:root:Evaluating: (lead_opt-in IN WAF ebook) AND (lead_source IN Google Ad) AND (country IN ['United States of America', 'Canada']) AND (launch IN Launch_6)\n"
     ]
    },
    {
     "name": "stdout",
     "output_type": "stream",
     "text": [
      "Progress: 1101/1680\r"
     ]
    },
    {
     "name": "stderr",
     "output_type": "stream",
     "text": [
      "INFO:root:Evaluating: (lead_opt-in IN WAF ebook) AND (lead_source IN Google Ad) AND (country IN ['United States of America', 'Canada']) AND (launch IN Launch_7)\n",
      "INFO:root:Evaluating: (lead_opt-in IN WAF ebook) AND (lead_source IN Google Ad) AND (country IN ['United States of America', 'Canada']) AND (launch IN Launch_8)\n",
      "INFO:root:Evaluating: (lead_opt-in IN WAF ebook) AND (lead_source IN Skillshare)\n",
      "INFO:root:Evaluating: (lead_opt-in IN WAF ebook) AND (lead_source IN Skillshare) AND (launch IN Launch_6)\n",
      "INFO:root:Evaluating: (lead_opt-in IN WAF ebook) AND (lead_source IN Skillshare) AND (launch IN Launch_7)\n",
      "INFO:root:Evaluating: (lead_opt-in IN WAF ebook) AND (lead_source IN Skillshare) AND (launch IN Launch_8)\n",
      "INFO:root:Evaluating: (lead_opt-in IN WAF ebook) AND (lead_source IN Skillshare) AND (country IN ['United States of America', 'Canada'])\n",
      "INFO:root:Evaluating: (lead_opt-in IN WAF ebook) AND (lead_source IN Skillshare) AND (country IN ['United States of America', 'Canada']) AND (launch IN Launch_6)\n",
      "INFO:root:Evaluating: (lead_opt-in IN WAF ebook) AND (lead_source IN Skillshare) AND (country IN ['United States of America', 'Canada']) AND (launch IN Launch_7)\n",
      "INFO:root:Evaluating: (lead_opt-in IN WAF ebook) AND (lead_source IN Skillshare) AND (country IN ['United States of America', 'Canada']) AND (launch IN Launch_8)\n",
      "INFO:root:Evaluating: (lead_opt-in IN WAF ebook) AND (lead_source IN Instagram)\n",
      "INFO:root:Evaluating: (lead_opt-in IN WAF ebook) AND (lead_source IN Instagram) AND (launch IN Launch_6)\n",
      "INFO:root:Evaluating: (lead_opt-in IN WAF ebook) AND (lead_source IN Instagram) AND (launch IN Launch_7)\n",
      "INFO:root:Evaluating: (lead_opt-in IN WAF ebook) AND (lead_source IN Instagram) AND (launch IN Launch_8)\n",
      "INFO:root:Evaluating: (lead_opt-in IN WAF ebook) AND (lead_source IN Instagram) AND (country IN ['United States of America', 'Canada'])\n",
      "INFO:root:Evaluating: (lead_opt-in IN WAF ebook) AND (lead_source IN Instagram) AND (country IN ['United States of America', 'Canada']) AND (launch IN Launch_6)\n",
      "INFO:root:Evaluating: (lead_opt-in IN WAF ebook) AND (lead_source IN Instagram) AND (country IN ['United States of America', 'Canada']) AND (launch IN Launch_7)\n",
      "INFO:root:Evaluating: (lead_opt-in IN WAF ebook) AND (lead_source IN Instagram) AND (country IN ['United States of America', 'Canada']) AND (launch IN Launch_8)\n",
      "INFO:root:Evaluating: (lead_opt-in IN Book Making)\n",
      "INFO:root:Evaluating: (lead_opt-in IN Book Making) AND (launch IN Launch_6)\n",
      "INFO:root:Evaluating: (lead_opt-in IN Book Making) AND (launch IN Launch_7)\n"
     ]
    },
    {
     "name": "stdout",
     "output_type": "stream",
     "text": [
      "Progress: 1121/1680\r"
     ]
    },
    {
     "name": "stderr",
     "output_type": "stream",
     "text": [
      "INFO:root:Evaluating: (lead_opt-in IN Book Making) AND (launch IN Launch_8)\n",
      "INFO:root:Evaluating: (lead_opt-in IN Book Making) AND (country IN ['United States of America', 'Canada'])\n",
      "INFO:root:Evaluating: (lead_opt-in IN Book Making) AND (country IN ['United States of America', 'Canada']) AND (launch IN Launch_6)\n",
      "INFO:root:Evaluating: (lead_opt-in IN Book Making) AND (country IN ['United States of America', 'Canada']) AND (launch IN Launch_7)\n",
      "INFO:root:Evaluating: (lead_opt-in IN Book Making) AND (country IN ['United States of America', 'Canada']) AND (launch IN Launch_8)\n",
      "INFO:root:Evaluating: (lead_opt-in IN Book Making) AND (lead_source IN Referral - Jake Parker)\n",
      "INFO:root:Evaluating: (lead_opt-in IN Book Making) AND (lead_source IN Referral - Jake Parker) AND (launch IN Launch_6)\n",
      "INFO:root:Evaluating: (lead_opt-in IN Book Making) AND (lead_source IN Referral - Jake Parker) AND (launch IN Launch_7)\n",
      "INFO:root:Evaluating: (lead_opt-in IN Book Making) AND (lead_source IN Referral - Jake Parker) AND (launch IN Launch_8)\n",
      "INFO:root:Evaluating: (lead_opt-in IN Book Making) AND (lead_source IN Referral - Jake Parker) AND (country IN ['United States of America', 'Canada'])\n",
      "INFO:root:Evaluating: (lead_opt-in IN Book Making) AND (lead_source IN Referral - Jake Parker) AND (country IN ['United States of America', 'Canada']) AND (launch IN Launch_6)\n",
      "INFO:root:Evaluating: (lead_opt-in IN Book Making) AND (lead_source IN Referral - Jake Parker) AND (country IN ['United States of America', 'Canada']) AND (launch IN Launch_7)\n",
      "INFO:root:Evaluating: (lead_opt-in IN Book Making) AND (lead_source IN Referral - Jake Parker) AND (country IN ['United States of America', 'Canada']) AND (launch IN Launch_8)\n",
      "INFO:root:Evaluating: (lead_opt-in IN Book Making) AND (lead_source IN Manual)\n",
      "INFO:root:Evaluating: (lead_opt-in IN Book Making) AND (lead_source IN Manual) AND (launch IN Launch_6)\n",
      "INFO:root:Evaluating: (lead_opt-in IN Book Making) AND (lead_source IN Manual) AND (launch IN Launch_7)\n",
      "INFO:root:Evaluating: (lead_opt-in IN Book Making) AND (lead_source IN Manual) AND (launch IN Launch_8)\n",
      "INFO:root:Evaluating: (lead_opt-in IN Book Making) AND (lead_source IN Manual) AND (country IN ['United States of America', 'Canada'])\n",
      "INFO:root:Evaluating: (lead_opt-in IN Book Making) AND (lead_source IN Manual) AND (country IN ['United States of America', 'Canada']) AND (launch IN Launch_6)\n"
     ]
    },
    {
     "name": "stdout",
     "output_type": "stream",
     "text": [
      "Progress: 1141/1680\r"
     ]
    },
    {
     "name": "stderr",
     "output_type": "stream",
     "text": [
      "INFO:root:Evaluating: (lead_opt-in IN Book Making) AND (lead_source IN Manual) AND (country IN ['United States of America', 'Canada']) AND (launch IN Launch_7)\n",
      "INFO:root:Evaluating: (lead_opt-in IN Book Making) AND (lead_source IN Manual) AND (country IN ['United States of America', 'Canada']) AND (launch IN Launch_8)\n",
      "INFO:root:Evaluating: (lead_opt-in IN Book Making) AND (lead_source IN Twitter)\n",
      "INFO:root:Evaluating: (lead_opt-in IN Book Making) AND (lead_source IN Twitter) AND (launch IN Launch_6)\n",
      "INFO:root:Evaluating: (lead_opt-in IN Book Making) AND (lead_source IN Twitter) AND (launch IN Launch_7)\n",
      "INFO:root:Evaluating: (lead_opt-in IN Book Making) AND (lead_source IN Twitter) AND (launch IN Launch_8)\n",
      "INFO:root:Evaluating: (lead_opt-in IN Book Making) AND (lead_source IN Twitter) AND (country IN ['United States of America', 'Canada'])\n",
      "INFO:root:Evaluating: (lead_opt-in IN Book Making) AND (lead_source IN Twitter) AND (country IN ['United States of America', 'Canada']) AND (launch IN Launch_6)\n",
      "INFO:root:Evaluating: (lead_opt-in IN Book Making) AND (lead_source IN Twitter) AND (country IN ['United States of America', 'Canada']) AND (launch IN Launch_7)\n",
      "INFO:root:Evaluating: (lead_opt-in IN Book Making) AND (lead_source IN Twitter) AND (country IN ['United States of America', 'Canada']) AND (launch IN Launch_8)\n",
      "INFO:root:Evaluating: (lead_opt-in IN Book Making) AND (lead_source IN FB Ad)\n",
      "INFO:root:Evaluating: (lead_opt-in IN Book Making) AND (lead_source IN FB Ad) AND (launch IN Launch_6)\n",
      "INFO:root:Evaluating: (lead_opt-in IN Book Making) AND (lead_source IN FB Ad) AND (launch IN Launch_7)\n",
      "INFO:root:Evaluating: (lead_opt-in IN Book Making) AND (lead_source IN FB Ad) AND (launch IN Launch_8)\n",
      "INFO:root:Evaluating: (lead_opt-in IN Book Making) AND (lead_source IN FB Ad) AND (country IN ['United States of America', 'Canada'])\n",
      "INFO:root:Evaluating: (lead_opt-in IN Book Making) AND (lead_source IN FB Ad) AND (country IN ['United States of America', 'Canada']) AND (launch IN Launch_6)\n",
      "INFO:root:Evaluating: (lead_opt-in IN Book Making) AND (lead_source IN FB Ad) AND (country IN ['United States of America', 'Canada']) AND (launch IN Launch_7)\n",
      "INFO:root:Evaluating: (lead_opt-in IN Book Making) AND (lead_source IN FB Ad) AND (country IN ['United States of America', 'Canada']) AND (launch IN Launch_8)\n",
      "INFO:root:Evaluating: (lead_opt-in IN Book Making) AND (lead_source IN Facebook)\n",
      "INFO:root:Evaluating: (lead_opt-in IN Book Making) AND (lead_source IN Facebook) AND (launch IN Launch_6)\n"
     ]
    },
    {
     "name": "stdout",
     "output_type": "stream",
     "text": [
      "Progress: 1161/1680\r"
     ]
    },
    {
     "name": "stderr",
     "output_type": "stream",
     "text": [
      "INFO:root:Evaluating: (lead_opt-in IN Book Making) AND (lead_source IN Facebook) AND (launch IN Launch_7)\n",
      "INFO:root:Evaluating: (lead_opt-in IN Book Making) AND (lead_source IN Facebook) AND (launch IN Launch_8)\n",
      "INFO:root:Evaluating: (lead_opt-in IN Book Making) AND (lead_source IN Facebook) AND (country IN ['United States of America', 'Canada'])\n",
      "INFO:root:Evaluating: (lead_opt-in IN Book Making) AND (lead_source IN Facebook) AND (country IN ['United States of America', 'Canada']) AND (launch IN Launch_6)\n",
      "INFO:root:Evaluating: (lead_opt-in IN Book Making) AND (lead_source IN Facebook) AND (country IN ['United States of America', 'Canada']) AND (launch IN Launch_7)\n",
      "INFO:root:Evaluating: (lead_opt-in IN Book Making) AND (lead_source IN Facebook) AND (country IN ['United States of America', 'Canada']) AND (launch IN Launch_8)\n",
      "INFO:root:Evaluating: (lead_opt-in IN Book Making) AND (lead_source IN MailChimp)\n",
      "INFO:root:Evaluating: (lead_opt-in IN Book Making) AND (lead_source IN MailChimp) AND (launch IN Launch_6)\n",
      "INFO:root:Evaluating: (lead_opt-in IN Book Making) AND (lead_source IN MailChimp) AND (launch IN Launch_7)\n",
      "INFO:root:Evaluating: (lead_opt-in IN Book Making) AND (lead_source IN MailChimp) AND (launch IN Launch_8)\n",
      "INFO:root:Evaluating: (lead_opt-in IN Book Making) AND (lead_source IN MailChimp) AND (country IN ['United States of America', 'Canada'])\n",
      "INFO:root:Evaluating: (lead_opt-in IN Book Making) AND (lead_source IN MailChimp) AND (country IN ['United States of America', 'Canada']) AND (launch IN Launch_6)\n",
      "INFO:root:Evaluating: (lead_opt-in IN Book Making) AND (lead_source IN MailChimp) AND (country IN ['United States of America', 'Canada']) AND (launch IN Launch_7)\n",
      "INFO:root:Evaluating: (lead_opt-in IN Book Making) AND (lead_source IN MailChimp) AND (country IN ['United States of America', 'Canada']) AND (launch IN Launch_8)\n",
      "INFO:root:Evaluating: (lead_opt-in IN Book Making) AND (lead_source IN Unknown)\n",
      "INFO:root:Evaluating: (lead_opt-in IN Book Making) AND (lead_source IN Unknown) AND (launch IN Launch_6)\n",
      "INFO:root:Evaluating: (lead_opt-in IN Book Making) AND (lead_source IN Unknown) AND (launch IN Launch_7)\n",
      "INFO:root:Evaluating: (lead_opt-in IN Book Making) AND (lead_source IN Unknown) AND (launch IN Launch_8)\n",
      "INFO:root:Evaluating: (lead_opt-in IN Book Making) AND (lead_source IN Unknown) AND (country IN ['United States of America', 'Canada'])\n",
      "INFO:root:Evaluating: (lead_opt-in IN Book Making) AND (lead_source IN Unknown) AND (country IN ['United States of America', 'Canada']) AND (launch IN Launch_6)\n"
     ]
    },
    {
     "name": "stdout",
     "output_type": "stream",
     "text": [
      "Progress: 1181/1680\r"
     ]
    },
    {
     "name": "stderr",
     "output_type": "stream",
     "text": [
      "INFO:root:Evaluating: (lead_opt-in IN Book Making) AND (lead_source IN Unknown) AND (country IN ['United States of America', 'Canada']) AND (launch IN Launch_7)\n",
      "INFO:root:Evaluating: (lead_opt-in IN Book Making) AND (lead_source IN Unknown) AND (country IN ['United States of America', 'Canada']) AND (launch IN Launch_8)\n",
      "INFO:root:Evaluating: (lead_opt-in IN Book Making) AND (lead_source IN None)\n",
      "INFO:root:Evaluating: (lead_opt-in IN Book Making) AND (lead_source IN None) AND (launch IN Launch_6)\n",
      "INFO:root:Evaluating: (lead_opt-in IN Book Making) AND (lead_source IN None) AND (launch IN Launch_7)\n",
      "INFO:root:Evaluating: (lead_opt-in IN Book Making) AND (lead_source IN None) AND (launch IN Launch_8)\n",
      "INFO:root:Evaluating: (lead_opt-in IN Book Making) AND (lead_source IN None) AND (country IN ['United States of America', 'Canada'])\n",
      "INFO:root:Evaluating: (lead_opt-in IN Book Making) AND (lead_source IN None) AND (country IN ['United States of America', 'Canada']) AND (launch IN Launch_6)\n",
      "INFO:root:Evaluating: (lead_opt-in IN Book Making) AND (lead_source IN None) AND (country IN ['United States of America', 'Canada']) AND (launch IN Launch_7)\n",
      "INFO:root:Evaluating: (lead_opt-in IN Book Making) AND (lead_source IN None) AND (country IN ['United States of America', 'Canada']) AND (launch IN Launch_8)\n",
      "INFO:root:Evaluating: (lead_opt-in IN Book Making) AND (lead_source IN Medium)\n",
      "INFO:root:Evaluating: (lead_opt-in IN Book Making) AND (lead_source IN Medium) AND (launch IN Launch_6)\n",
      "INFO:root:Evaluating: (lead_opt-in IN Book Making) AND (lead_source IN Medium) AND (launch IN Launch_7)\n",
      "INFO:root:Evaluating: (lead_opt-in IN Book Making) AND (lead_source IN Medium) AND (launch IN Launch_8)\n",
      "INFO:root:Evaluating: (lead_opt-in IN Book Making) AND (lead_source IN Medium) AND (country IN ['United States of America', 'Canada'])\n",
      "INFO:root:Evaluating: (lead_opt-in IN Book Making) AND (lead_source IN Medium) AND (country IN ['United States of America', 'Canada']) AND (launch IN Launch_6)\n",
      "INFO:root:Evaluating: (lead_opt-in IN Book Making) AND (lead_source IN Medium) AND (country IN ['United States of America', 'Canada']) AND (launch IN Launch_7)\n",
      "INFO:root:Evaluating: (lead_opt-in IN Book Making) AND (lead_source IN Medium) AND (country IN ['United States of America', 'Canada']) AND (launch IN Launch_8)\n",
      "INFO:root:Evaluating: (lead_opt-in IN Book Making) AND (lead_source IN MCS Page)\n",
      "INFO:root:Evaluating: (lead_opt-in IN Book Making) AND (lead_source IN MCS Page) AND (launch IN Launch_6)\n"
     ]
    },
    {
     "name": "stdout",
     "output_type": "stream",
     "text": [
      "Progress: 1201/1680\r"
     ]
    },
    {
     "name": "stderr",
     "output_type": "stream",
     "text": [
      "INFO:root:Evaluating: (lead_opt-in IN Book Making) AND (lead_source IN MCS Page) AND (launch IN Launch_7)\n",
      "INFO:root:Evaluating: (lead_opt-in IN Book Making) AND (lead_source IN MCS Page) AND (launch IN Launch_8)\n",
      "INFO:root:Evaluating: (lead_opt-in IN Book Making) AND (lead_source IN MCS Page) AND (country IN ['United States of America', 'Canada'])\n",
      "INFO:root:Evaluating: (lead_opt-in IN Book Making) AND (lead_source IN MCS Page) AND (country IN ['United States of America', 'Canada']) AND (launch IN Launch_6)\n",
      "INFO:root:Evaluating: (lead_opt-in IN Book Making) AND (lead_source IN MCS Page) AND (country IN ['United States of America', 'Canada']) AND (launch IN Launch_7)\n",
      "INFO:root:Evaluating: (lead_opt-in IN Book Making) AND (lead_source IN MCS Page) AND (country IN ['United States of America', 'Canada']) AND (launch IN Launch_8)\n",
      "INFO:root:Evaluating: (lead_opt-in IN Book Making) AND (lead_source IN Google Ad)\n",
      "INFO:root:Evaluating: (lead_opt-in IN Book Making) AND (lead_source IN Google Ad) AND (launch IN Launch_6)\n",
      "INFO:root:Evaluating: (lead_opt-in IN Book Making) AND (lead_source IN Google Ad) AND (launch IN Launch_7)\n",
      "INFO:root:Evaluating: (lead_opt-in IN Book Making) AND (lead_source IN Google Ad) AND (launch IN Launch_8)\n",
      "INFO:root:Evaluating: (lead_opt-in IN Book Making) AND (lead_source IN Google Ad) AND (country IN ['United States of America', 'Canada'])\n",
      "INFO:root:Evaluating: (lead_opt-in IN Book Making) AND (lead_source IN Google Ad) AND (country IN ['United States of America', 'Canada']) AND (launch IN Launch_6)\n",
      "INFO:root:Evaluating: (lead_opt-in IN Book Making) AND (lead_source IN Google Ad) AND (country IN ['United States of America', 'Canada']) AND (launch IN Launch_7)\n",
      "INFO:root:Evaluating: (lead_opt-in IN Book Making) AND (lead_source IN Google Ad) AND (country IN ['United States of America', 'Canada']) AND (launch IN Launch_8)\n",
      "INFO:root:Evaluating: (lead_opt-in IN Book Making) AND (lead_source IN Skillshare)\n",
      "INFO:root:Evaluating: (lead_opt-in IN Book Making) AND (lead_source IN Skillshare) AND (launch IN Launch_6)\n",
      "INFO:root:Evaluating: (lead_opt-in IN Book Making) AND (lead_source IN Skillshare) AND (launch IN Launch_7)\n",
      "INFO:root:Evaluating: (lead_opt-in IN Book Making) AND (lead_source IN Skillshare) AND (launch IN Launch_8)\n",
      "INFO:root:Evaluating: (lead_opt-in IN Book Making) AND (lead_source IN Skillshare) AND (country IN ['United States of America', 'Canada'])\n",
      "INFO:root:Evaluating: (lead_opt-in IN Book Making) AND (lead_source IN Skillshare) AND (country IN ['United States of America', 'Canada']) AND (launch IN Launch_6)\n"
     ]
    },
    {
     "name": "stdout",
     "output_type": "stream",
     "text": [
      "Progress: 1221/1680\r"
     ]
    },
    {
     "name": "stderr",
     "output_type": "stream",
     "text": [
      "INFO:root:Evaluating: (lead_opt-in IN Book Making) AND (lead_source IN Skillshare) AND (country IN ['United States of America', 'Canada']) AND (launch IN Launch_7)\n",
      "INFO:root:Evaluating: (lead_opt-in IN Book Making) AND (lead_source IN Skillshare) AND (country IN ['United States of America', 'Canada']) AND (launch IN Launch_8)\n",
      "INFO:root:Evaluating: (lead_opt-in IN Book Making) AND (lead_source IN Instagram)\n",
      "INFO:root:Evaluating: (lead_opt-in IN Book Making) AND (lead_source IN Instagram) AND (launch IN Launch_6)\n",
      "INFO:root:Evaluating: (lead_opt-in IN Book Making) AND (lead_source IN Instagram) AND (launch IN Launch_7)\n",
      "INFO:root:Evaluating: (lead_opt-in IN Book Making) AND (lead_source IN Instagram) AND (launch IN Launch_8)\n",
      "INFO:root:Evaluating: (lead_opt-in IN Book Making) AND (lead_source IN Instagram) AND (country IN ['United States of America', 'Canada'])\n",
      "INFO:root:Evaluating: (lead_opt-in IN Book Making) AND (lead_source IN Instagram) AND (country IN ['United States of America', 'Canada']) AND (launch IN Launch_6)\n",
      "INFO:root:Evaluating: (lead_opt-in IN Book Making) AND (lead_source IN Instagram) AND (country IN ['United States of America', 'Canada']) AND (launch IN Launch_7)\n",
      "INFO:root:Evaluating: (lead_opt-in IN Book Making) AND (lead_source IN Instagram) AND (country IN ['United States of America', 'Canada']) AND (launch IN Launch_8)\n",
      "INFO:root:Evaluating: (lead_opt-in IN StSBC WL)\n",
      "INFO:root:Evaluating: (lead_opt-in IN StSBC WL) AND (launch IN Launch_6)\n",
      "INFO:root:Evaluating: (lead_opt-in IN StSBC WL) AND (launch IN Launch_7)\n",
      "INFO:root:Evaluating: (lead_opt-in IN StSBC WL) AND (launch IN Launch_8)\n",
      "INFO:root:Evaluating: (lead_opt-in IN StSBC WL) AND (country IN ['United States of America', 'Canada'])\n",
      "INFO:root:Evaluating: (lead_opt-in IN StSBC WL) AND (country IN ['United States of America', 'Canada']) AND (launch IN Launch_6)\n",
      "INFO:root:Evaluating: (lead_opt-in IN StSBC WL) AND (country IN ['United States of America', 'Canada']) AND (launch IN Launch_7)\n",
      "INFO:root:Evaluating: (lead_opt-in IN StSBC WL) AND (country IN ['United States of America', 'Canada']) AND (launch IN Launch_8)\n",
      "INFO:root:Evaluating: (lead_opt-in IN StSBC WL) AND (lead_source IN Referral - Jake Parker)\n",
      "INFO:root:Evaluating: (lead_opt-in IN StSBC WL) AND (lead_source IN Referral - Jake Parker) AND (launch IN Launch_6)\n"
     ]
    },
    {
     "name": "stdout",
     "output_type": "stream",
     "text": [
      "Progress: 1241/1680\r"
     ]
    },
    {
     "name": "stderr",
     "output_type": "stream",
     "text": [
      "INFO:root:Evaluating: (lead_opt-in IN StSBC WL) AND (lead_source IN Referral - Jake Parker) AND (launch IN Launch_7)\n",
      "INFO:root:Evaluating: (lead_opt-in IN StSBC WL) AND (lead_source IN Referral - Jake Parker) AND (launch IN Launch_8)\n",
      "INFO:root:Evaluating: (lead_opt-in IN StSBC WL) AND (lead_source IN Referral - Jake Parker) AND (country IN ['United States of America', 'Canada'])\n",
      "INFO:root:Evaluating: (lead_opt-in IN StSBC WL) AND (lead_source IN Referral - Jake Parker) AND (country IN ['United States of America', 'Canada']) AND (launch IN Launch_6)\n",
      "INFO:root:Evaluating: (lead_opt-in IN StSBC WL) AND (lead_source IN Referral - Jake Parker) AND (country IN ['United States of America', 'Canada']) AND (launch IN Launch_7)\n",
      "INFO:root:Evaluating: (lead_opt-in IN StSBC WL) AND (lead_source IN Referral - Jake Parker) AND (country IN ['United States of America', 'Canada']) AND (launch IN Launch_8)\n",
      "INFO:root:Evaluating: (lead_opt-in IN StSBC WL) AND (lead_source IN Manual)\n",
      "INFO:root:Evaluating: (lead_opt-in IN StSBC WL) AND (lead_source IN Manual) AND (launch IN Launch_6)\n",
      "INFO:root:Evaluating: (lead_opt-in IN StSBC WL) AND (lead_source IN Manual) AND (launch IN Launch_7)\n",
      "INFO:root:Evaluating: (lead_opt-in IN StSBC WL) AND (lead_source IN Manual) AND (launch IN Launch_8)\n",
      "INFO:root:Evaluating: (lead_opt-in IN StSBC WL) AND (lead_source IN Manual) AND (country IN ['United States of America', 'Canada'])\n",
      "INFO:root:Evaluating: (lead_opt-in IN StSBC WL) AND (lead_source IN Manual) AND (country IN ['United States of America', 'Canada']) AND (launch IN Launch_6)\n",
      "INFO:root:Evaluating: (lead_opt-in IN StSBC WL) AND (lead_source IN Manual) AND (country IN ['United States of America', 'Canada']) AND (launch IN Launch_7)\n",
      "INFO:root:Evaluating: (lead_opt-in IN StSBC WL) AND (lead_source IN Manual) AND (country IN ['United States of America', 'Canada']) AND (launch IN Launch_8)\n",
      "INFO:root:Evaluating: (lead_opt-in IN StSBC WL) AND (lead_source IN Twitter)\n",
      "INFO:root:Evaluating: (lead_opt-in IN StSBC WL) AND (lead_source IN Twitter) AND (launch IN Launch_6)\n",
      "INFO:root:Evaluating: (lead_opt-in IN StSBC WL) AND (lead_source IN Twitter) AND (launch IN Launch_7)\n",
      "INFO:root:Evaluating: (lead_opt-in IN StSBC WL) AND (lead_source IN Twitter) AND (launch IN Launch_8)\n",
      "INFO:root:Evaluating: (lead_opt-in IN StSBC WL) AND (lead_source IN Twitter) AND (country IN ['United States of America', 'Canada'])\n",
      "INFO:root:Evaluating: (lead_opt-in IN StSBC WL) AND (lead_source IN Twitter) AND (country IN ['United States of America', 'Canada']) AND (launch IN Launch_6)\n"
     ]
    },
    {
     "name": "stdout",
     "output_type": "stream",
     "text": [
      "Progress: 1261/1680\r"
     ]
    },
    {
     "name": "stderr",
     "output_type": "stream",
     "text": [
      "INFO:root:Evaluating: (lead_opt-in IN StSBC WL) AND (lead_source IN Twitter) AND (country IN ['United States of America', 'Canada']) AND (launch IN Launch_7)\n",
      "INFO:root:Evaluating: (lead_opt-in IN StSBC WL) AND (lead_source IN Twitter) AND (country IN ['United States of America', 'Canada']) AND (launch IN Launch_8)\n",
      "INFO:root:Evaluating: (lead_opt-in IN StSBC WL) AND (lead_source IN FB Ad)\n",
      "INFO:root:Evaluating: (lead_opt-in IN StSBC WL) AND (lead_source IN FB Ad) AND (launch IN Launch_6)\n",
      "INFO:root:Evaluating: (lead_opt-in IN StSBC WL) AND (lead_source IN FB Ad) AND (launch IN Launch_7)\n",
      "INFO:root:Evaluating: (lead_opt-in IN StSBC WL) AND (lead_source IN FB Ad) AND (launch IN Launch_8)\n",
      "INFO:root:Evaluating: (lead_opt-in IN StSBC WL) AND (lead_source IN FB Ad) AND (country IN ['United States of America', 'Canada'])\n",
      "INFO:root:Evaluating: (lead_opt-in IN StSBC WL) AND (lead_source IN FB Ad) AND (country IN ['United States of America', 'Canada']) AND (launch IN Launch_6)\n",
      "INFO:root:Evaluating: (lead_opt-in IN StSBC WL) AND (lead_source IN FB Ad) AND (country IN ['United States of America', 'Canada']) AND (launch IN Launch_7)\n",
      "INFO:root:Evaluating: (lead_opt-in IN StSBC WL) AND (lead_source IN FB Ad) AND (country IN ['United States of America', 'Canada']) AND (launch IN Launch_8)\n",
      "INFO:root:Evaluating: (lead_opt-in IN StSBC WL) AND (lead_source IN Facebook)\n",
      "INFO:root:Evaluating: (lead_opt-in IN StSBC WL) AND (lead_source IN Facebook) AND (launch IN Launch_6)\n",
      "INFO:root:Evaluating: (lead_opt-in IN StSBC WL) AND (lead_source IN Facebook) AND (launch IN Launch_7)\n",
      "INFO:root:Evaluating: (lead_opt-in IN StSBC WL) AND (lead_source IN Facebook) AND (launch IN Launch_8)\n",
      "INFO:root:Evaluating: (lead_opt-in IN StSBC WL) AND (lead_source IN Facebook) AND (country IN ['United States of America', 'Canada'])\n",
      "INFO:root:Evaluating: (lead_opt-in IN StSBC WL) AND (lead_source IN Facebook) AND (country IN ['United States of America', 'Canada']) AND (launch IN Launch_6)\n",
      "INFO:root:Evaluating: (lead_opt-in IN StSBC WL) AND (lead_source IN Facebook) AND (country IN ['United States of America', 'Canada']) AND (launch IN Launch_7)\n",
      "INFO:root:Evaluating: (lead_opt-in IN StSBC WL) AND (lead_source IN Facebook) AND (country IN ['United States of America', 'Canada']) AND (launch IN Launch_8)\n",
      "INFO:root:Evaluating: (lead_opt-in IN StSBC WL) AND (lead_source IN MailChimp)\n",
      "INFO:root:Evaluating: (lead_opt-in IN StSBC WL) AND (lead_source IN MailChimp) AND (launch IN Launch_6)\n"
     ]
    },
    {
     "name": "stdout",
     "output_type": "stream",
     "text": [
      "Progress: 1281/1680\r"
     ]
    },
    {
     "name": "stderr",
     "output_type": "stream",
     "text": [
      "INFO:root:Evaluating: (lead_opt-in IN StSBC WL) AND (lead_source IN MailChimp) AND (launch IN Launch_7)\n",
      "INFO:root:Evaluating: (lead_opt-in IN StSBC WL) AND (lead_source IN MailChimp) AND (launch IN Launch_8)\n",
      "INFO:root:Evaluating: (lead_opt-in IN StSBC WL) AND (lead_source IN MailChimp) AND (country IN ['United States of America', 'Canada'])\n",
      "INFO:root:Evaluating: (lead_opt-in IN StSBC WL) AND (lead_source IN MailChimp) AND (country IN ['United States of America', 'Canada']) AND (launch IN Launch_6)\n",
      "INFO:root:Evaluating: (lead_opt-in IN StSBC WL) AND (lead_source IN MailChimp) AND (country IN ['United States of America', 'Canada']) AND (launch IN Launch_7)\n",
      "INFO:root:Evaluating: (lead_opt-in IN StSBC WL) AND (lead_source IN MailChimp) AND (country IN ['United States of America', 'Canada']) AND (launch IN Launch_8)\n",
      "INFO:root:Evaluating: (lead_opt-in IN StSBC WL) AND (lead_source IN Unknown)\n",
      "INFO:root:Evaluating: (lead_opt-in IN StSBC WL) AND (lead_source IN Unknown) AND (launch IN Launch_6)\n",
      "INFO:root:Evaluating: (lead_opt-in IN StSBC WL) AND (lead_source IN Unknown) AND (launch IN Launch_7)\n",
      "INFO:root:Evaluating: (lead_opt-in IN StSBC WL) AND (lead_source IN Unknown) AND (launch IN Launch_8)\n",
      "INFO:root:Evaluating: (lead_opt-in IN StSBC WL) AND (lead_source IN Unknown) AND (country IN ['United States of America', 'Canada'])\n",
      "INFO:root:Evaluating: (lead_opt-in IN StSBC WL) AND (lead_source IN Unknown) AND (country IN ['United States of America', 'Canada']) AND (launch IN Launch_6)\n",
      "INFO:root:Evaluating: (lead_opt-in IN StSBC WL) AND (lead_source IN Unknown) AND (country IN ['United States of America', 'Canada']) AND (launch IN Launch_7)\n",
      "INFO:root:Evaluating: (lead_opt-in IN StSBC WL) AND (lead_source IN Unknown) AND (country IN ['United States of America', 'Canada']) AND (launch IN Launch_8)\n",
      "INFO:root:Evaluating: (lead_opt-in IN StSBC WL) AND (lead_source IN None)\n",
      "INFO:root:Evaluating: (lead_opt-in IN StSBC WL) AND (lead_source IN None) AND (launch IN Launch_6)\n",
      "INFO:root:Evaluating: (lead_opt-in IN StSBC WL) AND (lead_source IN None) AND (launch IN Launch_7)\n",
      "INFO:root:Evaluating: (lead_opt-in IN StSBC WL) AND (lead_source IN None) AND (launch IN Launch_8)\n",
      "INFO:root:Evaluating: (lead_opt-in IN StSBC WL) AND (lead_source IN None) AND (country IN ['United States of America', 'Canada'])\n",
      "INFO:root:Evaluating: (lead_opt-in IN StSBC WL) AND (lead_source IN None) AND (country IN ['United States of America', 'Canada']) AND (launch IN Launch_6)\n"
     ]
    },
    {
     "name": "stdout",
     "output_type": "stream",
     "text": [
      "Progress: 1301/1680\r"
     ]
    },
    {
     "name": "stderr",
     "output_type": "stream",
     "text": [
      "INFO:root:Evaluating: (lead_opt-in IN StSBC WL) AND (lead_source IN None) AND (country IN ['United States of America', 'Canada']) AND (launch IN Launch_7)\n",
      "INFO:root:Evaluating: (lead_opt-in IN StSBC WL) AND (lead_source IN None) AND (country IN ['United States of America', 'Canada']) AND (launch IN Launch_8)\n",
      "INFO:root:Evaluating: (lead_opt-in IN StSBC WL) AND (lead_source IN Medium)\n",
      "INFO:root:Evaluating: (lead_opt-in IN StSBC WL) AND (lead_source IN Medium) AND (launch IN Launch_6)\n",
      "INFO:root:Evaluating: (lead_opt-in IN StSBC WL) AND (lead_source IN Medium) AND (launch IN Launch_7)\n",
      "INFO:root:Evaluating: (lead_opt-in IN StSBC WL) AND (lead_source IN Medium) AND (launch IN Launch_8)\n",
      "INFO:root:Evaluating: (lead_opt-in IN StSBC WL) AND (lead_source IN Medium) AND (country IN ['United States of America', 'Canada'])\n",
      "INFO:root:Evaluating: (lead_opt-in IN StSBC WL) AND (lead_source IN Medium) AND (country IN ['United States of America', 'Canada']) AND (launch IN Launch_6)\n",
      "INFO:root:Evaluating: (lead_opt-in IN StSBC WL) AND (lead_source IN Medium) AND (country IN ['United States of America', 'Canada']) AND (launch IN Launch_7)\n",
      "INFO:root:Evaluating: (lead_opt-in IN StSBC WL) AND (lead_source IN Medium) AND (country IN ['United States of America', 'Canada']) AND (launch IN Launch_8)\n",
      "INFO:root:Evaluating: (lead_opt-in IN StSBC WL) AND (lead_source IN MCS Page)\n",
      "INFO:root:Evaluating: (lead_opt-in IN StSBC WL) AND (lead_source IN MCS Page) AND (launch IN Launch_6)\n",
      "INFO:root:Evaluating: (lead_opt-in IN StSBC WL) AND (lead_source IN MCS Page) AND (launch IN Launch_7)\n",
      "INFO:root:Evaluating: (lead_opt-in IN StSBC WL) AND (lead_source IN MCS Page) AND (launch IN Launch_8)\n",
      "INFO:root:Evaluating: (lead_opt-in IN StSBC WL) AND (lead_source IN MCS Page) AND (country IN ['United States of America', 'Canada'])\n",
      "INFO:root:Evaluating: (lead_opt-in IN StSBC WL) AND (lead_source IN MCS Page) AND (country IN ['United States of America', 'Canada']) AND (launch IN Launch_6)\n",
      "INFO:root:Evaluating: (lead_opt-in IN StSBC WL) AND (lead_source IN MCS Page) AND (country IN ['United States of America', 'Canada']) AND (launch IN Launch_7)\n",
      "INFO:root:Evaluating: (lead_opt-in IN StSBC WL) AND (lead_source IN MCS Page) AND (country IN ['United States of America', 'Canada']) AND (launch IN Launch_8)\n",
      "INFO:root:Evaluating: (lead_opt-in IN StSBC WL) AND (lead_source IN Google Ad)\n",
      "INFO:root:Evaluating: (lead_opt-in IN StSBC WL) AND (lead_source IN Google Ad) AND (launch IN Launch_6)\n"
     ]
    },
    {
     "name": "stdout",
     "output_type": "stream",
     "text": [
      "Progress: 1321/1680\r"
     ]
    },
    {
     "name": "stderr",
     "output_type": "stream",
     "text": [
      "INFO:root:Evaluating: (lead_opt-in IN StSBC WL) AND (lead_source IN Google Ad) AND (launch IN Launch_7)\n",
      "INFO:root:Evaluating: (lead_opt-in IN StSBC WL) AND (lead_source IN Google Ad) AND (launch IN Launch_8)\n",
      "INFO:root:Evaluating: (lead_opt-in IN StSBC WL) AND (lead_source IN Google Ad) AND (country IN ['United States of America', 'Canada'])\n",
      "INFO:root:Evaluating: (lead_opt-in IN StSBC WL) AND (lead_source IN Google Ad) AND (country IN ['United States of America', 'Canada']) AND (launch IN Launch_6)\n",
      "INFO:root:Evaluating: (lead_opt-in IN StSBC WL) AND (lead_source IN Google Ad) AND (country IN ['United States of America', 'Canada']) AND (launch IN Launch_7)\n",
      "INFO:root:Evaluating: (lead_opt-in IN StSBC WL) AND (lead_source IN Google Ad) AND (country IN ['United States of America', 'Canada']) AND (launch IN Launch_8)\n",
      "INFO:root:Evaluating: (lead_opt-in IN StSBC WL) AND (lead_source IN Skillshare)\n",
      "INFO:root:Evaluating: (lead_opt-in IN StSBC WL) AND (lead_source IN Skillshare) AND (launch IN Launch_6)\n",
      "INFO:root:Evaluating: (lead_opt-in IN StSBC WL) AND (lead_source IN Skillshare) AND (launch IN Launch_7)\n",
      "INFO:root:Evaluating: (lead_opt-in IN StSBC WL) AND (lead_source IN Skillshare) AND (launch IN Launch_8)\n",
      "INFO:root:Evaluating: (lead_opt-in IN StSBC WL) AND (lead_source IN Skillshare) AND (country IN ['United States of America', 'Canada'])\n",
      "INFO:root:Evaluating: (lead_opt-in IN StSBC WL) AND (lead_source IN Skillshare) AND (country IN ['United States of America', 'Canada']) AND (launch IN Launch_6)\n",
      "INFO:root:Evaluating: (lead_opt-in IN StSBC WL) AND (lead_source IN Skillshare) AND (country IN ['United States of America', 'Canada']) AND (launch IN Launch_7)\n",
      "INFO:root:Evaluating: (lead_opt-in IN StSBC WL) AND (lead_source IN Skillshare) AND (country IN ['United States of America', 'Canada']) AND (launch IN Launch_8)\n",
      "INFO:root:Evaluating: (lead_opt-in IN StSBC WL) AND (lead_source IN Instagram)\n",
      "INFO:root:Evaluating: (lead_opt-in IN StSBC WL) AND (lead_source IN Instagram) AND (launch IN Launch_6)\n",
      "INFO:root:Evaluating: (lead_opt-in IN StSBC WL) AND (lead_source IN Instagram) AND (launch IN Launch_7)\n",
      "INFO:root:Evaluating: (lead_opt-in IN StSBC WL) AND (lead_source IN Instagram) AND (launch IN Launch_8)\n",
      "INFO:root:Evaluating: (lead_opt-in IN StSBC WL) AND (lead_source IN Instagram) AND (country IN ['United States of America', 'Canada'])\n",
      "INFO:root:Evaluating: (lead_opt-in IN StSBC WL) AND (lead_source IN Instagram) AND (country IN ['United States of America', 'Canada']) AND (launch IN Launch_6)\n"
     ]
    },
    {
     "name": "stdout",
     "output_type": "stream",
     "text": [
      "Progress: 1341/1680\r"
     ]
    },
    {
     "name": "stderr",
     "output_type": "stream",
     "text": [
      "INFO:root:Evaluating: (lead_opt-in IN StSBC WL) AND (lead_source IN Instagram) AND (country IN ['United States of America', 'Canada']) AND (launch IN Launch_7)\n",
      "INFO:root:Evaluating: (lead_opt-in IN StSBC WL) AND (lead_source IN Instagram) AND (country IN ['United States of America', 'Canada']) AND (launch IN Launch_8)\n",
      "INFO:root:Evaluating: (lead_opt-in IN Sketchbook to Style Boot Camp)\n",
      "INFO:root:Evaluating: (lead_opt-in IN Sketchbook to Style Boot Camp) AND (launch IN Launch_6)\n",
      "INFO:root:Evaluating: (lead_opt-in IN Sketchbook to Style Boot Camp) AND (launch IN Launch_7)\n",
      "INFO:root:Evaluating: (lead_opt-in IN Sketchbook to Style Boot Camp) AND (launch IN Launch_8)\n",
      "INFO:root:Evaluating: (lead_opt-in IN Sketchbook to Style Boot Camp) AND (country IN ['United States of America', 'Canada'])\n",
      "INFO:root:Evaluating: (lead_opt-in IN Sketchbook to Style Boot Camp) AND (country IN ['United States of America', 'Canada']) AND (launch IN Launch_6)\n",
      "INFO:root:Evaluating: (lead_opt-in IN Sketchbook to Style Boot Camp) AND (country IN ['United States of America', 'Canada']) AND (launch IN Launch_7)\n",
      "INFO:root:Evaluating: (lead_opt-in IN Sketchbook to Style Boot Camp) AND (country IN ['United States of America', 'Canada']) AND (launch IN Launch_8)\n",
      "INFO:root:Evaluating: (lead_opt-in IN Sketchbook to Style Boot Camp) AND (lead_source IN Referral - Jake Parker)\n",
      "INFO:root:Evaluating: (lead_opt-in IN Sketchbook to Style Boot Camp) AND (lead_source IN Referral - Jake Parker) AND (launch IN Launch_6)\n",
      "INFO:root:Evaluating: (lead_opt-in IN Sketchbook to Style Boot Camp) AND (lead_source IN Referral - Jake Parker) AND (launch IN Launch_7)\n",
      "INFO:root:Evaluating: (lead_opt-in IN Sketchbook to Style Boot Camp) AND (lead_source IN Referral - Jake Parker) AND (launch IN Launch_8)\n",
      "INFO:root:Evaluating: (lead_opt-in IN Sketchbook to Style Boot Camp) AND (lead_source IN Referral - Jake Parker) AND (country IN ['United States of America', 'Canada'])\n",
      "INFO:root:Evaluating: (lead_opt-in IN Sketchbook to Style Boot Camp) AND (lead_source IN Referral - Jake Parker) AND (country IN ['United States of America', 'Canada']) AND (launch IN Launch_6)\n",
      "INFO:root:Evaluating: (lead_opt-in IN Sketchbook to Style Boot Camp) AND (lead_source IN Referral - Jake Parker) AND (country IN ['United States of America', 'Canada']) AND (launch IN Launch_7)\n",
      "INFO:root:Evaluating: (lead_opt-in IN Sketchbook to Style Boot Camp) AND (lead_source IN Referral - Jake Parker) AND (country IN ['United States of America', 'Canada']) AND (launch IN Launch_8)\n",
      "INFO:root:Evaluating: (lead_opt-in IN Sketchbook to Style Boot Camp) AND (lead_source IN Manual)\n",
      "INFO:root:Evaluating: (lead_opt-in IN Sketchbook to Style Boot Camp) AND (lead_source IN Manual) AND (launch IN Launch_6)\n",
      "INFO:root:Evaluating: (lead_opt-in IN Sketchbook to Style Boot Camp) AND (lead_source IN Manual) AND (launch IN Launch_7)\n"
     ]
    },
    {
     "name": "stdout",
     "output_type": "stream",
     "text": [
      "Progress: 1361/1680\r"
     ]
    },
    {
     "name": "stderr",
     "output_type": "stream",
     "text": [
      "INFO:root:Evaluating: (lead_opt-in IN Sketchbook to Style Boot Camp) AND (lead_source IN Manual) AND (launch IN Launch_8)\n",
      "INFO:root:Evaluating: (lead_opt-in IN Sketchbook to Style Boot Camp) AND (lead_source IN Manual) AND (country IN ['United States of America', 'Canada'])\n",
      "INFO:root:Evaluating: (lead_opt-in IN Sketchbook to Style Boot Camp) AND (lead_source IN Manual) AND (country IN ['United States of America', 'Canada']) AND (launch IN Launch_6)\n",
      "INFO:root:Evaluating: (lead_opt-in IN Sketchbook to Style Boot Camp) AND (lead_source IN Manual) AND (country IN ['United States of America', 'Canada']) AND (launch IN Launch_7)\n",
      "INFO:root:Evaluating: (lead_opt-in IN Sketchbook to Style Boot Camp) AND (lead_source IN Manual) AND (country IN ['United States of America', 'Canada']) AND (launch IN Launch_8)\n",
      "INFO:root:Evaluating: (lead_opt-in IN Sketchbook to Style Boot Camp) AND (lead_source IN Twitter)\n",
      "INFO:root:Evaluating: (lead_opt-in IN Sketchbook to Style Boot Camp) AND (lead_source IN Twitter) AND (launch IN Launch_6)\n",
      "INFO:root:Evaluating: (lead_opt-in IN Sketchbook to Style Boot Camp) AND (lead_source IN Twitter) AND (launch IN Launch_7)\n",
      "INFO:root:Evaluating: (lead_opt-in IN Sketchbook to Style Boot Camp) AND (lead_source IN Twitter) AND (launch IN Launch_8)\n",
      "INFO:root:Evaluating: (lead_opt-in IN Sketchbook to Style Boot Camp) AND (lead_source IN Twitter) AND (country IN ['United States of America', 'Canada'])\n",
      "INFO:root:Evaluating: (lead_opt-in IN Sketchbook to Style Boot Camp) AND (lead_source IN Twitter) AND (country IN ['United States of America', 'Canada']) AND (launch IN Launch_6)\n",
      "INFO:root:Evaluating: (lead_opt-in IN Sketchbook to Style Boot Camp) AND (lead_source IN Twitter) AND (country IN ['United States of America', 'Canada']) AND (launch IN Launch_7)\n",
      "INFO:root:Evaluating: (lead_opt-in IN Sketchbook to Style Boot Camp) AND (lead_source IN Twitter) AND (country IN ['United States of America', 'Canada']) AND (launch IN Launch_8)\n",
      "INFO:root:Evaluating: (lead_opt-in IN Sketchbook to Style Boot Camp) AND (lead_source IN FB Ad)\n",
      "INFO:root:Evaluating: (lead_opt-in IN Sketchbook to Style Boot Camp) AND (lead_source IN FB Ad) AND (launch IN Launch_6)\n",
      "INFO:root:Evaluating: (lead_opt-in IN Sketchbook to Style Boot Camp) AND (lead_source IN FB Ad) AND (launch IN Launch_7)\n",
      "INFO:root:Evaluating: (lead_opt-in IN Sketchbook to Style Boot Camp) AND (lead_source IN FB Ad) AND (launch IN Launch_8)\n",
      "INFO:root:Evaluating: (lead_opt-in IN Sketchbook to Style Boot Camp) AND (lead_source IN FB Ad) AND (country IN ['United States of America', 'Canada'])\n",
      "INFO:root:Evaluating: (lead_opt-in IN Sketchbook to Style Boot Camp) AND (lead_source IN FB Ad) AND (country IN ['United States of America', 'Canada']) AND (launch IN Launch_6)\n"
     ]
    },
    {
     "name": "stdout",
     "output_type": "stream",
     "text": [
      "Progress: 1381/1680\r"
     ]
    },
    {
     "name": "stderr",
     "output_type": "stream",
     "text": [
      "INFO:root:Evaluating: (lead_opt-in IN Sketchbook to Style Boot Camp) AND (lead_source IN FB Ad) AND (country IN ['United States of America', 'Canada']) AND (launch IN Launch_7)\n",
      "INFO:root:Evaluating: (lead_opt-in IN Sketchbook to Style Boot Camp) AND (lead_source IN FB Ad) AND (country IN ['United States of America', 'Canada']) AND (launch IN Launch_8)\n",
      "INFO:root:Evaluating: (lead_opt-in IN Sketchbook to Style Boot Camp) AND (lead_source IN Facebook)\n",
      "INFO:root:Evaluating: (lead_opt-in IN Sketchbook to Style Boot Camp) AND (lead_source IN Facebook) AND (launch IN Launch_6)\n",
      "INFO:root:Evaluating: (lead_opt-in IN Sketchbook to Style Boot Camp) AND (lead_source IN Facebook) AND (launch IN Launch_7)\n",
      "INFO:root:Evaluating: (lead_opt-in IN Sketchbook to Style Boot Camp) AND (lead_source IN Facebook) AND (launch IN Launch_8)\n",
      "INFO:root:Evaluating: (lead_opt-in IN Sketchbook to Style Boot Camp) AND (lead_source IN Facebook) AND (country IN ['United States of America', 'Canada'])\n",
      "INFO:root:Evaluating: (lead_opt-in IN Sketchbook to Style Boot Camp) AND (lead_source IN Facebook) AND (country IN ['United States of America', 'Canada']) AND (launch IN Launch_6)\n",
      "INFO:root:Evaluating: (lead_opt-in IN Sketchbook to Style Boot Camp) AND (lead_source IN Facebook) AND (country IN ['United States of America', 'Canada']) AND (launch IN Launch_7)\n",
      "INFO:root:Evaluating: (lead_opt-in IN Sketchbook to Style Boot Camp) AND (lead_source IN Facebook) AND (country IN ['United States of America', 'Canada']) AND (launch IN Launch_8)\n",
      "INFO:root:Evaluating: (lead_opt-in IN Sketchbook to Style Boot Camp) AND (lead_source IN MailChimp)\n",
      "INFO:root:Evaluating: (lead_opt-in IN Sketchbook to Style Boot Camp) AND (lead_source IN MailChimp) AND (launch IN Launch_6)\n",
      "INFO:root:Evaluating: (lead_opt-in IN Sketchbook to Style Boot Camp) AND (lead_source IN MailChimp) AND (launch IN Launch_7)\n",
      "INFO:root:Evaluating: (lead_opt-in IN Sketchbook to Style Boot Camp) AND (lead_source IN MailChimp) AND (launch IN Launch_8)\n",
      "INFO:root:Evaluating: (lead_opt-in IN Sketchbook to Style Boot Camp) AND (lead_source IN MailChimp) AND (country IN ['United States of America', 'Canada'])\n",
      "INFO:root:Evaluating: (lead_opt-in IN Sketchbook to Style Boot Camp) AND (lead_source IN MailChimp) AND (country IN ['United States of America', 'Canada']) AND (launch IN Launch_6)\n",
      "INFO:root:Evaluating: (lead_opt-in IN Sketchbook to Style Boot Camp) AND (lead_source IN MailChimp) AND (country IN ['United States of America', 'Canada']) AND (launch IN Launch_7)\n",
      "INFO:root:Evaluating: (lead_opt-in IN Sketchbook to Style Boot Camp) AND (lead_source IN MailChimp) AND (country IN ['United States of America', 'Canada']) AND (launch IN Launch_8)\n",
      "INFO:root:Evaluating: (lead_opt-in IN Sketchbook to Style Boot Camp) AND (lead_source IN Unknown)\n",
      "INFO:root:Evaluating: (lead_opt-in IN Sketchbook to Style Boot Camp) AND (lead_source IN Unknown) AND (launch IN Launch_6)\n"
     ]
    },
    {
     "name": "stdout",
     "output_type": "stream",
     "text": [
      "Progress: 1401/1680\r"
     ]
    },
    {
     "name": "stderr",
     "output_type": "stream",
     "text": [
      "INFO:root:Evaluating: (lead_opt-in IN Sketchbook to Style Boot Camp) AND (lead_source IN Unknown) AND (launch IN Launch_7)\n",
      "INFO:root:Evaluating: (lead_opt-in IN Sketchbook to Style Boot Camp) AND (lead_source IN Unknown) AND (launch IN Launch_8)\n",
      "INFO:root:Evaluating: (lead_opt-in IN Sketchbook to Style Boot Camp) AND (lead_source IN Unknown) AND (country IN ['United States of America', 'Canada'])\n",
      "INFO:root:Evaluating: (lead_opt-in IN Sketchbook to Style Boot Camp) AND (lead_source IN Unknown) AND (country IN ['United States of America', 'Canada']) AND (launch IN Launch_6)\n",
      "INFO:root:Evaluating: (lead_opt-in IN Sketchbook to Style Boot Camp) AND (lead_source IN Unknown) AND (country IN ['United States of America', 'Canada']) AND (launch IN Launch_7)\n",
      "INFO:root:Evaluating: (lead_opt-in IN Sketchbook to Style Boot Camp) AND (lead_source IN Unknown) AND (country IN ['United States of America', 'Canada']) AND (launch IN Launch_8)\n",
      "INFO:root:Evaluating: (lead_opt-in IN Sketchbook to Style Boot Camp) AND (lead_source IN None)\n",
      "INFO:root:Evaluating: (lead_opt-in IN Sketchbook to Style Boot Camp) AND (lead_source IN None) AND (launch IN Launch_6)\n",
      "INFO:root:Evaluating: (lead_opt-in IN Sketchbook to Style Boot Camp) AND (lead_source IN None) AND (launch IN Launch_7)\n",
      "INFO:root:Evaluating: (lead_opt-in IN Sketchbook to Style Boot Camp) AND (lead_source IN None) AND (launch IN Launch_8)\n",
      "INFO:root:Evaluating: (lead_opt-in IN Sketchbook to Style Boot Camp) AND (lead_source IN None) AND (country IN ['United States of America', 'Canada'])\n",
      "INFO:root:Evaluating: (lead_opt-in IN Sketchbook to Style Boot Camp) AND (lead_source IN None) AND (country IN ['United States of America', 'Canada']) AND (launch IN Launch_6)\n",
      "INFO:root:Evaluating: (lead_opt-in IN Sketchbook to Style Boot Camp) AND (lead_source IN None) AND (country IN ['United States of America', 'Canada']) AND (launch IN Launch_7)\n",
      "INFO:root:Evaluating: (lead_opt-in IN Sketchbook to Style Boot Camp) AND (lead_source IN None) AND (country IN ['United States of America', 'Canada']) AND (launch IN Launch_8)\n",
      "INFO:root:Evaluating: (lead_opt-in IN Sketchbook to Style Boot Camp) AND (lead_source IN Medium)\n",
      "INFO:root:Evaluating: (lead_opt-in IN Sketchbook to Style Boot Camp) AND (lead_source IN Medium) AND (launch IN Launch_6)\n",
      "INFO:root:Evaluating: (lead_opt-in IN Sketchbook to Style Boot Camp) AND (lead_source IN Medium) AND (launch IN Launch_7)\n",
      "INFO:root:Evaluating: (lead_opt-in IN Sketchbook to Style Boot Camp) AND (lead_source IN Medium) AND (launch IN Launch_8)\n",
      "INFO:root:Evaluating: (lead_opt-in IN Sketchbook to Style Boot Camp) AND (lead_source IN Medium) AND (country IN ['United States of America', 'Canada'])\n",
      "INFO:root:Evaluating: (lead_opt-in IN Sketchbook to Style Boot Camp) AND (lead_source IN Medium) AND (country IN ['United States of America', 'Canada']) AND (launch IN Launch_6)\n"
     ]
    },
    {
     "name": "stdout",
     "output_type": "stream",
     "text": [
      "Progress: 1421/1680\r"
     ]
    },
    {
     "name": "stderr",
     "output_type": "stream",
     "text": [
      "INFO:root:Evaluating: (lead_opt-in IN Sketchbook to Style Boot Camp) AND (lead_source IN Medium) AND (country IN ['United States of America', 'Canada']) AND (launch IN Launch_7)\n",
      "INFO:root:Evaluating: (lead_opt-in IN Sketchbook to Style Boot Camp) AND (lead_source IN Medium) AND (country IN ['United States of America', 'Canada']) AND (launch IN Launch_8)\n",
      "INFO:root:Evaluating: (lead_opt-in IN Sketchbook to Style Boot Camp) AND (lead_source IN MCS Page)\n",
      "INFO:root:Evaluating: (lead_opt-in IN Sketchbook to Style Boot Camp) AND (lead_source IN MCS Page) AND (launch IN Launch_6)\n",
      "INFO:root:Evaluating: (lead_opt-in IN Sketchbook to Style Boot Camp) AND (lead_source IN MCS Page) AND (launch IN Launch_7)\n",
      "INFO:root:Evaluating: (lead_opt-in IN Sketchbook to Style Boot Camp) AND (lead_source IN MCS Page) AND (launch IN Launch_8)\n",
      "INFO:root:Evaluating: (lead_opt-in IN Sketchbook to Style Boot Camp) AND (lead_source IN MCS Page) AND (country IN ['United States of America', 'Canada'])\n",
      "INFO:root:Evaluating: (lead_opt-in IN Sketchbook to Style Boot Camp) AND (lead_source IN MCS Page) AND (country IN ['United States of America', 'Canada']) AND (launch IN Launch_6)\n",
      "INFO:root:Evaluating: (lead_opt-in IN Sketchbook to Style Boot Camp) AND (lead_source IN MCS Page) AND (country IN ['United States of America', 'Canada']) AND (launch IN Launch_7)\n",
      "INFO:root:Evaluating: (lead_opt-in IN Sketchbook to Style Boot Camp) AND (lead_source IN MCS Page) AND (country IN ['United States of America', 'Canada']) AND (launch IN Launch_8)\n",
      "INFO:root:Evaluating: (lead_opt-in IN Sketchbook to Style Boot Camp) AND (lead_source IN Google Ad)\n",
      "INFO:root:Evaluating: (lead_opt-in IN Sketchbook to Style Boot Camp) AND (lead_source IN Google Ad) AND (launch IN Launch_6)\n",
      "INFO:root:Evaluating: (lead_opt-in IN Sketchbook to Style Boot Camp) AND (lead_source IN Google Ad) AND (launch IN Launch_7)\n",
      "INFO:root:Evaluating: (lead_opt-in IN Sketchbook to Style Boot Camp) AND (lead_source IN Google Ad) AND (launch IN Launch_8)\n",
      "INFO:root:Evaluating: (lead_opt-in IN Sketchbook to Style Boot Camp) AND (lead_source IN Google Ad) AND (country IN ['United States of America', 'Canada'])\n",
      "INFO:root:Evaluating: (lead_opt-in IN Sketchbook to Style Boot Camp) AND (lead_source IN Google Ad) AND (country IN ['United States of America', 'Canada']) AND (launch IN Launch_6)\n",
      "INFO:root:Evaluating: (lead_opt-in IN Sketchbook to Style Boot Camp) AND (lead_source IN Google Ad) AND (country IN ['United States of America', 'Canada']) AND (launch IN Launch_7)\n",
      "INFO:root:Evaluating: (lead_opt-in IN Sketchbook to Style Boot Camp) AND (lead_source IN Google Ad) AND (country IN ['United States of America', 'Canada']) AND (launch IN Launch_8)\n",
      "INFO:root:Evaluating: (lead_opt-in IN Sketchbook to Style Boot Camp) AND (lead_source IN Skillshare)\n",
      "INFO:root:Evaluating: (lead_opt-in IN Sketchbook to Style Boot Camp) AND (lead_source IN Skillshare) AND (launch IN Launch_6)\n"
     ]
    },
    {
     "name": "stdout",
     "output_type": "stream",
     "text": [
      "Progress: 1441/1680\r"
     ]
    },
    {
     "name": "stderr",
     "output_type": "stream",
     "text": [
      "INFO:root:Evaluating: (lead_opt-in IN Sketchbook to Style Boot Camp) AND (lead_source IN Skillshare) AND (launch IN Launch_7)\n",
      "INFO:root:Evaluating: (lead_opt-in IN Sketchbook to Style Boot Camp) AND (lead_source IN Skillshare) AND (launch IN Launch_8)\n",
      "INFO:root:Evaluating: (lead_opt-in IN Sketchbook to Style Boot Camp) AND (lead_source IN Skillshare) AND (country IN ['United States of America', 'Canada'])\n",
      "INFO:root:Evaluating: (lead_opt-in IN Sketchbook to Style Boot Camp) AND (lead_source IN Skillshare) AND (country IN ['United States of America', 'Canada']) AND (launch IN Launch_6)\n",
      "INFO:root:Evaluating: (lead_opt-in IN Sketchbook to Style Boot Camp) AND (lead_source IN Skillshare) AND (country IN ['United States of America', 'Canada']) AND (launch IN Launch_7)\n",
      "INFO:root:Evaluating: (lead_opt-in IN Sketchbook to Style Boot Camp) AND (lead_source IN Skillshare) AND (country IN ['United States of America', 'Canada']) AND (launch IN Launch_8)\n",
      "INFO:root:Evaluating: (lead_opt-in IN Sketchbook to Style Boot Camp) AND (lead_source IN Instagram)\n",
      "INFO:root:Evaluating: (lead_opt-in IN Sketchbook to Style Boot Camp) AND (lead_source IN Instagram) AND (launch IN Launch_6)\n",
      "INFO:root:Evaluating: (lead_opt-in IN Sketchbook to Style Boot Camp) AND (lead_source IN Instagram) AND (launch IN Launch_7)\n",
      "INFO:root:Evaluating: (lead_opt-in IN Sketchbook to Style Boot Camp) AND (lead_source IN Instagram) AND (launch IN Launch_8)\n",
      "INFO:root:Evaluating: (lead_opt-in IN Sketchbook to Style Boot Camp) AND (lead_source IN Instagram) AND (country IN ['United States of America', 'Canada'])\n",
      "INFO:root:Evaluating: (lead_opt-in IN Sketchbook to Style Boot Camp) AND (lead_source IN Instagram) AND (country IN ['United States of America', 'Canada']) AND (launch IN Launch_6)\n",
      "INFO:root:Evaluating: (lead_opt-in IN Sketchbook to Style Boot Camp) AND (lead_source IN Instagram) AND (country IN ['United States of America', 'Canada']) AND (launch IN Launch_7)\n",
      "INFO:root:Evaluating: (lead_opt-in IN Sketchbook to Style Boot Camp) AND (lead_source IN Instagram) AND (country IN ['United States of America', 'Canada']) AND (launch IN Launch_8)\n",
      "INFO:root:Evaluating: (lead_opt-in IN Studiomates WL)\n",
      "INFO:root:Evaluating: (lead_opt-in IN Studiomates WL) AND (launch IN Launch_6)\n",
      "INFO:root:Evaluating: (lead_opt-in IN Studiomates WL) AND (launch IN Launch_7)\n",
      "INFO:root:Evaluating: (lead_opt-in IN Studiomates WL) AND (launch IN Launch_8)\n",
      "INFO:root:Evaluating: (lead_opt-in IN Studiomates WL) AND (country IN ['United States of America', 'Canada'])\n",
      "INFO:root:Evaluating: (lead_opt-in IN Studiomates WL) AND (country IN ['United States of America', 'Canada']) AND (launch IN Launch_6)\n"
     ]
    },
    {
     "name": "stdout",
     "output_type": "stream",
     "text": [
      "Progress: 1461/1680\r"
     ]
    },
    {
     "name": "stderr",
     "output_type": "stream",
     "text": [
      "INFO:root:Evaluating: (lead_opt-in IN Studiomates WL) AND (country IN ['United States of America', 'Canada']) AND (launch IN Launch_7)\n",
      "INFO:root:Evaluating: (lead_opt-in IN Studiomates WL) AND (country IN ['United States of America', 'Canada']) AND (launch IN Launch_8)\n",
      "INFO:root:Evaluating: (lead_opt-in IN Studiomates WL) AND (lead_source IN Referral - Jake Parker)\n",
      "INFO:root:Evaluating: (lead_opt-in IN Studiomates WL) AND (lead_source IN Referral - Jake Parker) AND (launch IN Launch_6)\n",
      "INFO:root:Evaluating: (lead_opt-in IN Studiomates WL) AND (lead_source IN Referral - Jake Parker) AND (launch IN Launch_7)\n",
      "INFO:root:Evaluating: (lead_opt-in IN Studiomates WL) AND (lead_source IN Referral - Jake Parker) AND (launch IN Launch_8)\n",
      "INFO:root:Evaluating: (lead_opt-in IN Studiomates WL) AND (lead_source IN Referral - Jake Parker) AND (country IN ['United States of America', 'Canada'])\n",
      "INFO:root:Evaluating: (lead_opt-in IN Studiomates WL) AND (lead_source IN Referral - Jake Parker) AND (country IN ['United States of America', 'Canada']) AND (launch IN Launch_6)\n",
      "INFO:root:Evaluating: (lead_opt-in IN Studiomates WL) AND (lead_source IN Referral - Jake Parker) AND (country IN ['United States of America', 'Canada']) AND (launch IN Launch_7)\n",
      "INFO:root:Evaluating: (lead_opt-in IN Studiomates WL) AND (lead_source IN Referral - Jake Parker) AND (country IN ['United States of America', 'Canada']) AND (launch IN Launch_8)\n",
      "INFO:root:Evaluating: (lead_opt-in IN Studiomates WL) AND (lead_source IN Manual)\n",
      "INFO:root:Evaluating: (lead_opt-in IN Studiomates WL) AND (lead_source IN Manual) AND (launch IN Launch_6)\n",
      "INFO:root:Evaluating: (lead_opt-in IN Studiomates WL) AND (lead_source IN Manual) AND (launch IN Launch_7)\n",
      "INFO:root:Evaluating: (lead_opt-in IN Studiomates WL) AND (lead_source IN Manual) AND (launch IN Launch_8)\n",
      "INFO:root:Evaluating: (lead_opt-in IN Studiomates WL) AND (lead_source IN Manual) AND (country IN ['United States of America', 'Canada'])\n",
      "INFO:root:Evaluating: (lead_opt-in IN Studiomates WL) AND (lead_source IN Manual) AND (country IN ['United States of America', 'Canada']) AND (launch IN Launch_6)\n",
      "INFO:root:Evaluating: (lead_opt-in IN Studiomates WL) AND (lead_source IN Manual) AND (country IN ['United States of America', 'Canada']) AND (launch IN Launch_7)\n",
      "INFO:root:Evaluating: (lead_opt-in IN Studiomates WL) AND (lead_source IN Manual) AND (country IN ['United States of America', 'Canada']) AND (launch IN Launch_8)\n",
      "INFO:root:Evaluating: (lead_opt-in IN Studiomates WL) AND (lead_source IN Twitter)\n",
      "INFO:root:Evaluating: (lead_opt-in IN Studiomates WL) AND (lead_source IN Twitter) AND (launch IN Launch_6)\n"
     ]
    },
    {
     "name": "stdout",
     "output_type": "stream",
     "text": [
      "Progress: 1481/1680\r"
     ]
    },
    {
     "name": "stderr",
     "output_type": "stream",
     "text": [
      "INFO:root:Evaluating: (lead_opt-in IN Studiomates WL) AND (lead_source IN Twitter) AND (launch IN Launch_7)\n",
      "INFO:root:Evaluating: (lead_opt-in IN Studiomates WL) AND (lead_source IN Twitter) AND (launch IN Launch_8)\n",
      "INFO:root:Evaluating: (lead_opt-in IN Studiomates WL) AND (lead_source IN Twitter) AND (country IN ['United States of America', 'Canada'])\n",
      "INFO:root:Evaluating: (lead_opt-in IN Studiomates WL) AND (lead_source IN Twitter) AND (country IN ['United States of America', 'Canada']) AND (launch IN Launch_6)\n",
      "INFO:root:Evaluating: (lead_opt-in IN Studiomates WL) AND (lead_source IN Twitter) AND (country IN ['United States of America', 'Canada']) AND (launch IN Launch_7)\n",
      "INFO:root:Evaluating: (lead_opt-in IN Studiomates WL) AND (lead_source IN Twitter) AND (country IN ['United States of America', 'Canada']) AND (launch IN Launch_8)\n",
      "INFO:root:Evaluating: (lead_opt-in IN Studiomates WL) AND (lead_source IN FB Ad)\n",
      "INFO:root:Evaluating: (lead_opt-in IN Studiomates WL) AND (lead_source IN FB Ad) AND (launch IN Launch_6)\n",
      "INFO:root:Evaluating: (lead_opt-in IN Studiomates WL) AND (lead_source IN FB Ad) AND (launch IN Launch_7)\n",
      "INFO:root:Evaluating: (lead_opt-in IN Studiomates WL) AND (lead_source IN FB Ad) AND (launch IN Launch_8)\n",
      "INFO:root:Evaluating: (lead_opt-in IN Studiomates WL) AND (lead_source IN FB Ad) AND (country IN ['United States of America', 'Canada'])\n",
      "INFO:root:Evaluating: (lead_opt-in IN Studiomates WL) AND (lead_source IN FB Ad) AND (country IN ['United States of America', 'Canada']) AND (launch IN Launch_6)\n",
      "INFO:root:Evaluating: (lead_opt-in IN Studiomates WL) AND (lead_source IN FB Ad) AND (country IN ['United States of America', 'Canada']) AND (launch IN Launch_7)\n",
      "INFO:root:Evaluating: (lead_opt-in IN Studiomates WL) AND (lead_source IN FB Ad) AND (country IN ['United States of America', 'Canada']) AND (launch IN Launch_8)\n",
      "INFO:root:Evaluating: (lead_opt-in IN Studiomates WL) AND (lead_source IN Facebook)\n",
      "INFO:root:Evaluating: (lead_opt-in IN Studiomates WL) AND (lead_source IN Facebook) AND (launch IN Launch_6)\n",
      "INFO:root:Evaluating: (lead_opt-in IN Studiomates WL) AND (lead_source IN Facebook) AND (launch IN Launch_7)\n",
      "INFO:root:Evaluating: (lead_opt-in IN Studiomates WL) AND (lead_source IN Facebook) AND (launch IN Launch_8)\n",
      "INFO:root:Evaluating: (lead_opt-in IN Studiomates WL) AND (lead_source IN Facebook) AND (country IN ['United States of America', 'Canada'])\n",
      "INFO:root:Evaluating: (lead_opt-in IN Studiomates WL) AND (lead_source IN Facebook) AND (country IN ['United States of America', 'Canada']) AND (launch IN Launch_6)\n"
     ]
    },
    {
     "name": "stdout",
     "output_type": "stream",
     "text": [
      "Progress: 1501/1680\r"
     ]
    },
    {
     "name": "stderr",
     "output_type": "stream",
     "text": [
      "INFO:root:Evaluating: (lead_opt-in IN Studiomates WL) AND (lead_source IN Facebook) AND (country IN ['United States of America', 'Canada']) AND (launch IN Launch_7)\n",
      "INFO:root:Evaluating: (lead_opt-in IN Studiomates WL) AND (lead_source IN Facebook) AND (country IN ['United States of America', 'Canada']) AND (launch IN Launch_8)\n",
      "INFO:root:Evaluating: (lead_opt-in IN Studiomates WL) AND (lead_source IN MailChimp)\n",
      "INFO:root:Evaluating: (lead_opt-in IN Studiomates WL) AND (lead_source IN MailChimp) AND (launch IN Launch_6)\n",
      "INFO:root:Evaluating: (lead_opt-in IN Studiomates WL) AND (lead_source IN MailChimp) AND (launch IN Launch_7)\n",
      "INFO:root:Evaluating: (lead_opt-in IN Studiomates WL) AND (lead_source IN MailChimp) AND (launch IN Launch_8)\n",
      "INFO:root:Evaluating: (lead_opt-in IN Studiomates WL) AND (lead_source IN MailChimp) AND (country IN ['United States of America', 'Canada'])\n",
      "INFO:root:Evaluating: (lead_opt-in IN Studiomates WL) AND (lead_source IN MailChimp) AND (country IN ['United States of America', 'Canada']) AND (launch IN Launch_6)\n",
      "INFO:root:Evaluating: (lead_opt-in IN Studiomates WL) AND (lead_source IN MailChimp) AND (country IN ['United States of America', 'Canada']) AND (launch IN Launch_7)\n",
      "INFO:root:Evaluating: (lead_opt-in IN Studiomates WL) AND (lead_source IN MailChimp) AND (country IN ['United States of America', 'Canada']) AND (launch IN Launch_8)\n",
      "INFO:root:Evaluating: (lead_opt-in IN Studiomates WL) AND (lead_source IN Unknown)\n",
      "INFO:root:Evaluating: (lead_opt-in IN Studiomates WL) AND (lead_source IN Unknown) AND (launch IN Launch_6)\n",
      "INFO:root:Evaluating: (lead_opt-in IN Studiomates WL) AND (lead_source IN Unknown) AND (launch IN Launch_7)\n",
      "INFO:root:Evaluating: (lead_opt-in IN Studiomates WL) AND (lead_source IN Unknown) AND (launch IN Launch_8)\n",
      "INFO:root:Evaluating: (lead_opt-in IN Studiomates WL) AND (lead_source IN Unknown) AND (country IN ['United States of America', 'Canada'])\n",
      "INFO:root:Evaluating: (lead_opt-in IN Studiomates WL) AND (lead_source IN Unknown) AND (country IN ['United States of America', 'Canada']) AND (launch IN Launch_6)\n",
      "INFO:root:Evaluating: (lead_opt-in IN Studiomates WL) AND (lead_source IN Unknown) AND (country IN ['United States of America', 'Canada']) AND (launch IN Launch_7)\n",
      "INFO:root:Evaluating: (lead_opt-in IN Studiomates WL) AND (lead_source IN Unknown) AND (country IN ['United States of America', 'Canada']) AND (launch IN Launch_8)\n",
      "INFO:root:Evaluating: (lead_opt-in IN Studiomates WL) AND (lead_source IN None)\n",
      "INFO:root:Evaluating: (lead_opt-in IN Studiomates WL) AND (lead_source IN None) AND (launch IN Launch_6)\n"
     ]
    },
    {
     "name": "stdout",
     "output_type": "stream",
     "text": [
      "Progress: 1521/1680\r"
     ]
    },
    {
     "name": "stderr",
     "output_type": "stream",
     "text": [
      "INFO:root:Evaluating: (lead_opt-in IN Studiomates WL) AND (lead_source IN None) AND (launch IN Launch_7)\n",
      "INFO:root:Evaluating: (lead_opt-in IN Studiomates WL) AND (lead_source IN None) AND (launch IN Launch_8)\n",
      "INFO:root:Evaluating: (lead_opt-in IN Studiomates WL) AND (lead_source IN None) AND (country IN ['United States of America', 'Canada'])\n",
      "INFO:root:Evaluating: (lead_opt-in IN Studiomates WL) AND (lead_source IN None) AND (country IN ['United States of America', 'Canada']) AND (launch IN Launch_6)\n",
      "INFO:root:Evaluating: (lead_opt-in IN Studiomates WL) AND (lead_source IN None) AND (country IN ['United States of America', 'Canada']) AND (launch IN Launch_7)\n",
      "INFO:root:Evaluating: (lead_opt-in IN Studiomates WL) AND (lead_source IN None) AND (country IN ['United States of America', 'Canada']) AND (launch IN Launch_8)\n",
      "INFO:root:Evaluating: (lead_opt-in IN Studiomates WL) AND (lead_source IN Medium)\n",
      "INFO:root:Evaluating: (lead_opt-in IN Studiomates WL) AND (lead_source IN Medium) AND (launch IN Launch_6)\n",
      "INFO:root:Evaluating: (lead_opt-in IN Studiomates WL) AND (lead_source IN Medium) AND (launch IN Launch_7)\n",
      "INFO:root:Evaluating: (lead_opt-in IN Studiomates WL) AND (lead_source IN Medium) AND (launch IN Launch_8)\n",
      "INFO:root:Evaluating: (lead_opt-in IN Studiomates WL) AND (lead_source IN Medium) AND (country IN ['United States of America', 'Canada'])\n",
      "INFO:root:Evaluating: (lead_opt-in IN Studiomates WL) AND (lead_source IN Medium) AND (country IN ['United States of America', 'Canada']) AND (launch IN Launch_6)\n",
      "INFO:root:Evaluating: (lead_opt-in IN Studiomates WL) AND (lead_source IN Medium) AND (country IN ['United States of America', 'Canada']) AND (launch IN Launch_7)\n",
      "INFO:root:Evaluating: (lead_opt-in IN Studiomates WL) AND (lead_source IN Medium) AND (country IN ['United States of America', 'Canada']) AND (launch IN Launch_8)\n",
      "INFO:root:Evaluating: (lead_opt-in IN Studiomates WL) AND (lead_source IN MCS Page)\n",
      "INFO:root:Evaluating: (lead_opt-in IN Studiomates WL) AND (lead_source IN MCS Page) AND (launch IN Launch_6)\n",
      "INFO:root:Evaluating: (lead_opt-in IN Studiomates WL) AND (lead_source IN MCS Page) AND (launch IN Launch_7)\n",
      "INFO:root:Evaluating: (lead_opt-in IN Studiomates WL) AND (lead_source IN MCS Page) AND (launch IN Launch_8)\n",
      "INFO:root:Evaluating: (lead_opt-in IN Studiomates WL) AND (lead_source IN MCS Page) AND (country IN ['United States of America', 'Canada'])\n",
      "INFO:root:Evaluating: (lead_opt-in IN Studiomates WL) AND (lead_source IN MCS Page) AND (country IN ['United States of America', 'Canada']) AND (launch IN Launch_6)\n"
     ]
    },
    {
     "name": "stdout",
     "output_type": "stream",
     "text": [
      "Progress: 1541/1680\r"
     ]
    },
    {
     "name": "stderr",
     "output_type": "stream",
     "text": [
      "INFO:root:Evaluating: (lead_opt-in IN Studiomates WL) AND (lead_source IN MCS Page) AND (country IN ['United States of America', 'Canada']) AND (launch IN Launch_7)\n",
      "INFO:root:Evaluating: (lead_opt-in IN Studiomates WL) AND (lead_source IN MCS Page) AND (country IN ['United States of America', 'Canada']) AND (launch IN Launch_8)\n",
      "INFO:root:Evaluating: (lead_opt-in IN Studiomates WL) AND (lead_source IN Google Ad)\n",
      "INFO:root:Evaluating: (lead_opt-in IN Studiomates WL) AND (lead_source IN Google Ad) AND (launch IN Launch_6)\n",
      "INFO:root:Evaluating: (lead_opt-in IN Studiomates WL) AND (lead_source IN Google Ad) AND (launch IN Launch_7)\n",
      "INFO:root:Evaluating: (lead_opt-in IN Studiomates WL) AND (lead_source IN Google Ad) AND (launch IN Launch_8)\n",
      "INFO:root:Evaluating: (lead_opt-in IN Studiomates WL) AND (lead_source IN Google Ad) AND (country IN ['United States of America', 'Canada'])\n",
      "INFO:root:Evaluating: (lead_opt-in IN Studiomates WL) AND (lead_source IN Google Ad) AND (country IN ['United States of America', 'Canada']) AND (launch IN Launch_6)\n",
      "INFO:root:Evaluating: (lead_opt-in IN Studiomates WL) AND (lead_source IN Google Ad) AND (country IN ['United States of America', 'Canada']) AND (launch IN Launch_7)\n",
      "INFO:root:Evaluating: (lead_opt-in IN Studiomates WL) AND (lead_source IN Google Ad) AND (country IN ['United States of America', 'Canada']) AND (launch IN Launch_8)\n",
      "INFO:root:Evaluating: (lead_opt-in IN Studiomates WL) AND (lead_source IN Skillshare)\n",
      "INFO:root:Evaluating: (lead_opt-in IN Studiomates WL) AND (lead_source IN Skillshare) AND (launch IN Launch_6)\n",
      "INFO:root:Evaluating: (lead_opt-in IN Studiomates WL) AND (lead_source IN Skillshare) AND (launch IN Launch_7)\n",
      "INFO:root:Evaluating: (lead_opt-in IN Studiomates WL) AND (lead_source IN Skillshare) AND (launch IN Launch_8)\n",
      "INFO:root:Evaluating: (lead_opt-in IN Studiomates WL) AND (lead_source IN Skillshare) AND (country IN ['United States of America', 'Canada'])\n",
      "INFO:root:Evaluating: (lead_opt-in IN Studiomates WL) AND (lead_source IN Skillshare) AND (country IN ['United States of America', 'Canada']) AND (launch IN Launch_6)\n",
      "INFO:root:Evaluating: (lead_opt-in IN Studiomates WL) AND (lead_source IN Skillshare) AND (country IN ['United States of America', 'Canada']) AND (launch IN Launch_7)\n",
      "INFO:root:Evaluating: (lead_opt-in IN Studiomates WL) AND (lead_source IN Skillshare) AND (country IN ['United States of America', 'Canada']) AND (launch IN Launch_8)\n",
      "INFO:root:Evaluating: (lead_opt-in IN Studiomates WL) AND (lead_source IN Instagram)\n",
      "INFO:root:Evaluating: (lead_opt-in IN Studiomates WL) AND (lead_source IN Instagram) AND (launch IN Launch_6)\n"
     ]
    },
    {
     "name": "stdout",
     "output_type": "stream",
     "text": [
      "Progress: 1561/1680\r"
     ]
    },
    {
     "name": "stderr",
     "output_type": "stream",
     "text": [
      "INFO:root:Evaluating: (lead_opt-in IN Studiomates WL) AND (lead_source IN Instagram) AND (launch IN Launch_7)\n",
      "INFO:root:Evaluating: (lead_opt-in IN Studiomates WL) AND (lead_source IN Instagram) AND (launch IN Launch_8)\n",
      "INFO:root:Evaluating: (lead_opt-in IN Studiomates WL) AND (lead_source IN Instagram) AND (country IN ['United States of America', 'Canada'])\n",
      "INFO:root:Evaluating: (lead_opt-in IN Studiomates WL) AND (lead_source IN Instagram) AND (country IN ['United States of America', 'Canada']) AND (launch IN Launch_6)\n",
      "INFO:root:Evaluating: (lead_opt-in IN Studiomates WL) AND (lead_source IN Instagram) AND (country IN ['United States of America', 'Canada']) AND (launch IN Launch_7)\n",
      "INFO:root:Evaluating: (lead_opt-in IN Studiomates WL) AND (lead_source IN Instagram) AND (country IN ['United States of America', 'Canada']) AND (launch IN Launch_8)\n",
      "INFO:root:Evaluating: (lead_opt-in IN Influence Map)\n",
      "INFO:root:Evaluating: (lead_opt-in IN Influence Map) AND (launch IN Launch_6)\n",
      "INFO:root:Evaluating: (lead_opt-in IN Influence Map) AND (launch IN Launch_7)\n",
      "INFO:root:Evaluating: (lead_opt-in IN Influence Map) AND (launch IN Launch_8)\n",
      "INFO:root:Evaluating: (lead_opt-in IN Influence Map) AND (country IN ['United States of America', 'Canada'])\n",
      "INFO:root:Evaluating: (lead_opt-in IN Influence Map) AND (country IN ['United States of America', 'Canada']) AND (launch IN Launch_6)\n",
      "INFO:root:Evaluating: (lead_opt-in IN Influence Map) AND (country IN ['United States of America', 'Canada']) AND (launch IN Launch_7)\n",
      "INFO:root:Evaluating: (lead_opt-in IN Influence Map) AND (country IN ['United States of America', 'Canada']) AND (launch IN Launch_8)\n",
      "INFO:root:Evaluating: (lead_opt-in IN Influence Map) AND (lead_source IN Referral - Jake Parker)\n",
      "INFO:root:Evaluating: (lead_opt-in IN Influence Map) AND (lead_source IN Referral - Jake Parker) AND (launch IN Launch_6)\n",
      "INFO:root:Evaluating: (lead_opt-in IN Influence Map) AND (lead_source IN Referral - Jake Parker) AND (launch IN Launch_7)\n",
      "INFO:root:Evaluating: (lead_opt-in IN Influence Map) AND (lead_source IN Referral - Jake Parker) AND (launch IN Launch_8)\n",
      "INFO:root:Evaluating: (lead_opt-in IN Influence Map) AND (lead_source IN Referral - Jake Parker) AND (country IN ['United States of America', 'Canada'])\n",
      "INFO:root:Evaluating: (lead_opt-in IN Influence Map) AND (lead_source IN Referral - Jake Parker) AND (country IN ['United States of America', 'Canada']) AND (launch IN Launch_6)\n"
     ]
    },
    {
     "name": "stdout",
     "output_type": "stream",
     "text": [
      "Progress: 1581/1680\r"
     ]
    },
    {
     "name": "stderr",
     "output_type": "stream",
     "text": [
      "INFO:root:Evaluating: (lead_opt-in IN Influence Map) AND (lead_source IN Referral - Jake Parker) AND (country IN ['United States of America', 'Canada']) AND (launch IN Launch_7)\n",
      "INFO:root:Evaluating: (lead_opt-in IN Influence Map) AND (lead_source IN Referral - Jake Parker) AND (country IN ['United States of America', 'Canada']) AND (launch IN Launch_8)\n",
      "INFO:root:Evaluating: (lead_opt-in IN Influence Map) AND (lead_source IN Manual)\n",
      "INFO:root:Evaluating: (lead_opt-in IN Influence Map) AND (lead_source IN Manual) AND (launch IN Launch_6)\n",
      "INFO:root:Evaluating: (lead_opt-in IN Influence Map) AND (lead_source IN Manual) AND (launch IN Launch_7)\n",
      "INFO:root:Evaluating: (lead_opt-in IN Influence Map) AND (lead_source IN Manual) AND (launch IN Launch_8)\n",
      "INFO:root:Evaluating: (lead_opt-in IN Influence Map) AND (lead_source IN Manual) AND (country IN ['United States of America', 'Canada'])\n",
      "INFO:root:Evaluating: (lead_opt-in IN Influence Map) AND (lead_source IN Manual) AND (country IN ['United States of America', 'Canada']) AND (launch IN Launch_6)\n",
      "INFO:root:Evaluating: (lead_opt-in IN Influence Map) AND (lead_source IN Manual) AND (country IN ['United States of America', 'Canada']) AND (launch IN Launch_7)\n",
      "INFO:root:Evaluating: (lead_opt-in IN Influence Map) AND (lead_source IN Manual) AND (country IN ['United States of America', 'Canada']) AND (launch IN Launch_8)\n",
      "INFO:root:Evaluating: (lead_opt-in IN Influence Map) AND (lead_source IN Twitter)\n",
      "INFO:root:Evaluating: (lead_opt-in IN Influence Map) AND (lead_source IN Twitter) AND (launch IN Launch_6)\n",
      "INFO:root:Evaluating: (lead_opt-in IN Influence Map) AND (lead_source IN Twitter) AND (launch IN Launch_7)\n",
      "INFO:root:Evaluating: (lead_opt-in IN Influence Map) AND (lead_source IN Twitter) AND (launch IN Launch_8)\n",
      "INFO:root:Evaluating: (lead_opt-in IN Influence Map) AND (lead_source IN Twitter) AND (country IN ['United States of America', 'Canada'])\n",
      "INFO:root:Evaluating: (lead_opt-in IN Influence Map) AND (lead_source IN Twitter) AND (country IN ['United States of America', 'Canada']) AND (launch IN Launch_6)\n",
      "INFO:root:Evaluating: (lead_opt-in IN Influence Map) AND (lead_source IN Twitter) AND (country IN ['United States of America', 'Canada']) AND (launch IN Launch_7)\n",
      "INFO:root:Evaluating: (lead_opt-in IN Influence Map) AND (lead_source IN Twitter) AND (country IN ['United States of America', 'Canada']) AND (launch IN Launch_8)\n",
      "INFO:root:Evaluating: (lead_opt-in IN Influence Map) AND (lead_source IN FB Ad)\n",
      "INFO:root:Evaluating: (lead_opt-in IN Influence Map) AND (lead_source IN FB Ad) AND (launch IN Launch_6)\n"
     ]
    },
    {
     "name": "stdout",
     "output_type": "stream",
     "text": [
      "Progress: 1601/1680\r"
     ]
    },
    {
     "name": "stderr",
     "output_type": "stream",
     "text": [
      "INFO:root:Evaluating: (lead_opt-in IN Influence Map) AND (lead_source IN FB Ad) AND (launch IN Launch_7)\n",
      "INFO:root:Evaluating: (lead_opt-in IN Influence Map) AND (lead_source IN FB Ad) AND (launch IN Launch_8)\n",
      "INFO:root:Evaluating: (lead_opt-in IN Influence Map) AND (lead_source IN FB Ad) AND (country IN ['United States of America', 'Canada'])\n",
      "INFO:root:Evaluating: (lead_opt-in IN Influence Map) AND (lead_source IN FB Ad) AND (country IN ['United States of America', 'Canada']) AND (launch IN Launch_6)\n",
      "INFO:root:Evaluating: (lead_opt-in IN Influence Map) AND (lead_source IN FB Ad) AND (country IN ['United States of America', 'Canada']) AND (launch IN Launch_7)\n",
      "INFO:root:Evaluating: (lead_opt-in IN Influence Map) AND (lead_source IN FB Ad) AND (country IN ['United States of America', 'Canada']) AND (launch IN Launch_8)\n",
      "INFO:root:Evaluating: (lead_opt-in IN Influence Map) AND (lead_source IN Facebook)\n",
      "INFO:root:Evaluating: (lead_opt-in IN Influence Map) AND (lead_source IN Facebook) AND (launch IN Launch_6)\n",
      "INFO:root:Evaluating: (lead_opt-in IN Influence Map) AND (lead_source IN Facebook) AND (launch IN Launch_7)\n",
      "INFO:root:Evaluating: (lead_opt-in IN Influence Map) AND (lead_source IN Facebook) AND (launch IN Launch_8)\n",
      "INFO:root:Evaluating: (lead_opt-in IN Influence Map) AND (lead_source IN Facebook) AND (country IN ['United States of America', 'Canada'])\n",
      "INFO:root:Evaluating: (lead_opt-in IN Influence Map) AND (lead_source IN Facebook) AND (country IN ['United States of America', 'Canada']) AND (launch IN Launch_6)\n",
      "INFO:root:Evaluating: (lead_opt-in IN Influence Map) AND (lead_source IN Facebook) AND (country IN ['United States of America', 'Canada']) AND (launch IN Launch_7)\n",
      "INFO:root:Evaluating: (lead_opt-in IN Influence Map) AND (lead_source IN Facebook) AND (country IN ['United States of America', 'Canada']) AND (launch IN Launch_8)\n",
      "INFO:root:Evaluating: (lead_opt-in IN Influence Map) AND (lead_source IN MailChimp)\n",
      "INFO:root:Evaluating: (lead_opt-in IN Influence Map) AND (lead_source IN MailChimp) AND (launch IN Launch_6)\n",
      "INFO:root:Evaluating: (lead_opt-in IN Influence Map) AND (lead_source IN MailChimp) AND (launch IN Launch_7)\n",
      "INFO:root:Evaluating: (lead_opt-in IN Influence Map) AND (lead_source IN MailChimp) AND (launch IN Launch_8)\n",
      "INFO:root:Evaluating: (lead_opt-in IN Influence Map) AND (lead_source IN MailChimp) AND (country IN ['United States of America', 'Canada'])\n",
      "INFO:root:Evaluating: (lead_opt-in IN Influence Map) AND (lead_source IN MailChimp) AND (country IN ['United States of America', 'Canada']) AND (launch IN Launch_6)\n"
     ]
    },
    {
     "name": "stdout",
     "output_type": "stream",
     "text": [
      "Progress: 1621/1680\r"
     ]
    },
    {
     "name": "stderr",
     "output_type": "stream",
     "text": [
      "INFO:root:Evaluating: (lead_opt-in IN Influence Map) AND (lead_source IN MailChimp) AND (country IN ['United States of America', 'Canada']) AND (launch IN Launch_7)\n",
      "INFO:root:Evaluating: (lead_opt-in IN Influence Map) AND (lead_source IN MailChimp) AND (country IN ['United States of America', 'Canada']) AND (launch IN Launch_8)\n",
      "INFO:root:Evaluating: (lead_opt-in IN Influence Map) AND (lead_source IN Unknown)\n",
      "INFO:root:Evaluating: (lead_opt-in IN Influence Map) AND (lead_source IN Unknown) AND (launch IN Launch_6)\n",
      "INFO:root:Evaluating: (lead_opt-in IN Influence Map) AND (lead_source IN Unknown) AND (launch IN Launch_7)\n",
      "INFO:root:Evaluating: (lead_opt-in IN Influence Map) AND (lead_source IN Unknown) AND (launch IN Launch_8)\n",
      "INFO:root:Evaluating: (lead_opt-in IN Influence Map) AND (lead_source IN Unknown) AND (country IN ['United States of America', 'Canada'])\n",
      "INFO:root:Evaluating: (lead_opt-in IN Influence Map) AND (lead_source IN Unknown) AND (country IN ['United States of America', 'Canada']) AND (launch IN Launch_6)\n",
      "INFO:root:Evaluating: (lead_opt-in IN Influence Map) AND (lead_source IN Unknown) AND (country IN ['United States of America', 'Canada']) AND (launch IN Launch_7)\n",
      "INFO:root:Evaluating: (lead_opt-in IN Influence Map) AND (lead_source IN Unknown) AND (country IN ['United States of America', 'Canada']) AND (launch IN Launch_8)\n",
      "INFO:root:Evaluating: (lead_opt-in IN Influence Map) AND (lead_source IN None)\n",
      "INFO:root:Evaluating: (lead_opt-in IN Influence Map) AND (lead_source IN None) AND (launch IN Launch_6)\n",
      "INFO:root:Evaluating: (lead_opt-in IN Influence Map) AND (lead_source IN None) AND (launch IN Launch_7)\n",
      "INFO:root:Evaluating: (lead_opt-in IN Influence Map) AND (lead_source IN None) AND (launch IN Launch_8)\n",
      "INFO:root:Evaluating: (lead_opt-in IN Influence Map) AND (lead_source IN None) AND (country IN ['United States of America', 'Canada'])\n",
      "INFO:root:Evaluating: (lead_opt-in IN Influence Map) AND (lead_source IN None) AND (country IN ['United States of America', 'Canada']) AND (launch IN Launch_6)\n",
      "INFO:root:Evaluating: (lead_opt-in IN Influence Map) AND (lead_source IN None) AND (country IN ['United States of America', 'Canada']) AND (launch IN Launch_7)\n",
      "INFO:root:Evaluating: (lead_opt-in IN Influence Map) AND (lead_source IN None) AND (country IN ['United States of America', 'Canada']) AND (launch IN Launch_8)\n",
      "INFO:root:Evaluating: (lead_opt-in IN Influence Map) AND (lead_source IN Medium)\n",
      "INFO:root:Evaluating: (lead_opt-in IN Influence Map) AND (lead_source IN Medium) AND (launch IN Launch_6)\n"
     ]
    },
    {
     "name": "stdout",
     "output_type": "stream",
     "text": [
      "Progress: 1641/1680\r"
     ]
    },
    {
     "name": "stderr",
     "output_type": "stream",
     "text": [
      "INFO:root:Evaluating: (lead_opt-in IN Influence Map) AND (lead_source IN Medium) AND (launch IN Launch_7)\n",
      "INFO:root:Evaluating: (lead_opt-in IN Influence Map) AND (lead_source IN Medium) AND (launch IN Launch_8)\n",
      "INFO:root:Evaluating: (lead_opt-in IN Influence Map) AND (lead_source IN Medium) AND (country IN ['United States of America', 'Canada'])\n",
      "INFO:root:Evaluating: (lead_opt-in IN Influence Map) AND (lead_source IN Medium) AND (country IN ['United States of America', 'Canada']) AND (launch IN Launch_6)\n",
      "INFO:root:Evaluating: (lead_opt-in IN Influence Map) AND (lead_source IN Medium) AND (country IN ['United States of America', 'Canada']) AND (launch IN Launch_7)\n",
      "INFO:root:Evaluating: (lead_opt-in IN Influence Map) AND (lead_source IN Medium) AND (country IN ['United States of America', 'Canada']) AND (launch IN Launch_8)\n",
      "INFO:root:Evaluating: (lead_opt-in IN Influence Map) AND (lead_source IN MCS Page)\n",
      "INFO:root:Evaluating: (lead_opt-in IN Influence Map) AND (lead_source IN MCS Page) AND (launch IN Launch_6)\n",
      "INFO:root:Evaluating: (lead_opt-in IN Influence Map) AND (lead_source IN MCS Page) AND (launch IN Launch_7)\n",
      "INFO:root:Evaluating: (lead_opt-in IN Influence Map) AND (lead_source IN MCS Page) AND (launch IN Launch_8)\n",
      "INFO:root:Evaluating: (lead_opt-in IN Influence Map) AND (lead_source IN MCS Page) AND (country IN ['United States of America', 'Canada'])\n",
      "INFO:root:Evaluating: (lead_opt-in IN Influence Map) AND (lead_source IN MCS Page) AND (country IN ['United States of America', 'Canada']) AND (launch IN Launch_6)\n",
      "INFO:root:Evaluating: (lead_opt-in IN Influence Map) AND (lead_source IN MCS Page) AND (country IN ['United States of America', 'Canada']) AND (launch IN Launch_7)\n",
      "INFO:root:Evaluating: (lead_opt-in IN Influence Map) AND (lead_source IN MCS Page) AND (country IN ['United States of America', 'Canada']) AND (launch IN Launch_8)\n",
      "INFO:root:Evaluating: (lead_opt-in IN Influence Map) AND (lead_source IN Google Ad)\n",
      "INFO:root:Evaluating: (lead_opt-in IN Influence Map) AND (lead_source IN Google Ad) AND (launch IN Launch_6)\n",
      "INFO:root:Evaluating: (lead_opt-in IN Influence Map) AND (lead_source IN Google Ad) AND (launch IN Launch_7)\n",
      "INFO:root:Evaluating: (lead_opt-in IN Influence Map) AND (lead_source IN Google Ad) AND (launch IN Launch_8)\n",
      "INFO:root:Evaluating: (lead_opt-in IN Influence Map) AND (lead_source IN Google Ad) AND (country IN ['United States of America', 'Canada'])\n",
      "INFO:root:Evaluating: (lead_opt-in IN Influence Map) AND (lead_source IN Google Ad) AND (country IN ['United States of America', 'Canada']) AND (launch IN Launch_6)\n"
     ]
    },
    {
     "name": "stdout",
     "output_type": "stream",
     "text": [
      "Progress: 1661/1680\r"
     ]
    },
    {
     "name": "stderr",
     "output_type": "stream",
     "text": [
      "INFO:root:Evaluating: (lead_opt-in IN Influence Map) AND (lead_source IN Google Ad) AND (country IN ['United States of America', 'Canada']) AND (launch IN Launch_7)\n",
      "INFO:root:Evaluating: (lead_opt-in IN Influence Map) AND (lead_source IN Google Ad) AND (country IN ['United States of America', 'Canada']) AND (launch IN Launch_8)\n",
      "INFO:root:Evaluating: (lead_opt-in IN Influence Map) AND (lead_source IN Skillshare)\n",
      "INFO:root:Evaluating: (lead_opt-in IN Influence Map) AND (lead_source IN Skillshare) AND (launch IN Launch_6)\n",
      "INFO:root:Evaluating: (lead_opt-in IN Influence Map) AND (lead_source IN Skillshare) AND (launch IN Launch_7)\n",
      "INFO:root:Evaluating: (lead_opt-in IN Influence Map) AND (lead_source IN Skillshare) AND (launch IN Launch_8)\n",
      "INFO:root:Evaluating: (lead_opt-in IN Influence Map) AND (lead_source IN Skillshare) AND (country IN ['United States of America', 'Canada'])\n",
      "INFO:root:Evaluating: (lead_opt-in IN Influence Map) AND (lead_source IN Skillshare) AND (country IN ['United States of America', 'Canada']) AND (launch IN Launch_6)\n",
      "INFO:root:Evaluating: (lead_opt-in IN Influence Map) AND (lead_source IN Skillshare) AND (country IN ['United States of America', 'Canada']) AND (launch IN Launch_7)\n",
      "INFO:root:Evaluating: (lead_opt-in IN Influence Map) AND (lead_source IN Skillshare) AND (country IN ['United States of America', 'Canada']) AND (launch IN Launch_8)\n",
      "INFO:root:Evaluating: (lead_opt-in IN Influence Map) AND (lead_source IN Instagram)\n",
      "INFO:root:Evaluating: (lead_opt-in IN Influence Map) AND (lead_source IN Instagram) AND (launch IN Launch_6)\n",
      "INFO:root:Evaluating: (lead_opt-in IN Influence Map) AND (lead_source IN Instagram) AND (launch IN Launch_7)\n",
      "INFO:root:Evaluating: (lead_opt-in IN Influence Map) AND (lead_source IN Instagram) AND (launch IN Launch_8)\n",
      "INFO:root:Evaluating: (lead_opt-in IN Influence Map) AND (lead_source IN Instagram) AND (country IN ['United States of America', 'Canada'])\n",
      "INFO:root:Evaluating: (lead_opt-in IN Influence Map) AND (lead_source IN Instagram) AND (country IN ['United States of America', 'Canada']) AND (launch IN Launch_6)\n",
      "INFO:root:Evaluating: (lead_opt-in IN Influence Map) AND (lead_source IN Instagram) AND (country IN ['United States of America', 'Canada']) AND (launch IN Launch_7)\n",
      "INFO:root:Evaluating: (lead_opt-in IN Influence Map) AND (lead_source IN Instagram) AND (country IN ['United States of America', 'Canada']) AND (launch IN Launch_8)\n"
     ]
    }
   ],
   "source": [
    "create_purchase_rate_spreadsheet(f'/Users/nish/development/git/convertkit_wrapper/purchase_rates_{time_dt_to_ck(datetime.now())}.csv', purchases, launches)"
   ]
  },
  {
   "cell_type": "code",
   "execution_count": 135,
   "metadata": {
    "ExecuteTime": {
     "end_time": "2020-04-08T16:19:30.484561Z",
     "start_time": "2020-04-08T16:19:30.388709Z"
    }
   },
   "outputs": [],
   "source": [
    "def create_purchase_rate_spreadsheet(filename, purchases, launches):\n",
    "    all_optins = [None, 'Style Mini-course', 'MCDT', 'Emails', 'Tools', 'WAF Activity Guide', 'MailChimp', 'Unknown', 'Sketchbook Mini-course', 'WAF ebook', 'Book Making', 'StSBC WL', 'Sketchbook to Style Boot Camp', 'Studiomates WL', 'Influence Map']\n",
    "    all_sources = [None, 'Referral - Jake Parker', 'Manual', 'Twitter', 'FB Ad', 'Facebook', 'MailChimp', 'Unknown', 'None', 'Medium', 'MCS Page', 'Google Ad', 'Skillshare', 'Instagram']\n",
    "    all_countries = [None, ['United States of America', 'Canada']]\n",
    "    all_launches = [None, 'Launch_6', 'Launch_7', 'Launch_8']\n",
    "    \n",
    "    with open(filename, 'w+') as csv_file:\n",
    "        writer = csv.writer(csv_file, delimiter=',', quotechar='\"', quoting=csv.QUOTE_MINIMAL)\n",
    "        writer.writerow(['optin', 'source' , 'country', 'launch', 'purchases', 'launches', 'rate'])\n",
    "        all_attrs = [{'lead_opt-in': optin, 'lead_source': source, 'country': country, 'launch':launch}\n",
    "                        for optin in all_optins\n",
    "                        for source in all_sources\n",
    "                        for country in all_countries\n",
    "                        for launch in all_launches]\n",
    "\n",
    "        for i, attrs in enumerate(all_attrs):\n",
    "            if i % 20 == 0: print(f'Progress: {i+1}/{len(all_attrs)}', end='\\r')\n",
    "\n",
    "            del_keys = [k for k,v in attrs.items() if not v]\n",
    "            for del_key in del_keys: del attrs[del_key]\n",
    "\n",
    "            purchase_rate = 0\n",
    "            p, l = specific_purchase_rate(purchases, launches, **attrs)\n",
    "            if len(l) != 0: purchase_rate = round(len(p)/len(l)*100, 2)\n",
    "\n",
    "            writer.writerow([\n",
    "                attrs['lead_opt-in'] if 'lead_opt-in' in attrs else \"All\", \n",
    "                attrs['lead_source'] if 'lead_source' in attrs else \"All\",\n",
    "                \"US & CA\" if 'country' in attrs else \"All\",\n",
    "                attrs['launch'] if 'launch' in attrs else \"All\",\n",
    "                len(p), \n",
    "                len(l), \n",
    "                purchase_rate\n",
    "            ])"
   ]
  },
  {
   "cell_type": "markdown",
   "metadata": {
    "heading_collapsed": true
   },
   "source": [
    "##### Add to Launch and Purchase Data"
   ]
  },
  {
   "cell_type": "code",
   "execution_count": 117,
   "metadata": {
    "ExecuteTime": {
     "end_time": "2020-04-08T16:11:03.911225Z",
     "start_time": "2020-04-08T16:11:03.780546Z"
    },
    "hidden": true
   },
   "outputs": [
    {
     "data": {
      "text/plain": [
       "[{'launch': 'Evergreen_1', 'count': 498},\n",
       " {'launch': 'Evergreen_2', 'count': 4346},\n",
       " {'launch': 'Giveaway', 'count': 5},\n",
       " {'launch': 'Launch_1', 'count': 1472},\n",
       " {'launch': 'Launch_2', 'count': 1633},\n",
       " {'launch': 'Launch_3', 'count': 2023},\n",
       " {'launch': 'Launch_4', 'count': 2409},\n",
       " {'launch': 'Launch_5', 'count': 3384},\n",
       " {'launch': 'Launch_6', 'count': 7926},\n",
       " {'launch': 'Launch_7', 'count': 11339},\n",
       " {'launch': 'Launch_8', 'count': 11057},\n",
       " {'launch': 'Unknown', 'count': 4}]"
      ]
     },
     "execution_count": 117,
     "metadata": {},
     "output_type": "execute_result"
    }
   ],
   "source": [
    "cursor.e('SELECT * FROM launch_info')\n",
    "cursor.e('SELECT launch, COUNT(*) as count FROM launch_data GROUP BY launch')"
   ]
  },
  {
   "cell_type": "code",
   "execution_count": 112,
   "metadata": {
    "ExecuteTime": {
     "end_time": "2020-04-08T16:10:03.027419Z",
     "start_time": "2020-04-08T16:09:54.883512Z"
    },
    "hidden": true
   },
   "outputs": [
    {
     "data": {
      "text/plain": [
       "11057"
      ]
     },
     "execution_count": 112,
     "metadata": {},
     "output_type": "execute_result"
    }
   ],
   "source": [
    "# Add Launch_7 to people who have that tag (DONE)\n",
    "# Add Launch_8 to people who have that tag \n",
    "# Add Purchase for people who bought at 7\n",
    "# Add Purchase for people who bought at 8\n",
    "# get_api_data(CK_Api.TAG_SUBS, 1399138, test=True, session=session)\n",
    "# launch_7ers = get_api_data(CK_Api.TAG_SUBS, 1189034, include_unsubscribers=True, session=session)\n",
    "# len(launch_7ers)\n",
    "# launch_7_data = [(l.get('subscriber', {}).get('id', None), 'Launch_7') for l in launch_7ers if l.get('subscriber', {}).get('id', None)]\n",
    "launch_8ers = get_api_data(CK_Api.TAG_SUBS, 1399138, include_unsubscribers=True, session=session)\n",
    "len(launch_8ers)\n",
    "launch_8_data = [(l.get('subscriber', {}).get('id', None), 'Launch_8') for l in launch_8ers if l.get('subscriber', {}).get('id', None)]"
   ]
  },
  {
   "cell_type": "code",
   "execution_count": 55,
   "metadata": {
    "ExecuteTime": {
     "end_time": "2020-04-08T15:11:03.435991Z",
     "start_time": "2020-04-08T15:11:03.366280Z"
    },
    "hidden": true
   },
   "outputs": [
    {
     "data": {
      "text/plain": [
       "[{'subscriber_id': 137632665, 'launch': 'Launch_1'},\n",
       " {'subscriber_id': 137632665, 'launch': 'Launch_2'},\n",
       " {'subscriber_id': 137632665, 'launch': 'Launch_3'},\n",
       " {'subscriber_id': 137632665, 'launch': 'Launch_4'},\n",
       " {'subscriber_id': 137632665, 'launch': 'Launch_5'}]"
      ]
     },
     "execution_count": 55,
     "metadata": {},
     "output_type": "execute_result"
    }
   ],
   "source": [
    "cursor.e('SELECT * FROM launch_data WHERE subscriber_id=\"137632665\"')"
   ]
  },
  {
   "cell_type": "code",
   "execution_count": 115,
   "metadata": {
    "ExecuteTime": {
     "end_time": "2020-04-08T16:10:51.248793Z",
     "start_time": "2020-04-08T16:10:50.941187Z"
    },
    "hidden": true
   },
   "outputs": [
    {
     "data": {
      "text/plain": [
       "11057"
      ]
     },
     "execution_count": 115,
     "metadata": {},
     "output_type": "execute_result"
    }
   ],
   "source": [
    "cursor.executemany('INSERT INTO launch_data (subscriber_id, launch) VALUES (%s, %s)', launch_8_data)"
   ]
  },
  {
   "cell_type": "code",
   "execution_count": 80,
   "metadata": {
    "ExecuteTime": {
     "end_time": "2020-04-08T15:23:56.057367Z",
     "start_time": "2020-04-08T15:23:55.998338Z"
    },
    "hidden": true
   },
   "outputs": [
    {
     "data": {
      "text/plain": [
       "()"
      ]
     },
     "execution_count": 80,
     "metadata": {},
     "output_type": "execute_result"
    }
   ],
   "source": [
    "cursor.e(\"\"\"\n",
    "UPDATE purchase_data \n",
    "SET subscriber_email_address=\"anilalunna@gmail.com\", subscriber_id=242681946\n",
    "WHERE purchaser_email_address = \"anitnitnit@gmail.com\" AND purchaser_id=659532389\n",
    "\"\"\")"
   ]
  },
  {
   "cell_type": "code",
   "execution_count": 98,
   "metadata": {
    "ExecuteTime": {
     "end_time": "2020-04-08T16:03:35.919420Z",
     "start_time": "2020-04-08T16:03:15.432340Z"
    },
    "collapsed": true,
    "hidden": true
   },
   "outputs": [
    {
     "name": "stdout",
     "output_type": "stream",
     "text": [
      "No subcriber for purchaser 648325045, dnishiyama+stsbctest9@gmail.com\n",
      "No subcriber for purchaser 648335856, dnishiyama+stsbctestotp@gmail.com\n",
      "No subcriber for purchaser 658670602, kathleenkarras@gmail.co\n",
      "Adding (625483335,hpandora1112@gmail.com) for purchaser (653806792, kathykexinhan@gmail.com)\n",
      "1\n",
      "Adding (368594399,michele.gauler@gmx.net) for purchaser (653149805, mg@michelegauler.net)\n",
      "1\n",
      "Adding (502623807,lunaria8@att.net) for purchaser (658807595, tu.aileen@gmail.com)\n",
      "1\n"
     ]
    }
   ],
   "source": [
    "# Fix purchase data with no \"Subscriber\" info\n",
    "purchase_data = cursor.e(\"\"\" SELECT * FROM purchase_data \n",
    "WHERE purchase_date > \"2019-08-01\" AND purchase_date < \"2020-01-01\" \"\"\")\n",
    "for purchase in purchase_data:\n",
    "    # Look for people with no subscriber_id\n",
    "    if purchase.get('subscriber_id', 1) or purchase.get('subscriber_email_address', 1): continue\n",
    "        \n",
    "    # Check that they have a STSBC_SUBSCRIBER_ID field in CK\n",
    "    purchaser_id = purchase.get('purchaser_id')\n",
    "    purchaser_email_address = purchase.get('purchaser_email_address')\n",
    "    subscriber_id = all_rds_dict.get(purchaser_id, {}).get('stsbc_subscriber_id')\n",
    "    if not subscriber_id:\n",
    "        input(f'No subcriber for purchaser {purchaser_id}, {purchaser_email_address}')\n",
    "        continue\n",
    "    else:\n",
    "        # Get that subscriber_id and subscriber_email_address\n",
    "        subscriber_email_address = all_rds_dict[subscriber_id]['email_address']\n",
    "        # Confirm the update\n",
    "        input(f'Adding ({subscriber_id},{subscriber_email_address}) for purchaser ({purchaser_id}, {purchaser_email_address})')\n",
    "        sql_stmt = \"\"\"UPDATE purchase_data \n",
    "        SET subscriber_email_address=%s, subscriber_id=%s\n",
    "        WHERE purchaser_email_address = %s AND purchaser_id=%s\"\"\"\n",
    "        values = (subscriber_email_address, subscriber_id, purchaser_email_address, purchaser_id)\n",
    "        \n",
    "        # make the update\n",
    "        print(cursor.e(sql_stmt, values))\n",
    "    \n",
    "    \n"
   ]
  },
  {
   "cell_type": "code",
   "execution_count": 121,
   "metadata": {
    "ExecuteTime": {
     "end_time": "2020-04-08T16:13:22.918099Z",
     "start_time": "2020-04-08T16:13:22.816291Z"
    },
    "hidden": true
   },
   "outputs": [
    {
     "data": {
      "text/plain": [
       "1"
      ]
     },
     "execution_count": 121,
     "metadata": {},
     "output_type": "execute_result"
    }
   ],
   "source": [
    "cursor.e('DELETE FROM purchase_data WHERE purchaser_email_address IN (\"john_doe@example.com\")')"
   ]
  },
  {
   "cell_type": "code",
   "execution_count": 122,
   "metadata": {
    "ExecuteTime": {
     "end_time": "2020-04-08T16:13:43.686340Z",
     "start_time": "2020-04-08T16:13:43.624484Z"
    },
    "hidden": true
   },
   "outputs": [
    {
     "data": {
      "text/plain": [
       "()"
      ]
     },
     "execution_count": 122,
     "metadata": {},
     "output_type": "execute_result"
    }
   ],
   "source": [
    "cursor.e(\"\"\"\n",
    "UPDATE purchase_data \n",
    "SET launch=\"Launch_8\"\n",
    "WHERE \n",
    "    purchase_date > \"2020-01-01\"\n",
    "\"\"\")"
   ]
  },
  {
   "cell_type": "code",
   "execution_count": 123,
   "metadata": {
    "ExecuteTime": {
     "end_time": "2020-04-08T16:13:47.386472Z",
     "start_time": "2020-04-08T16:13:47.302733Z"
    },
    "hidden": true
   },
   "outputs": [
    {
     "data": {
      "text/plain": [
       "[{'subscriber_id': 444783984,\n",
       "  'subscriber_email_address': 'aislinnkay@live.com',\n",
       "  'purchaser_id': 444783984,\n",
       "  'purchaser_email_address': 'aislinnkay@live.com',\n",
       "  'item': 'Sketchbook to Style',\n",
       "  'purchase_date': '2020-03-17',\n",
       "  'launch': 'Launch_8',\n",
       "  'purchase_value': 297,\n",
       "  'refund': 0},\n",
       " {'subscriber_id': 137632879,\n",
       "  'subscriber_email_address': 'amanda.leti@gmail.com',\n",
       "  'purchaser_id': 137632879,\n",
       "  'purchaser_email_address': 'amanda.leti@gmail.com',\n",
       "  'item': 'Sketchbook to Style',\n",
       "  'purchase_date': '2020-03-24',\n",
       "  'launch': 'Launch_8',\n",
       "  'purchase_value': 297,\n",
       "  'refund': 0},\n",
       " {'subscriber_id': None,\n",
       "  'subscriber_email_address': None,\n",
       "  'purchaser_id': 775727751,\n",
       "  'purchaser_email_address': 'bess.hamilton@gmail.com',\n",
       "  'item': 'Sketchbook to Style',\n",
       "  'purchase_date': '2020-03-24',\n",
       "  'launch': 'Launch_8',\n",
       "  'purchase_value': 297,\n",
       "  'refund': 0},\n",
       " {'subscriber_id': 754002909,\n",
       "  'subscriber_email_address': 'cecile.maignot@gmail.com',\n",
       "  'purchaser_id': 754002909,\n",
       "  'purchaser_email_address': 'cecile.maignot@gmail.com',\n",
       "  'item': 'Sketchbook to Style',\n",
       "  'purchase_date': '2020-03-23',\n",
       "  'launch': 'Launch_8',\n",
       "  'purchase_value': 297,\n",
       "  'refund': 0},\n",
       " {'subscriber_id': 137633745,\n",
       "  'subscriber_email_address': 'conbasta@gmail.com',\n",
       "  'purchaser_id': 137633745,\n",
       "  'purchaser_email_address': 'conbasta@gmail.com',\n",
       "  'item': 'Sketchbook to Style',\n",
       "  'purchase_date': '2020-03-24',\n",
       "  'launch': 'Launch_8',\n",
       "  'purchase_value': 297,\n",
       "  'refund': 0},\n",
       " {'subscriber_id': 613844661,\n",
       "  'subscriber_email_address': 'conspiracychild@gmail.com',\n",
       "  'purchaser_id': 613844661,\n",
       "  'purchaser_email_address': 'conspiracychild@gmail.com',\n",
       "  'item': 'Sketchbook to Style',\n",
       "  'purchase_date': '2020-03-24',\n",
       "  'launch': 'Launch_8',\n",
       "  'purchase_value': 297,\n",
       "  'refund': 0},\n",
       " {'subscriber_id': 137633350,\n",
       "  'subscriber_email_address': 'cpypdx@gmail.com',\n",
       "  'purchaser_id': 137633350,\n",
       "  'purchaser_email_address': 'cpypdx@gmail.com',\n",
       "  'item': 'Sketchbook to Style',\n",
       "  'purchase_date': '2020-03-25',\n",
       "  'launch': 'Launch_8',\n",
       "  'purchase_value': 297,\n",
       "  'refund': 0},\n",
       " {'subscriber_id': 732154461,\n",
       "  'subscriber_email_address': 'denise94960@gmail.com',\n",
       "  'purchaser_id': 732154461,\n",
       "  'purchaser_email_address': 'denise94960@gmail.com',\n",
       "  'item': 'Sketchbook to Style',\n",
       "  'purchase_date': '2020-03-23',\n",
       "  'launch': 'Launch_8',\n",
       "  'purchase_value': 297,\n",
       "  'refund': 0},\n",
       " {'subscriber_id': 137632970,\n",
       "  'subscriber_email_address': 'erolamassague@gmail.com',\n",
       "  'purchaser_id': 137632970,\n",
       "  'purchaser_email_address': 'erolamassague@gmail.com',\n",
       "  'item': 'Sketchbook to Style',\n",
       "  'purchase_date': '2020-03-24',\n",
       "  'launch': 'Launch_8',\n",
       "  'purchase_value': 297,\n",
       "  'refund': 0},\n",
       " {'subscriber_id': 473979234,\n",
       "  'subscriber_email_address': 'ewing.sn@gmail.com',\n",
       "  'purchaser_id': 473979234,\n",
       "  'purchaser_email_address': 'ewing.sn@gmail.com',\n",
       "  'item': 'Sketchbook to Style',\n",
       "  'purchase_date': '2020-03-17',\n",
       "  'launch': 'Launch_8',\n",
       "  'purchase_value': 297,\n",
       "  'refund': 0},\n",
       " {'subscriber_id': 171641714,\n",
       "  'subscriber_email_address': 'heidi_c_schmidt@rogers.com',\n",
       "  'purchaser_id': 171641714,\n",
       "  'purchaser_email_address': 'heidi_c_schmidt@rogers.com',\n",
       "  'item': 'Sketchbook to Style',\n",
       "  'purchase_date': '2020-03-24',\n",
       "  'launch': 'Launch_8',\n",
       "  'purchase_value': 297,\n",
       "  'refund': 0},\n",
       " {'subscriber_id': 236731161,\n",
       "  'subscriber_email_address': 'jennygputnam@gmail.com',\n",
       "  'purchaser_id': 236731161,\n",
       "  'purchaser_email_address': 'jennygputnam@gmail.com',\n",
       "  'item': 'Sketchbook to Style',\n",
       "  'purchase_date': '2020-03-23',\n",
       "  'launch': 'Launch_8',\n",
       "  'purchase_value': 297,\n",
       "  'refund': 0},\n",
       " {'subscriber_id': 727606064,\n",
       "  'subscriber_email_address': 'julian.cantres@gmail.com',\n",
       "  'purchaser_id': 727606064,\n",
       "  'purchaser_email_address': 'julian.cantres@gmail.com',\n",
       "  'item': 'Sketchbook to Style',\n",
       "  'purchase_date': '2020-03-24',\n",
       "  'launch': 'Launch_8',\n",
       "  'purchase_value': 297,\n",
       "  'refund': 0},\n",
       " {'subscriber_id': 648694670,\n",
       "  'subscriber_email_address': 'k.trajanovska@yahoo.com',\n",
       "  'purchaser_id': 648694670,\n",
       "  'purchaser_email_address': 'k.trajanovska@yahoo.com',\n",
       "  'item': 'Sketchbook to Style',\n",
       "  'purchase_date': '2020-03-23',\n",
       "  'launch': 'Launch_8',\n",
       "  'purchase_value': 297,\n",
       "  'refund': 0},\n",
       " {'subscriber_id': 746398327,\n",
       "  'subscriber_email_address': 'khardsonhurley@gmail.com',\n",
       "  'purchaser_id': 746398327,\n",
       "  'purchaser_email_address': 'khardsonhurley@gmail.com',\n",
       "  'item': 'Sketchbook to Style',\n",
       "  'purchase_date': '2020-03-23',\n",
       "  'launch': 'Launch_8',\n",
       "  'purchase_value': 297,\n",
       "  'refund': 0},\n",
       " {'subscriber_id': 438687784,\n",
       "  'subscriber_email_address': 'kierstanbetancourt@gmail.com',\n",
       "  'purchaser_id': 438687784,\n",
       "  'purchaser_email_address': 'kierstanbetancourt@gmail.com',\n",
       "  'item': 'Sketchbook to Style',\n",
       "  'purchase_date': '2020-03-23',\n",
       "  'launch': 'Launch_8',\n",
       "  'purchase_value': 297,\n",
       "  'refund': 0},\n",
       " {'subscriber_id': 707854860,\n",
       "  'subscriber_email_address': 'meempster@gmail.com',\n",
       "  'purchaser_id': 707854860,\n",
       "  'purchaser_email_address': 'meempster@gmail.com',\n",
       "  'item': 'Sketchbook to Style',\n",
       "  'purchase_date': '2020-03-17',\n",
       "  'launch': 'Launch_8',\n",
       "  'purchase_value': 297,\n",
       "  'refund': 0},\n",
       " {'subscriber_id': 689286978,\n",
       "  'subscriber_email_address': 'megan.tewksbury@hotmail.com',\n",
       "  'purchaser_id': 689286978,\n",
       "  'purchaser_email_address': 'megan.tewksbury@hotmail.com',\n",
       "  'item': 'Sketchbook to Style',\n",
       "  'purchase_date': '2020-03-17',\n",
       "  'launch': 'Launch_8',\n",
       "  'purchase_value': 297,\n",
       "  'refund': 0},\n",
       " {'subscriber_id': 275511760,\n",
       "  'subscriber_email_address': 'munoz33@icloud.com',\n",
       "  'purchaser_id': 275511760,\n",
       "  'purchaser_email_address': 'munoz33@icloud.com',\n",
       "  'item': 'Sketchbook to Style',\n",
       "  'purchase_date': '2020-03-24',\n",
       "  'launch': 'Launch_8',\n",
       "  'purchase_value': 297,\n",
       "  'refund': 0},\n",
       " {'subscriber_id': 172005911,\n",
       "  'subscriber_email_address': 'natybrousseau@yahoo.ca',\n",
       "  'purchaser_id': 172005911,\n",
       "  'purchaser_email_address': 'natybrousseau@yahoo.ca',\n",
       "  'item': 'Sketchbook to Style',\n",
       "  'purchase_date': '2020-03-24',\n",
       "  'launch': 'Launch_8',\n",
       "  'purchase_value': 297,\n",
       "  'refund': 0},\n",
       " {'subscriber_id': 493491191,\n",
       "  'subscriber_email_address': 'olwyn8@gmail.com',\n",
       "  'purchaser_id': 493491191,\n",
       "  'purchaser_email_address': 'olwyn8@gmail.com',\n",
       "  'item': 'Sketchbook to Style',\n",
       "  'purchase_date': '2020-03-24',\n",
       "  'launch': 'Launch_8',\n",
       "  'purchase_value': 297,\n",
       "  'refund': 0},\n",
       " {'subscriber_id': None,\n",
       "  'subscriber_email_address': None,\n",
       "  'purchaser_id': 775888686,\n",
       "  'purchaser_email_address': 'palettetiger@gmail.com',\n",
       "  'item': 'Sketchbook to Style',\n",
       "  'purchase_date': '2020-03-24',\n",
       "  'launch': 'Launch_8',\n",
       "  'purchase_value': 297,\n",
       "  'refund': 0},\n",
       " {'subscriber_id': 596882671,\n",
       "  'subscriber_email_address': 'pixeldiva@gmail.com',\n",
       "  'purchaser_id': 596882671,\n",
       "  'purchaser_email_address': 'pixeldiva@gmail.com',\n",
       "  'item': 'Sketchbook to Style',\n",
       "  'purchase_date': '2020-03-23',\n",
       "  'launch': 'Launch_8',\n",
       "  'purchase_value': 297,\n",
       "  'refund': 0},\n",
       " {'subscriber_id': 631588233,\n",
       "  'subscriber_email_address': 'poonamhassija@yahoo.com',\n",
       "  'purchaser_id': 631588233,\n",
       "  'purchaser_email_address': 'poonamhassija@yahoo.com',\n",
       "  'item': 'Sketchbook to Style',\n",
       "  'purchase_date': '2020-03-19',\n",
       "  'launch': 'Launch_8',\n",
       "  'purchase_value': 297,\n",
       "  'refund': 0},\n",
       " {'subscriber_id': 137634148,\n",
       "  'subscriber_email_address': 'rachel@rachelmc.com',\n",
       "  'purchaser_id': 137634148,\n",
       "  'purchaser_email_address': 'rachel@rachelmc.com',\n",
       "  'item': 'Sketchbook to Style',\n",
       "  'purchase_date': '2020-03-24',\n",
       "  'launch': 'Launch_8',\n",
       "  'purchase_value': 297,\n",
       "  'refund': 0},\n",
       " {'subscriber_id': 137632998,\n",
       "  'subscriber_email_address': 'revjane@gmail.com',\n",
       "  'purchaser_id': 137632998,\n",
       "  'purchaser_email_address': 'revjane@gmail.com',\n",
       "  'item': 'Sketchbook to Style',\n",
       "  'purchase_date': '2020-03-24',\n",
       "  'launch': 'Launch_8',\n",
       "  'purchase_value': 297,\n",
       "  'refund': 0},\n",
       " {'subscriber_id': None,\n",
       "  'subscriber_email_address': None,\n",
       "  'purchaser_id': 775548145,\n",
       "  'purchaser_email_address': 'rishaegart@gmail.com',\n",
       "  'item': 'Sketchbook to Style',\n",
       "  'purchase_date': '2020-03-23',\n",
       "  'launch': 'Launch_8',\n",
       "  'purchase_value': 297,\n",
       "  'refund': 0},\n",
       " {'subscriber_id': 302800487,\n",
       "  'subscriber_email_address': 'rlkirkman00@gmail.com',\n",
       "  'purchaser_id': 302800487,\n",
       "  'purchaser_email_address': 'rlkirkman00@gmail.com',\n",
       "  'item': 'Sketchbook to Style',\n",
       "  'purchase_date': '2020-03-19',\n",
       "  'launch': 'Launch_8',\n",
       "  'purchase_value': 297,\n",
       "  'refund': 0},\n",
       " {'subscriber_id': None,\n",
       "  'subscriber_email_address': None,\n",
       "  'purchaser_id': 775538343,\n",
       "  'purchaser_email_address': 'skyegloss@hotmail.com',\n",
       "  'item': 'Sketchbook to Style',\n",
       "  'purchase_date': '2020-03-23',\n",
       "  'launch': 'Launch_8',\n",
       "  'purchase_value': 297,\n",
       "  'refund': 0},\n",
       " {'subscriber_id': 137633696,\n",
       "  'subscriber_email_address': 'tammyhanna@hotmail.com',\n",
       "  'purchaser_id': 137633696,\n",
       "  'purchaser_email_address': 'tammyhanna@hotmail.com',\n",
       "  'item': 'Sketchbook to Style',\n",
       "  'purchase_date': '2020-03-19',\n",
       "  'launch': 'Launch_8',\n",
       "  'purchase_value': 297,\n",
       "  'refund': 0},\n",
       " {'subscriber_id': 459423659,\n",
       "  'subscriber_email_address': 'tarocha@gmail.com',\n",
       "  'purchaser_id': 459423659,\n",
       "  'purchaser_email_address': 'tarocha@gmail.com',\n",
       "  'item': 'Sketchbook to Style',\n",
       "  'purchase_date': '2020-03-21',\n",
       "  'launch': 'Launch_8',\n",
       "  'purchase_value': 297,\n",
       "  'refund': 0},\n",
       " {'subscriber_id': 600831661,\n",
       "  'subscriber_email_address': 'taylor.schena@gmail.com',\n",
       "  'purchaser_id': 600831661,\n",
       "  'purchaser_email_address': 'taylor.schena@gmail.com',\n",
       "  'item': 'Sketchbook to Style',\n",
       "  'purchase_date': '2020-03-24',\n",
       "  'launch': 'Launch_8',\n",
       "  'purchase_value': 297,\n",
       "  'refund': 0},\n",
       " {'subscriber_id': 610576284,\n",
       "  'subscriber_email_address': 'theheatherlwalker@gmail.com',\n",
       "  'purchaser_id': 610576284,\n",
       "  'purchaser_email_address': 'theheatherlwalker@gmail.com',\n",
       "  'item': 'Sketchbook to Style',\n",
       "  'purchase_date': '2020-03-23',\n",
       "  'launch': 'Launch_8',\n",
       "  'purchase_value': 297,\n",
       "  'refund': 0},\n",
       " {'subscriber_id': None,\n",
       "  'subscriber_email_address': None,\n",
       "  'purchaser_id': 775552515,\n",
       "  'purchaser_email_address': 'wingedgodscreation@gmail.com',\n",
       "  'item': 'Sketchbook to Style',\n",
       "  'purchase_date': '2020-03-23',\n",
       "  'launch': 'Launch_8',\n",
       "  'purchase_value': 297,\n",
       "  'refund': 0}]"
      ]
     },
     "execution_count": 123,
     "metadata": {},
     "output_type": "execute_result"
    }
   ],
   "source": [
    "cursor.e(\"\"\"\n",
    "SELECT * FROM purchase_data \n",
    "WHERE \n",
    "    purchase_date > \"2020-01-01\"\n",
    "\"\"\")"
   ]
  },
  {
   "cell_type": "markdown",
   "metadata": {
    "heading_collapsed": true
   },
   "source": [
    "##### eval"
   ]
  },
  {
   "cell_type": "code",
   "execution_count": 132,
   "metadata": {
    "ExecuteTime": {
     "end_time": "2020-04-08T16:15:03.083690Z",
     "start_time": "2020-04-08T16:15:02.961334Z"
    },
    "hidden": true
   },
   "outputs": [
    {
     "name": "stderr",
     "output_type": "stream",
     "text": [
      "INFO:root:Evaluating: (launch IN Launch_7)\n"
     ]
    },
    {
     "name": "stdout",
     "output_type": "stream",
     "text": [
      "purchase rate is 63/11339 0.56%\n"
     ]
    }
   ],
   "source": [
    "attrs = {}\n",
    "# attrs['country'] = ['United States of America', 'Canada']\n",
    "# attrs['lead_opt-in'] = ['Influence Map', 'Style Mini-course']\n",
    "# attrs['lead_opt-in'] = 'Influence Map'\n",
    "# attrs['lead_opt-in'] = 'MCDT'\n",
    "# attrs['lead_source'] = 'FB Ad'\n",
    "# attrs['lead_opt-in'] = 'Style Mini-course'\n",
    "# attrs['lead_opt-in'] = 'Influence Map'\n",
    "attrs['launch'] = 'Launch_7'\n",
    "# attrs['launch'] = 'Evergreen_2'\n",
    "_all = True\n",
    "\n",
    "p, l = specific_purchase_rate(purchases, launches, **attrs)\n",
    "try:\n",
    "    print(f'purchase rate is {len(p)}/{len(l)} {round(len(p)/len(l)*100,2)}%')\n",
    "except ZeroDivisionError as z:\n",
    "    print(f'There were no launches that fit this criteria {attrs}')\n"
   ]
  },
  {
   "cell_type": "code",
   "execution_count": null,
   "metadata": {
    "hidden": true
   },
   "outputs": [],
   "source": []
  },
  {
   "cell_type": "code",
   "execution_count": null,
   "metadata": {
    "hidden": true
   },
   "outputs": [],
   "source": [
    "# Other to evaluate\n",
    "# What is the likelihood that they will buy based on the number of emails they have received? That they have opened?\n",
    "# % based on duration on the list?"
   ]
  },
  {
   "cell_type": "code",
   "execution_count": null,
   "metadata": {
    "hidden": true
   },
   "outputs": [],
   "source": [
    "conn"
   ]
  },
  {
   "cell_type": "code",
   "execution_count": null,
   "metadata": {
    "ExecuteTime": {
     "end_time": "2019-09-19T20:14:09.686302Z",
     "start_time": "2019-09-19T20:14:09.630245Z"
    },
    "hidden": true
   },
   "outputs": [],
   "source": [
    "import dgnutils\n",
    "dgnutils.__file__"
   ]
  },
  {
   "cell_type": "markdown",
   "metadata": {
    "heading_collapsed": true
   },
   "source": [
    "#### Best subscribers"
   ]
  },
  {
   "cell_type": "code",
   "execution_count": 3,
   "metadata": {
    "ExecuteTime": {
     "end_time": "2020-03-18T13:39:11.003066Z",
     "start_time": "2020-03-18T13:38:42.787137Z"
    },
    "hidden": true
   },
   "outputs": [
    {
     "data": {
      "text/plain": [
       "1038161"
      ]
     },
     "execution_count": 3,
     "metadata": {},
     "output_type": "execute_result"
    }
   ],
   "source": [
    "# 30s\n",
    "email_data = cursor.e('SELECT * FROM email_data'); len(email_data)"
   ]
  },
  {
   "cell_type": "code",
   "execution_count": 4,
   "metadata": {
    "ExecuteTime": {
     "end_time": "2020-03-18T13:40:08.735012Z",
     "start_time": "2020-03-18T13:40:06.853661Z"
    },
    "hidden": true
   },
   "outputs": [
    {
     "name": "stdout",
     "output_type": "stream",
     "text": [
      "1038001/1038161\r"
     ]
    }
   ],
   "source": [
    "email_rates = {}\n",
    "for i, e in enumerate(email_data):\n",
    "    if i%1000==1: print(f'{i}/{len(email_data)}', end='\\r')\n",
    "    sub_id = e['subscriber_id']\n",
    "    email_rates.setdefault(sub_id, {}).setdefault(\"opened\", 0)\n",
    "    email_rates.setdefault(sub_id, {}).setdefault(\"unopened\", 0)\n",
    "    email_rates.setdefault(sub_id, {}).setdefault(\"clicked\", 0)\n",
    "    email_rates.setdefault(sub_id, {}).setdefault(\"no_click\", 0)\n",
    "    if e['opened']: email_rates[sub_id]['opened'] += 1\n",
    "    if not e['opened']: email_rates[sub_id]['unopened'] += 1\n",
    "    if e['clicked']: email_rates[sub_id]['clicked'] += 1\n",
    "    if not e['clicked']: email_rates[sub_id]['no_click'] += 1\n",
    "\n",
    "for k,v in email_rates.items():\n",
    "    v['open_rate'] = round(v.get('opened', 0) / (v.get('opened', 0) + v.get('unopened', 0)), 4)\n",
    "    v['click_rate'] = round(v.get('clicked', 0) / (v.get('clicked', 0) + v.get('no_click', 0)), 4)"
   ]
  },
  {
   "cell_type": "code",
   "execution_count": 5,
   "metadata": {
    "ExecuteTime": {
     "end_time": "2020-03-18T13:40:16.744701Z",
     "start_time": "2020-03-18T13:40:16.628782Z"
    },
    "hidden": true
   },
   "outputs": [],
   "source": [
    "sorted_email_rates = sorted(email_rates.items(), key=lambda x: x[1]['click_rate'], reverse=True)\n",
    "# [s for s in sorted_email_rates if s[1]['open_rate']!=1][:3]"
   ]
  },
  {
   "cell_type": "code",
   "execution_count": 8,
   "metadata": {
    "ExecuteTime": {
     "end_time": "2020-03-18T13:40:45.140681Z",
     "start_time": "2020-03-18T13:40:44.876044Z"
    },
    "collapsed": true,
    "hidden": true
   },
   "outputs": [
    {
     "data": {
      "text/plain": [
       "[<matplotlib.lines.Line2D at 0x1392547f0>]"
      ]
     },
     "execution_count": 8,
     "metadata": {},
     "output_type": "execute_result"
    },
    {
     "data": {
      "image/png": "[encoded data removed]",
      "text/plain": [
       "<Figure size 432x288 with 1 Axes>"
      ]
     },
     "metadata": {
      "needs_background": "light"
     },
     "output_type": "display_data"
    }
   ],
   "source": [
    "plt.plot([s[1]['click_rate'] for s in sorted_email_rates if s[1].get('opened',0)>1 and all_rds_dict.get(s[0],{}).get('state',None)=='active'])"
   ]
  },
  {
   "cell_type": "code",
   "execution_count": 9,
   "metadata": {
    "ExecuteTime": {
     "end_time": "2020-03-18T13:40:54.096149Z",
     "start_time": "2020-03-18T13:40:54.031912Z"
    },
    "hidden": true
   },
   "outputs": [],
   "source": [
    "purchasers = set(a for b in cursor.e('SELECT subscriber_id, purchaser_id FROM purchase_data') for a in b.values())"
   ]
  },
  {
   "cell_type": "code",
   "execution_count": 10,
   "metadata": {
    "ExecuteTime": {
     "end_time": "2020-03-18T13:41:03.088899Z",
     "start_time": "2020-03-18T13:41:03.038831Z"
    },
    "hidden": true
   },
   "outputs": [
    {
     "data": {
      "text/plain": [
       "(73,\n",
       " [[137632817, 'sheila.mellen@gmail.com', 44, 12, 0.2449, 0.898],\n",
       "  [268110817, 'janvanwell@hetnet.nl', 75, 51, 0.6623, 0.974],\n",
       "  [274368527, 'sven.clemens.89@gmail.com', 88, 28, 0.2569, 0.8073]])"
      ]
     },
     "execution_count": 10,
     "metadata": {},
     "output_type": "execute_result"
    }
   ],
   "source": [
    "# Get subcriber_id and email address and opened and rate for top x or x% subscribers\n",
    "best_subs = [\n",
    "    [\n",
    "        k,\n",
    "        all_rds_dict.get(k, {}).get('email_address',None),\n",
    "        v.get('opened', None),\n",
    "        v.get('clicked', None),\n",
    "        v.get('click_rate', None),\n",
    "        v.get('open_rate', None)\n",
    "    ]\n",
    "    for k,v in email_rates.items()\n",
    "    if \n",
    "        v.get('clicked', 0) >= 5\n",
    "        and v.get('opened', 0) < 100\n",
    "        and v.get('open_rate', 0) > 0.8\n",
    "        and v.get('click_rate', 0) > 0.2\n",
    "        and all_rds_dict.get(k, {}).get('state',None) == 'active'\n",
    "        and k not in purchasers\n",
    "]\n",
    "len(best_subs), best_subs[:3]"
   ]
  },
  {
   "cell_type": "code",
   "execution_count": 13,
   "metadata": {
    "ExecuteTime": {
     "end_time": "2020-03-18T13:44:11.235218Z",
     "start_time": "2020-03-18T13:44:04.992563Z"
    },
    "hidden": true
   },
   "outputs": [],
   "source": [
    "for b in best_subs[:20]:\n",
    "    tag_subscriber(b[1], 1018505, session)"
   ]
  },
  {
   "cell_type": "code",
   "execution_count": 120,
   "metadata": {
    "ExecuteTime": {
     "end_time": "2020-03-13T18:55:34.339659Z",
     "start_time": "2020-03-13T18:55:34.276768Z"
    },
    "hidden": true
   },
   "outputs": [
    {
     "data": {
      "text/plain": [
       "[[137632817, 'sheila.mellen@gmail.com', 44, 12, 0.2449, 0.898],\n",
       " [268110817, 'janvanwell@hetnet.nl', 75, 51, 0.6623, 0.974],\n",
       " [274368527, 'sven.clemens.89@gmail.com', 88, 28, 0.2569, 0.8073]]"
      ]
     },
     "execution_count": 120,
     "metadata": {},
     "output_type": "execute_result"
    }
   ],
   "source": [
    "best_subs[:3]"
   ]
  },
  {
   "cell_type": "markdown",
   "metadata": {
    "heading_collapsed": true
   },
   "source": [
    "#### Subscriber Quality"
   ]
  },
  {
   "cell_type": "markdown",
   "metadata": {
    "heading_collapsed": true,
    "hidden": true
   },
   "source": [
    "##### Using it"
   ]
  },
  {
   "cell_type": "code",
   "execution_count": null,
   "metadata": {
    "hidden": true
   },
   "outputs": [],
   "source": [
    "# i want to look at a cohort of people, and see how their average metric (open rate, etc) changed over time"
   ]
  },
  {
   "cell_type": "code",
   "execution_count": null,
   "metadata": {
    "ExecuteTime": {
     "end_time": "2019-09-29T16:55:03.314743Z",
     "start_time": "2019-09-29T16:54:46.655068Z"
    },
    "hidden": true
   },
   "outputs": [],
   "source": [
    "all_rds_dict, launch_info_dict, launch_dict, purchase_dict, emails_dict = get_mysql_dicts(cursor) # 20s"
   ]
  },
  {
   "cell_type": "code",
   "execution_count": null,
   "metadata": {
    "ExecuteTime": {
     "end_time": "2019-09-29T22:06:33.090576Z",
     "start_time": "2019-09-29T22:02:37.976687Z"
    },
    "hidden": true
   },
   "outputs": [],
   "source": [
    "# Get the data for all subscribers to be able to recombine as needed\n",
    "# 3m 40s\n",
    "\n",
    "metric_cols = ['open', 'click', 'activated', 'subscribed', 'unsubscribed']\n",
    "min_group = 5 # Minimum number to do an analysis for\n",
    "longest_subscription = (datetime.today() - datetime(2016, 9, 20, 0, 0)).days #first_subscription was 9/20/16\n",
    "\n",
    "all_metrics_np = np.empty([len(all_rds_dict), longest_subscription, len(metric_cols)], dtype='float');\n",
    "all_metrics_np = np.full_like(all_metrics_np, np.nan); all_metrics_np\n",
    "\n",
    "# for i, (sub_id, sub_data) in list(enumerate(all_rds_dict.items()))[15000:20000]:\n",
    "for i, (sub_id, sub_data) in enumerate(all_rds_dict.items()):\n",
    "    if i % 50 == 0 or i == len(all_rds_dict) - 1: print(f'Progress is {i+1}/{len(all_rds_dict)}', end='\\r')\n",
    "\n",
    "    sub_emails = emails_dict.get(sub_id, [])\n",
    "    if not sub_emails: continue\n",
    "\n",
    "    never = time_ck_to_dt('2100-12-31'); today = datetime.today()\n",
    "    subscribe_dt = time_ck_to_dt(sub_data['subscribe_date']) if sub_data['subscribe_date'] else None\n",
    "    unsubscribe_dt = time_ck_to_dt(sub_data['unsubscribe_date']) if sub_data['unsubscribe_date'] else None\n",
    "    created_dt = time_created_to_dt(sub_data['created_at'])\n",
    "\n",
    "    for d in range(longest_subscription): # 0 to ~1100; consider inactives, actives, unsubscribers\n",
    "        day_metrics = {}\n",
    "        # if hadn't unsubscribed by \"d\" days\n",
    "        \n",
    "        # Subscribed is just if they've been active for x number of days or if they've not unsubscribed\n",
    "        day_metrics['subscribed'] = (subscribe_dt or never) + timedelta(days = d) < (unsubscribe_dt or today) \n",
    "        day_metrics['activated'] = (subscribe_dt or never) < created_dt + timedelta(days = d) \n",
    "        day_metrics['unsubscribed'] = (unsubscribe_dt or never) < (subscribe_dt or today) + timedelta(days = d)\n",
    "        \n",
    "        if day_metrics['subscribed']:    \n",
    "            day_metrics['open'] = get_rate(\n",
    "                sub_emails, \n",
    "                act_before = subscribe_dt + timedelta(days = d+2),\n",
    "                del_before = subscribe_dt + timedelta(days = d+1),\n",
    "                _open=True,\n",
    "            )\n",
    "                \n",
    "            day_metrics['click'] = get_rate(\n",
    "                sub_emails, \n",
    "                act_before = subscribe_dt + timedelta(days = d+2),\n",
    "                del_before = subscribe_dt + timedelta(days = d+1), # since the cutoff is midnight\n",
    "                _open=False,\n",
    "            )\n",
    "            \n",
    "        all_metrics_np[i][d] = [\n",
    "            day_metrics[m]\n",
    "                if m in day_metrics and day_metrics[m] != None \n",
    "                else np.nan \n",
    "            for m in metric_cols\n",
    "        ] \n",
    "all_metrics_np.shape"
   ]
  },
  {
   "cell_type": "code",
   "execution_count": null,
   "metadata": {
    "ExecuteTime": {
     "end_time": "2019-09-29T22:21:04.091925Z",
     "start_time": "2019-09-29T22:20:58.029626Z"
    },
    "hidden": true
   },
   "outputs": [],
   "source": [
    "# Reduce to just cohort of subscribers\n",
    "optins = set([a['lead_opt-in'] for a in all_rds_dict.values()] + [None])\n",
    "sources = set([a['lead_source'] for a in all_rds_dict.values()] + [None])\n",
    "combos = [{'lead_opt-in':oi,'lead_source':si} for oi in optins for si in sources]; combos\n",
    "\n",
    "# combos = [{'lead_opt-in':'Influence Map','lead_source':'FB Ad'}]\n",
    "\n",
    "for combo in combos:\n",
    "    cohort_idxs = [i for i,v in enumerate(all_rds_dict.values()) if has_attrs(v, combo)]\n",
    "    if len(cohort_idxs) < 100: continue\n",
    "\n",
    "    cohort = all_metrics_np[np.array(cohort_idxs)]; cohort.shape # Get just the subs for this option\n",
    "\n",
    "    # Get the indices for the people who are subscribed\n",
    "    idxs = np.nansum(cohort[:,:,3], axis=0)>10; idxs.shape\n",
    "    cohort_filtered = cohort[:,idxs,:]; cohort_filtered.shape\n",
    "\n",
    "    # Get averages over all subscribers for each day\n",
    "    cohort_metrics_by_day[f'{oi} | {si}'] = np.nanmean(cohort_filtered, axis=0); cohort_metrics_by_day.shape # Average over the subscribers\n",
    "    "
   ]
  },
  {
   "cell_type": "code",
   "execution_count": null,
   "metadata": {
    "ExecuteTime": {
     "end_time": "2019-09-29T22:20:03.735113Z",
     "start_time": "2019-09-29T22:20:03.486909Z"
    },
    "hidden": true
   },
   "outputs": [],
   "source": [
    "# all_rds_list -> all_metrics_np -> cohort -> cohort_filtered -> cohort_metrics_by_day\n",
    "# plt_d = all_sub_metric_data #['open', 'click', 'activated', 'subscribed', 'unsubscribed']\n",
    "x = range(cohort_metrics_by_day.shape[0])\n",
    "plt.plot(\n",
    "    x, cohort_metrics_by_day[:, 0], 'b', \n",
    "    x, cohort_metrics_by_day[:, 1], 'r', \n",
    "    x, cohort_metrics_by_day[:, 2], 'g', \n",
    "    x, cohort_metrics_by_day[:, 3], 'y',\n",
    "    x, cohort_metrics_by_day[:, 4], 'c',    \n",
    ")\n",
    "axes = plt.gca()\n",
    "# axes.set_ylim([0.5,1])\n",
    "# axes.set_xlim([0,100])"
   ]
  },
  {
   "cell_type": "code",
   "execution_count": null,
   "metadata": {
    "ExecuteTime": {
     "end_time": "2019-09-29T16:14:48.109214Z",
     "start_time": "2019-09-29T16:14:47.910237Z"
    },
    "hidden": true
   },
   "outputs": [],
   "source": [
    "plt_d = all_sub_metric_data\n",
    "plt.plot(\n",
    "    plt_d['day'], plt_d['open'],'b', \n",
    "    plt_d['day'], plt_d['click'],'r', \n",
    "    plt_d['day'], plt_d['activated'],'g', \n",
    "    plt_d['day'], plt_d['subscribed'],'y',\n",
    ")\n",
    "axes = plt.gca()\n",
    "# axes.set_ylim([0.5,1])\n",
    "# axes.set_xlim([0,100])"
   ]
  },
  {
   "cell_type": "code",
   "execution_count": null,
   "metadata": {
    "ExecuteTime": {
     "end_time": "2019-09-29T15:30:42.976148Z",
     "start_time": "2019-09-29T15:30:41.541307Z"
    },
    "hidden": true
   },
   "outputs": [],
   "source": [
    "# https://matplotlib.org/gallery/lines_bars_and_markers/markevery_demo.html#sphx-glr-gallery-lines-bars-and-markers-markevery-demo-py\n",
    "def trim_axs(axs, N): \n",
    "    \"\"\"little helper to massage the axs list to have correct length...\"\"\"\n",
    "    axs = axs.flat\n",
    "    for ax in axs[N:]:\n",
    "        ax.remove()\n",
    "    return axs[:N]\n",
    "\n",
    "fig1, axs = plt.subplots(3, 2, figsize=(20,10), constrained_layout=True)\n",
    "axs = trim_axs(axs, len(all_metric_data))\n",
    "for ax, (key, plt_d) in zip(axs, all_metric_data.items()):\n",
    "    ax.set_title(key)\n",
    "    ax.plot(\n",
    "        plt_d['day'], plt_d['open'],'b', \n",
    "        plt_d['day'], plt_d['click'],'r', \n",
    "        plt_d['day'], plt_d['activated'],'g', \n",
    "        plt_d['day'], plt_d['subscribed'],'y',\n",
    "    )"
   ]
  },
  {
   "cell_type": "code",
   "execution_count": null,
   "metadata": {
    "ExecuteTime": {
     "end_time": "2019-09-28T20:08:48.774809Z",
     "start_time": "2019-09-28T20:08:48.588716Z"
    },
    "hidden": true
   },
   "outputs": [],
   "source": [
    "[a for a in all_rds_dict.values() if a['state']=='inactive' and a['lead_opt-in']=='MailChimp']"
   ]
  },
  {
   "cell_type": "code",
   "execution_count": null,
   "metadata": {
    "ExecuteTime": {
     "end_time": "2019-09-29T15:34:52.411944Z",
     "start_time": "2019-09-29T15:34:52.185682Z"
    },
    "hidden": true
   },
   "outputs": [],
   "source": [
    "optin = 'None' #'Style Mini-course'\n",
    "source = 'MailChimp'\n",
    "plt_d = all_metric_data[f'{optin} | {source if source else \"\"}']\n",
    "plt.plot(\n",
    "    plt_d['day'], plt_d['open'],'b', \n",
    "    plt_d['day'], plt_d['click'],'r', \n",
    "    plt_d['day'], plt_d['activated'],'g', \n",
    "    plt_d['day'], plt_d['subscribed'],'y',\n",
    ")\n",
    "axes = plt.gca()\n",
    "axes.grid(True)\n",
    "# axes.set_ylim([0.5,1])\n",
    "# axes.set_xlim([0,100])"
   ]
  },
  {
   "cell_type": "code",
   "execution_count": null,
   "metadata": {
    "ExecuteTime": {
     "end_time": "2019-09-29T15:48:12.282179Z",
     "start_time": "2019-09-29T15:48:12.064993Z"
    },
    "hidden": true
   },
   "outputs": [],
   "source": [
    "optin = 'Style Mini-course'\n",
    "source = 'FB Ad'\n",
    "plt_d = all_sub_metric_data\n",
    "plt.plot(\n",
    "    plt_d['day'], plt_d['open'],'b', \n",
    "    plt_d['day'], plt_d['click'],'r', \n",
    "    plt_d['day'], plt_d['activated'],'g', \n",
    "    plt_d['day'], plt_d['subscribed'],'y',\n",
    ")\n",
    "axes = plt.gca()\n",
    "# axes.set_ylim([0.5,1])\n",
    "# axes.set_xlim([0,100])"
   ]
  },
  {
   "cell_type": "code",
   "execution_count": null,
   "metadata": {
    "ExecuteTime": {
     "end_time": "2019-09-28T20:01:31.679426Z",
     "start_time": "2019-09-28T20:01:31.487174Z"
    },
    "hidden": true
   },
   "outputs": [],
   "source": [
    "plt_d = all_metric_data['Influence Map | FB Ad']\n",
    "plt.plot(\n",
    "    plt_d['day'], plt_d['open'],'b', \n",
    "    plt_d['day'], plt_d['click'],'r', \n",
    "    plt_d['day'], plt_d['activated'],'g', \n",
    "    plt_d['day'], plt_d['subscribed'],'y',\n",
    ")\n",
    "axes = plt.gca()\n",
    "# axes.set_ylim([0.5,1])\n",
    "axes.set_xlim([0,100])"
   ]
  },
  {
   "cell_type": "markdown",
   "metadata": {
    "heading_collapsed": true,
    "hidden": true
   },
   "source": [
    "##### Data Gathering"
   ]
  },
  {
   "cell_type": "code",
   "execution_count": null,
   "metadata": {
    "ExecuteTime": {
     "end_time": "2019-09-27T15:48:35.395760Z",
     "start_time": "2019-09-27T15:48:35.318599Z"
    },
    "hidden": true
   },
   "outputs": [],
   "source": [
    "len([a for a in all_rds_list if a['lead_opt-in'] and \"MCDT\" in a['lead_opt-in']])"
   ]
  },
  {
   "cell_type": "code",
   "execution_count": null,
   "metadata": {
    "ExecuteTime": {
     "end_time": "2019-09-27T07:09:03.484428Z",
     "start_time": "2019-09-27T07:09:03.450963Z"
    },
    "hidden": true
   },
   "outputs": [],
   "source": [
    "(datetime.today() - conv_time_1('2019-09-01')).days"
   ]
  },
  {
   "cell_type": "code",
   "execution_count": null,
   "metadata": {
    "ExecuteTime": {
     "end_time": "2019-09-27T07:30:23.693264Z",
     "start_time": "2019-09-27T07:30:23.140976Z"
    },
    "hidden": true
   },
   "outputs": [],
   "source": [
    "sub_quality(cursor, 137632665)"
   ]
  },
  {
   "cell_type": "code",
   "execution_count": null,
   "metadata": {
    "ExecuteTime": {
     "end_time": "2019-09-27T07:34:42.647357Z",
     "start_time": "2019-09-27T07:34:39.888785Z"
    },
    "hidden": true
   },
   "outputs": [],
   "source": [
    "all_qualities = {}\n",
    "for r in all_rds_list:\n",
    "    if r['state'] == 'active': \n",
    "        sub_id = r['id']\n",
    "        quality = sub_quality_from_emails(emails_dict.get(sub_id,[]), all_rds_dict[sub_id]['subscribe_date'])\n",
    "        all_qualities[r['id']] = quality"
   ]
  },
  {
   "cell_type": "code",
   "execution_count": null,
   "metadata": {
    "ExecuteTime": {
     "end_time": "2019-09-27T07:41:24.207651Z",
     "start_time": "2019-09-27T07:41:23.987764Z"
    },
    "hidden": true
   },
   "outputs": [],
   "source": [
    "sub_qualities = {k:v for k,v in all_qualities.items() if all_rds_dict[k]['lead_opt-in']==\"MCDT\"}\n",
    "plt.plot(sorted(list(sub_qualities.values())))\n",
    "axes = plt.gca()\n",
    "axes.set_ylim([0,0.15])\n",
    "axes.set_xlim([0,14000])"
   ]
  },
  {
   "cell_type": "code",
   "execution_count": null,
   "metadata": {
    "ExecuteTime": {
     "end_time": "2019-09-27T07:41:13.716863Z",
     "start_time": "2019-09-27T07:41:13.496890Z"
    },
    "hidden": true
   },
   "outputs": [],
   "source": [
    "plt.plot(sorted(list(all_qualities.values())))\n",
    "axes = plt.gca()\n",
    "axes.set_ylim([0,0.15])\n",
    "axes.set_xlim([0,14000])"
   ]
  },
  {
   "cell_type": "markdown",
   "metadata": {
    "heading_collapsed": true,
    "hidden": true
   },
   "source": [
    "###### Setup"
   ]
  },
  {
   "cell_type": "code",
   "execution_count": null,
   "metadata": {
    "ExecuteTime": {
     "end_time": "2019-09-26T14:55:48.529697Z",
     "start_time": "2019-09-26T14:55:48.502567Z"
    },
    "hidden": true
   },
   "outputs": [],
   "source": [
    "# I want a metric that summarizes how \"good\" a subscriber is\n",
    "# Meaning how likely they are to open emails and to buy the course\n",
    "\n",
    "# First let me list out the important metrics\n",
    "# 1. How long they have been subscribed\n",
    "# 2. How they subscribed\n",
    "# 3. If they've purchased the course\n",
    "# 4. What % of emails they've opened\n",
    "# 5. What % of emails they've clicked on\n",
    "# 6. If they've clicked on emails for the course\n",
    "\n",
    "# Second let me get those metrics for subscribers and compare them to see how they are distributed\n"
   ]
  },
  {
   "cell_type": "code",
   "execution_count": null,
   "metadata": {
    "ExecuteTime": {
     "end_time": "2019-09-27T07:25:10.466210Z",
     "start_time": "2019-09-27T07:24:48.753192Z"
    },
    "hidden": true
   },
   "outputs": [],
   "source": [
    "# 14.2 Seconds (25.4s)\n",
    "all_rds_list = cursor.e('SELECT * FROM subscriber_data')\n",
    "all_rds_dict = {a['id']: a for a in all_rds_list}\n",
    "\n",
    "launch_info_dict = {l['launch']: l for l in cursor.e('SELECT * FROM launch_info')}; launch_info_dict\n",
    "\n",
    "launch_dict = {}\n",
    "for l in cursor.e(f'SELECT * FROM launch_data'):\n",
    "    launch_dict.setdefault(l['subscriber_id'], []).append(l['launch'])\n",
    "    \n",
    "purchases = cursor.e(f'SELECT * FROM purchase_data'); \n",
    "\n",
    "emails_dict = {}\n",
    "emails = cursor.e(f'SELECT * FROM email_data'); \n",
    "for e in emails:\n",
    "    emails_dict.setdefault(e['subscriber_id'], []).append(e)\n",
    "# emails_dict[137632787]\n",
    "\n",
    "# course_email_ids last updated 9/25/19\n",
    "course_email_ids = [1024762, 1033254, 1024765, 1024766, 1024767, 1024768, 1024769, 1088185, 1088196, 1088197, 1088198, 1088199, 1088200, 1191656, 1191657, 1191658, 1191659, 1191660, 1191661, 1191662, 1313872, 1314658, 1313641, 1313860, 1313861, 1313863, 1866878, 1866873, 1866874, 1866875, 1866876, 1866877, 1866879, 2014727, 2014728, 2014729, 2014730, 2016262, 2014731, 2014732, 2014743, 2014744, 2014745, 2014746, 2177600, 2177601, 2177602, 2177603, 2177604, 2177605, 2177606, 2208048, 2208049, 2208050, 2208051, 2208052, 2208053, 2208054]\n",
    "course_email_dict = {'Launch_3': [1088185, 1088196, 1088197, 1088200, 1024762, 1033254, 1024765, 1024766, 1024767, 1024768, 1024769, 1088198, 1088199], 'Evergreen_1': [1191656, 1191657, 1191658, 1191659, 1191660, 1191661, 1191662], 'Launch_4': [1313872, 1314658, 1313641, 1313860, 1313861, 1313863], 'Launch_5': [1866878, 1866873, 1866874, 1866875, 1866877, 1866879, 1866876], 'Evergreen_2': [2014727, 2014728, 2014729, 2014730, 2016262, 2014731, 2014732, 2014743, 2014744, 2014745, 2014746], 'Launch_6': [2177600, 2177601, 2177602, 2177603, 2177604, 2177605, 2177606, 2208048, 2208049, 2208050, 2208051, 2208053, 2208054, 2208052]}\n",
    "\n",
    "# Functions\n",
    "time_conv_1 = lambda x: datetime.strptime(x, '%Y-%m-%d')\n",
    "delivered_before = lambda x, ref_date: (x['deliver_date'] < ref_date)\n",
    "delivered_after = lambda x, ref_date: (x['deliver_date'] > ref_date)\n",
    "opened_before = lambda x, ref_date: bool((x['open_date'] and x['open_date'] < ref_date) or (x['click_date'] and x['click_date'] < ref_date))\n",
    "clicked_before = lambda x, ref_date: bool(x['click_date'] and x['click_date'] < ref_date)\n",
    "\n",
    "# This should be in CK\n",
    "def get_rate(email_list, before=None, _open=True):\n",
    "    fn = opened_before if _open else clicked_before\n",
    "    if not before: before = datetime.today()\n",
    "    actions = [fn(e, before) for e in email_list] # opens or clicks\n",
    "    return round(sum(actions)/len(actions), 2) if actions else None"
   ]
  },
  {
   "cell_type": "markdown",
   "metadata": {
    "heading_collapsed": true,
    "hidden": true
   },
   "source": [
    "###### Attempt 1 (use 2)"
   ]
  },
  {
   "cell_type": "code",
   "execution_count": null,
   "metadata": {
    "ExecuteTime": {
     "end_time": "2019-09-27T05:50:53.305870Z",
     "start_time": "2019-09-27T05:50:53.163912Z"
    },
    "hidden": true
   },
   "outputs": [],
   "source": [
    "raise Exception('Use attempt 2')\n",
    "launch_sub_quality_dict = {}\n",
    "\n",
    "# course_email_ids last updated 9/25/19\n",
    "for i, launch in enumerate(launch_info_dict.keys()):\n",
    "    print(f'progress {i+1}/{len(launch_info_dict)}', end='\\r')\n",
    "    ref_date = time_conv_1(launch_info_dict[launch]['start']); ref_date\n",
    "    launch_duration = launch_info_dict[launch]['duration'] or sys.maxsize\n",
    "\n",
    "    sub_qualities = {}\n",
    "    for sub_data in all_rds_list:\n",
    "        \n",
    "        sub_id = sub_data[\"id\"]\n",
    "        \n",
    "        if not sub_id in launch_dict or not launch in launch_dict[sub_id]: continue\n",
    "\n",
    "        subscription_length = (ref_date - datetime.strptime(sub_data['subscribe_date'], '%Y-%m-%d')).days if sub_data['subscribe_date'] else 0\n",
    "        if subscription_length <= -1 * launch_duration - 1: #-1 to help with close calls\n",
    "            continue # means they weren't subscribed; skip this subscriber\n",
    "\n",
    "        state = sub_data['state']; state\n",
    "        optin = sub_data['lead_opt-in']; optin\n",
    "        source = sub_data['lead_source']; source\n",
    "\n",
    "        # purchase is \"Launch_1\" etc\n",
    "        purchase = next(iter([ p['launch'] for p in purchases if sub_id == p['subscriber_id'] and p['launch']==launch]), None)\n",
    "                          \n",
    "        # If there is a purchase and the date of it is before this launch, then continue\n",
    "        if purchase and time_conv_1(launch_info_dict.get(purchase, {}).get('start', '9999-12-31')) < ref_date: continue\n",
    "\n",
    "        launches = len([launch_info_dict.get(l,[]) for l in launch_dict.get(sub_id, []) if time_conv_1(launch_info_dict.get(l, {}).get('start', '9999-12-31')) < ref_date])\n",
    "\n",
    "        email_data = emails_dict.get(sub_id, [])\n",
    "        \n",
    "        # Skip subscribers with no emails before the launch\n",
    "        # TODO: Change this to be more like the course thing. If course email\n",
    "        if len([e for e in email_data if delivered_before(e, ref_date)]) == 0: continue\n",
    "\n",
    "        # location\n",
    "\n",
    "        total_emails = len([e for e in email_data if delivered_before(e, ref_date)]); total_emails\n",
    "\n",
    "        opens = [opened_before(e, ref_date) for e in email_data if delivered_before(e, ref_date)]; opens\n",
    "        open_rate = round(sum(opens)/len(opens),2) if opens else 0; open_rate\n",
    "\n",
    "        clicks = [clicked_before(e, ref_date) for e in email_data if delivered_before(e, ref_date)]; clicks\n",
    "        click_rate = round(sum(clicks)/len(clicks),2) if clicks else 0; click_rate\n",
    "\n",
    "        rec_opens = [opened_before(e, ref_date) for e in email_data if delivered_before(e, ref_date-timedelta(days=60))]; rec_opens\n",
    "        rec_open_rate = round(sum(rec_opens)/len(rec_opens),2) if rec_opens else 0; rec_open_rate\n",
    "\n",
    "        rec_clicks = [clicked_before(e, ref_date) for e in email_data if delivered_before(e, ref_date-timedelta(days=60))]; rec_clicks\n",
    "        rec_click_rate = round(sum(rec_clicks)/len(rec_clicks),2) if rec_clicks else 0; rec_click_rate\n",
    "\n",
    "        course_opens = [opened_before(e, ref_date) for e in email_data if delivered_before(e, ref_date) and e['email_id'] in course_email_ids]; course_opens\n",
    "        course_open_rate = round(sum(course_opens)/len(course_opens),2) if course_opens else 0; course_open_rate\n",
    "\n",
    "        course_clicks = [clicked_before(e, ref_date) for e in email_data if delivered_before(e, ref_date) and e['email_id'] in course_email_ids]; course_clicks\n",
    "        course_click_rate = round(sum(course_clicks)/len(course_clicks),2) if course_clicks else 0; course_click_rate\n",
    "\n",
    "        sub_quality_data = {\n",
    "            \"subscription_length\":subscription_length,\n",
    "            \"optin\":optin,\n",
    "            \"source\":source,\n",
    "            \"state\":state,\n",
    "            \"purchase\": bool(purchase),\n",
    "            \"launches\": launches,\n",
    "            \"emails\":total_emails,\n",
    "            \"open_rate\":open_rate,\n",
    "            \"click_rate\":click_rate,\n",
    "            \"rec_open_rate\":rec_open_rate,\n",
    "            \"rec_click_rate\":rec_click_rate,\n",
    "            \"course_open_rate\":course_open_rate,\n",
    "            \"course_click_rate\":course_click_rate,\n",
    "#             \"purchase_probability\": get_purchase_probability(open_rate, click_rate) if not purchase else 1,\n",
    "        }\n",
    "\n",
    "        launch_sub_quality_dict.setdefault(launch, {})[sub_id] = copy.deepcopy(sub_quality_data); #sub_qualities[sub_id]\n",
    "#         if sub_id == 137632855: pdb.set_trace()"
   ]
  },
  {
   "cell_type": "markdown",
   "metadata": {
    "heading_collapsed": true,
    "hidden": true
   },
   "source": [
    "###### Attempt 2"
   ]
  },
  {
   "cell_type": "code",
   "execution_count": null,
   "metadata": {
    "ExecuteTime": {
     "end_time": "2019-09-27T07:25:28.727613Z",
     "start_time": "2019-09-27T07:25:28.139489Z"
    },
    "hidden": true
   },
   "outputs": [],
   "source": [
    "# Go through each launch for each subscriber (launch_data)\n",
    "# Make datapoints: course_emails_opened, course_emails_clicked, purchase (all before the end of the launch)\n",
    "# Get the launch instances\n",
    "pl_launch_data = cursor.e('SELECT * FROM launch_data'); pl_launch_data[:3] # All the launches given to subs\n",
    "pl_all_data = []\n",
    "\n",
    "# for each one, get the emails that were for the launch\n",
    "# for pl_launch_datum in pl_launch_data:\n",
    "\n",
    "# # Testing Code\n",
    "for i in [1]:\n",
    "    pl_launch_datum = {'subscriber_id': 137632665, \"launch\": 'Launch_3'}\n",
    "\n",
    "    pl_sub_id = pl_launch_datum['subscriber_id']\n",
    "    pl_sub_data = all_rds_dict[pl_sub_id]\n",
    "    \n",
    "    pl_launch = pl_launch_datum['launch']\n",
    "    if pl_launch in [\"Giveaway\", \"Unknown\"]: continue # These don't have good data\n",
    "        \n",
    "    launches = len([True for l in launch_dict[pl_sub_id] if time_conv_1(launch_info_dict.get(l, {}).get('start', '9999-12-31')) < pl_course_start_date])\n",
    "#     launches = len([launch_info_dict.get(l,[]) for l in launch_dict.get(sub_id, []) if time_conv_1(launch_info_dict.get(l, {}).get('start', '9999-12-31')) < ref_date])\n",
    "    \n",
    "     # date of the start of the launch\n",
    "    pl_course_start_date = time_conv_1(launch_info_dict[pl_launch]['start'])\n",
    "\n",
    "    # date of the end of the launch (+3 days)\n",
    "    pl_course_end_date = time_conv_1(launch_info_dict[pl_launch]['start']) +\\\n",
    "        timedelta(days=launch_info_dict[pl_launch]['duration'] + 3)\n",
    "    \n",
    "    subscription_length = (pl_course_start_date - datetime.strptime(pl_sub_data['subscribe_date'], '%Y-%m-%d')).days if pl_sub_data['subscribe_date'] else 0\n",
    "    \n",
    "    state = pl_sub_data['state']; state\n",
    "    optin = pl_sub_data['lead_opt-in']; optin\n",
    "    source = pl_sub_data['lead_source']; source\n",
    "            \n",
    "    # this subscriber's emails \n",
    "    pl_emails = emails_dict.get(pl_sub_id, []) # all emails for this subscriber\n",
    "    pl_rel_emails = [e for e in pl_emails if delivered_before(e, pl_course_start_date)] # emails before the course are relevant\n",
    "    if len(pl_rel_emails) == 0: continue # Skip subscribers with no emails before the launch\n",
    "    pl_recent_emails = [e for e in pl_rel_emails if delivered_after(e, pl_course_start_date-timedelta(days=30))] # emails from the 30 days before the course\n",
    "    # subscriber's email that are course launch emails for this launch\n",
    "    pl_course_emails = [e for e in pl_emails if e['email_id'] in course_email_dict.get(pl_launch, [])]\n",
    "    pl_rel_course_emails = [e for e in pl_rel_emails if e['email_id'] in course_email_ids and e['email_id'] not in course_email_dict[pl_launch]] # past course emails\n",
    "    \n",
    "    # Was there a purchase during this launch?\n",
    "    pl_purchase = next(iter([ True for p in purchases if pl_sub_id == p['subscriber_id'] and p['launch']==pl_launch]), False)\n",
    "    \n",
    "    # if subscriber didn't receive any course emails then handle special\n",
    "    if len([e for e in pl_course_emails if delivered_before(e, pl_course_end_date)]) == 0: \n",
    "        # if purchase, then add as a 1:1\n",
    "        if pl_purchase: \n",
    "            pl_data.append({\"subscriber\": pl_sub_id, \"launch\": pl_launch, \"open_rate\": 1, \"click_rate\": 1, \"purchase\": pl_purchase})\n",
    "        continue #regardless, continue\n",
    "\n",
    "    # These ones are used multiple times    \n",
    "    pl_course_open_rate = get_rate(pl_course_emails, pl_course_end_date)\n",
    "    pl_course_click_rate = get_rate(pl_course_emails, pl_course_end_date, False)\n",
    "    \n",
    "    pl_all_data.append({\n",
    "        \"subscriber\": pl_sub_id, \n",
    "        \"subscription_length\":subscription_length,\n",
    "        \"launch\": pl_launch, \n",
    "        \"optin\":optin,\n",
    "        \"source\":source,\n",
    "        \"state\":state,\n",
    "        \"emails\":len(pl_rel_emails),\n",
    "        # TODO: Number of optins\n",
    "        \"open_rate\": get_rate(pl_rel_emails, pl_course_start_date),\n",
    "        \"click_rate\": get_rate(pl_rel_emails, pl_course_start_date, False),\n",
    "        \"rec_open_rate\": get_rate(pl_recent_emails, pl_course_start_date),\n",
    "        \"rec_click_rate\": get_rate(pl_recent_emails, pl_course_start_date, False),\n",
    "        \"course_open_rate\": pl_course_open_rate, # course launch open_rate\n",
    "        \"course_click_rate\": pl_course_click_rate, # course launch click_rate\n",
    "        \"past_course_open_rate\": get_rate(pl_rel_course_emails, pl_course_start_date), # course launch open_rate\n",
    "        \"past_course_click_rate\": get_rate(pl_rel_course_emails, pl_course_start_date, False), # course launch click_rate\n",
    "        \"purchase_probability\": get_purchase_probability(pl_course_open_rate, pl_course_click_rate) if not pl_purchase else 1,\n",
    "        \"purchase\": pl_purchase, # bool for purchase\n",
    "    })\n",
    "    \n",
    "    #Troubleshooting\n",
    "#     if pl_sub_id==137632869 and pl_launch=='Launch_5': pdb.set_trace()"
   ]
  },
  {
   "cell_type": "code",
   "execution_count": null,
   "metadata": {
    "ExecuteTime": {
     "end_time": "2019-09-27T07:24:36.064427Z",
     "start_time": "2019-09-27T07:24:35.985914Z"
    },
    "hidden": true
   },
   "outputs": [],
   "source": [
    "# cursor.quick_info('launch_info', launch=\"Launch_3\")\n",
    "# cursor.e('UPDATE launch_info SET start=\"2017-11-21\", duration=7 WHERE launch=\"Launch_3\"')"
   ]
  },
  {
   "cell_type": "code",
   "execution_count": null,
   "metadata": {
    "ExecuteTime": {
     "end_time": "2019-09-27T07:25:46.626958Z",
     "start_time": "2019-09-27T07:25:46.588780Z"
    },
    "hidden": true
   },
   "outputs": [],
   "source": [
    "pl_course_start_date, pl_rel_emails"
   ]
  },
  {
   "cell_type": "code",
   "execution_count": null,
   "metadata": {
    "ExecuteTime": {
     "end_time": "2019-09-27T06:50:20.300088Z",
     "start_time": "2019-09-27T06:50:20.207624Z"
    },
    "hidden": true
   },
   "outputs": [],
   "source": [
    "# Replace None with average (For Radiant)\n",
    "averages = {}\n",
    "for val in pl_all_data[0].keys():\n",
    "    if 'rate' not in val: continue\n",
    "    all_vals = [p[val] for p in pl_all_data if p[val]]\n",
    "    averages[val] = sum(all_vals)/len(all_vals)\n",
    "\n",
    "for i,p in enumerate(pl_all_data):\n",
    "    for k,v in p.items():\n",
    "        if v == None: pl_all_data[i][k] = averages[k]"
   ]
  },
  {
   "cell_type": "code",
   "execution_count": null,
   "metadata": {
    "ExecuteTime": {
     "end_time": "2019-09-27T07:26:01.412582Z",
     "start_time": "2019-09-27T07:26:01.376573Z"
    },
    "hidden": true
   },
   "outputs": [],
   "source": [
    "len(pl_all_data)\n",
    "len([p for p in pl_all_data if None in p.values()])\n",
    "# pl_rel_course_emails;\n",
    "# [[k,v] for k,v in course_email_dict.items() if 1024762 in v]\n",
    "# [p for p in pl_all_data if p['launch']=='Launch_6'][0]\n",
    "[p for p in pl_all_data if p['subscriber']==137632665]\n",
    "# pl_all_data[1]\n",
    "# get_purchase_probability(0.14,0.14)"
   ]
  },
  {
   "cell_type": "markdown",
   "metadata": {
    "hidden": true
   },
   "source": [
    "Store data"
   ]
  },
  {
   "cell_type": "code",
   "execution_count": null,
   "metadata": {
    "ExecuteTime": {
     "end_time": "2019-09-27T06:51:02.320645Z",
     "start_time": "2019-09-27T06:51:02.141314Z"
    },
    "hidden": true
   },
   "outputs": [],
   "source": [
    "# Write to csv\n",
    "import csv\n",
    "with open('/Users/nish/Local/Programming/convertkit_wrapper/quality_data.csv', 'w', newline='') as csvfile:\n",
    "    quality_writer = csv.writer(csvfile)\n",
    "    quality_writer.writerow(pl_all_data[0].keys())\n",
    "    for pl_item in pl_all_data:\n",
    "        quality_writer.writerow(pl_item.values())"
   ]
  },
  {
   "cell_type": "markdown",
   "metadata": {
    "hidden": true
   },
   "source": [
    "Troubleshooting"
   ]
  },
  {
   "cell_type": "code",
   "execution_count": null,
   "metadata": {
    "ExecuteTime": {
     "end_time": "2019-09-27T04:54:43.782932Z",
     "start_time": "2019-09-27T04:54:43.745586Z"
    },
    "hidden": true
   },
   "outputs": [],
   "source": [
    "list(launch_sub_quality_dict.values())[0]"
   ]
  },
  {
   "cell_type": "code",
   "execution_count": null,
   "metadata": {
    "ExecuteTime": {
     "end_time": "2019-09-27T04:55:02.105766Z",
     "start_time": "2019-09-27T04:55:02.062884Z"
    },
    "hidden": true
   },
   "outputs": [],
   "source": [
    "len(temp_all_info)"
   ]
  },
  {
   "cell_type": "code",
   "execution_count": null,
   "metadata": {
    "ExecuteTime": {
     "end_time": "2019-09-27T04:54:55.990125Z",
     "start_time": "2019-09-27T04:54:55.952063Z"
    },
    "hidden": true
   },
   "outputs": [],
   "source": [
    "temp_all_info = [a for b in launch_sub_quality_dict.values() for a in b.values()]"
   ]
  },
  {
   "cell_type": "code",
   "execution_count": null,
   "metadata": {
    "ExecuteTime": {
     "end_time": "2019-09-27T04:50:19.836201Z",
     "start_time": "2019-09-27T04:50:19.803005Z"
    },
    "hidden": true
   },
   "outputs": [],
   "source": [
    "launch_sub_quality_dict['Launch_6'][137389801]"
   ]
  },
  {
   "cell_type": "markdown",
   "metadata": {
    "heading_collapsed": true,
    "hidden": true
   },
   "source": [
    "###### Purchase likelihood based on course email actions"
   ]
  },
  {
   "cell_type": "code",
   "execution_count": null,
   "metadata": {
    "ExecuteTime": {
     "end_time": "2019-09-27T05:33:36.974001Z",
     "start_time": "2019-09-27T05:33:34.008198Z"
    },
    "hidden": true
   },
   "outputs": [],
   "source": [
    "# Go through each launch for each subscriber (launch_data)\n",
    "# Make datapoints: course_emails_opened, course_emails_clicked, purchase (all before the end of the launch)\n",
    "# Get the launch instances\n",
    "pl_launch_data = cursor.e('SELECT * FROM launch_data'); pl_launch_data[:3] # All the launches given to subs\n",
    "pl_data = []\n",
    "\n",
    "# for each one, get the emails that were for the launch\n",
    "for pl_launch_datum in pl_launch_data:\n",
    "\n",
    "# # Testing Code\n",
    "# for i in [1]:\n",
    "#     pl_launch_datum = {'subscriber_id': 531282421, \"launch\": 'Launch_5'}\n",
    "    \n",
    "    pl_sub_id = pl_launch_datum['subscriber_id']\n",
    "    pl_launch = pl_launch_datum['launch']\n",
    "    \n",
    "    if pl_launch in [\"Giveaway\", \"Unknown\"]: continue # These don't have good data\n",
    "    \n",
    "    # date of the end of the launch (+3 days)\n",
    "    pl_course_end_date = time_conv_1(launch_info_dict[pl_launch]['start']) +\\\n",
    "        timedelta(days=launch_info_dict[pl_launch]['duration'] + 3)\n",
    "    \n",
    "    # this subscriber's emails \n",
    "    pl_emails = emails_dict.get(pl_sub_id, [])\n",
    "\n",
    "    # Skip subscribers with no emails before the launch\n",
    "    if len([e for e in pl_emails if delivered_before(e, pl_course_end_date)]) == 0: continue\n",
    "\n",
    "    # Was there a purchase during this launch?\n",
    "    pl_purchase = next(iter([ True for p in purchases if pl_sub_id == p['subscriber_id'] and p['launch']==pl_launch]), False)\n",
    "    \n",
    "    # subscriber's email that are course launch emails\n",
    "    pl_course_emails = [e for e in pl_emails if e['email_id'] in course_email_dict[pl_launch]]\n",
    "    \n",
    "    # if subscriber didn't receive any course emails then handle special\n",
    "    if len([e for e in pl_course_emails if delivered_before(e, pl_course_end_date)]) == 0: \n",
    "        # if purchase, then add as a 1:1\n",
    "        if pl_purchase: \n",
    "            pl_data.append({\"subscriber\": pl_sub_id, \"launch\": pl_launch, \"open_rate\": 1, \"click_rate\": 1, \"purchase\": pl_purchase})\n",
    "        continue #regardless, continue\n",
    "    \n",
    "    \n",
    "    pl_course_opens = [opened_before(e, pl_course_end_date) for e in pl_course_emails]; pl_course_opens\n",
    "    pl_course_open_rate = round(sum(pl_course_opens)/len(pl_course_opens),2) if pl_course_opens else 0; pl_course_open_rate\n",
    "\n",
    "    pl_course_clicks = [clicked_before(e, pl_course_end_date) for e in pl_course_emails]; pl_course_clicks\n",
    "    pl_course_click_rate = round(sum(pl_course_clicks)/len(pl_course_clicks),2) if pl_course_clicks else 0; pl_course_click_rate\n",
    "    \n",
    "    pl_data.append({\n",
    "        \"subscriber\": pl_sub_id, \n",
    "        \"launch\": pl_launch, \n",
    "        \"open_rate\": pl_course_open_rate, \n",
    "        \"click_rate\": pl_course_click_rate, \n",
    "        \"purchase\": pl_purchase\n",
    "    })\n",
    "    \n",
    "    #Troubleshooting\n",
    "#     if pl_sub_id==137632869 and pl_launch=='Launch_5': pdb.set_trace()"
   ]
  },
  {
   "cell_type": "code",
   "execution_count": null,
   "metadata": {
    "hidden": true
   },
   "outputs": [],
   "source": [
    "# Remove the Launch 1 and Launch 2 and where we don't have purchase info, until I can get it"
   ]
  },
  {
   "cell_type": "code",
   "execution_count": null,
   "metadata": {
    "ExecuteTime": {
     "end_time": "2019-09-27T02:57:46.749579Z",
     "start_time": "2019-09-27T02:57:46.665340Z"
    },
    "hidden": true
   },
   "outputs": [],
   "source": [
    "# Who are the people that purchases who I don't have data for? This looks good\n",
    "temp = [p['subscriber'] for p in pl_data if p['purchase']==True]; temp\n",
    "[\n",
    "    p \n",
    "    for p in purchases \n",
    "        if p['subscriber_id'] not in temp \n",
    "        and p['subscriber_id'] \n",
    "        and p['launch'] not in ['Launch_1', 'Launch_2', 'Giveaway']\n",
    "        and p['subscriber_id'] > 20000\n",
    "]\n",
    "# [p for p in purchases if not p['subscriber_id']]"
   ]
  },
  {
   "cell_type": "code",
   "execution_count": null,
   "metadata": {
    "ExecuteTime": {
     "end_time": "2019-09-27T03:15:40.404175Z",
     "start_time": "2019-09-27T03:15:40.368791Z"
    },
    "hidden": true
   },
   "outputs": [],
   "source": [
    "sum([p['open_rate'] for p in pl_data])/len(pl_data)\n",
    "sum([p['open_rate'] for p in pl_data if p['purchase']])/len([p for p in pl_data if p['purchase']])\n",
    "[p['open_rate'] for p in pl_data if p['purchase']]"
   ]
  },
  {
   "cell_type": "code",
   "execution_count": null,
   "metadata": {
    "ExecuteTime": {
     "end_time": "2019-09-27T05:34:03.583215Z",
     "start_time": "2019-09-27T05:34:03.498918Z"
    },
    "hidden": true
   },
   "outputs": [],
   "source": [
    "# Write to csv\n",
    "import csv\n",
    "with open('/Users/nish/Local/Programming/convertkit_wrapper/purchase_estimate.csv', 'w', newline='') as csvfile:\n",
    "    quality_writer = csv.writer(csvfile)\n",
    "    quality_writer.writerow(list(pl_data[0].keys()))\n",
    "    for item in pl_data:\n",
    "        quality_writer.writerow(item.values())\n",
    "#     quality_writer.writerow(['Spam', 'Lovely Spam', 'Wonderful Spam'])"
   ]
  },
  {
   "cell_type": "markdown",
   "metadata": {
    "hidden": true
   },
   "source": [
    "RESULTS\n",
    "Based on this data I get the following:\n",
    "\n",
    "* -7.015457724 intercept\n",
    "* 2.199782226 * open_rate\n",
    "* 6.105238943 * click_rate"
   ]
  },
  {
   "cell_type": "code",
   "execution_count": null,
   "metadata": {
    "ExecuteTime": {
     "end_time": "2019-09-27T05:48:43.788409Z",
     "start_time": "2019-09-27T05:48:43.489229Z"
    },
    "hidden": true
   },
   "outputs": [],
   "source": [
    "def get_purchase_probability(open_rate, click_rate):\n",
    "    \"\"\"\n",
    "    Calculate the probability of purchase to help with a score for a subscriber\n",
    "    coefficients come from rstudio radiant and then it is truncated (min5) and normalized (/5)\n",
    "    6203 Class9 - Logistic Regression1\n",
    "    p(x) = \n",
    "    Would love for it to be more of a linear function in the future\n",
    "    \"\"\"\n",
    "    if open_rate>1 or open_rate<0 or click_rate>1 or click_rate<0: raise Exception('Rates must be between 0 and 1')\n",
    "#     return min(round(2.199782226 * open_rate + 6.105238943 * click_rate, 4), 5)/5\n",
    "    exp_thing = math.exp(2.199782226 * open_rate + 6.105238943 * click_rate - 7.015457724)\n",
    "    return exp_thing/(1+exp_thing)\n",
    "get_purchase_probability(1, 0.57)# 0.208\n",
    "pl_pp = [get_purchase_probability(p['open_rate'], p['click_rate']) for p in pl_data]\n",
    "plt.plot(sorted(pl_pp))"
   ]
  },
  {
   "cell_type": "markdown",
   "metadata": {
    "heading_collapsed": true,
    "hidden": true
   },
   "source": [
    "###### Email stuff"
   ]
  },
  {
   "cell_type": "code",
   "execution_count": null,
   "metadata": {
    "ExecuteTime": {
     "end_time": "2019-09-26T21:29:54.264459Z",
     "start_time": "2019-09-26T21:29:49.495499Z"
    },
    "hidden": true
   },
   "outputs": [],
   "source": [
    "# ce = 2208054\n",
    "all_emails = [a for b in emails_dict.values() for a in b]\n",
    "launch_info = cursor.e('SELECT * FROM launch_info ORDER BY launch DESC'); launch_info\n",
    "course_email_dict = {}\n",
    "for ce in course_email_ids:\n",
    "    email_dates = [a['deliver_date'] for a in all_emails if a['email_id']==ce]\n",
    "    email_launch = [l for l in launch_info if l['duration'] and  min(email_dates) > conv_time_1(l['start']) - timedelta(days=7) and max(email_dates) < conv_time_1(l['start']) + timedelta(days=l['duration']+7)]\n",
    "    email_launch_info = next(iter(email_launch), None)\n",
    "#     print(ce, time_dt_to_ck(min(email_dates)),\"to\",time_dt_to_ck(max(email_dates)), email_launch_info)\n",
    "    if email_launch_info: course_email_dict.setdefault(email_launch_info['launch'], []).append(ce)\n",
    "\n",
    "course_email_dict['Launch_3'].append(1024762)\n",
    "course_email_dict['Launch_3'].append(1033254)\n",
    "course_email_dict['Launch_3'].append(1024765)\n",
    "course_email_dict['Launch_3'].append(1024766)\n",
    "course_email_dict['Launch_3'].append(1024767)\n",
    "course_email_dict['Launch_3'].append(1024768)\n",
    "course_email_dict['Launch_3'].append(1024769)\n",
    "course_email_dict['Launch_3'].append(1088198)\n",
    "course_email_dict['Launch_3'].append(1088199)\n",
    "\n",
    "course_email_dict['Launch_5'].append(1866876)\n",
    "\n",
    "course_email_dict['Launch_6'].append(2208052)\n",
    "\n",
    "# Verify\n",
    "len([a for b in course_email_dict.values() for a in b]), len(set([a for b in course_email_dict.values() for a in b]))\n",
    "if len(set([a for b in course_email_dict.values() for a in b]) - set(course_email_ids)) != 0: raise Exception()\n",
    "print(course_email_dict)\n",
    "\n",
    "# min(email_dates)\n",
    "# email_launch = [l for l in launch_info if l['duration'] and  min(email_dates) > conv_time_1(l['start']) - timedelta(days=7) and max(email_dates) < conv_time_1(l['start']) + timedelta(days=l['duration']+7)]\n",
    "# print(time_dt_to_ck(min(email_dates)),\"to\",time_dt_to_ck(max(email_dates)), next(iter(email_launch),None))"
   ]
  },
  {
   "cell_type": "markdown",
   "metadata": {
    "heading_collapsed": true,
    "hidden": true
   },
   "source": [
    "###### Troubleshooting"
   ]
  },
  {
   "cell_type": "code",
   "execution_count": null,
   "metadata": {
    "ExecuteTime": {
     "end_time": "2019-09-26T15:51:13.725162Z",
     "start_time": "2019-09-26T15:51:13.451166Z"
    },
    "hidden": true
   },
   "outputs": [],
   "source": [
    "# Why do I have 5 missing people from purchases for Launch 2\n",
    "# [a for a in all_sub_data if a['id']==7984]\n",
    "\n",
    "# cursor.e('SELECT * FROM launch_data WHERE subscriber_id=137633795')\n",
    "launch= \"Launch_6\"#\"Evergreen_2\"#\"Launch_6\" #### Set the launch\n",
    "\n",
    "ref_date = time_conv_1(launch_info_dict[launch]['start']); print(f'Start of launch: {ref_date}')\n",
    "launch_duration = launch_info_dict[launch]['duration'] or sys.maxsize; print(f'Launch duration: {launch_duration}')\n",
    "\n",
    "purchases = cursor.e(f'SELECT * FROM purchase_data WHERE launch=\"{launch}\"')\n",
    "found_purchases = {k:l for k,l in launch_sub_quality_dict[launch].items() if l['purchase']}\n",
    "print(f'{len(purchases)}/{len(found_purchases)} purchases found mysql/list')\n",
    "\n",
    "mysql_l_d = set(c['subscriber_id'] for c in cursor.e(f'SELECT * FROM launch_data WHERE launch=\"{launch}\"')); mysql_l_d\n",
    "len(mysql_l_d), len(launch_sub_quality_dict[launch]), len(mysql_l_d - set(launch_sub_quality_dict[launch])), len(set(launch_sub_quality_dict[launch]) - mysql_l_d)"
   ]
  },
  {
   "cell_type": "code",
   "execution_count": null,
   "metadata": {
    "ExecuteTime": {
     "end_time": "2019-09-26T15:51:18.990090Z",
     "start_time": "2019-09-26T15:51:18.854671Z"
    },
    "hidden": true
   },
   "outputs": [],
   "source": [
    "mysql_l_d - set(launch_sub_quality_dict[launch]) # Have mysql launch, but didn't make it into "
   ]
  },
  {
   "cell_type": "code",
   "execution_count": null,
   "metadata": {
    "ExecuteTime": {
     "end_time": "2019-09-26T15:53:36.144588Z",
     "start_time": "2019-09-26T15:53:36.059905Z"
    },
    "hidden": true
   },
   "outputs": [],
   "source": [
    "# Missing, excessive purchases\n",
    "for p in purchases:\n",
    "    if p['subscriber_id'] in found_purchases or p['purchaser_id'] in found_purchases: continue\n",
    "    print('Didn\"t find purchase that is in MYSQL:')\n",
    "    print(p)\n",
    "for f in found_purchases:\n",
    "    if f in [p['subscriber_id'] for p in purchases]: continue\n",
    "    print('Found but shouldnt have')\n",
    "    print(f, found_purchases[f])\n",
    "# set([p['subscriber_id'] for p in purchases]) - set([f[0] for f in found_purchases])\n",
    "# set([f[0] for f in found_purchases]) - set([p['subscriber_id'] for p in purchases])"
   ]
  },
  {
   "cell_type": "code",
   "execution_count": null,
   "metadata": {
    "ExecuteTime": {
     "end_time": "2019-09-26T15:50:32.342647Z",
     "start_time": "2019-09-26T15:50:32.255830Z"
    },
    "hidden": true
   },
   "outputs": [],
   "source": [
    "# cursor.e('SELECT * FROM subscriber_data WHERE id=155418278') #sl14calloway@gmail.com\n",
    "# cursor.e('SELECT * FROM subscriber_data WHERE email_address=\"kttazure86@gmail.com\"')\n",
    "cursor.e('SELECT * FROM launch_data WHERE subscriber_id=156454359')\n",
    "# cursor.e('SELECT * FROM purchase_data WHERE purchaser_id=137664060')\n",
    "# cursor.e(f'SELECT * FROM purchase_data WHERE launch=\"Launch_1\"')\n",
    "# cursor.e('SELECT * FROM launch_info')\n",
    "# cursor.e('SELECT * FROM subscriber_data WHERE mailchimp_sub_date!=\"\" LIMIT 1')\n",
    "\n",
    "# cursor.e('DELETE FROM launch_data WHERE subscriber_id=155430525 AND launch=\"Launch_3\"')\n",
    "# cursor.e('UPDATE purchase_data SET launch=\"Launch_1\", purchase_date=\"2017-04-25\" WHERE subscriber_id=137664059')\n",
    "# cursor.e('UPDATE purchase_data SET subscriber_id=137633170, subscriber_email_address=\"kttazure86@gmail.com\" WHERE purchaser_id=155418278')\n",
    "# cursor.e('UPDATE subscriber_data SET mailchimp_sub_date=\"2017-07-19 04:08:51\", subscribe_date=\"2017-07-19\" WHERE id=137664062')\n",
    "# cursor.e('UPDATE subscriber_data SET `lead_opt-in`=\"MailChimp\", `lead_source`=\"MailChimp\" WHERE id=137664061')\n",
    "# cursor.e('INSERT INTO launch_data (subscriber_id, launch) VALUES (137633192, \"Launch_2\")')\n",
    "# conn.commit()"
   ]
  },
  {
   "cell_type": "code",
   "execution_count": null,
   "metadata": {
    "ExecuteTime": {
     "end_time": "2019-09-26T15:27:05.801047Z",
     "start_time": "2019-09-26T15:27:05.766126Z"
    },
    "hidden": true
   },
   "outputs": [],
   "source": [
    "# Why is the purchase not in the list?\n",
    "sub_id = 137632855\n",
    "# sub_data = next(iter([a for a in all_sub_data if a['id']==sub_id]), None)\n",
    "launch_sub_quality_dict[launch][sub_id]"
   ]
  },
  {
   "cell_type": "code",
   "execution_count": null,
   "metadata": {
    "ExecuteTime": {
     "end_time": "2019-09-26T15:52:14.855112Z",
     "start_time": "2019-09-26T15:52:14.749384Z"
    },
    "hidden": true
   },
   "outputs": [],
   "source": [
    "# Why was the subscriber ignored\n",
    "sub_id = 536486016\n",
    "sub_data = next(iter([a for a in all_sub_data if a['id']==sub_id]), None)\n",
    "subscription_length = (ref_date - datetime.strptime(sub_data['subscribe_date'], '%Y-%m-%d')).days if sub_data['subscribe_date'] else 0\n",
    "\n",
    "# possible code\n",
    "if not sub_id in launch_dict or not launch in launch_dict[sub_id]: print('launch_dict is the issue')\n",
    "if subscription_length <= -1 * launch_duration - 1: \n",
    "    print('subscription_length is the issue')\n",
    "    print(subscription_length, launch_duration)"
   ]
  },
  {
   "cell_type": "code",
   "execution_count": null,
   "metadata": {
    "ExecuteTime": {
     "end_time": "2019-09-26T13:31:58.642860Z",
     "start_time": "2019-09-26T13:31:58.607879Z"
    },
    "hidden": true
   },
   "outputs": [],
   "source": [
    "# Sub info?\n",
    "[a for a in all_sub_data if a['id']==sub_id]"
   ]
  },
  {
   "cell_type": "code",
   "execution_count": null,
   "metadata": {
    "ExecuteTime": {
     "end_time": "2019-09-26T14:02:08.594522Z",
     "start_time": "2019-09-26T14:02:08.388954Z"
    },
    "hidden": true
   },
   "outputs": [],
   "source": [
    "# Purchase?\n",
    "[p for p in purchases if p['subscriber_id']==sub_id]"
   ]
  },
  {
   "cell_type": "code",
   "execution_count": null,
   "metadata": {
    "ExecuteTime": {
     "end_time": "2019-09-26T14:06:47.154675Z",
     "start_time": "2019-09-26T14:06:47.033324Z"
    },
    "hidden": true
   },
   "outputs": [],
   "source": [
    "cursor.e('SELECT * FROM subscriber_data WHERE email_address=\"kristinba@gmail.com\n",
    "cursor.e('UPDATE purchase_data SET subscriber_email_address=\"kristinba@gmail.com\", subscriber_id=137633192 WHERE purchaser_id=137663975')\n",
    "cursor.e('SELECT * FROM purchase_data WHERE purchaser_id=137663975')"
   ]
  },
  {
   "cell_type": "markdown",
   "metadata": {
    "hidden": true
   },
   "source": [
    "MailChimp with no mailchimp date"
   ]
  },
  {
   "cell_type": "code",
   "execution_count": null,
   "metadata": {
    "ExecuteTime": {
     "end_time": "2019-09-26T14:13:38.313236Z",
     "start_time": "2019-09-26T14:13:38.118078Z"
    },
    "hidden": true
   },
   "outputs": [],
   "source": [
    "# cursor.e('SELECT * FROM launch_info')\n",
    "# cursor.e('SELECT * FROM subscriber_data WHERE mailchimp_sub_date!=\"\" LIMIT 1')\n",
    "# cursor.e('SELECT * FROM subscriber_data WHERE email_address=\"chad@chadbehnke.com\"')\n",
    "# cursor.e('UPDATE subscriber_data SET mailchimp_sub_date= \"2017-10-28 13:13:51\" WHERE email_address=\"emmaniemans@hotmail.com\"')\n",
    "# cursor.e('SELECT email_address FROM subscriber_data WHERE (`lead_opt-in`=\"MailChimp\" OR `lead_source`=\"MailChimp\") AND mailchimp_sub_date =\"\"')\n",
    "# conn.commit()"
   ]
  },
  {
   "cell_type": "markdown",
   "metadata": {
    "hidden": true
   },
   "source": [
    "Find the real email address for a purchaser"
   ]
  },
  {
   "cell_type": "code",
   "execution_count": null,
   "metadata": {
    "ExecuteTime": {
     "end_time": "2019-09-27T06:15:11.151627Z",
     "start_time": "2019-09-27T06:15:11.008832Z"
    },
    "hidden": true
   },
   "outputs": [],
   "source": [
    "year=2019; month=7; day=28\n",
    "[\n",
    "    [all_rds_dict[a['subscriber_id']]['email_address'], all_rds_dict[a['subscriber_id']]['id']] \n",
    "    for a in all_emails \n",
    "        if ((a['open_date'] and a['open_date'] > datetime(2019, 7, day) and a['open_date'] < datetime(2019, 7, day+1)) \n",
    "             or (a['click_date'] and a['click_date'] > datetime(2019, 7, day) and a['click_date'] < datetime(2019, 7, day+1)))\n",
    "        and all_rds_dict[a['subscriber_id']]['loc_state']=='Oregon'\n",
    "#         and 'damion' in all_rds_dict[a['subscriber_id']]['email_address']\n",
    "]"
   ]
  },
  {
   "cell_type": "markdown",
   "metadata": {
    "heading_collapsed": true,
    "hidden": true
   },
   "source": [
    "##### Analysis"
   ]
  },
  {
   "cell_type": "markdown",
   "metadata": {
    "heading_collapsed": true,
    "hidden": true
   },
   "source": [
    "###### Purchasers vs non-purchasers"
   ]
  },
  {
   "cell_type": "code",
   "execution_count": null,
   "metadata": {
    "hidden": true
   },
   "outputs": [],
   "source": [
    "# Need to compare a purchaser at the moment of purchase, versus non-purchasers at the same moment\n",
    "# For each launch, look at the purchasers and what their stats were like, versus what the non-purchasers were at that point\n",
    "# e.g.\n",
    "# Launch 1, \n",
    "# 40 purchasers, active ppl x% open-click-rec-open-rec-click-#optins-source\n",
    "#1800 non purchasers, active ppl x% open-click-rec-open-rec-click-#optins-source"
   ]
  },
  {
   "cell_type": "code",
   "execution_count": null,
   "metadata": {
    "ExecuteTime": {
     "end_time": "2019-09-27T04:50:53.874102Z",
     "start_time": "2019-09-27T04:50:53.756751Z"
    },
    "hidden": true
   },
   "outputs": [],
   "source": [
    "launch_info = cursor.e('SELECT * FROM launch_info'); launch_info\n",
    "# for launch in launch_info:\n",
    "\n",
    "if True: # Temp\n",
    "    launch = {'launch': 'Launch_6', 'start': '2019-07-17', 'duration': 12}\n",
    "    \n",
    "    launch_receivers = launch_sub_quality_dict[launch['launch']]\n",
    "    launch_purchasers = [{k:v} for k,v in launch_receivers.items() if v['purchase']]\n",
    "    \n",
    "    print(launch['launch'], launch['start'], \":\", len(launch_receivers), \"-\", len(launch_purchasers))\n",
    "    \n",
    "    # get the graphs on each metric for purchasers, launch receivers, and total\n",
    "    \n",
    "    # sorted graph of the metric from 0 to 100%, or histogram of the different optins"
   ]
  },
  {
   "cell_type": "code",
   "execution_count": null,
   "metadata": {
    "ExecuteTime": {
     "end_time": "2019-09-27T04:51:04.828292Z",
     "start_time": "2019-09-27T04:51:04.790459Z"
    },
    "hidden": true
   },
   "outputs": [],
   "source": [
    "sum([l['open_rate'] for l in list(launch_receivers.values())]) # 2815.1, 2753.27"
   ]
  },
  {
   "cell_type": "code",
   "execution_count": null,
   "metadata": {
    "ExecuteTime": {
     "end_time": "2019-09-26T17:29:01.317377Z",
     "start_time": "2019-09-26T17:29:01.126157Z"
    },
    "hidden": true
   },
   "outputs": [],
   "source": [
    "# list(launch_receivers.values())[0]\n",
    "summary = {}\n",
    "p_summary = {}\n",
    "for key in list(launch_receivers.values())[0].keys():\n",
    "#     print(key)\n",
    "    for sub in launch_receivers.values():\n",
    "        if key == 'subscription_length' and sub[key] <= 0: continue\n",
    "        summary.setdefault(key, []).append(sub[key])\n",
    "        \n",
    "    for sub in launch_receivers.values():\n",
    "        if not sub['purchase']: continue\n",
    "        if key == 'subscription_length' and sub[key] <= 0: continue\n",
    "        p_summary.setdefault(key, []).append(sub[key])"
   ]
  },
  {
   "cell_type": "code",
   "execution_count": null,
   "metadata": {
    "ExecuteTime": {
     "end_time": "2019-09-26T20:23:00.369678Z",
     "start_time": "2019-09-26T20:23:00.303282Z"
    },
    "hidden": true
   },
   "outputs": [],
   "source": [
    "# print(list(list(launch_receivers.values())[0].keys()))\n",
    "# launch_receivers[137389801]\n",
    "# email_data = emails_dict.get(137389801, []);email_data\n",
    "# opens = [e['opened'] for e in email_data if opened_before(e, ref_date)]; opens\n",
    "# opens = [opened_before(e, ref_date) for e in email_data if delivered_before(e, ref_date)]; opens\n",
    "# open_rate = round(sum(opens)/len(opens),2) if opens else 0; open_rate\n",
    "# [e for e in email_data if e['subscriber_id']==137389801]\n",
    "# email_data"
   ]
  },
  {
   "cell_type": "code",
   "execution_count": null,
   "metadata": {
    "ExecuteTime": {
     "end_time": "2019-09-27T04:52:18.524859Z",
     "start_time": "2019-09-27T04:52:18.418065Z"
    },
    "hidden": true
   },
   "outputs": [],
   "source": [
    "# Write to csv\n",
    "import csv\n",
    "with open('/Users/nish/Local/Programming/convertkit_wrapper/quality_data.csv', 'w', newline='') as csvfile:\n",
    "    quality_writer = csv.writer(csvfile)\n",
    "    quality_writer.writerow(list(list(launch_sub_quality_dict['Launch_6'].values())[0].keys()))\n",
    "    for launch in launch_info:\n",
    "        if launch['launch'] not in launch_sub_quality_dict: continue\n",
    "        for sub in launch_sub_quality_dict[launch['launch']].values():\n",
    "            quality_writer.writerow(sub.values())\n",
    "#     quality_writer.writerow(['Spam', 'Lovely Spam', 'Wonderful Spam'])"
   ]
  },
  {
   "cell_type": "code",
   "execution_count": null,
   "metadata": {
    "ExecuteTime": {
     "end_time": "2019-09-26T17:30:55.592055Z",
     "start_time": "2019-09-26T17:30:55.519414Z"
    },
    "hidden": true
   },
   "outputs": [],
   "source": [
    "metric = 'rec_click_rate'\n",
    "print(sum(summary[metric])/len(summary[metric]))\n",
    "print(sum(p_summary[metric])/len(p_summary[metric]))"
   ]
  },
  {
   "cell_type": "code",
   "execution_count": null,
   "metadata": {
    "ExecuteTime": {
     "end_time": "2019-09-25T20:23:40.694154Z",
     "start_time": "2019-09-25T20:23:40.597483Z"
    },
    "hidden": true
   },
   "outputs": [],
   "source": [
    "# Counter([s['optin'] for s in sub_qualities.values() if s['purchase']]), Counter([s['optin'] for s in sub_qualities.values() if not s['purchase']])\n",
    "col = 'launches'\n",
    "pd = [s[col] for s in sub_qualities.values() if s['purchase']]\n",
    "npd = [s[col] for s in sub_qualities.values() if not s['purchase']]\n",
    "\n",
    "sum(pd)/len(pd), sum(npd)/len(npd)"
   ]
  },
  {
   "cell_type": "code",
   "execution_count": null,
   "metadata": {
    "hidden": true
   },
   "outputs": [],
   "source": []
  },
  {
   "cell_type": "code",
   "execution_count": null,
   "metadata": {
    "hidden": true
   },
   "outputs": [],
   "source": []
  },
  {
   "cell_type": "markdown",
   "metadata": {
    "heading_collapsed": true,
    "hidden": true
   },
   "source": [
    "###### Visualize"
   ]
  },
  {
   "cell_type": "code",
   "execution_count": null,
   "metadata": {
    "ExecuteTime": {
     "end_time": "2019-09-09T23:26:43.234284Z",
     "start_time": "2019-09-09T23:26:43.165361Z"
    },
    "hidden": true
   },
   "outputs": [],
   "source": [
    "var = [\n",
    "    v['open_rate'] # Data to choose\n",
    "    for v in sub_qualities.values() \n",
    "    if True # If Statement item\n",
    "#        and v['state'] == \"active\" \n",
    "#        and v['optin'] == \"Style Mini-course\" \n",
    "       and v['purchase']\n",
    "       and v['subscription_length'] > 14\n",
    "]; len(var)"
   ]
  },
  {
   "cell_type": "code",
   "execution_count": null,
   "metadata": {
    "hidden": true
   },
   "outputs": [],
   "source": [
    "course_open_rates = sorted([[v['subscription_length'], v['course_open_rate']] for v in sub_qualities.values() if v['state']==\"active\"], reverse=True)"
   ]
  },
  {
   "cell_type": "code",
   "execution_count": null,
   "metadata": {
    "ExecuteTime": {
     "end_time": "2019-09-09T23:19:35.030405Z",
     "start_time": "2019-09-09T23:19:34.959418Z"
    },
    "hidden": true
   },
   "outputs": [],
   "source": [
    "var = [[v['subscription_length'], v['open_rate']] for v in sub_qualities.values() if v['state']==\"active\"]\n",
    "var = [[v['subscription_length'], v['open_rate']] for v in sub_qualities.values() if v['state']==\"active\"]"
   ]
  },
  {
   "cell_type": "code",
   "execution_count": null,
   "metadata": {
    "ExecuteTime": {
     "end_time": "2019-09-09T23:26:28.605980Z",
     "start_time": "2019-09-09T23:26:28.435382Z"
    },
    "hidden": true
   },
   "outputs": [],
   "source": [
    "# Sorted graph for single variables\n",
    "temp = sorted(var, reverse=True)\n",
    "plt.plot(temp)\n",
    "\n",
    "# # x vs y graph \n",
    "# plt.plot([o[0] for o in var], [o[1] for o in var])"
   ]
  },
  {
   "cell_type": "markdown",
   "metadata": {
    "heading_collapsed": true,
    "hidden": true
   },
   "source": [
    "##### Course launch emails info"
   ]
  },
  {
   "cell_type": "code",
   "execution_count": null,
   "metadata": {
    "ExecuteTime": {
     "end_time": "2019-09-09T21:35:08.279819Z",
     "start_time": "2019-09-09T21:35:08.245931Z"
    },
    "hidden": true
   },
   "outputs": [],
   "source": [
    "course_email_ids = [1024762, 1033254, 1024765, 1024766, 1024767, 1024768, 1024769, 1088185, 1088196, 1088197, 1088198, 1088199, 1088200, 1191656, 1191657, 1191658, 1191659, 1191660, 1191661, 1191662, 1313872, 1314658, 1313641, 1313860, 1313861, 1313863, 1866878, 1866873, 1866874, 1866875, 1866876, 1866877, 1866879, 2014727, 2014728, 2014729, 2014730, 2016262, 2014731, 2014732, 2014743, 2014744, 2014745, 2014746, 2177600, 2177601, 2177602, 2177603, 2177604, 2177605, 2177606, 2208048, 2208049, 2208050, 2208051, 2208052, 2208053, 2208054]"
   ]
  },
  {
   "cell_type": "code",
   "execution_count": null,
   "metadata": {
    "hidden": true
   },
   "outputs": [],
   "source": [
    "Course launches\n",
    "136568\n",
    "1024762\n",
    "1033254\n",
    "1024765\n",
    "1024766\n",
    "1024767\n",
    "1024768\n",
    "1024769\n",
    "\n",
    "152853\n",
    "1088185\n",
    "1088196\n",
    "1088197\n",
    "1088198\n",
    "1088199\n",
    "1088200\n",
    "\n",
    "177772\n",
    "1191656\n",
    "1191657\n",
    "1191658\n",
    "1191659\n",
    "1191660\n",
    "1191661\n",
    "1191662\n",
    "\n",
    "206900\n",
    "1313872\n",
    "1314658\n",
    "1313641\n",
    "1313860\n",
    "1313861\n",
    "1313863\n",
    "\n",
    "337851\n",
    "1866878\n",
    "1866873\n",
    "1866874\n",
    "1866875\n",
    "1866876\n",
    "1866877\n",
    "1866879\n",
    "\n",
    "375580\n",
    "2014727\n",
    "2014728\n",
    "2014729\n",
    "2014730\n",
    "2016262\n",
    "2014731\n",
    "2014732\n",
    "2014743\n",
    "2014744\n",
    "2014745\n",
    "2014746\n",
    "\n",
    "415025\n",
    "2177600\n",
    "2177601\n",
    "2177602\n",
    "2177603\n",
    "2177604\n",
    "2177605\n",
    "2177606\n",
    "\n",
    "416959\n",
    "2208048\n",
    "2208049\n",
    "2208050\n",
    "2208051\n",
    "2208052\n",
    "2208053\n",
    "2208054"
   ]
  },
  {
   "cell_type": "markdown",
   "metadata": {
    "heading_collapsed": true
   },
   "source": [
    "#### Lookalike Creation"
   ]
  },
  {
   "cell_type": "markdown",
   "metadata": {
    "heading_collapsed": true,
    "hidden": true
   },
   "source": [
    "##### All Subscribers"
   ]
  },
  {
   "cell_type": "code",
   "execution_count": 9,
   "metadata": {
    "ExecuteTime": {
     "end_time": "2020-03-06T15:31:36.854723Z",
     "start_time": "2020-03-06T15:31:35.731519Z"
    },
    "hidden": true
   },
   "outputs": [],
   "source": [
    "# All US&CA people who are active\n",
    "# Get the list of subscribers\n",
    "all_rds_list = cursor.e('SELECT * FROM subscriber_data'); \n",
    "all_rds_dict = {a['id']: a for a in all_rds_list}"
   ]
  },
  {
   "cell_type": "code",
   "execution_count": 10,
   "metadata": {
    "ExecuteTime": {
     "end_time": "2020-03-06T15:31:39.531249Z",
     "start_time": "2020-03-06T15:31:39.491109Z"
    },
    "hidden": true
   },
   "outputs": [
    {
     "data": {
      "text/plain": [
       "10879"
      ]
     },
     "execution_count": 10,
     "metadata": {},
     "output_type": "execute_result"
    }
   ],
   "source": [
    "# narrow down by people who are from US and CA\n",
    "# countries = ['United States of America', 'Canada']; # set([a['loc_country'] for a in all_rds_list])\n",
    "# subscribers = [a for a in all_rds_list if a['loc_country'] in countries and a['state'] == 'inactive']\n",
    "\n",
    "subscribers = [a for a in all_rds_list if a['state'] == 'active']; len(subscribers)"
   ]
  },
  {
   "cell_type": "code",
   "execution_count": 18,
   "metadata": {
    "ExecuteTime": {
     "end_time": "2020-03-06T15:34:37.436833Z",
     "start_time": "2020-03-06T15:34:37.372591Z"
    },
    "collapsed": true,
    "hidden": true
   },
   "outputs": [
    {
     "data": {
      "text/plain": [
       "(10879,\n",
       " {'id': 137074446,\n",
       "  'state': 'active',\n",
       "  'first_name': None,\n",
       "  'email_address': 'sguinnie@hotmail.com',\n",
       "  'created_at': '2017-10-01T08:08:17.000Z',\n",
       "  'fb_audience_source': None,\n",
       "  'loc_city': 'Kuala Lumpur',\n",
       "  'loc_state': 'Kuala Lumpur',\n",
       "  'loc_country': 'Malaysia',\n",
       "  'loc_lat': Decimal('3.139'),\n",
       "  'loc_lng': Decimal('101.687'),\n",
       "  'lead_opt-in': 'Tools',\n",
       "  'lead_source': 'MCS Page',\n",
       "  'mailchimp_sub_date': '2017-10-01 04:08:51',\n",
       "  'stsbc_evg_launch_deadline': None,\n",
       "  'subscribe_date': '2017-10-01',\n",
       "  'unsubscribe_date': None,\n",
       "  'other_email_address': None,\n",
       "  'fb_ad': None,\n",
       "  'fb_ad_set': None,\n",
       "  'fb_campaign': None,\n",
       "  'lead_form': None,\n",
       "  'stsbc_subscriber_id': None,\n",
       "  'studiomates_evg_launch_deadline': None,\n",
       "  'value': 297})"
      ]
     },
     "execution_count": 18,
     "metadata": {},
     "output_type": "execute_result"
    }
   ],
   "source": [
    "# Add purchase data\n",
    "d = lambda pur: datetime.strptime(pur, '%Y-%m-%d') # Date conversion\n",
    "# purchases = cursor.e(\"SELECT * FROM purchase_data\") # Get all purchases\n",
    "# purchases = [{'purchase_date': d(p['purchase_date']) if p['purchase_date'] else None, **p} for p in purchases]\n",
    "# purchasers = [p['subscriber_id'] for p in purchases] + [p['purchaser_id'] for p in purchases]; len(purchasers)\n",
    "# Using all_purchasers_set from below\n",
    "\n",
    "# Add to the subscribers_data\n",
    "subscribers = [{**s, 'value': 297 if s['email_address'] in all_purchasers_set else 5} for s in subscribers]; len(subscribers),subscribers[0]\n",
    "\n",
    "# Only get purchasers\n",
    "# subscribers = [s for s in subscribers if s['id'] in purchasers]; len(subscribers), subscribers[0]"
   ]
  },
  {
   "cell_type": "code",
   "execution_count": 19,
   "metadata": {
    "ExecuteTime": {
     "end_time": "2020-03-06T15:34:40.519156Z",
     "start_time": "2020-03-06T15:34:40.485115Z"
    },
    "hidden": true
   },
   "outputs": [
    {
     "data": {
      "text/plain": [
       "(139951, 10879)"
      ]
     },
     "execution_count": 19,
     "metadata": {},
     "output_type": "execute_result"
    }
   ],
   "source": [
    "# Gut check\n",
    "total_value = sum([s['value'] for s in subscribers]); total_value, len(subscribers)"
   ]
  },
  {
   "cell_type": "code",
   "execution_count": 20,
   "metadata": {
    "ExecuteTime": {
     "end_time": "2020-03-06T15:34:45.884514Z",
     "start_time": "2020-03-06T15:34:45.804264Z"
    },
    "hidden": true
   },
   "outputs": [],
   "source": [
    "# Make into a csv with \n",
    "# header = ['email', 'fn', 'city', 'state', 'country', 'value']\n",
    "# data= [[s['email_address'], s['first_name'], s['loc_city'], s['loc_state'], s['loc_country'], s['value']] for s in subscribers]\n",
    "\n",
    "header = ['email', 'fn', 'value']\n",
    "data= [[s['email_address'], s['first_name'], s['value']] for s in subscribers]\n",
    "df = pd.DataFrame(data, columns=header)\n",
    "# df.to_csv('/Users/nish/Local/Documents/FB Ads/lookalikes/us_ca_active_with_ltv.csv', index=False)\n",
    "df.to_csv('subscriber_value.csv', index=False)"
   ]
  },
  {
   "cell_type": "markdown",
   "metadata": {
    "heading_collapsed": true,
    "hidden": true
   },
   "source": [
    "##### Purchasers"
   ]
  },
  {
   "cell_type": "code",
   "execution_count": 4,
   "metadata": {
    "ExecuteTime": {
     "end_time": "2020-03-06T15:22:43.444391Z",
     "start_time": "2020-03-06T15:22:42.622435Z"
    },
    "hidden": true
   },
   "outputs": [
    {
     "data": {
      "text/plain": [
       "332"
      ]
     },
     "execution_count": 4,
     "metadata": {},
     "output_type": "execute_result"
    }
   ],
   "source": [
    "stsbc_purchasers = set(a for c in cursor.e('SELECT * FROM purchase_data') for a in (c['subscriber_email_address'], c['purchaser_email_address']) if a)\n",
    "all_purchasers = set(p['email_address'] for p in get_api_data(CK_Api.PURCHASE_LIST, None))\n",
    "complete_registrations = set(g['subscriber']['email_address'] for g in get_api_data(CK_Api.TAG_SUBS,1317473))\n",
    "all_purchasers_set = all_purchasers.union(stsbc_purchasers).union(complete_registrations)\n",
    "len(all_purchasers_set)\n"
   ]
  },
  {
   "cell_type": "code",
   "execution_count": 8,
   "metadata": {
    "ExecuteTime": {
     "end_time": "2020-03-06T15:27:10.450879Z",
     "start_time": "2020-03-06T15:27:10.303578Z"
    },
    "hidden": true
   },
   "outputs": [],
   "source": [
    "import csv\n",
    "with open('purchasers.csv', 'w', newline='') as csvfile:\n",
    "    writer = csv.writer(csvfile, delimiter=' ',\n",
    "                            quotechar='|', quoting=csv.QUOTE_MINIMAL)\n",
    "    writer.writerow(['email'])\n",
    "    for email in all_purchasers_set:\n",
    "        writer.writerow([email])\n"
   ]
  },
  {
   "cell_type": "markdown",
   "metadata": {
    "heading_collapsed": true,
    "hidden": true
   },
   "source": [
    "##### Inactive Subscribers"
   ]
  },
  {
   "cell_type": "code",
   "execution_count": 22,
   "metadata": {
    "ExecuteTime": {
     "end_time": "2020-03-06T15:40:05.899581Z",
     "start_time": "2020-03-06T15:40:05.769299Z"
    },
    "hidden": true
   },
   "outputs": [],
   "source": [
    "inactives = [a for a in all_rds_list if a['state'] == 'inactive']; len(inactives)\n",
    "header = ['email', 'fn']\n",
    "inactives_data = [[s['email_address'], s['first_name']] for s in inactives]\n",
    "inactive_df = pd.DataFrame(inactives_data, columns=header)\n",
    "inactive_df.to_csv('inactive_subscribers.csv', index=False)"
   ]
  },
  {
   "cell_type": "markdown",
   "metadata": {
    "heading_collapsed": true
   },
   "source": [
    "#### Email Open Times"
   ]
  },
  {
   "cell_type": "code",
   "execution_count": null,
   "metadata": {
    "ExecuteTime": {
     "end_time": "2019-11-12T21:27:21.987413Z",
     "start_time": "2019-11-12T21:26:48.328350Z"
    },
    "hidden": true
   },
   "outputs": [],
   "source": [
    "# Example Usage\n",
    "urls = ['https://app.convertkit.com/?subscribable_ids=881005&subscribable_type=List']\n",
    "async_session = trio.run(get_async_ck_session, 20)\n",
    "trio.run(scrape_subscribers_from_urls_executor_async, urls, async_session)"
   ]
  },
  {
   "cell_type": "code",
   "execution_count": null,
   "metadata": {
    "hidden": true
   },
   "outputs": [],
   "source": [
    "url = \n",
    "async_session = trio.run(get_async_ck_session, 20)\n",
    "nursery, results, spawn_children=False\n",
    "\n",
    "# Creating a session with Convertkit app (not API)\n",
    "if not async_session: raise Exception('Must provide async_session');\n",
    "\n",
    "# Scrape the location data\n",
    "sub_result = await async_session.get(url, headers = dict(referer = url))\n",
    "try:\n",
    "        if sub_result.status_code!=200: raise ConnectionError(sub_result, sub_id)\n",
    "        soup = bs4.BeautifulSoup(sub_result.text, 'html.parser')\n",
    "        if spawn_children:\n",
    "                total_pages = extract_totalpages_from_soup(soup)\n",
    "                for child_page in range(2, total_pages + 1):\n",
    "                        nursery.start_soon(scrape_subscribers_from_all_pages_of_url_async, url+f\"&page={child_page}\", async_session, nursery, results, False)\n",
    "        new_subs = extract_subscribers_from_soup(soup)\n",
    "except ConnectionError as c:\n",
    "        new_subs = []\n",
    "        print(f'Error on sub_id {sub_id}')\n",
    "results += list(new_subs.values())"
   ]
  },
  {
   "cell_type": "code",
   "execution_count": null,
   "metadata": {
    "hidden": true
   },
   "outputs": [],
   "source": [
    "scrape_subscribers_from_all_pages_of_url_async"
   ]
  },
  {
   "cell_type": "code",
   "execution_count": null,
   "metadata": {
    "ExecuteTime": {
     "end_time": "2019-11-12T21:21:08.290302Z",
     "start_time": "2019-11-12T21:21:08.247642Z"
    },
    "hidden": true
   },
   "outputs": [],
   "source": [
    "async def scrape_subscribers_from_all_pages_of_url_async(url, async_session, nursery, results, spawn_children=False):\n",
    "        \"\"\"\n",
    "        Scrapes subscriber from all pages of a url (e.g. https://app.convertkit.com/?subscribable_ids=115089&subscribable_type=List)\n",
    "\n",
    "        Parameters\n",
    "        ==========\n",
    "        spawn_children (bool): if this is the first call and we don't know how many total pages there are, then this is true and we spawn children for each page in total_pages\n",
    "        \n",
    "        Returns\n",
    "        =======\n",
    "        List of subscribers (dict)\n",
    "        \"\"\"\n",
    "\n",
    "        # Creating a session with Convertkit app (not API)\n",
    "        if not async_session: raise Exception('Must provide async_session');\n",
    "\n",
    "        # Scrape the location data\n",
    "        sub_result = await async_session.get(url, headers = dict(referer = url))\n",
    "        try:\n",
    "                if sub_result.status_code!=200: raise ConnectionError(sub_result, sub_id)\n",
    "                soup = bs4.BeautifulSoup(sub_result.text, 'html.parser')\n",
    "                if spawn_children:\n",
    "                        total_pages = extract_totalpages_from_soup(soup)\n",
    "                        for child_page in range(2, total_pages + 1):\n",
    "                                nursery.start_soon(scrape_subscribers_from_all_pages_of_url_async, url+f\"&page={child_page}\", async_session, nursery, results, False)\n",
    "                new_subs = extract_subscribers_from_soup(soup)\n",
    "        except ConnectionError as c:\n",
    "                new_subs = []\n",
    "                print(f'Error on sub_id {sub_id}')\n",
    "        results += list(new_subs.values())"
   ]
  },
  {
   "cell_type": "code",
   "execution_count": null,
   "metadata": {
    "hidden": true
   },
   "outputs": [],
   "source": [
    "# Pull in all the times and subscribers from convertkit via async\n",
    "    # \n",
    "# graph them to see peak open times vs email send time"
   ]
  },
  {
   "cell_type": "markdown",
   "metadata": {
    "heading_collapsed": true
   },
   "source": [
    "#### Temp"
   ]
  },
  {
   "cell_type": "code",
   "execution_count": null,
   "metadata": {
    "ExecuteTime": {
     "end_time": "2019-08-07T15:46:55.189956Z",
     "start_time": "2019-08-07T15:46:55.057423Z"
    },
    "hidden": true
   },
   "outputs": [],
   "source": [
    "# cursor.e('SELECT * FROM purchase_data WHERE launch=\"Giveaway\"')\n",
    "# cursor.e('UPDATE purchase_data SET purchase_value=0 WHERE launch=\"Giveaway\"')\n",
    "# cursor.e('UPDATE IGNORE launch_data SET launch=\"Giveaway\" WHERE launch=\"Unknown\"')"
   ]
  },
  {
   "cell_type": "code",
   "execution_count": null,
   "metadata": {
    "ExecuteTime": {
     "end_time": "2019-08-07T15:48:06.069904Z",
     "start_time": "2019-08-07T15:48:04.431964Z"
    },
    "hidden": true
   },
   "outputs": [],
   "source": [
    "sql_stmt = \"\"\"\\\n",
    "SELECT *\n",
    "FROM launch_data l \n",
    "LEFT JOIN subscriber_data s ON l.subscriber_id=s.id\n",
    "LEFT JOIN purchase_data p ON l.subscriber_id=COALESCE(p.subscriber_id, p.purchaser_id) AND l.launch=p.launch\n",
    "\"\"\"\n",
    "launch_results = cursor.e(sql_stmt);"
   ]
  },
  {
   "cell_type": "code",
   "execution_count": null,
   "metadata": {
    "ExecuteTime": {
     "end_time": "2019-08-07T15:48:18.958274Z",
     "start_time": "2019-08-07T15:48:18.915879Z"
    },
    "hidden": true
   },
   "outputs": [],
   "source": [
    "len(launch_results)\n",
    "launch_results[0].keys()\n",
    "launch_purchases = [l for l in launch_results if l['p.launch']]; len(launch_purchases)\n",
    "# launch_purchases"
   ]
  },
  {
   "cell_type": "code",
   "execution_count": null,
   "metadata": {
    "ExecuteTime": {
     "end_time": "2019-08-07T15:48:26.330614Z",
     "start_time": "2019-08-07T15:48:26.242834Z"
    },
    "hidden": true
   },
   "outputs": [],
   "source": [
    "true_purchases = cursor.e('SELECT * FROM purchase_data'); len(true_purchases)"
   ]
  },
  {
   "cell_type": "markdown",
   "metadata": {},
   "source": [
    "### Other"
   ]
  }
 ],
 "metadata": {
  "kernelspec": {
   "display_name": "Python 3.7",
   "language": "python",
   "name": "py37"
  },
  "language_info": {
   "codemirror_mode": {
    "name": "ipython",
    "version": 3
   },
   "file_extension": ".py",
   "mimetype": "text/x-python",
   "name": "python",
   "nbconvert_exporter": "python",
   "pygments_lexer": "ipython3",
   "version": "3.7.3"
  },
  "varInspector": {
   "cols": {
    "lenName": 16,
    "lenType": 16,
    "lenVar": 40
   },
   "kernels_config": {
    "python": {
     "delete_cmd_postfix": "",
     "delete_cmd_prefix": "del ",
     "library": "var_list.py",
     "varRefreshCmd": "print(var_dic_list())"
    },
    "r": {
     "delete_cmd_postfix": ") ",
     "delete_cmd_prefix": "rm(",
     "library": "var_list.r",
     "varRefreshCmd": "cat(var_dic_list()) "
    }
   },
   "types_to_exclude": [
    "module",
    "function",
    "builtin_function_or_method",
    "instance",
    "_Feature"
   ],
   "window_display": false
  }
 },
 "nbformat": 4,
 "nbformat_minor": 2
}
